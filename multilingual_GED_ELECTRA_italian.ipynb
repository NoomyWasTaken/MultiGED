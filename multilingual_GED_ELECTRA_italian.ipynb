{
  "nbformat": 4,
  "nbformat_minor": 0,
  "metadata": {
    "colab": {
      "provenance": [],
      "machine_shape": "hm"
    },
    "kernelspec": {
      "name": "python3",
      "display_name": "Python 3"
    },
    "language_info": {
      "name": "python"
    },
    "accelerator": "GPU",
    "gpuClass": "standard",
    "widgets": {
      "application/vnd.jupyter.widget-state+json": {
        "53ab64b04dd6496c89bee7e8a16e39ca": {
          "model_module": "@jupyter-widgets/controls",
          "model_name": "HBoxModel",
          "model_module_version": "1.5.0",
          "state": {
            "_dom_classes": [],
            "_model_module": "@jupyter-widgets/controls",
            "_model_module_version": "1.5.0",
            "_model_name": "HBoxModel",
            "_view_count": null,
            "_view_module": "@jupyter-widgets/controls",
            "_view_module_version": "1.5.0",
            "_view_name": "HBoxView",
            "box_style": "",
            "children": [
              "IPY_MODEL_20f9599429914714b2b60c926d964350",
              "IPY_MODEL_5222d5ae5b0f4f8caa77f431ef5205e5",
              "IPY_MODEL_677dcb2c08ef4849b68ce4224b08b2ef"
            ],
            "layout": "IPY_MODEL_276e644075b346ad93295753cdd8c3ba"
          }
        },
        "20f9599429914714b2b60c926d964350": {
          "model_module": "@jupyter-widgets/controls",
          "model_name": "HTMLModel",
          "model_module_version": "1.5.0",
          "state": {
            "_dom_classes": [],
            "_model_module": "@jupyter-widgets/controls",
            "_model_module_version": "1.5.0",
            "_model_name": "HTMLModel",
            "_view_count": null,
            "_view_module": "@jupyter-widgets/controls",
            "_view_module_version": "1.5.0",
            "_view_name": "HTMLView",
            "description": "",
            "description_tooltip": null,
            "layout": "IPY_MODEL_ecaa0055bab6498aa88477fc98c90b95",
            "placeholder": "​",
            "style": "IPY_MODEL_ddb981f6f82d483b8bc7f10686fa5b49",
            "value": "Map:  78%"
          }
        },
        "5222d5ae5b0f4f8caa77f431ef5205e5": {
          "model_module": "@jupyter-widgets/controls",
          "model_name": "FloatProgressModel",
          "model_module_version": "1.5.0",
          "state": {
            "_dom_classes": [],
            "_model_module": "@jupyter-widgets/controls",
            "_model_module_version": "1.5.0",
            "_model_name": "FloatProgressModel",
            "_view_count": null,
            "_view_module": "@jupyter-widgets/controls",
            "_view_module_version": "1.5.0",
            "_view_name": "ProgressView",
            "bar_style": "",
            "description": "",
            "description_tooltip": null,
            "layout": "IPY_MODEL_3ef0747f170a447aba03d67714c17e5f",
            "max": 5115,
            "min": 0,
            "orientation": "horizontal",
            "style": "IPY_MODEL_b2b42f4f86e04309bf3e944ba73b31b8",
            "value": 5115
          }
        },
        "677dcb2c08ef4849b68ce4224b08b2ef": {
          "model_module": "@jupyter-widgets/controls",
          "model_name": "HTMLModel",
          "model_module_version": "1.5.0",
          "state": {
            "_dom_classes": [],
            "_model_module": "@jupyter-widgets/controls",
            "_model_module_version": "1.5.0",
            "_model_name": "HTMLModel",
            "_view_count": null,
            "_view_module": "@jupyter-widgets/controls",
            "_view_module_version": "1.5.0",
            "_view_name": "HTMLView",
            "description": "",
            "description_tooltip": null,
            "layout": "IPY_MODEL_32688a84e6cd4f07a21a38375a1b3667",
            "placeholder": "​",
            "style": "IPY_MODEL_f0124354bd5748ffa0ea1bab76b0f5be",
            "value": " 4000/5115 [00:00&lt;00:00, 11914.30 examples/s]"
          }
        },
        "276e644075b346ad93295753cdd8c3ba": {
          "model_module": "@jupyter-widgets/base",
          "model_name": "LayoutModel",
          "model_module_version": "1.2.0",
          "state": {
            "_model_module": "@jupyter-widgets/base",
            "_model_module_version": "1.2.0",
            "_model_name": "LayoutModel",
            "_view_count": null,
            "_view_module": "@jupyter-widgets/base",
            "_view_module_version": "1.2.0",
            "_view_name": "LayoutView",
            "align_content": null,
            "align_items": null,
            "align_self": null,
            "border": null,
            "bottom": null,
            "display": null,
            "flex": null,
            "flex_flow": null,
            "grid_area": null,
            "grid_auto_columns": null,
            "grid_auto_flow": null,
            "grid_auto_rows": null,
            "grid_column": null,
            "grid_gap": null,
            "grid_row": null,
            "grid_template_areas": null,
            "grid_template_columns": null,
            "grid_template_rows": null,
            "height": null,
            "justify_content": null,
            "justify_items": null,
            "left": null,
            "margin": null,
            "max_height": null,
            "max_width": null,
            "min_height": null,
            "min_width": null,
            "object_fit": null,
            "object_position": null,
            "order": null,
            "overflow": null,
            "overflow_x": null,
            "overflow_y": null,
            "padding": null,
            "right": null,
            "top": null,
            "visibility": "hidden",
            "width": null
          }
        },
        "ecaa0055bab6498aa88477fc98c90b95": {
          "model_module": "@jupyter-widgets/base",
          "model_name": "LayoutModel",
          "model_module_version": "1.2.0",
          "state": {
            "_model_module": "@jupyter-widgets/base",
            "_model_module_version": "1.2.0",
            "_model_name": "LayoutModel",
            "_view_count": null,
            "_view_module": "@jupyter-widgets/base",
            "_view_module_version": "1.2.0",
            "_view_name": "LayoutView",
            "align_content": null,
            "align_items": null,
            "align_self": null,
            "border": null,
            "bottom": null,
            "display": null,
            "flex": null,
            "flex_flow": null,
            "grid_area": null,
            "grid_auto_columns": null,
            "grid_auto_flow": null,
            "grid_auto_rows": null,
            "grid_column": null,
            "grid_gap": null,
            "grid_row": null,
            "grid_template_areas": null,
            "grid_template_columns": null,
            "grid_template_rows": null,
            "height": null,
            "justify_content": null,
            "justify_items": null,
            "left": null,
            "margin": null,
            "max_height": null,
            "max_width": null,
            "min_height": null,
            "min_width": null,
            "object_fit": null,
            "object_position": null,
            "order": null,
            "overflow": null,
            "overflow_x": null,
            "overflow_y": null,
            "padding": null,
            "right": null,
            "top": null,
            "visibility": null,
            "width": null
          }
        },
        "ddb981f6f82d483b8bc7f10686fa5b49": {
          "model_module": "@jupyter-widgets/controls",
          "model_name": "DescriptionStyleModel",
          "model_module_version": "1.5.0",
          "state": {
            "_model_module": "@jupyter-widgets/controls",
            "_model_module_version": "1.5.0",
            "_model_name": "DescriptionStyleModel",
            "_view_count": null,
            "_view_module": "@jupyter-widgets/base",
            "_view_module_version": "1.2.0",
            "_view_name": "StyleView",
            "description_width": ""
          }
        },
        "3ef0747f170a447aba03d67714c17e5f": {
          "model_module": "@jupyter-widgets/base",
          "model_name": "LayoutModel",
          "model_module_version": "1.2.0",
          "state": {
            "_model_module": "@jupyter-widgets/base",
            "_model_module_version": "1.2.0",
            "_model_name": "LayoutModel",
            "_view_count": null,
            "_view_module": "@jupyter-widgets/base",
            "_view_module_version": "1.2.0",
            "_view_name": "LayoutView",
            "align_content": null,
            "align_items": null,
            "align_self": null,
            "border": null,
            "bottom": null,
            "display": null,
            "flex": null,
            "flex_flow": null,
            "grid_area": null,
            "grid_auto_columns": null,
            "grid_auto_flow": null,
            "grid_auto_rows": null,
            "grid_column": null,
            "grid_gap": null,
            "grid_row": null,
            "grid_template_areas": null,
            "grid_template_columns": null,
            "grid_template_rows": null,
            "height": null,
            "justify_content": null,
            "justify_items": null,
            "left": null,
            "margin": null,
            "max_height": null,
            "max_width": null,
            "min_height": null,
            "min_width": null,
            "object_fit": null,
            "object_position": null,
            "order": null,
            "overflow": null,
            "overflow_x": null,
            "overflow_y": null,
            "padding": null,
            "right": null,
            "top": null,
            "visibility": null,
            "width": null
          }
        },
        "b2b42f4f86e04309bf3e944ba73b31b8": {
          "model_module": "@jupyter-widgets/controls",
          "model_name": "ProgressStyleModel",
          "model_module_version": "1.5.0",
          "state": {
            "_model_module": "@jupyter-widgets/controls",
            "_model_module_version": "1.5.0",
            "_model_name": "ProgressStyleModel",
            "_view_count": null,
            "_view_module": "@jupyter-widgets/base",
            "_view_module_version": "1.2.0",
            "_view_name": "StyleView",
            "bar_color": null,
            "description_width": ""
          }
        },
        "32688a84e6cd4f07a21a38375a1b3667": {
          "model_module": "@jupyter-widgets/base",
          "model_name": "LayoutModel",
          "model_module_version": "1.2.0",
          "state": {
            "_model_module": "@jupyter-widgets/base",
            "_model_module_version": "1.2.0",
            "_model_name": "LayoutModel",
            "_view_count": null,
            "_view_module": "@jupyter-widgets/base",
            "_view_module_version": "1.2.0",
            "_view_name": "LayoutView",
            "align_content": null,
            "align_items": null,
            "align_self": null,
            "border": null,
            "bottom": null,
            "display": null,
            "flex": null,
            "flex_flow": null,
            "grid_area": null,
            "grid_auto_columns": null,
            "grid_auto_flow": null,
            "grid_auto_rows": null,
            "grid_column": null,
            "grid_gap": null,
            "grid_row": null,
            "grid_template_areas": null,
            "grid_template_columns": null,
            "grid_template_rows": null,
            "height": null,
            "justify_content": null,
            "justify_items": null,
            "left": null,
            "margin": null,
            "max_height": null,
            "max_width": null,
            "min_height": null,
            "min_width": null,
            "object_fit": null,
            "object_position": null,
            "order": null,
            "overflow": null,
            "overflow_x": null,
            "overflow_y": null,
            "padding": null,
            "right": null,
            "top": null,
            "visibility": null,
            "width": null
          }
        },
        "f0124354bd5748ffa0ea1bab76b0f5be": {
          "model_module": "@jupyter-widgets/controls",
          "model_name": "DescriptionStyleModel",
          "model_module_version": "1.5.0",
          "state": {
            "_model_module": "@jupyter-widgets/controls",
            "_model_module_version": "1.5.0",
            "_model_name": "DescriptionStyleModel",
            "_view_count": null,
            "_view_module": "@jupyter-widgets/base",
            "_view_module_version": "1.2.0",
            "_view_name": "StyleView",
            "description_width": ""
          }
        },
        "f99b5c00d95c40b3bc5f9abdfb847fd7": {
          "model_module": "@jupyter-widgets/controls",
          "model_name": "HBoxModel",
          "model_module_version": "1.5.0",
          "state": {
            "_dom_classes": [],
            "_model_module": "@jupyter-widgets/controls",
            "_model_module_version": "1.5.0",
            "_model_name": "HBoxModel",
            "_view_count": null,
            "_view_module": "@jupyter-widgets/controls",
            "_view_module_version": "1.5.0",
            "_view_name": "HBoxView",
            "box_style": "",
            "children": [
              "IPY_MODEL_dbe04f6ddfbf41b48abb88ad7fa08461",
              "IPY_MODEL_ad79d15257b84f4b97e410d07a72668b",
              "IPY_MODEL_fcaa539a428b41c197159c47121f7d99"
            ],
            "layout": "IPY_MODEL_1600c5f814d5414d943a516e77ce1886"
          }
        },
        "dbe04f6ddfbf41b48abb88ad7fa08461": {
          "model_module": "@jupyter-widgets/controls",
          "model_name": "HTMLModel",
          "model_module_version": "1.5.0",
          "state": {
            "_dom_classes": [],
            "_model_module": "@jupyter-widgets/controls",
            "_model_module_version": "1.5.0",
            "_model_name": "HTMLModel",
            "_view_count": null,
            "_view_module": "@jupyter-widgets/controls",
            "_view_module_version": "1.5.0",
            "_view_name": "HTMLView",
            "description": "",
            "description_tooltip": null,
            "layout": "IPY_MODEL_6951b56ff778491ba210f77952bdd41d",
            "placeholder": "​",
            "style": "IPY_MODEL_3865c06c8fce41a4802889522cde00a2",
            "value": "Map:  78%"
          }
        },
        "ad79d15257b84f4b97e410d07a72668b": {
          "model_module": "@jupyter-widgets/controls",
          "model_name": "FloatProgressModel",
          "model_module_version": "1.5.0",
          "state": {
            "_dom_classes": [],
            "_model_module": "@jupyter-widgets/controls",
            "_model_module_version": "1.5.0",
            "_model_name": "FloatProgressModel",
            "_view_count": null,
            "_view_module": "@jupyter-widgets/controls",
            "_view_module_version": "1.5.0",
            "_view_name": "ProgressView",
            "bar_style": "",
            "description": "",
            "description_tooltip": null,
            "layout": "IPY_MODEL_8a24a27443c14e978394b82a603d7a41",
            "max": 1279,
            "min": 0,
            "orientation": "horizontal",
            "style": "IPY_MODEL_e70205a32cb44fba92250dc95994f97f",
            "value": 1279
          }
        },
        "fcaa539a428b41c197159c47121f7d99": {
          "model_module": "@jupyter-widgets/controls",
          "model_name": "HTMLModel",
          "model_module_version": "1.5.0",
          "state": {
            "_dom_classes": [],
            "_model_module": "@jupyter-widgets/controls",
            "_model_module_version": "1.5.0",
            "_model_name": "HTMLModel",
            "_view_count": null,
            "_view_module": "@jupyter-widgets/controls",
            "_view_module_version": "1.5.0",
            "_view_name": "HTMLView",
            "description": "",
            "description_tooltip": null,
            "layout": "IPY_MODEL_c110158b64b7436f84662f0c4b2137fc",
            "placeholder": "​",
            "style": "IPY_MODEL_2dad9d59ecbc42588e2637906f1e69c0",
            "value": " 1000/1279 [00:00&lt;00:00, 8208.66 examples/s]"
          }
        },
        "1600c5f814d5414d943a516e77ce1886": {
          "model_module": "@jupyter-widgets/base",
          "model_name": "LayoutModel",
          "model_module_version": "1.2.0",
          "state": {
            "_model_module": "@jupyter-widgets/base",
            "_model_module_version": "1.2.0",
            "_model_name": "LayoutModel",
            "_view_count": null,
            "_view_module": "@jupyter-widgets/base",
            "_view_module_version": "1.2.0",
            "_view_name": "LayoutView",
            "align_content": null,
            "align_items": null,
            "align_self": null,
            "border": null,
            "bottom": null,
            "display": null,
            "flex": null,
            "flex_flow": null,
            "grid_area": null,
            "grid_auto_columns": null,
            "grid_auto_flow": null,
            "grid_auto_rows": null,
            "grid_column": null,
            "grid_gap": null,
            "grid_row": null,
            "grid_template_areas": null,
            "grid_template_columns": null,
            "grid_template_rows": null,
            "height": null,
            "justify_content": null,
            "justify_items": null,
            "left": null,
            "margin": null,
            "max_height": null,
            "max_width": null,
            "min_height": null,
            "min_width": null,
            "object_fit": null,
            "object_position": null,
            "order": null,
            "overflow": null,
            "overflow_x": null,
            "overflow_y": null,
            "padding": null,
            "right": null,
            "top": null,
            "visibility": "hidden",
            "width": null
          }
        },
        "6951b56ff778491ba210f77952bdd41d": {
          "model_module": "@jupyter-widgets/base",
          "model_name": "LayoutModel",
          "model_module_version": "1.2.0",
          "state": {
            "_model_module": "@jupyter-widgets/base",
            "_model_module_version": "1.2.0",
            "_model_name": "LayoutModel",
            "_view_count": null,
            "_view_module": "@jupyter-widgets/base",
            "_view_module_version": "1.2.0",
            "_view_name": "LayoutView",
            "align_content": null,
            "align_items": null,
            "align_self": null,
            "border": null,
            "bottom": null,
            "display": null,
            "flex": null,
            "flex_flow": null,
            "grid_area": null,
            "grid_auto_columns": null,
            "grid_auto_flow": null,
            "grid_auto_rows": null,
            "grid_column": null,
            "grid_gap": null,
            "grid_row": null,
            "grid_template_areas": null,
            "grid_template_columns": null,
            "grid_template_rows": null,
            "height": null,
            "justify_content": null,
            "justify_items": null,
            "left": null,
            "margin": null,
            "max_height": null,
            "max_width": null,
            "min_height": null,
            "min_width": null,
            "object_fit": null,
            "object_position": null,
            "order": null,
            "overflow": null,
            "overflow_x": null,
            "overflow_y": null,
            "padding": null,
            "right": null,
            "top": null,
            "visibility": null,
            "width": null
          }
        },
        "3865c06c8fce41a4802889522cde00a2": {
          "model_module": "@jupyter-widgets/controls",
          "model_name": "DescriptionStyleModel",
          "model_module_version": "1.5.0",
          "state": {
            "_model_module": "@jupyter-widgets/controls",
            "_model_module_version": "1.5.0",
            "_model_name": "DescriptionStyleModel",
            "_view_count": null,
            "_view_module": "@jupyter-widgets/base",
            "_view_module_version": "1.2.0",
            "_view_name": "StyleView",
            "description_width": ""
          }
        },
        "8a24a27443c14e978394b82a603d7a41": {
          "model_module": "@jupyter-widgets/base",
          "model_name": "LayoutModel",
          "model_module_version": "1.2.0",
          "state": {
            "_model_module": "@jupyter-widgets/base",
            "_model_module_version": "1.2.0",
            "_model_name": "LayoutModel",
            "_view_count": null,
            "_view_module": "@jupyter-widgets/base",
            "_view_module_version": "1.2.0",
            "_view_name": "LayoutView",
            "align_content": null,
            "align_items": null,
            "align_self": null,
            "border": null,
            "bottom": null,
            "display": null,
            "flex": null,
            "flex_flow": null,
            "grid_area": null,
            "grid_auto_columns": null,
            "grid_auto_flow": null,
            "grid_auto_rows": null,
            "grid_column": null,
            "grid_gap": null,
            "grid_row": null,
            "grid_template_areas": null,
            "grid_template_columns": null,
            "grid_template_rows": null,
            "height": null,
            "justify_content": null,
            "justify_items": null,
            "left": null,
            "margin": null,
            "max_height": null,
            "max_width": null,
            "min_height": null,
            "min_width": null,
            "object_fit": null,
            "object_position": null,
            "order": null,
            "overflow": null,
            "overflow_x": null,
            "overflow_y": null,
            "padding": null,
            "right": null,
            "top": null,
            "visibility": null,
            "width": null
          }
        },
        "e70205a32cb44fba92250dc95994f97f": {
          "model_module": "@jupyter-widgets/controls",
          "model_name": "ProgressStyleModel",
          "model_module_version": "1.5.0",
          "state": {
            "_model_module": "@jupyter-widgets/controls",
            "_model_module_version": "1.5.0",
            "_model_name": "ProgressStyleModel",
            "_view_count": null,
            "_view_module": "@jupyter-widgets/base",
            "_view_module_version": "1.2.0",
            "_view_name": "StyleView",
            "bar_color": null,
            "description_width": ""
          }
        },
        "c110158b64b7436f84662f0c4b2137fc": {
          "model_module": "@jupyter-widgets/base",
          "model_name": "LayoutModel",
          "model_module_version": "1.2.0",
          "state": {
            "_model_module": "@jupyter-widgets/base",
            "_model_module_version": "1.2.0",
            "_model_name": "LayoutModel",
            "_view_count": null,
            "_view_module": "@jupyter-widgets/base",
            "_view_module_version": "1.2.0",
            "_view_name": "LayoutView",
            "align_content": null,
            "align_items": null,
            "align_self": null,
            "border": null,
            "bottom": null,
            "display": null,
            "flex": null,
            "flex_flow": null,
            "grid_area": null,
            "grid_auto_columns": null,
            "grid_auto_flow": null,
            "grid_auto_rows": null,
            "grid_column": null,
            "grid_gap": null,
            "grid_row": null,
            "grid_template_areas": null,
            "grid_template_columns": null,
            "grid_template_rows": null,
            "height": null,
            "justify_content": null,
            "justify_items": null,
            "left": null,
            "margin": null,
            "max_height": null,
            "max_width": null,
            "min_height": null,
            "min_width": null,
            "object_fit": null,
            "object_position": null,
            "order": null,
            "overflow": null,
            "overflow_x": null,
            "overflow_y": null,
            "padding": null,
            "right": null,
            "top": null,
            "visibility": null,
            "width": null
          }
        },
        "2dad9d59ecbc42588e2637906f1e69c0": {
          "model_module": "@jupyter-widgets/controls",
          "model_name": "DescriptionStyleModel",
          "model_module_version": "1.5.0",
          "state": {
            "_model_module": "@jupyter-widgets/controls",
            "_model_module_version": "1.5.0",
            "_model_name": "DescriptionStyleModel",
            "_view_count": null,
            "_view_module": "@jupyter-widgets/base",
            "_view_module_version": "1.2.0",
            "_view_name": "StyleView",
            "description_width": ""
          }
        }
      }
    }
  },
  "cells": [
    {
      "cell_type": "code",
      "source": [
        "from google.colab import drive\n",
        "drive.mount('/content/drive/')\n",
        "\n",
        "#step 1: download everything\n",
        "!pip install -q transformers\n",
        "!pip install seqeval\n",
        "!pip install -q datasets\n",
        "!pip install -q evaluate\n"
      ],
      "metadata": {
        "id": "wHfUR_e2570K",
        "colab": {
          "base_uri": "https://localhost:8080/"
        },
        "outputId": "0ccae331-85a2-4f53-9ab8-578d93c4d934"
      },
      "execution_count": null,
      "outputs": [
        {
          "output_type": "stream",
          "name": "stdout",
          "text": [
            "Drive already mounted at /content/drive/; to attempt to forcibly remount, call drive.mount(\"/content/drive/\", force_remount=True).\n",
            "Looking in indexes: https://pypi.org/simple, https://us-python.pkg.dev/colab-wheels/public/simple/\n",
            "Requirement already satisfied: seqeval in /usr/local/lib/python3.10/dist-packages (1.2.2)\n",
            "Requirement already satisfied: numpy>=1.14.0 in /usr/local/lib/python3.10/dist-packages (from seqeval) (1.22.4)\n",
            "Requirement already satisfied: scikit-learn>=0.21.3 in /usr/local/lib/python3.10/dist-packages (from seqeval) (1.2.2)\n",
            "Requirement already satisfied: joblib>=1.1.1 in /usr/local/lib/python3.10/dist-packages (from scikit-learn>=0.21.3->seqeval) (1.2.0)\n",
            "Requirement already satisfied: scipy>=1.3.2 in /usr/local/lib/python3.10/dist-packages (from scikit-learn>=0.21.3->seqeval) (1.10.1)\n",
            "Requirement already satisfied: threadpoolctl>=2.0.0 in /usr/local/lib/python3.10/dist-packages (from scikit-learn>=0.21.3->seqeval) (3.1.0)\n",
            "Traceback (most recent call last):\n",
            "  File \"/usr/local/lib/python3.10/dist-packages/pip/_internal/cli/base_command.py\", line 160, in exc_logging_wrapper\n",
            "    status = run_func(*args)\n",
            "  File \"/usr/local/lib/python3.10/dist-packages/pip/_internal/cli/req_command.py\", line 241, in wrapper\n",
            "    return func(self, options, args)\n",
            "  File \"/usr/local/lib/python3.10/dist-packages/pip/_internal/commands/install.py\", line 419, in run\n",
            "    requirement_set = resolver.resolve(\n",
            "  File \"/usr/local/lib/python3.10/dist-packages/pip/_internal/resolution/resolvelib/resolver.py\", line 92, in resolve\n",
            "    result = self._result = resolver.resolve(\n",
            "  File \"/usr/local/lib/python3.10/dist-packages/pip/_vendor/resolvelib/resolvers.py\", line 481, in resolve\n",
            "    state = resolution.resolve(requirements, max_rounds=max_rounds)\n",
            "  File \"/usr/local/lib/python3.10/dist-packages/pip/_vendor/resolvelib/resolvers.py\", line 360, in resolve\n",
            "    unsatisfied_names = [\n",
            "  File \"/usr/local/lib/python3.10/dist-packages/pip/_vendor/resolvelib/resolvers.py\", line 363, in <listcomp>\n",
            "    if not self._is_current_pin_satisfying(key, criterion)\n",
            "  File \"/usr/local/lib/python3.10/dist-packages/pip/_vendor/resolvelib/resolvers.py\", line 196, in _is_current_pin_satisfying\n",
            "    return all(\n",
            "  File \"/usr/local/lib/python3.10/dist-packages/pip/_vendor/resolvelib/resolvers.py\", line 197, in <genexpr>\n",
            "    self._p.is_satisfied_by(requirement=r, candidate=current_pin)\n",
            "  File \"/usr/local/lib/python3.10/dist-packages/pip/_internal/resolution/resolvelib/provider.py\", line 233, in is_satisfied_by\n",
            "    return requirement.is_satisfied_by(candidate)\n",
            "  File \"/usr/local/lib/python3.10/dist-packages/pip/_internal/resolution/resolvelib/requirements.py\", line 93, in is_satisfied_by\n",
            "    return spec.contains(candidate.version, prereleases=True)\n",
            "  File \"/usr/local/lib/python3.10/dist-packages/pip/_internal/resolution/resolvelib/candidates.py\", line 383, in version\n",
            "    return self.dist.version\n",
            "  File \"/usr/local/lib/python3.10/dist-packages/pip/_internal/metadata/pkg_resources.py\", line 168, in version\n",
            "    return parse_version(self._dist.version)\n",
            "  File \"/usr/local/lib/python3.10/dist-packages/pip/_vendor/packaging/version.py\", line 49, in parse\n",
            "    return Version(version)\n",
            "  File \"/usr/local/lib/python3.10/dist-packages/pip/_vendor/packaging/version.py\", line 271, in __init__\n",
            "    release=tuple(int(i) for i in match.group(\"release\").split(\".\")),\n",
            "  File \"/usr/local/lib/python3.10/dist-packages/pip/_vendor/packaging/version.py\", line 271, in <genexpr>\n",
            "    release=tuple(int(i) for i in match.group(\"release\").split(\".\")),\n",
            "KeyboardInterrupt\n",
            "\n",
            "During handling of the above exception, another exception occurred:\n",
            "\n",
            "Traceback (most recent call last):\n",
            "  File \"/usr/local/bin/pip3\", line 8, in <module>\n",
            "    sys.exit(main())\n",
            "  File \"/usr/local/lib/python3.10/dist-packages/pip/_internal/cli/main.py\", line 70, in main\n",
            "    return command.main(cmd_args)\n",
            "  File \"/usr/local/lib/python3.10/dist-packages/pip/_internal/cli/base_command.py\", line 101, in main\n",
            "    return self._main(args)\n",
            "  File \"/usr/local/lib/python3.10/dist-packages/pip/_internal/cli/base_command.py\", line 214, in _main\n",
            "    return run(options, args)\n",
            "  File \"/usr/local/lib/python3.10/dist-packages/pip/_internal/cli/base_command.py\", line 197, in exc_logging_wrapper\n",
            "    logger.critical(\"Operation cancelled by user\")\n",
            "  File \"/usr/lib/python3.10/logging/__init__.py\", line 1524, in critical\n",
            "    self._log(CRITICAL, msg, args, **kwargs)\n",
            "  File \"/usr/lib/python3.10/logging/__init__.py\", line 1624, in _log\n",
            "    self.handle(record)\n",
            "  File \"/usr/lib/python3.10/logging/__init__.py\", line 1634, in handle\n",
            "    self.callHandlers(record)\n",
            "  File \"/usr/lib/python3.10/logging/__init__.py\", line 1696, in callHandlers\n",
            "    hdlr.handle(record)\n",
            "  File \"/usr/lib/python3.10/logging/__init__.py\", line 964, in handle\n",
            "    rv = self.filter(record)\n",
            "  File \"/usr/lib/python3.10/logging/__init__.py\", line 821, in filter\n",
            "    result = f.filter(record)\n",
            "  File \"/usr/local/lib/python3.10/dist-packages/pip/_internal/utils/logging.py\", line 223, in filter\n",
            "    return not super().filter(record)\n",
            "  File \"/usr/lib/python3.10/logging/__init__.py\", line 766, in filter\n",
            "    def filter(self, record):\n",
            "KeyboardInterrupt\n",
            "^C\n"
          ]
        }
      ]
    },
    {
      "cell_type": "code",
      "source": [
        "#step 1.1 import everything\n",
        "import seqeval\n",
        "import transformers\n",
        "from transformers import AutoTokenizer, AutoModelForTokenClassification, DataCollatorForTokenClassification, TrainingArguments, Trainer, ElectraForTokenClassification\n",
        "import torch\n",
        "import json\n",
        "import glob\n",
        "import numpy as np\n",
        "from datasets import load_dataset, Dataset\n",
        "import evaluate\n",
        "\n",
        "import os\n",
        "os.chdir(\"/content/drive/My Drive/EMNLP/Final Project/ELECTRA\")"
      ],
      "metadata": {
        "id": "yLav8-rX_pTZ"
      },
      "execution_count": null,
      "outputs": []
    },
    {
      "cell_type": "code",
      "execution_count": null,
      "metadata": {
        "id": "jSC6X6ln5J1M"
      },
      "outputs": [],
      "source": [
        "#step 1.2 is to upload the files\n",
        "#I cloned the entire repo and manually uploaded to Colab\n",
        "#then we open the files up\n",
        "#I don't use the fce eng files, or the falko german files"
      ]
    },
    {
      "cell_type": "code",
      "source": [
        "#step 1.3 use glob to gather all file names\n",
        "#We are using the dev data as \n",
        "train_file_list = glob.glob(\"/content/*train.tsv\")\n",
        "test_file_list = glob.glob(\"/content/*dev.tsv\")\n",
        "print(\"TRAIN FILES:\", train_file_list)\n",
        "print(\"TEST FILES:\", test_file_list)"
      ],
      "metadata": {
        "colab": {
          "base_uri": "https://localhost:8080/"
        },
        "id": "hSdF2LwT5jLx",
        "outputId": "99c9eb8c-4b84-4f79-bdf4-3d7aeb1b5fe8"
      },
      "execution_count": null,
      "outputs": [
        {
          "output_type": "stream",
          "name": "stdout",
          "text": [
            "TRAIN FILES: []\n",
            "TEST FILES: []\n"
          ]
        }
      ]
    },
    {
      "cell_type": "code",
      "source": [
        "#These dictionaries show the correspondence between the numerical label and the real label\n",
        "label2id = {\"c\": 1, \"i\": 0}\n",
        "id2label = {1: \"c\", 0: \"i\"}"
      ],
      "metadata": {
        "id": "eNtx88eP739G"
      },
      "execution_count": null,
      "outputs": []
    },
    {
      "cell_type": "markdown",
      "source": [
        "Transformer models make contextual embeddings based on sentence input. Because of this, we need to split the data into sentences, where each token in a sentence has a label attached. This is easy to do because the files we are working with have newlines in between sentences."
      ],
      "metadata": {
        "id": "ygfYXcyi8_yk"
      }
    },
    {
      "cell_type": "code",
      "source": [
        "def get_sentences(fin):\n",
        "  \"\"\"returns a list of sentences given a file\"\"\"\n",
        "\n",
        "  sentences = []\n",
        "  sentence = []\n",
        "  with open(fin, \"r\") as inf:\n",
        "    for line in inf:\n",
        "      if line == \"\\n\":\n",
        "        #if we reach a newline, append the sentence to list and start over\n",
        "        sentences.append(sentence)\n",
        "        sentence = []\n",
        "      else:\n",
        "        #if we aren't at a newline, split into token and label and add to sent\n",
        "        line = line.strip(\"\\n\")\n",
        "        token, label = line.split(\"\\t\")\n",
        "        token_label = (token, label)\n",
        "        sentence.append(token_label)\n",
        "        \n",
        "  return sentences"
      ],
      "metadata": {
        "id": "WozmnUwh8J55"
      },
      "execution_count": null,
      "outputs": []
    },
    {
      "cell_type": "markdown",
      "source": [
        "For a multilingual experiment, we are going to combine all the languages together. I'm not actually using this function for this implementation (I just tested on Italian)"
      ],
      "metadata": {
        "id": "e7TISyi6-q9Z"
      }
    },
    {
      "cell_type": "code",
      "source": [
        "def combine_all_sentences(train_list, test_list):\n",
        "  \"\"\"\n",
        "  reads in all the files and combines them into giant lists of sents\n",
        "  For monolingual setting we will need to do some extra work here to keep track of languages\n",
        "  \"\"\"\n",
        "  train_sents = []\n",
        "  for fin in train_list:\n",
        "    # lang = fin.split(\"_\")[0]\n",
        "    sents = get_sentences(fin)\n",
        "    train_sents += sents\n",
        "  \n",
        "  test_sents = []\n",
        "  for fin in test_list:\n",
        "    # lang = fin.split(\"_\")[0]\n",
        "    sents = get_sentences(fin)\n",
        "    test_sents += sents\n",
        "\n",
        "  return train_sents, test_sents"
      ],
      "metadata": {
        "id": "Bv41BnM0-v2i"
      },
      "execution_count": null,
      "outputs": []
    },
    {
      "cell_type": "code",
      "source": [
        "def list_to_dataset(sent_list):\n",
        "  \"\"\"This function takes a list of lines with each token paired with its label in a tuple\n",
        "  It returns a transformers dataset\n",
        "  \"\"\"\n",
        "  data_dicts = []\n",
        "  #we need an id value for a huggingface dataset\n",
        "  id = 0\n",
        "  for sent in sent_list:\n",
        "    sent_dict = {}\n",
        "    sent_dict['id'] = id\n",
        "    id += 1\n",
        "\n",
        "    tokens = [s[0] for s in sent]\n",
        "    labels = [s[1] for s in sent]\n",
        "\n",
        "    #convert \"c\" and \"i\" labels to numerical ones\n",
        "    nums = [label2id[t] for t in labels]\n",
        "    sent_dict[\"tokens\"] = tokens\n",
        "    sent_dict[\"labels\"] = nums\n",
        "    #append sentence dict to list\n",
        "    data_dicts.append(sent_dict)\n",
        "\n",
        "  #convert list of dictionaries into Dataset\n",
        "  combined_dataset = Dataset.from_list(data_dicts)\n",
        "\n",
        "  dataset = combined_dataset.train_test_split(test_size=0.2, shuffle=True, seed=34)\n",
        "\n",
        "  dataset[\"dev\"] = dataset[\"test\"]\n",
        "\n",
        "  del dataset[\"test\"]\n",
        "\n",
        "  return dataset"
      ],
      "metadata": {
        "id": "FiGAf63D5vt5"
      },
      "execution_count": null,
      "outputs": []
    },
    {
      "cell_type": "code",
      "source": [
        "def tokenize_and_align_labels(examples):\n",
        "    tokenized_inputs = tokenizer(examples[\"tokens\"], truncation=True, is_split_into_words=True)\n",
        "\n",
        "    labels = []\n",
        "    for i, label in enumerate(examples[f\"labels\"]):\n",
        "        word_ids = tokenized_inputs.word_ids(batch_index=i)  # Map tokens to their respective word.\n",
        "        previous_word_idx = None\n",
        "        label_ids = []\n",
        "        for word_idx in word_ids:  # Set the special tokens to -100.\n",
        "            if word_idx is None:\n",
        "                label_ids.append(-100)\n",
        "            elif word_idx != previous_word_idx:  # Only label the first token of a given word.\n",
        "                label_ids.append(label[word_idx])\n",
        "            else:\n",
        "                label_ids.append(-100)\n",
        "            previous_word_idx = word_idx\n",
        "        labels.append(label_ids)\n",
        "\n",
        "    tokenized_inputs[\"labels\"] = labels\n",
        "    return tokenized_inputs"
      ],
      "metadata": {
        "id": "B989k8MRCkep"
      },
      "execution_count": null,
      "outputs": []
    },
    {
      "cell_type": "code",
      "source": [
        "# def create_files_from_dataset(dev_set):\n",
        "#   \"\"\"\n",
        "#   create ref and hyp files for eval script\n",
        "#   this will write files to the colab directory, you can download them and then run eval.py\n",
        "#   \"\"\"\n",
        "#   predictions = trainer.predict(dev_set)\n",
        "#   true_predictions, true_labels = return_predictions(predictions)\n",
        "#   with open(\"english_output_ref.tsv\", \"w\") as ref_out:\n",
        "#     with open(\"english_output_hyp.tsv\", \"w\") as hyp_out:\n",
        "#       for i in range(len(dev_set)):\n",
        "#         tokens = dev_set[i][\"tokens\"]\n",
        "#         labs = true_labels[i]\n",
        "#         preds = true_predictions[i]\n",
        "#         for j in range(len(tokens)):\n",
        "#           tok = tokens[j]\n",
        "#           p = preds[j]\n",
        "#           l = labs[j]\n",
        "#           ref_out.write(tok + \"\\t\" + l + \"\\n\")\n",
        "#           hyp_out.write(tok + \"\\t\" + p + \"\\n\")\n",
        "#         ref_out.write(\"\\n\")\n",
        "#         hyp_out.write(\"\\n\")\n",
        "\n",
        "#   return\n"
      ],
      "metadata": {
        "id": "msaCu2ZN5gSN"
      },
      "execution_count": null,
      "outputs": []
    },
    {
      "cell_type": "code",
      "source": [
        "def compute_metrics(p):\n",
        "    predictions, labels = p\n",
        "    predictions = np.argmax(predictions, axis=2)\n",
        "    true_predictions = [\n",
        "        [label_list[p] for (p, l) in zip(prediction, label) if l != -100]\n",
        "        for prediction, label in zip(predictions, labels)\n",
        "    ]\n",
        "    true_labels = [\n",
        "        [label_list[l] for (p, l) in zip(prediction, label) if l != -100]\n",
        "        for prediction, label in zip(predictions, labels)\n",
        "    ]\n",
        "    results = seqeval.compute(predictions=true_predictions, references=true_labels)\n",
        "    return {\n",
        "        \"precision\": results[\"overall_precision\"],\n",
        "        \"recall\": results[\"overall_recall\"],\n",
        "        \"f1\": results[\"overall_f1\"],\n",
        "        \"accuracy\": results[\"overall_accuracy\"],\n",
        "    }"
      ],
      "metadata": {
        "id": "pn-pA3pZGJzc"
      },
      "execution_count": null,
      "outputs": []
    },
    {
      "cell_type": "code",
      "source": [
        "def return_predictions(p):\n",
        "    predictions, labels, metrics = p\n",
        "    predictions = np.argmax(predictions, axis=2)\n",
        "    true_predictions = [\n",
        "        [label_list[p] for (p, l) in zip(prediction, label) if l != -100]\n",
        "        for prediction, label in zip(predictions, labels)\n",
        "    ]\n",
        "    true_labels = [\n",
        "        [label_list[l] for (p, l) in zip(prediction, label) if l != -100]\n",
        "        for prediction, label in zip(predictions, labels)\n",
        "    ]\n",
        "    \n",
        "    return true_predictions, true_labels"
      ],
      "metadata": {
        "id": "IEBoe36LvSy6"
      },
      "execution_count": null,
      "outputs": []
    },
    {
      "cell_type": "markdown",
      "source": [
        "Now that the functions are done, here is the actual experiment"
      ],
      "metadata": {
        "id": "xFVUhg_R5ix9"
      }
    },
    {
      "cell_type": "code",
      "source": [
        "label_list = [\"i\",\"c\"]"
      ],
      "metadata": {
        "id": "pT9TE75vF4_T"
      },
      "execution_count": null,
      "outputs": []
    },
    {
      "cell_type": "code",
      "source": [
        "tokenizer = AutoTokenizer.from_pretrained(\"dbmdz/electra-base-italian-xxl-cased-discriminator\") # replace with different models"
      ],
      "metadata": {
        "id": "fSw2wuI4LdMr"
      },
      "execution_count": null,
      "outputs": []
    },
    {
      "cell_type": "code",
      "source": [
        "data_collator = DataCollatorForTokenClassification(tokenizer=tokenizer)"
      ],
      "metadata": {
        "id": "X9OuJ1dkVds8"
      },
      "execution_count": null,
      "outputs": []
    },
    {
      "cell_type": "code",
      "source": [
        "seqeval = evaluate.load(\"seqeval\")"
      ],
      "metadata": {
        "id": "XWWukqSACSCx"
      },
      "execution_count": null,
      "outputs": []
    },
    {
      "cell_type": "code",
      "source": [
        "# replace with data\n",
        "sents = get_sentences(\"/content/drive/My Drive/EMNLP/Final Project/italian/it_merlin_train.tsv\")\n",
        "dataset = list_to_dataset(sents)\n",
        "tokenized_dataset = dataset.map(tokenize_and_align_labels, batched=True)"
      ],
      "metadata": {
        "colab": {
          "base_uri": "https://localhost:8080/",
          "height": 17,
          "referenced_widgets": [
            "53ab64b04dd6496c89bee7e8a16e39ca",
            "20f9599429914714b2b60c926d964350",
            "5222d5ae5b0f4f8caa77f431ef5205e5",
            "677dcb2c08ef4849b68ce4224b08b2ef",
            "276e644075b346ad93295753cdd8c3ba",
            "ecaa0055bab6498aa88477fc98c90b95",
            "ddb981f6f82d483b8bc7f10686fa5b49",
            "3ef0747f170a447aba03d67714c17e5f",
            "b2b42f4f86e04309bf3e944ba73b31b8",
            "32688a84e6cd4f07a21a38375a1b3667",
            "f0124354bd5748ffa0ea1bab76b0f5be",
            "f99b5c00d95c40b3bc5f9abdfb847fd7",
            "dbe04f6ddfbf41b48abb88ad7fa08461",
            "ad79d15257b84f4b97e410d07a72668b",
            "fcaa539a428b41c197159c47121f7d99",
            "1600c5f814d5414d943a516e77ce1886",
            "6951b56ff778491ba210f77952bdd41d",
            "3865c06c8fce41a4802889522cde00a2",
            "8a24a27443c14e978394b82a603d7a41",
            "e70205a32cb44fba92250dc95994f97f",
            "c110158b64b7436f84662f0c4b2137fc",
            "2dad9d59ecbc42588e2637906f1e69c0"
          ]
        },
        "id": "8sEuRQRaCvNi",
        "outputId": "0c3351ef-df37-492c-9c7b-76aa4eac1068"
      },
      "execution_count": null,
      "outputs": [
        {
          "output_type": "display_data",
          "data": {
            "text/plain": [
              "Map:   0%|          | 0/5115 [00:00<?, ? examples/s]"
            ],
            "application/vnd.jupyter.widget-view+json": {
              "version_major": 2,
              "version_minor": 0,
              "model_id": "53ab64b04dd6496c89bee7e8a16e39ca"
            }
          },
          "metadata": {}
        },
        {
          "output_type": "display_data",
          "data": {
            "text/plain": [
              "Map:   0%|          | 0/1279 [00:00<?, ? examples/s]"
            ],
            "application/vnd.jupyter.widget-view+json": {
              "version_major": 2,
              "version_minor": 0,
              "model_id": "f99b5c00d95c40b3bc5f9abdfb847fd7"
            }
          },
          "metadata": {}
        }
      ]
    },
    {
      "cell_type": "code",
      "source": [
        "# model = AutoModelForTokenClassification.from_pretrained(\n",
        "#     \"bert-base-multilingual-cased\", num_labels=2, id2label=id2label, label2id=label2id\n",
        "# )\n",
        "model = ElectraForTokenClassification.from_pretrained(\"dbmdz/electra-base-italian-xxl-cased-discriminator\", num_labels=2, id2label=id2label, label2id=label2id, ignore_mismatched_sizes=True)"
      ],
      "metadata": {
        "id": "NsNrXG6YDHlh",
        "colab": {
          "base_uri": "https://localhost:8080/"
        },
        "outputId": "361d6fbd-21d2-4c85-86b3-b846631fd267"
      },
      "execution_count": null,
      "outputs": [
        {
          "output_type": "stream",
          "name": "stderr",
          "text": [
            "Some weights of the model checkpoint at dbmdz/electra-base-italian-xxl-cased-discriminator were not used when initializing ElectraForTokenClassification: ['discriminator_predictions.dense.bias', 'discriminator_predictions.dense.weight', 'discriminator_predictions.dense_prediction.weight', 'discriminator_predictions.dense_prediction.bias']\n",
            "- This IS expected if you are initializing ElectraForTokenClassification from the checkpoint of a model trained on another task or with another architecture (e.g. initializing a BertForSequenceClassification model from a BertForPreTraining model).\n",
            "- This IS NOT expected if you are initializing ElectraForTokenClassification from the checkpoint of a model that you expect to be exactly identical (initializing a BertForSequenceClassification model from a BertForSequenceClassification model).\n",
            "Some weights of ElectraForTokenClassification were not initialized from the model checkpoint at dbmdz/electra-base-italian-xxl-cased-discriminator and are newly initialized: ['classifier.weight', 'classifier.bias']\n",
            "You should probably TRAIN this model on a down-stream task to be able to use it for predictions and inference.\n"
          ]
        }
      ]
    },
    {
      "cell_type": "code",
      "source": [
        "training_args = TrainingArguments(\n",
        "    output_dir=\"italian_electra_cased_discriminator\",\n",
        "    learning_rate=1e-6,\n",
        "    per_device_train_batch_size=8,\n",
        "    per_device_eval_batch_size=8,\n",
        "    num_train_epochs=20,\n",
        "    weight_decay=0.02,\n",
        "    evaluation_strategy=\"epoch\",\n",
        "    save_strategy=\"epoch\",\n",
        "    load_best_model_at_end=True,\n",
        "    push_to_hub=False\n",
        ")"
      ],
      "metadata": {
        "id": "Xo3fKnsFDMBa"
      },
      "execution_count": null,
      "outputs": []
    },
    {
      "cell_type": "code",
      "source": [
        "trainer = Trainer(\n",
        "    model=model,\n",
        "    args=training_args,\n",
        "    train_dataset=tokenized_dataset[\"train\"],\n",
        "    eval_dataset=tokenized_dataset[\"dev\"],\n",
        "    tokenizer=tokenizer,\n",
        "    data_collator=data_collator,\n",
        "    compute_metrics=compute_metrics\n",
        ")"
      ],
      "metadata": {
        "id": "oXKQX2ItDTJp"
      },
      "execution_count": null,
      "outputs": []
    },
    {
      "cell_type": "code",
      "source": [
        "trainer.train()"
      ],
      "metadata": {
        "id": "1wfHTC-1DaVi",
        "colab": {
          "base_uri": "https://localhost:8080/",
          "height": 450
        },
        "outputId": "b7ebc470-d05a-4a66-8fdb-214aa2d03b2f"
      },
      "execution_count": null,
      "outputs": [
        {
          "output_type": "stream",
          "name": "stderr",
          "text": [
            "/usr/local/lib/python3.10/dist-packages/transformers/optimization.py:391: FutureWarning: This implementation of AdamW is deprecated and will be removed in a future version. Use the PyTorch implementation torch.optim.AdamW instead, or set `no_deprecation_warning=True` to disable this warning\n",
            "  warnings.warn(\n",
            "You're using a ElectraTokenizerFast tokenizer. Please note that with a fast tokenizer, using the `__call__` method is faster than using a method to encode the text followed by a call to the `pad` method to get a padded encoding.\n"
          ]
        },
        {
          "output_type": "display_data",
          "data": {
            "text/plain": [
              "<IPython.core.display.HTML object>"
            ],
            "text/html": [
              "\n",
              "    <div>\n",
              "      \n",
              "      <progress value='2' max='12800' style='width:300px; height:20px; vertical-align: middle;'></progress>\n",
              "      [    2/12800 : < :, Epoch 0.00/20]\n",
              "    </div>\n",
              "    <table border=\"1\" class=\"dataframe\">\n",
              "  <thead>\n",
              " <tr style=\"text-align: left;\">\n",
              "      <th>Epoch</th>\n",
              "      <th>Training Loss</th>\n",
              "      <th>Validation Loss</th>\n",
              "    </tr>\n",
              "  </thead>\n",
              "  <tbody>\n",
              "  </tbody>\n",
              "</table><p>"
            ]
          },
          "metadata": {}
        },
        {
          "output_type": "error",
          "ename": "KeyboardInterrupt",
          "evalue": "ignored",
          "traceback": [
            "\u001b[0;31m---------------------------------------------------------------------------\u001b[0m",
            "\u001b[0;31mKeyboardInterrupt\u001b[0m                         Traceback (most recent call last)",
            "\u001b[0;32m<ipython-input-49-3435b262f1ae>\u001b[0m in \u001b[0;36m<cell line: 1>\u001b[0;34m()\u001b[0m\n\u001b[0;32m----> 1\u001b[0;31m \u001b[0mtrainer\u001b[0m\u001b[0;34m.\u001b[0m\u001b[0mtrain\u001b[0m\u001b[0;34m(\u001b[0m\u001b[0;34m)\u001b[0m\u001b[0;34m\u001b[0m\u001b[0;34m\u001b[0m\u001b[0m\n\u001b[0m",
            "\u001b[0;32m/usr/local/lib/python3.10/dist-packages/transformers/trainer.py\u001b[0m in \u001b[0;36mtrain\u001b[0;34m(self, resume_from_checkpoint, trial, ignore_keys_for_eval, **kwargs)\u001b[0m\n\u001b[1;32m   1660\u001b[0m             \u001b[0mself\u001b[0m\u001b[0;34m.\u001b[0m\u001b[0m_inner_training_loop\u001b[0m\u001b[0;34m,\u001b[0m \u001b[0mself\u001b[0m\u001b[0;34m.\u001b[0m\u001b[0m_train_batch_size\u001b[0m\u001b[0;34m,\u001b[0m \u001b[0margs\u001b[0m\u001b[0;34m.\u001b[0m\u001b[0mauto_find_batch_size\u001b[0m\u001b[0;34m\u001b[0m\u001b[0;34m\u001b[0m\u001b[0m\n\u001b[1;32m   1661\u001b[0m         )\n\u001b[0;32m-> 1662\u001b[0;31m         return inner_training_loop(\n\u001b[0m\u001b[1;32m   1663\u001b[0m             \u001b[0margs\u001b[0m\u001b[0;34m=\u001b[0m\u001b[0margs\u001b[0m\u001b[0;34m,\u001b[0m\u001b[0;34m\u001b[0m\u001b[0;34m\u001b[0m\u001b[0m\n\u001b[1;32m   1664\u001b[0m             \u001b[0mresume_from_checkpoint\u001b[0m\u001b[0;34m=\u001b[0m\u001b[0mresume_from_checkpoint\u001b[0m\u001b[0;34m,\u001b[0m\u001b[0;34m\u001b[0m\u001b[0;34m\u001b[0m\u001b[0m\n",
            "\u001b[0;32m/usr/local/lib/python3.10/dist-packages/transformers/trainer.py\u001b[0m in \u001b[0;36m_inner_training_loop\u001b[0;34m(self, batch_size, args, resume_from_checkpoint, trial, ignore_keys_for_eval)\u001b[0m\n\u001b[1;32m   1994\u001b[0m                         \u001b[0moptimizer_was_run\u001b[0m \u001b[0;34m=\u001b[0m \u001b[0mscale_before\u001b[0m \u001b[0;34m<=\u001b[0m \u001b[0mscale_after\u001b[0m\u001b[0;34m\u001b[0m\u001b[0;34m\u001b[0m\u001b[0m\n\u001b[1;32m   1995\u001b[0m                     \u001b[0;32melse\u001b[0m\u001b[0;34m:\u001b[0m\u001b[0;34m\u001b[0m\u001b[0;34m\u001b[0m\u001b[0m\n\u001b[0;32m-> 1996\u001b[0;31m                         \u001b[0mself\u001b[0m\u001b[0;34m.\u001b[0m\u001b[0moptimizer\u001b[0m\u001b[0;34m.\u001b[0m\u001b[0mstep\u001b[0m\u001b[0;34m(\u001b[0m\u001b[0;34m)\u001b[0m\u001b[0;34m\u001b[0m\u001b[0;34m\u001b[0m\u001b[0m\n\u001b[0m\u001b[1;32m   1997\u001b[0m \u001b[0;34m\u001b[0m\u001b[0m\n\u001b[1;32m   1998\u001b[0m                     \u001b[0;32mif\u001b[0m \u001b[0moptimizer_was_run\u001b[0m \u001b[0;32mand\u001b[0m \u001b[0;32mnot\u001b[0m \u001b[0mself\u001b[0m\u001b[0;34m.\u001b[0m\u001b[0mdeepspeed\u001b[0m\u001b[0;34m:\u001b[0m\u001b[0;34m\u001b[0m\u001b[0;34m\u001b[0m\u001b[0m\n",
            "\u001b[0;32m/usr/local/lib/python3.10/dist-packages/torch/optim/lr_scheduler.py\u001b[0m in \u001b[0;36mwrapper\u001b[0;34m(*args, **kwargs)\u001b[0m\n\u001b[1;32m     67\u001b[0m                 \u001b[0minstance\u001b[0m\u001b[0;34m.\u001b[0m\u001b[0m_step_count\u001b[0m \u001b[0;34m+=\u001b[0m \u001b[0;36m1\u001b[0m\u001b[0;34m\u001b[0m\u001b[0;34m\u001b[0m\u001b[0m\n\u001b[1;32m     68\u001b[0m                 \u001b[0mwrapped\u001b[0m \u001b[0;34m=\u001b[0m \u001b[0mfunc\u001b[0m\u001b[0;34m.\u001b[0m\u001b[0m__get__\u001b[0m\u001b[0;34m(\u001b[0m\u001b[0minstance\u001b[0m\u001b[0;34m,\u001b[0m \u001b[0mcls\u001b[0m\u001b[0;34m)\u001b[0m\u001b[0;34m\u001b[0m\u001b[0;34m\u001b[0m\u001b[0m\n\u001b[0;32m---> 69\u001b[0;31m                 \u001b[0;32mreturn\u001b[0m \u001b[0mwrapped\u001b[0m\u001b[0;34m(\u001b[0m\u001b[0;34m*\u001b[0m\u001b[0margs\u001b[0m\u001b[0;34m,\u001b[0m \u001b[0;34m**\u001b[0m\u001b[0mkwargs\u001b[0m\u001b[0;34m)\u001b[0m\u001b[0;34m\u001b[0m\u001b[0;34m\u001b[0m\u001b[0m\n\u001b[0m\u001b[1;32m     70\u001b[0m \u001b[0;34m\u001b[0m\u001b[0m\n\u001b[1;32m     71\u001b[0m             \u001b[0;31m# Note that the returned function here is no longer a bound method,\u001b[0m\u001b[0;34m\u001b[0m\u001b[0;34m\u001b[0m\u001b[0m\n",
            "\u001b[0;32m/usr/local/lib/python3.10/dist-packages/torch/optim/optimizer.py\u001b[0m in \u001b[0;36mwrapper\u001b[0;34m(*args, **kwargs)\u001b[0m\n\u001b[1;32m    278\u001b[0m                                                f\"but got {result}.\")\n\u001b[1;32m    279\u001b[0m \u001b[0;34m\u001b[0m\u001b[0m\n\u001b[0;32m--> 280\u001b[0;31m                 \u001b[0mout\u001b[0m \u001b[0;34m=\u001b[0m \u001b[0mfunc\u001b[0m\u001b[0;34m(\u001b[0m\u001b[0;34m*\u001b[0m\u001b[0margs\u001b[0m\u001b[0;34m,\u001b[0m \u001b[0;34m**\u001b[0m\u001b[0mkwargs\u001b[0m\u001b[0;34m)\u001b[0m\u001b[0;34m\u001b[0m\u001b[0;34m\u001b[0m\u001b[0m\n\u001b[0m\u001b[1;32m    281\u001b[0m                 \u001b[0mself\u001b[0m\u001b[0;34m.\u001b[0m\u001b[0m_optimizer_step_code\u001b[0m\u001b[0;34m(\u001b[0m\u001b[0;34m)\u001b[0m\u001b[0;34m\u001b[0m\u001b[0;34m\u001b[0m\u001b[0m\n\u001b[1;32m    282\u001b[0m \u001b[0;34m\u001b[0m\u001b[0m\n",
            "\u001b[0;32m/usr/local/lib/python3.10/dist-packages/transformers/optimization.py\u001b[0m in \u001b[0;36mstep\u001b[0;34m(self, closure)\u001b[0m\n\u001b[1;32m    444\u001b[0m                 \u001b[0;31m# In-place operations to update the averages at the same time\u001b[0m\u001b[0;34m\u001b[0m\u001b[0;34m\u001b[0m\u001b[0m\n\u001b[1;32m    445\u001b[0m                 \u001b[0mexp_avg\u001b[0m\u001b[0;34m.\u001b[0m\u001b[0mmul_\u001b[0m\u001b[0;34m(\u001b[0m\u001b[0mbeta1\u001b[0m\u001b[0;34m)\u001b[0m\u001b[0;34m.\u001b[0m\u001b[0madd_\u001b[0m\u001b[0;34m(\u001b[0m\u001b[0mgrad\u001b[0m\u001b[0;34m,\u001b[0m \u001b[0malpha\u001b[0m\u001b[0;34m=\u001b[0m\u001b[0;34m(\u001b[0m\u001b[0;36m1.0\u001b[0m \u001b[0;34m-\u001b[0m \u001b[0mbeta1\u001b[0m\u001b[0;34m)\u001b[0m\u001b[0;34m)\u001b[0m\u001b[0;34m\u001b[0m\u001b[0;34m\u001b[0m\u001b[0m\n\u001b[0;32m--> 446\u001b[0;31m                 \u001b[0mexp_avg_sq\u001b[0m\u001b[0;34m.\u001b[0m\u001b[0mmul_\u001b[0m\u001b[0;34m(\u001b[0m\u001b[0mbeta2\u001b[0m\u001b[0;34m)\u001b[0m\u001b[0;34m.\u001b[0m\u001b[0maddcmul_\u001b[0m\u001b[0;34m(\u001b[0m\u001b[0mgrad\u001b[0m\u001b[0;34m,\u001b[0m \u001b[0mgrad\u001b[0m\u001b[0;34m,\u001b[0m \u001b[0mvalue\u001b[0m\u001b[0;34m=\u001b[0m\u001b[0;36m1.0\u001b[0m \u001b[0;34m-\u001b[0m \u001b[0mbeta2\u001b[0m\u001b[0;34m)\u001b[0m\u001b[0;34m\u001b[0m\u001b[0;34m\u001b[0m\u001b[0m\n\u001b[0m\u001b[1;32m    447\u001b[0m                 \u001b[0mdenom\u001b[0m \u001b[0;34m=\u001b[0m \u001b[0mexp_avg_sq\u001b[0m\u001b[0;34m.\u001b[0m\u001b[0msqrt\u001b[0m\u001b[0;34m(\u001b[0m\u001b[0;34m)\u001b[0m\u001b[0;34m.\u001b[0m\u001b[0madd_\u001b[0m\u001b[0;34m(\u001b[0m\u001b[0mgroup\u001b[0m\u001b[0;34m[\u001b[0m\u001b[0;34m\"eps\"\u001b[0m\u001b[0;34m]\u001b[0m\u001b[0;34m)\u001b[0m\u001b[0;34m\u001b[0m\u001b[0;34m\u001b[0m\u001b[0m\n\u001b[1;32m    448\u001b[0m \u001b[0;34m\u001b[0m\u001b[0m\n",
            "\u001b[0;31mKeyboardInterrupt\u001b[0m: "
          ]
        }
      ]
    },
    {
      "cell_type": "code",
      "source": [
        "# predictions = trainer.predict(tokenized_dataset[\"dev\"])"
      ],
      "metadata": {
        "id": "IiYPFfvRDePy"
      },
      "execution_count": null,
      "outputs": []
    },
    {
      "cell_type": "code",
      "source": [
        "# true_predictions, true_labels = return_predictions(predictions)\n"
      ],
      "metadata": {
        "id": "qWLSNoF3tzzg"
      },
      "execution_count": null,
      "outputs": []
    },
    {
      "cell_type": "code",
      "source": [
        "# tokenized_dataset[\"dev\"][0]"
      ],
      "metadata": {
        "id": "8qxzb3AU1d66"
      },
      "execution_count": null,
      "outputs": []
    },
    {
      "cell_type": "code",
      "source": [
        "# count = 0\n",
        "# for i in true_predictions:\n",
        "#   for x in i:\n",
        "#     if x == \"i\":\n",
        "#       count += 1\n",
        "\n",
        "# true_count = 0\n",
        "# for j in true_labels:\n",
        "#   for y in j:\n",
        "#     if y == \"i\":\n",
        "#       true_count += 1"
      ],
      "metadata": {
        "id": "b6mm1ViIt6ac"
      },
      "execution_count": null,
      "outputs": []
    },
    {
      "cell_type": "code",
      "source": [
        "def create_files_from_dataset(dev_set):\n",
        "  \"\"\"\n",
        "  create ref and hyp files for eval script\n",
        "  this will write files to the colab directory, you can download them and then run eval.py\n",
        "  \"\"\"\n",
        "  predictions = trainer.predict(dev_set)\n",
        "  true_predictions, true_labels = return_predictions(predictions)\n",
        "  with open(\"italian_output_ref.tsv\", \"w\") as ref_out:\n",
        "    with open(\"italian_output_hyp.tsv\", \"w\") as hyp_out:\n",
        "      for i in range(len(dev_set)):\n",
        "        tokens = dev_set[i][\"tokens\"]\n",
        "        labs = true_labels[i]\n",
        "        preds = true_predictions[i]\n",
        "        for j in range(len(tokens)):\n",
        "          tok = tokens[j]\n",
        "          p = preds[j]\n",
        "          l = labs[j]\n",
        "          ref_out.write(tok + \"\\t\" + l + \"\\n\")\n",
        "          hyp_out.write(tok + \"\\t\" + p + \"\\n\")\n",
        "        ref_out.write(\"\\n\")\n",
        "        hyp_out.write(\"\\n\")\n",
        "\n",
        "  return\n"
      ],
      "metadata": {
        "id": "aXg0jW3X1LSl"
      },
      "execution_count": null,
      "outputs": []
    },
    {
      "cell_type": "code",
      "source": [
        "create_files_from_dataset(tokenized_dataset[\"dev\"])"
      ],
      "metadata": {
        "id": "i7GAztgZ1vas"
      },
      "execution_count": null,
      "outputs": []
    },
    {
      "cell_type": "markdown",
      "source": [
        "So I just tested the results on italian so far, but the architecture would remain the same for the multilingual setting just with different models."
      ],
      "metadata": {
        "id": "uDGk47SK5BAQ"
      }
    },
    {
      "cell_type": "markdown",
      "source": [
        "![italian_results.jpg](data:image/jpeg;base64,/9j/4AAQSkZJRgABAQEAkACQAAD/2wBDAAMCAgMCAgMDAwMEAwMEBQgFBQQEBQoHBwYIDAoMDAsKCwsNDhIQDQ4RDgsLEBYQERMUFRUVDA8XGBYUGBIUFRT/2wBDAQMEBAUEBQkFBQkUDQsNFBQUFBQUFBQUFBQUFBQUFBQUFBQUFBQUFBQUFBQUFBQUFBQUFBQUFBQUFBQUFBQUFBT/wAARCABvAuYDASIAAhEBAxEB/8QAHwAAAQUBAQEBAQEAAAAAAAAAAAECAwQFBgcICQoL/8QAtRAAAgEDAwIEAwUFBAQAAAF9AQIDAAQRBRIhMUEGE1FhByJxFDKBkaEII0KxwRVS0fAkM2JyggkKFhcYGRolJicoKSo0NTY3ODk6Q0RFRkdISUpTVFVWV1hZWmNkZWZnaGlqc3R1dnd4eXqDhIWGh4iJipKTlJWWl5iZmqKjpKWmp6ipqrKztLW2t7i5usLDxMXGx8jJytLT1NXW19jZ2uHi4+Tl5ufo6erx8vP09fb3+Pn6/8QAHwEAAwEBAQEBAQEBAQAAAAAAAAECAwQFBgcICQoL/8QAtREAAgECBAQDBAcFBAQAAQJ3AAECAxEEBSExBhJBUQdhcRMiMoEIFEKRobHBCSMzUvAVYnLRChYkNOEl8RcYGRomJygpKjU2Nzg5OkNERUZHSElKU1RVVldYWVpjZGVmZ2hpanN0dXZ3eHl6goOEhYaHiImKkpOUlZaXmJmaoqOkpaanqKmqsrO0tba3uLm6wsPExcbHyMnK0tPU1dbX2Nna4uPk5ebn6Onq8vP09fb3+Pn6/9oADAMBAAIRAxEAPwD8yqKK76P9n34oyxq6fDbxe6MMqy6FdEEeo/d0AcDRXXah8H/Huk6rpumX3gjxHZ6lqRkFjZ3Gk3Ec10UALiJCmX2ggnaDgEZrS/4Z6+Kn/RNPGH/ghuv/AI3QB5/RXXWfwf8AHuoa1qGj2vgjxHc6tpwjN7YQ6TcPPbB13IZIwm5Nw5G4DI5FaX/DPXxU/wCiaeMP/BDdf/G6APP6K67w/wDB/wAe+LtKi1PQ/BHiPWtNlLCO80/SbieFypIYB0Qg4IIPPUU7X/g34/8ACukz6rrfgfxJo+mW+3zr3UNIuIIY9zBV3O6BRlmAGTySB3oA4+iu+j/Z9+KMsaunw28XujDKsuhXRBHqP3dZ+ofB/wAe6Tqum6ZfeCPEdnqWpGQWNncaTcRzXRQAuIkKZfaCCdoOARmgDkaK9A/4Z6+Kn/RNPGH/AIIbr/43WbZ/B/x7qGtaho9r4I8R3OracIze2EOk3Dz2wddyGSMJuTcORuAyORQByNFegf8ADPXxU/6Jp4w/8EN1/wDG6zfD/wAH/Hvi7SotT0PwR4j1rTZSwjvNP0m4nhcqSGAdEIOCCDz1FAHI0V2Gv/Bvx/4V0mfVdb8D+JNH0y32+de6hpFxBDHuYKu53QKMswAyeSQO9Xo/2ffijLGrp8NvF7owyrLoV0QR6j93QBwNFddqHwf8e6Tqum6ZfeCPEdnqWpGQWNncaTcRzXRQAuIkKZfaCCdoOARmtL/hnr4qf9E08Yf+CG6/+N0Aef0V11n8H/Huoa1qGj2vgjxHc6tpwjN7YQ6TcPPbB13IZIwm5Nw5G4DI5FaX/DPXxU/6Jp4w/wDBDdf/ABugDz+iiigAor7n+B+j/s6/G3/hLPsnwcu9L/4R/SZNVfzvEV4/nKn8AxKME+tfNfxk8ZfC7xRY6ZH8Pfh7deCrmGR2u5rjVZrzz1IG1QJGO3Bycj1oA8sorqf+FU+Nv7AOu/8ACHa//Ynl+b/aX9lz/ZtmM7vM27cY5zmvcf2JvCOheK/+Fq/23oun6x9j8K3Fxa/2haxz+RKOkibwdrD+8OaAPmWitbw74Q17xhNcw6Domo63NbQm4nj060kuGiiBALsEB2qCRyeOab4c8K634w1D7DoOj6hrd7t3fZtNtXuJMZxnagJxyKAMuitXxJ4T1zwbqAsdf0bUNDvdu/7NqVrJbybemdrgHHB/KtjT/hD471aS0jsvBXiK8e7tVvbdbfSp3M1u33ZkAT5oz2YcH1oA5KirWqaTfaHqE9hqVncaffQNsltbqJopY29GVgCD9aq0AFFfR/7Fvwy8F/EbVvHc3jbQT4gsND0J9ShtVu5rY70YE/NE6nkAjnI56V1en+Dfgl8evhf8RL/wV4K1bwB4h8JaTJrCyyalLeW9wiKzGNjI7YLbSMAA8ggnBFAHyLRXReFfhz4s8dQ3MvhvwvrXiGK2IWd9K0+a5WIkEgMUU7c4PX0NZGraPf6DqEtjqdjc6dexHEltdwtFIn1VgCKAKlFdL4Z+GfjDxrbtceHvCmua9ApKmXTNOmuVBHUZRSM8is/xN4S1zwXqQ0/xDouoaFflBKLXU7WS3l2HOG2OAcHB5x2NAGVRXVD4UeN20A66PB3iA6II/N/tL+y5/s2zGd3mbNuMc5zXP6VpN9r2oQWGm2VxqN9O22K1tYmllkOM4VVBJP0oAq0V9Wfs6fB6bS/A3x0HjnwRJaalZeDri804eIdJKTQSCKciWHzUyrAgfMuDkDmvlOgAoor7V+Jej/s7/BeXwVoviT4XalqNzrHh2y1e51bTtauQ6GXerYiaYKTujJxwPm9qAPiqivbP2n/gbpPwj1jw9q/hTU5NX8D+K7L+0dHuJxiVV+UtG/AyVDoc4Bw2CMgk+ej4UeN20A66PB3iA6II/N/tL+y5/s2zGd3mbNuMc5zQBytFeg/BX4Pa38XPG2h6faaJrN7oM2qWtnqepaXZvKllDJIqu7uFKphCzZbj5cngV1Hxx/Zj8V/DXx34os9G8K+KNS8J6SzPHrc2lyvC0Kxh3laVYwm0fNlugA9qAPFqK1PDnhXW/GGofYdB0fUNbvdu77Nptq9xJjOM7UBOORS+JPCeueDdQFjr+jahod7t3/ZtStZLeTb0ztcA44P5UAZVFdD4X+HXivxwkr+HPDGs+IFhO2RtL0+W5CHrg7FOOvei3+HPiy68Snw7B4Y1mbxAqlzpMenytdhQMk+UF3Yxz06UAc9RX0f8Yf2O/EXgvw18Pr3wv4a8W6/f61o0d7rFsmmSTHT7pkjLQlY48oQWYbX+b5fY14bpfgPxNrniK50DTvDurahrtq0iT6Xa2Msl1EyHa4aJVLKVPByOD1oAwqK9z+O2n6DoHwx+HWkxfCzxF4E8V28Dpqmq65ZyWqalIqp5hj38yfMwbJC7AwXBBFeQeHPCut+MNQ+w6Do+oa3e7d32bTbV7iTGcZ2oCccigDLorV8SeE9b8Hah9g1/RtQ0O+27/s2pWr28m312uAcVsaf8IfHerSWkdl4K8RXj3dqt7brb6VO5mt2+7MgCfNGezDg+tAHJUVa1TSb7Q9QnsNSs7jT76BtktrdRNFLG3oysAQfrVWgAore8KeAPFHjyS5Tw14b1fxE9sFM66TYy3RiDZ2lvLU7c4OM9cGui/wCGevip/wBE08Yf+CG6/wDjdAHn9Fdd4f8Ag/498XaVFqeh+CPEetabKWEd5p+k3E8LlSQwDohBwQQeeop2v/Bvx/4V0mfVdb8D+JNH0y32+de6hpFxBDHuYKu53QKMswAyeSQO9AHH0V30f7PvxRljV0+G3i90YZVl0K6II9R+7rP1D4P+PdJ1XTdMvvBHiOz1LUjILGzuNJuI5rooAXESFMvtBBO0HAIzQByNFegf8M9fFT/omnjD/wAEN1/8brNs/g/491DWtQ0e18EeI7nVtOEZvbCHSbh57YOu5DJGE3JuHI3AZHIoA5GivQP+Gevip/0TTxh/4Ibr/wCN1m+H/g/498XaVFqeh+CPEetabKWEd5p+k3E8LlSQwDohBwQQeeooA5Giuw1/4N+P/Cukz6rrfgfxJo+mW+3zr3UNIuIIY9zBV3O6BRlmAGTySB3q9H+z78UZY1dPht4vdGGVZdCuiCPUfu6AOBorrtQ+D/j3SdV03TL7wR4js9S1IyCxs7jSbiOa6KAFxEhTL7QQTtBwCM1pf8M9fFT/AKJp4w/8EN1/8boA8/orrrP4P+PdQ1rUNHtfBHiO51bThGb2wh0m4ee2DruQyRhNybhyNwGRyK0v+Gevip/0TTxh/wCCG6/+N0Aef0V13h/4P+PfF2lRanofgjxHrWmylhHeafpNxPC5UkMA6IQcEEHnqKdr/wAG/H/hXSZ9V1vwP4k0fTLfb517qGkXEEMe5gq7ndAoyzADJ5JA70AcfRXfR/s+/FGWNXT4beL3RhlWXQrogj1H7us/UPg/490nVdN0y+8EeI7PUtSMgsbO40m4jmuigBcRIUy+0EE7QcAjNAHI0V6B/wAM9fFT/omnjD/wQ3X/AMbrj9f8Par4V1afStb0y80fU7fb51lqFu8E0e5Qy7kcBhlWBGRyCD3oAz6KKKACiiigAooooAKKKKACiiigAooooAK+6bLwF8fWs4DF+0f4QijMalY28USgqMcAjyO1fC1FAH1b478I/F21+J3w8ttV+NXhzWNcuZL0aVrFvr0ksOllY0MplkMQMfmKVUYByVI4xXof/CAftAf9HJ+D/wDwqpf/AIxXwfRQB9W+EvCPxduPjB48tNP+NXhzTfEVvHYnU9dm16SODUg0IMQjl8omTy1+U5AweOa9D/4QD9oD/o5Pwf8A+FVL/wDGK+D6KAPq34C+Efi7q3wx0258J/Grw54N0NpJhDo+oa9JazQkSMGJjETAbmyw55BzU/x08IfGDS/hZrd14p+N3hvxfoMfkfadF0/X5Lqa4zPGE2xmJQ21yrnkYCk9q+S6KAPumy8BfH1rOAxftH+EIozGpWNvFEoKjHAI8jtXB+O/CPxdtfid8PLbVfjV4c1jXLmS9Glaxb69JLDpZWNDKZZDEDH5ilVGAclSOMV8pUUAfeH/AAgH7QH/AEcn4P8A/Cql/wDjFeeeEvCPxduPjB48tNP+NXhzTfEVvHYnU9dm16SODUg0IMQjl8omTy1+U5AweOa+UqKAPvD/AIQD9oD/AKOT8H/+FVL/APGK88+AvhH4u6t8MdNufCfxq8OeDdDaSYQ6PqGvSWs0JEjBiYxEwG5ssOeQc18pUUAfWnx08IfGDS/hZrd14p+N3hvxfoMfkfadF0/X5Lqa4zPGE2xmJQ21yrnkYCk9q7Wy8BfH1rOAxftH+EIozGpWNvFEoKjHAI8jtXwtRQB9W+O/CPxdtfid8PLbVfjV4c1jXLmS9Glaxb69JLDpZWNDKZZDEDH5ilVGAclSOMV6H/wgH7QH/Ryfg/8A8KqX/wCMV8H0UAfVvhLwj8Xbj4wePLTT/jV4c03xFbx2J1PXZtekjg1INCDEI5fKJk8tflOQMHjmvQ/+EA/aA/6OT8H/APhVS/8Axivg+igAooooA+sP2B/+aw/9ifc14t+zhoGl+KPjx4D0rWljk0y61eBJopRlJfmBEbDuHYBcf7VRfCL43a78F/8AhJP7EtNPuv7e019Luv7QjkfZE/Vk2OuG9zke1cHY31xpt7b3lpNJbXVvIssM0TFXjdTlWUjoQQDmgD76m/aA+JS/t6DwYmp3DeGf7YXTP7B8tRb/AGMxjL7cdQn7zd198cVY+A/hfw/4f/aU/aP0SzmTTPDselXcbyQR7ltI2cGQKi9oyzAKP7uK8Q/4eD/E37D/AMeHhg659n+zDxH/AGX/AMTELjGd+/Znv9zGe1eX/DH4/eJvhXfeLb2wjs9Uu/E9jNY6hPqqySuVkJLyKVdTvJJOWz16UAfVNj4f8GfBz9k/4jeKPg5rNz49u9WK6NqmszRvbSafbsNrssJVXUASdT3dWyQlN/Z1j0vwb+xjeeILPxy3w3vtT11oNV8TW2iy6pPGijEcGIsNECNpDngFyOC4NfLPwb+P3iH4KQ+IrTS7TTNY0nxBafY9Q0rWYXmtpl5G4qjod21nXrjDnjpif4M/tH+MvgXPqK+HJrWXS9R5utH1GEz2cp6A7CwIOOMhgSAAc4FAHtf7RXxW8D+Mv2e7Dw8/xRPxS8babrAubLVJtBudPnjtWjKvEzSKQ3POS2T8vHy5PRftGfGjxn8KvhL8Abfwjrk+gC88H2U11JZqoknMcEIjV2IJKrufC9PnOc189/GL9o/VvjNodjpV94W8KeHre0uftSt4e05rV3baVwxMjZGD+grE+Jvxq1v4raF4L0nVrXT7e38KaXHpNk1lG6vJEiooaUs7AthByoUdeKAPov8AbU1bw5pn7SHgDXPF2gt4i0m68KWd1qlhbztaveOzXKg70IKkEJ07IB0rjf8Ahbn7NP8A0QfUv/Cnu/8A45Xk3xm+NWt/HLXdJ1bXbXT7S40zS4dJhXTo3RGijZ2VmDuxLZkbJBA4HFcBQB9w/sceKfDknxL+MuveDPDS6F4fi8LGe00S+ne7VDGib1d2bc6u6sxBPRsU74I/F+X9rrUtV+FWveGdP8KWWpWU1yL7wV51gsbxgYNxFvZJUJIHzd9o7180/Ar9oDX/ANn/AFbV9Q0HTtI1N9UtPsVxDrEEksRj3BiAqSJ1xjnIx2r0bUv29fHkmh6hp2ieHvB/g576Iwy33h7Snt7kKRjhjKwB54OMjtigDe+BvgnWPhT8O5/GmufGK6+GHhjUNTksYIdHtJLyXUZoC6Ftq/dUFXwSDkA5AyK6j9tdtM8W/s9/CvxjFrb+LtQmu7qzTxJcad9hnvLfdIQHiwD8pQAHocFgBvrwr4b/ALU3iT4d+BV8HS6B4X8X+HYrhrq2svFGl/bEtZGOS0fzrjkk855Jx1rW8Xftl+MPHfgHU/CWvaD4V1KyvXd47mbTW8+y3AKv2fEmyPYqqqkLkAcknJoA9p8G/tIeEfF3wf8ABXhCz+J2tfBXWtBsUsZWttO8+zvpAqgzM8Y3DcQScsoBdsg9TymrfCfxHa/tffDXSfip4ih8b2OqvbzWeqO++O8tQ7tFGwYd34KnOQ+ASDXIeHP22vEnhrw7pGkReBPAN4ulWkVnbXl7o0klwEjUKhL+dywxnOOvNeZfFP44eL/jD42h8U+INS/4mtsqR2hs18hLRUYsoiC8rhiWzknJ60AfePjD4yaZ4D+Pl7da9+0Xc6RaadqHlz+C28GXn2ZbZW/1AcZDEp0mAOSQw4wK8x+A+raHpnij9prx38PIYZjpmmTXXh+4W3ZfIikMzsyRuoKgbFOCBgLjpXm1r+334+ksrSPW/Dvg3xVe2yCNNT1rRzLc8dDuWRVz06L2rzD4dfH7xX8K/iJqXjDw7JaWl5qTym7sGh3WcySPvMZjJztBxjByMdeuQD6R/Zk+LHjP4jfBz9oG18Ua9f8AiK3s/CV5NbzalK07wPJBPvVXbJCtsHy5x8gwBzXxPX0FqH7a3i+60XxBo9j4Y8H6BpGuabdabdWOi6W9rF/pC7ZJwFl5mx0ZiwGTxya+faACvpn9uxS3jH4YKoJJ8A6WAB3/AHlxXzNX03Z/t++NrOw0mD/hEPA9xdaXZxWVpqVxpUsl1HHGu1cO0/B6ngYyTxzQB7NqnhXT/wCxf2RfAnjG2UXck8l1c2NwBxGdjxxSBuRvYohXHO1h2rrPGHxk0zwH8fL26179ou50i007UPLn8Ft4MvPsy2yt/qA4yGJTpMAckhhxgV+f/j74seK/iZ41bxZ4g1ie613cpiuYz5X2cIcosQXGwKeRjvk9STXtNr+334+ksrSPW/Dvg3xVe2yCNNT1rRzLc8dDuWRVz06L2oAX4e/FabQ/2uILH4ca/daf4F8QeNLQ/ZLPfBDc28l0o2mNgCF2uy7SBgHFXP2wfjl8Q9L+N3xC8JweLdWt/DjSm0OliciEwSQruTb/AHWDH8DXzldeJr2fxXN4igKafqL3rX8ZswUWCUyeYPLGTgK3Tk4wK991X9vPxv4h0qS21rwt4J1m9ktmtX1a90dmuypUqTuEoUHBPRQOelAHrv7Osel+Df2MbzxBZ+OW+G99qeutBqvia20WXVJ40UYjgxFhogRtIc8AuRwXBri/2ivit4H8Zfs92Hh5/iifil4203WBc2WqTaDc6fPHatGVeJmkUhueclsn5ePlyfEvgt+0b4z+BEl/H4duba40zUAPtek6nD59pMwGAxTIIbHGVIyMA5wKt/GL9o/VvjNodjpV94W8KeHre0uftSt4e05rV3baVwxMjZGD+goA+hv2lviV4q+Afw3+EOgfDXUpPD3hK80GO9Oo6aiqb65YKzs0mOpDBzg8+ZznivnXxV+1F8SfF3ijRfEd34ie217SLI2NtqNjClvOY2++XZQCxbvnjrgDJz0Hw1/bK8efDfwbB4Ua20PxX4ftv+Pax8S2JulgH91SHU7Rk4BJx0GBxXCfGH4v3/xn8QWer6jomh6FLa2os47fQbRraDyw7OMoXbnLtz7+woA+qP2qvjl8Q/B/w9+Bl/o3i3VtMuNZ8KQXd/PbzlTdTmGBmdz3bLkn/er5D0T4n+LPDfi688U6Xr99Y+Irx5XuNShlKzStI26Qs3fc3Jr1fwH+2p438EeCdO8KXOkeGfFuj6cNllH4k05rlrdOyqVkTgdBnJA4zgCue8L/ALSmreF/iN4j8ZL4S8I6ne64uJrHUNMaSzg5BzDGJAVJ2+p6mgD1n9srXtQ8UfAf9nXVtWvJtQ1K80zUJri6nbc8jkWmWJ9a0/hb4gv/AIS/sF6/4v8ABdz9h8T6h4iWz1DVIIwZraEbAqBiDtGCMennHHJFc1ef8FCPGGpWdnaXfgD4d3VrZqVtoJtGmdIAcZCKbjCg4HT0FeXfBX9pHxf8CodTtNDGn6lo+pYN3o+sW5uLSVhwGKhlIOODgjIxnOBgA94+I/iDUfi5+wRpXi7xvL9u8S6X4hNnpurXCqJ7mEnaylgBkffB9TCCckVp/tGfGjxn8KvhL8Abfwjrk+gC88H2U11JZqoknMcEIjV2IJKrufC9PnOc186/Gn9pLxf8dLfTLLWhp+maLpvNpo2i25t7OJsY3hCzEtgkDJOATjGTnK+Jvxq1v4raF4L0nVrXT7e38KaXHpNk1lG6vJEiooaUs7AthByoUdeKAPaf+Ci2Lj4v+E79kQXd/wCEbG5uZFUKZZDLcAscd8Ko+gFfK9d/8ZvjVrfxy13SdW1210+0uNM0uHSYV06N0Roo2dlZg7sS2ZGyQQOBxXAUAe4/sv6D491y88QjwN8RtI+H0kccBu5NW1RrIXQJfYFKo27bhs9Mbh617/8A8IB+0B/0cn4P/wDCql/+MV8H0UAfVvwF8I/F3Vvhjptz4T+NXhzwbobSTCHR9Q16S1mhIkYMTGImA3NlhzyDmp/jp4Q+MGl/CzW7rxT8bvDfi/QY/I+06Lp+vyXU1xmeMJtjMShtrlXPIwFJ7V8l0UAfdNl4C+PrWcBi/aP8IRRmNSsbeKJQVGOAR5HauD8d+Efi7a/E74eW2q/Grw5rGuXMl6NK1i316SWHSysaGUyyGIGPzFKqMA5KkcYr5SooA+8P+EA/aA/6OT8H/wDhVS//ABivPPCXhH4u3Hxg8eWmn/Grw5pviK3jsTqeuza9JHBqQaEGIRy+UTJ5a/KcgYPHNfKVFAH3h/wgH7QH/Ryfg/8A8KqX/wCMV558BfCPxd1b4Y6bc+E/jV4c8G6G0kwh0fUNektZoSJGDExiJgNzZYc8g5r5SooA+tPjp4Q+MGl/CzW7rxT8bvDfi/QY/I+06Lp+vyXU1xmeMJtjMShtrlXPIwFJ7V2tl4C+PrWcBi/aP8IRRmNSsbeKJQVGOAR5HavhaigD6t8d+Efi7a/E74eW2q/Grw5rGuXMl6NK1i316SWHSysaGUyyGIGPzFKqMA5KkcYr0P8A4QD9oD/o5Pwf/wCFVL/8Yr4PooA+rfCXhH4u3Hxg8eWmn/Grw5pviK3jsTqeuza9JHBqQaEGIRy+UTJ5a/KcgYPHNeh/8IB+0B/0cn4P/wDCql/+MV8H0UAfVvwF8I/F3Vvhjptz4T+NXhzwbobSTCHR9Q16S1mhIkYMTGImA3NlhzyDmp/jp4Q+MGl/CzW7rxT8bvDfi/QY/I+06Lp+vyXU1xmeMJtjMShtrlXPIwFJ7V8l0UAfdNl4C+PrWcBi/aP8IRRmNSsbeKJQVGOAR5HauD8d+Efi7a/E74eW2q/Grw5rGuXMl6NK1i316SWHSysaGUyyGIGPzFKqMA5KkcYr5SooA+8P+EA/aA/6OT8H/wDhVS//ABivkv46af4g0v4p63a+KfEtn4v16PyPtOtafdG6huMwRlNshVS21CqHgYKkdq4OigAooooAKKKKACiiigAooooAKKKKACiiigAr0D/hnr4qf9E08Yf+CG6/+N15/X3T+xn8cvH/AI6/4Wj/AMJB4t1TVv7P8L3F1afaZy3kzDo6+jD1oA+RNU+D/jzQ7zT7TUvBPiLT7vUZfIsoLrSbiJ7qT+5GrIC7cjhcmrOofAv4k6TaSXV98PfFVnaxjLzXGi3KIo9SxTAr1H4E/GDxr8Tv2ivhfB4r8Tahr0NprUTwJezFxGzcEj6gCvSPGX7RnxV8P/tjaj4f0PxJqF5py+JVsotFkIlgeFpVBi2kHAwTyOR1BFAHxfRXtv7auh6b4d/ag8d2WkwRW1l9ogn8qEAIJJLaKSXAHTMjucepNeJUAFFFFABRRRQAUUUUAFFFFABXcaf8C/iTq+n219Y/D3xVe2N1Es8Fzb6LcyRyxsAyujBMMpBBBHBBrh6/Qf4sf8Lp/wCFR/Az/hVX/CRfZP8AhD7L7d/Yudm/7PDs3Y74zQB8Tap8H/Hmh3mn2mpeCfEWn3eoy+RZQXWk3ET3Un9yNWQF25HC5NWdQ+BfxJ0m0kur74e+KrO1jGXmuNFuURR6limBXs/w08afE3Vf2qPhz4d+JOqaxcajpWtQOLDV3Je3aRVYHB6bkKn6EV2XjL9oz4q+H/2xtR8P6H4k1C805fEq2UWiyESwPC0qgxbSDgYJ5HI6gigD4vor239tXQ9N8O/tQeO7LSYIray+0QT+VCAEEkltFJLgDpmR3OPUmvEqACiiigAooooAKKKKACiiigAruNP+BfxJ1fT7a+sfh74qvbG6iWeC5t9FuZI5Y2AZXRgmGUgggjgg1w9foP8AFj/hdP8AwqP4Gf8ACqv+Ei+yf8IfZfbv7Fzs3/Z4dm7HfGaAPibVPg/480O80+01LwT4i0+71GXyLKC60m4ie6k/uRqyAu3I4XJrKv8AwX4h0rxKnh290LU7PxBJJHCmk3FnIl20kmPLQRFdxZty4GMncMda+hfhp40+Juq/tUfDnw78SdU1i41HStagcWGruS9u0iqwOD03IVP0Ir3H9ojRLXxZ+0b8JviBpyKJLHxzbeE9YRDny54L1JLcn3eFiTn0UUAfn3q2kX2g6lc6dqdlcadqFs5jntLuJopYmHVWRgCp9iKqV6x+1h/ycj8Rf+wxN/OvJ6ACiiigAooooAKKKKACiiigArurf4DfEy8s4ruD4d+LJ7WWMSxzx6JcsjoRkMGCYII5zXC19yftd/Gjxz8L7b4S2/hTxPqGhW8/hS1nlhtJcJI4AAZlPB4GOaAPiPUdNu9HvprK/tZrK8hbbLb3EZjkQ+jKRkH61Xr7Q/ae0u0+Jek/s9a5461O38Ja54k0q4TXNca03sscYhaGWSJSuc+Y5wMAbyBwMVzHjL9jDwv8O9a0/wD4Sf4w2OjeGtVs4LjS9Ym0aRnvXkLbkWBZSVVFETNIzADzlzigD5Wor6Em/Yv8Vx/H69+GaajZFbK1GpXGvSZjt4rIgfvmUnIOTt256jrj5queJP2R9FuPBviDW/h38U9I+Il14fga71LTLa0a2mSBfvyR/vH8wDrngEDg5wCAfN9Fez/A39mm7+Lnh/WfFOr+I9P8EeCdJcQ3OuakN6mU4Plom5dxAZc5YfeUDJPFr4ufs7+HPA/gOLxd4T+Keh+OtM+1CzmgijFndI5GRthaRiwHU9CBzgjOADw6iiigAooooAKKKKACu6tfgL8Tb21iurf4deLJ7aZBLHNFod0yOhGQwYR4II5yK4WvuH9qL4nfFPwXrXw0sfA2r69Y6dJ4L0yZ4NLR2jactKCSACCxVUGPQCgD4n1LTbzRr6ay1C0nsbyFtktvcxtHJG3oykAg/Wq1fYv7anhvV/G+rfBFbrS1HxO8RaJDBqloiLFLJOxjWPevRTvaUc9MEcBeMpv2H/D8etr4Rk+NPh2P4isoUeHjaOY/PK5EJn8z72e2zd/s9qAPk+ivT/hv+zv4t+JHxau/h/bQRafq2nSTLqc122IrJIn2SOxHUBsAY6kjtyPTNV/ZJ8EzaPrbeGfjt4Z17W9JtnuZtPngFpE6p94JOZmVvTIGMkZI60AfMlFFFABRRRQAUUUUAFFFFABXcaf8C/iTq+n219Y/D3xVe2N1Es8Fzb6LcyRyxsAyujBMMpBBBHBBrh6/Qf4sf8Lp/wCFR/Az/hVX/CRfZP8AhD7L7d/Yudm/7PDs3Y74zQB8N+Kvhv4u8Cw28viXwtrXh6K4YrDJqunTWyysBkhTIoyRkdPWnr8L/GTeHP8AhIB4S106D5fm/wBqDTZvsuzGd3m7duMc5zXtfg9fiB8WP2j/AAR8Pvi3qGsX5tNTjluNK1g7yieWJmUqegeNVz/stX0Rc/Ez4z2v7Qb+JhHPH8GofFn/AAiRsw8H2YRi4+xlhF9//WZbdjr8uccUAfnNRXp37Tfgmy+Hfx88b6BpsSwafbag0lvCoAWKORVlVFA6KocKPYCvMaAOj8K/Dfxd46huJfDXhbWvEMVuwWaTStOmuViYjIDGNTgnB6+lP8U/C/xl4Hs4rvxJ4S13w/aTSeVHPqmmzW0bvgnaGdQCcAnHsa+sP2Mri9sv2bvi02m+K9N8G6pc3lrDaavqd+LSO3cAFmL4JHytgYByTivPv2mfBfxc0/wRo+teJvH0HxK8CXN1mz1XTL83VtHPtYDdkDaxG8AjI4IJB4oA+aqKKKACiiigAooooAKKKKACiiigAooooAKKKKACiiigAr6w/YH/AOaw/wDYn3NfJ9FAHrH7J/8Aycj8Ov8AsMQ/zr6A+PH7aXi74c/GTxronh7wz4O0+5sb6a1i1tdJLagR03tIZNrN9VwfSvieigC/r2vaj4o1q91fVryXUNTvZWnuLqdtzyOxySTVCiigAooooAKKKKACiiigAooooAK+yv2oviT4u8C/Cv8AZ9h8NeKda8PRXHgy1eaPStQmtlkYQQAFhGwyRk9a+NaKAPaP2b/EWq+Kv2p/AWq63qd5rGp3GsW/nXuoXDzzSbQFXc7kscKoAyeAAO1e4fHj9tLxd8OfjJ410Tw94Z8Hafc2N9Naxa2ukltQI6b2kMm1m+q4PpXxPRQBf17XtR8Ua1e6vq15LqGp3srT3F1O255HY5JJqhRRQAUUUUAFFFFABRRRQAUUUUAFfZX7UXxJ8XeBfhX+z7D4a8U614eiuPBlq80elahNbLIwggALCNhkjJ618a0UAe0fs3+ItV8VftT+AtV1vU7zWNTuNYt/OvdQuHnmk2gKu53JY4VQBk8AAdq+qfhPr1lrv7X/AMVPh5rExS1vfEcHiHTeR8l9Y3CTYUerxqQfZK/O6igD1j9rD/k5H4i/9hib+deT0UUAFFFFABRRRQAUUUUAFFFFABX6E/tJftGar8E9L+FdnpvhXwprjXXhe1uftWvac1zPCwUACNhIu0cZ6Hmvz2ooA9c1LXviJ+2N8XdPsrm5i1PxFfJJFY2pZbe2gjjjeVkQdFAVGPOST1JNfTP7dfwH8Zaj4N8GeI4rSE6P4T8NQWmps10gMUoKqwVc/NzjkV8FUUAfUH7BnxG8P+EfGPizw74gn0yzj8U6S1haz63EJbAzjO2K4UkAxuGIIJAbG3ILCvbfGGm/Gb4WeDvF+s2nww+Duh6R/ZVxBd6x4csDBNNasvziMrKGOcBtrDGUBI4r88qKAPsL4G2Vh8ff2TtW+EWn63p2ieNdP1r+1bO1v5vKTUIyB3xyQWcYAONsZOAcjx/4vfsn/EH4H+GIte8VWllb2Mt2togtrtZnLMrsGKr0X5MZPdlHevHaKACiiigAooooAKKKKACvvn49/tT+O/gP4v8AhPp+hamq+GT4S0rUL7SWtYHF0S8qyDzGQuu5I1X5WGMZ9a+BqKAPtn42alb/AA0/a1+H/wAZ7i/utZ8B+IzBqdpeOWlNvD5YWWNRyRsEgcIP72AMg17L4k8M+PtV8bSeK/hr8P8A4J+LNFubv+0rDxIdOUXiMX8xZZZRKCZQ3JkXkkZwp4H5g0UAfY37OnxZtrj9ob4q6Z8QLzT/AA1qXjW1vNKl1C3Zkt7a83lSqMzHap+fBZuqqM81w3i39gn4o+EdH1fWZU0e90XTraa7N7a36sJo40Lfu1xuLEDAXHJIFfOVFABRRRQAUUUUAFFFFABRRRQAV9lftRfEnxd4F+Ff7PsPhrxTrXh6K48GWrzR6VqE1ssjCCAAsI2GSMnrXxrRQB6d8Ifi/eeGvj54X8eeKNSvtYlttQhe/vr2eS4uGh2iJmLNlmKxngeigV9m3HwT8VXnxibxd/wsCx/4UHJr48ZPJ/bA+zF9/wBpKlD8uDLnvtwd33q/OSigD0L9oL4gW/xS+NXjDxRZg/Yb+/c2xOctCgEcbHI4JRFOO2cVo/HT4A3/AMCx4VN9rmmaz/b2nLfp/Z0hbyemQc9VO4bXHDYbgYryyigD6E+DX7OGg/Hr4S38nhjXTb/FTT77D6JqV5FFbXVoRw8I2bt2TjJYjKEEDcpr0X4ieEW/Zv8A2ONZ+HvizVrGbxl4k1yK+g0eyuBM1pEnlFmf0GIeo4y4Azzj42ooAKKKKACiiigAooooAKKKKACiiigAooooAKKKKACiiigAr6e+F/7FMHj7wrDqV98TNC0zVrrSW1q30Cyj+2XgtwgYNMnmRmPqBnDDnqa+Ya+mv2AP+SseKf8AsUtQ/nFQB86eHtFn8Sa/pmkWzxRXOoXMVpE87bY1Z3CgsewyeT6V7/8AE79kOx+Hfwe1TxrbfEjR/FV1pd7DYXlhokPnQRTOVBT7R5n3l3AkFAfXFfONfTXgv/lH98Qf+xttf/QIKAPLvgZ8E7n42a/qFoNf0nwzpml2pvtQ1LVZ1RYIAcFlTILY78gDuRkZ9F8Yfsk6PH8O/EPi34e/E7S/iLD4eVZdVs7azNrNBEScyAGR9wADHtkK2MkYr5yDFcgEgEYPvX1p8O9Jk/Z1/ZY8feIfFB+w658Q7EaRoejynbPJbFWElwydQu2UkEj+Ff74oA80+An7N8Hxmsm1LVPHeheC9M+3rpkI1B993c3DBSqQwll353jo2c9u9cT8Zvhz/wAKj+J/iDwf/aH9rf2TOIPtnkeT5uUVs7Nzbfvep6U34K/8lk8B/wDYesP/AEojrtf2y/8Ak574gf8AX+v/AKKSgDxiiiigAooooAKKKKACvpnS/wBkHwxpeh6LceO/jR4b8Hatq9tHd2umxxC+IikGUaSRZVCg/wB7leDhjivmau7+DPwg1744eOrLw7osTEMVe8vWH7qztwQGlc9gB0Hc4AoA1viV+zv4n+HPxltvhw4h1PVb6aCPTri3OI7tJm2xuM/dGcg56FT1HJ9nX9hXw9/wko8Gt8a9BX4hbOdA+wPsEuzd5fneZ1x22bsc7arfG3x9d/Fn9sfwvH8LriO7vNDay0fR715MwzPA7SGRmHWMMz5PO5VJ5BxXsjap8DF/ac+3SXsw+Lov/ILAy/2D/a33OuPM+/8AL127vzoA+F/+FW+JpfiVN4CttLlvPFMd9Jp32GDktMjENgnA2/KTuOBtGSQOa9a+In7KWk/CXwrqM3in4qeHbfxla2/mp4WsEa5md+ojZww2EjPJTHTsc17X+zJo+s+Hvj18evFHjue3sPFuhaXd3NzeRqZIbd5S0rTRjrsCICoxna2OOlcx8P8AwF8DP2lrfxN4e8MaV4p0Xxxb6bNqcGu61e+e15IhG55lDsuWZlLAAfeODkUAfG1FFFABRRRQAUUUUAFFFFABX098L/2KYPH3hWHUr74maFpmrXWktrVvoFlH9svBbhAwaZPMjMfUDOGHPU18w19NfsAf8lY8U/8AYpah/OKgD5pt7eS7uIoIUaWaRgiIoyWYnAA/GveNO/ZE1mH9o/RfhBr3iHTrLUtQt3uX1DTI3u44ALeWYKVfyiWIix1wNwOT0rkv2YfC3/CZftB+ANLPMbatDcSDGcpCfOcfisZFfYvhX4bePNS/4KJTePL7wnqln4ZW+vIl1SaAiExJYS20T7vRiqY/3hQB8jfDH9nHW/it8V9b8G6VfW9va6LLOdQ1q8UpBbwRSFDIwBPJxwufXnAJHoOqfsb6LrPg/wAQ6x8OPitpPxCvtBt2ur3Srexa2l8tQSxj/ePv4BxwAcYBya6v4Ua5o/w0+Mnxp8B/Eqa48G2fje1u7SPUriPb5AkeUxsT2V0lJBPBwAevHefsq/CjwV8HvFHjrXbL4iaf45+x+F7prqbSY9tnZwFkY+c+4hncRthRwBG5PVaAPmb4Cfs3wfGaybUtU8d6F4L0z7eumQjUH33dzcMFKpDCWXfneOjZz271xPxm+HP/AAqP4n+IPB/9of2t/ZM4g+2eR5Pm5RWzs3Nt+96npTfgr/yWTwH/ANh6w/8ASiOu1/bL/wCTnviB/wBf6/8AopKAPGKKKKACiiigAooooAK+jfBf7I+m3HgHQfFPxC+Jek/DeLxCpl0e0vLf7RLcxYBEjfvECKQynPOAyk4zivnKv0E/aX8L/DDxB4/0Sy+IfinUPDelad8P7ObQkso/kmnMtwG48t8kKkPyDBOevFAHxz8cPgzrXwJ8fXHhjWZIbpvKW6tL62OYru3fOyVc8jlWBB6FTyRgnga+qf2zJnvvhf8As9X92d+pXHhJPOkb7zqI4CjE987mP4mvlagD2n9nT9nnT/jjYeMtQ1bxgvg7TPDNrFeXN1Jp5u1MbeZuJAkQqFEee+c16p4J/Yl+HnxIm1CLw18ebXVm0+2a8uzD4bkCwxA4LMxuAB9OpwfQ185+CPix4i+Hvh/xVoujXEMNh4mtBY6kskKuXiAcYUn7p+duRX0R8OmX4K/sLeMvFLbYdb+IF7/Yti3IY2qbkkI/D7V04+716UAedfCH9mFPiN4U1nxrrvjCz8D+AdPuTaJrep2xaS5kyMBIQ4zwRnDnk4G7Bwvxo/ZfX4b+AdN8d+GPGVh4/wDBt5cfZG1KxgMLwS4OA8e5sDII5OQcAjkV3/wu1TwH8Zv2V7b4XeIfG9l4B17QdabVLW51PAt7pHDjk5AJAlcddwwvUEiuo8X+FfDXwv8A2CPE+l6T4iXxNDqniiJYNWWMxW93Mvkl/s6kklFWB13dWKOfu4oA8O+Df7LGvfFTwzc+LdR1fTPBPgi2Yo+v65L5ccjAkERLkb8HjJIGeASQQE0b4AaD4q/aB0T4ceHPiBba9p2pKR/wkVpp7bI3ETuyCIyfNgpjIfB3A+1fTf7RutfCr4c6H8LfB/jnTtc8RaZp/hyCaz0LSLj7NCrMCjXUzb1LOxQhQCcfvc/eGfF/jb4b0v8AZr8c/Dn4mfCe6mttL8QacdU0y31NPOe1YxhXU7s5BSYcEkg7uSMUAa1l+xz8M9S8YL4Vtfj9aXHiJrs2A0+Pw1KZPPDFSn+vxwQcnOBgnOK8L+O3wxs/g38UNY8H2eunxF/Zhjjmvvsn2YGRkVmQJvf7u4DOeoPFe6/sRQprHxY8c/GHxRsez8L2F1rF1Ns2qbqfeeAOB8vn4HY7cCvl/wAU+Irzxf4m1bXdQbffandy3k7c8ySOXbr7k0AZdFFFABX0b4L/AGR9NuPAOg+KfiF8S9J+G8XiFTLo9peW/wBoluYsAiRv3iBFIZTnnAZScZxXzlX6CftL+F/hh4g8f6JZfEPxTqHhvStO+H9nNoSWUfyTTmW4DceW+SFSH5BgnPXigD45+OHwZ1r4E+PrjwxrMkN03lLdWl9bHMV3bvnZKueRyrAg9Cp5IwTwNfVP7Zkz33wv/Z6v7s79SuPCSedI33nURwFGJ753MfxNfK1AHZ/B/wCFGtfGzx9p/hHQHtYdRvVkdZr12SCNUjZ2LsqsQMLgYB5IrrvAv7PD+MfCHxa1qXxBFaSeAI0Zobe2M8d+WadTtkLIUX9xwSpyG6DFerf8E7dFvI/FnxC8V2NrNf3uh+G5ltbW3XdJLcSndGq/7R8llH+9XV/s4/An4g+F/gP8fNJ1bwjqlhqWtaZZw6dazQEPdOoudyoO5G9f++hQB4b8Iv2bNP8AHfgWbxr4r+Imh+AvDIumsoZrrFzcyzKMlRCHUjjnGdxHO3HJrfHT9nA/CXw54f8AFWieKrHxx4M1t3httZsY/KAmTOY3Qs2D8rdCeUYHBAz5Tp+gapq+uQaHZWVxdarNP9nisYkLSNKTt2hfXIx+FfTH7TDWnwl+APw7+Cst5Fe+KLG5fXdcSCQOtnNIsmyEkfxBZmz/ALgbowoAzdC/Y80nTfB+ga18SvihpXw4udeiFxp+l3Nk1zO0RAIaQeYnl9RnOQMjJByByPxG/ZX8SeAPi7oHgRdR03UT4hEUmk6x5whtLhHJAYs33SCOgLE5XGdwz7b8YtP+F/7UWl+E/HDfFjSvBOo2Ohw6dqWjapEXliaIsx8qMMGbl3wFBDDaRgk1ift7R6f4f0L4JeG7Bp0m0nwyp8u7I+0pEyxJH5mOjZifpwCDjigCrZ/sQ+F9Y1qXwto/xw8O6n48RZFGhx2beW0yKS8YnEpyRtOQEyMHI4NfLOraVd6Dqt7pt/C1tfWc729xCxBMciMVZTjjggjivo79ifwG2meMm+LniSX+xvAnhBJbibUJvlFxcGMokEX95suDgegXqwrwLx14mbxp438Q+IXi8l9W1G4vzHnOwyys+Pw3UAYdFFFABX0b4L/ZH0248A6D4p+IXxL0n4bxeIVMuj2l5b/aJbmLAIkb94gRSGU55wGUnGcV85V+gn7S/hf4YeIPH+iWXxD8U6h4b0rTvh/ZzaEllH8k05luA3HlvkhUh+QYJz14oA+Ofjh8Gda+BPj648MazJDdN5S3VpfWxzFd2752SrnkcqwIPQqeSME8DX1T+2ZM998L/wBnq/uzv1K48JJ50jfedRHAUYnvncx/E18rUAa3hPwpq/jnxHYaDoNhLqer38ohtrWHG5269TwAACSSQAASSAK9v+In7KWk/CXwrqM3in4qeHbfxla2/mp4WsEa5md+ojZww2EjPJTHTsc12f8AwTztbLTdc+Jfi25uVsptB8NTSRXkkZcWwbLPLjvtEXTuCRWj8P8AwF8DP2lrfxN4e8MaV4p0Xxxb6bNqcGu61e+e15IhG55lDsuWZlLAAfeODkUAeSfBP9mcfE/wVrHjbxF4usPAfgvTLgWj6rfQmdpZiFOxIwy5wHXvyTgA84f8bP2Y1+GPgXSPHHhzxjYePPBuo3Js11KxgaFopsMQroWbGdjD72QRggZGfTfgHHpdj+yvr/8AwtqfyfhTqGtKNMWzZzqbX6r8xtwMrswhyG4yr/jJ8d10rUP2U9GT4RyrP8K9O1ktqwvmcaol8wwhmBwuw7x9zjLJ6HABxXgv9kfTbjwDoPin4hfEvSfhvF4hUy6PaXlv9oluYsAiRv3iBFIZTnnAZScZxXGeOP2afE/gf42WPw1uLnT5dQ1J4jp2ovOIrW5hlJEcu5vujKspXk7lIG7jP1V+0v4X+GHiDx/oll8Q/FOoeG9K074f2c2hJZR/JNOZbgNx5b5IVIfkGCc9eK8l/bKuJbz4Yfs86hdMW1SbwnH5sp++yiOAoxPXJ3MfxNAE9n+xD4X1jWpfC2j/ABw8O6n48RZFGhx2beW0yKS8YnEpyRtOQEyMHI4NfLOraVd6Dqt7pt/C1tfWc729xCxBMciMVZTjjggjivo79ifwG2meMm+LniSX+xvAnhBJbibUJvlFxcGMokEX95suDgegXqwrwLx14mbxp438Q+IXi8l9W1G4vzHnOwyys+Pw3UAYdFFFABRRRQAUUUUAFFFFABRRRQAUUUUAFfW/wF+OH7P/AMGba21MaH48k8U3Wi/2Zqssa2slszyInnmIGYEKXUlSRnHUV8kUUAep+O7/AODs/j3w1L4Q03xXb+D0ki/tqDVGhN5InmgyeQVcrkx5A3EfNXu+n/HT9mjS/hXqvw+g8P8AxGHh7Ur9NRuAwtDN5qBQMP5/A+ReMV8a0UAe/wDwP+JXwa+Gnxl13xBrfhbWdd8Lx5bw/a3EEM9xbOHBV5UaVULBQcHLYPI9a7r4sfGn9nn4va1qGv69Z/E/UddmiZIJLh7MQw8HYiosuFQE9APU8kmvkaigD2/9n3xd8GPBcVrq3j7S/F174q0/VVvbKTQjB9mEUfltGHEkikt5ivntgrzWx+0z8Tvg18WLjVvEvhTSvF9n421K8SeeXVhbrZ+WF2sAqSsQcBcfQ188UUAFFFFABRRRQAUUUUAFfbWh/tRfATTPg5beAoPD3jfw9aXFvGusP4fhtIX1CURhZDJK05dlJz6cHGMcV8S0UAe26p8Tvh58Nvih4P8AF3wd03xBbHSJTPdweJ2iPnNnGxTG7YVkLqT1GeK9Ub4/fs4P8QP+FiN8O/Ff/CW/av7S+wCeH+zzd53+Z/rM/f8Am+7jPO3tXx9RQB9EfD39ru70P45+LvG/iTRY9W0bxfDJZ6xo8D4H2dgqqEJ6lFXbzjILdM5HUaf+0b8HPg5pPiC6+EPgzxFbeLdYs5LBdR8QzxmOxjfBbywsj7sEKcHBOBk44PyfRQAUUUUAFFFFABRRRQAUUUUAFfW/wF+OH7P/AMGba21MaH48k8U3Wi/2Zqssa2slszyInnmIGYEKXUlSRnHUV8kUUAeofETxb4I0HxdpOr/BaXxb4ZNtAwlutSuVhu0lbcpMTwuSFKMVPIzkjoa7D4CftaeKvAfxY0LXfG3jHxh4i8MWvn/a9N/tOW687dBIifu5ZQjYdkbk8bcjkCvn+igD1OH4heF/G3xs1HxL8S/+Ej8Q+Grme4kEUFwGvdmWMEe53wFX5VIDcAcdK7X4mftPaG3w7uvh38KfCH/CD+Er5g2o3E85mvtQxj5XfJwvGCCzZHAwMg/O9FAHt/7Pvi74MeC4rXVvH2l+Lr3xVp+qre2UmhGD7MIo/LaMOJJFJbzFfPbBXmtj9pn4nfBr4sXGreJfCmleL7PxtqV4k88urC3Wz8sLtYBUlYg4C4+hr54ooAKKKKACiiigAooooAK+ptN/aM+FfxI+H/hPR/jJ4S17Vda8LW/2Gy1LQJ1X7VbgKFSbfIhBwoBIycgkEbiK+WaKAPVv2kfjpJ8evHsWqwaf/Y2h6daJp2lab5m7yLdCSCccbmJycdAFGTtzTP8AhMvhv/wz2fDf/CI3R+JP9o/aP+Eh3jyvJ3fdzv3fc+Xy9u3Pz5zxXllFABXuP7RXxy0L4leGfh34T8I2mpWPhrwnpQttupKkck9yQqvIVR2UjCAgk5y78Dv4dRQB6t8E9f8AhD4ft9Sn+JfhrXvEt6JENhb6ZcLDb7cHeJTvVs524xnjNWfj9+0Ve/Gr+yNKstHtfCvgzQ1MelaBYnMcIxje5wAz474GMn1JPkFFAH1a/wC0Z8IPix4N8K2vxf8ACPiK98TeHbJdPj1Tw/NGBdwpjaJd8iYJxk4B5LEEZwPM/wBpD48W3xq1jQbbRdF/4R3wl4bsRp2kaazh3SMYBZz6kKgxk42jknJPj1FAHuOjfHLQvCv7KusfDjSLTUk8U+INVW51W/dUS2+zKVKxxsHLk/u0yCoHzycngHw6iigAooooAK+ptN/aM+FfxI+H/hPR/jJ4S17Vda8LW/2Gy1LQJ1X7VbgKFSbfIhBwoBIycgkEbiK+WaKAPVv2kfjpJ8evHsWqwaf/AGNoenWiadpWm+Zu8i3QkgnHG5icnHQBRk7c0z/hMvhv/wAM9nw3/wAIjdH4k/2j9o/4SHePK8nd93O/d9z5fL27c/PnPFeWUUAdB4T+IXirwH9q/wCEZ8Tax4d+1bftH9k38tr523O3f5bDdjc2M9Nx9a90+FP7Yeu+Ffhv8S9H8S+KPGGseINcs4IdCv8A+0JJ/wCz5V87e/mSTBos74+YwSdvPQV810UAfV/7Lf7SHwr+C/hDUn8Q6D4hl8e380wk8R6Vb2808cLhcLHJNKNrZ3E4Xknkntwfxj8S/AvxFoGoXXg2x8ef8JldXKzG98RzQSQyZbMpcrKzFiCecda8MooA+hvhV8Vvgj8MfDekapc/DvVvFnxBtFMjyandKmnLOGO1lUMcgDafmTOc+xritS+McfxP+OVl42+J1tJrOlvdxPfadYjA+zIeIIlLrhcdiwzkknJNeXUUAfb3xO/aZ/Z4+K+k6Vo+qaL8RLDw9pSBbLRNJisrWzhIBG4RrNy2CeSTjJxjJr4/8eTeG5/F2pyeD4NQt/DTSZsYtVKm5VNo4k2krnOehPGKwaKACiiigAr6m039oz4V/Ej4f+E9H+MnhLXtV1rwtb/YbLUtAnVftVuAoVJt8iEHCgEjJyCQRuIr5ZooA9W/aR+Oknx68exarBp/9jaHp1omnaVpvmbvIt0JIJxxuYnJx0AUZO3NM/4TL4b/APDPZ8N/8IjdH4k/2j9o/wCEh3jyvJ3fdzv3fc+Xy9u3Pz5zxXllFAHr37NPx3j+BfjDUbnUtKOu+GtasX0zVtNDBWlhbHzLnjcORg8EMwyM5HqWn/tG/Bz4OaT4guvhD4M8RW3i3WLOSwXUfEM8ZjsY3wW8sLI+7BCnBwTgZOOD8n0UAfRPwk/aC8DxfB2T4X/FTwzqWueHLe+Ooabe6LIiXVpI2dwAZlB5ZiDn+NgQeML8WP2gvAx+Dv8Awq/4VeGNR0Xw7d3ov9TvtckV7u6kUqVGEZgB8qc5/hAAHJPzrRQB9Tab+0Z8K/iR8P8Awno/xk8Ja9quteFrf7DZaloE6r9qtwFCpNvkQg4UAkZOQSCNxFcl8TP2hNC+Mnx48PeIvEugXEXw/wBH8myi8P2z75PsUbElfvIu9s84I4wuTtzXg1FAH298Tv2mf2ePivpOlaPqmi/ESw8PaUgWy0TSYrK1s4SARuEazctgnkk4ycYya+P/AB5N4bn8XanJ4Pg1C38NNJmxi1UqblU2jiTaSuc56E8YrBooAKKKKACiiigAooooAKKKKACiiigAooooAK98g/YP+OdzDHNH4H3RyKHVv7XsRkEZH/LevA6+wrT9nPwtLawu37R2pRFkUmMeHL07cjpnz+1AHjPiD9k34reF/FXhvw3qfhX7NrXiJp00u2/tG0f7QYVV5fmWUquFZT8xGc8ZrpP+GCfjt/0Iv/lXsP8A4/Wh4x+C+gaP8QfA+lQfGm91i21R7sT6w+i3UbaX5caspWNpS0nmElflIxt5zXcf8M3+FP8Ao5LUv/Cbvf8A4/QB4no/7JvxW1/xn4g8KWHhXz9f0BYH1Kz/ALRtF8gTJvi+cyhW3Lz8pOO+K6T/AIYJ+O3/AEIv/lXsP/j9aHhn4L6BqXxQ8ZaNL8ab3TbTTUtDDrq6LdO+peZEGYNGJQyeWfl+YnPUYruP+Gb/AAp/0clqX/hN3v8A8foA8T+Hv7JvxW+KnhW18SeF/Cv9qaLdM6RXP9o2kO4oxRvlklVhhgRyO1SePv2R/iz8MPCd94m8TeFP7N0Sx8v7Rdf2jaS7N8ixr8scrMcs6jgHr6V2HwZ+C+geMfh9Yarf/Gm98G3MzyhtHh0W6uVi2yMoPmJKqncBu4HGam+MHwT8P+Efhzq+rWPxtvvF91b+Ts0abRLq3W43TIpzI8rKu0MX5Bztx1NAGLB+wf8AHO5hjmj8D7o5FDq39r2IyCMj/lvXP+IP2Tfit4X8VeG/Dep+Ffs2teImnTS7b+0bR/tBhVXl+ZZSq4VlPzEZzxmvZrT9nPwtLawu37R2pRFkUmMeHL07cjpnz+1cb4x+C+gaP8QfA+lQfGm91i21R7sT6w+i3UbaX5caspWNpS0nmElflIxt5zQBn/8ADBPx2/6EX/yr2H/x+ub0f9k34ra/4z8QeFLDwr5+v6AsD6lZ/wBo2i+QJk3xfOZQrbl5+UnHfFe2f8M3+FP+jktS/wDCbvf/AI/XD+GfgvoGpfFDxlo0vxpvdNtNNS0MOurot076l5kQZg0YlDJ5Z+X5ic9RigDP/wCGCfjt/wBCL/5V7D/4/XN/D39k34rfFTwra+JPC/hX+1NFumdIrn+0bSHcUYo3yySqwwwI5HavbP8Ahm/wp/0clqX/AITd7/8AH64f4M/BfQPGPw+sNVv/AI03vg25meUNo8Oi3VysW2RlB8xJVU7gN3A4zQBx/j79kf4s/DDwnfeJvE3hT+zdEsfL+0XX9o2kuzfIsa/LHKzHLOo4B6+lbkH7B/xzuYY5o/A+6ORQ6t/a9iMgjI/5b1tfGD4J+H/CPw51fVrH4233i+6t/J2aNNol1brcbpkU5keVlXaGL8g5246mustP2c/C0trC7ftHalEWRSYx4cvTtyOmfP7UAeM+IP2Tfit4X8VeG/Dep+Ffs2teImnTS7b+0bR/tBhVXl+ZZSq4VlPzEZzxmuk/4YJ+O3/Qi/8AlXsP/j9aHjH4L6Bo/wAQfA+lQfGm91i21R7sT6w+i3UbaX5caspWNpS0nmElflIxt5zXcf8ADN/hT/o5LUv/AAm73/4/QB4no/7JvxW1/wAZ+IPClh4V8/X9AWB9Ss/7RtF8gTJvi+cyhW3Lz8pOO+K6T/hgn47f9CL/AOVew/8Aj9aHhn4L6BqXxQ8ZaNL8ab3TbTTUtDDrq6LdO+peZEGYNGJQyeWfl+YnPUYruP8Ahm/wp/0clqX/AITd7/8AH6APE/h7+yb8Vvip4VtfEnhfwr/ami3TOkVz/aNpDuKMUb5ZJVYYYEcjtUnj79kf4s/DDwnfeJvE3hT+zdEsfL+0XX9o2kuzfIsa/LHKzHLOo4B6+ldh8GfgvoHjH4fWGq3/AMab3wbczPKG0eHRbq5WLbIyg+YkqqdwG7gcZqb4wfBPw/4R+HOr6tY/G2+8X3Vv5OzRptEurdbjdMinMjysq7QxfkHO3HU0AYsH7B/xzuYY5o/A+6ORQ6t/a9iMgjI/5b1z/iD9k34reF/FXhvw3qfhX7NrXiJp00u2/tG0f7QYVV5fmWUquFZT8xGc8Zr2a0/Zz8LS2sLt+0dqURZFJjHhy9O3I6Z8/tXG+MfgvoGj/EHwPpUHxpvdYttUe7E+sPot1G2l+XGrKVjaUtJ5hJX5SMbec0AZ/wDwwT8dv+hF/wDKvYf/AB+ub0f9k34ra/4z8QeFLDwr5+v6AsD6lZ/2jaL5AmTfF85lCtuXn5Scd8V7Z/wzf4U/6OS1L/wm73/4/XD+GfgvoGpfFDxlo0vxpvdNtNNS0MOurot076l5kQZg0YlDJ5Z+X5ic9RigDP8A+GCfjt/0Iv8A5V7D/wCP1zfw9/ZN+K3xU8K2viTwv4V/tTRbpnSK5/tG0h3FGKN8skqsMMCOR2r2z/hm/wAKf9HJal/4Td7/APH64f4M/BfQPGPw+sNVv/jTe+DbmZ5Q2jw6LdXKxbZGUHzElVTuA3cDjNAHH+Pv2R/iz8MPCd94m8TeFP7N0Sx8v7Rdf2jaS7N8ixr8scrMcs6jgHr6VuQfsH/HO5hjmj8D7o5FDq39r2IyCMj/AJb1tfGD4J+H/CPw51fVrH4233i+6t/J2aNNol1brcbpkU5keVlXaGL8g5246mustP2c/C0trC7ftHalEWRSYx4cvTtyOmfP7UAeM+IP2Tfit4X8VeG/Dep+Ffs2teImnTS7b+0bR/tBhVXl+ZZSq4VlPzEZzxmuk/4YJ+O3/Qi/+Vew/wDj9aHjH4L6Bo/xB8D6VB8ab3WLbVHuxPrD6LdRtpflxqylY2lLSeYSV+UjG3nNdx/wzf4U/wCjktS/8Ju9/wDj9AHiej/sm/FbX/GfiDwpYeFfP1/QFgfUrP8AtG0XyBMm+L5zKFbcvPyk474rpP8Ahgn47f8AQi/+Vew/+P1oeGfgvoGpfFDxlo0vxpvdNtNNS0MOurot076l5kQZg0YlDJ5Z+X5ic9Riu4/4Zv8ACn/RyWpf+E3e/wDx+gDxP4e/sm/Fb4qeFbXxJ4X8K/2pot0zpFc/2jaQ7ijFG+WSVWGGBHI7VJ4+/ZH+LPww8J33ibxN4U/s3RLHy/tF1/aNpLs3yLGvyxysxyzqOAevpXYfBn4L6B4x+H1hqt/8ab3wbczPKG0eHRbq5WLbIyg+YkqqdwG7gcZqb4wfBPw/4R+HOr6tY/G2+8X3Vv5OzRptEurdbjdMinMjysq7QxfkHO3HU0AYsH7B/wAc7mGOaPwPujkUOrf2vYjIIyP+W9c/4g/ZN+K3hfxV4b8N6n4V+za14iadNLtv7RtH+0GFVeX5llKrhWU/MRnPGa9mtP2c/C0trC7ftHalEWRSYx4cvTtyOmfP7VxvjH4L6Bo/xB8D6VB8ab3WLbVHuxPrD6LdRtpflxqylY2lLSeYSV+UjG3nNAGf/wAME/Hb/oRf/KvYf/H65vR/2Tfitr/jPxB4UsPCvn6/oCwPqVn/AGjaL5AmTfF85lCtuXn5Scd8V7Z/wzf4U/6OS1L/AMJu9/8Aj9cP4Z+C+gal8UPGWjS/Gm902001LQw66ui3TvqXmRBmDRiUMnln5fmJz1GKAM//AIYJ+O3/AEIv/lXsP/j9c38Pf2Tfit8VPCtr4k8L+Ff7U0W6Z0iuf7RtIdxRijfLJKrDDAjkdq9s/wCGb/Cn/RyWpf8AhN3v/wAfrh/gz8F9A8Y/D6w1W/8AjTe+DbmZ5Q2jw6LdXKxbZGUHzElVTuA3cDjNAHH+Pv2R/iz8MPCd94m8TeFP7N0Sx8v7Rdf2jaS7N8ixr8scrMcs6jgHr6VuQfsH/HO5hjmj8D7o5FDq39r2IyCMj/lvW18YPgn4f8I/DnV9WsfjbfeL7q38nZo02iXVutxumRTmR5WVdoYvyDnbjqa6y0/Zz8LS2sLt+0dqURZFJjHhy9O3I6Z8/tQB4z4g/ZN+K3hfxV4b8N6n4V+za14iadNLtv7RtH+0GFVeX5llKrhWU/MRnPGa6T/hgn47f9CL/wCVew/+P1oeMfgvoGj/ABB8D6VB8ab3WLbVHuxPrD6LdRtpflxqylY2lLSeYSV+UjG3nNdx/wAM3+FP+jktS/8ACbvf/j9AHiej/sm/FbX/ABn4g8KWHhXz9f0BYH1Kz/tG0XyBMm+L5zKFbcvPyk474rpP+GCfjt/0Iv8A5V7D/wCP1oeGfgvoGpfFDxlo0vxpvdNtNNS0MOurot076l5kQZg0YlDJ5Z+X5ic9Riu4/wCGb/Cn/RyWpf8AhN3v/wAfoA8T+Hv7JvxW+KnhW18SeF/Cv9qaLdM6RXP9o2kO4oxRvlklVhhgRyO1SePv2R/iz8MPCd94m8TeFP7N0Sx8v7Rdf2jaS7N8ixr8scrMcs6jgHr6V2HwZ+C+geMfh9Yarf8AxpvfBtzM8obR4dFurlYtsjKD5iSqp3AbuBxmpvjB8E/D/hH4c6vq1j8bb7xfdW/k7NGm0S6t1uN0yKcyPKyrtDF+Qc7cdTQBiwfsH/HO5hjmj8D7o5FDq39r2IyCMj/lvXP+IP2Tfit4X8VeG/Dep+Ffs2teImnTS7b+0bR/tBhVXl+ZZSq4VlPzEZzxmvZrT9nPwtLawu37R2pRFkUmMeHL07cjpnz+1cb4x+C+gaP8QfA+lQfGm91i21R7sT6w+i3UbaX5caspWNpS0nmElflIxt5zQBn/APDBPx2/6EX/AMq9h/8AH65vR/2Tfitr/jPxB4UsPCvn6/oCwPqVn/aNovkCZN8XzmUK25eflJx3xXtn/DN/hT/o5LUv/Cbvf/j9cP4Z+C+gal8UPGWjS/Gm902001LQw66ui3TvqXmRBmDRiUMnln5fmJz1GKAM/wD4YJ+O3/Qi/wDlXsP/AI/XN/D39k34rfFTwra+JPC/hX+1NFumdIrn+0bSHcUYo3yySqwwwI5HavbP+Gb/AAp/0clqX/hN3v8A8frh/gz8F9A8Y/D6w1W/+NN74NuZnlDaPDot1crFtkZQfMSVVO4DdwOM0Acf4+/ZH+LPww8J33ibxN4U/s3RLHy/tF1/aNpLs3yLGvyxysxyzqOAevpW5B+wf8c7mGOaPwPujkUOrf2vYjIIyP8AlvW18YPgn4f8I/DnV9WsfjbfeL7q38nZo02iXVutxumRTmR5WVdoYvyDnbjqa6y0/Zz8LS2sLt+0dqURZFJjHhy9O3I6Z8/tQB4z4g/ZN+K3hfxV4b8N6n4V+za14iadNLtv7RtH+0GFVeX5llKrhWU/MRnPGa6T/hgn47f9CL/5V7D/AOP1oeMfgvoGj/EHwPpUHxpvdYttUe7E+sPot1G2l+XGrKVjaUtJ5hJX5SMbec13H/DN/hT/AKOS1L/wm73/AOP0AeJ6P+yb8Vtf8Z+IPClh4V8/X9AWB9Ss/wC0bRfIEyb4vnMoVty8/KTjviuk/wCGCfjt/wBCL/5V7D/4/Wh4Z+C+gal8UPGWjS/Gm902001LQw66ui3TvqXmRBmDRiUMnln5fmJz1GK7j/hm/wAKf9HJal/4Td7/APH6APE/h7+yb8Vvip4VtfEnhfwr/ami3TOkVz/aNpDuKMUb5ZJVYYYEcjtUnj79kf4s/DDwnfeJvE3hT+zdEsfL+0XX9o2kuzfIsa/LHKzHLOo4B6+ldh8GfgvoHjH4fWGq3/xpvfBtzM8obR4dFurlYtsjKD5iSqp3AbuBxmpvjB8E/D/hH4c6vq1j8bb7xfdW/k7NGm0S6t1uN0yKcyPKyrtDF+Qc7cdTQBiwfsH/ABzuYY5o/A+6ORQ6t/a9iMgjI/5b1z/iD9k34reF/FXhvw3qfhX7NrXiJp00u2/tG0f7QYVV5fmWUquFZT8xGc8Zr2a0/Zz8LS2sLt+0dqURZFJjHhy9O3I6Z8/tXG+MfgvoGj/EHwPpUHxpvdYttUe7E+sPot1G2l+XGrKVjaUtJ5hJX5SMbec0AZ//AAwT8dv+hF/8q9h/8frm9H/ZN+K2v+M/EHhSw8K+fr+gLA+pWf8AaNovkCZN8XzmUK25eflJx3xXtn/DN/hT/o5LUv8Awm73/wCP1w/hn4L6BqXxQ8ZaNL8ab3TbTTUtDDrq6LdO+peZEGYNGJQyeWfl+YnPUYoAz/8Ahgn47f8AQi/+Vew/+P1zfw9/ZN+K3xU8K2viTwv4V/tTRbpnSK5/tG0h3FGKN8skqsMMCOR2r2z/AIZv8Kf9HJal/wCE3e//AB+uH+DPwX0Dxj8PrDVb/wCNN74NuZnlDaPDot1crFtkZQfMSVVO4DdwOM0Acf4+/ZH+LPww8J33ibxN4U/s3RLHy/tF1/aNpLs3yLGvyxysxyzqOAevpW5B+wf8c7mGOaPwPujkUOrf2vYjIIyP+W9bXxg+Cfh/wj8OdX1ax+Nt94vurfydmjTaJdW63G6ZFOZHlZV2hi/IOduOprrLT9nPwtLawu37R2pRFkUmMeHL07cjpnz+1AHjPiD9k34reF/FXhvw3qfhX7NrXiJp00u2/tG0f7QYVV5fmWUquFZT8xGc8ZrpP+GCfjt/0Iv/AJV7D/4/Wh4x+C+gaP8AEHwPpUHxpvdYttUe7E+sPot1G2l+XGrKVjaUtJ5hJX5SMbec13H/AAzf4U/6OS1L/wAJu9/+P0AeJ6P+yb8Vtf8AGfiDwpYeFfP1/QFgfUrP+0bRfIEyb4vnMoVty8/KTjviuk/4YJ+O3/Qi/wDlXsP/AI/Wh4Z+C+gal8UPGWjS/Gm902001LQw66ui3TvqXmRBmDRiUMnln5fmJz1GK7j/AIZv8Kf9HJal/wCE3e//AB+gDxP4e/sm/Fb4qeFbXxJ4X8K/2pot0zpFc/2jaQ7ijFG+WSVWGGBHI7VJ4+/ZH+LPww8J33ibxN4U/s3RLHy/tF1/aNpLs3yLGvyxysxyzqOAevpXYfBn4L6B4x+H1hqt/wDGm98G3MzyhtHh0W6uVi2yMoPmJKqncBu4HGam+MHwT8P+Efhzq+rWPxtvvF91b+Ts0abRLq3W43TIpzI8rKu0MX5Bztx1NAGLB+wf8c7mGOaPwPujkUOrf2vYjIIyP+W9c/4g/ZN+K3hfxV4b8N6n4V+za14iadNLtv7RtH+0GFVeX5llKrhWU/MRnPGa9mtP2c/C0trC7ftHalEWRSYx4cvTtyOmfP7VxvjH4L6Bo/xB8D6VB8ab3WLbVHuxPrD6LdRtpflxqylY2lLSeYSV+UjG3nNAGf8A8ME/Hb/oRf8Ayr2H/wAfrx/x94B174YeLL7wz4msf7N1ux8v7Ra+dHLs3xrIvzRsynKup4J6+tfVH/DN/hT/AKOS1L/wm73/AOP180/GDw3aeEfiNq+k2PiSTxfa2/k7NZmtnt2uN0KMcxuzMu0sU5Jztz3oA42iiigAooooAKKKKACiiigAooooAKKKKAP/2Q==)"
      ],
      "metadata": {
        "id": "wURC5BtC5W8v"
      }
    }
  ]
}