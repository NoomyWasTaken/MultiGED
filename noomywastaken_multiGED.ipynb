{
 "nbformat": 4,
 "nbformat_minor": 0,
 "metadata": {
  "colab": {
   "provenance": [],
   "machine_shape": "hm"
  },
  "kernelspec": {
   "name": "python3",
   "display_name": "Python 3"
  },
  "language_info": {
   "name": "python"
  },
  "accelerator": "GPU",
  "gpuClass": "premium",
  "widgets": {
   "application/vnd.jupyter.widget-state+json": {
    "4158b19aed934c3ba36ea8584b17786c": {
     "model_module": "@jupyter-widgets/controls",
     "model_name": "HBoxModel",
     "model_module_version": "1.5.0",
     "state": {
      "_dom_classes": [],
      "_model_module": "@jupyter-widgets/controls",
      "_model_module_version": "1.5.0",
      "_model_name": "HBoxModel",
      "_view_count": null,
      "_view_module": "@jupyter-widgets/controls",
      "_view_module_version": "1.5.0",
      "_view_name": "HBoxView",
      "box_style": "",
      "children": [
       "IPY_MODEL_b97cb950697e49a0a8a991a3fe68e2ae",
       "IPY_MODEL_9ec700797bbf42d995f4c451226e2c1e",
       "IPY_MODEL_6bc74e25852c43c297d7cd5b7456e30f"
      ],
      "layout": "IPY_MODEL_15ead0de26ba4504a471793ab973d742"
     }
    },
    "b97cb950697e49a0a8a991a3fe68e2ae": {
     "model_module": "@jupyter-widgets/controls",
     "model_name": "HTMLModel",
     "model_module_version": "1.5.0",
     "state": {
      "_dom_classes": [],
      "_model_module": "@jupyter-widgets/controls",
      "_model_module_version": "1.5.0",
      "_model_name": "HTMLModel",
      "_view_count": null,
      "_view_module": "@jupyter-widgets/controls",
      "_view_module_version": "1.5.0",
      "_view_name": "HTMLView",
      "description": "",
      "description_tooltip": null,
      "layout": "IPY_MODEL_5c020ef2ee60415196d563cc4081f580",
      "placeholder": "​",
      "style": "IPY_MODEL_35f7fca6f8d24508b6b3cf2a33d672f9",
      "value": "Downloading (…)okenizer_config.json: 100%"
     }
    },
    "9ec700797bbf42d995f4c451226e2c1e": {
     "model_module": "@jupyter-widgets/controls",
     "model_name": "FloatProgressModel",
     "model_module_version": "1.5.0",
     "state": {
      "_dom_classes": [],
      "_model_module": "@jupyter-widgets/controls",
      "_model_module_version": "1.5.0",
      "_model_name": "FloatProgressModel",
      "_view_count": null,
      "_view_module": "@jupyter-widgets/controls",
      "_view_module_version": "1.5.0",
      "_view_name": "ProgressView",
      "bar_style": "success",
      "description": "",
      "description_tooltip": null,
      "layout": "IPY_MODEL_88a25d651ea6491992eeaa3dc69c3d4b",
      "max": 29,
      "min": 0,
      "orientation": "horizontal",
      "style": "IPY_MODEL_b743e06807d14d9b8aca219854a446e4",
      "value": 29
     }
    },
    "6bc74e25852c43c297d7cd5b7456e30f": {
     "model_module": "@jupyter-widgets/controls",
     "model_name": "HTMLModel",
     "model_module_version": "1.5.0",
     "state": {
      "_dom_classes": [],
      "_model_module": "@jupyter-widgets/controls",
      "_model_module_version": "1.5.0",
      "_model_name": "HTMLModel",
      "_view_count": null,
      "_view_module": "@jupyter-widgets/controls",
      "_view_module_version": "1.5.0",
      "_view_name": "HTMLView",
      "description": "",
      "description_tooltip": null,
      "layout": "IPY_MODEL_06e2a3cbaf974c6084b940eaacf2a371",
      "placeholder": "​",
      "style": "IPY_MODEL_6f205e50357f4e6b9ec0e96640308adb",
      "value": " 29.0/29.0 [00:00&lt;00:00, 1.51kB/s]"
     }
    },
    "15ead0de26ba4504a471793ab973d742": {
     "model_module": "@jupyter-widgets/base",
     "model_name": "LayoutModel",
     "model_module_version": "1.2.0",
     "state": {
      "_model_module": "@jupyter-widgets/base",
      "_model_module_version": "1.2.0",
      "_model_name": "LayoutModel",
      "_view_count": null,
      "_view_module": "@jupyter-widgets/base",
      "_view_module_version": "1.2.0",
      "_view_name": "LayoutView",
      "align_content": null,
      "align_items": null,
      "align_self": null,
      "border": null,
      "bottom": null,
      "display": null,
      "flex": null,
      "flex_flow": null,
      "grid_area": null,
      "grid_auto_columns": null,
      "grid_auto_flow": null,
      "grid_auto_rows": null,
      "grid_column": null,
      "grid_gap": null,
      "grid_row": null,
      "grid_template_areas": null,
      "grid_template_columns": null,
      "grid_template_rows": null,
      "height": null,
      "justify_content": null,
      "justify_items": null,
      "left": null,
      "margin": null,
      "max_height": null,
      "max_width": null,
      "min_height": null,
      "min_width": null,
      "object_fit": null,
      "object_position": null,
      "order": null,
      "overflow": null,
      "overflow_x": null,
      "overflow_y": null,
      "padding": null,
      "right": null,
      "top": null,
      "visibility": null,
      "width": null
     }
    },
    "5c020ef2ee60415196d563cc4081f580": {
     "model_module": "@jupyter-widgets/base",
     "model_name": "LayoutModel",
     "model_module_version": "1.2.0",
     "state": {
      "_model_module": "@jupyter-widgets/base",
      "_model_module_version": "1.2.0",
      "_model_name": "LayoutModel",
      "_view_count": null,
      "_view_module": "@jupyter-widgets/base",
      "_view_module_version": "1.2.0",
      "_view_name": "LayoutView",
      "align_content": null,
      "align_items": null,
      "align_self": null,
      "border": null,
      "bottom": null,
      "display": null,
      "flex": null,
      "flex_flow": null,
      "grid_area": null,
      "grid_auto_columns": null,
      "grid_auto_flow": null,
      "grid_auto_rows": null,
      "grid_column": null,
      "grid_gap": null,
      "grid_row": null,
      "grid_template_areas": null,
      "grid_template_columns": null,
      "grid_template_rows": null,
      "height": null,
      "justify_content": null,
      "justify_items": null,
      "left": null,
      "margin": null,
      "max_height": null,
      "max_width": null,
      "min_height": null,
      "min_width": null,
      "object_fit": null,
      "object_position": null,
      "order": null,
      "overflow": null,
      "overflow_x": null,
      "overflow_y": null,
      "padding": null,
      "right": null,
      "top": null,
      "visibility": null,
      "width": null
     }
    },
    "35f7fca6f8d24508b6b3cf2a33d672f9": {
     "model_module": "@jupyter-widgets/controls",
     "model_name": "DescriptionStyleModel",
     "model_module_version": "1.5.0",
     "state": {
      "_model_module": "@jupyter-widgets/controls",
      "_model_module_version": "1.5.0",
      "_model_name": "DescriptionStyleModel",
      "_view_count": null,
      "_view_module": "@jupyter-widgets/base",
      "_view_module_version": "1.2.0",
      "_view_name": "StyleView",
      "description_width": ""
     }
    },
    "88a25d651ea6491992eeaa3dc69c3d4b": {
     "model_module": "@jupyter-widgets/base",
     "model_name": "LayoutModel",
     "model_module_version": "1.2.0",
     "state": {
      "_model_module": "@jupyter-widgets/base",
      "_model_module_version": "1.2.0",
      "_model_name": "LayoutModel",
      "_view_count": null,
      "_view_module": "@jupyter-widgets/base",
      "_view_module_version": "1.2.0",
      "_view_name": "LayoutView",
      "align_content": null,
      "align_items": null,
      "align_self": null,
      "border": null,
      "bottom": null,
      "display": null,
      "flex": null,
      "flex_flow": null,
      "grid_area": null,
      "grid_auto_columns": null,
      "grid_auto_flow": null,
      "grid_auto_rows": null,
      "grid_column": null,
      "grid_gap": null,
      "grid_row": null,
      "grid_template_areas": null,
      "grid_template_columns": null,
      "grid_template_rows": null,
      "height": null,
      "justify_content": null,
      "justify_items": null,
      "left": null,
      "margin": null,
      "max_height": null,
      "max_width": null,
      "min_height": null,
      "min_width": null,
      "object_fit": null,
      "object_position": null,
      "order": null,
      "overflow": null,
      "overflow_x": null,
      "overflow_y": null,
      "padding": null,
      "right": null,
      "top": null,
      "visibility": null,
      "width": null
     }
    },
    "b743e06807d14d9b8aca219854a446e4": {
     "model_module": "@jupyter-widgets/controls",
     "model_name": "ProgressStyleModel",
     "model_module_version": "1.5.0",
     "state": {
      "_model_module": "@jupyter-widgets/controls",
      "_model_module_version": "1.5.0",
      "_model_name": "ProgressStyleModel",
      "_view_count": null,
      "_view_module": "@jupyter-widgets/base",
      "_view_module_version": "1.2.0",
      "_view_name": "StyleView",
      "bar_color": null,
      "description_width": ""
     }
    },
    "06e2a3cbaf974c6084b940eaacf2a371": {
     "model_module": "@jupyter-widgets/base",
     "model_name": "LayoutModel",
     "model_module_version": "1.2.0",
     "state": {
      "_model_module": "@jupyter-widgets/base",
      "_model_module_version": "1.2.0",
      "_model_name": "LayoutModel",
      "_view_count": null,
      "_view_module": "@jupyter-widgets/base",
      "_view_module_version": "1.2.0",
      "_view_name": "LayoutView",
      "align_content": null,
      "align_items": null,
      "align_self": null,
      "border": null,
      "bottom": null,
      "display": null,
      "flex": null,
      "flex_flow": null,
      "grid_area": null,
      "grid_auto_columns": null,
      "grid_auto_flow": null,
      "grid_auto_rows": null,
      "grid_column": null,
      "grid_gap": null,
      "grid_row": null,
      "grid_template_areas": null,
      "grid_template_columns": null,
      "grid_template_rows": null,
      "height": null,
      "justify_content": null,
      "justify_items": null,
      "left": null,
      "margin": null,
      "max_height": null,
      "max_width": null,
      "min_height": null,
      "min_width": null,
      "object_fit": null,
      "object_position": null,
      "order": null,
      "overflow": null,
      "overflow_x": null,
      "overflow_y": null,
      "padding": null,
      "right": null,
      "top": null,
      "visibility": null,
      "width": null
     }
    },
    "6f205e50357f4e6b9ec0e96640308adb": {
     "model_module": "@jupyter-widgets/controls",
     "model_name": "DescriptionStyleModel",
     "model_module_version": "1.5.0",
     "state": {
      "_model_module": "@jupyter-widgets/controls",
      "_model_module_version": "1.5.0",
      "_model_name": "DescriptionStyleModel",
      "_view_count": null,
      "_view_module": "@jupyter-widgets/base",
      "_view_module_version": "1.2.0",
      "_view_name": "StyleView",
      "description_width": ""
     }
    },
    "0e077260bdd240fd99aa0a2664ce318e": {
     "model_module": "@jupyter-widgets/controls",
     "model_name": "HBoxModel",
     "model_module_version": "1.5.0",
     "state": {
      "_dom_classes": [],
      "_model_module": "@jupyter-widgets/controls",
      "_model_module_version": "1.5.0",
      "_model_name": "HBoxModel",
      "_view_count": null,
      "_view_module": "@jupyter-widgets/controls",
      "_view_module_version": "1.5.0",
      "_view_name": "HBoxView",
      "box_style": "",
      "children": [
       "IPY_MODEL_3d1d267eb5fe4778874694cf7c72ac33",
       "IPY_MODEL_aa955719eca34237892270f68ce3d42e",
       "IPY_MODEL_038af479eac54f4ca18d0261bb2df93c"
      ],
      "layout": "IPY_MODEL_114e56a612564bb8aae0b6811255a074"
     }
    },
    "3d1d267eb5fe4778874694cf7c72ac33": {
     "model_module": "@jupyter-widgets/controls",
     "model_name": "HTMLModel",
     "model_module_version": "1.5.0",
     "state": {
      "_dom_classes": [],
      "_model_module": "@jupyter-widgets/controls",
      "_model_module_version": "1.5.0",
      "_model_name": "HTMLModel",
      "_view_count": null,
      "_view_module": "@jupyter-widgets/controls",
      "_view_module_version": "1.5.0",
      "_view_name": "HTMLView",
      "description": "",
      "description_tooltip": null,
      "layout": "IPY_MODEL_93e44e53dec845b09ab476dbcff1b976",
      "placeholder": "​",
      "style": "IPY_MODEL_44a2964ee206411c853e6005cf01bba5",
      "value": "Downloading (…)lve/main/config.json: 100%"
     }
    },
    "aa955719eca34237892270f68ce3d42e": {
     "model_module": "@jupyter-widgets/controls",
     "model_name": "FloatProgressModel",
     "model_module_version": "1.5.0",
     "state": {
      "_dom_classes": [],
      "_model_module": "@jupyter-widgets/controls",
      "_model_module_version": "1.5.0",
      "_model_name": "FloatProgressModel",
      "_view_count": null,
      "_view_module": "@jupyter-widgets/controls",
      "_view_module_version": "1.5.0",
      "_view_name": "ProgressView",
      "bar_style": "success",
      "description": "",
      "description_tooltip": null,
      "layout": "IPY_MODEL_03996c88c2614022aea730d9715a1a1d",
      "max": 625,
      "min": 0,
      "orientation": "horizontal",
      "style": "IPY_MODEL_2ace4c3f045246758212519cc8614421",
      "value": 625
     }
    },
    "038af479eac54f4ca18d0261bb2df93c": {
     "model_module": "@jupyter-widgets/controls",
     "model_name": "HTMLModel",
     "model_module_version": "1.5.0",
     "state": {
      "_dom_classes": [],
      "_model_module": "@jupyter-widgets/controls",
      "_model_module_version": "1.5.0",
      "_model_name": "HTMLModel",
      "_view_count": null,
      "_view_module": "@jupyter-widgets/controls",
      "_view_module_version": "1.5.0",
      "_view_name": "HTMLView",
      "description": "",
      "description_tooltip": null,
      "layout": "IPY_MODEL_503e40f3d10b4f6ead0589bd1ca1a8e1",
      "placeholder": "​",
      "style": "IPY_MODEL_e88c960081b64ab8bad1097bf9b15610",
      "value": " 625/625 [00:00&lt;00:00, 36.0kB/s]"
     }
    },
    "114e56a612564bb8aae0b6811255a074": {
     "model_module": "@jupyter-widgets/base",
     "model_name": "LayoutModel",
     "model_module_version": "1.2.0",
     "state": {
      "_model_module": "@jupyter-widgets/base",
      "_model_module_version": "1.2.0",
      "_model_name": "LayoutModel",
      "_view_count": null,
      "_view_module": "@jupyter-widgets/base",
      "_view_module_version": "1.2.0",
      "_view_name": "LayoutView",
      "align_content": null,
      "align_items": null,
      "align_self": null,
      "border": null,
      "bottom": null,
      "display": null,
      "flex": null,
      "flex_flow": null,
      "grid_area": null,
      "grid_auto_columns": null,
      "grid_auto_flow": null,
      "grid_auto_rows": null,
      "grid_column": null,
      "grid_gap": null,
      "grid_row": null,
      "grid_template_areas": null,
      "grid_template_columns": null,
      "grid_template_rows": null,
      "height": null,
      "justify_content": null,
      "justify_items": null,
      "left": null,
      "margin": null,
      "max_height": null,
      "max_width": null,
      "min_height": null,
      "min_width": null,
      "object_fit": null,
      "object_position": null,
      "order": null,
      "overflow": null,
      "overflow_x": null,
      "overflow_y": null,
      "padding": null,
      "right": null,
      "top": null,
      "visibility": null,
      "width": null
     }
    },
    "93e44e53dec845b09ab476dbcff1b976": {
     "model_module": "@jupyter-widgets/base",
     "model_name": "LayoutModel",
     "model_module_version": "1.2.0",
     "state": {
      "_model_module": "@jupyter-widgets/base",
      "_model_module_version": "1.2.0",
      "_model_name": "LayoutModel",
      "_view_count": null,
      "_view_module": "@jupyter-widgets/base",
      "_view_module_version": "1.2.0",
      "_view_name": "LayoutView",
      "align_content": null,
      "align_items": null,
      "align_self": null,
      "border": null,
      "bottom": null,
      "display": null,
      "flex": null,
      "flex_flow": null,
      "grid_area": null,
      "grid_auto_columns": null,
      "grid_auto_flow": null,
      "grid_auto_rows": null,
      "grid_column": null,
      "grid_gap": null,
      "grid_row": null,
      "grid_template_areas": null,
      "grid_template_columns": null,
      "grid_template_rows": null,
      "height": null,
      "justify_content": null,
      "justify_items": null,
      "left": null,
      "margin": null,
      "max_height": null,
      "max_width": null,
      "min_height": null,
      "min_width": null,
      "object_fit": null,
      "object_position": null,
      "order": null,
      "overflow": null,
      "overflow_x": null,
      "overflow_y": null,
      "padding": null,
      "right": null,
      "top": null,
      "visibility": null,
      "width": null
     }
    },
    "44a2964ee206411c853e6005cf01bba5": {
     "model_module": "@jupyter-widgets/controls",
     "model_name": "DescriptionStyleModel",
     "model_module_version": "1.5.0",
     "state": {
      "_model_module": "@jupyter-widgets/controls",
      "_model_module_version": "1.5.0",
      "_model_name": "DescriptionStyleModel",
      "_view_count": null,
      "_view_module": "@jupyter-widgets/base",
      "_view_module_version": "1.2.0",
      "_view_name": "StyleView",
      "description_width": ""
     }
    },
    "03996c88c2614022aea730d9715a1a1d": {
     "model_module": "@jupyter-widgets/base",
     "model_name": "LayoutModel",
     "model_module_version": "1.2.0",
     "state": {
      "_model_module": "@jupyter-widgets/base",
      "_model_module_version": "1.2.0",
      "_model_name": "LayoutModel",
      "_view_count": null,
      "_view_module": "@jupyter-widgets/base",
      "_view_module_version": "1.2.0",
      "_view_name": "LayoutView",
      "align_content": null,
      "align_items": null,
      "align_self": null,
      "border": null,
      "bottom": null,
      "display": null,
      "flex": null,
      "flex_flow": null,
      "grid_area": null,
      "grid_auto_columns": null,
      "grid_auto_flow": null,
      "grid_auto_rows": null,
      "grid_column": null,
      "grid_gap": null,
      "grid_row": null,
      "grid_template_areas": null,
      "grid_template_columns": null,
      "grid_template_rows": null,
      "height": null,
      "justify_content": null,
      "justify_items": null,
      "left": null,
      "margin": null,
      "max_height": null,
      "max_width": null,
      "min_height": null,
      "min_width": null,
      "object_fit": null,
      "object_position": null,
      "order": null,
      "overflow": null,
      "overflow_x": null,
      "overflow_y": null,
      "padding": null,
      "right": null,
      "top": null,
      "visibility": null,
      "width": null
     }
    },
    "2ace4c3f045246758212519cc8614421": {
     "model_module": "@jupyter-widgets/controls",
     "model_name": "ProgressStyleModel",
     "model_module_version": "1.5.0",
     "state": {
      "_model_module": "@jupyter-widgets/controls",
      "_model_module_version": "1.5.0",
      "_model_name": "ProgressStyleModel",
      "_view_count": null,
      "_view_module": "@jupyter-widgets/base",
      "_view_module_version": "1.2.0",
      "_view_name": "StyleView",
      "bar_color": null,
      "description_width": ""
     }
    },
    "503e40f3d10b4f6ead0589bd1ca1a8e1": {
     "model_module": "@jupyter-widgets/base",
     "model_name": "LayoutModel",
     "model_module_version": "1.2.0",
     "state": {
      "_model_module": "@jupyter-widgets/base",
      "_model_module_version": "1.2.0",
      "_model_name": "LayoutModel",
      "_view_count": null,
      "_view_module": "@jupyter-widgets/base",
      "_view_module_version": "1.2.0",
      "_view_name": "LayoutView",
      "align_content": null,
      "align_items": null,
      "align_self": null,
      "border": null,
      "bottom": null,
      "display": null,
      "flex": null,
      "flex_flow": null,
      "grid_area": null,
      "grid_auto_columns": null,
      "grid_auto_flow": null,
      "grid_auto_rows": null,
      "grid_column": null,
      "grid_gap": null,
      "grid_row": null,
      "grid_template_areas": null,
      "grid_template_columns": null,
      "grid_template_rows": null,
      "height": null,
      "justify_content": null,
      "justify_items": null,
      "left": null,
      "margin": null,
      "max_height": null,
      "max_width": null,
      "min_height": null,
      "min_width": null,
      "object_fit": null,
      "object_position": null,
      "order": null,
      "overflow": null,
      "overflow_x": null,
      "overflow_y": null,
      "padding": null,
      "right": null,
      "top": null,
      "visibility": null,
      "width": null
     }
    },
    "e88c960081b64ab8bad1097bf9b15610": {
     "model_module": "@jupyter-widgets/controls",
     "model_name": "DescriptionStyleModel",
     "model_module_version": "1.5.0",
     "state": {
      "_model_module": "@jupyter-widgets/controls",
      "_model_module_version": "1.5.0",
      "_model_name": "DescriptionStyleModel",
      "_view_count": null,
      "_view_module": "@jupyter-widgets/base",
      "_view_module_version": "1.2.0",
      "_view_name": "StyleView",
      "description_width": ""
     }
    },
    "8d814e3c7180475da41a0809040feacb": {
     "model_module": "@jupyter-widgets/controls",
     "model_name": "HBoxModel",
     "model_module_version": "1.5.0",
     "state": {
      "_dom_classes": [],
      "_model_module": "@jupyter-widgets/controls",
      "_model_module_version": "1.5.0",
      "_model_name": "HBoxModel",
      "_view_count": null,
      "_view_module": "@jupyter-widgets/controls",
      "_view_module_version": "1.5.0",
      "_view_name": "HBoxView",
      "box_style": "",
      "children": [
       "IPY_MODEL_a8afbbd80a0d4f66871430a0f2cffebe",
       "IPY_MODEL_d92d32b76d844c22a93a5004a0311778",
       "IPY_MODEL_08b26abd33924d6ba1573a028c13ff81"
      ],
      "layout": "IPY_MODEL_5169cb5c8abd47e79baf11de9a859bef"
     }
    },
    "a8afbbd80a0d4f66871430a0f2cffebe": {
     "model_module": "@jupyter-widgets/controls",
     "model_name": "HTMLModel",
     "model_module_version": "1.5.0",
     "state": {
      "_dom_classes": [],
      "_model_module": "@jupyter-widgets/controls",
      "_model_module_version": "1.5.0",
      "_model_name": "HTMLModel",
      "_view_count": null,
      "_view_module": "@jupyter-widgets/controls",
      "_view_module_version": "1.5.0",
      "_view_name": "HTMLView",
      "description": "",
      "description_tooltip": null,
      "layout": "IPY_MODEL_3b97ac0633b1469d83933c3985a07604",
      "placeholder": "​",
      "style": "IPY_MODEL_982b4685a34d4c75acf205b129d7454a",
      "value": "Downloading (…)solve/main/vocab.txt: 100%"
     }
    },
    "d92d32b76d844c22a93a5004a0311778": {
     "model_module": "@jupyter-widgets/controls",
     "model_name": "FloatProgressModel",
     "model_module_version": "1.5.0",
     "state": {
      "_dom_classes": [],
      "_model_module": "@jupyter-widgets/controls",
      "_model_module_version": "1.5.0",
      "_model_name": "FloatProgressModel",
      "_view_count": null,
      "_view_module": "@jupyter-widgets/controls",
      "_view_module_version": "1.5.0",
      "_view_name": "ProgressView",
      "bar_style": "success",
      "description": "",
      "description_tooltip": null,
      "layout": "IPY_MODEL_cb3fd701e52c4d6b96b021500eee04af",
      "max": 995526,
      "min": 0,
      "orientation": "horizontal",
      "style": "IPY_MODEL_835af136f13a4596b866e55605012680",
      "value": 995526
     }
    },
    "08b26abd33924d6ba1573a028c13ff81": {
     "model_module": "@jupyter-widgets/controls",
     "model_name": "HTMLModel",
     "model_module_version": "1.5.0",
     "state": {
      "_dom_classes": [],
      "_model_module": "@jupyter-widgets/controls",
      "_model_module_version": "1.5.0",
      "_model_name": "HTMLModel",
      "_view_count": null,
      "_view_module": "@jupyter-widgets/controls",
      "_view_module_version": "1.5.0",
      "_view_name": "HTMLView",
      "description": "",
      "description_tooltip": null,
      "layout": "IPY_MODEL_3a98020c62ce42c8b90f91f559400ab6",
      "placeholder": "​",
      "style": "IPY_MODEL_05b1e70e887442718526ba24e197548f",
      "value": " 996k/996k [00:01&lt;00:00, 998kB/s]"
     }
    },
    "5169cb5c8abd47e79baf11de9a859bef": {
     "model_module": "@jupyter-widgets/base",
     "model_name": "LayoutModel",
     "model_module_version": "1.2.0",
     "state": {
      "_model_module": "@jupyter-widgets/base",
      "_model_module_version": "1.2.0",
      "_model_name": "LayoutModel",
      "_view_count": null,
      "_view_module": "@jupyter-widgets/base",
      "_view_module_version": "1.2.0",
      "_view_name": "LayoutView",
      "align_content": null,
      "align_items": null,
      "align_self": null,
      "border": null,
      "bottom": null,
      "display": null,
      "flex": null,
      "flex_flow": null,
      "grid_area": null,
      "grid_auto_columns": null,
      "grid_auto_flow": null,
      "grid_auto_rows": null,
      "grid_column": null,
      "grid_gap": null,
      "grid_row": null,
      "grid_template_areas": null,
      "grid_template_columns": null,
      "grid_template_rows": null,
      "height": null,
      "justify_content": null,
      "justify_items": null,
      "left": null,
      "margin": null,
      "max_height": null,
      "max_width": null,
      "min_height": null,
      "min_width": null,
      "object_fit": null,
      "object_position": null,
      "order": null,
      "overflow": null,
      "overflow_x": null,
      "overflow_y": null,
      "padding": null,
      "right": null,
      "top": null,
      "visibility": null,
      "width": null
     }
    },
    "3b97ac0633b1469d83933c3985a07604": {
     "model_module": "@jupyter-widgets/base",
     "model_name": "LayoutModel",
     "model_module_version": "1.2.0",
     "state": {
      "_model_module": "@jupyter-widgets/base",
      "_model_module_version": "1.2.0",
      "_model_name": "LayoutModel",
      "_view_count": null,
      "_view_module": "@jupyter-widgets/base",
      "_view_module_version": "1.2.0",
      "_view_name": "LayoutView",
      "align_content": null,
      "align_items": null,
      "align_self": null,
      "border": null,
      "bottom": null,
      "display": null,
      "flex": null,
      "flex_flow": null,
      "grid_area": null,
      "grid_auto_columns": null,
      "grid_auto_flow": null,
      "grid_auto_rows": null,
      "grid_column": null,
      "grid_gap": null,
      "grid_row": null,
      "grid_template_areas": null,
      "grid_template_columns": null,
      "grid_template_rows": null,
      "height": null,
      "justify_content": null,
      "justify_items": null,
      "left": null,
      "margin": null,
      "max_height": null,
      "max_width": null,
      "min_height": null,
      "min_width": null,
      "object_fit": null,
      "object_position": null,
      "order": null,
      "overflow": null,
      "overflow_x": null,
      "overflow_y": null,
      "padding": null,
      "right": null,
      "top": null,
      "visibility": null,
      "width": null
     }
    },
    "982b4685a34d4c75acf205b129d7454a": {
     "model_module": "@jupyter-widgets/controls",
     "model_name": "DescriptionStyleModel",
     "model_module_version": "1.5.0",
     "state": {
      "_model_module": "@jupyter-widgets/controls",
      "_model_module_version": "1.5.0",
      "_model_name": "DescriptionStyleModel",
      "_view_count": null,
      "_view_module": "@jupyter-widgets/base",
      "_view_module_version": "1.2.0",
      "_view_name": "StyleView",
      "description_width": ""
     }
    },
    "cb3fd701e52c4d6b96b021500eee04af": {
     "model_module": "@jupyter-widgets/base",
     "model_name": "LayoutModel",
     "model_module_version": "1.2.0",
     "state": {
      "_model_module": "@jupyter-widgets/base",
      "_model_module_version": "1.2.0",
      "_model_name": "LayoutModel",
      "_view_count": null,
      "_view_module": "@jupyter-widgets/base",
      "_view_module_version": "1.2.0",
      "_view_name": "LayoutView",
      "align_content": null,
      "align_items": null,
      "align_self": null,
      "border": null,
      "bottom": null,
      "display": null,
      "flex": null,
      "flex_flow": null,
      "grid_area": null,
      "grid_auto_columns": null,
      "grid_auto_flow": null,
      "grid_auto_rows": null,
      "grid_column": null,
      "grid_gap": null,
      "grid_row": null,
      "grid_template_areas": null,
      "grid_template_columns": null,
      "grid_template_rows": null,
      "height": null,
      "justify_content": null,
      "justify_items": null,
      "left": null,
      "margin": null,
      "max_height": null,
      "max_width": null,
      "min_height": null,
      "min_width": null,
      "object_fit": null,
      "object_position": null,
      "order": null,
      "overflow": null,
      "overflow_x": null,
      "overflow_y": null,
      "padding": null,
      "right": null,
      "top": null,
      "visibility": null,
      "width": null
     }
    },
    "835af136f13a4596b866e55605012680": {
     "model_module": "@jupyter-widgets/controls",
     "model_name": "ProgressStyleModel",
     "model_module_version": "1.5.0",
     "state": {
      "_model_module": "@jupyter-widgets/controls",
      "_model_module_version": "1.5.0",
      "_model_name": "ProgressStyleModel",
      "_view_count": null,
      "_view_module": "@jupyter-widgets/base",
      "_view_module_version": "1.2.0",
      "_view_name": "StyleView",
      "bar_color": null,
      "description_width": ""
     }
    },
    "3a98020c62ce42c8b90f91f559400ab6": {
     "model_module": "@jupyter-widgets/base",
     "model_name": "LayoutModel",
     "model_module_version": "1.2.0",
     "state": {
      "_model_module": "@jupyter-widgets/base",
      "_model_module_version": "1.2.0",
      "_model_name": "LayoutModel",
      "_view_count": null,
      "_view_module": "@jupyter-widgets/base",
      "_view_module_version": "1.2.0",
      "_view_name": "LayoutView",
      "align_content": null,
      "align_items": null,
      "align_self": null,
      "border": null,
      "bottom": null,
      "display": null,
      "flex": null,
      "flex_flow": null,
      "grid_area": null,
      "grid_auto_columns": null,
      "grid_auto_flow": null,
      "grid_auto_rows": null,
      "grid_column": null,
      "grid_gap": null,
      "grid_row": null,
      "grid_template_areas": null,
      "grid_template_columns": null,
      "grid_template_rows": null,
      "height": null,
      "justify_content": null,
      "justify_items": null,
      "left": null,
      "margin": null,
      "max_height": null,
      "max_width": null,
      "min_height": null,
      "min_width": null,
      "object_fit": null,
      "object_position": null,
      "order": null,
      "overflow": null,
      "overflow_x": null,
      "overflow_y": null,
      "padding": null,
      "right": null,
      "top": null,
      "visibility": null,
      "width": null
     }
    },
    "05b1e70e887442718526ba24e197548f": {
     "model_module": "@jupyter-widgets/controls",
     "model_name": "DescriptionStyleModel",
     "model_module_version": "1.5.0",
     "state": {
      "_model_module": "@jupyter-widgets/controls",
      "_model_module_version": "1.5.0",
      "_model_name": "DescriptionStyleModel",
      "_view_count": null,
      "_view_module": "@jupyter-widgets/base",
      "_view_module_version": "1.2.0",
      "_view_name": "StyleView",
      "description_width": ""
     }
    },
    "b774ec39394641f893d33ab90fcdf186": {
     "model_module": "@jupyter-widgets/controls",
     "model_name": "HBoxModel",
     "model_module_version": "1.5.0",
     "state": {
      "_dom_classes": [],
      "_model_module": "@jupyter-widgets/controls",
      "_model_module_version": "1.5.0",
      "_model_name": "HBoxModel",
      "_view_count": null,
      "_view_module": "@jupyter-widgets/controls",
      "_view_module_version": "1.5.0",
      "_view_name": "HBoxView",
      "box_style": "",
      "children": [
       "IPY_MODEL_4723319d4b644f92aa554c9e937e4b0d",
       "IPY_MODEL_132a724606414cdcb61e6fad2c0cf230",
       "IPY_MODEL_4ea849e90c79432ca61df8a44c2fc240"
      ],
      "layout": "IPY_MODEL_d7d77e9c8acd45ec91a9cd764647b21d"
     }
    },
    "4723319d4b644f92aa554c9e937e4b0d": {
     "model_module": "@jupyter-widgets/controls",
     "model_name": "HTMLModel",
     "model_module_version": "1.5.0",
     "state": {
      "_dom_classes": [],
      "_model_module": "@jupyter-widgets/controls",
      "_model_module_version": "1.5.0",
      "_model_name": "HTMLModel",
      "_view_count": null,
      "_view_module": "@jupyter-widgets/controls",
      "_view_module_version": "1.5.0",
      "_view_name": "HTMLView",
      "description": "",
      "description_tooltip": null,
      "layout": "IPY_MODEL_95aff9c786934bbeb70732c5a3e24f08",
      "placeholder": "​",
      "style": "IPY_MODEL_6edc591de66c4dc1b20d49a3bf61d74c",
      "value": "Downloading (…)/main/tokenizer.json: 100%"
     }
    },
    "132a724606414cdcb61e6fad2c0cf230": {
     "model_module": "@jupyter-widgets/controls",
     "model_name": "FloatProgressModel",
     "model_module_version": "1.5.0",
     "state": {
      "_dom_classes": [],
      "_model_module": "@jupyter-widgets/controls",
      "_model_module_version": "1.5.0",
      "_model_name": "FloatProgressModel",
      "_view_count": null,
      "_view_module": "@jupyter-widgets/controls",
      "_view_module_version": "1.5.0",
      "_view_name": "ProgressView",
      "bar_style": "success",
      "description": "",
      "description_tooltip": null,
      "layout": "IPY_MODEL_2b483e671b2d4f08b9c39da08ad4764c",
      "max": 1961828,
      "min": 0,
      "orientation": "horizontal",
      "style": "IPY_MODEL_d06a319958084726882738b92190bf9d",
      "value": 1961828
     }
    },
    "4ea849e90c79432ca61df8a44c2fc240": {
     "model_module": "@jupyter-widgets/controls",
     "model_name": "HTMLModel",
     "model_module_version": "1.5.0",
     "state": {
      "_dom_classes": [],
      "_model_module": "@jupyter-widgets/controls",
      "_model_module_version": "1.5.0",
      "_model_name": "HTMLModel",
      "_view_count": null,
      "_view_module": "@jupyter-widgets/controls",
      "_view_module_version": "1.5.0",
      "_view_name": "HTMLView",
      "description": "",
      "description_tooltip": null,
      "layout": "IPY_MODEL_d17380dd195448528faaea0455ea29b6",
      "placeholder": "​",
      "style": "IPY_MODEL_70cc268d95864d0298f9564130f1522b",
      "value": " 1.96M/1.96M [00:01&lt;00:00, 1.58MB/s]"
     }
    },
    "d7d77e9c8acd45ec91a9cd764647b21d": {
     "model_module": "@jupyter-widgets/base",
     "model_name": "LayoutModel",
     "model_module_version": "1.2.0",
     "state": {
      "_model_module": "@jupyter-widgets/base",
      "_model_module_version": "1.2.0",
      "_model_name": "LayoutModel",
      "_view_count": null,
      "_view_module": "@jupyter-widgets/base",
      "_view_module_version": "1.2.0",
      "_view_name": "LayoutView",
      "align_content": null,
      "align_items": null,
      "align_self": null,
      "border": null,
      "bottom": null,
      "display": null,
      "flex": null,
      "flex_flow": null,
      "grid_area": null,
      "grid_auto_columns": null,
      "grid_auto_flow": null,
      "grid_auto_rows": null,
      "grid_column": null,
      "grid_gap": null,
      "grid_row": null,
      "grid_template_areas": null,
      "grid_template_columns": null,
      "grid_template_rows": null,
      "height": null,
      "justify_content": null,
      "justify_items": null,
      "left": null,
      "margin": null,
      "max_height": null,
      "max_width": null,
      "min_height": null,
      "min_width": null,
      "object_fit": null,
      "object_position": null,
      "order": null,
      "overflow": null,
      "overflow_x": null,
      "overflow_y": null,
      "padding": null,
      "right": null,
      "top": null,
      "visibility": null,
      "width": null
     }
    },
    "95aff9c786934bbeb70732c5a3e24f08": {
     "model_module": "@jupyter-widgets/base",
     "model_name": "LayoutModel",
     "model_module_version": "1.2.0",
     "state": {
      "_model_module": "@jupyter-widgets/base",
      "_model_module_version": "1.2.0",
      "_model_name": "LayoutModel",
      "_view_count": null,
      "_view_module": "@jupyter-widgets/base",
      "_view_module_version": "1.2.0",
      "_view_name": "LayoutView",
      "align_content": null,
      "align_items": null,
      "align_self": null,
      "border": null,
      "bottom": null,
      "display": null,
      "flex": null,
      "flex_flow": null,
      "grid_area": null,
      "grid_auto_columns": null,
      "grid_auto_flow": null,
      "grid_auto_rows": null,
      "grid_column": null,
      "grid_gap": null,
      "grid_row": null,
      "grid_template_areas": null,
      "grid_template_columns": null,
      "grid_template_rows": null,
      "height": null,
      "justify_content": null,
      "justify_items": null,
      "left": null,
      "margin": null,
      "max_height": null,
      "max_width": null,
      "min_height": null,
      "min_width": null,
      "object_fit": null,
      "object_position": null,
      "order": null,
      "overflow": null,
      "overflow_x": null,
      "overflow_y": null,
      "padding": null,
      "right": null,
      "top": null,
      "visibility": null,
      "width": null
     }
    },
    "6edc591de66c4dc1b20d49a3bf61d74c": {
     "model_module": "@jupyter-widgets/controls",
     "model_name": "DescriptionStyleModel",
     "model_module_version": "1.5.0",
     "state": {
      "_model_module": "@jupyter-widgets/controls",
      "_model_module_version": "1.5.0",
      "_model_name": "DescriptionStyleModel",
      "_view_count": null,
      "_view_module": "@jupyter-widgets/base",
      "_view_module_version": "1.2.0",
      "_view_name": "StyleView",
      "description_width": ""
     }
    },
    "2b483e671b2d4f08b9c39da08ad4764c": {
     "model_module": "@jupyter-widgets/base",
     "model_name": "LayoutModel",
     "model_module_version": "1.2.0",
     "state": {
      "_model_module": "@jupyter-widgets/base",
      "_model_module_version": "1.2.0",
      "_model_name": "LayoutModel",
      "_view_count": null,
      "_view_module": "@jupyter-widgets/base",
      "_view_module_version": "1.2.0",
      "_view_name": "LayoutView",
      "align_content": null,
      "align_items": null,
      "align_self": null,
      "border": null,
      "bottom": null,
      "display": null,
      "flex": null,
      "flex_flow": null,
      "grid_area": null,
      "grid_auto_columns": null,
      "grid_auto_flow": null,
      "grid_auto_rows": null,
      "grid_column": null,
      "grid_gap": null,
      "grid_row": null,
      "grid_template_areas": null,
      "grid_template_columns": null,
      "grid_template_rows": null,
      "height": null,
      "justify_content": null,
      "justify_items": null,
      "left": null,
      "margin": null,
      "max_height": null,
      "max_width": null,
      "min_height": null,
      "min_width": null,
      "object_fit": null,
      "object_position": null,
      "order": null,
      "overflow": null,
      "overflow_x": null,
      "overflow_y": null,
      "padding": null,
      "right": null,
      "top": null,
      "visibility": null,
      "width": null
     }
    },
    "d06a319958084726882738b92190bf9d": {
     "model_module": "@jupyter-widgets/controls",
     "model_name": "ProgressStyleModel",
     "model_module_version": "1.5.0",
     "state": {
      "_model_module": "@jupyter-widgets/controls",
      "_model_module_version": "1.5.0",
      "_model_name": "ProgressStyleModel",
      "_view_count": null,
      "_view_module": "@jupyter-widgets/base",
      "_view_module_version": "1.2.0",
      "_view_name": "StyleView",
      "bar_color": null,
      "description_width": ""
     }
    },
    "d17380dd195448528faaea0455ea29b6": {
     "model_module": "@jupyter-widgets/base",
     "model_name": "LayoutModel",
     "model_module_version": "1.2.0",
     "state": {
      "_model_module": "@jupyter-widgets/base",
      "_model_module_version": "1.2.0",
      "_model_name": "LayoutModel",
      "_view_count": null,
      "_view_module": "@jupyter-widgets/base",
      "_view_module_version": "1.2.0",
      "_view_name": "LayoutView",
      "align_content": null,
      "align_items": null,
      "align_self": null,
      "border": null,
      "bottom": null,
      "display": null,
      "flex": null,
      "flex_flow": null,
      "grid_area": null,
      "grid_auto_columns": null,
      "grid_auto_flow": null,
      "grid_auto_rows": null,
      "grid_column": null,
      "grid_gap": null,
      "grid_row": null,
      "grid_template_areas": null,
      "grid_template_columns": null,
      "grid_template_rows": null,
      "height": null,
      "justify_content": null,
      "justify_items": null,
      "left": null,
      "margin": null,
      "max_height": null,
      "max_width": null,
      "min_height": null,
      "min_width": null,
      "object_fit": null,
      "object_position": null,
      "order": null,
      "overflow": null,
      "overflow_x": null,
      "overflow_y": null,
      "padding": null,
      "right": null,
      "top": null,
      "visibility": null,
      "width": null
     }
    },
    "70cc268d95864d0298f9564130f1522b": {
     "model_module": "@jupyter-widgets/controls",
     "model_name": "DescriptionStyleModel",
     "model_module_version": "1.5.0",
     "state": {
      "_model_module": "@jupyter-widgets/controls",
      "_model_module_version": "1.5.0",
      "_model_name": "DescriptionStyleModel",
      "_view_count": null,
      "_view_module": "@jupyter-widgets/base",
      "_view_module_version": "1.2.0",
      "_view_name": "StyleView",
      "description_width": ""
     }
    },
    "bcf24b13a06643ce9e121d8e264e6580": {
     "model_module": "@jupyter-widgets/controls",
     "model_name": "HBoxModel",
     "model_module_version": "1.5.0",
     "state": {
      "_dom_classes": [],
      "_model_module": "@jupyter-widgets/controls",
      "_model_module_version": "1.5.0",
      "_model_name": "HBoxModel",
      "_view_count": null,
      "_view_module": "@jupyter-widgets/controls",
      "_view_module_version": "1.5.0",
      "_view_name": "HBoxView",
      "box_style": "",
      "children": [
       "IPY_MODEL_79b526e12391479bbd71f5aa5586a991",
       "IPY_MODEL_99444e4a05584ae0b51d038a97417a30",
       "IPY_MODEL_71c4cc0c0af54521a9a8fe443ea5d063"
      ],
      "layout": "IPY_MODEL_e80eeb28004541278b85ee88147731c6"
     }
    },
    "79b526e12391479bbd71f5aa5586a991": {
     "model_module": "@jupyter-widgets/controls",
     "model_name": "HTMLModel",
     "model_module_version": "1.5.0",
     "state": {
      "_dom_classes": [],
      "_model_module": "@jupyter-widgets/controls",
      "_model_module_version": "1.5.0",
      "_model_name": "HTMLModel",
      "_view_count": null,
      "_view_module": "@jupyter-widgets/controls",
      "_view_module_version": "1.5.0",
      "_view_name": "HTMLView",
      "description": "",
      "description_tooltip": null,
      "layout": "IPY_MODEL_724f9331562c49cea3acc22303ebe05f",
      "placeholder": "​",
      "style": "IPY_MODEL_cbc8b617311e4dc0a2b6c511b88879dc",
      "value": "Downloading builder script: 100%"
     }
    },
    "99444e4a05584ae0b51d038a97417a30": {
     "model_module": "@jupyter-widgets/controls",
     "model_name": "FloatProgressModel",
     "model_module_version": "1.5.0",
     "state": {
      "_dom_classes": [],
      "_model_module": "@jupyter-widgets/controls",
      "_model_module_version": "1.5.0",
      "_model_name": "FloatProgressModel",
      "_view_count": null,
      "_view_module": "@jupyter-widgets/controls",
      "_view_module_version": "1.5.0",
      "_view_name": "ProgressView",
      "bar_style": "success",
      "description": "",
      "description_tooltip": null,
      "layout": "IPY_MODEL_be00f7d313c146f9a97f63863421bc84",
      "max": 6338,
      "min": 0,
      "orientation": "horizontal",
      "style": "IPY_MODEL_3ce841861b26492cb2f32bff51667d1f",
      "value": 6338
     }
    },
    "71c4cc0c0af54521a9a8fe443ea5d063": {
     "model_module": "@jupyter-widgets/controls",
     "model_name": "HTMLModel",
     "model_module_version": "1.5.0",
     "state": {
      "_dom_classes": [],
      "_model_module": "@jupyter-widgets/controls",
      "_model_module_version": "1.5.0",
      "_model_name": "HTMLModel",
      "_view_count": null,
      "_view_module": "@jupyter-widgets/controls",
      "_view_module_version": "1.5.0",
      "_view_name": "HTMLView",
      "description": "",
      "description_tooltip": null,
      "layout": "IPY_MODEL_72e6bf9a39174a48aa0b15befe2e7080",
      "placeholder": "​",
      "style": "IPY_MODEL_3ffa2c02d43c4bc0bc2da0a46d9b65bb",
      "value": " 6.34k/6.34k [00:00&lt;00:00, 419kB/s]"
     }
    },
    "e80eeb28004541278b85ee88147731c6": {
     "model_module": "@jupyter-widgets/base",
     "model_name": "LayoutModel",
     "model_module_version": "1.2.0",
     "state": {
      "_model_module": "@jupyter-widgets/base",
      "_model_module_version": "1.2.0",
      "_model_name": "LayoutModel",
      "_view_count": null,
      "_view_module": "@jupyter-widgets/base",
      "_view_module_version": "1.2.0",
      "_view_name": "LayoutView",
      "align_content": null,
      "align_items": null,
      "align_self": null,
      "border": null,
      "bottom": null,
      "display": null,
      "flex": null,
      "flex_flow": null,
      "grid_area": null,
      "grid_auto_columns": null,
      "grid_auto_flow": null,
      "grid_auto_rows": null,
      "grid_column": null,
      "grid_gap": null,
      "grid_row": null,
      "grid_template_areas": null,
      "grid_template_columns": null,
      "grid_template_rows": null,
      "height": null,
      "justify_content": null,
      "justify_items": null,
      "left": null,
      "margin": null,
      "max_height": null,
      "max_width": null,
      "min_height": null,
      "min_width": null,
      "object_fit": null,
      "object_position": null,
      "order": null,
      "overflow": null,
      "overflow_x": null,
      "overflow_y": null,
      "padding": null,
      "right": null,
      "top": null,
      "visibility": null,
      "width": null
     }
    },
    "724f9331562c49cea3acc22303ebe05f": {
     "model_module": "@jupyter-widgets/base",
     "model_name": "LayoutModel",
     "model_module_version": "1.2.0",
     "state": {
      "_model_module": "@jupyter-widgets/base",
      "_model_module_version": "1.2.0",
      "_model_name": "LayoutModel",
      "_view_count": null,
      "_view_module": "@jupyter-widgets/base",
      "_view_module_version": "1.2.0",
      "_view_name": "LayoutView",
      "align_content": null,
      "align_items": null,
      "align_self": null,
      "border": null,
      "bottom": null,
      "display": null,
      "flex": null,
      "flex_flow": null,
      "grid_area": null,
      "grid_auto_columns": null,
      "grid_auto_flow": null,
      "grid_auto_rows": null,
      "grid_column": null,
      "grid_gap": null,
      "grid_row": null,
      "grid_template_areas": null,
      "grid_template_columns": null,
      "grid_template_rows": null,
      "height": null,
      "justify_content": null,
      "justify_items": null,
      "left": null,
      "margin": null,
      "max_height": null,
      "max_width": null,
      "min_height": null,
      "min_width": null,
      "object_fit": null,
      "object_position": null,
      "order": null,
      "overflow": null,
      "overflow_x": null,
      "overflow_y": null,
      "padding": null,
      "right": null,
      "top": null,
      "visibility": null,
      "width": null
     }
    },
    "cbc8b617311e4dc0a2b6c511b88879dc": {
     "model_module": "@jupyter-widgets/controls",
     "model_name": "DescriptionStyleModel",
     "model_module_version": "1.5.0",
     "state": {
      "_model_module": "@jupyter-widgets/controls",
      "_model_module_version": "1.5.0",
      "_model_name": "DescriptionStyleModel",
      "_view_count": null,
      "_view_module": "@jupyter-widgets/base",
      "_view_module_version": "1.2.0",
      "_view_name": "StyleView",
      "description_width": ""
     }
    },
    "be00f7d313c146f9a97f63863421bc84": {
     "model_module": "@jupyter-widgets/base",
     "model_name": "LayoutModel",
     "model_module_version": "1.2.0",
     "state": {
      "_model_module": "@jupyter-widgets/base",
      "_model_module_version": "1.2.0",
      "_model_name": "LayoutModel",
      "_view_count": null,
      "_view_module": "@jupyter-widgets/base",
      "_view_module_version": "1.2.0",
      "_view_name": "LayoutView",
      "align_content": null,
      "align_items": null,
      "align_self": null,
      "border": null,
      "bottom": null,
      "display": null,
      "flex": null,
      "flex_flow": null,
      "grid_area": null,
      "grid_auto_columns": null,
      "grid_auto_flow": null,
      "grid_auto_rows": null,
      "grid_column": null,
      "grid_gap": null,
      "grid_row": null,
      "grid_template_areas": null,
      "grid_template_columns": null,
      "grid_template_rows": null,
      "height": null,
      "justify_content": null,
      "justify_items": null,
      "left": null,
      "margin": null,
      "max_height": null,
      "max_width": null,
      "min_height": null,
      "min_width": null,
      "object_fit": null,
      "object_position": null,
      "order": null,
      "overflow": null,
      "overflow_x": null,
      "overflow_y": null,
      "padding": null,
      "right": null,
      "top": null,
      "visibility": null,
      "width": null
     }
    },
    "3ce841861b26492cb2f32bff51667d1f": {
     "model_module": "@jupyter-widgets/controls",
     "model_name": "ProgressStyleModel",
     "model_module_version": "1.5.0",
     "state": {
      "_model_module": "@jupyter-widgets/controls",
      "_model_module_version": "1.5.0",
      "_model_name": "ProgressStyleModel",
      "_view_count": null,
      "_view_module": "@jupyter-widgets/base",
      "_view_module_version": "1.2.0",
      "_view_name": "StyleView",
      "bar_color": null,
      "description_width": ""
     }
    },
    "72e6bf9a39174a48aa0b15befe2e7080": {
     "model_module": "@jupyter-widgets/base",
     "model_name": "LayoutModel",
     "model_module_version": "1.2.0",
     "state": {
      "_model_module": "@jupyter-widgets/base",
      "_model_module_version": "1.2.0",
      "_model_name": "LayoutModel",
      "_view_count": null,
      "_view_module": "@jupyter-widgets/base",
      "_view_module_version": "1.2.0",
      "_view_name": "LayoutView",
      "align_content": null,
      "align_items": null,
      "align_self": null,
      "border": null,
      "bottom": null,
      "display": null,
      "flex": null,
      "flex_flow": null,
      "grid_area": null,
      "grid_auto_columns": null,
      "grid_auto_flow": null,
      "grid_auto_rows": null,
      "grid_column": null,
      "grid_gap": null,
      "grid_row": null,
      "grid_template_areas": null,
      "grid_template_columns": null,
      "grid_template_rows": null,
      "height": null,
      "justify_content": null,
      "justify_items": null,
      "left": null,
      "margin": null,
      "max_height": null,
      "max_width": null,
      "min_height": null,
      "min_width": null,
      "object_fit": null,
      "object_position": null,
      "order": null,
      "overflow": null,
      "overflow_x": null,
      "overflow_y": null,
      "padding": null,
      "right": null,
      "top": null,
      "visibility": null,
      "width": null
     }
    },
    "3ffa2c02d43c4bc0bc2da0a46d9b65bb": {
     "model_module": "@jupyter-widgets/controls",
     "model_name": "DescriptionStyleModel",
     "model_module_version": "1.5.0",
     "state": {
      "_model_module": "@jupyter-widgets/controls",
      "_model_module_version": "1.5.0",
      "_model_name": "DescriptionStyleModel",
      "_view_count": null,
      "_view_module": "@jupyter-widgets/base",
      "_view_module_version": "1.2.0",
      "_view_name": "StyleView",
      "description_width": ""
     }
    },
    "35c820c7d0b94f8497683aeefe172877": {
     "model_module": "@jupyter-widgets/controls",
     "model_name": "HBoxModel",
     "model_module_version": "1.5.0",
     "state": {
      "_dom_classes": [],
      "_model_module": "@jupyter-widgets/controls",
      "_model_module_version": "1.5.0",
      "_model_name": "HBoxModel",
      "_view_count": null,
      "_view_module": "@jupyter-widgets/controls",
      "_view_module_version": "1.5.0",
      "_view_name": "HBoxView",
      "box_style": "",
      "children": [
       "IPY_MODEL_0eabdff157d446f8b89ce055b42c31c7",
       "IPY_MODEL_74798d09ced24aaca610f3fd6cc4ecbf",
       "IPY_MODEL_012f72edf39c4574b161cb54192b6f76"
      ],
      "layout": "IPY_MODEL_32ded4ffe9ca444db387e4063f0b8178"
     }
    },
    "0eabdff157d446f8b89ce055b42c31c7": {
     "model_module": "@jupyter-widgets/controls",
     "model_name": "HTMLModel",
     "model_module_version": "1.5.0",
     "state": {
      "_dom_classes": [],
      "_model_module": "@jupyter-widgets/controls",
      "_model_module_version": "1.5.0",
      "_model_name": "HTMLModel",
      "_view_count": null,
      "_view_module": "@jupyter-widgets/controls",
      "_view_module_version": "1.5.0",
      "_view_name": "HTMLView",
      "description": "",
      "description_tooltip": null,
      "layout": "IPY_MODEL_11f16c77d83b431da87639974319a805",
      "placeholder": "​",
      "style": "IPY_MODEL_e3702aa6a75b4681b6937d1ffa0233b9",
      "value": "Map:  98%"
     }
    },
    "74798d09ced24aaca610f3fd6cc4ecbf": {
     "model_module": "@jupyter-widgets/controls",
     "model_name": "FloatProgressModel",
     "model_module_version": "1.5.0",
     "state": {
      "_dom_classes": [],
      "_model_module": "@jupyter-widgets/controls",
      "_model_module_version": "1.5.0",
      "_model_name": "FloatProgressModel",
      "_view_count": null,
      "_view_module": "@jupyter-widgets/controls",
      "_view_module_version": "1.5.0",
      "_view_name": "ProgressView",
      "bar_style": "",
      "description": "",
      "description_tooltip": null,
      "layout": "IPY_MODEL_b87fe7c7526c432e94e777a57c23c26a",
      "max": 5115,
      "min": 0,
      "orientation": "horizontal",
      "style": "IPY_MODEL_6793ff0f940542019e293695ada7989a",
      "value": 5115
     }
    },
    "012f72edf39c4574b161cb54192b6f76": {
     "model_module": "@jupyter-widgets/controls",
     "model_name": "HTMLModel",
     "model_module_version": "1.5.0",
     "state": {
      "_dom_classes": [],
      "_model_module": "@jupyter-widgets/controls",
      "_model_module_version": "1.5.0",
      "_model_name": "HTMLModel",
      "_view_count": null,
      "_view_module": "@jupyter-widgets/controls",
      "_view_module_version": "1.5.0",
      "_view_name": "HTMLView",
      "description": "",
      "description_tooltip": null,
      "layout": "IPY_MODEL_f195e5454190462cb7716fd74376998f",
      "placeholder": "​",
      "style": "IPY_MODEL_e5076fdf46104aefba4a81121180b891",
      "value": " 5000/5115 [00:00&lt;00:00, 13247.14 examples/s]"
     }
    },
    "32ded4ffe9ca444db387e4063f0b8178": {
     "model_module": "@jupyter-widgets/base",
     "model_name": "LayoutModel",
     "model_module_version": "1.2.0",
     "state": {
      "_model_module": "@jupyter-widgets/base",
      "_model_module_version": "1.2.0",
      "_model_name": "LayoutModel",
      "_view_count": null,
      "_view_module": "@jupyter-widgets/base",
      "_view_module_version": "1.2.0",
      "_view_name": "LayoutView",
      "align_content": null,
      "align_items": null,
      "align_self": null,
      "border": null,
      "bottom": null,
      "display": null,
      "flex": null,
      "flex_flow": null,
      "grid_area": null,
      "grid_auto_columns": null,
      "grid_auto_flow": null,
      "grid_auto_rows": null,
      "grid_column": null,
      "grid_gap": null,
      "grid_row": null,
      "grid_template_areas": null,
      "grid_template_columns": null,
      "grid_template_rows": null,
      "height": null,
      "justify_content": null,
      "justify_items": null,
      "left": null,
      "margin": null,
      "max_height": null,
      "max_width": null,
      "min_height": null,
      "min_width": null,
      "object_fit": null,
      "object_position": null,
      "order": null,
      "overflow": null,
      "overflow_x": null,
      "overflow_y": null,
      "padding": null,
      "right": null,
      "top": null,
      "visibility": "hidden",
      "width": null
     }
    },
    "11f16c77d83b431da87639974319a805": {
     "model_module": "@jupyter-widgets/base",
     "model_name": "LayoutModel",
     "model_module_version": "1.2.0",
     "state": {
      "_model_module": "@jupyter-widgets/base",
      "_model_module_version": "1.2.0",
      "_model_name": "LayoutModel",
      "_view_count": null,
      "_view_module": "@jupyter-widgets/base",
      "_view_module_version": "1.2.0",
      "_view_name": "LayoutView",
      "align_content": null,
      "align_items": null,
      "align_self": null,
      "border": null,
      "bottom": null,
      "display": null,
      "flex": null,
      "flex_flow": null,
      "grid_area": null,
      "grid_auto_columns": null,
      "grid_auto_flow": null,
      "grid_auto_rows": null,
      "grid_column": null,
      "grid_gap": null,
      "grid_row": null,
      "grid_template_areas": null,
      "grid_template_columns": null,
      "grid_template_rows": null,
      "height": null,
      "justify_content": null,
      "justify_items": null,
      "left": null,
      "margin": null,
      "max_height": null,
      "max_width": null,
      "min_height": null,
      "min_width": null,
      "object_fit": null,
      "object_position": null,
      "order": null,
      "overflow": null,
      "overflow_x": null,
      "overflow_y": null,
      "padding": null,
      "right": null,
      "top": null,
      "visibility": null,
      "width": null
     }
    },
    "e3702aa6a75b4681b6937d1ffa0233b9": {
     "model_module": "@jupyter-widgets/controls",
     "model_name": "DescriptionStyleModel",
     "model_module_version": "1.5.0",
     "state": {
      "_model_module": "@jupyter-widgets/controls",
      "_model_module_version": "1.5.0",
      "_model_name": "DescriptionStyleModel",
      "_view_count": null,
      "_view_module": "@jupyter-widgets/base",
      "_view_module_version": "1.2.0",
      "_view_name": "StyleView",
      "description_width": ""
     }
    },
    "b87fe7c7526c432e94e777a57c23c26a": {
     "model_module": "@jupyter-widgets/base",
     "model_name": "LayoutModel",
     "model_module_version": "1.2.0",
     "state": {
      "_model_module": "@jupyter-widgets/base",
      "_model_module_version": "1.2.0",
      "_model_name": "LayoutModel",
      "_view_count": null,
      "_view_module": "@jupyter-widgets/base",
      "_view_module_version": "1.2.0",
      "_view_name": "LayoutView",
      "align_content": null,
      "align_items": null,
      "align_self": null,
      "border": null,
      "bottom": null,
      "display": null,
      "flex": null,
      "flex_flow": null,
      "grid_area": null,
      "grid_auto_columns": null,
      "grid_auto_flow": null,
      "grid_auto_rows": null,
      "grid_column": null,
      "grid_gap": null,
      "grid_row": null,
      "grid_template_areas": null,
      "grid_template_columns": null,
      "grid_template_rows": null,
      "height": null,
      "justify_content": null,
      "justify_items": null,
      "left": null,
      "margin": null,
      "max_height": null,
      "max_width": null,
      "min_height": null,
      "min_width": null,
      "object_fit": null,
      "object_position": null,
      "order": null,
      "overflow": null,
      "overflow_x": null,
      "overflow_y": null,
      "padding": null,
      "right": null,
      "top": null,
      "visibility": null,
      "width": null
     }
    },
    "6793ff0f940542019e293695ada7989a": {
     "model_module": "@jupyter-widgets/controls",
     "model_name": "ProgressStyleModel",
     "model_module_version": "1.5.0",
     "state": {
      "_model_module": "@jupyter-widgets/controls",
      "_model_module_version": "1.5.0",
      "_model_name": "ProgressStyleModel",
      "_view_count": null,
      "_view_module": "@jupyter-widgets/base",
      "_view_module_version": "1.2.0",
      "_view_name": "StyleView",
      "bar_color": null,
      "description_width": ""
     }
    },
    "f195e5454190462cb7716fd74376998f": {
     "model_module": "@jupyter-widgets/base",
     "model_name": "LayoutModel",
     "model_module_version": "1.2.0",
     "state": {
      "_model_module": "@jupyter-widgets/base",
      "_model_module_version": "1.2.0",
      "_model_name": "LayoutModel",
      "_view_count": null,
      "_view_module": "@jupyter-widgets/base",
      "_view_module_version": "1.2.0",
      "_view_name": "LayoutView",
      "align_content": null,
      "align_items": null,
      "align_self": null,
      "border": null,
      "bottom": null,
      "display": null,
      "flex": null,
      "flex_flow": null,
      "grid_area": null,
      "grid_auto_columns": null,
      "grid_auto_flow": null,
      "grid_auto_rows": null,
      "grid_column": null,
      "grid_gap": null,
      "grid_row": null,
      "grid_template_areas": null,
      "grid_template_columns": null,
      "grid_template_rows": null,
      "height": null,
      "justify_content": null,
      "justify_items": null,
      "left": null,
      "margin": null,
      "max_height": null,
      "max_width": null,
      "min_height": null,
      "min_width": null,
      "object_fit": null,
      "object_position": null,
      "order": null,
      "overflow": null,
      "overflow_x": null,
      "overflow_y": null,
      "padding": null,
      "right": null,
      "top": null,
      "visibility": null,
      "width": null
     }
    },
    "e5076fdf46104aefba4a81121180b891": {
     "model_module": "@jupyter-widgets/controls",
     "model_name": "DescriptionStyleModel",
     "model_module_version": "1.5.0",
     "state": {
      "_model_module": "@jupyter-widgets/controls",
      "_model_module_version": "1.5.0",
      "_model_name": "DescriptionStyleModel",
      "_view_count": null,
      "_view_module": "@jupyter-widgets/base",
      "_view_module_version": "1.2.0",
      "_view_name": "StyleView",
      "description_width": ""
     }
    },
    "d803ba65612544b48636a7f2bb92c610": {
     "model_module": "@jupyter-widgets/controls",
     "model_name": "HBoxModel",
     "model_module_version": "1.5.0",
     "state": {
      "_dom_classes": [],
      "_model_module": "@jupyter-widgets/controls",
      "_model_module_version": "1.5.0",
      "_model_name": "HBoxModel",
      "_view_count": null,
      "_view_module": "@jupyter-widgets/controls",
      "_view_module_version": "1.5.0",
      "_view_name": "HBoxView",
      "box_style": "",
      "children": [
       "IPY_MODEL_0f0632ecffa842b19ccf7665eb530fc8",
       "IPY_MODEL_d417451cb8e84a3c8c38c441b5576c65",
       "IPY_MODEL_6ab4ed3daa7243ebadfb838947128d22"
      ],
      "layout": "IPY_MODEL_6fa039c5874c47d8a705a09c027b1ebf"
     }
    },
    "0f0632ecffa842b19ccf7665eb530fc8": {
     "model_module": "@jupyter-widgets/controls",
     "model_name": "HTMLModel",
     "model_module_version": "1.5.0",
     "state": {
      "_dom_classes": [],
      "_model_module": "@jupyter-widgets/controls",
      "_model_module_version": "1.5.0",
      "_model_name": "HTMLModel",
      "_view_count": null,
      "_view_module": "@jupyter-widgets/controls",
      "_view_module_version": "1.5.0",
      "_view_name": "HTMLView",
      "description": "",
      "description_tooltip": null,
      "layout": "IPY_MODEL_7a52d9409c594048be94005eb89efc5c",
      "placeholder": "​",
      "style": "IPY_MODEL_28abba90e11d43bb9493484940ea70f4",
      "value": "Map: 100%"
     }
    },
    "d417451cb8e84a3c8c38c441b5576c65": {
     "model_module": "@jupyter-widgets/controls",
     "model_name": "FloatProgressModel",
     "model_module_version": "1.5.0",
     "state": {
      "_dom_classes": [],
      "_model_module": "@jupyter-widgets/controls",
      "_model_module_version": "1.5.0",
      "_model_name": "FloatProgressModel",
      "_view_count": null,
      "_view_module": "@jupyter-widgets/controls",
      "_view_module_version": "1.5.0",
      "_view_name": "ProgressView",
      "bar_style": "",
      "description": "",
      "description_tooltip": null,
      "layout": "IPY_MODEL_7ff8d74404c345698ce58322e89c92a6",
      "max": 1279,
      "min": 0,
      "orientation": "horizontal",
      "style": "IPY_MODEL_43e8024b8d5a48e08a4e108389edafd5",
      "value": 1279
     }
    },
    "6ab4ed3daa7243ebadfb838947128d22": {
     "model_module": "@jupyter-widgets/controls",
     "model_name": "HTMLModel",
     "model_module_version": "1.5.0",
     "state": {
      "_dom_classes": [],
      "_model_module": "@jupyter-widgets/controls",
      "_model_module_version": "1.5.0",
      "_model_name": "HTMLModel",
      "_view_count": null,
      "_view_module": "@jupyter-widgets/controls",
      "_view_module_version": "1.5.0",
      "_view_name": "HTMLView",
      "description": "",
      "description_tooltip": null,
      "layout": "IPY_MODEL_2b56571f1e3e4008814eb0cfee326973",
      "placeholder": "​",
      "style": "IPY_MODEL_d92e98bd42534e78892404d6ca373382",
      "value": " 1279/1279 [00:00&lt;00:00, 12523.93 examples/s]"
     }
    },
    "6fa039c5874c47d8a705a09c027b1ebf": {
     "model_module": "@jupyter-widgets/base",
     "model_name": "LayoutModel",
     "model_module_version": "1.2.0",
     "state": {
      "_model_module": "@jupyter-widgets/base",
      "_model_module_version": "1.2.0",
      "_model_name": "LayoutModel",
      "_view_count": null,
      "_view_module": "@jupyter-widgets/base",
      "_view_module_version": "1.2.0",
      "_view_name": "LayoutView",
      "align_content": null,
      "align_items": null,
      "align_self": null,
      "border": null,
      "bottom": null,
      "display": null,
      "flex": null,
      "flex_flow": null,
      "grid_area": null,
      "grid_auto_columns": null,
      "grid_auto_flow": null,
      "grid_auto_rows": null,
      "grid_column": null,
      "grid_gap": null,
      "grid_row": null,
      "grid_template_areas": null,
      "grid_template_columns": null,
      "grid_template_rows": null,
      "height": null,
      "justify_content": null,
      "justify_items": null,
      "left": null,
      "margin": null,
      "max_height": null,
      "max_width": null,
      "min_height": null,
      "min_width": null,
      "object_fit": null,
      "object_position": null,
      "order": null,
      "overflow": null,
      "overflow_x": null,
      "overflow_y": null,
      "padding": null,
      "right": null,
      "top": null,
      "visibility": "hidden",
      "width": null
     }
    },
    "7a52d9409c594048be94005eb89efc5c": {
     "model_module": "@jupyter-widgets/base",
     "model_name": "LayoutModel",
     "model_module_version": "1.2.0",
     "state": {
      "_model_module": "@jupyter-widgets/base",
      "_model_module_version": "1.2.0",
      "_model_name": "LayoutModel",
      "_view_count": null,
      "_view_module": "@jupyter-widgets/base",
      "_view_module_version": "1.2.0",
      "_view_name": "LayoutView",
      "align_content": null,
      "align_items": null,
      "align_self": null,
      "border": null,
      "bottom": null,
      "display": null,
      "flex": null,
      "flex_flow": null,
      "grid_area": null,
      "grid_auto_columns": null,
      "grid_auto_flow": null,
      "grid_auto_rows": null,
      "grid_column": null,
      "grid_gap": null,
      "grid_row": null,
      "grid_template_areas": null,
      "grid_template_columns": null,
      "grid_template_rows": null,
      "height": null,
      "justify_content": null,
      "justify_items": null,
      "left": null,
      "margin": null,
      "max_height": null,
      "max_width": null,
      "min_height": null,
      "min_width": null,
      "object_fit": null,
      "object_position": null,
      "order": null,
      "overflow": null,
      "overflow_x": null,
      "overflow_y": null,
      "padding": null,
      "right": null,
      "top": null,
      "visibility": null,
      "width": null
     }
    },
    "28abba90e11d43bb9493484940ea70f4": {
     "model_module": "@jupyter-widgets/controls",
     "model_name": "DescriptionStyleModel",
     "model_module_version": "1.5.0",
     "state": {
      "_model_module": "@jupyter-widgets/controls",
      "_model_module_version": "1.5.0",
      "_model_name": "DescriptionStyleModel",
      "_view_count": null,
      "_view_module": "@jupyter-widgets/base",
      "_view_module_version": "1.2.0",
      "_view_name": "StyleView",
      "description_width": ""
     }
    },
    "7ff8d74404c345698ce58322e89c92a6": {
     "model_module": "@jupyter-widgets/base",
     "model_name": "LayoutModel",
     "model_module_version": "1.2.0",
     "state": {
      "_model_module": "@jupyter-widgets/base",
      "_model_module_version": "1.2.0",
      "_model_name": "LayoutModel",
      "_view_count": null,
      "_view_module": "@jupyter-widgets/base",
      "_view_module_version": "1.2.0",
      "_view_name": "LayoutView",
      "align_content": null,
      "align_items": null,
      "align_self": null,
      "border": null,
      "bottom": null,
      "display": null,
      "flex": null,
      "flex_flow": null,
      "grid_area": null,
      "grid_auto_columns": null,
      "grid_auto_flow": null,
      "grid_auto_rows": null,
      "grid_column": null,
      "grid_gap": null,
      "grid_row": null,
      "grid_template_areas": null,
      "grid_template_columns": null,
      "grid_template_rows": null,
      "height": null,
      "justify_content": null,
      "justify_items": null,
      "left": null,
      "margin": null,
      "max_height": null,
      "max_width": null,
      "min_height": null,
      "min_width": null,
      "object_fit": null,
      "object_position": null,
      "order": null,
      "overflow": null,
      "overflow_x": null,
      "overflow_y": null,
      "padding": null,
      "right": null,
      "top": null,
      "visibility": null,
      "width": null
     }
    },
    "43e8024b8d5a48e08a4e108389edafd5": {
     "model_module": "@jupyter-widgets/controls",
     "model_name": "ProgressStyleModel",
     "model_module_version": "1.5.0",
     "state": {
      "_model_module": "@jupyter-widgets/controls",
      "_model_module_version": "1.5.0",
      "_model_name": "ProgressStyleModel",
      "_view_count": null,
      "_view_module": "@jupyter-widgets/base",
      "_view_module_version": "1.2.0",
      "_view_name": "StyleView",
      "bar_color": null,
      "description_width": ""
     }
    },
    "2b56571f1e3e4008814eb0cfee326973": {
     "model_module": "@jupyter-widgets/base",
     "model_name": "LayoutModel",
     "model_module_version": "1.2.0",
     "state": {
      "_model_module": "@jupyter-widgets/base",
      "_model_module_version": "1.2.0",
      "_model_name": "LayoutModel",
      "_view_count": null,
      "_view_module": "@jupyter-widgets/base",
      "_view_module_version": "1.2.0",
      "_view_name": "LayoutView",
      "align_content": null,
      "align_items": null,
      "align_self": null,
      "border": null,
      "bottom": null,
      "display": null,
      "flex": null,
      "flex_flow": null,
      "grid_area": null,
      "grid_auto_columns": null,
      "grid_auto_flow": null,
      "grid_auto_rows": null,
      "grid_column": null,
      "grid_gap": null,
      "grid_row": null,
      "grid_template_areas": null,
      "grid_template_columns": null,
      "grid_template_rows": null,
      "height": null,
      "justify_content": null,
      "justify_items": null,
      "left": null,
      "margin": null,
      "max_height": null,
      "max_width": null,
      "min_height": null,
      "min_width": null,
      "object_fit": null,
      "object_position": null,
      "order": null,
      "overflow": null,
      "overflow_x": null,
      "overflow_y": null,
      "padding": null,
      "right": null,
      "top": null,
      "visibility": null,
      "width": null
     }
    },
    "d92e98bd42534e78892404d6ca373382": {
     "model_module": "@jupyter-widgets/controls",
     "model_name": "DescriptionStyleModel",
     "model_module_version": "1.5.0",
     "state": {
      "_model_module": "@jupyter-widgets/controls",
      "_model_module_version": "1.5.0",
      "_model_name": "DescriptionStyleModel",
      "_view_count": null,
      "_view_module": "@jupyter-widgets/base",
      "_view_module_version": "1.2.0",
      "_view_name": "StyleView",
      "description_width": ""
     }
    }
   }
  }
 },
 "cells": [
  {
   "cell_type": "code",
   "source": [
    "w#step 1: download everything\n",
    "!pip install -q transformers\n",
    "!pip install seqeval\n",
    "!pip install -q datasets\n",
    "!pip install -q evaluate\n"
   ],
   "metadata": {
    "id": "wHfUR_e2570K",
    "colab": {
     "base_uri": "https://localhost:8080/"
    },
    "outputId": "6f54971d-1ca4-4e6d-c239-286ba676c5ed",
    "pycharm": {
     "name": "#%%\n"
    }
   },
   "execution_count": null,
   "outputs": [
    {
     "output_type": "stream",
     "name": "stdout",
     "text": [
      "\u001B[2K     \u001B[90m━━━━━━━━━━━━━━━━━━━━━━━━━━━━━━━━━━━━━━━━\u001B[0m \u001B[32m7.0/7.0 MB\u001B[0m \u001B[31m75.9 MB/s\u001B[0m eta \u001B[36m0:00:00\u001B[0m\n",
      "\u001B[2K     \u001B[90m━━━━━━━━━━━━━━━━━━━━━━━━━━━━━━━━━━━━━━━━\u001B[0m \u001B[32m7.8/7.8 MB\u001B[0m \u001B[31m89.6 MB/s\u001B[0m eta \u001B[36m0:00:00\u001B[0m\n",
      "\u001B[2K     \u001B[90m━━━━━━━━━━━━━━━━━━━━━━━━━━━━━━━━━━━━━━━\u001B[0m \u001B[32m200.1/200.1 kB\u001B[0m \u001B[31m7.6 MB/s\u001B[0m eta \u001B[36m0:00:00\u001B[0m\n",
      "\u001B[?25hLooking in indexes: https://pypi.org/simple, https://us-python.pkg.dev/colab-wheels/public/simple/\n",
      "Collecting seqeval\n",
      "  Downloading seqeval-1.2.2.tar.gz (43 kB)\n",
      "\u001B[2K     \u001B[90m━━━━━━━━━━━━━━━━━━━━━━━━━━━━━━━━━━━━━━━━\u001B[0m \u001B[32m43.6/43.6 kB\u001B[0m \u001B[31m6.3 MB/s\u001B[0m eta \u001B[36m0:00:00\u001B[0m\n",
      "\u001B[?25h  Preparing metadata (setup.py) ... \u001B[?25l\u001B[?25hdone\n",
      "Requirement already satisfied: numpy>=1.14.0 in /usr/local/lib/python3.9/dist-packages (from seqeval) (1.22.4)\n",
      "Requirement already satisfied: scikit-learn>=0.21.3 in /usr/local/lib/python3.9/dist-packages (from seqeval) (1.2.2)\n",
      "Requirement already satisfied: threadpoolctl>=2.0.0 in /usr/local/lib/python3.9/dist-packages (from scikit-learn>=0.21.3->seqeval) (3.1.0)\n",
      "Requirement already satisfied: scipy>=1.3.2 in /usr/local/lib/python3.9/dist-packages (from scikit-learn>=0.21.3->seqeval) (1.10.1)\n",
      "Requirement already satisfied: joblib>=1.1.1 in /usr/local/lib/python3.9/dist-packages (from scikit-learn>=0.21.3->seqeval) (1.2.0)\n",
      "Building wheels for collected packages: seqeval\n",
      "  Building wheel for seqeval (setup.py) ... \u001B[?25l\u001B[?25hdone\n",
      "  Created wheel for seqeval: filename=seqeval-1.2.2-py3-none-any.whl size=16180 sha256=c29d9823bfbe323a53212a09f8f759905235d76c648bc74bf8d5a5de55711db7\n",
      "  Stored in directory: /root/.cache/pip/wheels/e2/a5/92/2c80d1928733611c2747a9820e1324a6835524d9411510c142\n",
      "Successfully built seqeval\n",
      "Installing collected packages: seqeval\n",
      "Successfully installed seqeval-1.2.2\n",
      "\u001B[2K     \u001B[90m━━━━━━━━━━━━━━━━━━━━━━━━━━━━━━━━━━━━━━\u001B[0m \u001B[32m468.7/468.7 kB\u001B[0m \u001B[31m35.1 MB/s\u001B[0m eta \u001B[36m0:00:00\u001B[0m\n",
      "\u001B[2K     \u001B[90m━━━━━━━━━━━━━━━━━━━━━━━━━━━━━━━━━━━━━━\u001B[0m \u001B[32m110.5/110.5 kB\u001B[0m \u001B[31m17.7 MB/s\u001B[0m eta \u001B[36m0:00:00\u001B[0m\n",
      "\u001B[2K     \u001B[90m━━━━━━━━━━━━━━━━━━━━━━━━━━━━━━━━━━━━━━\u001B[0m \u001B[32m132.9/132.9 kB\u001B[0m \u001B[31m22.0 MB/s\u001B[0m eta \u001B[36m0:00:00\u001B[0m\n",
      "\u001B[2K     \u001B[90m━━━━━━━━━━━━━━━━━━━━━━━━━━━━━━━━━━━━━━\u001B[0m \u001B[32m212.2/212.2 kB\u001B[0m \u001B[31m31.2 MB/s\u001B[0m eta \u001B[36m0:00:00\u001B[0m\n",
      "\u001B[2K     \u001B[90m━━━━━━━━━━━━━━━━━━━━━━━━━━━━━━━━━━━━━━━━\u001B[0m \u001B[32m1.0/1.0 MB\u001B[0m \u001B[31m69.6 MB/s\u001B[0m eta \u001B[36m0:00:00\u001B[0m\n",
      "\u001B[2K     \u001B[90m━━━━━━━━━━━━━━━━━━━━━━━━━━━━━━━━━━━━━━\u001B[0m \u001B[32m158.8/158.8 kB\u001B[0m \u001B[31m24.2 MB/s\u001B[0m eta \u001B[36m0:00:00\u001B[0m\n",
      "\u001B[2K     \u001B[90m━━━━━━━━━━━━━━━━━━━━━━━━━━━━━━━━━━━━━━\u001B[0m \u001B[32m264.6/264.6 kB\u001B[0m \u001B[31m29.7 MB/s\u001B[0m eta \u001B[36m0:00:00\u001B[0m\n",
      "\u001B[2K     \u001B[90m━━━━━━━━━━━━━━━━━━━━━━━━━━━━━━━━━━━━━━\u001B[0m \u001B[32m114.2/114.2 kB\u001B[0m \u001B[31m18.1 MB/s\u001B[0m eta \u001B[36m0:00:00\u001B[0m\n",
      "\u001B[2K     \u001B[90m━━━━━━━━━━━━━━━━━━━━━━━━━━━━━━━━━━━━━━━━\u001B[0m \u001B[32m81.4/81.4 kB\u001B[0m \u001B[31m9.2 MB/s\u001B[0m eta \u001B[36m0:00:00\u001B[0m\n",
      "\u001B[?25h"
     ]
    }
   ]
  },
  {
   "cell_type": "code",
   "source": [
    "#step 1.1 import everything\n",
    "import seqeval\n",
    "import transformers\n",
    "from transformers import AutoTokenizer, AutoModelForTokenClassification, DataCollatorForTokenClassification, TrainingArguments, Trainer\n",
    "import json\n",
    "import glob\n",
    "import numpy as np\n",
    "from datasets import load_dataset, Dataset\n",
    "import evaluate"
   ],
   "metadata": {
    "id": "yLav8-rX_pTZ",
    "pycharm": {
     "name": "#%%\n"
    }
   },
   "execution_count": 55,
   "outputs": []
  },
  {
   "cell_type": "code",
   "execution_count": null,
   "metadata": {
    "id": "jSC6X6ln5J1M",
    "pycharm": {
     "name": "#%%\n"
    }
   },
   "outputs": [],
   "source": [
    "#step 1.2 is to upload the files\n",
    "#I cloned the entire repo and manually uploaded to Colab\n",
    "#then we open the files up\n",
    "#I don't use the fce eng files, or the falko german files"
   ]
  },
  {
   "cell_type": "code",
   "source": [
    "#step 1.3 use glob to gather all file names\n",
    "#We are using the dev data as \n",
    "train_file_list = glob.glob(\"/content/*train.tsv\")\n",
    "test_file_list = glob.glob(\"/content/*dev.tsv\")\n",
    "print(\"TRAIN FILES:\", train_file_list)\n",
    "print(\"TEST FILES:\", test_file_list)"
   ],
   "metadata": {
    "colab": {
     "base_uri": "https://localhost:8080/"
    },
    "id": "hSdF2LwT5jLx",
    "outputId": "eb761ea4-7c7f-4826-ccdc-efb6437c3e1c",
    "pycharm": {
     "name": "#%%\n"
    }
   },
   "execution_count": null,
   "outputs": [
    {
     "output_type": "stream",
     "name": "stdout",
     "text": [
      "TRAIN FILES: ['/content/it_merlin_train.tsv']\n",
      "TEST FILES: []\n"
     ]
    }
   ]
  },
  {
   "cell_type": "code",
   "source": [
    "#These dictionaries show the correspondence between the numerical label and the real label\n",
    "label2id = {\"c\": 1, \"i\": 0}\n",
    "id2label = {1: \"c\", 0: \"i\"}"
   ],
   "metadata": {
    "id": "eNtx88eP739G",
    "pycharm": {
     "name": "#%%\n"
    }
   },
   "execution_count": 56,
   "outputs": []
  },
  {
   "cell_type": "markdown",
   "source": [
    "Transformer models make contextual embeddings based on sentence input. Because of this, we need to split the data into sentences, where each token in a sentence has a label attached. This is easy to do because the files we are working with have newlines in between sentences."
   ],
   "metadata": {
    "id": "ygfYXcyi8_yk",
    "pycharm": {
     "name": "#%% md\n"
    }
   }
  },
  {
   "cell_type": "code",
   "source": [
    "def get_sentences(fin):\n",
    "  \"\"\"returns a list of sentences given a file\"\"\"\n",
    "\n",
    "  sentences = []\n",
    "  sentence = []\n",
    "  with open(fin, \"r\", encoding='utf8') as inf:\n",
    "    for line in inf:\n",
    "      if line == \"\\n\":\n",
    "        #if we reach a newline, append the sentence to list and start over\n",
    "        sentences.append(sentence)\n",
    "        sentence = []\n",
    "      else:\n",
    "        #if we aren't at a newline, split into token and label and add to sent\n",
    "        line = line.strip(\"\\n\")\n",
    "        token, label = line.split(\"\\t\")\n",
    "        token_label = (token, label)\n",
    "        sentence.append(token_label)\n",
    "\n",
    "  print(len(sentences))\n",
    "        \n",
    "  return sentences\n",
    "\n",
    "get_sentences(\"swedish/sv_swell_train.tsv\")"
   ],
   "metadata": {
    "id": "WozmnUwh8J55",
    "pycharm": {
     "name": "#%%\n"
    }
   },
   "execution_count": 61,
   "outputs": [
    {
     "name": "stdout",
     "output_type": "stream",
     "text": [
      "6729\n"
     ]
    },
    {
     "data": {
      "text/plain": "[[('Nu', 'c'),\n  ('ska', 'c'),\n  ('jag', 'c'),\n  ('brätta', 'i'),\n  ('om', 'c'),\n  ('det', 'c'),\n  ('.', 'c')],\n [('Budskapet', 'c'),\n  ('från', 'c'),\n  ('boken', 'c'),\n  ('är', 'c'),\n  ('ju', 'c'),\n  ('att', 'c'),\n  ('föräldrarna', 'c'),\n  ('i', 'c'),\n  ('vissa', 'c'),\n  ('länder', 'c'),\n  ('måste', 'c'),\n  ('förstå', 'c'),\n  ('vad', 'c'),\n  ('deras', 'c'),\n  ('barn', 'c'),\n  ('behöver', 'c'),\n  ('och', 'c'),\n  ('tvinga', 'c'),\n  ('inte', 'i'),\n  ('de', 'i'),\n  ('att', 'c'),\n  ('gör', 'i'),\n  ('nånting', 'c'),\n  ('som', 'c'),\n  ('de', 'c'),\n  ('vill', 'c'),\n  ('inte', 'i'),\n  ('göra', 'c'),\n  ('.', 'c')],\n [('När', 'c'),\n  ('hon', 'c'),\n  ('ropar', 'c'),\n  ('pappa', 'i'),\n  ('kommer', 'i'),\n  ('allt', 'c'),\n  ('blir', 'i'),\n  ('annorlunda', 'c'),\n  (',', 'i'),\n  ('barn', 'i'),\n  ('springer', 'c'),\n  ('för', 'c'),\n  ('att', 'c'),\n  ('gömma', 'c'),\n  ('sig', 'c'),\n  (',', 'c'),\n  ('kamma', 'i'),\n  ('sig', 'c'),\n  ('och', 'c'),\n  ('tvätta', 'i'),\n  ('sig', 'c'),\n  ('.', 'c')],\n [('Fängelset', 'c')],\n [('Jag', 'c'),\n  ('vill', 'c'),\n  ('skriva', 'c'),\n  ('och', 'c'),\n  ('berätta', 'c'),\n  ('om', 'c'),\n  ('min', 'c'),\n  ('sambo', 'c'),\n  ('därför', 'c'),\n  ('att', 'c'),\n  ('han', 'c'),\n  ('är', 'c'),\n  ('en', 'c'),\n  ('person', 'c'),\n  ('som', 'c'),\n  ('jag', 'c'),\n  ('älskar', 'c'),\n  ('.', 'c')],\n [('Där', 'c'),\n  ('finns', 'c'),\n  ('många', 'c'),\n  ('museum', 'c'),\n  ('som', 'c'),\n  ('är', 'c'),\n  ('grattis', 'i'),\n  ('så', 'c'),\n  ('turisterna', 'c'),\n  ('besöka', 'i'),\n  ('dem', 'c'),\n  ('.', 'c')],\n [('En', 'c'),\n  ('vinter', 'c'),\n  ('hade', 'c'),\n  ('jag', 'c'),\n  ('inte', 'c'),\n  ('alls', 'c'),\n  ('en', 'i'),\n  ('vinterjacka', 'c'),\n  (',', 'c'),\n  ('eftersom', 'c'),\n  ('hittade', 'i'),\n  ('jag', 'c'),\n  ('inte', 'c'),\n  ('en', 'i'),\n  ('som', 'c'),\n  ('jag', 'c'),\n  ('skulle', 'c'),\n  ('ha', 'c'),\n  ('velat', 'c'),\n  ('.', 'i')],\n [('Varför', 'c'),\n  ('tog', 'i'),\n  ('människorna', 'i'),\n  ('sig', 'i'),\n  ('till', 'i'),\n  ('medverkan', 'i'),\n  ('i', 'c'),\n  ('denna', 'c'),\n  ('olagliga', 'c'),\n  ('verksamheter', 'i'),\n  ('?', 'c')],\n [('Jag', 'c'),\n  ('känner', 'c'),\n  ('många', 'c'),\n  ('vänner', 'c'),\n  ('där', 'c'),\n  ('och', 'c'),\n  ('jag', 'c'),\n  ('har', 'c'),\n  ('några', 'c'),\n  ('släkter', 'i'),\n  ('så', 'c'),\n  ('jag', 'c'),\n  ('hoppas', 'c'),\n  ('att', 'c'),\n  ('jag', 'c'),\n  ('kan', 'c'),\n  ('visa', 'c'),\n  ('sig', 'i'),\n  ('i', 'c'),\n  ('sommaren', 'i'),\n  ('.', 'c')],\n [('Det', 'c'),\n  ('är', 'c'),\n  ('helt', 'c'),\n  ('olampligt', 'i'),\n  ('att', 'c'),\n  ('komma', 'c'),\n  ('till', 'c'),\n  ('en', 'i'),\n  ('bröllop', 'c'),\n  (',', 'c'),\n  ('till', 'c'),\n  ('exempel', 'c'),\n  (',', 'c'),\n  ('i', 'c'),\n  ('en', 'c'),\n  ('vit', 'c'),\n  ('klänning', 'c'),\n  ('.', 'c')],\n [('Jag', 'c'),\n  ('ger', 'c'),\n  ('boken', 'c'),\n  ('betyget', 'c'),\n  ('6', 'c'),\n  ('av', 'c'),\n  ('10', 'c'),\n  ('för', 'c'),\n  ('den', 'c'),\n  ('litte', 'i'),\n  ('svårt', 'i'),\n  ('.', 'c')],\n [('Garnert', 'c'), ('.', 'c')],\n [('Jag', 'c'),\n  ('är', 'c'),\n  ('gift', 'c'),\n  ('med', 'c'),\n  ('Kim', 'c'),\n  ('.', 'c')],\n [('Det', 'c'),\n  ('är', 'c'),\n  ('just', 'c'),\n  ('därför', 'c'),\n  ('jag', 'c'),\n  ('inte', 'c'),\n  ('tycker', 'c'),\n  ('att', 'c'),\n  ('minoritetsspråk', 'c'),\n  ('behövs', 'c'),\n  ('.', 'c')],\n [('Den', 'c'),\n  ('misstänkta', 'c'),\n  ('erkänner', 'c'),\n  ('eller', 'c'),\n  ('förnekar', 'c'),\n  ('brott', 'c'),\n  ('.', 'c')],\n [('Det', 'c'),\n  ('krävs', 'c'),\n  ('den', 'c'),\n  ('allvarliga', 'c'),\n  ('händelsen', 'c'),\n  ('att', 'c'),\n  ('sonen', 'c'),\n  ('försöker', 'c'),\n  ('ta', 'c'),\n  ('sitt', 'c'),\n  ('liv', 'c'),\n  ('för', 'c'),\n  ('att', 'c'),\n  ('pappan', 'c'),\n  ('ska', 'c'),\n  ('acceptera', 'c'),\n  ('sonens', 'c'),\n  ('vilja', 'c'),\n  ('och', 'c'),\n  ('förstå', 'c'),\n  ('att', 'c'),\n  ('det', 'c'),\n  ('var', 'c'),\n  ('riktig', 'c'),\n  ('kärlek', 'c'),\n  ('att', 'c'),\n  ('göra', 'c'),\n  ('det', 'c'),\n  (',', 'c'),\n  ('trotts', 'i'),\n  ('pappans', 'c'),\n  ('egna', 'c'),\n  ('traditionella', 'c'),\n  ('arv', 'c'),\n  ('.', 'c')],\n [('Jag', 'c'),\n  ('som', 'c'),\n  ('läsare', 'c'),\n  ('uppfattade', 'c'),\n  ('att', 'c'),\n  ('kärleken', 'c'),\n  ('visar', 'c'),\n  ('sig', 'c'),\n  ('svagt', 'c'),\n  ('i', 'c'),\n  ('familjen', 'c'),\n  (',', 'c'),\n  ('redan', 'c'),\n  ('i', 'c'),\n  ('anslaget', 'c'),\n  ('då', 'c'),\n  ('han', 'c'),\n  ('berättar', 'i'),\n  ('om', 'c'),\n  ('att', 'c'),\n  ('morsan', 'c'),\n  ('viftade', 'c'),\n  ('tofflan', 'i'),\n  ('och', 'c'),\n  ('alla', 'c'),\n  ('blev', 'c'),\n  ('rädda', 'c'),\n  (',', 'c'),\n  ('hela', 'i'),\n  ('vägen', 'c'),\n  ('till', 'c'),\n  ('klimax', 'c'),\n  ('tills', 'i'),\n  ('han', 'c'),\n  ('blir', 'c'),\n  ('tvingad', 'c'),\n  ('av', 'c'),\n  ('sin', 'c'),\n  ('farsa', 'c'),\n  ('att', 'c'),\n  ('gifta', 'c'),\n  ('sig', 'c'),\n  ('med', 'c'),\n  ('sin', 'c'),\n  ('kusin', 'c'),\n  ('och', 'c'),\n  ('till', 'c'),\n  ('slut', 'c'),\n  ('då', 'c'),\n  ('han', 'c'),\n  ('försöker', 'c'),\n  ('ta', 'c'),\n  ('självmord', 'c'),\n  ('.', 'c')],\n [('När', 'c'),\n  ('är', 'c'),\n  ('man', 'c'),\n  ('tillräckligt', 'c'),\n  ('mogen', 'c'),\n  ('och', 'c'),\n  ('medveten', 'c'),\n  ('för', 'c'),\n  ('at', 'i'),\n  ('kuna', 'i'),\n  ('påverka', 'c'),\n  ('valens', 'i'),\n  ('resultat', 'i'),\n  ('?', 'c')],\n [('Jag', 'c'),\n  ('var', 'c'),\n  ('mycket', 'c'),\n  ('ung', 'c'),\n  ('och', 'c'),\n  ('ofta', 'i'),\n  ('kunde', 'c'),\n  ('inte', 'c'),\n  ('förstå', 'c'),\n  ('vad', 'c'),\n  ('händer', 'i'),\n  ('med', 'c'),\n  ('mina', 'c'),\n  ('känslor', 'c'),\n  ('.', 'c')],\n [('Vi', 'c'),\n  ('kan', 'c'),\n  ('köpa', 'c'),\n  ('en', 'c'),\n  ('fint', 'i'),\n  ('mätta', 'i'),\n  ('som', 'c'),\n  ('de', 'c'),\n  ('behöves', 'i'),\n  ('.', 'c')],\n [('Vi', 'c'),\n  ('älskade', 'c'),\n  ('varandra', 'c'),\n  ('som', 'c'),\n  ('bästa', 'c'),\n  ('vänner', 'c'),\n  (',', 'c'),\n  ('men', 'c'),\n  ('farmor', 'c'),\n  ('och', 'c'),\n  ('Anderss', 'c'),\n  ('mormor', 'c'),\n  ('trodde', 'i'),\n  ('att', 'c'),\n  ('det', 'c'),\n  ('var', 'c'),\n  ('roligt', 'c'),\n  ('att', 'c'),\n  ('tvinga', 'c'),\n  ('oss', 'c'),\n  ('att', 'c'),\n  ('krama', 'c'),\n  ('och', 'c'),\n  ('pussa', 'c'),\n  ('varandra', 'c'),\n  ('.', 'c')],\n [('Stockholm', 'c'),\n  ('var', 'c'),\n  ('tätt', 'i'),\n  ('av', 'c'),\n  ('telefontrådar', 'c'),\n  ('och', 'c'),\n  ('det', 'c'),\n  ('var', 'i'),\n  ('uselt', 'i'),\n  ('utseende', 'c'),\n  ('men', 'c'),\n  ('snart', 'c'),\n  ('de', 'c'),\n  ('fasta', 'c'),\n  ('uppkopplingarna', 'c'),\n  ('försvann', 'i'),\n  ('och', 'c'),\n  ('ersattas', 'i'),\n  ('av', 'c'),\n  ('mängder', 'c'),\n  ('små', 'i'),\n  ('privatägde', 'i'),\n  ('telefonnätet', 'i'),\n  ('som', 'c'),\n  ('köptes', 'c'),\n  ('av', 'c'),\n  ('Kungliga', 'c'),\n  ('Televerket', 'c'),\n  ('.', 'c')],\n [('Polisen', 'c'),\n  ('hittade', 'c'),\n  ('ingen', 'i'),\n  ('bevis', 'c'),\n  ('men', 'c'),\n  ('de', 'c'),\n  ('tänkte', 'c'),\n  ('att', 'i'),\n  ('skugga', 'c'),\n  ('efter', 'i'),\n  ('honom', 'c'),\n  (',', 'c'),\n  ('men', 'c'),\n  ('hittade', 'c'),\n  ('ingenting', 'c'),\n  ('.', 'c')],\n [('De', 'c'),\n  ('både', 'i'),\n  ('fick', 'i'),\n  ('ta', 'i'),\n  ('reda', 'i'),\n  ('på', 'i'),\n  ('att', 'i'),\n  ('hur', 'c'),\n  ('viktig', 'i'),\n  ('de', 'c'),\n  ('är', 'i'),\n  ('för', 'c'),\n  ('varandra', 'c'),\n  ('och', 'c'),\n  ('mamman', 'c'),\n  ('förstod', 'c'),\n  ('sin', 'c'),\n  ('flickans', 'i'),\n  ('rättighet', 'i'),\n  ('och', 'c'),\n  ('frihet', 'c'),\n  ('.', 'c')],\n [('När', 'i'),\n  ('man', 'c'),\n  ('ska', 'c'),\n  ('studrar', 'i'),\n  ('eller', 'c'),\n  ('läsa', 'c'),\n  ('.', 'c')],\n [('Det', 'c'),\n  ('känns', 'c'),\n  ('konstigt', 'c'),\n  ('om', 'c'),\n  ('man', 'c'),\n  ('hör', 'c'),\n  ('sitt', 'c'),\n  ('barn', 'c'),\n  ('pratar', 'i'),\n  ('med', 'c'),\n  ('någon', 'c'),\n  ('när', 'c'),\n  ('man', 'c'),\n  ('är', 'c'),\n  ('säkert', 'i'),\n  ('att', 'i'),\n  ('det', 'c'),\n  ('finns', 'i'),\n  ('ingen', 'i'),\n  ('annan', 'c'),\n  ('person', 'c'),\n  ('med', 'c'),\n  ('i', 'c'),\n  ('rummet', 'c'),\n  ('.', 'c')],\n [('Först', 'c'),\n  ('och', 'c'),\n  ('främst', 'c'),\n  ('kan', 'c'),\n  ('kursen', 'c'),\n  ('förse', 'c'),\n  ('elever', 'c'),\n  ('med', 'c'),\n  ('möjligheterna', 'i'),\n  ('att', 'c'),\n  ('jobba', 'c'),\n  ('som', 'c'),\n  ('praktikant', 'i'),\n  ('hos', 'i'),\n  ('företag', 'c'),\n  ('.', 'c')],\n [('Hon', 'c'),\n  ('bor', 'c'),\n  ('i', 'c'),\n  ('en', 'c'),\n  ('lägenhet', 'c'),\n  ('och', 'c'),\n  ('har', 'c'),\n  ('en', 'c'),\n  ('hund', 'c'),\n  ('som', 'c'),\n  ('heter', 'c'),\n  ('Jenus', 'c'),\n  ('.', 'c')],\n [('I', 'i'),\n  ('nätten', 'i'),\n  ('lägger', 'c'),\n  ('han', 'c'),\n  ('sig', 'c'),\n  ('på', 'c'),\n  ('torttoaren', 'i'),\n  ('och', 'i'),\n  ('hunden', 'c'),\n  ('på', 'i'),\n  ('sin', 'i'),\n  ('knä', 'c'),\n  (',', 'i'),\n  ('Han', 'c'),\n  ('känner', 'c'),\n  ('sig', 'c'),\n  ('varm', 'c'),\n  ('.', 'c')],\n [('Händelser', 'i'),\n  ('efter', 'i'),\n  ('brottet', 'i'),\n  ('i', 'c'),\n  ('rättsstaten', 'c'),\n  ('utvecklas', 'c'),\n  ('enligt', 'c'),\n  ('följande', 'c'),\n  ('.', 'i')],\n [('Social', 'c'),\n  ('status', 'c'),\n  (':', 'c'),\n  ('Det', 'c'),\n  ('är', 'c'),\n  ('som', 'c'),\n  ('en', 'c'),\n  ('tabel', 'i'),\n  ('som', 'i'),\n  ('(', 'i'),\n  ('statitisk', 'i'),\n  (')', 'i'),\n  ('som', 'c'),\n  ('har', 'c'),\n  ('tydliga', 'i'),\n  ('prägler', 'i'),\n  ('som', 'i'),\n  ('man', 'c'),\n  ('ska', 'c'),\n  ('visa', 'c'),\n  ('hur', 'c'),\n  ('ett', 'c'),\n  ('land', 'c'),\n  ('ska', 'c'),\n  ('bedömas', 'c'),\n  ('och', 'c'),\n  ('det', 'i'),\n  ('tar', 'c'),\n  ('hänsyn', 'c'),\n  ('på', 'i'),\n  ('olika', 'c'),\n  ('faktorer', 'c'),\n  ('.', 'c')],\n [('Och', 'c'),\n  ('jag', 'c'),\n  ('håller', 'c'),\n  ('med', 'c'),\n  ('om', 'c'),\n  ('det', 'c'),\n  ('.', 'c')],\n [('Jag', 'c'),\n  ('behöber', 'i'),\n  ('pengar', 'i'),\n  ('för', 'c'),\n  ('nya', 'i'),\n  ('klassen', 'i'),\n  ('.', 'c')],\n [('Pengarna', 'i'),\n  ('har', 'c'),\n  ('ingen', 'c'),\n  ('betydelse', 'c'),\n  ('om', 'c'),\n  ('man', 'c'),\n  ('är', 'c'),\n  ('missnöjd', 'c'),\n  ('.', 'c')],\n [('Han', 'c'),\n  ('hade', 'c'),\n  ('mörka', 'c'),\n  ('ögonen', 'i'),\n  (',', 'c'),\n  ('mörka', 'i'),\n  ('hår', 'c'),\n  ('.', 'c')],\n [('Flickorna', 'i'),\n  ('får', 'c'),\n  ('inte', 'c'),\n  ('kära', 'i'),\n  ('till', 'i'),\n  ('pojkarna', 'i'),\n  ('.', 'c')],\n [('Heter', 'i'),\n  ('Jag', 'c'),\n  ('Karin', 'c'),\n  ('och', 'c'),\n  ('Jag', 'i'),\n  ('har', 'c'),\n  ('änmält', 'i'),\n  ('mig', 'c'),\n  ('till', 'c'),\n  ('danskursen', 'c'),\n  ('och', 'c'),\n  ('bitalad', 'i'),\n  ('för', 'c'),\n  ('det', 'i'),\n  ('men', 'i'),\n  ('tyvär', 'i'),\n  ('fick', 'i'),\n  ('Jag', 'i'),\n  ('inte', 'c'),\n  ('tid', 'c'),\n  ('för', 'i'),\n  ('att', 'c'),\n  ('koma', 'i'),\n  ('.', 'c')],\n [('Han', 'c'),\n  ('går', 'c'),\n  ('och', 'c'),\n  ('springer', 'c'),\n  (',', 'c'),\n  ('han', 'c'),\n  ('tittar', 'c'),\n  ('på', 'i'),\n  ('framfor', 'i'),\n  ('.', 'i')],\n [('Jag', 'c'),\n  ('hoppas', 'c'),\n  ('att', 'c'),\n  ('jag', 'c'),\n  ('ska', 'i'),\n  ('få', 'i'),\n  ('svara', 'i'),\n  ('från', 'c'),\n  ('dig', 'c'),\n  ('snart', 'c'),\n  ('.', 'c')],\n [('Kan', 'i'),\n  ('litteratur', 'c'),\n  ('lära', 'c'),\n  ('oss', 'c'),\n  ('något', 'c'),\n  ('om', 'c'),\n  ('livet', 'c'),\n  ('?', 'c')],\n [('När', 'c'),\n  ('vi', 'c'),\n  ('bli', 'i'),\n  ('arg', 'i'),\n  ('är', 'c'),\n  ('det', 'c'),\n  ('tråkig', 'i'),\n  (',', 'i')],\n [('I', 'c'),\n  ('själva', 'c'),\n  ('verket', 'c'),\n  ('är', 'c'),\n  ('det', 'c'),\n  ('inte', 'c'),\n  ('så', 'c'),\n  ('många', 'c'),\n  ('personer', 'c'),\n  ('som', 'c'),\n  ('vi', 'c'),\n  ('har', 'c'),\n  ('kontakt', 'c'),\n  ('med', 'c'),\n  ('.', 'c')],\n [('Därefter', 'c'),\n  ('började', 'c'),\n  ('livet', 'c'),\n  ('att', 'c'),\n  ('förändras', 'c'),\n  ('så', 'i'),\n  ('småningom', 'i'),\n  ('och', 'c'),\n  ('startade', 'i'),\n  ('människor', 'i'),\n  ('att', 'c'),\n  ('kommunicera', 'c'),\n  ('på', 'c'),\n  ('moderna', 'c'),\n  ('sätt', 'c'),\n  (',', 'c'),\n  ('tills', 'c'),\n  ('det', 'c'),\n  ('har', 'i'),\n  ('blivit', 'i'),\n  ('så', 'i'),\n  ('nu', 'i'),\n  ('för', 'c'),\n  ('tiden', 'c'),\n  ('.', 'c')],\n [('Att', 'c'),\n  ('behärska', 'c'),\n  ('svenska', 'c'),\n  ('gör', 'c'),\n  ('det', 'c'),\n  ('lättare', 'c'),\n  ('att', 'c'),\n  ('lära', 'c'),\n  ('sig', 'c'),\n  ('indoeuropiska', 'i'),\n  ('språk', 'c'),\n  ('.', 'c')],\n [('tills', 'c'),\n  ('att', 'i'),\n  ('den', 'c'),\n  ('blev', 'c'),\n  ('ett', 'c'),\n  ('rent', 'c'),\n  ('tvång', 'c')],\n [('Om', 'c'),\n  ('ni', 'c'),\n  ('vill', 'c'),\n  ('gå', 'i'),\n  ('där', 'i'),\n  ('ni', 'c'),\n  ('måste', 'i'),\n  ('resa', 'c'),\n  ('till', 'c'),\n  ('Bagdad', 'i'),\n  ('sedan', 'i'),\n  ('tar', 'i'),\n  ('but', 'i'),\n  ('mot', 'i'),\n  ('Oslo', 'i'),\n  ('.', 'c')],\n [('Det', 'i'),\n  ('finns', 'c'),\n  ('där', 'i'),\n  ('jättemycket', 'i'),\n  ('bra', 'c'),\n  ('lärare', 'c'),\n  ('som', 'c'),\n  ('hjälper', 'c'),\n  ('oss', 'c'),\n  ('för', 'c'),\n  ('att', 'c'),\n  ('kunna', 'i'),\n  ('prata', 'c'),\n  ('och', 'c'),\n  ('skriva', 'c'),\n  ('på', 'c'),\n  ('svenska', 'c'),\n  ('.', 'c')],\n [('Det', 'c'),\n  ('finns', 'c'),\n  ('dock', 'c'),\n  ('en', 'c'),\n  ('koppling', 'c'),\n  ('mellan', 'c'),\n  ('båda', 'i'),\n  ('litterära', 'c'),\n  ('verken', 'c'),\n  ('att', 'i'),\n  ('ett', 'c'),\n  ('liv', 'c'),\n  ('utan', 'c'),\n  ('kärlek', 'c'),\n  ('är', 'c'),\n  ('meningslöst', 'c'),\n  ('.', 'c')],\n [('Sin', 'i'),\n  ('pappa', 'c'),\n  ('var', 'c'),\n  ('lite', 'c'),\n  ('diktatur', 'i'),\n  ('om', 'i'),\n  ('jag', 'c'),\n  ('kan', 'c'),\n  ('sägar', 'i'),\n  ('.', 'i')],\n [('Så', 'c'),\n  ('nu', 'c'),\n  ('tycker', 'c'),\n  ('jag', 'c'),\n  ('att', 'c'),\n  ('det', 'c'),\n  ('viktigaste', 'c'),\n  ('är', 'c'),\n  ('att', 'c'),\n  ('köpa', 'c'),\n  ('vad', 'i'),\n  ('det', 'c'),\n  ('behövs', 'i'),\n  ('och', 'c'),\n  ('att', 'c'),\n  ('uppskatta', 'c'),\n  ('begagna', 'i'),\n  ('grejer', 'c'),\n  ('.', 'c')],\n [('Det', 'c'),\n  ('vektigt', 'i'),\n  ('i', 'c'),\n  ('liva', 'i'),\n  ('livet', 'c'),\n  ('vad', 'i'),\n  ('du', 'c'),\n  ('vill', 'c'),\n  ('och', 'i'),\n  ('göra', 'c'),\n  ('.', 'c')],\n [('Jag', 'c'),\n  ('tycker', 'c'),\n  ('om', 'c'),\n  ('demokratik', 'i'),\n  ('regler', 'c'),\n  ('.', 'c')],\n [('Jag', 'c'),\n  ('kommer', 'c'),\n  ('i', 'i'),\n  ('hög', 'i'),\n  ('när', 'c'),\n  ('jag', 'c'),\n  ('var', 'c'),\n  ('deprimerad', 'c'),\n  (',', 'c'),\n  ('reste', 'i'),\n  ('jag', 'c'),\n  ('till', 'c'),\n  ('Paris', 'c'),\n  ('med', 'c'),\n  ('mina', 'c'),\n  ('vänner', 'c'),\n  ('och', 'c'),\n  ('tittade', 'c'),\n  ('nya', 'i'),\n  ('platser', 'c'),\n  ('.', 'c')],\n [('Tillsist', 'i'),\n  ('som', 'i'),\n  ('de', 'i'),\n  ('har', 'c'),\n  ('mycket', 'c'),\n  ('kärlek', 'c'),\n  ('till', 'c'),\n  ('varandra', 'c'),\n  ('försöker', 'i'),\n  ('trädda', 'i'),\n  ('varandras', 'c'),\n  ('liv', 'c'),\n  ('och', 'c'),\n  ('istället', 'c'),\n  ('offra', 'c'),\n  ('si', 'i'),\n  ('själv', 'i'),\n  ('.', 'c')],\n [('De', 'c'),\n  ('kan', 'c'),\n  ('hitta', 'c'),\n  ('vänner', 'c'),\n  (',', 'c'),\n  ('kanske', 'c'),\n  ('börja', 'c'),\n  ('lära', 'c'),\n  ('känna', 'c'),\n  ('nya', 'c'),\n  ('folk', 'i'),\n  (',', 'c'),\n  ('vem', 'c'),\n  ('vet', 'c'),\n  ('att', 'i'),\n  ('vi', 'i'),\n  ('kanske', 'c'),\n  ('hittar', 'c'),\n  ('vår', 'i'),\n  ('livskärlek', 'i'),\n  ('i', 'i'),\n  ('en', 'c'),\n  ('liten', 'c'),\n  ('by', 'c'),\n  ('i', 'c'),\n  ('Australien', 'c'),\n  (',', 'c'),\n  ('där', 'c'),\n  ('deras', 'c'),\n  ('språk', 'c'),\n  ('håller', 'c'),\n  ('på', 'c'),\n  ('att', 'c'),\n  ('dö', 'c'),\n  ('.', 'c')],\n [('Hon', 'c'),\n  ('följa', 'i'),\n  ('allt', 'c'),\n  ('som', 'c'),\n  ('pappa', 'i'),\n  ('säg', 'i'),\n  ('till', 'c'),\n  ('henne', 'c'),\n  ('och', 'c'),\n  ('vill', 'c'),\n  ('inte', 'c'),\n  ('besviken', 'i'),\n  ('människor', 'i'),\n  ('.', 'c')],\n [('Det', 'c'),\n  ('här', 'c'),\n  ('litterära', 'c'),\n  ('verket', 'c'),\n  ('handlar', 'c'),\n  ('om', 'c'),\n  ('två', 'c'),\n  ('bröder', 'c'),\n  (',', 'c'),\n  ('och', 'c'),\n  ('hur', 'i'),\n  ('den', 'c'),\n  ('yngre', 'c'),\n  ('brodern', 'c'),\n  ('är', 'c'),\n  ('döende', 'c'),\n  ('och', 'c'),\n  ('den', 'c'),\n  ('äldre', 'c'),\n  ('brodern', 'c'),\n  ('berättar', 'c'),\n  ('för', 'c'),\n  ('honom', 'c'),\n  ('om', 'c'),\n  ('en', 'c'),\n  ('annan', 'c'),\n  ('fridfull', 'c'),\n  ('värld', 'c'),\n  ('som', 'c'),\n  ('de', 'c'),\n  ('ska', 'c'),\n  ('återförenas', 'c'),\n  ('i', 'c'),\n  ('efter', 'c'),\n  ('att', 'c'),\n  ('den', 'c'),\n  ('äldre', 'c'),\n  ('brodern', 'c'),\n  ('dött', 'c'),\n  ('.', 'c')],\n [('Språken', 'c'),\n  ('tynar', 'c'),\n  ('bort', 'c'),\n  ('för', 'i'),\n  ('en', 'c'),\n  ('anledning', 'c'),\n  (',', 'c'),\n  ('få', 'c'),\n  ('talar', 'c'),\n  ('språket', 'c'),\n  (',', 'c'),\n  ('många', 'c'),\n  ('som', 'c'),\n  ('talat', 'c'),\n  ('språket', 'c'),\n  ('kanske', 'c'),\n  ('dött', 'i'),\n  ('och', 'c'),\n  ('inte', 'c'),\n  ('lärt', 'c'),\n  ('ut', 'c'),\n  ('till', 'i'),\n  ('sina', 'c'),\n  ('barnbarn', 'c'),\n  (',', 'c'),\n  ('så', 'c'),\n  ('varför', 'c'),\n  ('ska', 'c'),\n  ('man', 'c'),\n  ('hjälpa', 'c'),\n  ('och', 'c'),\n  ('satsa', 'c'),\n  ('pengar', 'c'),\n  ('på', 'c'),\n  ('språk', 'c'),\n  ('som', 'c'),\n  ('försvinner', 'c'),\n  ('när', 'c'),\n  ('man', 'c'),\n  ('kan', 'c'),\n  ('göra', 'c'),\n  ('bättre', 'c'),\n  ('saker', 'c'),\n  ('av', 'i'),\n  ('pengarna', 'c'),\n  ('.', 'i')],\n [('För', 'c'),\n  ('det', 'c'),\n  ('andera', 'i'),\n  ('tror', 'i'),\n  ('det', 'c'),\n  ('finn', 'i'),\n  ('inte', 'c'),\n  ('så', 'c'),\n  ('myckt', 'i'),\n  ('lekaplats', 'i'),\n  ('här', 'c'),\n  ('i', 'c'),\n  ('Segerstad', 'i'),\n  ('vi', 'i'),\n  ('behöver', 'c'),\n  ('att', 'c'),\n  ('ni', 'c'),\n  ('öpnar', 'i'),\n  ('ny', 'i'),\n  ('plater', 'i'),\n  ('inte', 'i'),\n  ('stänga', 'i'),\n  ('det', 'i'),\n  ('är', 'c'),\n  ('dålig', 'i'),\n  ('idé', 'c'),\n  ('.', 'c')],\n [('Idag', 'c'),\n  ('finns', 'c'),\n  ('det', 'i'),\n  ('inte', 'c'),\n  ('de', 'c'),\n  ('specifika', 'c'),\n  ('gränser', 'c'),\n  ('som', 'c'),\n  ('fanns', 'c'),\n  ('tidigare', 'c'),\n  ('på', 'c'),\n  ('grund', 'c'),\n  ('av', 'c'),\n  ('nära', 'i'),\n  ('förhållandet', 'i'),\n  ('som', 'c'),\n  ('finns', 'c'),\n  ('mellan', 'c'),\n  ('länderna', 'i'),\n  ('och', 'c'),\n  ('kulturer', 'c'),\n  ('men', 'i'),\n  ('man', 'c'),\n  ('kan', 'c'),\n  ('fortfarande', 'c'),\n  ('ta', 'i'),\n  ('reda', 'c'),\n  ('på', 'c'),\n  ('något', 'i'),\n  ('information', 'i'),\n  ('om', 'c'),\n  ('kultur', 'c'),\n  (',', 'c'),\n  ('reliogon', 'i'),\n  (',', 'c'),\n  ('tanke', 'i'),\n  ('eller', 'c'),\n  ('profession', 'c'),\n  ('när', 'c'),\n  ('man', 'c'),\n  ('ser', 'c'),\n  ('ens', 'i'),\n  ('kläder', 'c'),\n  ('.', 'c')],\n [('Så', 'c'),\n  ('privat', 'i'),\n  ('samtal', 'i'),\n  ('blev', 'c'),\n  ('offentligt', 'i'),\n  ('i', 'c'),\n  ('butikslokalerna', 'c'),\n  ('och', 'c'),\n  ('man', 'c'),\n  ('måste', 'c'),\n  ('vakta', 'c'),\n  ('sin', 'c'),\n  ('tunga', 'c'),\n  ('i', 'c'),\n  ('samtal', 'i'),\n  ('.', 'c')],\n [('Sist', 'c'),\n  ('men', 'c'),\n  ('inte', 'c'),\n  ('minst', 'c'),\n  ('är', 'c'),\n  ('folk', 'i'),\n  ('gillar', 'c'),\n  ('mycket', 'c'),\n  ('drycker', 'i'),\n  ('en', 'c'),\n  ('stark', 'c'),\n  ('café', 'i'),\n  ('efter', 'c'),\n  ('en', 'c'),\n  ('lång', 'c'),\n  ('dag', 'c'),\n  ('på', 'c'),\n  ('jobbet', 'c'),\n  ('om', 'i'),\n  ('här', 'i'),\n  ('många', 'c'),\n  ('lärare', 'c'),\n  ('stanna', 'i'),\n  ('på', 'c'),\n  ('SFI', 'i'),\n  ('skola', 'i'),\n  ('för', 'c'),\n  ('manga', 'i'),\n  ('timmar', 'c'),\n  ('och', 'i'),\n  ('är', 'c'),\n  ('finnt', 'i'),\n  ('dryker', 'i'),\n  ('ett', 'i'),\n  ('riktigt', 'c'),\n  ('café', 'c'),\n  ('och', 'c'),\n  ('kan', 'i'),\n  ('koppla', 'c'),\n  ('av', 'c'),\n  ('.', 'c')],\n [('Det', 'c'),\n  ('är', 'c'),\n  ('stor', 'c'),\n  ('skillnad', 'c'),\n  ('mellan', 'c'),\n  ('uppfostrar', 'i'),\n  ('och', 'c'),\n  ('omsorg', 'c'),\n  (',', 'i'),\n  ('uppfostrar', 'i'),\n  ('ingår', 'c'),\n  ('uppmärksamhet', 'c'),\n  ('på', 'c'),\n  ('känslor', 'c'),\n  ('och', 'c'),\n  ('sinne', 'c'),\n  ('.', 'c')],\n [('Jag', 'c'),\n  ('måste', 'i'),\n  ('promenera', 'c'),\n  ('för', 'i'),\n  ('bara', 'i'),\n  ('tre', 'c'),\n  ('minuter', 'c'),\n  ('till', 'i'),\n  ('nära', 'i'),\n  ('tunnelbana', 'i'),\n  ('.', 'c')],\n [('Hej', 'c'),\n  (',', 'c'),\n  ('Jag', 'i'),\n  ('bor', 'c'),\n  ('i', 'c'),\n  ('Lövsta', 'i'),\n  ('Björkås', 'i'),\n  ('.', 'c')],\n [('Jamaika', 'c'),\n  ('hade', 'c'),\n  ('släppt', 'c'),\n  ('en', 'c'),\n  ('littet', 'i'),\n  ('film', 'c'),\n  (',', 'i'),\n  ('hade', 'i'),\n  ('interview', 'i'),\n  ('med', 'i'),\n  ('TV', 'i'),\n  ('.', 'c')],\n [('B25BT3', 'c')],\n [('Hon', 'c'),\n  ('heter', 'i'),\n  ('Emma', 'c'),\n  (',', 'c'),\n  ('hon', 'c'),\n  ('hade', 'c'),\n  ('svart', 'c'),\n  ('hår', 'c'),\n  ('och', 'c'),\n  ('en', 'c'),\n  ('fint', 'i'),\n  ('näsa', 'c'),\n  ('.', 'c')],\n [('Rädd', 'c'),\n  ('och', 'c'),\n  ('hungrig', 'c'),\n  ('av', 'c'),\n  ('August', 'c'),\n  ('Strindberg', 'c'),\n  ('handlar', 'c'),\n  ('om', 'c'),\n  ('en', 'c'),\n  ('familj', 'c'),\n  ('som', 'c'),\n  ('består', 'c'),\n  ('av', 'c'),\n  ('fadern', 'c'),\n  (',', 'c'),\n  ('modern', 'c'),\n  ('och', 'c'),\n  ('sju', 'c'),\n  ('barn', 'c'),\n  ('samt', 'c'),\n  ('två', 'c'),\n  ('pigor', 'c'),\n  ('.', 'c')],\n [('När', 'c'),\n  ('han', 'c'),\n  ('fick', 'i'),\n  ('barn', 'c'),\n  ('han', 'c'),\n  ('bli', 'i'),\n  ('fruktar', 'i'),\n  ('att', 'c'),\n  ('barn', 'i'),\n  ('döda', 'i'),\n  ('.', 'i')],\n [('Och', 'c'),\n  ('det', 'c'),\n  ('är', 'c'),\n  ('därför', 'c'),\n  ('jag', 'c'),\n  ('tycker', 'c'),\n  ('att', 'c'),\n  ('minoritetsspråken', 'c'),\n  ('inte', 'c'),\n  ('behövs', 'c'),\n  (',', 'c'),\n  ('enligt', 'c'),\n  ('mig', 'c'),\n  ('så', 'c'),\n  ('är', 'c'),\n  ('det', 'c'),\n  ('inte', 'c'),\n  ('någon', 'c'),\n  ('fördel', 'c'),\n  ('att', 'c'),\n  ('kunna', 'c'),\n  ('prata', 'c'),\n  ('ett', 'c'),\n  ('litet', 'c'),\n  ('språk', 'c'),\n  ('.', 'c')],\n [('Jag', 'c'),\n  ('trivs', 'c'),\n  ('min', 'i'),\n  ('hus', 'c'),\n  ('de', 'i'),\n  ('har', 'c'),\n  ('många', 'c'),\n  ('blommor', 'c'),\n  ('och', 'c'),\n  ('min', 'c'),\n  ('granne', 'c'),\n  ('är', 'c'),\n  ('snälla', 'i'),\n  ('och', 'c'),\n  ('roligt', 'i'),\n  ('.', 'c')],\n [('Anna', 'c'),\n  ('blir', 'c'),\n  ('träffad', 'c'),\n  ('i', 'c'),\n  ('hjärtat', 'c'),\n  ('av', 'c'),\n  ('en', 'c'),\n  ('förtrollning', 'c'),\n  ('som', 'c'),\n  ('endast', 'c'),\n  ('kan', 'c'),\n  ('hävas', 'c'),\n  ('genom', 'c'),\n  ('äkta', 'c'),\n  ('syskonkärlek', 'c'),\n  ('.', 'c')],\n [('Det', 'c'),\n  ('är', 'c'),\n  ('viktig', 'i'),\n  ('att', 'c'),\n  ('kunna', 'c'),\n  ('prata', 'c'),\n  ('om', 'c'),\n  ('allt', 'c'),\n  ('med', 'c'),\n  ('varandra', 'c'),\n  ('och', 'c'),\n  ('försöka', 'c'),\n  ('komma', 'c'),\n  ('överens', 'c'),\n  ('trots', 'c'),\n  ('olika', 'c'),\n  ('tänk', 'c'),\n  (',', 'c'),\n  ('annars', 'c'),\n  ('det', 'c'),\n  ('kan', 'i'),\n  ('leda', 'c'),\n  ('till', 'c'),\n  ('tragiska', 'c'),\n  ('händelser', 'c'),\n  ('där', 'i'),\n  ('barnen', 'c'),\n  ('känner', 'c'),\n  ('sig', 'c'),\n  ('låsta', 'c'),\n  ('i', 'c'),\n  ('den', 'c'),\n  ('situationen', 'i'),\n  ('som', 'c'),\n  ('föräldrar', 'i'),\n  ('skapat', 'c'),\n  ('och', 'c'),\n  ('att', 'i'),\n  ('de', 'c'),\n  ('inte', 'c'),\n  ('kan', 'c'),\n  ('hitta', 'c'),\n  ('lösning', 'i'),\n  ('och', 'c'),\n  ('ta', 'c'),\n  ('sig', 'c'),\n  ('ur', 'c'),\n  ('.', 'i')],\n [('Det', 'c'),\n  ('menar', 'i'),\n  ('olika', 'i'),\n  ('mat', 'i'),\n  ('fanns', 'i'),\n  ('där', 'c'),\n  ('.', 'c')],\n [('Självklart', 'c'),\n  ('vill', 'c'),\n  ('jag', 'c'),\n  ('också', 'c'),\n  ('se', 'c'),\n  ('bra', 'c'),\n  ('och', 'c'),\n  ('professionell', 'c'),\n  ('ut', 'c'),\n  (',', 'c'),\n  ('men', 'c'),\n  ('det', 'c'),\n  ('spelar', 'c'),\n  ('ingen', 'c'),\n  ('roll', 'c'),\n  ('om', 'c'),\n  ('jag', 'c'),\n  ('tillhör', 'c'),\n  ('en', 'c'),\n  ('grupp', 'c'),\n  ('eller', 'c'),\n  ('inte', 'c'),\n  ('.', 'c')],\n [('I', 'i'),\n  ('texten', 'c'),\n  ('\\\\\"', 'c'),\n  ('Norge', 'c'),\n  ('mot', 'c'),\n  ('Noreg', 'c'),\n  ('\\\\\"', 'c'),\n  ('Andreas', 'c'),\n  ('Hermansson', 'c'),\n  ('(', 'c'),\n  ('2009:3', 'c'),\n  (')', 'c'),\n  ('skriver', 'i'),\n  ('om', 'c'),\n  ('kampen', 'c'),\n  ('mellan', 'c'),\n  ('nynorska', 'i'),\n  ('och', 'c'),\n  ('bokmålet', 'c'),\n  ('.', 'c')],\n [('Jag', 'c'),\n  ('kännade', 'i'),\n  ('att', 'c'),\n  ('jag', 'c'),\n  ('tycker', 'i'),\n  ('om', 'c'),\n  ('henne', 'c'),\n  ('men', 'i'),\n  ('det', 'c'),\n  ('fanns', 'i'),\n  ('flera', 'c'),\n  ('år', 'c'),\n  ('till', 'i'),\n  ('jag', 'c'),\n  ('frågade', 'i'),\n  ('henne', 'c'),\n  ('utt', 'i'),\n  ('.', 'c')],\n [('Först', 'c'),\n  ('och', 'c'),\n  ('främst', 'c'),\n  ('är', 'c'),\n  ('det', 'c'),\n  ('bra', 'c'),\n  (',', 'c'),\n  ('därför', 'c'),\n  ('att', 'c'),\n  ('jag', 'c'),\n  ('har', 'c'),\n  ('familj', 'c'),\n  ('.', 'c')],\n [('Caracas', 'i'),\n  ('är', 'c'),\n  ('mindre', 'c'),\n  ('än', 'c'),\n  ('Paris', 'i'),\n  (',', 'c'),\n  ('Paris', 'i'),\n  ('och', 'c'),\n  ('andra', 'c'),\n  ('stad', 'i'),\n  ('i', 'c'),\n  ('Danmark', 'i'),\n  (',', 'c'),\n  ('men', 'c'),\n  ('det', 'i'),\n  ('är', 'c'),\n  ('tyst', 'c'),\n  ('och', 'c'),\n  ('har', 'c'),\n  ('mycket', 'c'),\n  ('historia', 'c'),\n  ('om', 'i'),\n  ('det', 'i'),\n  ('.', 'c')],\n [('När', 'c'),\n  ('man', 'c'),\n  ('bor', 'c'),\n  ('med', 'c'),\n  ('sin', 'c'),\n  ('familj', 'c'),\n  ('i', 'c'),\n  ('ett', 'c'),\n  ('hälsosamt', 'c'),\n  ('samhälle', 'c'),\n  ('med', 'c'),\n  ('en', 'c'),\n  ('bra', 'c'),\n  ('ekonomisk', 'c'),\n  ('situation', 'c'),\n  ('och', 'c'),\n  ('bra', 'c'),\n  ('barnuppfostran', 'c'),\n  ('så', 'c'),\n  ('kommer', 'c'),\n  ('brottslighet', 'i'),\n  ('att', 'c'),\n  ('minskas', 'i'),\n  ('så', 'i'),\n  ('mycket', 'c'),\n  ('och', 'c'),\n  ('samhället', 'c'),\n  ('ska', 'i'),\n  ('utvecklas', 'i'),\n  ('med', 'c'),\n  ('goda', 'c'),\n  ('principer', 'c'),\n  ('.', 'c')],\n [('Vi', 'c'), ('känner', 'c'), ('oss', 'c'), ('lyckliga', 'c'), ('.', 'c')],\n [('Ibland', 'c'),\n  ('det', 'c'),\n  ('går', 'i'),\n  ('också', 'c'),\n  ('bra', 'c'),\n  ('man', 'i'),\n  ('lyssnar', 'i'),\n  ('på', 'c'),\n  ('musik', 'c'),\n  (',', 'c'),\n  ('dansa', 'c'),\n  ('ha', 'i'),\n  ('roligt', 'c'),\n  ('tillsammans', 'c'),\n  ('.', 'c')],\n [('Det', 'c'),\n  ('är', 'c'),\n  ('mycket', 'c'),\n  ('lättare', 'c'),\n  ('att', 'c'),\n  ('låta', 'c'),\n  ('människor', 'c'),\n  ('gå', 'c'),\n  ('igenom', 'c'),\n  ('en', 'c'),\n  ('kulturell', 'c'),\n  ('assimilation', 'c'),\n  ('till', 'c'),\n  ('majoritetsbefolkningen', 'c'),\n  ('vilket', 'i'),\n  ('är', 'c'),\n  ('en', 'c'),\n  ('mycket', 'c'),\n  ('effektivare', 'c'),\n  ('metod', 'c'),\n  ('än', 'c'),\n  ('att', 'c'),\n  ('fortsätta', 'c'),\n  ('med', 'c'),\n  ('att', 'c'),\n  ('försöka', 'c'),\n  ('rädda', 'c'),\n  ('minoritetsspråken', 'c'),\n  ('.', 'c')],\n [('På', 'i'),\n  ('1876', 'c'),\n  ('har', 'i'),\n  ('Graham', 'c'),\n  ('Bell', 'c'),\n  ('uppfann', 'i'),\n  ('telefonen', 'c'),\n  ('och', 'c'),\n  ('ljudet', 'c'),\n  ('rör', 'i'),\n  ('sig', 'c'),\n  ('genom', 'c'),\n  ('den', 'c'),\n  ('här', 'c'),\n  ('nya', 'c'),\n  ('uppfinningen', 'c'),\n  (',', 'c'),\n  ('och', 'c'),\n  ('på', 'i'),\n  ('1877', 'c'),\n  ('blev', 'i'),\n  ('finns', 'i'),\n  ('det', 'i'),\n  ('första', 'c'),\n  ('telefonen', 'c'),\n  ('i', 'c'),\n  ('Sverige', 'c'),\n  ('som', 'i'),\n  ('(', 'i'),\n  ('Anita', 'c'),\n  ('Björkqvist', 'c'),\n  (')', 'i'),\n  ('skrev', 'i'),\n  ('i', 'c'),\n  ('hennes', 'i'),\n  ('text', 'c'),\n  ('att', 'i'),\n  ('det', 'i'),\n  ('första', 'c'),\n  ('telefonen', 'c'),\n  ('kom', 'i'),\n  ('i', 'i'),\n  ('Sverige', 'c'),\n  ('ett', 'c'),\n  ('år', 'c'),\n  ('efter', 'c'),\n  ('hade', 'i'),\n  ('uppfunnits', 'c'),\n  ('och', 'i'),\n  ('Stockholm', 'c'),\n  ('så', 'i'),\n  ('kallade', 'i'),\n  ('telefon', 'i'),\n  ('tätaste', 'i'),\n  ('staden', 'c'),\n  ('och', 'i'),\n  ('inga', 'i'),\n  ('person', 'i'),\n  ('förvänta', 'i'),\n  ('eller', 'i'),\n  ('föreställa', 'c'),\n  ('sig', 'c'),\n  ('att', 'c'),\n  ('det', 'c'),\n  ('är', 'i'),\n  ('möjligt', 'c'),\n  ('att', 'c'),\n  ('ha', 'c'),\n  ('en', 'c'),\n  ('sådan', 'c'),\n  ('uppfinning', 'c'),\n  ('i', 'c'),\n  ('världen', 'c'),\n  ('.', 'c')],\n [('Var', 'c'),\n  ('order', 'i'),\n  ('du', 'c'),\n  ('dina', 'c'),\n  ('tider', 'c'),\n  ('och', 'c'),\n  ('sitt', 'i'),\n  ('schema', 'c'),\n  ('?', 'c')],\n [('Diskussion', 'c')],\n [('Varje', 'c'),\n  ('dag', 'c'),\n  ('begås', 'c'),\n  ('olika', 'c'),\n  ('brott', 'c'),\n  ('i', 'c'),\n  ('världen', 'c'),\n  ('.', 'c')],\n [('Vidare', 'c'),\n  ('ska', 'i'),\n  ('de', 'c'),\n  ('bli', 'i'),\n  ('gladare', 'c'),\n  ('eftersom', 'c'),\n  ('de', 'c'),\n  ('ville', 'c'),\n  ('köpa', 'c'),\n  ('en', 'c'),\n  ('och', 'i'),\n  ('de', 'c'),\n  ('gillar', 'c'),\n  ('konst', 'c'),\n  ('.', 'c')],\n [('Unga', 'c'),\n  ('behöver', 'c'),\n  ('bara', 'c'),\n  ('bli', 'c'),\n  ('medvetna', 'c'),\n  ('om', 'c'),\n  ('arbetsmoralen', 'c'),\n  ('.', 'c')],\n [('Detta', 'c'),\n  ('är', 'c'),\n  ('lätt', 'c'),\n  ('att', 'c'),\n  ('identifiera', 'c'),\n  ('men', 'c'),\n  ('inte', 'c'),\n  ('alltid', 'c'),\n  ('sant', 'c'),\n  ('.', 'c')],\n [('När', 'c'),\n  ('jag', 'c'),\n  ('coacher', 'i'),\n  ('dem', 'i'),\n  ('små', 'c'),\n  ('barnen', 'c'),\n  (',', 'i'),\n  ('kan', 'c'),\n  ('jag', 'c'),\n  ('träna', 'c'),\n  ('språket', 'c'),\n  ('bättre', 'c'),\n  (',', 'c'),\n  ('därför', 'c'),\n  ('att', 'c'),\n  ('de', 'c'),\n  ('prata', 'i'),\n  ('lättare', 'c'),\n  ('svenska', 'c'),\n  ('.', 'c')],\n [('Jag', 'c'),\n  ('tycker', 'c'),\n  ('mycket', 'c'),\n  ('om', 'c'),\n  ('att', 'c'),\n  ('vara', 'c'),\n  ('med', 'c'),\n  ('på', 'c'),\n  ('språk-café', 'i'),\n  (',', 'c'),\n  ('det', 'c'),\n  ('är', 'c'),\n  ('viktig', 'i'),\n  ('för', 'c'),\n  ('mig', 'c'),\n  ('eftersom', 'c'),\n  ('varje', 'c'),\n  ('gång', 'c'),\n  ('jag', 'c'),\n  ('går', 'c'),\n  ('dit', 'c'),\n  (',', 'i'),\n  ('lär', 'c'),\n  ('jag', 'c'),\n  ('mig', 'c'),\n  ('nya', 'c'),\n  ('ord', 'c'),\n  ('och', 'c'),\n  ('utvecklar', 'c'),\n  ('mitt', 'c'),\n  ('språk', 'c'),\n  (',', 'c'),\n  ('och', 'c'),\n  ('jag', 'c'),\n  ('har', 'c'),\n  ('skaffat', 'c'),\n  ('några', 'c'),\n  ('nya', 'c'),\n  ('vänner', 'c'),\n  ('som', 'c'),\n  ('vi', 'i'),\n  ('brukar', 'c'),\n  ('träffas', 'c'),\n  ('där', 'c'),\n  ('.', 'c')],\n [('Därför', 'c'),\n  ('är', 'c'),\n  ('det', 'c'),\n  ('nödvändigt', 'c'),\n  ('att', 'c'),\n  ('sådana', 'c'),\n  ('saker', 'c'),\n  ('upprepas', 'c'),\n  ('så', 'c'),\n  ('att', 'c'),\n  ('elever', 'i'),\n  ('kan', 'i'),\n  ('minnas', 'i'),\n  ('bättre', 'c'),\n  ('och', 'c'),\n  ('utför', 'i'),\n  ('dem', 'c'),\n  ('.', 'c')],\n [('Jag', 'c'),\n  ('väntar', 'c'),\n  ('för', 'i'),\n  ('en', 'i'),\n  ('svara', 'i'),\n  ('från', 'c'),\n  ('dig', 'c'),\n  ('.', 'c')],\n [('Vidare', 'c'),\n  ('skulle', 'c'),\n  ('kurser', 'c'),\n  ('från', 'c'),\n  ('företagere', 'i'),\n  ('hjälpa', 'c'),\n  ('unga', 'c'),\n  ('att', 'c'),\n  ('förstå', 'c'),\n  ('arbetsmaknaden', 'c'),\n  ('och', 'c'),\n  ('arbetsgivarens', 'c'),\n  ('krav', 'c'),\n  ('på', 'c'),\n  ('sina', 'c'),\n  ('anställda', 'c'),\n  ('.', 'c')],\n [('Jag', 'c'),\n  ('vill', 'c'),\n  ('berätta', 'c'),\n  ('om', 'c'),\n  ('min', 'c'),\n  ('första', 'c'),\n  ('kärlek', 'c'),\n  ('.', 'c')],\n [('Ett', 'c'),\n  ('allmänmänskligt', 'c'),\n  ('tema', 'c'),\n  ('som', 'c'),\n  ('innehåller', 'c'),\n  ('livsläxor', 'c'),\n  ('för', 'c'),\n  ('oss', 'c'),\n  ('är', 'c'),\n  ('temat', 'c'),\n  ('hatkärlek', 'c'),\n  ('.', 'c')],\n [('Hoppas', 'c'),\n  ('at', 'i'),\n  ('allt', 'c'),\n  ('är', 'c'),\n  ('bra', 'c'),\n  ('med', 'c'),\n  ('dih', 'i'),\n  ('också', 'c'),\n  ('.', 'c')],\n [('Tillslut', 'i'),\n  ('vill', 'i'),\n  ('jag', 'c'),\n  ('säga', 'c'),\n  ('som', 'i'),\n  ('jag', 'c'),\n  ('sagt', 'c'),\n  ('till', 'c'),\n  ('mina', 'c'),\n  ('kompisar', 'c'),\n  ('kärlek', 'i'),\n  ('kan', 'c'),\n  ('vara', 'c'),\n  ('båda', 'i'),\n  ('bra', 'c'),\n  ('och', 'c'),\n  ('dålig', 'c'),\n  ('.', 'c')],\n [('5', 'c'), ('.', 'c')],\n [('Man', 'c'),\n  ('kan', 'c'),\n  ('promenera', 'c'),\n  ('genom', 'c'),\n  ('staden', 'c'),\n  ('hela', 'c'),\n  ('dagen', 'c'),\n  ('och', 'c'),\n  ('beundra', 'c'),\n  ('den', 'i'),\n  ('domkyrkan', 'c'),\n  (',', 'c'),\n  ('många', 'c'),\n  ('olika', 'c'),\n  ('små', 'c'),\n  ('kyrkor', 'c'),\n  ('och', 'c'),\n  ('flera', 'c'),\n  ('gamla', 'c'),\n  ('byggnaden', 'i'),\n  ('.', 'c')],\n [('Det', 'c'), ('finns', 'c'), ('trea', 'i'), ('våning', 'i'), ('.', 'c')],\n [('Så', 'c'),\n  ('jag', 'c'),\n  ('måste', 'c'),\n  ('göra', 'c'),\n  ('allt', 'c'),\n  ('för', 'c'),\n  ('att', 'c'),\n  ('jag', 'c'),\n  ('kan', 'i'),\n  ('uppnå', 'i'),\n  ('en', 'i'),\n  ('dag', 'c'),\n  ('.', 'c')],\n [('andra', 'i'),\n  ('saker', 'c'),\n  ('du', 'c'),\n  ('kan', 'c'),\n  ('gra', 'i'),\n  ('är', 'c'),\n  ('att', 'c'),\n  ('går', 'i'),\n  ('på', 'c'),\n  ('Bio', 'i'),\n  ('när', 'c'),\n  ('du', 'c'),\n  ('är', 'c'),\n  ('ledigge', 'i'),\n  (',', 'i'),\n  ('där', 'i'),\n  ('ska', 'i'),\n  ('du', 'c'),\n  ('traffa', 'i'),\n  ('många', 'c'),\n  ('männikors', 'i'),\n  (',', 'i'),\n  ('samtigits', 'i'),\n  ('du', 'c'),\n  ('kan', 'i'),\n  ('gå', 'c'),\n  ('i', 'c'),\n  ('kyrkan', 'c'),\n  ('där', 'i'),\n  ('också', 'i'),\n  ('hittar', 'c'),\n  ('du', 'c'),\n  ('nya', 'c'),\n  ('vänner', 'c'),\n  ('.', 'c')],\n [('Jag', 'c'),\n  ('målade', 'i'),\n  ('för', 'i'),\n  ('en', 'c'),\n  ('vacker', 'c'),\n  ('framtid', 'c'),\n  ('bredvid', 'i'),\n  ('honom', 'c'),\n  ('men', 'c'),\n  ('chocken', 'c'),\n  ('var', 'c'),\n  ('stark', 'c'),\n  ('.', 'c')],\n [('Jag', 'c'),\n  ('tänker', 'c'),\n  ('på', 'c'),\n  ('bröllopspresenten', 'c'),\n  ('som', 'c'),\n  ('du', 'c'),\n  ('har', 'c'),\n  ('föreslagit', 'c'),\n  ('.', 'c')],\n [('Nu', 'c'), ('skrattar', 'c'), ('han', 'c'), ('.', 'c')],\n [('Det', 'i'),\n  ('finns', 'c'),\n  ('två', 'c'),\n  ('mest', 'i'),\n  ('kända', 'c'),\n  ('lager', 'i'),\n  ('som', 'c'),\n  ('kallas', 'c'),\n  ('Linsbiblioteket', 'c'),\n  ('och', 'c'),\n  ('Forkecentralen', 'c'),\n  ('och', 'i'),\n  ('de', 'c'),\n  ('är', 'c'),\n  ('Filippinska', 'i'),\n  ('Nationella', 'i'),\n  ('Basketbol', 'i'),\n  ('lager', 'i'),\n  ('(', 'i'),\n  ('team', 'i'),\n  (')', 'i'),\n  ('.', 'c')],\n [('Det', 'c'),\n  ('finns', 'c'),\n  ('två', 'c'),\n  ('dagar', 'c'),\n  ('i', 'c'),\n  ('veckan', 'c'),\n  ('som', 'i'),\n  ('ni', 'c'),\n  ('kan', 'c'),\n  ('få', 'c'),\n  ('rast', 'i'),\n  ('på', 'i'),\n  ('helgerna', 'c'),\n  ('.', 'c')],\n [('Idag', 'c'),\n  ('lever', 'c'),\n  ('jag', 'c'),\n  ('lyckligt', 'c'),\n  ('med', 'c'),\n  ('min', 'c'),\n  ('man', 'c'),\n  (',', 'c'),\n  ('men', 'c'),\n  ('ibland', 'c'),\n  ('undrar', 'c'),\n  ('jag', 'c'),\n  ('hur', 'c'),\n  ('det', 'c'),\n  ('kunde', 'c'),\n  ('ha', 'c'),\n  ('blivit', 'c'),\n  ('om', 'c'),\n  ('vi', 'c'),\n  ('inte', 'c'),\n  ('hade', 'c'),\n  ('förlorat', 'c'),\n  ('kontakten', 'c'),\n  ('.', 'c')],\n [('Där', 'c'),\n  ('sitter', 'c'),\n  ('jag', 'c'),\n  ('med', 'c'),\n  ('min', 'c'),\n  ('familj', 'c'),\n  ('äter', 'i'),\n  (',', 'c'),\n  ('sjunger', 'c'),\n  (',', 'c'),\n  ('dansar', 'c'),\n  (',', 'c'),\n  ('skrater', 'i'),\n  (',', 'c'),\n  ('leker', 'c'),\n  ('och', 'c'),\n  ('studerar', 'c'),\n  ('…', 'c')],\n [('Frågan', 'c'),\n  ('om', 'c'),\n  ('hur', 'c'),\n  ('viktiga', 'c'),\n  ('är', 'i'),\n  ('kläderna', 'c'),\n  ('kan', 'c'),\n  ('hitta', 'i'),\n  ('olika', 'c'),\n  ('svar', 'c'),\n  ('beröende', 'i'),\n  ('på', 'c'),\n  ('olika', 'c'),\n  ('faktorer', 'c'),\n  ('.', 'c')],\n [('Joensen', 'i'),\n  ('hittar', 'c'),\n  ('en', 'c'),\n  ('fin', 'c'),\n  ('stängd', 'i'),\n  ('kartong', 'c'),\n  ('.', 'c')],\n [('Jag', 'c'),\n  ('vacknar', 'i'),\n  ('till', 'c'),\n  ('en', 'c'),\n  ('ny', 'c'),\n  ('morgon', 'c'),\n  ('.', 'c')],\n [('Det', 'c'),\n  ('var', 'c'),\n  ('höst', 'c'),\n  ('och', 'c'),\n  ('vi', 'c'),\n  ('hade', 'c'),\n  ('frusit', 'c'),\n  ('i', 'i'),\n  ('hela', 'c'),\n  ('veckan', 'c'),\n  ('.', 'c')],\n [('På', 'i'),\n  ('kvällen', 'i'),\n  ('är', 'c'),\n  ('den', 'c'),\n  ('bästa', 'c'),\n  ('tid', 'i'),\n  ('att', 'i'),\n  ('fiska', 'c'),\n  ('.', 'c')],\n [('De', 'c'), ('såg', 'c'), ('bra', 'c'), ('ut', 'c'), ('.', 'c')],\n [('Det', 'c'),\n  ('är', 'c'),\n  ('dock', 'c'),\n  ('viktigt', 'c'),\n  ('att', 'c'),\n  ('påpeka', 'c'),\n  ('att', 'c'),\n  ('ett', 'i'),\n  ('sätt', 'i'),\n  ('som', 'c'),\n  ('bloggare', 'c'),\n  ('har', 'c'),\n  ('mot', 'i'),\n  ('mode', 'c'),\n  ('är', 'c'),\n  ('överdrivet', 'c'),\n  ('och', 'c'),\n  ('oansvarigt', 'c'),\n  ('.', 'c')],\n [('Igår', 'c'),\n  ('pratade', 'c'),\n  ('vi', 'c'),\n  ('med', 'c'),\n  ('varandra', 'c'),\n  ('om', 'c'),\n  ('bröllopspresent', 'c'),\n  ('till', 'c'),\n  ('våra', 'c'),\n  ('vänner', 'c'),\n  ('.', 'c')],\n [('\\\\\"', 'c'),\n  ('Det', 'c'),\n  ('krävs', 'c'),\n  ('en', 'c'),\n  ('hel', 'c'),\n  ('by', 'c'),\n  ('för', 'c'),\n  ('att', 'c'),\n  ('uppfostra', 'c'),\n  ('ett', 'c'),\n  ('barn', 'c'),\n  ('\\\\\"', 'c'),\n  (',', 'c'),\n  ('ett', 'c'),\n  ('gammalt', 'c'),\n  ('svenskt', 'c'),\n  ('ordspråk', 'c'),\n  ('som', 'c'),\n  ('fick', 'c'),\n  ('mig', 'c'),\n  ('att', 'c'),\n  ('fundera', 'c'),\n  ('över', 'c'),\n  ('hur', 'c'),\n  ('känsliga', 'c'),\n  ('och', 'c'),\n  ('sårbara', 'c'),\n  ('barnen', 'c'),\n  ('kan', 'c'),\n  ('vara', 'c'),\n  ('och', 'c'),\n  ('hur', 'c'),\n  ('svårt', 'c'),\n  ('det', 'c'),\n  ('är', 'c'),\n  ('att', 'c'),\n  ('uppfostra', 'c'),\n  ('barn', 'c'),\n  ('.', 'c')],\n [('Men', 'c'),\n  ('den', 'c'),\n  ('är', 'c'),\n  ('trevlig', 'c'),\n  ('att', 'c'),\n  ('bor', 'i'),\n  ('där', 'i'),\n  (',', 'c'),\n  ('jag', 'c'),\n  ('trivs', 'c'),\n  ('där', 'c'),\n  ('.', 'c')],\n [('Många', 'c'),\n  ('ser', 'c'),\n  ('dem', 'c'),\n  ('som', 'c'),\n  ('omogna', 'c'),\n  ('och', 'c'),\n  ('inte', 'c'),\n  ('redo', 'c'),\n  ('att', 'c'),\n  ('delta', 'c'),\n  ('i', 'c'),\n  ('stora', 'c'),\n  ('beslut', 'c'),\n  ('om', 'c'),\n  ('landet', 'c'),\n  ('.', 'c')],\n [('Jag', 'c'),\n  ('brukar', 'c'),\n  ('att', 'i'),\n  ('behålla', 'c'),\n  ('mina', 'c'),\n  ('kläder', 'c'),\n  ('många', 'c'),\n  ('år', 'c'),\n  ('så', 'c'),\n  ('det', 'c'),\n  ('är', 'c'),\n  ('viktig', 'i'),\n  ('för', 'c'),\n  ('mig', 'c'),\n  ('att', 'c'),\n  ('mina', 'c'),\n  ('kläder', 'c'),\n  ('alltid', 'c'),\n  ('är', 'c'),\n  ('av', 'c'),\n  ('bra', 'c'),\n  ('kvalitet', 'c'),\n  ('och', 'c'),\n  ('att', 'c'),\n  ('de', 'c'),\n  ('är', 'c'),\n  ('tidlösa', 'c'),\n  ('.', 'c')],\n [('Den', 'i'),\n  ('kan', 'i'),\n  ('kan', 'c'),\n  ('vara', 'c'),\n  ('en', 'c'),\n  ('typ', 'c'),\n  ('av', 'c'),\n  ('kärlek', 'c'),\n  ('till', 'c'),\n  ('familjen', 'c'),\n  ('.', 'c')],\n [('Jag', 'c'),\n  ('tror', 'c'),\n  ('att', 'c'),\n  ('den', 'i'),\n  ('lever', 'c'),\n  ('så', 'c'),\n  ('för', 'c'),\n  ('att', 'c'),\n  ('vi', 'c'),\n  ('har', 'c'),\n  ('en', 'c'),\n  ('diktator', 'c'),\n  ('presdent', 'i'),\n  ('i', 'c'),\n  ('Mongoliet', 'i'),\n  ('.', 'c')],\n [('De', 'c'),\n  ('jobbar', 'c'),\n  ('med', 'c'),\n  ('att', 'c'),\n  ('gallra', 'c'),\n  ('rovor', 'c'),\n  ('i', 'c'),\n  ('jorden', 'c'),\n  ('och', 'c'),\n  ('hjälper', 'c'),\n  ('sin', 'c'),\n  ('familj', 'c'),\n  ('på', 'i'),\n  ('att', 'c'),\n  ('repa', 'c'),\n  ('nässlor', 'c'),\n  ('åt', 'c'),\n  ('hönsen', 'c'),\n  ('.', 'c')],\n [('Flickorna', 'c'),\n  ('måste', 'c'),\n  ('lyssna', 'c'),\n  ('och', 'i'),\n  ('acceptera', 'c'),\n  ('på', 'i'),\n  ('både', 'c'),\n  ('hennes', 'i'),\n  ('familj', 'i'),\n  ('och', 'c'),\n  ('mäns', 'i'),\n  ('familj', 'i')],\n [('Något', 'c'),\n  ('som', 'c'),\n  ('var', 'c'),\n  ('negativ', 'i'),\n  ('var', 'c'),\n  ('att', 'c'),\n  ('jag', 'c'),\n  ('ville', 'c'),\n  ('läsa', 'c'),\n  ('Bok', 'i'),\n  ('men', 'c'),\n  ('jag', 'c'),\n  ('kan', 'i'),\n  ('inte', 'c'),\n  ('därför', 'c'),\n  ('att', 'c'),\n  ('de', 'c'),\n  ('inte', 'c'),\n  ('har', 'c'),\n  ('personal', 'c'),\n  ('sitta', 'i'),\n  ('med', 'c'),\n  ('barn', 'c'),\n  ('.', 'c')],\n [('Olika', 'c'),\n  ('typer', 'c'),\n  ('av', 'c'),\n  ('familj', 'i'),\n  ('uppkommer', 'c'),\n  ('allt', 'i'),\n  ('mer', 'i'),\n  ('.', 'c')],\n [('En', 'c'),\n  ('del', 'c'),\n  ('föredrar', 'c'),\n  ('att', 'c'),\n  ('klä', 'c'),\n  ('på', 'c'),\n  ('sig', 'c'),\n  ('som', 'c'),\n  ('de', 'c'),\n  ('vill', 'c'),\n  ('i', 'c'),\n  ('alla', 'c'),\n  ('situationer', 'c'),\n  (',', 'c'),\n  ('men', 'c'),\n  ('en', 'i'),\n  ('andra', 'c'),\n  ('del', 'i'),\n  ('är', 'c'),\n  ('okej', 'c'),\n  ('med', 'c'),\n  ('reglerna', 'c'),\n  ('och', 'c'),\n  ('respekterar', 'c'),\n  ('de', 'i'),\n  ('.', 'c')],\n [('Barnen', 'c'),\n  ('kommer', 'c'),\n  ('ha', 'c'),\n  ('förmågan', 'c'),\n  ('att', 'c'),\n  ('förstå', 'c'),\n  ('sina', 'c'),\n  ('föräldrar', 'c'),\n  ('bättra', 'i'),\n  ('.', 'c')],\n [('Filmen', 'i'),\n  ('\\\\\"', 'c'),\n  ('Modig', 'c'),\n  ('\\\\\"', 'c'),\n  ('tas', 'c'),\n  ('det', 'i'),\n  ('upp', 'c'),\n  ('tydligt', 'c'),\n  ('om', 'i'),\n  ('relationen', 'c'),\n  ('mellan', 'c'),\n  ('drottningen', 'c'),\n  (',', 'c'),\n  ('prinsessan', 'c'),\n  ('och', 'c'),\n  ('kungen', 'c'),\n  ('.', 'c')],\n [('Han', 'c'),\n  ('är', 'c'),\n  ('mycket', 'c'),\n  ('arg', 'c'),\n  ('över', 'i'),\n  ('sina', 'c'),\n  ('föräldrar', 'c'),\n  ('men', 'c'),\n  ('han', 'c'),\n  ('har', 'c'),\n  ('längtat', 'c'),\n  ('efter', 'c'),\n  ('sina', 'c'),\n  ('föräldrar', 'c'),\n  ('utan', 'c'),\n  ('att', 'c'),\n  ('tänka', 'c'),\n  ('vad', 'i'),\n  ('har', 'i'),\n  ('de', 'c'),\n  ('gjort', 'c'),\n  ('mot', 'c'),\n  ('honom', 'c'),\n  ('.', 'c')],\n [('Till', 'c'),\n  ('slut', 'c'),\n  ('är', 'c'),\n  ('kläder', 'c'),\n  ('kanske', 'c'),\n  ('ett', 'c'),\n  ('sätt', 'c'),\n  ('att', 'c'),\n  ('mår', 'i'),\n  ('bra', 'i'),\n  ('med', 'c'),\n  ('sig', 'c'),\n  ('själv', 'c'),\n  (',', 'c'),\n  ('att', 'c'),\n  ('förstå', 'c'),\n  ('vissa', 'c'),\n  ('saker', 'c'),\n  ('med', 'i'),\n  ('inte', 'c'),\n  ('allt', 'c'),\n  ('och', 'c'),\n  ('inte', 'c'),\n  ('en', 'c'),\n  ('anledning', 'c'),\n  ('till', 'c'),\n  ('att', 'c'),\n  ('skappa', 'i'),\n  ('en', 'i'),\n  ('åsikt', 'i'),\n  ('för', 'i'),\n  ('människor', 'c'),\n  ('.', 'c')],\n [('Alla', 'i'),\n  ('människor', 'c'),\n  ('jobbar', 'i'),\n  ('inte', 'i'),\n  ('i', 'i'),\n  ('Undered', 'i'),\n  ('därför', 'c'),\n  ('finns', 'i'),\n  ('inte', 'i'),\n  ('jobb', 'c'),\n  ('där', 'c'),\n  ('.', 'c')],\n [('Där', 'c'),\n  ('träffades', 'c'),\n  ('många', 'c'),\n  ('elever', 'c'),\n  ('så', 'i'),\n  ('dansade', 'c'),\n  (',', 'c'),\n  ('lekte', 'c'),\n  ('skrattade', 'i'),\n  ('och', 'c'),\n  ('åt', 'c'),\n  ('chokladbollar', 'c'),\n  ('.', 'c')],\n [('Senare', 'c'),\n  ('börjar', 'c'),\n  ('en', 'c'),\n  ('rättegång', 'c'),\n  ('.', 'c')],\n [('Tack', 'c'),\n  ('för', 'c'),\n  ('att', 'c'),\n  ('ni', 'c'),\n  ('läsa', 'i'),\n  ('min', 'i'),\n  ('brev', 'c'),\n  ('.', 'c')],\n [('Jag', 'c'),\n  ('tycker', 'i'),\n  ('att', 'c'),\n  ('du', 'c'),\n  ('har', 'c'),\n  ('många', 'c'),\n  ('optioner', 'i'),\n  ('för', 'i'),\n  ('att', 'c'),\n  ('träffa', 'c'),\n  ('nya', 'c'),\n  ('vanner', 'i'),\n  ('.', 'c')],\n [('Till', 'c'),\n  ('slut', 'c'),\n  ('kan', 'c'),\n  ('jag', 'c'),\n  ('säga', 'c'),\n  ('att', 'c'),\n  ('synen', 'c'),\n  ('som', 'c'),\n  ('man', 'c'),\n  ('ha', 'i'),\n  ('på', 'c'),\n  ('lycka', 'c'),\n  ('är', 'c'),\n  ('resultatet', 'c'),\n  ('av', 'c'),\n  ('många', 'c'),\n  ('sociala', 'c'),\n  ('och', 'c'),\n  ('kulturela', 'i'),\n  ('faktorer', 'c'),\n  ('.', 'c')],\n [('Min', 'c'),\n  ('första', 'c'),\n  ('kärlek', 'c'),\n  ('oppnade', 'i'),\n  ('en', 'c'),\n  ('ny', 'c'),\n  ('och', 'c'),\n  ('finnt', 'i'),\n  ('värld', 'c'),\n  ('och', 'c'),\n  ('hjälpade', 'i'),\n  ('mig', 'c'),\n  ('att', 'c'),\n  ('älska', 'c'),\n  ('mig', 'c'),\n  ('själv', 'c'),\n  ('och', 'c'),\n  ('livet', 'c'),\n  ('.', 'c')],\n [('Lär', 'c'),\n  ('känna', 'c'),\n  ('din', 'c'),\n  ('målgrupp', 'c'),\n  ('och', 'c'),\n  ('ha', 'c'),\n  ('kunskap', 'c'),\n  ('om', 'c'),\n  ('dina', 'c'),\n  ('kanaler', 'c'),\n  ('och', 'c'),\n  ('ta', 'c'),\n  ('referat', 'c'),\n  ('från', 'c'),\n  ('varje', 'c'),\n  ('kanal', 'c')],\n [('Jag', 'c'),\n  ('valde', 'c'),\n  ('henne', 'c'),\n  ('för', 'c'),\n  ('att', 'c'),\n  ('hennes', 'c'),\n  ('starka', 'c'),\n  ('sida', 'c'),\n  ('är', 'c'),\n  ('interesant', 'i'),\n  ('och', 'c'),\n  ('motiverar', 'c'),\n  ('person', 'i'),\n  ('att', 'c'),\n  ('bli', 'c'),\n  ('stark', 'c'),\n  ('och', 'c'),\n  ('självstandigt', 'i'),\n  ('för', 'i'),\n  ('sig', 'i'),\n  ('själv', 'i'),\n  ('.', 'c')],\n [('Jag', 'c'),\n  ('bor', 'c'),\n  ('i', 'c'),\n  ('Sveriga', 'i'),\n  ('med', 'c'),\n  ('min', 'c'),\n  ('famijl', 'i'),\n  ('.', 'c')],\n [('Min', 'c'),\n  ('skola', 'c'),\n  ('är', 'c'),\n  ('jätteren', 'c'),\n  ('och', 'c'),\n  ('jag', 'c'),\n  ('kan', 'i'),\n  ('lära', 'c'),\n  ('mig', 'c'),\n  ('olika', 'c'),\n  ('nya', 'c'),\n  ('kunskaper', 'i'),\n  ('så', 'i'),\n  ('är', 'i'),\n  ('det', 'i'),\n  ('behöver', 'i'),\n  ('för', 'i'),\n  ('min', 'i'),\n  ('själv', 'i'),\n  ('.', 'c')],\n [('Jag', 'c'),\n  ('läste', 'c'),\n  ('i', 'c'),\n  ('en', 'c'),\n  ('tidning', 'c'),\n  ('att', 'c'),\n  ('många', 'c'),\n  ('flyktingar', 'c'),\n  ('tvunga', 'i'),\n  ('deras', 'i'),\n  ('under', 'i'),\n  ('13', 'i'),\n  ('årga', 'i'),\n  ('barn', 'i'),\n  ('för', 'i'),\n  ('att', 'c'),\n  ('klä', 'i'),\n  ('på', 'i'),\n  ('sig', 'i'),\n  ('slöjor', 'i'),\n  ('.', 'c')],\n [('Hoppas', 'c'),\n  ('det', 'c'),\n  ('går', 'c'),\n  ('bra', 'c'),\n  ('för', 'c'),\n  ('dig', 'c'),\n  ('!', 'c')],\n [('Så', 'c'),\n  ('därför', 'c'),\n  ('så', 'c'),\n  ('tror', 'c'),\n  ('jag', 'c'),\n  ('att', 'c'),\n  ('vi', 'c'),\n  ('i', 'c'),\n  ('framtiden', 'c'),\n  ('kommer', 'c'),\n  ('att', 'c'),\n  ('kunna', 'c'),\n  ('kommunicera', 'c'),\n  ('genom', 'c'),\n  ('någon', 'c'),\n  ('form', 'c'),\n  ('av', 'c'),\n  ('telepati', 'c'),\n  (',', 'i'),\n  ('vi', 'i'),\n  ('skulle', 'c'),\n  ('kunna', 'c'),\n  ('skicka', 'c'),\n  ('s.k.', 'c'),\n  ('Hologram', 'i'),\n  ('till', 'c'),\n  ('varandra', 'c'),\n  ('då', 'i'),\n  ('kan', 'c'),\n  ('mottagaren', 'c'),\n  ('både', 'c'),\n  ('se', 'c'),\n  ('och', 'c'),\n  ('höra', 'c'),\n  ('våran', 'c'),\n  ('röst', 'c'),\n  ('.', 'c')],\n [('På', 'c'),\n  ('2000-', 'i'),\n  ('talet', 'i'),\n  ('kom', 'c'),\n  ('många', 'c'),\n  ('kommunikation', 'i'),\n  ('appar', 'i'),\n  ('bland', 'i'),\n  ('annat', 'c'),\n  ('var', 'i'),\n  ('Facebook', 'c'),\n  (',', 'c'),\n  ('Twitter', 'c'),\n  (',', 'c'),\n  ('Instegram', 'i'),\n  ('och', 'c'),\n  ('Snapchat', 'c'),\n  ('påpekar', 'c'),\n  ('Rose', 'c'),\n  ('(', 'c'),\n  ('2012', 'c'),\n  (')', 'c'),\n  ('.', 'c')],\n [('Det', 'c'),\n  ('kommer', 'c'),\n  ('att', 'c'),\n  ('bli', 'c'),\n  ('färre', 'c'),\n  ('ungdomar', 'c'),\n  ('som', 'c'),\n  ('väljer', 'c'),\n  ('svenskan', 'c'),\n  ('eftersom', 'c'),\n  ('de', 'c'),\n  ('flesta', 'c'),\n  ('av', 'c'),\n  ('ungdomarna', 'c'),\n  ('tycker', 'c'),\n  ('att', 'c'),\n  ('det', 'c'),\n  ('är', 'c'),\n  ('onödigt', 'c'),\n  ('att', 'c'),\n  ('läsa', 'c'),\n  ('ett', 'c'),\n  ('språk', 'c'),\n  ('de', 'c'),\n  ('aldrig', 'c'),\n  ('kommer', 'c'),\n  ('att', 'c'),\n  ('ha', 'c'),\n  ('användning', 'c'),\n  ('av', 'c'),\n  ('.', 'c')],\n [('Jag', 'c'),\n  ('tror', 'c'),\n  ('att', 'c'),\n  ('jag', 'c'),\n  ('har', 'c'),\n  ('för', 'c'),\n  ('många', 'c'),\n  ('saker', 'c'),\n  ('(', 'c'),\n  ('kanske', 'c'),\n  (')', 'c'),\n  ('.', 'c')],\n [('Det', 'c'),\n  ('var', 'c'),\n  ('inte', 'c'),\n  ('lät', 'i'),\n  ('för', 'i'),\n  ('att', 'c'),\n  ('hitta', 'c'),\n  ('maten', 'i'),\n  ('så', 'c'),\n  ('det', 'c'),\n  ('tog', 'c'),\n  ('lång', 'c'),\n  ('tid', 'c'),\n  ('för', 'i'),\n  ('att', 'c'),\n  ('komma', 'c'),\n  ('tillbaka', 'c'),\n  ('till', 'c'),\n  ('hennes', 'i'),\n  ('pulvar', 'i'),\n  ('för', 'i'),\n  ('mamman', 'i'),\n  ('.', 'c')],\n [('Främst', 'c'),\n  ('visas', 'c'),\n  ('temat', 'c'),\n  ('genom', 'c'),\n  ('den', 'c'),\n  ('kärlek', 'c'),\n  ('syskonen', 'c'),\n  ('har', 'c'),\n  ('för', 'c'),\n  ('varandra', 'c'),\n  ('och', 'c'),\n  ('hur', 'c'),\n  ('år', 'c'),\n  ('utav', 'c'),\n  ('att', 'c'),\n  ('ha', 'c'),\n  ('levt', 'c'),\n  ('isolerade', 'c'),\n  ('liv', 'c'),\n  (',', 'i'),\n  ('har', 'c'),\n  ('påverkat', 'c'),\n  ('deras', 'c'),\n  ('relation', 'c'),\n  ('för', 'i'),\n  ('varandra', 'c'),\n  ('.', 'c')],\n [('Kommunikation', 'i'),\n  ('förändring', 'i'),\n  ('från', 'c'),\n  ('1800-talet', 'c'),\n  ('fram', 'c'),\n  ('tills', 'c'),\n  ('idag', 'c')],\n [('Om', 'c'),\n  ('du', 'c'),\n  ('slutar', 'c'),\n  ('aldrig', 'i'),\n  ('gå', 'c'),\n  ('får', 'c'),\n  ('du', 'c'),\n  ('som', 'c'),\n  ('du', 'c'),\n  ('vill', 'c'),\n  (',', 'c'),\n  ('och', 'c'),\n  ('du', 'c'),\n  ('ska', 'i'),\n  ('bli', 'i'),\n  ('framgångsrik', 'c'),\n  ('när', 'c'),\n  ('som', 'c'),\n  ('helst', 'c'),\n  ('eftersom', 'c'),\n  ('du', 'c'),\n  ('fortfarande', 'c'),\n  ('är', 'c'),\n  ('på', 'c'),\n  ('väg', 'c'),\n  ('.', 'c')],\n [('Han', 'c'),\n  ('säger', 'c'),\n  ('att', 'c'),\n  ('cirklarna', 'c'),\n  ('var', 'c'),\n  ('inte', 'i'),\n  ('gjort', 'i'),\n  ('av', 'c'),\n  ('någon', 'c'),\n  ('utomjording', 'c'),\n  ('och', 'c'),\n  ('inte', 'c'),\n  ('hellre', 'i'),\n  ('av', 'c'),\n  ('någon', 'c'),\n  ('andlighet', 'c'),\n  ('eller', 'c'),\n  ('förtrollning', 'c'),\n  ('utan', 'c'),\n  ('två', 'i'),\n  ('män', 'c'),\n  ('som', 'c'),\n  ('gjorde', 'c'),\n  ('cirklarna', 'i'),\n  ('med', 'c'),\n  ('redskap', 'c'),\n  (',', 'c'),\n  ('för', 'c'),\n  ('de', 'i'),\n  ('ville', 'c'),\n  ('sätta', 'c'),\n  ('fart', 'c'),\n  ('på', 'c'),\n  ('UFO-debatten', 'c'),\n  ('.', 'c')],\n [('För', 'c'),\n  ('det', 'c'),\n  ('första', 'c'),\n  ('är', 'c'),\n  ('det', 'c'),\n  ('viktigt', 'i'),\n  ('för', 'c'),\n  ('mig', 'c'),\n  ('att', 'c'),\n  ('jag', 'c'),\n  ('gillar', 'c'),\n  ('stilen', 'c'),\n  ('mer', 'c'),\n  ('än', 'c'),\n  ('vad', 'c'),\n  ('gäller', 'i'),\n  ('som', 'c'),\n  ('trenden', 'i'),\n  ('.', 'c')],\n [('Man', 'c'),\n  ('kan', 'c'),\n  ('åka', 'c'),\n  ('tåg', 'c'),\n  ('till', 'i'),\n  ('dit', 'c'),\n  ('också', 'c'),\n  ('.', 'c')],\n [('Hat', 'i'),\n  ('kärleken', 'i'),\n  ('vänder', 'i'),\n  ('sig', 'i'),\n  ('med', 'i'),\n  ('en', 'i'),\n  ('stark', 'i'),\n  ('vilja', 'i'),\n  ('av', 'i'),\n  ('önskan', 'i'),\n  ('när', 'c'),\n  ('mamman', 'c'),\n  ('plötsligt', 'c'),\n  ('lämnar', 'c'),\n  ('slottet', 'c'),\n  ('som', 'c'),\n  ('en', 'c'),\n  ('björn', 'c'),\n  ('på', 'c'),\n  ('grund', 'c'),\n  ('av', 'c'),\n  ('magin', 'c'),\n  ('hon', 'c'),\n  ('drabbas', 'i'),\n  ('av', 'c'),\n  ('.', 'c')],\n [('Jag', 'c'),\n  ('kan', 'c'),\n  ('spara', 'c'),\n  ('mycke', 'i'),\n  ('tid', 'c'),\n  ('om', 'c'),\n  ('vi', 'c'),\n  ('åka', 'i'),\n  ('till', 'c'),\n  ('en', 'c'),\n  ('affär', 'c'),\n  ('eller', 'c'),\n  ('åke', 'i'),\n  ('till', 'c'),\n  ('andra', 'i'),\n  ('stad', 'c'),\n  ('.', 'c')],\n [('Där', 'i'),\n  ('är', 'c'),\n  ('kärlek', 'i'),\n  ('stad', 'i'),\n  (',', 'c'),\n  ('och', 'c'),\n  ('jag', 'c'),\n  ('ska', 'c'),\n  ('ga', 'i'),\n  ('där', 'i'),\n  ('många', 'c'),\n  ('gånger', 'c'),\n  ('med', 'c'),\n  ('min', 'c'),\n  ('man', 'c'),\n  ('och', 'c'),\n  ('min', 'c'),\n  ('familj', 'c'),\n  ('eftersom', 'c'),\n  ('de', 'c'),\n  ('är', 'c'),\n  ('min', 'c'),\n  ('kärlek', 'c'),\n  ('.', 'c')],\n [('Efter', 'i'),\n  ('bestämade', 'i'),\n  ('han', 'c'),\n  ('sig', 'c'),\n  ('att', 'i'),\n  ('resa', 'c'),\n  ('men', 'c'),\n  ('var', 'i'),\n  ('inte', 'i'),\n  ('bra', 'i'),\n  ('laget', 'i'),\n  ('.', 'i')],\n [('Ett', 'c'),\n  ('prestigefyllt', 'c'),\n  ('arbete', 'c'),\n  (':', 'c'),\n  ('Det', 'c'),\n  ('är', 'c'),\n  ('en', 'c'),\n  ('grupp', 'i'),\n  ('arebete', 'i'),\n  ('som', 'c'),\n  ('ger', 'c'),\n  ('ett', 'c'),\n  ('resultat', 'c'),\n  ('att', 'i'),\n  ('göra', 'i'),\n  ('något', 'c'),\n  ('till', 'i'),\n  ('exampel', 'i'),\n  (':', 'i'),\n  ('Nobelpris', 'i')],\n [('Hon', 'c'),\n  ('var', 'c'),\n  ('fattig', 'c'),\n  ('och', 'c'),\n  ('tiggade', 'i'),\n  ('på', 'c'),\n  ('gattan', 'i'),\n  ('något', 'i'),\n  ('för', 'i'),\n  ('att', 'i'),\n  ('få', 'i'),\n  ('mat', 'i'),\n  ('med', 'c'),\n  ('sin', 'c'),\n  ('mama', 'i'),\n  ('och', 'i'),\n  ('hennes', 'c'),\n  ('mamma', 'c'),\n  ('övergav', 'c'),\n  ('henne', 'c'),\n  ('.', 'c')],\n [('Jag', 'c'),\n  ('tycker', 'c'),\n  ('om', 'c'),\n  ('min', 'c'),\n  ('skolan', 'i'),\n  ('och', 'c'),\n  ('min', 'c'),\n  ('skola', 'c'),\n  ('har', 'c'),\n  ('mycket', 'i'),\n  ('studenter', 'c'),\n  ('studerar', 'i'),\n  ('svenska', 'c'),\n  ('.', 'c')],\n [('Vi', 'c'),\n  ('kan', 'c'),\n  ('inte', 'c'),\n  ('heller', 'c'),\n  ('tillåta', 'c'),\n  ('omständiga', 'i'),\n  ('situationer', 'i'),\n  ('liksom', 'i'),\n  ('ett', 'c'),\n  ('arbetslöst', 'c'),\n  ('år', 'c'),\n  ('bedöma', 'i'),\n  ('om', 'c'),\n  ('vi', 'c'),\n  ('är', 'c'),\n  ('lyckliga', 'c'),\n  ('eller', 'c'),\n  ('inte', 'c'),\n  ('.', 'c')],\n [('jag', 'i'),\n  ('bor', 'c'),\n  ('i', 'c'),\n  ('Björkås', 'i'),\n  ('min', 'i'),\n  ('det', 'i'),\n  ('jätte', 'i'),\n  ('fin', 'i'),\n  ('omrod', 'i'),\n  ('och', 'i'),\n  ('utsekt', 'i'),\n  ('.', 'c')],\n [('Andra', 'i'),\n  ('verket', 'c'),\n  ('är', 'c'),\n  ('en', 'c'),\n  ('bok', 'c'),\n  ('som', 'c'),\n  ('heter', 'c'),\n  ('Bröderna', 'c'),\n  ('lejonhjärta', 'i'),\n  ('som', 'c'),\n  ('är', 'c'),\n  ('en', 'c'),\n  ('fantasy', 'i'),\n  ('och', 'c'),\n  ('äventyrsroman', 'c'),\n  ('som', 'c'),\n  ('handlar', 'c'),\n  ('om', 'c'),\n  ('två', 'c'),\n  ('bröder', 'c'),\n  ('som', 'c'),\n  ('älskar', 'c'),\n  ('varandra', 'c'),\n  (',', 'i'),\n  ('storebror', 'i'),\n  ('säger', 'c'),\n  ('till', 'c'),\n  ('lillebror', 'c'),\n  ('att', 'c'),\n  ('man', 'c'),\n  ('går', 'i'),\n  ('till', 'c'),\n  ('Nangijala', 'c'),\n  ('när', 'c'),\n  ('man', 'c'),\n  ('dör', 'c'),\n  ('och', 'i'),\n  ('båda', 'i'),\n  ('och', 'i'),\n  ('båda', 'c'),\n  ('bröder', 'i'),\n  ('hamnar', 'c'),\n  ('där', 'c'),\n  ('efter', 'i'),\n  ('de', 'c'),\n  ('dör', 'c'),\n  ('.', 'c')],\n [('Blir', 'c'),\n  ('man', 'c'),\n  ('lycklig', 'c'),\n  ('om', 'c'),\n  ('man', 'c'),\n  ('håller', 'i'),\n  ('en', 'c'),\n  ('hög', 'c'),\n  ('position', 'c'),\n  ('i', 'c'),\n  ('samhället', 'c'),\n  ('.', 'i')],\n [('Sociala', 'c'),\n  ('faktorer', 'c'),\n  ('som', 'i'),\n  ('var', 'c'),\n  ('och', 'c'),\n  ('hur', 'c'),\n  ('man', 'c'),\n  ('bor', 'c'),\n  (',', 'c'),\n  ('hur', 'c'),\n  ('mycket', 'c'),\n  ('man', 'c'),\n  ('tjänar', 'c'),\n  ('..', 'i'),\n  ('De', 'c'),\n  ('flesta', 'c'),\n  ('människor', 'c'),\n  ('vill', 'c'),\n  ('känna', 'c'),\n  ('ekonomisk', 'c'),\n  ('trygghet', 'c'),\n  (',', 'c'),\n  ('och', 'c'),\n  ('många', 'c'),\n  ('människor', 'c'),\n  ('strävar', 'c'),\n  ('dessutom', 'c'),\n  ('efter', 'c'),\n  ('materiell', 'c'),\n  ('rikedom', 'c'),\n  ('.', 'c')],\n [('Hur', 'c'), ('viktiga', 'c'), ('är', 'c'), ('kläderna', 'c'), ('?', 'c')],\n [('Det', 'c'),\n  ('kan', 'c'),\n  ('i', 'c'),\n  ('framtiden', 'c'),\n  ('bli', 'c'),\n  ('upp', 'c'),\n  ('till', 'c'),\n  ('tjänsteman', 'i'),\n  ('att', 'c'),\n  ('avgöra', 'c'),\n  ('vilket', 'c'),\n  ('han', 'i'),\n  ('svarar', 'c'),\n  ('på', 'c'),\n  ('.', 'c')],\n [('Matten', 'i'),\n  ('småkte', 'i'),\n  ('bra', 'c'),\n  ('och', 'c'),\n  ('personalen', 'c'),\n  ('var', 'c'),\n  ('fint', 'i'),\n  ('.', 'c')],\n [('1.11.1111', 'c')],\n [('Det', 'c'),\n  ('är', 'c'),\n  ('många', 'c'),\n  ('elever', 'c'),\n  ('som', 'c'),\n  ('lär', 'c'),\n  ('sig', 'c'),\n  ('mer', 'c'),\n  ('än', 'c'),\n  ('ett', 'c'),\n  ('språk', 'c'),\n  ('i', 'c'),\n  ('de', 'c'),\n  ('flesta', 'c'),\n  ('länderna', 'c'),\n  ('i', 'c'),\n  ('världen', 'c'),\n  ('inklusive', 'i'),\n  ('i', 'i'),\n  ('Sverige', 'c'),\n  ('.', 'c')],\n [('De', 'c'),\n  ('kommer', 'c'),\n  ('från', 'c'),\n  ('olika', 'c'),\n  ('länder', 'c'),\n  ('och', 'c'),\n  ('olika', 'c'),\n  ('kulturer', 'c'),\n  ('.', 'c')],\n [('Fru', 'c'),\n  ('Leti', 'c'),\n  ('sa', 'c'),\n  ('till', 'c'),\n  ('Alex', 'c'),\n  ('du', 'i'),\n  ('är', 'c'),\n  ('viktigast', 'c'),\n  ('för', 'c'),\n  ('mig', 'c'),\n  ('och', 'i'),\n  ('han', 'c'),\n  ('blir', 'i'),\n  ('glad', 'c'),\n  ('.', 'c')],\n [('Om', 'c'),\n  ('skattefusket', 'c'),\n  ('är', 'c'),\n  ('grovt', 'c'),\n  ('döms', 'c'),\n  ('ofta', 'c'),\n  ('(', 'c'),\n  ('85', 'c'),\n  ('%', 'c'),\n  (')', 'c'),\n  ('fuskaren', 'c'),\n  ('till', 'c'),\n  ('fängelse', 'c'),\n  ('(', 'c'),\n  ('Ekobrott', 'c'),\n  ('2019', 'c'),\n  (')', 'c'),\n  ('.', 'c')],\n [('Jag', 'c'), ('var', 'c'), ('19', 'c'), ('år', 'c'), ('.', 'c')],\n [('För', 'c'),\n  ('det', 'i'),\n  ('kan', 'c'),\n  ('du', 'c'),\n  ('bjuda', 'c'),\n  ('de', 'i'),\n  ('på', 'i'),\n  ('hemma', 'i'),\n  ('.', 'c')],\n [('Varje', 'c'),\n  ('dag', 'c'),\n  ('går', 'c'),\n  ('många', 'c'),\n  ('till', 'c'),\n  ('jobbet', 'c'),\n  ('för', 'c'),\n  ('att', 'c'),\n  ('tjäna', 'c'),\n  ('pengar', 'c'),\n  ('.', 'c')],\n [('En', 'c'),\n  ('bra', 'c'),\n  ('social', 'c'),\n  ('status', 'c'),\n  ('hjälper', 'c'),\n  ('att', 'i'),\n  ('anpassa', 'c'),\n  ('sig', 'c'),\n  ('till', 'c'),\n  ('samhället', 'c'),\n  (',', 'c'),\n  ('och', 'c'),\n  ('med', 'i'),\n  ('en', 'c'),\n  ('bra', 'c'),\n  ('utbildning', 'c'),\n  ('kan', 'c'),\n  ('hjälpa', 'c'),\n  ('man', 'i'),\n  ('att', 'c'),\n  ('få', 'c'),\n  ('ett', 'c'),\n  ('bra', 'c'),\n  ('arbete', 'c'),\n  ('.', 'c')],\n [('Till', 'c'),\n  ('exempel', 'c'),\n  (',', 'c'),\n  ('köper', 'i'),\n  ('några', 'c'),\n  ('vackra', 'c'),\n  ('blommor', 'c'),\n  ('till', 'c'),\n  ('honom', 'c'),\n  ('när', 'c'),\n  ('handlar', 'i'),\n  ('du', 'c'),\n  ('på', 'c'),\n  ('helgen', 'c'),\n  ('.', 'i')],\n [('De', 'c'),\n  ('pengarna', 'i'),\n  ('som', 'c'),\n  ('förloras', 'c'),\n  ('skulle', 'c'),\n  ('finansiera', 'i'),\n  ('offentliga', 'i'),\n  ('sektorns', 'c'),\n  ('verksamhet', 'c'),\n  ('som', 'i'),\n  ('till', 'c'),\n  ('exempel', 'c'),\n  ('sjukvård', 'c'),\n  ('eller', 'c'),\n  ('vägförbättring', 'i'),\n  ('/', 'c'),\n  ('infrastruktur', 'c'),\n  ('.', 'c')],\n [('Det', 'c'),\n  ('kan', 'c'),\n  ('visserligen', 'c'),\n  ('stämma', 'c'),\n  ('att', 'c'),\n  ('pengarna', 'c'),\n  ('erbjuder', 'c'),\n  ('ett', 'c'),\n  ('enklare', 'c'),\n  ('och', 'c'),\n  ('bättre', 'c'),\n  ('liv', 'c'),\n  ('men', 'c'),\n  ('jag', 'c'),\n  ('är', 'c'),\n  ('helt', 'c'),\n  ('och', 'c'),\n  ('hållet', 'c'),\n  ('emot', 'c'),\n  ('åsikten', 'c'),\n  ('att', 'c'),\n  ('de', 'c'),\n  ('faktiskt', 'c'),\n  ('gör', 'c'),\n  ('oss', 'c'),\n  ('lyckligare', 'c'),\n  ('.', 'c')],\n [('Jag', 'c'),\n  ('tror', 'c'),\n  ('att', 'c'),\n  ('brottslingen', 'c'),\n  ('måste', 'c'),\n  ('känner', 'i'),\n  ('sig', 'c'),\n  ('skyldig', 'c'),\n  (',', 'c'),\n  ('men', 'c'),\n  ('också', 'c'),\n  ('han', 'i'),\n  ('bör', 'c'),\n  ('veta', 'i'),\n  ('sitt', 'c'),\n  ('fel', 'c'),\n  (',', 'c'),\n  ('och', 'c'),\n  ('varför', 'c'),\n  ('det', 'c'),\n  ('är', 'c'),\n  ('fel', 'c'),\n  ('.', 'c')],\n [('Kläder', 'c'),\n  (',', 'c'),\n  ('smycken', 'c'),\n  ('och', 'c'),\n  ('frisyr', 'i'),\n  ('är', 'c'),\n  ('endast', 'c'),\n  ('en', 'i'),\n  ('nyck', 'i'),\n  ('som', 'c'),\n  ('inte', 'c'),\n  ('får', 'c'),\n  ('leda', 'c'),\n  ('till', 'c'),\n  ('en', 'c'),\n  ('risk', 'c'),\n  ('.', 'c')],\n [('Vi', 'c'),\n  ('var', 'c'),\n  ('flera', 'c'),\n  ('gånger', 'c'),\n  ('på', 'c'),\n  ('bio', 'c'),\n  ('och', 'c'),\n  ('vi', 'c'),\n  ('studerade', 'c'),\n  ('tillsamas', 'i'),\n  ('.', 'c')],\n [('gör', 'i'),\n  ('engelskan', 'c'),\n  ('till', 'c'),\n  ('ett', 'c'),\n  ('andra', 'c'),\n  ('officiellt', 'c'),\n  ('språk', 'c'),\n  ('i', 'c'),\n  ('Sverige', 'c'),\n  ('.', 'c')],\n [('Den', 'c'),\n  ('första', 'c'),\n  ('gången', 'i'),\n  ('av', 'c'),\n  ('rikstelefonnätet', 'c'),\n  ('var', 'c'),\n  ('färdig', 'c'),\n  ('på', 'i'),\n  ('1889', 'i'),\n  ('mellan', 'c'),\n  ('Stockholm', 'c'),\n  ('och', 'c'),\n  ('Göteborg', 'c'),\n  ('.', 'c')],\n [('Ovan', 'c'),\n  ('har', 'c'),\n  ('jag', 'c'),\n  ('beskrivit', 'c'),\n  ('hur', 'c'),\n  ('boken', 'c'),\n  ('När', 'c'),\n  ('Hundarna', 'i'),\n  ('Kommer', 'i'),\n  ('behandlar', 'c'),\n  ('temat', 'c'),\n  ('kärlek', 'c'),\n  (',', 'c'),\n  ('samt', 'c'),\n  ('hur', 'c'),\n  ('den', 'c'),\n  ('ger', 'c'),\n  ('oss', 'c'),\n  ('idén', 'c'),\n  ('om', 'c'),\n  ('att', 'c'),\n  ('kärlek', 'c'),\n  ('kan', 'c'),\n  ('vara', 'c'),\n  ('destruktiv', 'c'),\n  ('.', 'c')],\n [('Finns', 'c'),\n  ('det', 'c'),\n  ('någonting', 'c'),\n  ('vi', 'c'),\n  ('kan', 'c'),\n  ('göra', 'c'),\n  ('åt', 'c'),\n  ('saken', 'c'),\n  (',', 'c'),\n  ('ska', 'c'),\n  ('vi', 'c'),\n  ('ta', 'c'),\n  ('steget', 'c'),\n  ('eller', 'i'),\n  ('åtminstone', 'c'),\n  ('försöka', 'c'),\n  ('rädda', 'c'),\n  ('det', 'i'),\n  ('eller', 'c'),\n  ('ska', 'c'),\n  ('vi', 'c'),\n  ('ge', 'c'),\n  ('upp', 'c'),\n  ('?', 'c')],\n [('Han', 'c'),\n  ('sköt', 'c'),\n  ('de', 'c'),\n  ('flesta', 'c'),\n  ('människor', 'c'),\n  ('som', 'c'),\n  ('bad', 'c'),\n  ('i', 'c'),\n  ('moskén', 'c'),\n  ('med', 'c'),\n  ('automatvapen', 'c'),\n  ('och', 'c'),\n  ('dödade', 'c'),\n  ('dem', 'c'),\n  ('.', 'c')],\n [('Därför', 'c'),\n  ('det', 'c'),\n  ('kan', 'i'),\n  ('påverka', 'c'),\n  ('sämhellet', 'i'),\n  ('genom', 'c'),\n  ('att', 'c'),\n  ('alla', 'c'),\n  ('utlanningar', 'i'),\n  ('kommer', 'c'),\n  ('att', 'c'),\n  ('anpassa', 'c'),\n  ('sig', 'c'),\n  ('med', 'i'),\n  ('det', 'c'),\n  ('svenskt', 'i'),\n  ('sämhelle', 'i'),\n  ('på', 'c'),\n  ('ett', 'i'),\n  ('väldigt', 'c'),\n  ('kort', 'c'),\n  ('period', 'i'),\n  ('.', 'c')],\n [('Rösträtten', 'c'),\n  ('kan', 'c'),\n  ('skapa', 'c'),\n  ('en', 'c'),\n  ('tillhörighetskänsla', 'c'),\n  (',', 'c'),\n  ('att', 'c'),\n  ('ens', 'c'),\n  ('opinion', 'i'),\n  ('räknas', 'c'),\n  ('.', 'c')],\n [('Det', 'c'),\n  ('finn', 'i'),\n  ('många', 'c'),\n  ('affärer', 'c'),\n  ('överallt', 'c'),\n  ('och', 'c'),\n  ('jag', 'c'),\n  ('och', 'c'),\n  ('min', 'c'),\n  ('familj', 'c'),\n  ('har', 'c'),\n  ('nära', 'c'),\n  ('buss', 'c'),\n  (',', 'c'),\n  ('pendeltåg', 'c'),\n  ('och', 'c'),\n  ('Skogsvägen', 'i'),\n  ('tunnelbanan', 'i'),\n  ('.', 'c')],\n [('Därför', 'c'),\n  ('bestämde', 'c'),\n  ('vi', 'c'),\n  ('att', 'c'),\n  ('flytta', 'c'),\n  ('till', 'c'),\n  ('ett', 'c'),\n  ('land', 'c'),\n  ('som', 'c'),\n  ('respekterar', 'c'),\n  ('dessa', 'c'),\n  ('utsatta', 'c'),\n  ('grupper', 'c'),\n  ('.', 'c')],\n [('Jag', 'c'),\n  ('är', 'c'),\n  ('47', 'c'),\n  ('år', 'c'),\n  ('gammal', 'c'),\n  ('.', 'c')],\n [('Kan', 'c'),\n  ('man', 'c'),\n  ('betala', 'c'),\n  ('årsskat', 'i'),\n  ('och', 'c'),\n  ('reperation', 'i'),\n  ('?', 'c')],\n [('Genom', 'c'),\n  ('samtal', 'c'),\n  ('kunde', 'c'),\n  ('man', 'c'),\n  ('enkelt', 'c'),\n  ('dela', 'c'),\n  ('tankar', 'c'),\n  ('och', 'c'),\n  ('erfarenheter', 'c'),\n  (',', 'i'),\n  ('vid', 'i'),\n  ('samtal', 'c'),\n  ('öga', 'c'),\n  ('mot', 'c'),\n  ('öga', 'c'),\n  ('utgjorde', 'c'),\n  ('också', 'c'),\n  ('kroppsspråket', 'c'),\n  ('en', 'c'),\n  ('viktig', 'c'),\n  ('del', 'c'),\n  ('för', 'c'),\n  ('att', 'c'),\n  ('understryka', 'c'),\n  ('det', 'c'),\n  ('som', 'c'),\n  ('sades', 'c'),\n  ('.', 'c')],\n [('Jag', 'c'), ('bo', 'i'), ('ein', 'i'), ('Lövsta', 'i'), ('.', 'c')],\n [('Dessutom', 'c'),\n  ('är', 'c'),\n  ('att', 'i'),\n  ('om', 'c'),\n  ('du', 'c'),\n  ('har', 'c'),\n  ('en', 'c'),\n  ('egen', 'c'),\n  ('bil', 'c'),\n  (',', 'c'),\n  ('måste', 'c'),\n  ('du', 'c'),\n  ('betala', 'c'),\n  ('olika', 'c'),\n  ('räckningar', 'i'),\n  ('till', 'i'),\n  ('exempel', 'c'),\n  (':', 'i'),\n  ('försäckring', 'i'),\n  ('bil', 'i'),\n  (',', 'c'),\n  ('parkering', 'i'),\n  ('avgift', 'i'),\n  ('och', 'c'),\n  ('underkökning', 'i'),\n  ('till', 'i'),\n  ('värje', 'i'),\n  ('år', 'c'),\n  ('som', 'c'),\n  ('används', 'i'),\n  ('mycket', 'c'),\n  ('pengar', 'c'),\n  ('!', 'c')],\n [('Men', 'c'),\n  ('tänk', 'c'),\n  ('sig', 'i'),\n  ('tillbaka', 'c'),\n  ('cirka', 'c'),\n  ('ett', 'c'),\n  ('hundra', 'c'),\n  ('år', 'c'),\n  (',', 'i'),\n  ('Hur', 'c'),\n  ('var', 'c'),\n  ('det', 'c'),\n  ('sociala', 'c'),\n  ('livet', 'c'),\n  ('då', 'c'),\n  ('?', 'c')],\n [('•', 'c'),\n  ('Kan', 'c'),\n  ('lycka', 'c'),\n  ('mätas', 'c'),\n  ('i', 'c'),\n  ('förhållande', 'c'),\n  ('till', 'c'),\n  ('landets', 'c'),\n  ('ekonomiska', 'c'),\n  ('/', 'c'),\n  ('ens', 'c'),\n  ('egen', 'c'),\n  ('framgång', 'c'),\n  ('?', 'c')],\n [('Nu', 'c'),\n  ('har', 'c'),\n  ('du', 'c'),\n  ('en', 'c'),\n  ('stor', 'c'),\n  ('chans', 'c'),\n  ('till', 'c'),\n  ('att', 'c'),\n  ('få', 'c'),\n  ('jobbet', 'c'),\n  ('men', 'c'),\n  ('bara', 'c'),\n  ('om', 'c'),\n  ('du', 'c'),\n  ('skulle', 'i'),\n  ('kunna', 'i'),\n  ('göra', 'c'),\n  ('ett', 'c'),\n  ('gott', 'c'),\n  ('intryck', 'c'),\n  ('på', 'c'),\n  ('anställningsintervjuen', 'i'),\n  ('.', 'c')],\n [('Flera', 'c'),\n  ('år', 'c'),\n  ('sen', 'i'),\n  ('borjade', 'i'),\n  ('vi', 'c'),\n  ('att', 'c'),\n  ('pråta', 'i'),\n  ('mer', 'c'),\n  ('med', 'c'),\n  ('varandra', 'c'),\n  ('och', 'c'),\n  ('det', 'i'),\n  ('var', 'i'),\n  ('en', 'i'),\n  ('dag', 'i'),\n  ('när', 'i'),\n  ('jag', 'c'),\n  ('fragade', 'i'),\n  ('hene', 'i'),\n  ('om', 'c'),\n  ('hon', 'c'),\n  ('vill', 'i'),\n  ('tar', 'i'),\n  ('ett', 'i'),\n  ('kaffe', 'c'),\n  ('eller', 'c'),\n  ('någonting', 'c'),\n  ('med', 'c'),\n  ('mig', 'c'),\n  ('.', 'c')],\n [('E8ET8', 'c')],\n [('Ett', 'c'),\n  ('exempel', 'c'),\n  ('är', 'c'),\n  ('om', 'i'),\n  ('du', 'c'),\n  ('har', 'c'),\n  ('en', 'c'),\n  ('jobb', 'i'),\n  ('intervju', 'i'),\n  ('så', 'c'),\n  ('visar', 'c'),\n  ('du', 'c'),\n  ('hur', 'c'),\n  ('professionell', 'c'),\n  ('du', 'c'),\n  ('är', 'c'),\n  ('med', 'c'),\n  ('dina', 'i'),\n  ('val', 'c'),\n  ('i', 'i'),\n  ('kläder', 'c'),\n  ('.', 'c')],\n [('Det', 'c'),\n  ('finns', 'c'),\n  ('många', 'c'),\n  ('lärare', 'c'),\n  ('som', 'c'),\n  ('kan', 'c'),\n  ('hjälpa', 'c'),\n  ('mig', 'c'),\n  ('och', 'c'),\n  ('min', 'i'),\n  ('klasskamerat', 'i'),\n  ('för', 'i'),\n  ('lära', 'i'),\n  ('oss', 'c'),\n  ('läsa', 'c'),\n  (',', 'i'),\n  ('skriva', 'i'),\n  ('.', 'c')],\n [('En', 'c'),\n  ('andra', 'i'),\n  ('fråga', 'c'),\n  ('i', 'c'),\n  ('den', 'c'),\n  ('här', 'c'),\n  ('uppgiften', 'c'),\n  ('är', 'c'),\n  ('vad', 'c'),\n  ('man', 'c'),\n  ('borde', 'c'),\n  ('göra', 'c'),\n  ('när', 'c'),\n  ('ens', 'c'),\n  ('egna', 'c'),\n  ('åsikter', 'c'),\n  ('om', 'c'),\n  ('käder', 'c'),\n  ('inte', 'c'),\n  ('stämmer', 'c'),\n  ('överens', 'c'),\n  ('med', 'c'),\n  ('omgivningens', 'c'),\n  ('.', 'c')],\n [('Jag', 'c'),\n  ('anmäll', 'i'),\n  ('redan', 'i'),\n  ('och', 'i'),\n  ('betade', 'i'),\n  ('avgiften', 'c'),\n  ('varje', 'c'),\n  ('månad', 'c'),\n  ('.', 'c')],\n [('Jag', 'c'),\n  ('har', 'c'),\n  ('många', 'c'),\n  ('tips', 'c'),\n  ('som', 'c'),\n  ('kan', 'c'),\n  ('hjälpa', 'c'),\n  ('dig', 'c'),\n  ('till', 'i'),\n  ('eempl', 'i'),\n  (',', 'i'),\n  ('prova', 'i'),\n  ('att', 'c'),\n  ('åka', 'c'),\n  ('till', 'c'),\n  ('biblotaket', 'i'),\n  ('där', 'i'),\n  ('kan', 'c'),\n  ('du', 'c'),\n  ('läsa', 'c'),\n  ('böcker', 'c'),\n  ('med', 'c'),\n  ('andra', 'c'),\n  ('människor', 'c'),\n  ('som', 'c'),\n  ('också', 'c'),\n  ('intresserad', 'i'),\n  ('av', 'c'),\n  ('böcker', 'c'),\n  ('samma', 'i'),\n  ('dig', 'i'),\n  ('.', 'c')],\n [('i', 'i'),\n  ('1879', 'c'),\n  ('ansikte', 'i'),\n  ('mot', 'i'),\n  ('ansikte', 'i'),\n  ('kommunikation', 'i'),\n  ('och', 'c'),\n  ('inom', 'c'),\n  ('Stockholm', 'c'),\n  ('till', 'c'),\n  ('exempel', 'c'),\n  ('gick', 'i'),\n  ('fem', 'c'),\n  ('postturer', 'c'),\n  ('om', 'c'),\n  ('dagen', 'c'),\n  ('och', 'c'),\n  ('skicka', 'i'),\n  ('bud', 'c'),\n  ('.', 'c')],\n [('Samt', 'i'),\n  ('hur', 'i'),\n  ('kärlek', 'c'),\n  ('upphör', 'c'),\n  ('aldrig', 'i'),\n  ('och', 'c'),\n  ('är', 'c'),\n  ('alltid', 'i'),\n  ('där', 'c'),\n  (',', 'c'),\n  ('medan', 'c'),\n  ('förälskelse', 'c'),\n  ('är', 'c'),\n  ('något', 'c'),\n  ('tillfälligt', 'c'),\n  ('.', 'c')],\n [('Vi', 'c'), ('var', 'c'), ('inte', 'c'), ('ensam', 'i'), ('.', 'c')],\n [('Barn', 'c'),\n  ('ska', 'c'),\n  ('få', 'c'),\n  ('vara', 'c'),\n  ('barn', 'c'),\n  ('och', 'c'),\n  ('balansen', 'c'),\n  ('mellan', 'c'),\n  ('lek', 'c'),\n  ('och', 'c'),\n  ('de', 'c'),\n  ('större', 'c'),\n  ('samhällsfrågorna', 'c'),\n  ('ska', 'c'),\n  ('vara', 'c'),\n  ('rätt', 'c'),\n  ('.', 'c')],\n [('Detta', 'c'),\n  ('försökte', 'c'),\n  ('August', 'c'),\n  ('Strindberg', 'c'),\n  ('och', 'c'),\n  ('Astrid', 'c'),\n  ('Lindgren', 'c'),\n  ('visa', 'c'),\n  ('i', 'c'),\n  ('sina', 'c'),\n  ('texter', 'c'),\n  ('genom', 'c'),\n  ('att', 'c'),\n  ('beskriva', 'c'),\n  ('Johans', 'c'),\n  ('och', 'c'),\n  ('Astrids', 'c'),\n  ('uppfostran', 'c'),\n  ('som', 'c'),\n  ('var', 'c'),\n  ('helt', 'c'),\n  ('och', 'c'),\n  ('hållet', 'c'),\n  ('motsatta', 'c'),\n  ('.', 'c')],\n [('Rösträtten', 'c'),\n  (',', 'c'),\n  ('tillsammans', 'c'),\n  ('med', 'c'),\n  ('friheten', 'c'),\n  ('att', 'c'),\n  ('starta', 'c'),\n  ('ett', 'c'),\n  ('politiskt', 'c'),\n  ('parti', 'c'),\n  (',', 'c'),\n  ('är', 'c'),\n  ('grundpelaren', 'c'),\n  ('till', 'c'),\n  ('vår', 'c'),\n  ('demokrati', 'c'),\n  ('.', 'c')],\n [('Att', 'i'),\n  ('kläder', 'i'),\n  (',', 'i'),\n  ('frisyr', 'i'),\n  ('eller', 'i'),\n  ('smycken', 'i'),\n  ('är', 'i'),\n  ('inte', 'i'),\n  ('så', 'i'),\n  ('viktiga', 'i'),\n  ('tycker', 'c'),\n  ('jag', 'i'),\n  ('.', 'c')],\n [('Vi', 'c'),\n  ('kom', 'c'),\n  ('till', 'c'),\n  ('annan', 'i'),\n  ('land', 'c'),\n  ('för', 'c'),\n  ('att', 'c'),\n  ('få', 'c'),\n  ('frihet', 'c'),\n  ('och', 'c'),\n  ('rädda', 'c'),\n  ('sitt', 'i'),\n  ('liv', 'c'),\n  ('och', 'c'),\n  ('rädda', 'c'),\n  ('mina', 'c'),\n  ('barn', 'c'),\n  ('.', 'c')],\n [('Jag', 'c'),\n  ('ska', 'c'),\n  ('brätta', 'i'),\n  ('om', 'c'),\n  ('när', 'c'),\n  ('jag', 'c'),\n  ('flyttade', 'c'),\n  ('till', 'c'),\n  ('Sverige', 'c'),\n  ('för', 'i'),\n  ('att', 'i'),\n  ('flykting', 'c'),\n  ('.', 'c')],\n [('Han', 'c'),\n  ('säger', 'c'),\n  ('även', 'c'),\n  ('att', 'c'),\n  ('sannfinländarnas', 'c'),\n  ('kritik', 'c'),\n  ('mot', 'c'),\n  ('tvångssvenskan', 'c'),\n  ('har', 'c'),\n  ('inte', 'i'),\n  ('varit', 'c'),\n  ('så', 'c'),\n  ('framgångsrik', 'c'),\n  ('men', 'i'),\n  ('på', 'c'),\n  ('debattsidor', 'c'),\n  ('debatterar', 'c'),\n  ('de', 'c'),\n  ('oftast', 'c'),\n  ('språkfrågan', 'c'),\n  ('eftersom', 'c'),\n  ('dem', 'i'),\n  ('inte', 'c'),\n  ('hittar', 'i'),\n  ('på', 'c'),\n  ('något', 'c'),\n  ('annat', 'c'),\n  ('att', 'c'),\n  ('diskutera', 'c'),\n  ('om', 'i'),\n  ('.', 'c')],\n [('Nu', 'c'),\n  ('ska', 'c'),\n  ('jag', 'c'),\n  ('berätta', 'c'),\n  ('om', 'c'),\n  ('för', 'i'),\n  ('att', 'i'),\n  ('bibleoteket', 'i'),\n  ('är', 'c'),\n  ('bäst', 'i'),\n  ('plats', 'i'),\n  ('för', 'c'),\n  ('mig', 'c'),\n  ('.', 'c')],\n [('Det', 'c'),\n  ('som', 'c'),\n  ('litteraturer', 'i'),\n  ('kan', 'c'),\n  ('lära', 'c'),\n  ('oss', 'c'),\n  ('om', 'c'),\n  ('livet', 'c'),\n  ('är', 'c'),\n  ('att', 'c'),\n  ('det', 'c'),\n  ('är', 'c'),\n  ('inte', 'c'),\n  ('värt', 'c'),\n  ('att', 'c'),\n  ('offra', 'c'),\n  ('sitt', 'c'),\n  ('liv', 'c'),\n  ('och', 'c'),\n  ('att', 'c'),\n  ('förlora', 'c'),\n  ('sina', 'c'),\n  ('nära', 'c'),\n  ('vänner', 'c'),\n  ('och', 'c'),\n  ('familjen', 'c'),\n  ('på', 'c'),\n  ('grund', 'c'),\n  ('av', 'c'),\n  ('gamla', 'c'),\n  ('traditioner', 'c'),\n  ('som', 'c'),\n  ('ger', 'i'),\n  ('oss', 'c'),\n  ('ingenting', 'i'),\n  ('i', 'c'),\n  ('livet', 'c'),\n  ('.', 'c')],\n [('Mitt', 'c'),\n  ('namn', 'c'),\n  ('är', 'c'),\n  ('och', 'c'),\n  ('jag', 'c'),\n  ('studerar', 'c'),\n  ('på', 'c'),\n  ('D-kursen', 'c'),\n  ('på', 'c'),\n  ('SFI', 'c'),\n  ('.', 'c')],\n [('Många', 'c'),\n  ('kritiserar', 'c'),\n  ('detta', 'c'),\n  ('system', 'c'),\n  ('och', 'c'),\n  ('vill', 'c'),\n  ('avskaffa', 'c'),\n  ('\\\\\"', 'c'),\n  ('tvångsvenskan', 'i'),\n  ('\\\\\"', 'c'),\n  ('i', 'c'),\n  ('finska', 'c'),\n  ('skolor', 'c'),\n  ('.', 'c')],\n [('På', 'i'),\n  ('2012', 'c'),\n  ('existerade', 'i'),\n  ('3,3', 'c'),\n  ('miljoner', 'c'),\n  ('moderna', 'c'),\n  ('telefoner', 'c'),\n  ('i', 'c'),\n  ('industri', 'i'),\n  ('i', 'c'),\n  ('Sverige', 'c'),\n  ('.', 'c')],\n [('Den', 'c'),\n  ('här', 'c'),\n  ('frågan', 'c'),\n  ('tänkte', 'i'),\n  ('jag', 'c'),\n  ('mycket', 'c'),\n  ('på', 'c'),\n  ('när', 'c'),\n  ('jag', 'c'),\n  ('använder', 'c'),\n  ('mobilen', 'c'),\n  ('eller', 'c'),\n  ('sitter', 'c'),\n  ('och', 'c'),\n  ('tittar', 'c'),\n  ('på', 'c'),\n  ('Tv:n', 'i'),\n  ('.', 'c')],\n [('Jag', 'c'),\n  ('vet', 'c'),\n  ('att', 'c'),\n  ('bilen', 'c'),\n  ('är', 'c'),\n  ('farlig', 'c'),\n  ('för', 'c'),\n  ('miljön', 'c'),\n  ('men', 'c'),\n  ('det', 'c'),\n  ('finns', 'c'),\n  ('fler', 'c'),\n  ('fördelar', 'c'),\n  ('.', 'c')],\n [('Det', 'c'),\n  ('är', 'c'),\n  ('jätte', 'i'),\n  ('stort', 'i'),\n  ('samt', 'i'),\n  ('det', 'c'),\n  ('finns', 'c'),\n  ('ett', 'c'),\n  ('kafè', 'i'),\n  ('där', 'c'),\n  ('som', 'i'),\n  ('man', 'c'),\n  ('kan', 'c'),\n  ('fika', 'c'),\n  ('och', 'c'),\n  ('villa', 'i'),\n  ('.', 'c')],\n [('Huvudsaken', 'c'),\n  ('för', 'i'),\n  ('min', 'i'),\n  ('del', 'i'),\n  ('är', 'c'),\n  ('att', 'c'),\n  ('kläderna', 'c'),\n  ('ska', 'c'),\n  ('vara', 'c'),\n  ('nyttiga', 'i'),\n  ('mer', 'i'),\n  ('än', 'c'),\n  ('att', 'c'),\n  ('de', 'c'),\n  ('ska', 'c'),\n  ('vara', 'c'),\n  ('snygga', 'c'),\n  ('eller', 'c'),\n  ('trendiga', 'c'),\n  ('.', 'c')],\n [('Här', 'c'),\n  ('vi', 'c'),\n  ('kan', 'i'),\n  ('träffas', 'c'),\n  ('båda', 'i'),\n  ('invändrare', 'i'),\n  ('och', 'c'),\n  ('svenska', 'c'),\n  ('mäniskor', 'i'),\n  (',', 'c'),\n  ('vi', 'c'),\n  ('kan', 'c'),\n  ('prata', 'c'),\n  ('och', 'c'),\n  ('träna', 'c'),\n  ('svenska', 'c'),\n  ('språket', 'c'),\n  ('med', 'c'),\n  ('äldre', 'c'),\n  ('personen', 'i'),\n  ('som', 'c'),\n  ('gillar', 'c'),\n  ('att', 'c'),\n  ('hjälpa', 'c'),\n  ('invändra', 'i'),\n  ('som', 'c'),\n  ('behöver', 'c'),\n  ('lära', 'c'),\n  ('sig', 'c'),\n  ('svenska', 'c'),\n  ('.', 'c')],\n [('Nu', 'c'),\n  ('förstor', 'i'),\n  ('jag', 'c'),\n  ('att', 'c'),\n  ('hem', 'c'),\n  ('inte', 'c'),\n  ('är', 'c'),\n  ('bara', 'i'),\n  ('plats', 'i'),\n  ('men', 'i'),\n  ('det', 'c'),\n  ('är', 'c'),\n  ('en', 'c'),\n  ('känsla', 'c'),\n  ('som', 'c'),\n  ('man', 'c'),\n  ('bara', 'c'),\n  ('känner', 'c'),\n  ('när', 'c'),\n  ('man', 'c'),\n  ('är', 'c'),\n  ('med', 'c'),\n  ('kära', 'c'),\n  ('människor', 'c'),\n  ('då', 'i'),\n  ('man', 'c'),\n  ('kan', 'i'),\n  ('känna', 'c'),\n  ('sig', 'c'),\n  ('trygg', 'c'),\n  ('och', 'c'),\n  ('lycklig', 'c'),\n  ('!', 'c')],\n [('Det', 'c'),\n  ('första', 'c'),\n  ('i', 'i'),\n  ('alla', 'c'),\n  ('fall', 'c'),\n  ('jag', 'c'),\n  ('lägger', 'c'),\n  ('märke', 'c'),\n  ('till', 'c'),\n  ('när', 'c'),\n  ('jag', 'c'),\n  ('träffar', 'c'),\n  ('en', 'c'),\n  ('annan', 'i'),\n  ('ny', 'c'),\n  ('person', 'c'),\n  ('är', 'c'),\n  ('vad', 'c'),\n  ('den', 'c'),\n  ('har', 'c'),\n  ('på', 'c'),\n  ('sig', 'c'),\n  ('.', 'c')],\n [('När', 'c'),\n  ('vi', 'c'),\n  ('är', 'c'),\n  ('barn', 'c'),\n  (',', 'c'),\n  ('vi', 'c'),\n  ('tänker', 'i'),\n  ('inte', 'c'),\n  ('så', 'c'),\n  ('mycket', 'c'),\n  ('på', 'c'),\n  ('pengar', 'c'),\n  ('.', 'c')],\n [('Slutligen', 'c'),\n  ('skulle', 'c'),\n  ('svaret', 'c'),\n  ('på', 'c'),\n  ('frågan', 'c'),\n  ('\\\\\"', 'c'),\n  ('Vilka', 'c'),\n  ('konsekvenser', 'c'),\n  ('skulle', 'c'),\n  ('det', 'c'),\n  ('få', 'c'),\n  ('om', 'c'),\n  ('undervisningen', 'c'),\n  ('i', 'c'),\n  ('svenska', 'c'),\n  ('blev', 'c'),\n  ('frivillig', 'c'),\n  ('\\\\\"', 'c'),\n  ('vara', 'c'),\n  ('både', 'c'),\n  ('bra', 'c'),\n  ('och', 'c'),\n  ('dålig', 'i'),\n  ('.', 'c')],\n [('Det', 'c'),\n  ('finns', 'c'),\n  ('i', 'i'),\n  ('sin', 'i'),\n  ('tur', 'i'),\n  ('sådana', 'c'),\n  ('ungdumar', 'i'),\n  ('som', 'c'),\n  ('förmodligen', 'c'),\n  ('tycker', 'c'),\n  ('att', 'c'),\n  ('valdeltagning', 'i'),\n  ('är', 'c'),\n  ('något', 'i'),\n  ('roligt', 'c'),\n  ('spel', 'c'),\n  ('som', 'c'),\n  ('kan', 'c'),\n  ('antagligen', 'i'),\n  ('hjälpa', 'c'),\n  ('dem', 'c'),\n  ('att', 'c'),\n  ('känna', 'c'),\n  ('sig', 'c'),\n  ('vuxna', 'c'),\n  ('.', 'c')],\n [('Ett', 'i'),\n  ('verk', 'c'),\n  ('som', 'c'),\n  ('tar', 'c'),\n  ('upp', 'c'),\n  ('detta', 'c'),\n  ('tema', 'c'),\n  ('är', 'c'),\n  ('filmen', 'c'),\n  ('Modig', 'c'),\n  ('.', 'c')],\n [('Jag', 'c'),\n  ('satt', 'c'),\n  ('där', 'c'),\n  ('ensam', 'c'),\n  ('och', 'c'),\n  ('läste', 'c'),\n  ('min', 'c'),\n  ('lärobok', 'c'),\n  ('.', 'c')],\n [('kanske', 'i'),\n  ('handlar', 'c'),\n  ('det', 'c'),\n  ('om', 'c'),\n  ('godhet', 'c'),\n  ('och', 'c'),\n  ('ondska', 'c'),\n  (',', 'c'),\n  ('kanske', 'c'),\n  ('om', 'c'),\n  ('svartsjuka', 'c'),\n  ('och', 'c'),\n  ('hämnd', 'c'),\n  ('eller', 'c'),\n  ('kanske', 'c'),\n  ('handlar', 'c'),\n  ('det', 'c'),\n  ('om', 'c'),\n  ('relationer', 'c'),\n  ('?', 'c')],\n [('Enligt', 'c'),\n  ('Ungdomsbarometerns', 'c'),\n  ('undersökningar', 'c'),\n  ('från', 'c'),\n  ('2000', 'c'),\n  ('till', 'c'),\n  ('2016', 'c'),\n  ('stiger', 'c'),\n  ('andelen', 'c'),\n  ('15-24', 'i'),\n  ('åringar', 'i'),\n  ('som', 'c'),\n  ('angett', 'c'),\n  ('stort', 'c'),\n  ('intresse', 'c'),\n  ('för', 'c'),\n  ('inrikes-', 'c'),\n  ('/', 'i'),\n  ('utrikes', 'i'),\n  ('politik', 'i'),\n  ('/', 'i'),\n  ('samhällsutveckling', 'i'),\n  ('samtidigt', 'c'),\n  ('som', 'c'),\n  ('valdeltagandet', 'c'),\n  ('i', 'c'),\n  ('riksdagsval', 'c'),\n  ('bland', 'c'),\n  ('18-24', 'i'),\n  ('åringar', 'i'),\n  ('ökar', 'c'),\n  ('.', 'c')],\n [('Många', 'c'),\n  ('anser', 'c'),\n  ('att', 'c'),\n  ('betala', 'i'),\n  ('svart', 'i'),\n  ('för', 'i'),\n  ('en', 'i'),\n  ('tjänst', 'i'),\n  ('är', 'i'),\n  ('ett', 'c'),\n  ('stort', 'c'),\n  ('problem', 'c'),\n  ('i', 'c'),\n  ('samhället', 'c'),\n  ('medan', 'i'),\n  ('andra', 'c'),\n  ('anser', 'c'),\n  ('att', 'c'),\n  ('betala', 'i'),\n  ('svart', 'i'),\n  ('för', 'i'),\n  ('en', 'i'),\n  ('tjänst', 'i'),\n  ('kan', 'i'),\n  ('lösa', 'c'),\n  ('många', 'c'),\n  ('av', 'i'),\n  ('problem', 'c'),\n  ('i', 'c'),\n  ('samhället', 'c'),\n  ('.', 'c')],\n [('Det', 'c'),\n  ('är', 'c'),\n  ('ett', 'c'),\n  ('brännande', 'c'),\n  ('ämne', 'c'),\n  ('när', 'c'),\n  ('det', 'c'),\n  ('gäller', 'c'),\n  ('politiken', 'c'),\n  ('eller', 'c'),\n  ('politiska', 'i'),\n  ('situation', 'i'),\n  ('i', 'c'),\n  ('ett', 'c'),\n  ('land', 'c'),\n  ('.', 'c')],\n [('På', 'c'),\n  ('så', 'c'),\n  ('sätt', 'c'),\n  ('bidrar', 'c'),\n  ('språket', 'c'),\n  ('till', 'c'),\n  ('att', 'c'),\n  ('individen', 'c'),\n  ('skall', 'c'),\n  ('kunna', 'c'),\n  ('skapa', 'c'),\n  ('sin', 'c'),\n  ('identitet', 'c'),\n  ('.', 'c')],\n [('Jag', 'c'),\n  ('förstår', 'c'),\n  ('presic', 'i'),\n  ('vad', 'c'),\n  ('du', 'c'),\n  ('känner', 'c'),\n  ('men', 'c'),\n  ('tror', 'i'),\n  ('mig', 'c'),\n  ('att', 'i'),\n  ('din', 'i'),\n  ('hård', 'i'),\n  ('tid', 'c'),\n  ('kommer', 'c'),\n  ('att', 'c'),\n  ('försvinna', 'c'),\n  ('efter', 'c'),\n  ('jatte', 'i'),\n  ('kort', 'i'),\n  ('tid', 'c'),\n  ('.', 'c')],\n [('Hej', 'c'), ('!', 'c')],\n [('Jag', 'c'),\n  ('brukar', 'c'),\n  ('säga', 'c'),\n  ('till', 'c'),\n  ('mina', 'c'),\n  ('kompisar', 'c'),\n  ('att', 'c'),\n  ('kärlek', 'c'),\n  ('kan', 'c'),\n  ('vara', 'c'),\n  ('bra', 'c'),\n  ('och', 'c'),\n  ('farlig', 'c'),\n  ('.', 'c')],\n [('Världen', 'i'),\n  ('där', 'c'),\n  ('människor', 'c'),\n  ('springer', 'c'),\n  ('bara', 'i'),\n  ('för', 'i'),\n  ('pengar', 'c'),\n  ('är', 'c'),\n  ('bedrövad', 'i'),\n  ('.', 'c')],\n [('Det', 'c'),\n  ('var', 'c'),\n  ('ganska', 'c'),\n  ('svårt', 'c'),\n  ('i', 'i'),\n  ('första', 'i'),\n  ('men', 'c'),\n  ('jag', 'c'),\n  ('är', 'c'),\n  ('var', 'i'),\n  ('och', 'c'),\n  ('lärde', 'c'),\n  ('mig', 'c'),\n  ('själv', 'c'),\n  ('hur', 'c'),\n  ('man', 'c'),\n  ('bor', 'c'),\n  ('och', 'c'),\n  ('anpassar', 'c'),\n  ('mig', 'i'),\n  ('i', 'c'),\n  ('ett', 'c'),\n  ('nytt', 'c'),\n  ('land', 'c'),\n  ('.', 'c')],\n [('Till', 'c'),\n  ('sist', 'c'),\n  ('eleverna', 'c'),\n  ('behöver', 'i'),\n  ('att', 'i'),\n  ('hjälpa', 'c'),\n  ('varandra', 'c'),\n  ('att', 'c'),\n  ('staduran', 'i'),\n  ('språket', 'c'),\n  ('och', 'c'),\n  ('lindra', 'c'),\n  ('stres', 'i'),\n  ('.', 'c')],\n [('På', 'i'),\n  ('alla', 'c'),\n  ('har', 'i'),\n  ('begränsa', 'i'),\n  ('och', 'c'),\n  ('villkollor', 'i'),\n  (',', 'c'),\n  ('eller', 'c'),\n  ('hur', 'c'),\n  ('?', 'c')],\n [('Komvux', 'c')],\n [('Det', 'c'),\n  ('är', 'c'),\n  ('nönvändigt', 'i'),\n  ('att', 'c'),\n  ('ha', 'c'),\n  ('en', 'c'),\n  ('plats', 'c'),\n  ('som', 'c'),\n  ('kan', 'c'),\n  ('påverka', 'c'),\n  ('dig', 'c'),\n  ('i', 'i'),\n  ('positiv', 'i'),\n  ('sätt', 'c'),\n  (',', 'c'),\n  ('för', 'c'),\n  ('att', 'c'),\n  ('om', 'c'),\n  ('du', 'c'),\n  ('känner', 'i'),\n  ('bra', 'c'),\n  (',', 'i'),\n  ('kan', 'c'),\n  ('du', 'c'),\n  ('gå', 'c'),\n  ('vidare', 'c'),\n  ('och', 'c'),\n  ('lyckas', 'c'),\n  ('i', 'i'),\n  ('saker', 'c'),\n  ('som', 'c'),\n  ('du', 'c'),\n  ('har', 'c'),\n  ('sätt', 'i'),\n  ('som', 'i'),\n  ('målet', 'i'),\n  ('.', 'c')],\n [('Det', 'c'),\n  ('borde', 'c'),\n  ('innebära', 'c'),\n  ('att', 'c'),\n  ('man', 'c'),\n  ('inte', 'c'),\n  ('når', 'i'),\n  ('ett', 'c'),\n  ('visst', 'c'),\n  ('tankesätt', 'c'),\n  ('och', 'c'),\n  ('mogenhet', 'i'),\n  ('som', 'c'),\n  ('kanske', 'c'),\n  ('skulle', 'c'),\n  ('ha', 'c'),\n  ('en', 'c'),\n  ('stor', 'c'),\n  ('betydelse', 'c'),\n  ('för', 'c'),\n  ('beslut', 'c'),\n  ('man', 'c'),\n  ('tar', 'c'),\n  ('.', 'c')],\n [('Hon', 'c'),\n  ('är', 'c'),\n  ('45', 'c'),\n  ('år', 'c'),\n  ('nu', 'c'),\n  ('och', 'c'),\n  ('har', 'c'),\n  ('varit', 'c'),\n  ('anmält', 'i'),\n  ('i', 'c'),\n  ('kö', 'i'),\n  ('för', 'i'),\n  ('fyra', 'c'),\n  ('års', 'i'),\n  ('nu', 'i'),\n  ('för', 'c'),\n  ('att', 'c'),\n  ('adobtera', 'i'),\n  ('en', 'c'),\n  ('liten', 'c'),\n  ('unge', 'c'),\n  ('från', 'c'),\n  ('Kina', 'c'),\n  ('.', 'c')],\n [('E6ET9', 'c')],\n [('Hör', 'c'),\n  ('av', 'c'),\n  ('dig', 'c'),\n  ('och', 'c'),\n  ('ha', 'c'),\n  ('det', 'c'),\n  ('fint', 'c'),\n  ('!', 'c')],\n [('Efter', 'c'),\n  ('att', 'c'),\n  ('alla', 'c'),\n  ('kastat', 'c'),\n  ('skulden', 'c'),\n  ('på', 'c'),\n  ('honom', 'c'),\n  ('gällande', 'i'),\n  ('faderns', 'c'),\n  ('hjärtattack', 'c'),\n  ('och', 'c'),\n  ('efter', 'c'),\n  ('att', 'c'),\n  ('ha', 'c'),\n  ('blivit', 'c'),\n  ('utesluten', 'c'),\n  ('från', 'c'),\n  ('familjen', 'c'),\n  (',', 'c'),\n  ('går', 'c'),\n  ('han', 'c'),\n  ('med', 'c'),\n  ('att', 'i'),\n  ('gifta', 'c'),\n  ('sig', 'c'),\n  ('i', 'c'),\n  ('hopp', 'c'),\n  ('om', 'c'),\n  ('att', 'c'),\n  ('reparera', 'c'),\n  ('alla', 'c'),\n  ('relationer', 'c'),\n  ('och', 'c'),\n  ('behaga', 'c'),\n  ('faderns', 'c'),\n  ('önskningar', 'c'),\n  ('.', 'c')],\n [('I', 'i'),\n  ('det', 'i'),\n  ('första', 'c'),\n  ('litterära', 'c'),\n  ('verket', 'c'),\n  ('\\\\\"', 'c'),\n  ('Modig', 'c'),\n  ('\\\\\"', 'c'),\n  ('handlar', 'i'),\n  ('filmen', 'i'),\n  ('om', 'c'),\n  ('en', 'c'),\n  ('prinsessa', 'c'),\n  ('som', 'c'),\n  ('inte', 'c'),\n  ('vill', 'c'),\n  ('lyssna', 'c'),\n  ('på', 'c'),\n  ('sin', 'c'),\n  ('mamma', 'c'),\n  ('som', 'c'),\n  ('tvingar', 'c'),\n  ('henne', 'c'),\n  ('att', 'c'),\n  ('gifta', 'c'),\n  ('sig', 'c'),\n  ('enligt', 'c'),\n  ('traditionen', 'c'),\n  ('vilket', 'i'),\n  ('leder', 'c'),\n  ('till', 'c'),\n  ('att', 'c'),\n  ('mamman', 'c'),\n  ('förvandlas', 'c'),\n  ('till', 'c'),\n  ('en', 'c'),\n  ('björn', 'c'),\n  ('och', 'i'),\n  ('endast', 'c'),\n  ('förståelse', 'c'),\n  ('för', 'c'),\n  ('varandra', 'c'),\n  ('som', 'i'),\n  ('kan', 'c'),\n  ('brytas', 'i'),\n  ('av', 'i'),\n  ('förvandlingen', 'c'),\n  ('.', 'c')],\n [('Det', 'i'),\n  ('var', 'i'),\n  ('äntligen', 'i'),\n  ('att', 'i'),\n  ('han', 'i'),\n  ('kunde', 'i'),\n  ('få', 'c'),\n  ('gå', 'c'),\n  ('på', 'c'),\n  ('planet', 'c'),\n  ('.', 'c')],\n [('Dessutom', 'c'),\n  ('tror', 'c'),\n  ('jag', 'c'),\n  ('att', 'c'),\n  ('om', 'c'),\n  ('ni', 'c'),\n  ('renovelar', 'i'),\n  ('den', 'c'),\n  ('här', 'c'),\n  ('platsen', 'c'),\n  ('då', 'i'),\n  ('kan', 'c'),\n  ('det', 'c'),\n  ('vara', 'i'),\n  ('en', 'c'),\n  ('fin', 'i'),\n  ('plats', 'c'),\n  ('än', 'c'),\n  ('det', 'c'),\n  ('var', 'i'),\n  ('förut', 'i'),\n  ('och', 'i'),\n  ('människor', 'c'),\n  ('som', 'c'),\n  ('har', 'c'),\n  ('familjen', 'i'),\n  ('ska', 'i'),\n  ('betala', 'i'),\n  ('mycket', 'c'),\n  ('för', 'c'),\n  ('det', 'c'),\n  ('eftersom', 'i'),\n  ('att', 'i'),\n  ('jag', 'c'),\n  ('är', 'c'),\n  ('säkert', 'i'),\n  ('att', 'i'),\n  ('de', 'c'),\n  ('gillar', 'c'),\n  ('den', 'c'),\n  ('och', 'i'),\n  ('vill', 'c'),\n  ('att', 'c'),\n  ('Linsbiblioteket', 'c'),\n  ('ska', 'c'),\n  ('vara', 'c'),\n  ('kvar', 'c'),\n  ('.', 'c')],\n [('Till', 'c'),\n  ('slut', 'c'),\n  ('hoppas', 'c'),\n  ('jag', 'c'),\n  ('att', 'c'),\n  ('regeringen', 'c'),\n  ('ska', 'i'),\n  ('tänka', 'i'),\n  ('på', 'c'),\n  ('att', 'c'),\n  ('rätt', 'c'),\n  ('ska', 'c'),\n  ('vara', 'c'),\n  ('rätt', 'c'),\n  ('ingen', 'i'),\n  ('diskriminering', 'c'),\n  ('!', 'c')],\n [('Kram', 'c')],\n [('I', 'c'),\n  ('familjen', 'c'),\n  ('kan', 'c'),\n  ('ingå', 'c'),\n  ('två', 'c'),\n  (',', 'c'),\n  ('tre', 'c'),\n  ('eller', 'c'),\n  ('hur', 'c'),\n  ('många', 'c'),\n  ('personer', 'c'),\n  ('som', 'c'),\n  ('helst', 'c'),\n  ('.', 'c')],\n [('För', 'c'),\n  ('det', 'c'),\n  ('första', 'c'),\n  ('vill', 'c'),\n  ('jag', 'c'),\n  ('säga', 'c'),\n  ('att', 'c'),\n  ('biblioteket', 'c'),\n  ('är', 'c'),\n  ('mycket', 'c'),\n  ('viktigt', 'c'),\n  ('för', 'c'),\n  ('att', 'c'),\n  ('vi', 'c'),\n  ('som', 'c'),\n  ('elever', 'c'),\n  ('brukar', 'c'),\n  ('alltid', 'c'),\n  ('gå', 'c'),\n  ('med', 'i'),\n  ('mina', 'i'),\n  ('vänner', 'c'),\n  ('för', 'c'),\n  ('att', 'c'),\n  ('låna', 'c'),\n  ('och', 'c'),\n  ('läsa', 'c'),\n  ('böcker', 'c'),\n  ('eller', 'c'),\n  ('göra', 'c'),\n  ('våra', 'c'),\n  ('läxor', 'c'),\n  ('.', 'c')],\n [('Slutligen', 'c'),\n  ('vill', 'c'),\n  ('jag', 'c'),\n  ('säga', 'c'),\n  ('att', 'c'),\n  ('vi', 'c'),\n  ('som', 'c'),\n  ('bor', 'c'),\n  ('där', 'c'),\n  ('i', 'c'),\n  ('Sund', 'i'),\n  ('ska', 'i'),\n  ('bli', 'i'),\n  ('ledsena', 'i'),\n  ('ock', 'i'),\n  ('sakna', 'c'),\n  ('en', 'c'),\n  ('bra', 'c'),\n  ('plats', 'c'),\n  ('för', 'c'),\n  ('att', 'c'),\n  ('få', 'c'),\n  ('bra', 'c'),\n  ('saker', 'c'),\n  ('kan', 'i'),\n  ('det', 'i'),\n  ('hjälp', 'i'),\n  ('oss', 'c'),\n  ('för', 'i'),\n  ('att', 'c'),\n  ('få', 'c'),\n  ('en', 'c'),\n  ('bra', 'c'),\n  ('framted', 'i'),\n  ('.', 'c')],\n [('En', 'c'),\n  ('annan', 'c'),\n  ('anledning', 'c'),\n  ('till', 'c'),\n  ('att', 'c'),\n  ('vissa', 'c'),\n  ('inte', 'c'),\n  ('vill', 'c'),\n  ('sänka', 'c'),\n  ('rösträtt', 'i'),\n  ('åldern', 'i'),\n  ('är', 'c'),\n  ('för', 'c'),\n  ('att', 'c'),\n  ('många', 'c'),\n  ('tror', 'c'),\n  ('att', 'c'),\n  ('dagens', 'c'),\n  ('ungdom', 'c'),\n  ('inte', 'c'),\n  ('är', 'c'),\n  ('tillräckligt', 'c'),\n  ('insatta', 'c'),\n  ('i', 'c'),\n  ('politik', 'c'),\n  (',', 'c'),\n  ('och', 'c'),\n  ('att', 'c'),\n  ('de', 'c'),\n  ('därför', 'c'),\n  ('inte', 'c'),\n  ('kommer', 'c'),\n  ('nyttja', 'c'),\n  ('sin', 'c'),\n  ('röst', 'c'),\n  ('på', 'c'),\n  ('ett', 'c'),\n  ('bra', 'c'),\n  ('sätt', 'c'),\n  ('.', 'c')],\n [('Jag', 'c'),\n  ('drömmer', 'c'),\n  ('om', 'c'),\n  ('att', 'c'),\n  ('köpa', 'c'),\n  ('ett', 'c'),\n  ('hus', 'c'),\n  ('i', 'c'),\n  ('Björkås', 'i'),\n  ('i', 'c'),\n  ('framtid', 'i'),\n  ('eftersom', 'c'),\n  ('min', 'c'),\n  ('familj', 'c'),\n  ('är', 'c'),\n  ('stor', 'c'),\n  ('och', 'c'),\n  ('det', 'c'),\n  ('finns', 'c'),\n  ('fin', 'c'),\n  ('naturan', 'i'),\n  ('.', 'i')],\n [('Men', 'c'),\n  ('nu', 'c'),\n  ('köper', 'c'),\n  ('jag', 'c'),\n  ('nya', 'c'),\n  ('kläder', 'c'),\n  ('nästan', 'i'),\n  ('aldrig', 'i'),\n  ('eftersom', 'c'),\n  ('jag', 'c'),\n  ('har', 'c'),\n  ('lärt', 'c'),\n  ('mig', 'c'),\n  ('om', 'c'),\n  ('dem', 'i'),\n  ('många', 'c'),\n  ('hållbärhetsfrågorna', 'i'),\n  ('om', 'i'),\n  ('textilproduktion', 'c'),\n  ('och', 'c'),\n  ('konsumption', 'i'),\n  ('.', 'c')],\n [('Min', 'c'), ('första', 'c'), ('kärlek', 'c')],\n [('Det', 'c'),\n  ('är', 'i'),\n  ('inga', 'c'),\n  ('mäniskor', 'i'),\n  ('som', 'c'),\n  ('vet', 'i'),\n  ('inte', 'i'),\n  ('om', 'i'),\n  ('världen', 'i'),\n  ('upvärmning', 'i'),\n  ('och', 'i'),\n  ('vi', 'c'),\n  ('alla', 'c'),\n  ('måste', 'c'),\n  ('jobba', 'c'),\n  ('tillsammans', 'c'),\n  ('för', 'c'),\n  ('att', 'c'),\n  ('bekämpa', 'c'),\n  ('det', 'i'),\n  ('.', 'i')],\n [('Jag', 'c'),\n  ('tycker', 'c'),\n  ('att', 'c'),\n  ('buss', 'c'),\n  ('är', 'c'),\n  ('mycket', 'c'),\n  ('bätter', 'i'),\n  ('än', 'c'),\n  ('bil', 'c'),\n  ('.', 'c')],\n [('I', 'c'),\n  ('grund', 'c'),\n  ('och', 'c'),\n  ('botten', 'c'),\n  ('anses', 'c'),\n  ('familjens', 'c'),\n  ('roll', 'c'),\n  ('en', 'i'),\n  ('av', 'c'),\n  ('de', 'c'),\n  ('viktigaste', 'c'),\n  ('faktorer', 'i'),\n  ('som', 'c'),\n  ('påverkar', 'c'),\n  ('barns', 'c'),\n  ('liv', 'c'),\n  ('på', 'c'),\n  ('negativa', 'i'),\n  ('eller', 'c'),\n  ('positiva', 'i'),\n  ('sätt', 'c'),\n  ('.', 'c')],\n [('Varför', 'c'), ('?', 'c')],\n [('Jag', 'c'),\n  ('själv', 'c'),\n  ('har', 'c'),\n  ('en', 'c'),\n  ('bra', 'c'),\n  ('relation', 'c'),\n  ('med', 'c'),\n  ('mina', 'c'),\n  ('syskon', 'c'),\n  ('och', 'c'),\n  ('en', 'c'),\n  ('underbar', 'c'),\n  ('syskonkärlek', 'c'),\n  (',', 'c'),\n  ('jag', 'c'),\n  ('gör', 'c'),\n  ('allt', 'c'),\n  ('för', 'c'),\n  ('dom', 'c'),\n  ('.', 'c')],\n [('Vi', 'c'), ('ses', 'c'), ('snart', 'c'), ('!', 'c')],\n [('Därmed', 'c'),\n  ('hade', 'c'),\n  ('jag', 'c'),\n  ('massa', 'i'),\n  ('kläder', 'c'),\n  ('som', 'c'),\n  ('var', 'c'),\n  ('okej', 'c'),\n  ('men', 'c'),\n  ('alldrig', 'i'),\n  ('verkligen', 'c'),\n  ('passade', 'c'),\n  ('till', 'c'),\n  ('mig', 'c'),\n  ('.', 'c')],\n [('Jag', 'c'),\n  ('är', 'i'),\n  ('David', 'c'),\n  ('och', 'c'),\n  ('jag', 'c'),\n  ('bor', 'c'),\n  ('i', 'c'),\n  ('Norrby', 'i'),\n  ('och', 'c'),\n  ('jag', 'c'),\n  ('ska', 'c'),\n  ('studera', 'c'),\n  ('kemi', 'c'),\n  ('på', 'c'),\n  ('Andeskola', 'i'),\n  ('i', 'c'),\n  ('Augusti', 'i'),\n  ('.', 'c')],\n [('Du', 'c'),\n  ('kan', 'c'),\n  ('ringa', 'c'),\n  ('och', 'c'),\n  ('bjuda', 'c'),\n  ('honom', 'c'),\n  ('på', 'c'),\n  ('en', 'c'),\n  ('fin', 'c'),\n  ('restaurang', 'c'),\n  ('för', 'c'),\n  ('en', 'i'),\n  ('särlek', 'i'),\n  ('möte', 'i'),\n  ('och', 'i'),\n  ('där', 'c'),\n  ('kan', 'c'),\n  ('ni', 'c'),\n  ('prata', 'c'),\n  ('med', 'c'),\n  ('varandra', 'c'),\n  ('mer', 'c'),\n  ('och', 'c'),\n  ('mer', 'c'),\n  ('!', 'c')],\n [('Jag', 'c'),\n  ('tycker', 'c'),\n  ('att', 'c'),\n  ('det', 'c'),\n  ('är', 'c'),\n  ('en', 'c'),\n  ('bra', 'c'),\n  ('idé', 'c'),\n  ('att', 'c'),\n  ('du', 'c'),\n  ('börjar', 'c'),\n  ('dating', 'i'),\n  ('igen', 'c'),\n  ('.', 'c')],\n [('Du', 'c'),\n  ('kan', 'c'),\n  ('hitta', 'c'),\n  ('mina', 'c'),\n  ('kontaktuppgifter', 'c'),\n  ('i', 'c'),\n  ('mitt', 'c'),\n  ('mejl', 'c'),\n  ('.', 'c')],\n [('Lika', 'c'),\n  ('viktiga', 'c'),\n  ('är', 'c'),\n  ('till', 'c'),\n  ('exempel', 'c'),\n  ('personliga', 'c'),\n  ('egenskaper', 'c'),\n  ('och', 'c'),\n  ('rätt', 'c'),\n  ('attityd', 'c'),\n  ('.', 'c')],\n [('Det', 'c'),\n  ('finns', 'c'),\n  ('alltid', 'c'),\n  ('några', 'c'),\n  ('orsaker', 'c'),\n  ('som', 'c'),\n  ('tvingade', 'c'),\n  ('en', 'i'),\n  ('till', 'c'),\n  ('brott', 'c'),\n  ('.', 'c')],\n [('Jag', 'c'),\n  ('sitter', 'i'),\n  ('mig', 'c'),\n  ('i', 'c'),\n  ('sofan', 'i'),\n  ('och', 'c'),\n  ('gråter', 'c'),\n  ('och', 'c'),\n  ('gråter', 'c'),\n  ('.', 'c')],\n [('Engelska', 'c'),\n  ('språket', 'c'),\n  ('håller', 'c'),\n  ('på', 'c'),\n  ('att', 'c'),\n  ('växa', 'c')],\n [('Joensen', 'i'),\n  ('är', 'c'),\n  ('12', 'c'),\n  ('år', 'c'),\n  (',', 'c'),\n  ('han', 'c'),\n  ('har', 'c'),\n  ('kort', 'c'),\n  ('svart', 'c'),\n  ('hår', 'c'),\n  ('smutsig', 'i'),\n  ('kläder', 'c'),\n  ('och', 'c'),\n  ('hans', 'c'),\n  ('lukt', 'c'),\n  ('är', 'c'),\n  ('inte', 'c'),\n  ('bra', 'c'),\n  ('.', 'c')],\n [('Något', 'c'),\n  ('som', 'c'),\n  ('var', 'c'),\n  ('negativt', 'c'),\n  ('var', 'c'),\n  ('att', 'c'),\n  ('jag', 'c'),\n  ('förstod', 'c'),\n  ('inte', 'i'),\n  ('litte', 'i'),\n  ('ord', 'i'),\n  ('.', 'i')],\n [('En', 'c'),\n  ('såk', 'i'),\n  ('som', 'c'),\n  ('jag', 'c'),\n  ('tyckte', 'c'),\n  ('inte', 'i'),\n  ('var', 'i'),\n  ('trafiken', 'c'),\n  ('.', 'c')],\n [('Det', 'c'),\n  ('finns', 'c'),\n  ('flera', 'c'),\n  ('olika', 'c'),\n  ('definitioner', 'c'),\n  ('till', 'i'),\n  ('begrappet', 'i'),\n  ('familj', 'c'),\n  ('.', 'c')],\n [('Förtfarande', 'i'),\n  ('bor', 'c'),\n  ('mina', 'c'),\n  ('stäktig', 'i'),\n  ('där', 'c'),\n  ('.', 'c')],\n [('Med', 'i'),\n  ('vem', 'c'),\n  ('ska', 'c'),\n  ('jag', 'c'),\n  ('berätta', 'c'),\n  ('vem', 'i'),\n  ('kan', 'c'),\n  ('hälpa', 'i'),\n  ('mig', 'c'),\n  ('.', 'i')],\n [('Familjens', 'i'),\n  ('begrepp', 'i'),\n  ('kan', 'c'),\n  ('definieras', 'c'),\n  ('helt', 'i'),\n  ('enkelt', 'i'),\n  ('att', 'i'),\n  ('det', 'c'),\n  ('är', 'c'),\n  ('institution', 'i'),\n  ('som', 'c'),\n  ('består', 'c'),\n  ('av', 'c'),\n  ('en', 'c'),\n  ('mamma', 'c'),\n  (',', 'c'),\n  ('en', 'c'),\n  ('pappa', 'c'),\n  ('och', 'c'),\n  ('gemensamma', 'c'),\n  ('barn', 'c'),\n  ('som', 'c'),\n  ('bor', 'c'),\n  ('tillsammans', 'c'),\n  ('.', 'c')],\n [('När', 'c'),\n  ('man', 'i'),\n  ('gifta', 'i'),\n  ('mig', 'c'),\n  ('vad', 'i'),\n  ('jag', 'i'),\n  ('hjlpa', 'i'),\n  ('av', 'c'),\n  ('min', 'c'),\n  ('mamma', 'c'),\n  ('.', 'c')],\n [('Det', 'c'),\n  ('skapas', 'c'),\n  ('inga', 'c'),\n  ('nya', 'c'),\n  ('begrepp', 'c'),\n  ('och', 'c'),\n  ('termer', 'c'),\n  (',', 'c'),\n  ('utan', 'c'),\n  ('de', 'c'),\n  ('ersätts', 'c'),\n  ('med', 'c'),\n  ('engelska', 'c'),\n  ('.', 'c')],\n [('Och', 'c'),\n  ('personliga', 'i'),\n  ('barn', 'c'),\n  ('lita', 'i'),\n  ('på', 'c'),\n  ('sina', 'c'),\n  ('föräldrar', 'c'),\n  ('.', 'c')],\n [('Mode', 'c'),\n  ('och', 'c'),\n  ('trend', 'i'),\n  ('var', 'c'),\n  ('viktiga', 'c'),\n  ('för', 'c'),\n  ('mig', 'c'),\n  ('eftersom', 'c'),\n  ('jag', 'c'),\n  ('ville', 'c'),\n  ('ser', 'i'),\n  ('ut', 'i'),\n  ('bra', 'c'),\n  ('mot', 'i'),\n  ('mina', 'c'),\n  ('vänner', 'c'),\n  ('och', 'c'),\n  ('på', 'c'),\n  ('jobbet', 'c'),\n  ('.', 'c')],\n [('MVH', 'c'), ('Karin', 'c'), ('Svensson', 'i')],\n [('Hon', 'c'),\n  ('är', 'c'),\n  ('34', 'c'),\n  ('år', 'c'),\n  ('gammal', 'c'),\n  ('.', 'c')],\n [('Trots', 'c'),\n  ('att', 'c'),\n  ('jag', 'c'),\n  ('inte', 'c'),\n  ('tycker', 'c'),\n  ('att', 'c'),\n  ('det', 'c'),\n  ('är', 'c'),\n  ('så', 'c'),\n  ('viktigt', 'c'),\n  ('hur', 'c'),\n  ('man', 'c'),\n  ('klär', 'c'),\n  ('sig', 'c'),\n  (',', 'c'),\n  ('gillar', 'c'),\n  ('jag', 'c'),\n  ('ändå', 'c'),\n  ('att', 'c'),\n  ('följa', 'c'),\n  ('trender', 'c'),\n  ('i', 'c'),\n  ('mode', 'c'),\n  ('för', 'c'),\n  ('att', 'c'),\n  ('känna', 'c'),\n  ('att', 'c'),\n  ('jag', 'c'),\n  ('passar', 'c'),\n  ('in', 'c'),\n  ('.', 'c')],\n [('Jag', 'c'),\n  ('har', 'c'),\n  ('en', 'i'),\n  ('annan', 'i'),\n  ('förslag', 'c'),\n  ('som', 'c'),\n  ('är', 'c'),\n  ('bättre', 'c'),\n  ('!', 'c')],\n [('Vi', 'c'),\n  ('får', 'c'),\n  ('tidigt', 'c'),\n  ('i', 'c'),\n  ('boken', 'c'),\n  ('se', 'c'),\n  ('att', 'c'),\n  ('Ester', 'c'),\n  ('och', 'c'),\n  ('Isak', 'c'),\n  ('har', 'c'),\n  ('passion', 'c'),\n  ('för', 'c'),\n  ('varandra', 'c'),\n  ('i', 'c'),\n  ('form', 'c'),\n  ('av', 'c'),\n  ('att', 'c'),\n  ('de', 'c'),\n  ('känner', 'c'),\n  ('en', 'c'),\n  ('stark', 'c'),\n  ('attraktion', 'c'),\n  ('och', 'c'),\n  ('lust', 'c'),\n  ('för', 'i'),\n  ('varandra', 'c'),\n  ('.', 'c')],\n [('Författaren', 'c'),\n  ('pekar', 'c'),\n  ('på', 'c'),\n  ('att', 'c'),\n  ('orsaken', 'c'),\n  ('till', 'c'),\n  ('dessa', 'c'),\n  ('förändringar', 'c'),\n  ('är', 'c'),\n  ('främst', 'i'),\n  ('att', 'c'),\n  ('människor', 'c'),\n  ('tyckte', 'c'),\n  ('att', 'c'),\n  ('deras', 'c'),\n  ('språk', 'c'),\n  ('var', 'c'),\n  ('mindre', 'c'),\n  ('värt', 'c'),\n  ('och', 'c'),\n  ('att', 'c'),\n  ('vissa', 'c'),\n  ('små', 'c'),\n  ('språk', 'c'),\n  ('har', 'c'),\n  ('försvunnit', 'c'),\n  ('genom', 'c'),\n  ('naturkatastrof', 'i'),\n  ('och', 'c'),\n  ('sjukdomar', 'c'),\n  ('.', 'c')],\n [('Kan', 'c'),\n  ('lycka', 'c'),\n  ('mätas', 'c'),\n  ('i', 'c'),\n  ('förhållande', 'c'),\n  ('till', 'c'),\n  ('landets', 'c'),\n  ('ekonomiska', 'c'),\n  ('eller', 'c'),\n  ('ens', 'c'),\n  ('egen', 'c'),\n  ('framgång', 'c'),\n  ('?', 'c')],\n [('Dör', 'i'),\n  ('för', 'i'),\n  ('jag', 'c'),\n  ('tycker', 'c'),\n  ('att', 'c'),\n  ('ni', 'c'),\n  ('ska', 'c'),\n  ('ge', 'c'),\n  ('bok', 'i'),\n  ('.', 'c')],\n [('Männskor', 'i'),\n  ('har', 'c'),\n  ('olika', 'c'),\n  ('tankesätt', 'c'),\n  ('.', 'c')],\n [('Samhället', 'c'),\n  ('måste', 'c'),\n  ('vara', 'c'),\n  ('mer', 'c'),\n  ('tolerant', 'c'),\n  ('med', 'i'),\n  ('människors', 'c'),\n  ('olika', 'c'),\n  ('kulturer', 'c'),\n  ('och', 'c'),\n  ('samtidigt', 'c'),\n  ('människor', 'c'),\n  ('måste', 'i'),\n  ('försöka', 'c'),\n  ('anpassa', 'c'),\n  ('sig', 'c'),\n  ('till', 'c'),\n  ('det', 'c'),\n  ('samhälle', 'c'),\n  ('de', 'c'),\n  ('bor', 'c'),\n  ('i', 'c'),\n  ('.', 'c')],\n [('Man', 'c'),\n  ('kan', 'c'),\n  ('höra', 'c'),\n  ('om', 'c'),\n  ('många', 'c'),\n  ('typer', 'c'),\n  ('av', 'c'),\n  ('brottet', 'i'),\n  ('i', 'c'),\n  ('sitt', 'i'),\n  ('samhälle', 'i'),\n  (',', 'c'),\n  ('såsom', 'c'),\n  ('våldtäkt', 'c'),\n  (',', 'c'),\n  ('bedrägeri', 'c'),\n  (',', 'c'),\n  ('mord', 'c'),\n  ('och', 'c'),\n  ('olika', 'c'),\n  ('andra', 'c'),\n  ('typer', 'c'),\n  ('kan', 'i'),\n  ('begås', 'c'),\n  ('av', 'c'),\n  ('brottslingar', 'c'),\n  ('.', 'c')],\n [('\\\\\"', 'c')],\n [('Jag', 'c'),\n  ('tycket', 'i'),\n  ('att', 'c'),\n  ('det', 'c'),\n  ('är', 'c'),\n  ('okej', 'c'),\n  ('och', 'c'),\n  ('man', 'i'),\n  ('bör', 'c'),\n  ('vara', 'c'),\n  ('fri', 'c'),\n  ('att', 'c'),\n  ('klä', 'c'),\n  ('sig', 'c'),\n  ('hur', 'c'),\n  ('man', 'c'),\n  ('vill', 'c'),\n  ('och', 'c'),\n  ('när', 'c'),\n  ('som', 'c'),\n  ('helst', 'c'),\n  ('.', 'c')],\n [('Jag', 'c'),\n  ('var', 'c'),\n  ('jätt', 'i'),\n  ('rädd', 'i'),\n  (',', 'c'),\n  ('jag', 'c'),\n  ('trodde', 'c'),\n  ('att', 'c'),\n  ('han', 'c'),\n  ('skulle', 'c'),\n  ('göra', 'c'),\n  ('någonting', 'c'),\n  ('när', 'c'),\n  ('han', 'c'),\n  ('gick', 'c'),\n  ('fram', 'c'),\n  ('med', 'c'),\n  ('den', 'i'),\n  ('där', 'c'),\n  ('konstiga', 'c'),\n  ('ansikte', 'i'),\n  (',', 'c'),\n  ('men', 'c'),\n  ('han', 'c'),\n  ('kleve', 'i'),\n  ('utt', 'i'),\n  ('bara', 'c'),\n  ('.', 'c')],\n [('3', 'c'), ('.', 'c')],\n [('Därför', 'i'),\n  ('fast', 'i'),\n  ('kan', 'i'),\n  ('mode', 'c'),\n  ('och', 'c'),\n  ('trend', 'i'),\n  ('bli', 'i'),\n  ('viktiga', 'c'),\n  ('för', 'c'),\n  ('folk', 'c'),\n  (',', 'c'),\n  ('för', 'i'),\n  ('mig', 'i'),\n  ('är', 'c'),\n  ('den', 'i'),\n  ('viktigaste', 'c'),\n  ('att', 'c'),\n  ('tänka', 'c'),\n  ('på', 'c'),\n  ('miljön', 'c'),\n  ('när', 'c'),\n  ('folk', 'c'),\n  ('klär', 'c'),\n  ('sig', 'c'),\n  ('.', 'c')],\n [('Demokrati', 'c'),\n  ('är', 'c'),\n  ('med', 'c'),\n  ('andra', 'c'),\n  ('ord', 'c'),\n  ('inte', 'c'),\n  ('bara', 'c'),\n  ('ett', 'c'),\n  ('sätt', 'c'),\n  ('att', 'c'),\n  ('styra', 'c'),\n  ('ett', 'c'),\n  ('land', 'c'),\n  ('.', 'c')],\n [('I', 'c'),\n  ('den', 'i'),\n  ('här', 'c'),\n  ('mejlet', 'c'),\n  ('vill', 'c'),\n  ('jag', 'c'),\n  ('hjälpa', 'c'),\n  ('dig', 'c'),\n  ('för', 'i'),\n  ('att', 'c'),\n  ('det', 'c'),\n  ('ska', 'c'),\n  ('gå', 'c'),\n  ('bra', 'c'),\n  ('på', 'c'),\n  ('din', 'c'),\n  ('arbbetsintervju', 'i'),\n  ('.', 'c')],\n [('Där', 'c'),\n  ('studera', 'i'),\n  ('jag', 'c'),\n  ('svenska', 'c'),\n  ('som', 'c'),\n  ('andra', 'i'),\n  ('språk', 'i'),\n  ('för', 'c'),\n  ('jag', 'c'),\n  ('kommer', 'c'),\n  ('från', 'c'),\n  ('Danmark', 'i'),\n  ('och', 'c'),\n  ('vill', 'c'),\n  ('lära', 'c'),\n  ('mig', 'c'),\n  ('svenska', 'c'),\n  ('.', 'c')],\n [('Jag', 'c'),\n  ('var', 'c'),\n  ('15', 'c'),\n  ('år', 'c'),\n  ('gammal', 'c'),\n  ('jag', 'i'),\n  ('träffade', 'c'),\n  ('en', 'c'),\n  ('ganska', 'i'),\n  ('tjej', 'c'),\n  ('hon', 'i'),\n  ('bodde', 'c'),\n  ('i', 'c'),\n  ('samma', 'c'),\n  ('stad', 'c'),\n  ('hon', 'i'),\n  ('heter', 'i'),\n  ('Anna', 'c'),\n  ('hon', 'i'),\n  ('var', 'c'),\n  ('yngre', 'i'),\n  ('än', 'i'),\n  ('jag', 'i'),\n  ('i', 'i'),\n  ('ett', 'i'),\n  ('år', 'i'),\n  ('från', 'i'),\n  ('det', 'c'),\n  ('första', 'c'),\n  ('mötet', 'c'),\n  ('mellan', 'c'),\n  ('oss', 'c'),\n  ('kom', 'i'),\n  ('mitt', 'i'),\n  ('hjärta', 'c'),\n  ('.', 'c')],\n [('Den', 'c'),\n  ('har', 'i'),\n  ('bok', 'i'),\n  ('hjälpte', 'c'),\n  ('mig', 'c'),\n  ('för', 'i'),\n  ('att', 'c'),\n  ('tänka', 'c'),\n  ('mitt', 'i'),\n  ('land', 'c'),\n  ('och', 'c'),\n  ('barnen', 'c'),\n  ('som', 'c'),\n  ('bor', 'c'),\n  ('vid', 'i'),\n  ('gatan', 'c'),\n  ('.', 'c')],\n [('de', 'i'),\n  ('bestämmer', 'c'),\n  ('när', 'c'),\n  ('tex', 'i'),\n  ('tjejer', 'c'),\n  ('gifta', 'i'),\n  ('sig', 'c'),\n  (',', 'c'),\n  ('med', 'c'),\n  ('vem', 'c'),\n  (',', 'c'),\n  ('går', 'i'),\n  ('till', 'i'),\n  ('skolan', 'c'),\n  ('eller', 'c'),\n  ('nej', 'i'),\n  (',', 'c'),\n  ('går', 'i'),\n  ('ut', 'c'),\n  ('själv', 'i'),\n  ('eller', 'c'),\n  ('nej', 'i'),\n  ('.', 'c')],\n [('Han', 'c'),\n  ('har', 'c'),\n  ('svarta', 'i'),\n  ('håret', 'i'),\n  (',', 'c'),\n  ('mörka', 'c'),\n  ('ögonen', 'i'),\n  ('och', 'c'),\n  ('munnen', 'i'),\n  ('är', 'i'),\n  ('som', 'c'),\n  ('ville', 'i'),\n  ('skratta', 'c'),\n  ('alltid', 'i'),\n  ('.', 'c')],\n [('Man', 'c'),\n  ('kan', 'c'),\n  ('då', 'c'),\n  ('jämföra', 'c'),\n  (',', 'c'),\n  ('utvärdera', 'c'),\n  ('och', 'c'),\n  ('även', 'c'),\n  ('ifrågasätta', 'c'),\n  ('andras', 'c'),\n  ('felaktiga', 'c'),\n  ('påståenden', 'c'),\n  ('eller', 'c'),\n  ('åsikter', 'c'),\n  ('.', 'c')],\n [('Vissa', 'c'),\n  ('grupper', 'c'),\n  ('som', 'i'),\n  ('till', 'c'),\n  ('exempel', 'c'),\n  ('människor', 'c'),\n  ('med', 'c'),\n  ('en', 'c'),\n  ('psykisk', 'c'),\n  ('sjukdom', 'c'),\n  ('eller', 'c'),\n  ('barn', 'c'),\n  ('kan', 'i'),\n  ('dock', 'c'),\n  ('anses', 'c'),\n  ('som', 'c'),\n  ('omogna', 'c'),\n  ('och', 'c'),\n  ('ansvarslösa', 'c'),\n  ('.', 'c')],\n [('Jag', 'c'),\n  ('tror', 'c'),\n  ('att', 'c'),\n  ('du', 'c'),\n  ('kan', 'c'),\n  ('följa', 'c'),\n  ('mina', 'c'),\n  ('ips', 'i'),\n  ('om', 'c'),\n  ('du', 'c'),\n  ('vill', 'c'),\n  ('ha', 'c'),\n  ('många', 'c'),\n  ('kompisar', 'c'),\n  ('.', 'c')],\n [('Jag', 'c'),\n  ('har', 'c'),\n  ('några', 'c'),\n  ('bra', 'c'),\n  ('idea', 'i'),\n  ('till', 'c'),\n  ('dig', 'c'),\n  ('.', 'c')],\n [('Jag', 'c'),\n  ('tycker', 'c'),\n  ('att', 'c'),\n  ('bibliotek', 'i'),\n  ('är', 'c'),\n  ('viktig', 'i'),\n  ('på', 'i'),\n  ('samhället', 'c'),\n  ('.', 'c')],\n [('Jag', 'c'),\n  ('tycker', 'c'),\n  ('inte', 'c'),\n  ('att', 'c'),\n  ('jag', 'c'),\n  ('köper', 'c'),\n  ('så', 'c'),\n  ('mycket', 'c'),\n  ('kläder', 'c'),\n  ('.', 'c')],\n [('När', 'c'),\n  ('den', 'c'),\n  ('äldre', 'c'),\n  ('brodern', 'c'),\n  ('får', 'c'),\n  ('reda', 'c'),\n  ('på', 'c'),\n  ('detta', 'c'),\n  ('vänds', 'c'),\n  ('hans', 'c'),\n  ('värld', 'c'),\n  ('upp', 'c'),\n  ('och', 'c'),\n  ('ned', 'c'),\n  (',', 'c'),\n  ('och', 'c'),\n  ('då', 'c'),\n  ('söker', 'c'),\n  ('han', 'c'),\n  ('till', 'i'),\n  ('den', 'c'),\n  ('närmaste', 'c'),\n  ('tryggheten', 'c'),\n  ('han', 'c'),\n  ('känner', 'c'),\n  (',', 'c'),\n  ('hans', 'c'),\n  ('tjej', 'c'),\n  ('som', 'c'),\n  ('ger', 'c'),\n  ('familjen', 'c'),\n  ('stöd', 'c'),\n  ('och', 'c'),\n  ('omsorg', 'c'),\n  ('.', 'c')],\n [('Några', 'c'),\n  ('har', 'c'),\n  ('ett', 'c'),\n  ('annat', 'c'),\n  ('perspektiv', 'c'),\n  ('där', 'i'),\n  ('de', 'c'),\n  ('tycker', 'c'),\n  ('att', 'c'),\n  ('det', 'c'),\n  ('är', 'c'),\n  ('ännu', 'c'),\n  ('lämpligare', 'c'),\n  ('att', 'c'),\n  ('polisen', 'c'),\n  ('tar', 'c'),\n  ('DNA-', 'i'),\n  ('test', 'i'),\n  ('på', 'c'),\n  ('dömda', 'c'),\n  ('brottslingar', 'c'),\n  ('som', 'c'),\n  ('redan', 'c'),\n  ('har', 'c'),\n  ('begått', 'c'),\n  ('brott', 'c'),\n  ('utan', 'c'),\n  ('att', 'c'),\n  ('respektera', 'c'),\n  ('lagar', 'c'),\n  ('istället', 'c'),\n  ('för', 'c'),\n  ('att', 'c'),\n  ('göra', 'c'),\n  ('detta', 'c'),\n  ('på', 'c'),\n  ('alla', 'c'),\n  ('oskyldiga', 'c'),\n  ('svenskar', 'c'),\n  ('.', 'c')],\n [('Jag', 'c'),\n  ('tycker', 'c'),\n  ('att', 'i'),\n  ('det', 'c'),\n  ('finns', 'c'),\n  ('ingen', 'i'),\n  ('special', 'i'),\n  ('kläder', 'c'),\n  ('.', 'c')],\n [('Dessutom', 'c'),\n  ('kan', 'i'),\n  ('sådan', 'i'),\n  ('kurs', 'c'),\n  ('hjälper', 'i'),\n  ('elever', 'c'),\n  ('att', 'c'),\n  ('hitta', 'c'),\n  ('sina', 'c'),\n  ('intressen', 'c'),\n  ('genom', 'c'),\n  ('att', 'c'),\n  ('pröva', 'c'),\n  ('på', 'c'),\n  ('olika', 'c'),\n  ('jobb', 'c'),\n  ('.', 'c')],\n [('Alla', 'c'),\n  ('känna', 'i'),\n  ('sig', 'c'),\n  ('trygg', 'i'),\n  ('annu', 'i'),\n  ('mer', 'i'),\n  ('och', 'c'),\n  ('hade', 'i'),\n  ('mer', 'c'),\n  ('frihet', 'c'),\n  ('och', 'c'),\n  ('kunde', 'c'),\n  ('utrycka', 'c'),\n  ('sig', 'c'),\n  ('hur', 'c'),\n  ('som', 'c'),\n  ('helst', 'c'),\n  ('och', 'c'),\n  ('anger', 'i'),\n  ('sina', 'i'),\n  ('last', 'i'),\n  ('så', 'c'),\n  ('småning', 'i'),\n  ('.', 'c')],\n [('Jag', 'c'),\n  ('tror', 'c'),\n  ('inte', 'c'),\n  ('jag', 'c'),\n  ('har', 'c'),\n  ('sätt', 'i'),\n  ('eller', 'c'),\n  ('har', 'c'),\n  ('varit', 'c'),\n  ('på', 'i'),\n  ('så', 'i'),\n  ('här', 'i'),\n  ('typer', 'i'),\n  ('av', 'c'),\n  ('situation', 'c'),\n  ('i', 'c'),\n  ('mitt', 'c'),\n  ('hemland', 'c'),\n  ('eller', 'c'),\n  ('den', 'i'),\n  ('hur', 'i'),\n  ('tiderna', 'i'),\n  ('jag', 'c'),\n  ('har', 'c'),\n  ('varit', 'c'),\n  ('i', 'c'),\n  ('Sverige', 'c'),\n  ('.', 'c')],\n [('Samtidigt', 'c'),\n  ('ökade', 'c'),\n  ('antalet', 'i'),\n  ('valdeltagande', 'i'),\n  ('i', 'c'),\n  ('riksdagsvalen', 'c'),\n  ('från', 'c'),\n  ('69', 'c'),\n  (',', 'c'),\n  ('9', 'c'),\n  ('%', 'c'),\n  ('(', 'c'),\n  ('2001', 'c'),\n  (')', 'c'),\n  ('till', 'c'),\n  ('81', 'c'),\n  (',', 'c'),\n  ('3', 'c'),\n  ('%', 'c'),\n  ('(', 'c'),\n  ('2014', 'c'),\n  (')', 'c'),\n  ('bland', 'c'),\n  ('18', 'c'),\n  ('-', 'c'),\n  ('24', 'i'),\n  ('åringar', 'i'),\n  ('(', 'c'),\n  ('s.', 'i'),\n  ('inspirationsblad', 'c'),\n  (')', 'c'),\n  ('.', 'c')],\n [('Jag', 'c'),\n  ('tycker', 'i'),\n  ('att', 'c'),\n  ('hon', 'c'),\n  ('ska', 'i'),\n  ('bli', 'i'),\n  ('jätteglad', 'c'),\n  ('på', 'i'),\n  ('våra', 'i'),\n  ('prisent', 'i'),\n  ('.', 'c')],\n [('Jag', 'c'),\n  ('satsar', 'c'),\n  ('på', 'c'),\n  ('kvalité', 'c'),\n  (',', 'c'),\n  ('men', 'c'),\n  ('är', 'c'),\n  ('inte', 'c'),\n  ('bered', 'i'),\n  ('att', 'c'),\n  ('betala', 'c'),\n  ('övrepris', 'c'),\n  ('för', 'c'),\n  ('märkesplagg', 'c'),\n  ('som', 'c'),\n  ('följer', 'c'),\n  ('de', 'c'),\n  ('senaste', 'c'),\n  ('trenderna', 'c'),\n  ('.', 'c')],\n [('Tillslut', 'i'),\n  (',', 'i'),\n  ('får', 'i'),\n  ('han', 'c'),\n  ('höra', 'c'),\n  ('hennes', 'i'),\n  ('mammas', 'c'),\n  ('röst', 'c'),\n  ('även', 'c'),\n  ('om', 'c'),\n  ('det', 'c'),\n  ('inte', 'c'),\n  ('var', 'c'),\n  ('bra', 'c'),\n  ('.', 'c')],\n [('Vi', 'c'),\n  ('behöver', 'c'),\n  ('de', 'i'),\n  ('om', 'c'),\n  ('vi', 'c'),\n  ('skulle', 'c'),\n  ('vilja', 'c'),\n  ('köpa', 'c'),\n  ('en', 'c'),\n  ('lägenhet', 'c'),\n  (',', 'c'),\n  ('betala', 'c'),\n  ('hyra', 'c'),\n  (',', 'c'),\n  ('köpa', 'c'),\n  ('något', 'c'),\n  ('att', 'c'),\n  ('ätta', 'i'),\n  ('eller', 'c'),\n  ('åka', 'c'),\n  ('från', 'c'),\n  ('punkt', 'c'),\n  ('A', 'c'),\n  ('till', 'c'),\n  ('B', 'c'),\n  ('.', 'c')],\n [('Det', 'c'),\n  ('har', 'c'),\n  ('inte', 'c'),\n  ('att', 'c'),\n  ('göra', 'c'),\n  ('med', 'c'),\n  ('pengar', 'c'),\n  ('och', 'c'),\n  ('ett', 'c'),\n  ('skönt', 'c'),\n  ('liv', 'c'),\n  (',', 'c'),\n  ('men', 'i'),\n  ('personerna', 'c'),\n  ('som', 'c'),\n  ('du', 'c'),\n  ('har', 'c'),\n  ('runt', 'c'),\n  ('kring', 'i'),\n  ('dig', 'c'),\n  ('som', 'i'),\n  ('kan', 'c'),\n  ('uppmana', 'i'),\n  ('dig', 'c'),\n  ('och', 'c'),\n  ('vara', 'c'),\n  ('bra', 'c'),\n  ('och', 'c'),\n  ('starka', 'c'),\n  ('kompisar', 'c'),\n  ('.', 'c')],\n [('Men', 'c'),\n  ('som', 'c'),\n  ('vi', 'c'),\n  ('alla', 'c'),\n  ('vet', 'c'),\n  ('väll', 'i'),\n  ('är', 'i'),\n  ('att', 'i'),\n  ('vi', 'c'),\n  ('straver', 'i'),\n  ('efter', 'c'),\n  ('utveckling', 'c'),\n  ('alltid', 'i'),\n  (',', 'c'),\n  ('alltså', 'c'),\n  ('våra', 'c'),\n  ('normer', 'c'),\n  ('och', 'c'),\n  ('uppfattningen', 'i'),\n  ('förändrats', 'i'),\n  ('med', 'c'),\n  ('tiden', 'c'),\n  ('.', 'c')],\n [('Men', 'c'),\n  ('alla', 'c'),\n  ('med', 'c'),\n  ('svenska', 'c'),\n  ('som', 'c'),\n  ('modersmål', 'c'),\n  ('behöver', 'c'),\n  ('finska', 'c'),\n  ('för', 'c'),\n  ('att', 'c'),\n  ('klara', 'c'),\n  ('sig', 'c'),\n  ('i', 'c'),\n  ('samhället', 'c'),\n  ('.', 'c')],\n [('Glom', 'i'),\n  ('inte', 'c'),\n  ('att', 'c'),\n  ('rör', 'i'),\n  ('sig', 'i'),\n  ('själv', 'i'),\n  ('.', 'c')],\n [('Alla', 'c'),\n  ('började', 'c'),\n  ('att', 'c'),\n  ('dissa', 'c'),\n  ('han', 'i'),\n  ('och', 'c'),\n  ('ville', 'c'),\n  ('inte', 'c'),\n  ('ens', 'c'),\n  ('bjuda', 'c'),\n  ('han', 'i'),\n  ('på', 'c'),\n  ('lunchen', 'c'),\n  ('och', 'i'),\n  ('tillslut', 'i'),\n  ('gifta', 'i'),\n  ('han', 'c'),\n  ('sin', 'i'),\n  ('kusin', 'c'),\n  ('och', 'c'),\n  ('då', 'i'),\n  ('åkte', 'c'),\n  ('han', 'c'),\n  ('tillbaka', 'c'),\n  ('till', 'c'),\n  ('Sverige', 'c'),\n  (',', 'i'),\n  ('hans', 'i'),\n  ('kusin', 'c'),\n  ('väntar', 'i'),\n  ('nu', 'c'),\n  ('i', 'c'),\n  ('Syrien', 'c'),\n  ('för', 'c'),\n  ('han', 'c'),\n  ('ansökte', 'i'),\n  ('om', 'c'),\n  ('att', 'c'),\n  ('hon', 'c'),\n  ('skulle', 'c'),\n  ('få', 'c'),\n  ('flytta', 'c'),\n  ('till', 'c'),\n  ('Sverige', 'c'),\n  ('och', 'c'),\n  ('det', 'c'),\n  ('kommer', 'i'),\n  ('att', 'i'),\n  ('ta', 'c'),\n  ('tid', 'c'),\n  ('typ', 'i'),\n  ('2', 'c'),\n  ('år', 'c'),\n  (',', 'i'),\n  ('i', 'i'),\n  ('Sverige', 'c'),\n  ('vill', 'c'),\n  ('han', 'c'),\n  ('bara', 'c'),\n  ('jobba', 'c'),\n  ('och', 'c'),\n  ('spara', 'c'),\n  ('pengar', 'c'),\n  ('för', 'i'),\n  ('hans', 'i'),\n  ('fru', 'c'),\n  ('(', 'c'),\n  ('kusin', 'c'),\n  (')', 'i'),\n  ('men', 'c'),\n  ('i', 'i'),\n  ('Sverige', 'i'),\n  ('fick', 'i'),\n  ('han', 'c'),\n  ('träffa', 'i'),\n  ('en', 'c'),\n  ('skön', 'c'),\n  ('tjej', 'c'),\n  ('och', 'c'),\n  ('blev', 'i'),\n  ('kär', 'i'),\n  ('i', 'c'),\n  ('varandra', 'c'),\n  ('och', 'c'),\n  ('efter', 'c'),\n  ('ett', 'c'),\n  ('tag', 'c'),\n  ('berättade', 'c'),\n  ('han', 'c'),\n  ('sanningen', 'c'),\n  ('till', 'i'),\n  ('hans', 'i'),\n  ('flickvän', 'c'),\n  ('och', 'c'),\n  ('hon', 'c'),\n  ('accepterade', 'c'),\n  ('det', 'c'),\n  ('för', 'c'),\n  ('att', 'c'),\n  ('hon', 'c'),\n  ('älskade', 'c'),\n  ('honom', 'c'),\n  (',', 'i'),\n  ('när', 'i'),\n  ('ansökan', 'c'),\n  ('var', 'c'),\n  ('klar', 'c'),\n  ('och', 'c'),\n  ('hans', 'c'),\n  ('fru', 'c'),\n  ('var', 'c'),\n  ('redo', 'c'),\n  ('att', 'c'),\n  ('komma', 'c'),\n  ('sa', 'c'),\n  ('han', 'c'),\n  ('till', 'c'),\n  ('pappan', 'c'),\n  ('att', 'c'),\n  ('jag', 'c'),\n  ('vill', 'c'),\n  ('inte', 'c'),\n  ('var', 'i'),\n  ('längre', 'i'),\n  ('med', 'c'),\n  ('min', 'c'),\n  ('kusin', 'c'),\n  ('och', 'i'),\n  ('pappan', 'c'),\n  ('blev', 'c'),\n  ('arg', 'c'),\n  ('och', 'c'),\n  ('besviken', 'c'),\n  ('samtidigt', 'c'),\n  ('för', 'i'),\n  ('att', 'c'),\n  ('han', 'c'),\n  ('har', 'i'),\n  ('inte', 'i'),\n  ('nånting', 'c'),\n  ('att', 'c'),\n  ('säga', 'c'),\n  ('till', 'c'),\n  ('hennes', 'c'),\n  ('familj', 'c'),\n  (',', 'i'),\n  ('hans', 'i'),\n  ('flickvän', 'c'),\n  ('lämnade', 'c'),\n  ('honom', 'c'),\n  ('för', 'c'),\n  ('att', 'c'),\n  ('hon', 'c'),\n  ('orkade', 'c'),\n  ('inte', 'c'),\n  ('mer', 'c'),\n  (',', 'i'),\n  ('efter', 'i'),\n  ('det', 'c'),\n  ('försökte', 'c'),\n  ('han', 'c'),\n  ('ta', 'c'),\n  ('självmord', 'c'),\n  ('genom', 'c'),\n  ('att', 'c'),\n  ('köra', 'c'),\n  ('bilen', 'c'),\n  ('med', 'c'),\n  ('hög', 'c'),\n  ('fart', 'c'),\n  ('och', 'i'),\n  ('då', 'c'),\n  ('gick', 'i'),\n  ('han', 'c'),\n  ('till', 'c'),\n  ('sjukhuset', 'c'),\n  ('och', 'c'),\n  ('fick', 'c'),\n  ('ta', 'i'),\n  ('reda', 'c'),\n  ('på', 'c'),\n  ('att', 'c'),\n  ('sin', 'i'),\n  ('pappa', 'c'),\n  ('ska', 'i'),\n  ('åka', 'c'),\n  ('till', 'c'),\n  ('Syrien', 'c'),\n  ('för', 'c'),\n  ('att', 'c'),\n  ('han', 'c'),\n  ('skulle', 'c'),\n  ('lämna', 'c'),\n  ('tillbaka', 'c'),\n  ('frun', 'c'),\n  ('till', 'c'),\n  ('hennes', 'c'),\n  ('familj', 'c'),\n  ('som', 'c'),\n  ('var', 'c'),\n  ('arga', 'c'),\n  ('och', 'c'),\n  ('hatade', 'c'),\n  ('på', 'i'),\n  ('han', 'i'),\n  ('för', 'c'),\n  ('att', 'c'),\n  ('det', 'c'),\n  ('dröjde', 'c'),\n  ('tills', 'c'),\n  ('hon', 'c'),\n  ('ska', 'i'),\n  ('få', 'c'),\n  ('åka', 'c'),\n  ('till', 'c'),\n  ('Sverige', 'c'),\n  ('.', 'c')],\n [('Att', 'i'),\n  ('definiera', 'c'),\n  ('demokratin', 'i'),\n  ('kan', 'c'),\n  ('man', 'c'),\n  ('utgå', 'c'),\n  ('från', 'c'),\n  ('ordet', 'c'),\n  ('”', 'c'),\n  ('demokrati', 'c'),\n  ('”', 'c'),\n  ('.', 'c')],\n [('Man', 'c'),\n  ('fundrerar', 'i'),\n  ('var', 'i'),\n  ('är', 'i'),\n  ('viktigare', 'i'),\n  ('barnen', 'i'),\n  (',', 'c'),\n  ('att', 'c'),\n  ('umgåsa', 'i'),\n  ('med', 'c'),\n  ('de', 'i'),\n  (',', 'c'),\n  ('ha', 'i'),\n  ('roligt', 'c'),\n  (',', 'c'),\n  ('gå', 'c'),\n  ('på', 'c'),\n  ('bio', 'c'),\n  ('eller', 'i'),\n  ('gå', 'i'),\n  ('till', 'c'),\n  ('jobbet', 'c'),\n  ('och', 'c'),\n  ('tjäna', 'c'),\n  ('extra', 'c'),\n  ('pengar', 'c'),\n  ('.', 'c')],\n [('•', 'c'),\n  ('Har', 'c'),\n  ('olika', 'c'),\n  ('kulturer', 'c'),\n  ('olika', 'c'),\n  ('syn', 'c'),\n  ('på', 'c'),\n  ('lycka', 'c'),\n  ('?', 'c')],\n [('Nej', 'i'),\n  (',', 'c'),\n  ('du', 'c'),\n  ('ska', 'c'),\n  ('inte', 'c'),\n  ('gå', 'c'),\n  ('ut', 'c'),\n  ('nu', 'c'),\n  (',', 'c'),\n  ('satt', 'i'),\n  ('dig', 'c'),\n  ('i', 'c'),\n  ('sofan', 'i'),\n  ('nu', 'c'),\n  ('!', 'c')],\n [('Å', 'c'),\n  ('ena', 'c'),\n  ('sidan', 'c'),\n  ('anser', 'c'),\n  ('visa', 'i'),\n  ('att', 'c'),\n  ('politiker', 'c'),\n  ('är', 'c'),\n  ('en', 'c'),\n  ('del', 'c'),\n  ('av', 'c'),\n  ('samhälle', 'i'),\n  ('.', 'c')],\n [('A3', 'c'),\n  ('De', 'c'),\n  ('känner', 'c'),\n  ('inte', 'c'),\n  ('frihet', 'c'),\n  ('när', 'c'),\n  ('de', 'c'),\n  ('leker', 'c'),\n  ('med', 'c'),\n  ('sina', 'c'),\n  ('kompiser', 'i'),\n  ('på', 'i'),\n  ('skol', 'i'),\n  ('och', 'c'),\n  ('ute', 'c'),\n  ('.', 'c')],\n [('Innan', 'i'),\n  ('125', 'c'),\n  ('år', 'c'),\n  ('sedan', 'c'),\n  ('när', 'c'),\n  ('telefon', 'i'),\n  ('uppfanns', 'c'),\n  ('människor', 'c'),\n  ('hade', 'i'),\n  ('möjlighet', 'c'),\n  ('att', 'c'),\n  ('kommunicera', 'c'),\n  ('bara', 'i'),\n  ('ansikte', 'c'),\n  ('mot', 'c'),\n  ('ansikte', 'c'),\n  ('och', 'c'),\n  ('genom', 'c'),\n  ('post', 'c'),\n  (',', 'c'),\n  ('som', 'c'),\n  ('Björkqvist', 'c'),\n  ('redogör', 'c'),\n  ('för', 'c'),\n  ('etnolog', 'i'),\n  ('J', 'c'),\n  ('.', 'c')],\n [('Åklagaren', 'c'),\n  ('öppnade', 'c'),\n  ('ett', 'c'),\n  ('ärende', 'c'),\n  ('för', 'c'),\n  ('mördaren', 'i'),\n  ('och', 'c'),\n  ('krävde', 'c'),\n  ('fängelse', 'i'),\n  ('för', 'i'),\n  ('livet', 'i'),\n  ('.', 'c')],\n [('Vuxna', 'c'),\n  ('är', 'c'),\n  ('de', 'c'),\n  ('som', 'c'),\n  ('får', 'c'),\n  ('rösta', 'c'),\n  ('och', 'c'),\n  ('bestämma', 'c'),\n  (',', 'c'),\n  ('för', 'c'),\n  ('att', 'c'),\n  ('det', 'i'),\n  ('vet', 'c'),\n  ('bäst', 'c'),\n  (',', 'c'),\n  ('påstår', 'c'),\n  ('de', 'c'),\n  ('vuxna', 'c'),\n  ('i', 'c'),\n  ('samhället', 'c'),\n  ('.', 'c')],\n [('Jag', 'c'),\n  ('hoppas', 'c'),\n  ('att', 'c'),\n  ('du', 'c'),\n  ('lyckas', 'c'),\n  ('.', 'c')],\n [('Om', 'c'),\n  ('jag', 'c'),\n  ('gick', 'c'),\n  ('forbi', 'i'),\n  ('tänkte', 'i'),\n  ('jag', 'c'),\n  ('den', 'i'),\n  ('stor', 'i'),\n  ('djur', 'i'),\n  ('skulle', 'c'),\n  ('komma', 'c'),\n  ('och', 'c'),\n  ('äta', 'c'),\n  ('up', 'i'),\n  ('alla', 'c'),\n  ('hundpulvarna', 'i'),\n  ('.', 'c')],\n [('Det', 'c'),\n  ('är', 'c'),\n  ('klart', 'c'),\n  ('att', 'c'),\n  ('ens', 'c'),\n  ('fina', 'c'),\n  (',', 'c'),\n  ('dyra', 'c'),\n  ('klädstil', 'c'),\n  ('kan', 'c'),\n  ('ge', 'c'),\n  ('status', 'c'),\n  ('medan', 'c'),\n  ('en', 'c'),\n  ('dålig', 'c'),\n  ('klädstil', 'c'),\n  ('kan', 'c'),\n  ('karaktäriseras', 'c'),\n  ('som', 'c'),\n  ('utesluten', 'i'),\n  (',', 'i'),\n  ('omodernt', 'i'),\n  ('och', 'i'),\n  ('man', 'i'),\n  ('kan', 'i'),\n  ('förlora', 'i'),\n  ('olika', 'c'),\n  ('chanser', 'c'),\n  ('man', 'c'),\n  ('får', 'c'),\n  ('i', 'c'),\n  ('livet', 'c'),\n  ('.', 'c')],\n [('Där', 'c'),\n  ('kan', 'c'),\n  ('jag', 'c'),\n  ('träffa', 'c'),\n  ('mina', 'c'),\n  (',', 'i'),\n  ('klasskamrater', 'c'),\n  (',', 'c'),\n  ('mina', 'c'),\n  ('lärare', 'c'),\n  ('.', 'c')],\n [('Historien', 'c'),\n  ('skrivs', 'c'),\n  ('ner', 'c'),\n  ('i', 'c'),\n  ('olika', 'c'),\n  ('litterära', 'c'),\n  ('verk', 'c'),\n  ('och', 'c'),\n  ('får', 'c'),\n  ('oss', 'c'),\n  ('att', 'c'),\n  ('tänka', 'c'),\n  ('efter', 'c'),\n  ('innan', 'c'),\n  ('man', 'i'),\n  ('gör', 'c'),\n  ('samma', 'c'),\n  ('misstag', 'c'),\n  ('om', 'c'),\n  ('och', 'c'),\n  ('om', 'c'),\n  ('igen', 'c'),\n  ('.', 'c')],\n [('Där', 'i'),\n  ('avslöjas', 'c'),\n  ('prinsessans', 'c'),\n  ('magiska', 'c'),\n  ('krafter', 'c'),\n  ('och', 'c'),\n  ('hon', 'c'),\n  ('flyr', 'c'),\n  ('från', 'c'),\n  ('staden', 'c'),\n  (',', 'c'),\n  ('men', 'c'),\n  ('letas', 'c'),\n  ('upp', 'c'),\n  ('av', 'c'),\n  ('sin', 'c'),\n  ('syster', 'c'),\n  ('som', 'c'),\n  ('blir', 'c'),\n  ('träffad', 'c'),\n  ('av', 'i'),\n  ('i', 'c'),\n  ('hjärtat', 'c'),\n  ('av', 'c'),\n  ('en', 'c'),\n  ('förtrollning', 'c'),\n  (',', 'i'),\n  ('Förtrollningen', 'c'),\n  ('kan', 'c'),\n  ('bara', 'c'),\n  ('brytas', 'c'),\n  ('av', 'c'),\n  ('en', 'c'),\n  ('äkta', 'c'),\n  ('kärleks', 'i'),\n  ('aktion', 'i'),\n  ('vilket', 'i'),\n  ('hon', 'c'),\n  ('själv', 'c'),\n  ('utför', 'c'),\n  ('då', 'c'),\n  ('hon', 'c'),\n  ('väljer', 'c'),\n  ('att', 'c'),\n  ('rädda', 'c'),\n  ('sin', 'c'),\n  ('lillasyster', 'c'),\n  ('istället', 'c'),\n  ('för', 'c'),\n  ('sig', 'c'),\n  ('själv', 'c'),\n  ('.', 'c')],\n [('Det', 'c'),\n  ('skulle', 'c'),\n  ('vara', 'c'),\n  ('mycket', 'c'),\n  ('tråkigt', 'c'),\n  ('att', 'c'),\n  ('leva', 'c'),\n  ('med', 'c'),\n  ('folk', 'i'),\n  ('som', 'c'),\n  ('är', 'c'),\n  ('humorlös', 'c'),\n  ('.', 'c')],\n [('När', 'c'),\n  ('vi', 'c'),\n  ('tar', 'c'),\n  ('räst', 'i'),\n  ('kan', 'c'),\n  ('man', 'c'),\n  ('vänta', 'i'),\n  ('lång', 'i'),\n  ('tid', 'i'),\n  ('.', 'c')],\n [('Nuförtiden', 'c'),\n  ('har', 'c'),\n  ('man', 'c'),\n  ('i', 'c'),\n  ('vissa', 'c'),\n  ('länder', 'c'),\n  ('över', 'i'),\n  ('världen', 'c'),\n  ('frihet', 'c'),\n  ('att', 'c'),\n  ('välja', 'c'),\n  ('vem', 'c'),\n  ('man', 'c'),\n  ('ska', 'c'),\n  ('vara', 'c'),\n  ('med', 'c'),\n  ('.', 'c')],\n [('Personligen', 'c'),\n  (',', 'i'),\n  ('tycker', 'c'),\n  ('jag', 'c'),\n  ('att', 'c'),\n  ('man', 'c'),\n  ('inte', 'i'),\n  ('behöver', 'c'),\n  ('betala', 'c'),\n  ('mycket', 'c'),\n  ('pengar', 'c'),\n  ('för', 'c'),\n  ('att', 'c'),\n  ('få', 'c'),\n  ('de', 'c'),\n  ('dyraste', 'c'),\n  ('och', 'c'),\n  ('mest', 'c'),\n  ('exklusiva', 'c'),\n  ('kläder', 'i'),\n  ('och', 'c'),\n  ('accesories', 'i'),\n  ('men', 'i'),\n  ('inte', 'i'),\n  ('heller', 'c'),\n  ('att', 'c'),\n  ('inte', 'i'),\n  ('bryr', 'i'),\n  ('sig', 'c'),\n  ('alls', 'i'),\n  ('om', 'c'),\n  ('sitt', 'c'),\n  ('utseende', 'c'),\n  ('.', 'c')],\n [('När', 'c'),\n  ('jag', 'c'),\n  ('preparerade', 'i'),\n  ('att', 'i'),\n  ('skriva', 'c'),\n  ('någon', 'i'),\n  (',', 'c'),\n  ('fann', 'c'),\n  ('jag', 'c'),\n  ('att', 'c'),\n  ('jag', 'c'),\n  ('glömde', 'i'),\n  ('att', 'c'),\n  ('ta', 'c'),\n  ('med', 'c'),\n  ('en', 'c'),\n  ('penna', 'c'),\n  ('.', 'c'),\n  ('”', 'c')],\n [('\\ufeffB10BT1', 'c')],\n [('Jag', 'c'),\n  ('upplever', 'c'),\n  ('också', 'c'),\n  ('att', 'c'),\n  ('relation', 'i'),\n  ('till', 'c'),\n  ('kläder', 'c'),\n  ('och', 'c'),\n  ('utseende', 'c'),\n  ('är', 'c'),\n  ('olika', 'c'),\n  ('utifrån', 'i'),\n  ('olika', 'c'),\n  ('perioder', 'c'),\n  ('i', 'c'),\n  ('livet', 'c'),\n  ('.', 'c')],\n [('Samhället', 'c'),\n  ('i', 'c'),\n  ('Sverige', 'c'),\n  ('och', 'c'),\n  ('andra', 'c'),\n  ('länder', 'c'),\n  ('som', 'c'),\n  ('demokratiska', 'i'),\n  ('lider', 'i'),\n  ('mycket', 'i'),\n  ('av', 'c'),\n  ('svarta', 'c'),\n  ('tjänster', 'c'),\n  ('.', 'i')],\n [('En', 'c'),\n  ('partik', 'i'),\n  ('ledare', 'i'),\n  ('tycker', 'c'),\n  ('den', 'i'),\n  ('första', 'c'),\n  ('inledningen', 'i'),\n  ('som', 'i'),\n  ('människor', 'c'),\n  ('första', 'i'),\n  ('måste', 'c'),\n  ('få', 'c'),\n  ('godkänd', 'i'),\n  ('med', 'i'),\n  ('språk', 'i'),\n  ('betyg', 'i'),\n  ('med', 'c'),\n  ('prov', 'i'),\n  ('.', 'c')],\n [('Kan', 'c'),\n  ('vi', 'c'),\n  ('köpa', 'c'),\n  ('allt', 'c'),\n  ('för', 'c'),\n  ('pengar', 'c'),\n  ('?', 'c')],\n [('Jag', 'c'),\n  ('tycker', 'c'),\n  ('om', 'c'),\n  ('att', 'c'),\n  ('resa', 'c'),\n  ('till', 'c'),\n  ('Peru', 'i'),\n  ('.', 'c')],\n [('Mia', 'c'),\n  ('Källgren', 'c'),\n  ('(', 'c'),\n  ('dagenssamhälle.se', 'c'),\n  (')', 'c'),\n  ('förklarar', 'c'),\n  ('att', 'c'),\n  ('det', 'c'),\n  ('är', 'c'),\n  ('brist', 'c'),\n  ('på', 'c'),\n  ('kunskap', 'c'),\n  ('om', 'c'),\n  ('demokrati', 'c'),\n  ('i', 'c'),\n  ('svenska', 'c'),\n  ('skolar', 'i'),\n  ('.', 'c')],\n [('Nedan', 'c'),\n  ('visar', 'c'),\n  ('jag', 'c'),\n  ('hur', 'c'),\n  ('tre', 'c'),\n  ('olika', 'c'),\n  ('litterära', 'c'),\n  ('verk', 'c'),\n  ('skildrar', 'c'),\n  ('detta', 'c'),\n  ('tema', 'c'),\n  ('och', 'c'),\n  ('vad', 'c'),\n  ('vi', 'c'),\n  ('kan', 'c'),\n  ('lära', 'c'),\n  ('oss', 'c'),\n  ('av', 'c'),\n  ('dessa', 'c'),\n  ('skildringar', 'c'),\n  ('.', 'c')],\n [('Slutligen', 'c'),\n  ('vill', 'c'),\n  ('jag', 'c'),\n  ('påpekar', 'i'),\n  ('att', 'c'),\n  ('unga', 'c'),\n  ('är', 'c'),\n  ('läraktiga', 'c'),\n  ('.', 'c')],\n [('Det', 'i'),\n  ('hände', 'c'),\n  ('så', 'i'),\n  ('ofta', 'c'),\n  ('för', 'c'),\n  ('mig', 'c'),\n  ('också', 'c'),\n  ('.', 'c')],\n [('Unga', 'c'),\n  ('är', 'c'),\n  ('ändå', 'c'),\n  ('medvetna', 'c'),\n  ('om', 'c'),\n  ('vilka', 'c'),\n  ('yrkesmässiga', 'c'),\n  ('egenskaper', 'c'),\n  ('krävs', 'i'),\n  ('det', 'c'),\n  ('i', 'c'),\n  ('arbetslivet', 'c'),\n  ('.', 'c')],\n [('Om', 'c'),\n  ('en', 'c'),\n  ('person', 'c'),\n  ('kommer', 'c'),\n  ('från', 'c'),\n  ('ett', 'c'),\n  ('rikare', 'c'),\n  ('land', 'c'),\n  ('så', 'c'),\n  ('behöve', 'i'),\n  ('mycket', 'c'),\n  ('kortare', 'c'),\n  ('tid', 'c'),\n  ('att', 'i'),\n  ('få', 'c'),\n  ('sin', 'i'),\n  ('medborgarskp', 'c'),\n  ('även', 'c'),\n  ('om', 'c'),\n  ('personen', 'c'),\n  ('inte', 'c'),\n  ('ens', 'c'),\n  ('kan', 'c'),\n  ('tala', 'c'),\n  ('svensk', 'i'),\n  ('.', 'c')],\n [('Efter', 'c'),\n  ('fem', 'c'),\n  ('år', 'i'),\n  ('kärlek', 'c'),\n  ('lämnade', 'c'),\n  ('jag', 'c'),\n  ('Peru', 'i'),\n  ('på', 'c'),\n  ('grund', 'c'),\n  ('av', 'c'),\n  ('kriget', 'c'),\n  ('och', 'c'),\n  ('lämnade', 'c'),\n  ('flickan', 'c'),\n  ('jag', 'c'),\n  ('älskade', 'c'),\n  ('och', 'i'),\n  ('jag', 'c'),\n  ('var', 'c'),\n  ('väldigt', 'c'),\n  ('ledsen', 'c'),\n  ('och', 'c'),\n  ('nu', 'c'),\n  ('gift', 'i'),\n  ('hon', 'i'),\n  ('sig', 'c'),\n  ('med', 'c'),\n  ('någon', 'c'),\n  ('annan', 'c'),\n  ('.', 'c')],\n [('Vad', 'c'), ('tror', 'c'), ('du', 'c'), ('?', 'c')],\n [('Det', 'c'),\n  ('som', 'c'),\n  ('händer', 'c'),\n  ('är', 'c'),\n  ('att', 'c'),\n  ('ett', 'c'),\n  ('litet', 'c'),\n  ('”', 'c'),\n  ('like', 'c'),\n  ('”', 'c'),\n  ('eller', 'c'),\n  ('ett', 'c'),\n  ('litet', 'c'),\n  ('”', 'c'),\n  ('sms', 'c'),\n  ('”', 'c'),\n  ('kan', 'c'),\n  ('hjälpa', 'c'),\n  ('till', 'c'),\n  ('att', 'c'),\n  ('frigöra', 'c'),\n  ('dopamin', 'c'),\n  ('i', 'c'),\n  ('hjärnan', 'c'),\n  ('enligt', 'i'),\n  ('många', 'i'),\n  ('undersökningar', 'i'),\n  ('och', 'c'),\n  ('såklart', 'i'),\n  ('när', 'c'),\n  ('det', 'c'),\n  ('upprepas', 'c'),\n  ('många', 'c'),\n  ('gånger', 'c'),\n  ('blir', 'c'),\n  ('det', 'c'),\n  ('perfekt', 'i'),\n  ('association', 'c'),\n  ('mellan', 'c'),\n  ('beteende', 'i'),\n  ('att', 'c'),\n  ('plocka', 'c'),\n  ('upp', 'c'),\n  ('mobilen', 'c'),\n  ('och', 'c'),\n  ('att', 'c'),\n  ('frigöra', 'c'),\n  ('dopamin', 'c'),\n  ('i', 'c'),\n  ('hjärnan', 'c'),\n  ('.', 'c')],\n [('Kläderna', 'c'),\n  ('och', 'c'),\n  ('sina', 'i'),\n  ('tillbehörigheter', 'i'),\n  ('kan', 'c'),\n  ('påverka', 'c'),\n  ('andras', 'c'),\n  ('åsikter', 'c'),\n  ('eller', 'c'),\n  ('beteende', 'i'),\n  ('.', 'c')],\n [('Hoppas', 'c'),\n  ('att', 'c'),\n  ('allt', 'c'),\n  ('är', 'c'),\n  ('bra', 'c'),\n  ('med', 'c'),\n  ('dig', 'c'),\n  ('!', 'c')],\n [('Det', 'c'),\n  ('andra', 'c'),\n  ('litterära', 'c'),\n  ('verket', 'c'),\n  ('som', 'c'),\n  ('jag', 'c'),\n  ('har', 'c'),\n  ('valt', 'c'),\n  ('är', 'c'),\n  ('en', 'c'),\n  ('ungdomsbok', 'c'),\n  ('\\\\\"', 'i'),\n  ('Stjärnlösa', 'c'),\n  ('nätter', 'c'),\n  ('\\\\\"', 'c'),\n  ('som', 'i'),\n  ('handlar', 'c'),\n  ('om', 'c'),\n  ('en', 'c'),\n  ('ung', 'c'),\n  ('kurdiskt', 'i'),\n  ('kille', 'c'),\n  (',', 'c'),\n  ('uppvuxen', 'c'),\n  ('i', 'c'),\n  ('Sverige', 'c'),\n  ('och', 'i'),\n  ('som', 'i'),\n  ('blir', 'c'),\n  ('bortgift', 'c'),\n  ('och', 'i'),\n  ('hur', 'i'),\n  ('hans', 'c'),\n  ('liv', 'c'),\n  ('förändras', 'c'),\n  ('helt', 'c'),\n  ('efter', 'c'),\n  ('giftermålet', 'i'),\n  ('samtidigt', 'i'),\n  ('som', 'c'),\n  ('han', 'c'),\n  ('träffar', 'c'),\n  ('sin', 'c'),\n  ('riktiga', 'c'),\n  ('livskärlek', 'c'),\n  ('i', 'c'),\n  ('Sverige', 'c'),\n  ('.', 'c')],\n [('Däremot', 'i'),\n  ('så', 'i'),\n  ('vill', 'c'),\n  ('han', 'c'),\n  ('egentligen', 'i'),\n  ('inte', 'c'),\n  ('bli', 'c'),\n  ('bortgift', 'c'),\n  ('till', 'c'),\n  ('en', 'c'),\n  ('kurdisk', 'c'),\n  ('familj', 'c'),\n  ('utan', 'i'),\n  ('han', 'c'),\n  ('vill', 'c'),\n  ('gifta', 'c'),\n  ('sig', 'c'),\n  ('i', 'c'),\n  ('hemlandet', 'c'),\n  ('Sverige', 'c'),\n  ('.', 'c')],\n [('T.ex.', 'c'),\n  ('i', 'c'),\n  ('filmen', 'i'),\n  ('Modigs', 'i'),\n  ('anslaget', 'i'),\n  ('ser', 'i'),\n  ('vi', 'c'),\n  ('att', 'i'),\n  ('hur', 'c'),\n  ('är', 'i'),\n  ('starkt', 'i'),\n  ('relationen', 'c'),\n  ('mellan', 'c'),\n  ('Merida', 'c'),\n  ('och', 'c'),\n  ('hennes', 'c'),\n  ('föräldrar', 'c'),\n  (',', 'c'),\n  ('men', 'c'),\n  ('eftersom', 'c'),\n  ('att', 'c'),\n  ('hennes', 'c'),\n  ('mamma', 'c'),\n  ('vill', 'c'),\n  ('ha', 'c'),\n  ('en', 'c'),\n  ('sak', 'c'),\n  ('och', 'c'),\n  ('Merida', 'c'),\n  ('vill', 'c'),\n  ('ha', 'c'),\n  ('en', 'c'),\n  ('annan', 'c'),\n  ('sak', 'c'),\n  ('då', 'i'),\n  ('uppstår', 'c'),\n  ('det', 'c'),\n  ('en', 'c'),\n  ('konflikt', 'c'),\n  ('och', 'c'),\n  ('relationen', 'c'),\n  ('blir', 'c'),\n  ('svagare', 'c'),\n  ('.', 'c')],\n [('Med', 'c'),\n  ('andra', 'c'),\n  ('ord', 'c'),\n  ('språket', 'i'),\n  ('är', 'c'),\n  ('nyckeln', 'c'),\n  ('till', 'c'),\n  ('alla', 'c'),\n  ('låsta', 'c'),\n  ('dörrar', 'c'),\n  (',', 'c'),\n  ('men', 'c'),\n  ('det', 'c'),\n  ('finns', 'c'),\n  ('viktigare', 'c'),\n  ('saker', 'c'),\n  ('att', 'c'),\n  ('satsa', 'c'),\n  ('på', 'c'),\n  ('som', 'c'),\n  ('jag', 'c'),\n  ('kommer', 'c'),\n  ('att', 'c'),\n  ('nämna', 'c'),\n  ('längre', 'c'),\n  ('ner', 'c'),\n  ('.', 'c')],\n [('0000000000', 'c')],\n [('I', 'c'),\n  ('boken', 'c'),\n  ('kan', 'c'),\n  ('man', 'c'),\n  ('läsa', 'c'),\n  ('hur', 'i'),\n  ('mycket', 'c'),\n  ('än', 'c'),\n  ('Amar', 'c'),\n  (',', 'c'),\n  ('bokens', 'c'),\n  ('protagonisten', 'i'),\n  ('har', 'i'),\n  ('problem', 'c'),\n  ('med', 'c'),\n  ('sin', 'c'),\n  ('pappa', 'c'),\n  ('älskar', 'c'),\n  ('de', 'c'),\n  ('ändå', 'c'),\n  ('varandra', 'c'),\n  ('.', 'c')],\n [('Det', 'i'),\n  ('första', 'c'),\n  ('litterära', 'c'),\n  ('verket', 'c'),\n  ('som', 'c'),\n  ('jag', 'c'),\n  ('kommer', 'c'),\n  ('ta', 'c'),\n  ('att', 'c'),\n  ('upp', 'c'),\n  ('är', 'c'),\n  ('När', 'c'),\n  ('Hundarna', 'i'),\n  ('Kommer', 'i'),\n  (',', 'c'),\n  ('som', 'c'),\n  ('bland', 'c'),\n  ('annat', 'c'),\n  ('handlar', 'c'),\n  ('om', 'c'),\n  ('kärlek', 'c'),\n  (',', 'c'),\n  ('men', 'c'),\n  ('även', 'c'),\n  ('om', 'c'),\n  ('syskonkärlek', 'c'),\n  ('och', 'c'),\n  ('hur', 'i'),\n  ('obalans', 'c'),\n  ('mellan', 'c'),\n  ('dessa', 'c'),\n  ('två', 'c'),\n  ('kan', 'c'),\n  ('leda', 'c'),\n  ('till', 'c'),\n  ('ensamhet', 'c'),\n  (',', 'c'),\n  ('isolering', 'c'),\n  ('och', 'c'),\n  ('en', 'c'),\n  ('destruktiv', 'c'),\n  ('relation', 'c'),\n  ('.', 'c')],\n [('(', 'c'),\n  ('Tove', 'c'),\n  ('Nandorf', 'c'),\n  (',', 'c'),\n  ('DN', 'c'),\n  (',', 'i'),\n  ('ekonomi', 'c'),\n  (',', 'c'),\n  ('17', 'c'),\n  ('/', 'c'),\n  ('11', 'c'),\n  (',', 'i'),\n  ('2016', 'c'),\n  (')', 'c'),\n  ('.', 'c')],\n [('1000', 'c'),\n  ('kr', 'c'),\n  ('är', 'c'),\n  ('mycket', 'c'),\n  ('pengar', 'c'),\n  ('och', 'c'),\n  ('jag', 'c'),\n  ('behöver', 'c'),\n  ('det', 'i'),\n  ('.', 'c')],\n [('Kläder', 'c'),\n  ('är', 'c'),\n  ('till', 'c'),\n  ('så', 'i'),\n  ('att', 'c'),\n  ('vi', 'c'),\n  ('inte', 'c'),\n  ('bli', 'i'),\n  ('kalla', 'c'),\n  ('och', 'c'),\n  ('blötta', 'i'),\n  ('.', 'c')],\n [('Kanske', 'c'),\n  ('jag', 'c'),\n  ('kan', 'i'),\n  ('resa', 'c'),\n  ('på', 'i'),\n  ('framtiden', 'c'),\n  ('men', 'c'),\n  ('inte', 'c'),\n  ('nu', 'c'),\n  ('.', 'c')],\n [('För', 'c'),\n  ('det', 'c'),\n  ('andra', 'c'),\n  ('bjuda', 'i'),\n  ('dina', 'c'),\n  ('grannar', 'c'),\n  ('för', 'i'),\n  ('fika', 'c'),\n  ('.', 'c')],\n [('I', 'c'),\n  ('filmen', 'c'),\n  ('Frost', 'c'),\n  ('ser', 'c'),\n  ('man', 'c'),\n  ('att', 'c'),\n  ('alla', 'i'),\n  ('kärlek', 'c'),\n  ('inte', 'c'),\n  ('är', 'c'),\n  ('äkta', 'c'),\n  ('.', 'c')],\n [('Jag', 'c'),\n  ('anser', 'c'),\n  ('att', 'c'),\n  ('idag', 'c'),\n  ('finns', 'c'),\n  ('det', 'i'),\n  ('mer', 'i'),\n  ('ungdomar', 'c'),\n  ('som', 'c'),\n  ('vill', 'c'),\n  ('engagera', 'c'),\n  ('sig', 'c'),\n  ('i', 'c'),\n  ('politik', 'c'),\n  ('än', 'c'),\n  ('det', 'c'),\n  ('var', 'i'),\n  ('10', 'i'),\n  ('-', 'c'),\n  ('30', 'c'),\n  ('år', 'c'),\n  ('sedan', 'c'),\n  ('.', 'c')],\n [('Vad', 'c'), ('är', 'c'), ('lycka', 'c'), ('?', 'c')],\n [('Jag', 'c'),\n  ('har', 'c'),\n  ('några', 'c'),\n  ('förslag', 'c'),\n  ('för', 'i'),\n  ('dig', 'c'),\n  ('att', 'i'),\n  ('ha', 'i'),\n  ('bra', 'i'),\n  ('intervju', 'c'),\n  ('.', 'c')],\n [('Ordet', 'c'),\n  ('familj', 'c'),\n  ('har', 'i'),\n  ('ett', 'c'),\n  ('stort', 'c'),\n  ('begrepp', 'c'),\n  ('och', 'c'),\n  ('för', 'c'),\n  ('många', 'c'),\n  ('kan', 'c'),\n  ('det', 'c'),\n  ('ha', 'c'),\n  ('samma', 'c'),\n  ('värde', 'c'),\n  ('som', 'c'),\n  ('livet', 'c'),\n  ('.', 'c')],\n [('Är', 'c'),\n  ('man', 'c'),\n  ('yngre', 'c'),\n  ('än', 'c'),\n  ('18', 'c'),\n  ('i', 'c'),\n  ('Sverige', 'c'),\n  ('idag', 'c'),\n  ('har', 'c'),\n  ('man', 'c'),\n  ('inte', 'c'),\n  ('tillåtelse', 'c'),\n  ('att', 'c'),\n  ('köpa', 'c'),\n  ('cigaretter', 'c'),\n  (',', 'c'),\n  ('gifta', 'c'),\n  ('sig', 'c'),\n  ('eller', 'c'),\n  ('flytta', 'c'),\n  ('hemifrån', 'c'),\n  ('utan', 'c'),\n  ('sina', 'c'),\n  ('föräldrars', 'c'),\n  ('medgivande', 'c'),\n  ('.', 'c')],\n [('Den', 'c'),\n  ('ger', 'c'),\n  ('inga', 'c'),\n  ('snabba', 'c'),\n  ('resultat', 'c'),\n  ('och', 'c'),\n  ('hjälper', 'c'),\n  ('inte', 'c'),\n  ('lösa', 'i'),\n  ('alla', 'c'),\n  ('problem', 'c'),\n  ('på', 'c'),\n  ('arbetsmarknaden', 'c'),\n  ('med', 'c'),\n  ('detsamma', 'c'),\n  ('.', 'c')],\n [('Jag', 'c'),\n  ('har', 'c'),\n  ('valt', 'c'),\n  ('Alex', 'c'),\n  ('för', 'c'),\n  ('att', 'c'),\n  ('beskriva', 'c'),\n  ('hans', 'c'),\n  ('inre', 'c'),\n  ('och', 'c'),\n  ('yttre', 'c'),\n  ('egenskaper', 'c'),\n  ('.', 'c')],\n [('Det', 'c'),\n  ('är', 'c'),\n  ('arbetsgivaren', 'c'),\n  ('som', 'c'),\n  ('måste', 'c'),\n  ('skruvar', 'i'),\n  ('ner', 'c'),\n  ('sina', 'c'),\n  ('krav', 'c'),\n  ('på', 'c'),\n  ('unga', 'i'),\n  ('.', 'c')],\n [('Det', 'c'),\n  ('är', 'c'),\n  ('bara', 'c'),\n  ('fint', 'c'),\n  ('med', 'c'),\n  ('mig', 'c'),\n  ('.', 'c')],\n [('Ibland', 'c'),\n  ('hon', 'c'),\n  ('ger', 'i'),\n  ('mig', 'c'),\n  ('sin', 'i'),\n  ('gamla', 'c'),\n  ('kläder', 'c'),\n  ('.', 'c')],\n [('För', 'c'),\n  ('det', 'c'),\n  ('andra', 'c'),\n  ('har', 'c'),\n  ('jag', 'c'),\n  ('som', 'c'),\n  ('alla', 'c'),\n  ('andra', 'c'),\n  ('ett', 'c'),\n  ('ekologiskt', 'c'),\n  ('ansvar', 'c'),\n  ('mot', 'c'),\n  ('naturen', 'c'),\n  (',', 'c'),\n  ('därför', 'c'),\n  ('måste', 'c'),\n  ('vi', 'c'),\n  ('köpa', 'c'),\n  ('mindre', 'c'),\n  ('.', 'c')],\n [('Hej', 'c'), ('min', 'c'), ('vän', 'c'), ('!', 'c')],\n [('Det', 'c'),\n  ('finns', 'c'),\n  ('mycket', 'c'),\n  ('att', 'c'),\n  ('göra', 'c'),\n  ('i', 'c'),\n  ('Oslo', 'i'),\n  (',', 'c'),\n  ('man', 'c'),\n  ('kan', 'c'),\n  ('besöker', 'i'),\n  ('den', 'i'),\n  ('gammal', 'i'),\n  ('slott', 'i'),\n  (',', 'c'),\n  ('man', 'c'),\n  ('kan', 'c'),\n  ('spela', 'c'),\n  ('ishockey', 'c'),\n  ('och', 'c'),\n  ('fotball', 'i'),\n  ('.', 'c')],\n [('1', 'c'), ('.', 'c')],\n [('Hej', 'c'), ('Segerstad', 'i'), ('kommunen', 'i'), ('!', 'c')],\n [('Kramar', 'c'), ('dig', 'c'), ('!', 'c')],\n [('Jag', 'c'),\n  ('älskar', 'c'),\n  ('min', 'c'),\n  ('sambo', 'c'),\n  ('och', 'c'),\n  ('han', 'c'),\n  ('älska', 'i'),\n  ('mig', 'c'),\n  ('också', 'c'),\n  ('.', 'c')],\n [('För', 'c'),\n  ('det', 'c'),\n  ('andra', 'c'),\n  ('kan', 'c'),\n  ('jag', 'c'),\n  ('få', 'c'),\n  ('barnen', 'c'),\n  ('till', 'c'),\n  ('skolan', 'c'),\n  (',', 'c'),\n  ('särskilt', 'c'),\n  ('på', 'c'),\n  ('vintern', 'c'),\n  ('med', 'c'),\n  ('snö', 'c'),\n  ('som', 'c'),\n  ('faller', 'c'),\n  ('så', 'c'),\n  ('att', 'c'),\n  ('det', 'c'),\n  ('är', 'c'),\n  ('svårt', 'c'),\n  ('att', 'c'),\n  ('hitta', 'c'),\n  ('vägen', 'c'),\n  ('.', 'c')],\n [('Jag', 'c'),\n  ('jobber', 'i'),\n  ('natten', 'i'),\n  ('och', 'c'),\n  ('min', 'c'),\n  ('gamla', 'c'),\n  ('kurs', 'c'),\n  ('börjar', 'c'),\n  ('semma', 'i'),\n  ('tid', 'c'),\n  ('.', 'c')],\n [('Maria', 'c')],\n [('Jag', 'c'),\n  ('är', 'i'),\n  ('tyvär', 'i'),\n  ('för', 'i'),\n  ('problem', 'i'),\n  ('och', 'i'),\n  ('jag', 'c'),\n  ('har', 'c'),\n  ('fråga', 'i'),\n  ('från', 'i'),\n  ('er', 'c'),\n  ('.', 'i')],\n [('Det', 'c'),\n  ('finns', 'c'),\n  ('också', 'c'),\n  ('många', 'c'),\n  ('frågor', 'c'),\n  ('kvar', 'c'),\n  ('om', 'c'),\n  ('lycka', 'c'),\n  (':', 'c'),\n  ('Varför', 'c'),\n  ('vill', 'c'),\n  ('människor', 'c'),\n  ('alltid', 'c'),\n  ('ha', 'c'),\n  ('mer', 'c'),\n  ('?', 'c')],\n [('David', 'c'),\n  ('är', 'c'),\n  ('min', 'c'),\n  ('bror', 'c'),\n  ('”', 'c'),\n  ('.', 'c')],\n [('Nu', 'c'),\n  ('jag', 'c'),\n  ('bo', 'i'),\n  ('i', 'c'),\n  ('Sydden', 'i'),\n  (',', 'c'),\n  ('i', 'c'),\n  ('en', 'c'),\n  ('nybyggnad', 'i'),\n  ('lagenhet', 'i'),\n  (',', 'c'),\n  ('med', 'c'),\n  ('min', 'c'),\n  ('sambo', 'c'),\n  ('.', 'c')],\n [('Jag', 'c'),\n  ('tycker', 'i'),\n  ('att', 'c'),\n  ('elever', 'i'),\n  ('ska', 'i'),\n  ('nöjda', 'i'),\n  ('och', 'c'),\n  ('tränar', 'i'),\n  ('svenska', 'c'),\n  ('men', 'i'),\n  ('i', 'c'),\n  ('skolan', 'c'),\n  ('när', 'c'),\n  ('finns', 'i'),\n  ('ett', 'c'),\n  ('riktigt', 'c'),\n  ('kafé', 'c')],\n [('Det', 'c'),\n  ('finnes', 'i'),\n  ('också', 'c'),\n  ('en', 'i'),\n  ('någn', 'i'),\n  ('bra', 'c'),\n  ('från', 'i'),\n  ('vattenhavet', 'i'),\n  ('.', 'c')],\n [('Där', 'c'),\n  ('kan', 'c'),\n  ('man', 'c'),\n  ('också', 'c'),\n  ('vara', 'c'),\n  ('fri', 'c'),\n  ('och', 'c'),\n  ('uttrycka', 'c'),\n  ('sig', 'c'),\n  (',', 'c'),\n  ('utanför', 'i'),\n  ('politiskt', 'c'),\n  ('tryck', 'i'),\n  ('.', 'c')],\n [('Ändringar', 'c'),\n  ('av', 'c'),\n  ('dessa', 'c'),\n  ('syn', 'i'),\n  ('beror', 'c'),\n  ('på', 'c'),\n  ('samhället', 'c'),\n  ('och', 'c'),\n  ('hur', 'c'),\n  ('bra', 'c'),\n  ('demokratin', 'c'),\n  ('fungerar', 'c'),\n  ('idag', 'c'),\n  ('.', 'c')],\n [('För', 'c'),\n  ('det', 'c'),\n  ('andra', 'c'),\n  ('man', 'i'),\n  ('kan', 'c'),\n  ('hitta', 'c'),\n  ('jobb', 'c'),\n  ('på', 'c'),\n  ('enkelt', 'i'),\n  ('väg', 'c'),\n  ('.', 'c')],\n [('Vad', 'c'),\n  ('angår', 'c'),\n  ('mig', 'c'),\n  ('själv', 'c'),\n  ('då', 'i'),\n  ('skulle', 'c'),\n  ('jag', 'c'),\n  ('säga', 'c'),\n  ('att', 'c'),\n  ('jag', 'c'),\n  ('brinner', 'c'),\n  ('av', 'i'),\n  ('mode', 'c'),\n  ('.', 'c')],\n [('Jag', 'c'), ('heter', 'c'), ('Sara', 'c'), ('.', 'c')],\n [('Jag', 'c'),\n  ('lär', 'c'),\n  ('mig', 'c'),\n  ('olika', 'c'),\n  ('saker', 'c'),\n  ('inom', 'c'),\n  ('svenska', 'c'),\n  ('till', 'i'),\n  ('exambel', 'i'),\n  (':', 'i'),\n  ('läsa', 'c'),\n  (',', 'c'),\n  ('skriva', 'c'),\n  (',', 'c'),\n  ('tala', 'c'),\n  ('och', 'c'),\n  ('höra', 'c'),\n  ('svenska', 'c'),\n  ('.', 'c')],\n [('Tjejens', 'c'),\n  ('föräldrar', 'c'),\n  ('är', 'c'),\n  ('mycket', 'c'),\n  ('kritiska', 'c'),\n  ('om', 'i'),\n  ('hur', 'c'),\n  ('mycket', 'c'),\n  ('tid', 'c'),\n  ('hon', 'c'),\n  ('spenderar', 'c'),\n  ('med', 'c'),\n  ('hennes', 'i'),\n  ('pojkvän', 'c'),\n  ('och', 'c'),\n  ('vilka', 'i'),\n  ('omständigheter', 'c'),\n  ('deras', 'i'),\n  ('familj', 'c'),\n  ('är', 'i'),\n  ('under', 'i'),\n  ('.', 'i')],\n [('Det', 'c'),\n  ('påverkar', 'c'),\n  ('männkosyen', 'i'),\n  ('och', 'c'),\n  ('kan', 'c'),\n  ('hindra', 'c'),\n  ('eller', 'c'),\n  ('göra', 'i'),\n  ('en', 'i'),\n  ('framsteg', 'c'),\n  ('.', 'c')],\n [('Bagdad', 'i'),\n  ('ligger', 'c'),\n  ('i', 'c'),\n  ('mitten', 'c'),\n  ('av', 'c'),\n  ('Sudan', 'i'),\n  (',', 'c'),\n  ('och', 'c'),\n  ('kommer', 'i'),\n  ('jag', 'c'),\n  ('ifrån', 'i'),\n  ('där', 'i'),\n  ('.', 'c')],\n [('Jag', 'c'),\n  ('tycker', 'c'),\n  ('om', 'c'),\n  ('Norrebock', 'i'),\n  ('för', 'c'),\n  ('att', 'c'),\n  ('min', 'c'),\n  ('familj', 'i'),\n  ('har', 'i'),\n  ('I', 'i'),\n  ('Rosaborg', 'c'),\n  ('och', 'c'),\n  ('mina', 'c'),\n  ('vänner', 'c'),\n  ('åckså', 'i'),\n  ('har', 'i'),\n  ('i', 'c'),\n  ('Rosaborg', 'i'),\n  ('.', 'c')],\n [('Därför', 'c'),\n  ('anser', 'c'),\n  ('vissa', 'c'),\n  ('att', 'c'),\n  ('man', 'c'),\n  ('ska', 'c'),\n  ('behålla', 'c'),\n  ('den', 'c'),\n  ('nuvarande', 'c'),\n  ('åldern', 'c'),\n  (',', 'c'),\n  ('för', 'c'),\n  ('i', 'c'),\n  ('det', 'c'),\n  ('nuvarande', 'c'),\n  ('läget', 'c'),\n  ('anses', 'c'),\n  ('alla', 'c'),\n  ('under', 'c'),\n  ('18', 'c'),\n  ('år', 'c'),\n  ('att', 'i'),\n  ('vara', 'c'),\n  ('ett', 'i'),\n  ('barn', 'c'),\n  (',', 'c'),\n  ('och', 'c'),\n  ('är', 'c'),\n  ('därför', 'c'),\n  ('inte', 'c'),\n  ('mogen', 'i'),\n  ('nog', 'c'),\n  ('att', 'c'),\n  ('få', 'c'),\n  ('rösta', 'c'),\n  ('.', 'c')],\n [('I', 'c'),\n  ('Bungalarna', 'i'),\n  ('liv', 'i'),\n  ('jättesvart', 'i'),\n  ('.', 'c')],\n [('Jag', 'c'),\n  ('studerar', 'c'),\n  ('svenska', 'c'),\n  ('på', 'c'),\n  ('sfi', 'c'),\n  ('I', 'i'),\n  ('Ögglestad', 'i'),\n  ('.', 'c')],\n [('\\\\\"', 'c'),\n  ('Så', 'c'),\n  ('pass', 'c'),\n  ('mycket', 'c'),\n  ('att', 'c'),\n  ('ingen', 'c'),\n  ('på', 'c'),\n  ('Norsk', 'c'),\n  ('språkråd', 'c'),\n  (',', 'c'),\n  ('Norges', 'c'),\n  ('fackorgan', 'c'),\n  ('för', 'c'),\n  ('språkfrågor', 'c'),\n  (',', 'c'),\n  ('har', 'c'),\n  ('någon', 'c'),\n  ('uppfattning', 'c'),\n  ('om', 'c'),\n  ('exakt', 'c'),\n  ('hur', 'c'),\n  ('mycket', 'c'),\n  ('pengar', 'c'),\n  ('det', 'c'),\n  ('rör', 'c'),\n  ('sig', 'c'),\n  ('om', 'c'),\n  ('\\\\\"', 'c'),\n  (',', 'c'),\n  ('säger', 'c'),\n  ('Hermansson', 'c'),\n  ('.', 'c')],\n [('En', 'c'),\n  ('bra', 'c'),\n  ('lösning', 'c'),\n  ('på', 'c'),\n  ('detta', 'c'),\n  ('är', 'c'),\n  ('att', 'c'),\n  ('polisen', 'c'),\n  ('håller', 'c'),\n  ('många', 'c'),\n  ('föreläsningar', 'c'),\n  ('och', 'c'),\n  ('förklarar', 'c'),\n  ('för', 'c'),\n  ('människor', 'c'),\n  ('hur', 'c'),\n  ('viktigt', 'c'),\n  ('registret', 'c'),\n  ('är', 'c'),\n  ('och', 'c')],\n [('Många', 'c'),\n  ('människor', 'c'),\n  ('försöker', 'c'),\n  ('kompensera', 'c'),\n  ('sin', 'c'),\n  ('frustration', 'c'),\n  ('genom', 'c'),\n  ('shopping', 'c'),\n  ('av', 'c'),\n  ('nya', 'c'),\n  ('kläder', 'c'),\n  ('.', 'c')],\n [('Skolan', 'c'), ('är', 'c'), ('viktig', 'i'), ('plats', 'c')],\n [('Det', 'c'),\n  ('är', 'c'),\n  ('bra', 'c'),\n  ('med', 'c'),\n  ('mig', 'c'),\n  ('.', 'c')],\n [('Min', 'c'), ('första', 'c'), ('kärlek', 'c')],\n [('När', 'c'),\n  ('jag', 'c'),\n  ('flyttade', 'c'),\n  ('till', 'c'),\n  ('Sverige', 'c'),\n  (',', 'c'),\n  ('bestämde', 'c'),\n  ('jag', 'c'),\n  ('att', 'i'),\n  ('lära', 'c'),\n  ('mig', 'c'),\n  ('svenska', 'c'),\n  ('språk', 'i'),\n  ('som', 'c'),\n  ('är', 'c'),\n  ('viktigt', 'c'),\n  ('i', 'c'),\n  ('det', 'c'),\n  ('svensk', 'i'),\n  ('samhället', 'c'),\n  ('.', 'c')],\n [('Av', 'c'),\n  ('de', 'c'),\n  ('brott', 'c'),\n  ('som', 'c'),\n  ('har', 'i'),\n  ('begåtts', 'i'),\n  ('i', 'c'),\n  ('Sverige', 'c'),\n  ('år', 'c'),\n  ('2017', 'c'),\n  ('var', 'i'),\n  ('hot', 'c'),\n  ('och', 'c'),\n  ('sexuell', 'i'),\n  ('brott', 'i'),\n  ('på', 'c'),\n  ('första', 'c'),\n  ('plats', 'c'),\n  ('(', 'c'),\n  ('8,3', 'c'),\n  ('%', 'c'),\n  (')', 'c'),\n  ('.', 'c')],\n [('Det', 'c'),\n  ('var', 'c'),\n  ('min', 'c'),\n  ('första', 'c'),\n  ('dag', 'c'),\n  ('på', 'c'),\n  ('gymnasiet', 'c'),\n  ('som', 'c'),\n  ('hette', 'c'),\n  ('”', 'c'),\n  ('Storeskola', 'i'),\n  ('”', 'c'),\n  ('och', 'c'),\n  ('jag', 'c'),\n  ('kände', 'c'),\n  ('mig', 'c'),\n  ('oroligt', 'i'),\n  ('för', 'c'),\n  ('att', 'c'),\n  ('jag', 'c'),\n  ('hade', 'c'),\n  ('inte', 'i'),\n  ('många', 'c'),\n  ('kompisar', 'c'),\n  ('där', 'c'),\n  ('.', 'c')],\n [('Den', 'c'),\n  ('är', 'c'),\n  ('jätte', 'i'),\n  ('små', 'i'),\n  ('för', 'c'),\n  ('tre', 'c'),\n  ('personer', 'c'),\n  ('.', 'c')],\n [('Svenska', 'c'),\n  ('Lisbet', 'c'),\n  ('Rausing', 'c'),\n  ('bestämde', 'c'),\n  ('sig', 'c'),\n  ('att', 'i'),\n  ('hjälpa', 'c'),\n  ('de', 'c'),\n  ('här', 'c'),\n  ('språken', 'c'),\n  ('som', 'c'),\n  ('håller', 'c'),\n  ('på', 'c'),\n  ('att', 'c'),\n  ('försvinna', 'c'),\n  ('genom', 'c'),\n  ('att', 'c'),\n  ('hon', 'i'),\n  ('har', 'i'),\n  ('donerat', 'i'),\n  ('nästan', 'c'),\n  ('tre', 'c'),\n  ('hundra', 'c'),\n  ('miljoner', 'c'),\n  ('från', 'c'),\n  ('sin', 'c'),\n  ('egen', 'c'),\n  ('ficka', 'c'),\n  ('till', 'c'),\n  ('de', 'i'),\n  ('forskarna', 'i'),\n  ('och', 'i'),\n  ('stiftelse', 'i'),\n  ('.', 'c')],\n [('Olikheterna', 'c'),\n  ('mellan', 'c'),\n  ('kulturer', 'c'),\n  ('leder', 'c'),\n  ('till', 'c'),\n  ('att', 'c'),\n  ('alla', 'c'),\n  ('de', 'c'),\n  ('specifika', 'c'),\n  ('koncepten', 'i'),\n  ('som', 'c'),\n  ('möjliggör', 'c'),\n  ('att', 'c'),\n  ('någon', 'c'),\n  ('ska', 'c'),\n  ('känna', 'c'),\n  ('sig', 'c'),\n  ('glad', 'c'),\n  ('eller', 'c'),\n  ('inte', 'c'),\n  (',', 'i'),\n  ('förknyppar', 'i'),\n  ('sig', 'i'),\n  ('med', 'c'),\n  ('samhällets', 'c'),\n  ('inställningarna', 'i'),\n  ('.', 'c')],\n [('När', 'c'),\n  ('jag', 'c'),\n  ('var', 'c'),\n  ('en', 'i'),\n  ('tönåring', 'i'),\n  ('fick', 'c'),\n  ('jag', 'c'),\n  ('mina', 'c'),\n  ('egna', 'c'),\n  ('pengar', 'c'),\n  ('från', 'c'),\n  ('mina', 'c'),\n  ('föräldrar', 'c'),\n  ('för', 'c'),\n  ('att', 'c'),\n  ('köpa', 'c'),\n  ('kläder', 'c'),\n  ('.', 'c')],\n [('Och', 'c'),\n  ('männikor', 'i'),\n  ('i', 'c'),\n  ('mitt', 'c'),\n  ('land', 'c'),\n  ('är', 'c'),\n  ('bra', 'c'),\n  ('.', 'c')],\n [('Jag', 'c'),\n  ('antar', 'c'),\n  ('att', 'c'),\n  ('efter', 'c'),\n  ('åldersgränsen', 'c'),\n  ('kommer', 'c'),\n  ('ytterligare', 'c'),\n  ('faktorer', 'c'),\n  ('att', 'c'),\n  ('diskuteras', 'c'),\n  ('kring', 'c'),\n  ('val', 'c'),\n  ('och', 'c'),\n  ('rösträtt', 'c'),\n  ('.', 'c')],\n [('Om', 'i'),\n  ('du', 'i'),\n  ('skapar', 'i'),\n  ('något', 'c'),\n  ('för', 'c'),\n  ('att', 'c'),\n  ('inte', 'c'),\n  ('känner', 'i'),\n  ('dig', 'c'),\n  ('ensam', 'c'),\n  ('.', 'c')],\n [('Det', 'c'),\n  ('blåser', 'c'),\n  ('snålt', 'c'),\n  ('mot', 'c'),\n  ('den', 'c'),\n  ('finlandssvenska', 'c'),\n  ('minoriteten', 'c'),\n  ('i', 'c'),\n  ('Finland', 'c'),\n  ('och', 'c'),\n  ('ingenting', 'c'),\n  ('tyder', 'c'),\n  ('på', 'c'),\n  ('att', 'c'),\n  ('det', 'c'),\n  ('blir', 'c'),\n  ('bättre', 'c'),\n  ('.', 'c')],\n [('Det', 'c'), ('finns', 'c'), ('stora', 'c'), ('parker', 'c'), ('.', 'c')],\n [('Inte', 'c'),\n  ('enligt', 'c'),\n  ('lag', 'i'),\n  ('men', 'c'),\n  ('ändå', 'c'),\n  ('.', 'c')],\n [('Jag', 'c'),\n  ('kommer', 'c'),\n  ('snart', 'c'),\n  ('med', 'c'),\n  ('en', 'c'),\n  ('film', 'c'),\n  ('efter', 'i'),\n  ('20', 'c'),\n  ('minuter', 'c'),\n  ('ringde', 'c'),\n  ('polisens', 'c'),\n  ('mobil', 'c'),\n  ('och', 'i'),\n  ('en', 'i'),\n  ('man', 'c'),\n  ('som', 'c'),\n  ('dog', 'i'),\n  ('i', 'c'),\n  ('ett', 'c'),\n  ('hus', 'c'),\n  ('nummber', 'i'),\n  ('95', 'c'),\n  ('och', 'c'),\n  ('vånning', 'i'),\n  ('5', 'c'),\n  ('(', 'c'),\n  ('igain', 'i'),\n  (')', 'c'),\n  ('.', 'c')],\n [('Hur', 'c'),\n  ('kan', 'c'),\n  ('man', 'c'),\n  ('lösa', 'c'),\n  ('detta', 'c'),\n  ('problem', 'c'),\n  ('?', 'c')],\n [('Du', 'c'),\n  ('vet', 'c'),\n  ('om', 'c'),\n  ('min', 'c'),\n  ('sitition', 'i'),\n  ('!', 'c')],\n [('Bagdad', 'i'),\n  ('liger', 'i'),\n  ('i', 'c'),\n  ('nora', 'i'),\n  ('Sudan', 'i'),\n  (',', 'i'),\n  ('Jag', 'c'),\n  ('har', 'i'),\n  ('uppvuxit', 'i'),\n  ('där', 'i'),\n  ('och', 'c'),\n  ('har', 'i'),\n  ('jag', 'c'),\n  ('bott', 'i'),\n  ('där', 'c'),\n  ('i', 'c'),\n  ('mång', 'i'),\n  ('år', 'c'),\n  ('.', 'c')],\n [('Kunskapen', 'c'),\n  ('och', 'c'),\n  ('vetenskapen', 'c'),\n  ('började', 'c'),\n  ('att', 'c'),\n  ('utveckla', 'i'),\n  (',', 'c'),\n  ('då', 'i'),\n  ('började', 'c'),\n  ('teknologi', 'i'),\n  ('också', 'c'),\n  ('att', 'c'),\n  ('utveckla', 'i'),\n  ('.', 'c')],\n [('Jag', 'c'),\n  ('har', 'c'),\n  ('hört', 'c'),\n  ('att', 'c'),\n  ('Bungavård', 'c'),\n  ('ska', 'c'),\n  ('stängas', 'c'),\n  ('.', 'c')],\n [('Tack', 'c'), ('hälsningar', 'i')],\n [('I', 'c'),\n  ('Europa', 'c'),\n  ('finns', 'c'),\n  ('det', 'c'),\n  ('femtiotal', 'i'),\n  ('hotade', 'c'),\n  ('språk', 'c'),\n  (',', 'c'),\n  ('och', 'c'),\n  ('en', 'i'),\n  ('av', 'c'),\n  ('de', 'c'),\n  ('språken', 'c'),\n  ('som', 'c'),\n  ('vi', 'c'),\n  ('känner', 'c'),\n  ('till', 'c'),\n  ('är', 'c'),\n  ('Sydsamiska', 'i'),\n  ('för', 'i'),\n  ('att', 'i'),\n  ('det', 'i'),\n  ('finns', 'i'),\n  ('en', 'c'),\n  ('stor', 'c'),\n  ('del', 'c'),\n  ('av', 'c'),\n  ('ungdomar', 'i'),\n  ('i', 'i'),\n  ('nutiden', 'i'),\n  ('som', 'i'),\n  ('lär', 'c'),\n  ('sig', 'c'),\n  ('inte', 'c'),\n  ('Samiska', 'i'),\n  ('men', 'i'),\n  ('det', 'c'),\n  ('finns', 'c'),\n  ('en', 'c'),\n  ('metod', 'c'),\n  ('som', 'c'),\n  ('används', 'c'),\n  ('i', 'c'),\n  ('Nya', 'c'),\n  ('Zeeland', 'c'),\n  ('och', 'c'),\n  ('det', 'c'),\n  ('är', 'c'),\n  ('att', 'c'),\n  ('låta', 'c'),\n  ('barnen', 'c'),\n  ('sitta', 'c'),\n  ('med', 'c'),\n  ('gamlingar', 'c'),\n  ('som', 'c'),\n  ('kan', 'c'),\n  ('de', 'c'),\n  ('här', 'c'),\n  ('språken', 'c'),\n  ('som', 'c'),\n  ('används', 'c'),\n  ('inte', 'i'),\n  ('mycket', 'i'),\n  ('.', 'c')],\n [('Det', 'c'),\n  ('enda', 'c'),\n  ('vi', 'c'),\n  ('kan', 'c'),\n  ('säga', 'c'),\n  ('till', 'c'),\n  ('såna', 'i'),\n  ('folk', 'i'),\n  ('är', 'c'),\n  (',', 'i'),\n  ('kom', 'c'),\n  ('ihåg', 'c'),\n  ('vem', 'c'),\n  ('du', 'c'),\n  ('är', 'c'),\n  ('och', 'c'),\n  ('vad', 'c'),\n  ('är', 'i'),\n  ('gjort', 'i'),\n  ('av', 'c'),\n  (',', 'c'),\n  ('kom', 'c'),\n  ('ihåg', 'c'),\n  ('kärleken', 'c'),\n  ('dina', 'c'),\n  ('föräldrar', 'c'),\n  ('gav', 'c'),\n  ('till', 'c'),\n  ('dig', 'c'),\n  ('.', 'c')],\n [('I', 'c'),\n  ('början', 'c'),\n  ('får', 'c'),\n  ('vi', 'c'),\n  ('se', 'c'),\n  ('att', 'c'),\n  ('en', 'c'),\n  ('av', 'c'),\n  ('de', 'i'),\n  ('flickorna', 'c'),\n  ('har', 'c'),\n  ('magisk', 'c'),\n  ('kraft', 'c'),\n  ('.', 'c')],\n [('Dessutom', 'c'),\n  ('kan', 'c'),\n  ('detta', 'c'),\n  ('hjälpa', 'c'),\n  ('vår', 'c'),\n  ('planet', 'c'),\n  ('och', 'c'),\n  ('ens', 'c'),\n  ('ekonomi', 'c'),\n  ('.', 'c')],\n [('Jag', 'c'),\n  ('tror', 'c'),\n  ('att', 'c'),\n  ('författaren', 'c'),\n  ('har', 'c'),\n  ('skrivit', 'c'),\n  ('den', 'c'),\n  ('har', 'i'),\n  ('boken', 'c'),\n  ('för', 'c'),\n  ('att', 'c'),\n  ('visa', 'i'),\n  ('kärlek', 'i'),\n  ('och', 'c'),\n  ('kanske', 'c'),\n  ('säga', 'c'),\n  ('att', 'c'),\n  ('ibland', 'c'),\n  ('blir', 'c'),\n  ('inte', 'c'),\n  ('allt', 'c'),\n  ('som', 'c'),\n  ('man', 'c'),\n  ('vill', 'c'),\n  ('och', 'c'),\n  ('man', 'c'),\n  ('behöver', 'c'),\n  ('göra', 'c'),\n  ('sig', 'c'),\n  ('stark', 'c'),\n  ('.', 'c')],\n [('För', 'c'),\n  ('det', 'c'),\n  ('första', 'c'),\n  ('kostar', 'c'),\n  ('det', 'c'),\n  ('mycket', 'c'),\n  ('att', 'c'),\n  ('rädda', 'c'),\n  ('dessa', 'c'),\n  ('språk', 'c'),\n  ('som', 'c'),\n  ('försvinner', 'c'),\n  ('.', 'c')],\n [('Caracas', 'i'),\n  ('är', 'c'),\n  ('lika', 'i'),\n  ('som', 'c'),\n  ('Oslo', 'i'),\n  (',', 'c'),\n  ('det', 'c'),\n  ('finns', 'c'),\n  ('extra', 'i'),\n  ('skatt', 'c'),\n  ('om', 'c'),\n  ('du', 'c'),\n  ('köra', 'i'),\n  ('bil', 'c'),\n  ('i', 'c'),\n  ('stan', 'c'),\n  ('.', 'c')],\n [('Coop', 'c'),\n  ('och', 'c'),\n  ('Lidl', 'c'),\n  ('ligger', 'c'),\n  ('nära', 'c'),\n  ('också', 'c'),\n  ('.', 'c')],\n [('Bilälskare', 'c'), ('eller', 'c'), ('bilhatare', 'c'), ('?', 'c')],\n [('Engelskan', 'c'),\n  ('är', 'c'),\n  ('också', 'c'),\n  ('bra', 'c'),\n  ('för', 'c'),\n  ('de', 'c'),\n  ('eleverna', 'i'),\n  ('som', 'c'),\n  ('tänker', 'c'),\n  ('studera', 'i'),\n  ('de', 'c'),\n  ('utbildning', 'i'),\n  ('som', 'c'),\n  ('sker', 'i'),\n  ('på', 'c'),\n  ('engelskan', 'i'),\n  ('och', 'c'),\n  ('de', 'i'),\n  ('som', 'c'),\n  ('vill', 'c'),\n  ('studera', 'c'),\n  ('utomlands', 'c'),\n  ('.', 'c')],\n [('Det', 'c'),\n  ('är', 'c'),\n  ('ett', 'c'),\n  ('sätt', 'c'),\n  ('som', 'c'),\n  ('ge', 'i'),\n  ('till', 'i'),\n  ('alla', 'c'),\n  ('möjlighet', 'c'),\n  ('att', 'c'),\n  ('bli', 'c'),\n  ('betydelsefull', 'i'),\n  (',', 'c'),\n  ('bara', 'c'),\n  ('man', 'c'),\n  ('går', 'c'),\n  ('och', 'c'),\n  ('röstar', 'c'),\n  ('.', 'c')],\n [('Mitt', 'c'),\n  ('första', 'c'),\n  ('tips', 'c'),\n  ('är', 'c'),\n  ('acceptera', 'i'),\n  ('att', 'c'),\n  ('din', 'c'),\n  ('partner', 'c'),\n  ('inte', 'c'),\n  ('är', 'c'),\n  ('perfekt', 'c')],\n [('Sedan', 'c'),\n  ('han', 'c'),\n  ('ringade', 'i'),\n  ('mig', 'c'),\n  ('alltid', 'c'),\n  (',', 'c'),\n  ('vi', 'c'),\n  ('var', 'i'),\n  ('pratate', 'i'),\n  ('varandra', 'i'),\n  ('mycket', 'i'),\n  (',', 'i'),\n  ('jag', 'i'),\n  ('kände', 'i'),\n  ('mycket', 'c'),\n  ('glad', 'c'),\n  ('när', 'c'),\n  ('har', 'i'),\n  ('ringade', 'i'),\n  ('mig', 'c'),\n  ('.', 'c')],\n [('Många', 'c'),\n  ('människor', 'c'),\n  ('har', 'c'),\n  ('bilar', 'c'),\n  ('och', 'c'),\n  ('använda', 'i'),\n  ('dem', 'c'),\n  ('varje', 'c'),\n  ('dag', 'c'),\n  ('för', 'c'),\n  ('att', 'c'),\n  ('pendla', 'c'),\n  ('på', 'i'),\n  ('jobbet', 'c'),\n  ('eller', 'c'),\n  ('för', 'c'),\n  ('att', 'c'),\n  ('handla', 'c'),\n  ('.', 'c')],\n [('Hon', 'c'),\n  ('har', 'i'),\n  ('kanske', 'c'),\n  ('olika', 'c'),\n  ('tankar', 'c'),\n  ('för', 'i'),\n  ('att', 'c'),\n  ('skriva', 'c'),\n  ('den', 'c'),\n  ('här', 'c'),\n  ('boken', 'c'),\n  ('.', 'i')],\n [('Jag', 'c'),\n  ('tycker', 'c'),\n  ('att', 'c'),\n  ('åka', 'i'),\n  ('bussen', 'i'),\n  ('är', 'i'),\n  ('bättre', 'c'),\n  ('än', 'c'),\n  ('åka', 'i'),\n  ('bilen', 'i'),\n  ('.', 'c')],\n [('Med', 'c'),\n  ('detta', 'c'),\n  ('som', 'c'),\n  ('bakgrund', 'c'),\n  ('så', 'c'),\n  ('kan', 'c'),\n  ('man', 'c'),\n  ('konstatera', 'c'),\n  ('att', 'c'),\n  ('majoriteten', 'c'),\n  ('av', 'c'),\n  ('Finland', 'i'),\n  ('på', 'i'),\n  ('olika', 'c'),\n  ('missnöjesnivåer', 'c'),\n  ('avskyr', 'i'),\n  ('inlärning', 'c'),\n  ('av', 'c'),\n  ('svenska', 'c'),\n  ('på', 'c'),\n  ('grund-', 'c'),\n  ('och', 'c'),\n  ('gymnasieskolor', 'c'),\n  ('.', 'c')],\n [('B40BT3', 'c')],\n [('Sist', 'c'),\n  ('men', 'c'),\n  ('inte', 'c'),\n  ('minst', 'c'),\n  ('det', 'i'),\n  ('är', 'i'),\n  ('viktig', 'c'),\n  ('för', 'c'),\n  ('mig', 'c'),\n  ('eftersom', 'c'),\n  ('det', 'c'),\n  ('är', 'c'),\n  ('plats', 'i'),\n  ('som', 'i'),\n  ('jag', 'c'),\n  ('känner', 'c'),\n  ('mig', 'c'),\n  ('så', 'c'),\n  ('bekväm', 'i'),\n  ('för', 'i'),\n  ('allt', 'c'),\n  ('.', 'c')],\n [('Hon', 'c'),\n  ('inleder', 'c'),\n  ('med', 'c'),\n  ('att', 'c'),\n  ('Jiwarli', 'i'),\n  ('språket', 'i'),\n  ('är', 'c'),\n  ('bevarat', 'c'),\n  ('tack', 'c'),\n  ('vare', 'c'),\n  ('samtalet', 'i'),\n  ('som', 'c'),\n  ('Peter', 'c'),\n  ('Austin', 'c'),\n  ('som', 'i'),\n  ('spelade', 'c'),\n  ('in', 'c'),\n  ('Jack', 'i'),\n  ('Butler', 'c'),\n  ('samtal', 'i'),\n  ('och', 'c'),\n  ('att', 'c'),\n  ('många', 'c'),\n  ('språk', 'c'),\n  ('har', 'c'),\n  ('avtagit', 'i'),\n  ('utan', 'c'),\n  ('att', 'c'),\n  ('lämna', 'c'),\n  ('något', 'c'),\n  ('kvar', 'c'),\n  ('.', 'c')],\n [('På', 'i'),\n  ('sommar', 'c'),\n  ('ska', 'c'),\n  ('vi', 'c'),\n  ('åka', 'c'),\n  ('dit', 'c'),\n  ('med', 'c'),\n  ('våra', 'c'),\n  ('kompisar', 'c'),\n  ('.', 'c')],\n [('Kvinnor', 'c'),\n  ('började', 'c'),\n  ('har', 'i'),\n  ('mera', 'i'),\n  ('rätter', 'i'),\n  (',', 'i'),\n  ('att', 'c'),\n  ('rösta', 'c'),\n  (',', 'c'),\n  ('att', 'c'),\n  ('jobba', 'c'),\n  (',', 'i'),\n  ('och', 'c'),\n  ('har', 'i'),\n  ('sina', 'c'),\n  ('egna', 'c'),\n  ('pengar', 'c'),\n  ('.', 'c')],\n [('Även', 'c'),\n  ('om', 'c'),\n  ('man', 'c'),\n  ('kan', 'c'),\n  ('tvivla', 'c'),\n  ('på', 'c'),\n  ('barnens', 'c'),\n  ('mognad', 'c'),\n  ('så', 'c'),\n  ('är', 'c'),\n  ('de', 'c'),\n  ('fortfarande', 'c'),\n  ('en', 'c'),\n  ('del', 'c'),\n  ('av', 'c'),\n  ('samhället', 'c'),\n  ('.', 'c')],\n [('Det', 'c'),\n  ('finns', 'c'),\n  ('olika', 'c'),\n  ('aspekter', 'c'),\n  ('som', 'c'),\n  ('man', 'c'),\n  ('kan', 'c'),\n  ('känner', 'i'),\n  ('sig', 'c'),\n  ('glad', 'c'),\n  ('såsom', 'i'),\n  ('till', 'i'),\n  ('social', 'c'),\n  ('status', 'c'),\n  (',', 'c'),\n  ('utbildning', 'c'),\n  ('jobb', 'i'),\n  (',', 'i'),\n  ('osv', 'c'),\n  ('.', 'c')],\n [('Varför', 'i'),\n  ('jag', 'i'),\n  ('tyckte', 'c'),\n  ('det', 'i'),\n  ('spenande', 'i'),\n  ('för', 'c'),\n  ('att', 'c'),\n  ('romanen', 'c'),\n  ('handlar', 'c'),\n  ('om', 'c'),\n  ('två', 'c'),\n  ('person', 'i'),\n  ('som', 'c'),\n  ('är', 'c'),\n  ('kär', 'i'),\n  ('med', 'i'),\n  ('varandra', 'c'),\n  ('och', 'c'),\n  ('bo', 'i'),\n  ('tillsammans', 'c'),\n  ('men', 'i'),\n  ('också', 'i'),\n  ('det', 'c'),\n  ('är', 'i'),\n  ('ganska', 'i'),\n  ('iriterande', 'i'),\n  ('bok', 'c'),\n  ('jag', 'i'),\n  ('sa', 'i'),\n  ('iriterande', 'i'),\n  ('för', 'i'),\n  ('att', 'c'),\n  ('även', 'i'),\n  ('om', 'i'),\n  ('de', 'c'),\n  ('älskar', 'c'),\n  ('varandra', 'c'),\n  ('hon', 'c'),\n  ('örkade', 'i'),\n  ('inte', 'c'),\n  ('lämna', 'c'),\n  ('stan', 'c'),\n  ('och', 'c'),\n  ('sitt', 'c'),\n  ('jobb', 'c'),\n  ('och', 'c'),\n  ('han', 'c'),\n  ('örkade', 'i'),\n  ('inte', 'c'),\n  ('lämna', 'c'),\n  ('sin', 'c'),\n  ('bonde', 'c'),\n  ('eller', 'c'),\n  ('gården', 'c'),\n  ('och', 'c'),\n  ('bo', 'c'),\n  ('tillsammans', 'c'),\n  ('med', 'c'),\n  ('henne', 'c'),\n  ('.', 'c')],\n [('Nedan', 'c'),\n  ('visar', 'c'),\n  ('jag', 'c'),\n  ('hur', 'c'),\n  ('två', 'c'),\n  ('olika', 'c'),\n  ('litterära', 'c'),\n  ('verk', 'c'),\n  ('skildrar', 'c'),\n  ('detta', 'c'),\n  ('tema', 'c'),\n  ('och', 'c'),\n  ('vad', 'c'),\n  ('vi', 'c'),\n  ('kan', 'c'),\n  ('lära', 'c'),\n  ('oss', 'c'),\n  ('av', 'c'),\n  ('dessa', 'c'),\n  ('skildringar', 'c'),\n  ('.', 'c')],\n [('Jag', 'c'),\n  ('lyckas', 'c'),\n  ('hittar', 'i'),\n  ('stiliga', 'c'),\n  ('klänningar', 'c'),\n  ('i', 'c'),\n  ('olika', 'c'),\n  ('stil', 'i'),\n  ('.', 'c')],\n [('Jag', 'c'),\n  ('tror', 'c'),\n  ('att', 'c'),\n  ('den', 'i'),\n  ('personen', 'i'),\n  ('är', 'c'),\n  ('huvudperson', 'c'),\n  ('i', 'c'),\n  ('den', 'c'),\n  ('här', 'c'),\n  ('boken', 'c'),\n  ('och', 'c'),\n  ('viktig', 'i'),\n  ('person', 'c'),\n  ('.', 'c')],\n [('Men', 'c'),\n  ('Merida', 'c'),\n  ('gillar', 'c'),\n  ('inte', 'c'),\n  ('att', 'c'),\n  ('bara', 'c'),\n  ('göra', 'c'),\n  ('prinsess', 'i'),\n  ('saker', 'i'),\n  (',', 'c'),\n  ('utan', 'c'),\n  ('hon', 'c'),\n  ('gillar', 'c'),\n  ('att', 'c'),\n  ('jaga', 'c'),\n  ('och', 'c'),\n  ('skjuta', 'c'),\n  ('pilbåge', 'c'),\n  ('och', 'c'),\n  ('göra', 'c'),\n  ('saker', 'c'),\n  ('som', 'c'),\n  ('är', 'c'),\n  ('roligt', 'c'),\n  ('.', 'c')],\n [('!', 'c')],\n [('Det', 'c'),\n  ('finns', 'c'),\n  ('också', 'c'),\n  ('lekaplatser', 'i'),\n  ('för', 'c'),\n  ('barnen', 'c'),\n  ('.', 'c')],\n [('Filmen', 'c'),\n  ('Modig', 'c'),\n  ('handlar', 'c'),\n  ('om', 'c'),\n  ('en', 'c'),\n  ('skotsk', 'c'),\n  ('prinsessa', 'c'),\n  ('som', 'c'),\n  ('vill', 'c'),\n  ('vara', 'c'),\n  ('lika', 'c'),\n  ('tuff', 'c'),\n  ('och', 'c'),\n  ('modig', 'c'),\n  ('som', 'c'),\n  ('sin', 'c'),\n  ('pappa', 'c'),\n  ('och', 'i'),\n  ('hennes', 'i'),\n  ('traditionella', 'c'),\n  ('mamma', 'c'),\n  ('vill', 'c'),\n  ('att', 'c'),\n  ('hon', 'c'),\n  ('ska', 'c'),\n  ('gifta', 'c'),\n  ('sig', 'c'),\n  ('och', 'c'),\n  ('vara', 'c'),\n  ('som', 'c'),\n  ('en', 'c'),\n  ('prinsessa', 'c'),\n  (',', 'c'),\n  ('men', 'c'),\n  ('prinsessan', 'c'),\n  ('struntar', 'c'),\n  ('i', 'c'),\n  ('vad', 'c'),\n  ('hennes', 'c'),\n  ('mamma', 'c'),\n  ('säger', 'c'),\n  ('och', 'i'),\n  ('då', 'c'),\n  ('leder', 'c'),\n  ('detta', 'c'),\n  ('till', 'c'),\n  ('att', 'c'),\n  ('mamma', 'i'),\n  ('får', 'c'),\n  ('en', 'c'),\n  ('förbannelse', 'c'),\n  ('och', 'c'),\n  ('förvandlas', 'c'),\n  ('till', 'c'),\n  ('en', 'c'),\n  ('björn', 'c'),\n  ('.', 'c')],\n [('Ett', 'c'),\n  ('tydligt', 'c'),\n  ('exempel', 'c'),\n  ('på', 'c'),\n  ('detta', 'c'),\n  ('är', 'c'),\n  ('staden', 'c'),\n  ('Södertälje', 'c'),\n  (',', 'c'),\n  ('som', 'c'),\n  ('ligger', 'c'),\n  ('i', 'c'),\n  ('södra', 'c'),\n  ('Sverige', 'c'),\n  ('.', 'c')],\n [('Tre', 'c'),\n  ('veckor', 'c'),\n  ('sent', 'i'),\n  ('fick', 'c'),\n  ('jag', 'c'),\n  ('en', 'i'),\n  ('positiv', 'i'),\n  ('svara', 'i'),\n  ('från', 'c'),\n  ('en', 'c'),\n  ('arbetsgivare', 'c'),\n  ('.', 'c')],\n [('Skattebrott', 'c'),\n  ('är', 'c'),\n  ('ett', 'c'),\n  ('ekonomiskt', 'c'),\n  ('brott', 'c'),\n  ('och', 'c'),\n  ('innebär', 'c'),\n  ('att', 'c'),\n  ('man', 'c'),\n  ('slipper', 'c'),\n  ('betala', 'c'),\n  ('skatter', 'c'),\n  ('igenom', 'i'),\n  ('att', 'c'),\n  ('lämna', 'c'),\n  ('osanna', 'c'),\n  ('uppgifter', 'c'),\n  ('om', 'c'),\n  ('sitt', 'c'),\n  ('arbete', 'c'),\n  (',', 'c'),\n  ('inkomst', 'i'),\n  (',', 'c'),\n  ('kapitel', 'i'),\n  (',', 'c'),\n  ('aktier', 'c'),\n  ('osv', 'c'),\n  ('(', 'c'),\n  ('Ekobrott', 'c'),\n  ('2019', 'c'),\n  (')', 'c'),\n  ('.', 'c')],\n [('När', 'c'),\n  ('jag', 'c'),\n  ('såg', 'c'),\n  ('honom', 'c'),\n  (',', 'i'),\n  ('dunkade', 'c'),\n  ('mitt', 'c'),\n  ('hjärtat', 'i'),\n  ('hårdare', 'c'),\n  (',', 'c'),\n  ('och', 'c'),\n  ('mitt', 'i'),\n  ('ansiktet', 'c'),\n  ('blev', 'c'),\n  ('rött', 'c'),\n  ('.', 'c')],\n [('Det', 'c'),\n  ('hjälpte', 'c'),\n  ('mig', 'c'),\n  ('mycket', 'c'),\n  ('att', 'i'),\n  ('hittade', 'i'),\n  ('jobba', 'i'),\n  ('.', 'c')],\n [('Det', 'c'),\n  ('tår', 'i'),\n  ('3', 'c'),\n  ('timmer', 'i'),\n  ('och', 'c'),\n  ('några', 'c'),\n  ('minuter', 'c'),\n  ('.', 'c')],\n [('Det', 'i'),\n  ('mötet', 'i'),\n  ('var', 'i'),\n  ('medan', 'c'),\n  ('jag', 'c'),\n  ('i', 'i'),\n  ('gymnasite', 'i'),\n  ('.', 'c')],\n [('Om', 'c'),\n  ('vi', 'c'),\n  ('riktar', 'c'),\n  ('uppmärksamheten', 'c'),\n  ('mot', 'c'),\n  ('kultur', 'c'),\n  (',', 'c'),\n  ('börjar', 'c'),\n  ('vi', 'c'),\n  ('undra', 'c'),\n  ('om', 'c'),\n  ('olika', 'c'),\n  ('kulturer', 'c'),\n  ('kan', 'c'),\n  ('ha', 'c'),\n  ('olika', 'c'),\n  ('syn', 'c'),\n  ('på', 'c'),\n  ('lycka', 'c'),\n  ('.', 'c')],\n [('Jag', 'c'),\n  ('har', 'c'),\n  ('tänkt', 'c'),\n  ('om', 'i'),\n  ('ditt', 'c'),\n  ('förslag', 'c'),\n  ('att', 'c'),\n  ('vi', 'c'),\n  ('ska', 'c'),\n  ('ge', 'c'),\n  ('bort', 'c'),\n  ('pengar', 'c'),\n  ('i', 'c'),\n  ('present', 'c'),\n  ('till', 'c'),\n  ('David', 'c'),\n  ('och', 'c'),\n  ('Sara', 'c'),\n  ('.', 'c')],\n [('De', 'c'),\n  ('första', 'c'),\n  ('mobila', 'c'),\n  ('telefonerna', 'c'),\n  ('kom', 'c'),\n  ('till', 'c'),\n  ('Sverige', 'c'),\n  ('i', 'c'),\n  ('början', 'c'),\n  ('av', 'c'),\n  ('1990-talet', 'c'),\n  ('säger', 'c'),\n  ('Åström', 'c'),\n  ('(', 'c'),\n  ('2012', 'c'),\n  (')', 'c'),\n  ('.', 'c')],\n [('Det', 'c'),\n  ('är', 'i'),\n  ('ett', 'c'),\n  ('undantag', 'c'),\n  ('för', 'c'),\n  ('vissa', 'c'),\n  ('länder', 'c'),\n  ('som', 'c'),\n  ('förtrycker', 'c'),\n  ('folket', 'c'),\n  ('och', 'c'),\n  ('folket', 'i'),\n  ('har', 'c'),\n  ('begränsad', 'i'),\n  ('rättigheter', 'c'),\n  (',', 'c'),\n  ('eller', 'c'),\n  ('i', 'c'),\n  ('den', 'i'),\n  ('värsta', 'c'),\n  ('fall', 'c'),\n  ('inga', 'c'),\n  ('.', 'c')],\n [('Hermansson', 'c'),\n  (',', 'c'),\n  ('Andreas', 'c'),\n  (',', 'c'),\n  ('2009', 'c'),\n  (':', 'c'),\n  ('Norge', 'c'),\n  ('mot', 'c'),\n  ('Noreg', 'c'),\n  ('.', 'c')],\n [('Ibland', 'c'),\n  ('träffades', 'c'),\n  ('vi', 'c'),\n  ('också', 'c'),\n  ('på', 'c'),\n  ('kvällarna', 'c'),\n  ('efter', 'c'),\n  ('skolan', 'c'),\n  (',', 'c'),\n  ('och', 'c'),\n  ('promenerade', 'c'),\n  ('tillsammans', 'c'),\n  ('i', 'c'),\n  ('parken', 'c'),\n  ('.', 'c')],\n [('De', 'c'),\n  ('menar', 'c'),\n  ('att', 'c'),\n  ('unga', 'c'),\n  ('besitter', 'c'),\n  ('oftast', 'i'),\n  ('begränsade', 'c'),\n  ('kunskaper', 'c'),\n  ('om', 'c'),\n  ('statsskicket', 'c'),\n  ('och', 'c'),\n  ('eventuellt', 'c'),\n  ('begränsade', 'c'),\n  ('livserfarenheter', 'c'),\n  ('och', 'c'),\n  ('därmed', 'c'),\n  ('inte', 'c'),\n  ('nått', 'c'),\n  ('en', 'c'),\n  ('mogen', 'i'),\n  ('ålder', 'c'),\n  ('för', 'c'),\n  ('att', 'c'),\n  ('kunna', 'c'),\n  ('ta', 'c'),\n  ('ett', 'c'),\n  ('sånt', 'c'),\n  ('stort', 'c'),\n  ('beslut', 'c'),\n  ('som', 'c'),\n  ('påverkar', 'c'),\n  ('hur', 'c'),\n  ('landet', 'c'),\n  ('ska', 'c'),\n  ('styras', 'c'),\n  ('.', 'c')],\n [('Biologiska', 'c'),\n  ('faktorer', 'c'),\n  ('kan', 'c'),\n  ('också', 'c'),\n  ('öka', 'c'),\n  ('risken', 'c'),\n  ('for', 'c'),\n  ('att', 'c'),\n  ('begå', 'c'),\n  ('brott', 'c'),\n  ('.', 'c')],\n [('Alla', 'i'),\n  ('hänvisar', 'i'),\n  ('till', 'c'),\n  ('betydelsen', 'c'),\n  ('av', 'c'),\n  ('framsteg', 'c'),\n  (',', 'c'),\n  ('perfektion', 'c'),\n  (',', 'c'),\n  ('tillväxt', 'c'),\n  (',', 'c'),\n  ('bildande', 'i'),\n  ('och', 'c'),\n  ('utveckling', 'c'),\n  ('av', 'i'),\n  ('de', 'i'),\n  ('bästa', 'i'),\n  ('.', 'c')],\n [('Det', 'c'),\n  ('finns', 'c'),\n  ('många', 'c'),\n  ('olika', 'c'),\n  ('sätt', 'c'),\n  ('att', 'c'),\n  ('definiera', 'c'),\n  ('demokrati', 'c'),\n  ('och', 'c'),\n  ('det', 'c'),\n  ('skiljer', 'c'),\n  ('sig', 'c'),\n  ('runt', 'c'),\n  ('om', 'c'),\n  ('världen', 'i'),\n  ('.', 'c')],\n [('Hej', 'c'), ('!', 'c')],\n [('Detta', 'c'),\n  ('är', 'c'),\n  ('ett', 'c'),\n  ('stort', 'c'),\n  ('ansvar', 'c'),\n  ('och', 'c'),\n  ('bör', 'c'),\n  ('inte', 'c'),\n  ('missbrukas', 'c'),\n  ('eller', 'c'),\n  ('utnyttjas', 'c'),\n  ('på', 'c'),\n  ('fel', 'c'),\n  ('sätt', 'c'),\n  ('.', 'c')],\n [('Vilka', 'c'),\n  ('likheter', 'c'),\n  ('och', 'c'),\n  ('skillnader', 'c'),\n  ('finns', 'c'),\n  ('mellan', 'c'),\n  ('nynorskans', 'c'),\n  ('ställning', 'c'),\n  ('i', 'c'),\n  ('Norge', 'c'),\n  ('och', 'c'),\n  ('svenskans', 'c'),\n  ('ställning', 'c'),\n  ('i', 'c'),\n  ('Finland', 'c'),\n  ('?', 'c')],\n [('När', 'c'),\n  ('jag', 'c'),\n  ('kom', 'c'),\n  ('till', 'c'),\n  ('Sverige', 'c'),\n  ('kände', 'c'),\n  ('jag', 'c'),\n  ('mig', 'c'),\n  ('ensam', 'c'),\n  ('men', 'c'),\n  ('när', 'c'),\n  ('jag', 'c'),\n  ('började', 'c'),\n  ('och', 'i'),\n  ('kom', 'c'),\n  ('till', 'c'),\n  ('skolan', 'c'),\n  ('och', 'c'),\n  ('träffade', 'c'),\n  ('jag', 'i'),\n  ('mina', 'c'),\n  ('klasskamerater', 'i'),\n  ('vi', 'c'),\n  ('bliv', 'i'),\n  ('vänner', 'c'),\n  ('och', 'c'),\n  ('träffade', 'i'),\n  ('utanför', 'c'),\n  ('skolan', 'c'),\n  ('också', 'c'),\n  ('.', 'c')],\n [('Alla', 'c'),\n  ('är', 'c'),\n  ('inte', 'c'),\n  ('skyldig', 'i'),\n  ('enligt', 'c'),\n  ('lagen', 'c'),\n  ('.', 'c')],\n [('Hundvalparna', 'c')],\n [('Men', 'c'),\n  (',', 'c'),\n  ('som', 'c'),\n  ('sagt', 'c'),\n  (',', 'c'),\n  ('kläder', 'c'),\n  ('är', 'c'),\n  ('identitet', 'c'),\n  ('.', 'c')],\n [('Orsaker', 'c'), ('till', 'c'), ('skattebrott', 'c')],\n [('Hon', 'c'),\n  ('anser', 'c'),\n  ('att', 'c'),\n  ('svenskan', 'c'),\n  ('tar', 'c'),\n  ('allt', 'i'),\n  ('för', 'i'),\n  ('stor', 'c'),\n  ('plats', 'c'),\n  ('i', 'c'),\n  ('det', 'c'),\n  ('finska', 'c'),\n  ('samhället', 'c'),\n  ('och', 'c'),\n  ('hon', 'c'),\n  ('tycker', 'c'),\n  ('även', 'c'),\n  ('att', 'c'),\n  ('finlandssvenskarna', 'c'),\n  ('har', 'c'),\n  ('för', 'c'),\n  ('stor', 'c'),\n  ('makt', 'c'),\n  ('i', 'c'),\n  ('finska', 'i'),\n  ('samhället', 'c'),\n  ('i', 'c'),\n  ('förhållande', 'c'),\n  ('till', 'c'),\n  ('deras', 'c'),\n  ('andel', 'c'),\n  ('av', 'c'),\n  ('befolkningen', 'c'),\n  ('.', 'c')],\n [('\\\\\"', 'c'),\n  ('Visa', 'c'),\n  ('mig', 'c'),\n  ('hur', 'c'),\n  ('du', 'c'),\n  ('klär', 'c'),\n  ('dig', 'c'),\n  ('för', 'i'),\n  ('att', 'c'),\n  ('förstå', 'i'),\n  ('dig', 'c'),\n  ('\\\\\"', 'c')],\n [('Jag', 'c'),\n  ('ätter', 'i'),\n  ('frockeste', 'i'),\n  ('klart', 'i'),\n  ('sen', 'i'),\n  ('pappa', 'c'),\n  ('säger', 'i'),\n  ('plötslig', 'i'),\n  (':', 'c'),\n  ('”', 'c'),\n  ('Vi', 'c'),\n  ('har', 'c'),\n  ('något', 'c'),\n  ('som', 'c'),\n  ('vill', 'i'),\n  ('prata', 'c'),\n  ('dig', 'i'),\n  ('”', 'i'),\n  ('och', 'i'),\n  ('jag', 'c'),\n  ('säger', 'c'),\n  (':', 'c'),\n  ('”', 'c'),\n  ('Ok', 'c'),\n  ('kan', 'i'),\n  ('du', 'c'),\n  ('vara', 'c'),\n  ('snappt', 'i'),\n  ('jag', 'i'),\n  ('har', 'c'),\n  ('pruv', 'i'),\n  ('idog', 'i'),\n  ('”', 'i'),\n  (',', 'i'),\n  ('Han', 'c'),\n  ('säger', 'c'),\n  (':', 'c'),\n  ('”', 'c'),\n  ('Nej', 'c'),\n  (',', 'c'),\n  ('du', 'c'),\n  ('behever', 'i'),\n  ('inte', 'c'),\n  ('tänka', 'c'),\n  ('på', 'c'),\n  ('skolan', 'c'),\n  ('efter', 'c'),\n  ('den', 'c'),\n  ('har', 'i'),\n  ('dagen', 'c'),\n  ('.', 'c')],\n [('Första', 'c'),\n  ('gången', 'c'),\n  ('vi', 'c'),\n  ('traffades', 'i'),\n  ('i', 'i'),\n  ('en', 'c'),\n  ('bröllop', 'i'),\n  ('fest', 'i'),\n  ('.', 'c')],\n [('Jag', 'c'),\n  ('tror', 'i'),\n  ('också', 'c'),\n  ('att', 'c'),\n  ('man', 'c'),\n  ('måste', 'c'),\n  ('tänka', 'c'),\n  ('på', 'c'),\n  ('miljön', 'c'),\n  ('när', 'c'),\n  ('man', 'c'),\n  ('köper', 'c'),\n  ('kläder', 'c'),\n  ('.', 'c')],\n [('När', 'c'),\n  ('han', 'c'),\n  ('är', 'c'),\n  ('ensam', 'c'),\n  ('sitta', 'i'),\n  ('han', 'c'),\n  ('och', 'i'),\n  ('börjar', 'c'),\n  ('öppna', 'c'),\n  ('den', 'i'),\n  ('kartongen', 'c'),\n  ('.', 'c')],\n [('Om', 'c'),\n  ('personen', 'c'),\n  ('förlorar', 'c'),\n  ('sitt', 'c'),\n  ('språk', 'c'),\n  ('hade', 'i'),\n  ('hen', 'c'),\n  ('även', 'c'),\n  ('förlorat', 'i'),\n  ('en', 'c'),\n  ('del', 'c'),\n  ('av', 'c'),\n  ('sig', 'c'),\n  ('själv', 'c'),\n  ('.', 'c')],\n [('Avslutning', 'c'),\n  ('jag', 'c'),\n  ('vill', 'i'),\n  ('saen', 'i'),\n  ('att', 'c'),\n  ('du', 'c'),\n  ('kan', 'c'),\n  ('motivera', 'c'),\n  ('varfor', 'i'),\n  ('man', 'i'),\n  ('passar', 'c'),\n  ('för', 'c'),\n  ('jobbet', 'c'),\n  ('och', 'c'),\n  ('varför', 'c'),\n  ('du', 'c'),\n  ('är', 'c'),\n  ('bettre', 'i'),\n  ('dem', 'i'),\n  ('andra', 'c')],\n [('För', 'c'),\n  ('det', 'c'),\n  ('andra', 'c'),\n  ('finns', 'c'),\n  ('många', 'i'),\n  ('personal', 'i'),\n  ('de', 'i'),\n  ('har', 'c'),\n  ('familj', 'c'),\n  ('och', 'c'),\n  ('de', 'c'),\n  ('bor', 'c'),\n  ('varandra', 'i'),\n  ('med', 'i'),\n  ('barn', 'i'),\n  ('De', 'i'),\n  ('ta', 'i'),\n  ('löft', 'i'),\n  ('att', 'c'),\n  ('dem', 'i'),\n  ('ska', 'c'),\n  ('kär', 'i'),\n  ('varandra', 'c'),\n  ('.', 'c')],\n [('Hej', 'c'), ('Peter', 'c'), ('!', 'c')],\n [('Om', 'c'),\n  ('man', 'c'),\n  ('känner', 'c'),\n  ('sig', 'c'),\n  ('fri', 'c'),\n  ('att', 'c'),\n  ('uttrycka', 'c'),\n  ('sig', 'c'),\n  ('som', 'c'),\n  ('man', 'c'),\n  ('vill', 'c'),\n  ('är', 'i'),\n  ('det', 'c'),\n  ('kanske', 'c'),\n  ('det', 'i'),\n  ('bästa', 'c'),\n  ('förutsättningen', 'c'),\n  ('för', 'c'),\n  ('att', 'c'),\n  ('skaffa', 'c'),\n  ('en', 'c'),\n  ('familj', 'c'),\n  ('.', 'c')],\n [('Skattpengar', 'i'),\n  ('används', 'c'),\n  ('till', 'c'),\n  ('att', 'c'),\n  ('finansiera', 'c'),\n  ('den', 'c'),\n  ('offentliga', 'c'),\n  ('sektorns', 'c'),\n  ('verksamhet', 'c'),\n  ('.', 'c')],\n [('Ibland', 'c'),\n  ('ville', 'c'),\n  ('man', 'c'),\n  ('fixa', 'c'),\n  ('sig', 'c'),\n  ('lite', 'c'),\n  ('extra', 'c'),\n  (',', 'c'),\n  ('ha', 'c'),\n  ('bättre', 'c'),\n  ('koll', 'c'),\n  ('på', 'c'),\n  ('trenderna', 'c'),\n  ('medans', 'i'),\n  ('ibland', 'c'),\n  ('oroa', 'i'),\n  ('man', 'i'),\n  ('sig', 'c'),\n  ('inte', 'i'),\n  ('så', 'c'),\n  ('mycket', 'c'),\n  ('om', 'i'),\n  ('det', 'c'),\n  ('.', 'c')],\n [('I', 'c'),\n  ('Finland', 'c'),\n  ('är', 'c'),\n  ('undervisning', 'c'),\n  ('i', 'c'),\n  ('svenska', 'c'),\n  ('obligatorisk', 'c'),\n  ('i', 'c'),\n  ('slutet', 'c'),\n  ('av', 'c'),\n  ('grundskolan', 'c'),\n  ('och', 'c'),\n  ('på', 'c'),\n  ('gymnasiet', 'c'),\n  ('.', 'c')],\n [('Puss', 'c'), ('med', 'i'), ('kram', 'c'), ('.', 'i')],\n [('Astrids', 'c'),\n  ('mamma', 'c'),\n  ('var', 'c'),\n  ('sträng', 'c'),\n  ('mot', 'c'),\n  ('sina', 'c'),\n  ('barn', 'c'),\n  ('men', 'c'),\n  ('bara', 'c'),\n  ('när', 'c'),\n  ('det', 'c'),\n  ('var', 'c'),\n  ('nödvändigt', 'c'),\n  ('.', 'c')],\n [('Bilen', 'i'),\n  ('är', 'c'),\n  ('inte', 'c'),\n  ('så', 'c'),\n  ('bra', 'c'),\n  ('om', 'c'),\n  ('man', 'c'),\n  ('tanker', 'i'),\n  ('efter', 'c')],\n [('Hoppas', 'c'),\n  ('att', 'c'),\n  ('höra', 'c'),\n  ('från', 'c'),\n  ('dig', 'c'),\n  ('.', 'c')],\n [('De', 'c'),\n  ('får', 'c'),\n  ('göra', 'c'),\n  ('som', 'c'),\n  ('de', 'c'),\n  ('vill', 'c'),\n  ('.', 'c')],\n [('Å', 'c'),\n  ('ena', 'c'),\n  ('finns', 'i'),\n  ('det', 'c'),\n  ('många', 'c'),\n  ('problem', 'c'),\n  ('i', 'c'),\n  ('samhället', 'c'),\n  ('på', 'c'),\n  ('grund', 'c'),\n  ('av', 'c'),\n  ('sämre', 'i'),\n  ('barn', 'i'),\n  ('uppfostrar', 'i'),\n  ('.', 'c')],\n [('Alla', 'c'),\n  ('mäniskor', 'i'),\n  ('i', 'c'),\n  ('Sverige', 'c'),\n  ('mycket', 'i'),\n  ('punktliga', 'c'),\n  (',', 'c'),\n  ('stresståliga', 'c'),\n  ('och', 'c'),\n  ('roliga', 'c'),\n  ('det', 'i'),\n  ('är', 'c'),\n  ('viktigt', 'c'),\n  ('för', 'c'),\n  ('mig', 'c'),\n  ('.', 'c')],\n [('När', 'c'),\n  ('jag', 'c'),\n  ('var', 'c'),\n  ('ung', 'c'),\n  ('var', 'c'),\n  ('kläder', 'c'),\n  ('mer', 'i'),\n  ('viktig', 'i'),\n  ('för', 'c'),\n  ('mig', 'c'),\n  ('.', 'c')],\n [('I', 'c'),\n  ('många', 'c'),\n  ('situationer', 'c'),\n  ('är', 'c'),\n  ('människor', 'c'),\n  ('tvunga', 'i'),\n  ('att', 'c'),\n  ('söka', 'c'),\n  ('efter', 'c'),\n  ('någon', 'i'),\n  ('jobb', 'c'),\n  ('som', 'c'),\n  ('de', 'c'),\n  ('inte', 'c'),\n  ('alls', 'c'),\n  ('är', 'c'),\n  ('intresserade', 'c'),\n  ('av', 'c'),\n  ('för', 'c'),\n  ('att', 'c'),\n  ('överleva', 'c'),\n  ('.', 'c')],\n [('Från', 'c'),\n  ('att', 'c'),\n  ('ha', 'c'),\n  ('kommunicerat', 'c'),\n  ('via', 'c'),\n  ('röksignaler', 'c'),\n  ('till', 'c'),\n  ('brev', 'c'),\n  ('fortsatte', 'c'),\n  ('utvecklingen', 'c'),\n  ('av', 'c'),\n  ('kommunikationsmedel', 'c'),\n  ('och', 'c'),\n  ('år', 'c'),\n  ('1876', 'c'),\n  ('tog', 'c'),\n  ('Bell', 'c'),\n  ('patent', 'c'),\n  ('på', 'c'),\n  ('telefonen', 'c'),\n  ('och', 'c'),\n  ('redan', 'c'),\n  ('ett', 'c'),\n  ('år', 'c'),\n  ('efter', 'c'),\n  ('det', 'c'),\n  ('så', 'c'),\n  ('fanns', 'c'),\n  ('den', 'c'),\n  ('smarta', 'c'),\n  ('uppfinningen', 'c'),\n  ('i', 'c'),\n  ('Sverige', 'c'),\n  ('.', 'c')],\n [('Jag', 'c'),\n  ('tror', 'c'),\n  ('att', 'c'),\n  ('alla', 'c'),\n  ('människor', 'c'),\n  ('kan', 'c'),\n  ('gå', 'c'),\n  ('där', 'i'),\n  ('ungifar', 'i'),\n  ('en', 'c'),\n  ('gång', 'c'),\n  ('i', 'i'),\n  ('år', 'i'),\n  ('och', 'c'),\n  ('kan', 'c'),\n  ('ha', 'i'),\n  ('en', 'c'),\n  ('trevlig', 'c'),\n  ('dag', 'c'),\n  ('tillsammans', 'c'),\n  ('.', 'c')],\n [('Man', 'c'),\n  ('kanske', 'c'),\n  ('inte', 'c'),\n  ('använder', 'c'),\n  ('alla', 'c'),\n  ('delar', 'c'),\n  ('varje', 'c'),\n  ('gång', 'c'),\n  ('men', 'c'),\n  ('mer', 'i'),\n  ('eller', 'c'),\n  ('mindre', 'c'),\n  ('så', 'i'),\n  ('har', 'c'),\n  ('man', 'c'),\n  ('en', 'c'),\n  ('användning', 'c'),\n  ('av', 'c'),\n  ('det', 'c'),\n  ('och', 'i'),\n  ('om', 'i'),\n  ('man', 'c'),\n  ('har', 'c'),\n  ('med', 'c'),\n  ('sig', 'c'),\n  ('hela', 'c'),\n  ('paketet', 'c'),\n  ('så', 'c'),\n  ('kan', 'c'),\n  ('man', 'c'),\n  ('lätt', 'c'),\n  ('växla', 'c'),\n  ('och', 'c'),\n  ('sluta', 'c'),\n  ('bekymra', 'c'),\n  ('sig', 'c'),\n  ('över', 'c'),\n  ('livets', 'c'),\n  ('spikar', 'c'),\n  ('.', 'c')],\n [('Sara', 'c'), ('Johansson', 'i')],\n [('Hela', 'c'),\n  ('romanen', 'c'),\n  ('pratar', 'c'),\n  ('om', 'c'),\n  ('kärlek', 'c'),\n  ('och', 'c'),\n  ('förväntan', 'c'),\n  ('och', 'c'),\n  ('det', 'c'),\n  ('går', 'c'),\n  ('inte', 'c'),\n  ('att', 'i'),\n  ('om', 'i'),\n  ('det', 'i'),\n  ('bli', 'i'),\n  ('kriminala', 'i'),\n  ('i', 'c'),\n  ('slutet', 'c'),\n  ('.', 'c')],\n [('Arbetar', 'i'),\n  ('där', 'i'),\n  ('nästan', 'c'),\n  ('20', 'c'),\n  ('lärare', 'c'),\n  ('och', 'c'),\n  ('de', 'c'),\n  ('lära', 'i'),\n  ('oss', 'c'),\n  ('svenska', 'c'),\n  ('som', 'c'),\n  ('andraspråk', 'c'),\n  ('.', 'c')],\n [('Paris', 'i'),\n  ('är', 'c'),\n  ('mycket', 'c'),\n  ('dyrt', 'c'),\n  (',', 'c'),\n  ('så', 'c'),\n  ('jag', 'c'),\n  ('plannerade', 'i'),\n  ('att', 'c'),\n  ('flytat', 'i'),\n  ('till', 'c'),\n  ('sverige', 'i'),\n  ('till', 'i'),\n  ('studerar', 'i'),\n  ('dataventskap', 'i'),\n  ('på', 'c'),\n  ('Buroskola', 'i'),\n  ('.', 'c')],\n [('Jag', 'c'),\n  ('brukar', 'c'),\n  ('åka', 'c'),\n  ('dit', 'c'),\n  ('med', 'c'),\n  ('min', 'c'),\n  ('man', 'c'),\n  ('och', 'c'),\n  ('mina', 'c'),\n  ('svarforäldrar', 'i'),\n  ('.', 'c')],\n [('Jag', 'c'),\n  ('ska', 'c'),\n  ('berätta', 'c'),\n  ('om', 'c'),\n  ('vad', 'c'),\n  ('jag', 'c'),\n  ('tycker', 'c'),\n  ('är', 'c'),\n  ('viktigt', 'c'),\n  ('i', 'c'),\n  ('en', 'c'),\n  ('relation', 'c'),\n  ('.', 'c')],\n [('Jag', 'c'), ('kommer', 'c'), ('från', 'c'), ('Sudan', 'i'), ('.', 'c')],\n [('Några', 'c'),\n  ('”', 'c'),\n  ('regler', 'c'),\n  ('”', 'c'),\n  ('i', 'c'),\n  ('arbetslivet', 'c'),\n  (',', 'c'),\n  ('vilket', 'i'),\n  ('vanligtvis', 'c'),\n  ('tar', 'c'),\n  ('några', 'c'),\n  ('år', 'c'),\n  ('att', 'c'),\n  ('uppleva', 'c'),\n  ('och', 'c'),\n  ('förstå', 'c'),\n  (',', 'c'),\n  ('kan', 'c'),\n  ('också', 'c'),\n  ('vara', 'c'),\n  ('bra', 'c'),\n  ('att', 'c'),\n  ('redan', 'i'),\n  ('veta', 'c'),\n  ('under', 'c'),\n  ('kursen', 'c'),\n  ('.', 'c')],\n [('Lycka', 'c'),\n  ('är', 'c'),\n  ('ett', 'c'),\n  ('abstrakt', 'c'),\n  ('och', 'c'),\n  ('relativt', 'c'),\n  ('begrepp', 'c'),\n  ('som', 'c'),\n  ('betyder', 'c'),\n  ('olika', 'c'),\n  ('saker', 'c'),\n  ('för', 'c'),\n  ('var', 'c'),\n  ('och', 'c'),\n  ('en', 'c'),\n  (',', 'c'),\n  ('men', 'c'),\n  ('vi', 'c'),\n  ('kan', 'c'),\n  ('observera', 'c'),\n  ('en', 'c'),\n  ('generell', 'c'),\n  ('tendens', 'c'),\n  ('i', 'c'),\n  ('ett', 'c'),\n  ('lands', 'c'),\n  ('centrala', 'c'),\n  ('värderingar', 'c'),\n  ('.', 'c')],\n [('Det', 'c'),\n  ('är', 'c'),\n  ('ett', 'c'),\n  ('politiskt', 'c'),\n  ('system', 'c'),\n  ('där', 'c'),\n  ('makten', 'c'),\n  ('kommer', 'c'),\n  ('från', 'c'),\n  ('folket', 'c'),\n  (',', 'c'),\n  ('åtminstone', 'c'),\n  ('i', 'c'),\n  ('princip', 'c'),\n  ('(', 'c'),\n  ('demos', 'c'),\n  ('är', 'c'),\n  ('”', 'c'),\n  ('folk', 'c'),\n  ('”', 'c'),\n  ('på', 'c'),\n  ('grekiska', 'c'),\n  ('och', 'c'),\n  ('kratos', 'c'),\n  ('betyder', 'c'),\n  ('”', 'c'),\n  ('makt', 'c'),\n  ('”', 'c'),\n  (')', 'c'),\n  ('.', 'c')],\n [('Ämnet', 'c'),\n  ('återkommer', 'c'),\n  ('alltid', 'c'),\n  ('särskilt', 'i'),\n  ('när', 'c'),\n  ('det', 'c'),\n  ('är', 'c'),\n  ('dags', 'c'),\n  ('för', 'c'),\n  ('riksdagsvalet', 'i'),\n  ('.', 'c')],\n [('Så', 'c'),\n  ('skulle', 'i'),\n  ('jag', 'c'),\n  ('villja', 'i'),\n  ('att', 'i'),\n  ('ge', 'c'),\n  ('dig', 'c'),\n  ('flera', 'i'),\n  ('tips', 'c'),\n  ('för', 'i'),\n  ('du', 'i'),\n  ('får', 'c'),\n  ('bra', 'i'),\n  ('intervju', 'c'),\n  ('.', 'c')],\n [('Jag', 'c'),\n  ('tycker', 'c'),\n  ('att', 'c'),\n  ('det', 'c'),\n  ('är', 'c'),\n  ('jätte', 'i'),\n  ('bra', 'i'),\n  ('att', 'c'),\n  ('ha', 'c'),\n  ('en', 'c'),\n  ('bil', 'c'),\n  ('.', 'c')],\n [('Dessutom', 'c'),\n  ('är', 'c'),\n  ('hon', 'c'),\n  ('den', 'i'),\n  ('åsikten', 'c'),\n  ('av', 'i'),\n  ('att', 'c'),\n  ('man', 'c'),\n  ('skulle', 'i'),\n  ('införa', 'c'),\n  ('en', 'c'),\n  ('arbetstidsförkortning', 'c'),\n  ('och', 'c'),\n  ('en', 'c'),\n  ('medborgarlön', 'c'),\n  ('.', 'c')],\n [('Hon', 'i'),\n  ('berättade', 'c'),\n  ('historien', 'c'),\n  ('sånt', 'i'),\n  ('och', 'i'),\n  ('det', 'c'),\n  ('verkligen', 'c'),\n  ('hände', 'c'),\n  ('också', 'i'),\n  ('till', 'i'),\n  ('andra', 'c'),\n  ('lander', 'i'),\n  ('idag', 'c'),\n  ('.', 'c')],\n [('Det', 'c'),\n  ('hjälper', 'c'),\n  ('dock', 'c'),\n  ('inte', 'c'),\n  (',', 'c'),\n  ('men', 'c'),\n  ('till', 'c'),\n  ('slut', 'c'),\n  ('förstår', 'c'),\n  ('systrarna', 'c'),\n  ('att', 'c'),\n  ('de', 'c'),\n  ('älskar', 'c'),\n  ('varandra', 'c'),\n  ('och', 'c'),\n  ('att', 'c'),\n  ('det', 'c'),\n  ('inte', 'c'),\n  ('behövs', 'c'),\n  ('någon', 'c'),\n  ('konflikt', 'c'),\n  ('samt', 'c'),\n  ('att', 'c'),\n  ('de', 'c'),\n  ('kan', 'c'),\n  ('lösa', 'c'),\n  ('sina', 'c'),\n  ('problem', 'c'),\n  ('med', 'c'),\n  ('kärlek', 'c'),\n  ('inte', 'i'),\n  ('med', 'c'),\n  ('hat', 'c'),\n  ('och', 'c'),\n  ('konflikt', 'c'),\n  ('.', 'c')],\n [('Det', 'c'),\n  ('finns', 'c'),\n  ('en', 'c'),\n  ('folkgrupp', 'c'),\n  ('som', 'c'),\n  ('bor', 'c'),\n  ('i', 'c'),\n  ('västra', 'c'),\n  ('Peru', 'i'),\n  ('som', 'c'),\n  ('heter', 'c'),\n  ('Ado', 'i'),\n  ('.', 'c')],\n [('Vi', 'c'),\n  ('bor', 'c'),\n  ('tillsammans', 'c'),\n  (',', 'i'),\n  ('Jag', 'c'),\n  ('glad', 'i'),\n  ('liva', 'i'),\n  ('med', 'c'),\n  ('min', 'c'),\n  ('familj', 'c'),\n  ('.', 'c')],\n [('Där', 'i'),\n  ('finns', 'c'),\n  ('också', 'c'),\n  ('samhälleliga', 'c'),\n  ('faktorer', 'c'),\n  ('som', 'c'),\n  ('gör', 'c'),\n  ('att', 'c'),\n  ('man', 'c'),\n  ('begår', 'c'),\n  ('skattebrott', 'c'),\n  ('.', 'c')],\n [('Varje', 'c'),\n  ('dag', 'c'),\n  ('läser', 'c'),\n  ('jag', 'c'),\n  ('olika', 'c'),\n  ('bloggar', 'c'),\n  ('på', 'c'),\n  ('Instagram', 'c'),\n  ('och', 'c'),\n  ('Facebook', 'c'),\n  ('där', 'c'),\n  ('jag', 'c'),\n  ('får', 'c'),\n  ('veta', 'i'),\n  ('om', 'i'),\n  ('nya', 'c'),\n  ('trender', 'c'),\n  ('.', 'c')],\n [('För', 'c'),\n  ('att', 'c'),\n  ('vara', 'c'),\n  ('lycklig', 'c'),\n  ('bör', 'c'),\n  ('man', 'c'),\n  ('ha', 'c'),\n  ('ett', 'c'),\n  ('städigt', 'i'),\n  ('jobb', 'c'),\n  ('som', 'c'),\n  ('man', 'c'),\n  ('trivs', 'c'),\n  ('på', 'i'),\n  ('.', 'c')],\n [('För', 'c'),\n  ('att', 'c'),\n  ('sammanfatta', 'c'),\n  (',', 'c'),\n  ('ditt', 'c'),\n  ('val', 'c'),\n  ('av', 'c'),\n  ('kläder', 'c'),\n  ('ger', 'c'),\n  ('personer', 'i'),\n  ('det', 'c'),\n  ('första', 'c'),\n  ('intrycket', 'c'),\n  ('av', 'c'),\n  ('dig', 'c'),\n  ('men', 'c'),\n  ('kläder', 'c'),\n  ('också', 'i'),\n  ('håller', 'i'),\n  ('en', 'c'),\n  ('större', 'c'),\n  ('roll', 'c'),\n  ('i', 'c'),\n  ('livet', 'c'),\n  (':', 'c'),\n  ('att', 'c'),\n  ('representera', 'c'),\n  ('din', 'c'),\n  ('kultur', 'c'),\n  ('och', 'c'),\n  ('din', 'c'),\n  ('personlighet', 'c'),\n  ('.', 'c')],\n [('undrade', 'i'), ('han', 'c'), ('.', 'c')],\n [('Till', 'c'),\n  ('sist', 'c'),\n  ('kom', 'i'),\n  ('ihog', 'i'),\n  ('när', 'i'),\n  ('man', 'c'),\n  ('vill', 'c'),\n  ('flytta', 'c'),\n  ('man', 'c'),\n  ('måste', 'i'),\n  ('vita', 'i'),\n  ('alt', 'i'),\n  ('om', 'c'),\n  ('landet', 'c'),\n  ('som', 'c'),\n  ('man', 'c'),\n  ('vill', 'c'),\n  ('flytta', 'c'),\n  ('till', 'c'),\n  ('.', 'c')],\n [('Där', 'c'),\n  ('samlas', 'c'),\n  ('min', 'c'),\n  ('familj', 'c'),\n  ('och', 'c'),\n  ('mina', 'c'),\n  ('närmade', 'c'),\n  ('vänner', 'c'),\n  ('.', 'c')],\n [('Detta', 'c'),\n  ('gör', 'c'),\n  ('att', 'c'),\n  ('man', 'c'),\n  ('förlorar', 'c'),\n  ('intressen', 'i'),\n  ('för', 'c'),\n  ('att', 'c'),\n  ('komma', 'c'),\n  ('i', 'c'),\n  ('tid', 'c'),\n  ('eller', 'c'),\n  ('jobba', 'c'),\n  ('varje', 'c'),\n  ('dag', 'c'),\n  ('.', 'c')],\n [('Jag', 'c'),\n  ('kände', 'c'),\n  ('mig', 'c'),\n  ('sorligt', 'i'),\n  (',', 'c'),\n  ('eftersom', 'c'),\n  ('jag', 'c'),\n  ('visste', 'c'),\n  ('att', 'c'),\n  ('en', 'c'),\n  ('del', 'c'),\n  ('av', 'c'),\n  ('mitt', 'c'),\n  ('liv', 'c'),\n  (',', 'c'),\n  ('delen', 'i'),\n  ('när', 'i'),\n  ('jag', 'c'),\n  ('levade', 'i'),\n  ('med', 'c'),\n  ('Anders', 'c'),\n  ('i', 'c'),\n  ('trädgård', 'i'),\n  (',', 'c'),\n  ('var', 'c'),\n  ('slut', 'c'),\n  ('.', 'c')],\n [('Det', 'c'),\n  ('spel', 'i'),\n  ('ingen', 'c'),\n  ('roll', 'c'),\n  ('hur', 'c'),\n  ('gamal', 'i'),\n  ('är', 'i'),\n  ('du', 'c'),\n  (',', 'c'),\n  ('för', 'c'),\n  ('att', 'c'),\n  ('få', 'c'),\n  ('ny', 'i'),\n  ('vänner', 'c'),\n  ('eller', 'c'),\n  ('att', 'c'),\n  ('vara', 'c'),\n  ('glade', 'i'),\n  ('och', 'c'),\n  ('leva', 'c'),\n  (',', 'c'),\n  ('och', 'i'),\n  ('lära', 'i'),\n  ('oss', 'i'),\n  ('att', 'c'),\n  ('vara', 'c'),\n  ('nöjda', 'i'),\n  ('med', 'c'),\n  ('sig', 'i'),\n  ('själv', 'c'),\n  ('och', 'c'),\n  ('det', 'i'),\n  ('egenskaper', 'i'),\n  ('.', 'c')],\n [('Jag', 'c'),\n  ('tycker', 'c'),\n  ('att', 'c'),\n  ('det', 'c'),\n  ('är', 'c'),\n  ('omoraliskt', 'c'),\n  ('och', 'c'),\n  ('fusk', 'c'),\n  ('att', 'c'),\n  ('betala', 'c'),\n  ('svart', 'c'),\n  ('för', 'c'),\n  ('en', 'c'),\n  ('tjänst', 'c'),\n  ('eftersom', 'c'),\n  ('man', 'c'),\n  ('inte', 'c'),\n  ('köper', 'c'),\n  ('tjänster', 'c'),\n  ('av', 'c'),\n  ('någon', 'c'),\n  ('som', 'c'),\n  ('sköter', 'c'),\n  ('redovisning', 'c'),\n  (',', 'c'),\n  ('betalar', 'c'),\n  ('skatter', 'c'),\n  ('och', 'c'),\n  ('avgifter', 'c'),\n  ('även', 'c'),\n  ('om', 'c'),\n  ('svarta', 'c'),\n  ('tjänster', 'c'),\n  ('kan', 'c'),\n  ('ge', 'c'),\n  ('eller', 'c'),\n  ('spara', 'c'),\n  ('mer', 'i'),\n  ('pengar', 'c'),\n  ('men', 'i'),\n  ('man', 'c'),\n  ('skulle', 'i'),\n  ('tänka', 'c'),\n  ('att', 'i'),\n  ('det', 'c'),\n  ('är', 'c'),\n  ('bara', 'i'),\n  ('för', 'c'),\n  ('stunden', 'c'),\n  ('så', 'i'),\n  ('blir', 'i'),\n  ('det', 'c'),\n  ('dyrare', 'c'),\n  ('i', 'c'),\n  ('framtiden', 'c'),\n  ('.', 'c')],\n [('Därför', 'c'),\n  ('måste', 'c'),\n  ('skolan', 'c'),\n  ('se', 'c'),\n  ('till', 'c'),\n  ('att', 'c'),\n  ('vi', 'c'),\n  ('lär', 'c'),\n  ('oss', 'c'),\n  ('fler', 'c'),\n  ('än', 'c'),\n  ('ett', 'c'),\n  ('språk', 'c'),\n  ('för', 'c'),\n  ('att', 'c'),\n  ('vi', 'c'),\n  ('ska', 'c'),\n  ('kunna', 'c'),\n  ('fortsätta', 'c'),\n  ('på', 'i'),\n  ('den', 'c'),\n  ('raka', 'c'),\n  ('utvecklingen', 'c'),\n  ('och', 'c'),\n  ('ha', 'c'),\n  ('en', 'c'),\n  ('ljus', 'c'),\n  ('framtid', 'c'),\n  ('.', 'c')],\n [('Viktigaste', 'i'),\n  ('för', 'c'),\n  ('mig', 'c'),\n  ('är', 'c'),\n  ('att', 'c'),\n  ('barn', 'c'),\n  ('uppfostras', 'c'),\n  ('i', 'c'),\n  ('kärleksfull', 'i'),\n  ('familj', 'c'),\n  ('utan', 'c'),\n  ('våld', 'c'),\n  ('.', 'c')],\n [('Det', 'c'),\n  ('handlar', 'c'),\n  ('också', 'c'),\n  ('om', 'c'),\n  ('att', 'c'),\n  ('vara', 'c'),\n  ('lite', 'c'),\n  ('självständigt', 'i'),\n  (',', 'c'),\n  ('hade', 'c'),\n  ('han', 'c'),\n  ('varit', 'c'),\n  ('det', 'c'),\n  ('och', 'c'),\n  ('snackat', 'c'),\n  ('istället', 'i'),\n  ('med', 'c'),\n  ('släkten', 'c'),\n  ('om', 'c'),\n  ('vad', 'c'),\n  ('han', 'c'),\n  ('egentligen', 'c'),\n  ('tänkte', 'c'),\n  ('på', 'c'),\n  ('så', 'c'),\n  ('skulle', 'c'),\n  ('situationen', 'c'),\n  ('varit', 'c'),\n  ('annorlunda', 'c')],\n [('Det', 'c'),\n  ('kan', 'c'),\n  ('sätta', 'c'),\n  ('hårda', 'c'),\n  ('krav', 'c'),\n  ('både', 'c'),\n  ('på', 'c'),\n  ('kvinnor', 'c'),\n  ('och', 'c'),\n  ('män', 'c'),\n  (',', 'c'),\n  ('genom', 'c'),\n  ('kroppsidealen', 'c'),\n  ('i', 'c'),\n  ('reklamer', 'i'),\n  ('och', 'c'),\n  ('framförallt', 'i'),\n  ('porrindustrin', 'i'),\n  ('.', 'c')],\n [('Jag', 'c'),\n  ('tycker', 'c'),\n  ('om', 'c'),\n  ('i', 'i'),\n  ('skolan', 'c'),\n  ('.', 'i')],\n [('Hoppas', 'c'),\n  ('du', 'c'),\n  ('mår', 'c'),\n  ('bra', 'c'),\n  (',', 'i'),\n  ('jag', 'i'),\n  ('förstår', 'c'),\n  ('att', 'c'),\n  ('det', 'c'),\n  ('är', 'c'),\n  ('svårt', 'c'),\n  ('när', 'c'),\n  ('man', 'c'),\n  ('bestämma', 'i'),\n  ('att', 'i'),\n  ('gör', 'i'),\n  ('ett', 'c'),\n  ('stort', 'i'),\n  ('steg', 'c'),\n  ('som', 'c'),\n  ('ni', 'c'),\n  ('ska', 'c'),\n  ('göra', 'i'),\n  (',', 'c'),\n  ('men', 'c'),\n  ('vad', 'c'),\n  ('kul', 'c'),\n  ('att', 'c'),\n  ('ni', 'c'),\n  ('kommer', 'c'),\n  ('att', 'c'),\n  ('stadga', 'c'),\n  ('er', 'c'),\n  ('.', 'c')],\n [('Man', 'c'),\n  ('ska', 'c'),\n  ('älska', 'c'),\n  ('sin', 'c'),\n  ('familj', 'c'),\n  ('och', 'c'),\n  ('ta', 'c'),\n  ('vara', 'c'),\n  ('på', 'c'),\n  ('den', 'c'),\n  ('man', 'c'),\n  ('har', 'c'),\n  ('eftersom', 'c'),\n  ('man', 'c'),\n  ('har', 'c'),\n  ('bara', 'i'),\n  ('en', 'c'),\n  ('.', 'c')],\n [('Det', 'c'),\n  ('finns', 'c'),\n  ('närmare', 'i'),\n  ('bussplats', 'i'),\n  ('och', 'c'),\n  ('buss', 'c'),\n  ('.', 'c')],\n [('När', 'c'),\n  ('det', 'c'),\n  ('är', 'c'),\n  ('vår', 'c'),\n  ('doftar', 'c'),\n  ('alla', 'c'),\n  ('blommor', 'c'),\n  ('härligt', 'c'),\n  ('.', 'c')],\n [('Det', 'c'),\n  ('spelar', 'c'),\n  ('inga', 'i'),\n  ('roll', 'c'),\n  ('om', 'c'),\n  ('det', 'c'),\n  ('är', 'c'),\n  ('sommar', 'c'),\n  ('eller', 'c'),\n  ('vinter', 'c'),\n  ('men', 'c'),\n  ('jag', 'c'),\n  ('känner', 'c'),\n  ('mycket', 'c'),\n  ('lung', 'i'),\n  ('och', 'c'),\n  ('glad', 'i'),\n  ('där', 'c'),\n  ('.', 'c')],\n [('.', 'c')],\n [('I', 'c'),\n  ('artikel', 'i'),\n  ('\\\\\"', 'c'),\n  ('Norge', 'c'),\n  ('mot', 'c'),\n  ('Noreg', 'c'),\n  ('\\\\\"', 'c'),\n  ('(', 'c'),\n  ('Språktidningen', 'c'),\n  (',', 'i'),\n  ('2009:3', 'c'),\n  (')', 'c'),\n  ('påstår', 'i'),\n  ('Andreas', 'c'),\n  ('Hermansson', 'c'),\n  ('att', 'c'),\n  ('varje', 'c'),\n  ('år', 'c'),\n  ('plöjs', 'c'),\n  ('enorma', 'c'),\n  ('summor', 'c'),\n  ('ner', 'c'),\n  ('i', 'c'),\n  ('reformer', 'c'),\n  ('och', 'c'),\n  ('stöd', 'c'),\n  ('som', 'c'),\n  ('ska', 'c'),\n  ('säkerställa', 'c'),\n  ('nynorskans', 'c'),\n  ('fortlevnad', 'c'),\n  ('och', 'c'),\n  ('utveckling', 'c'),\n  ('.', 'c')],\n [('Men', 'c'),\n  ('alla', 'c'),\n  ('människor', 'c'),\n  ('vi', 'i'),\n  ('har', 'i'),\n  ('lika', 'c'),\n  ('och', 'c'),\n  ('olika', 'c'),\n  ('.', 'c')],\n [('Först', 'c'),\n  ('och', 'c'),\n  ('främst', 'c'),\n  ('försvagar', 'c'),\n  ('skattebrott', 'c'),\n  ('olika', 'c'),\n  ('institutioner', 'c'),\n  ('som', 'c'),\n  ('finanserars', 'i'),\n  ('av', 'c'),\n  ('staten', 'c'),\n  ('.', 'c')],\n [('Han', 'i'),\n  ('säger', 'c'),\n  ('”', 'i'),\n  ('nej', 'i'),\n  ('jag', 'i'),\n  ('vill', 'c'),\n  ('inte', 'c'),\n  ('höra', 'c'),\n  ('något', 'c'),\n  ('.', 'c')],\n [('Om', 'c'),\n  ('någon', 'c'),\n  ('tror', 'c'),\n  ('inte', 'i'),\n  ('på', 'c'),\n  ('något', 'i'),\n  ('gud', 'c'),\n  ('som', 'c'),\n  ('ger', 'c'),\n  ('oss', 'c'),\n  ('en', 'i'),\n  ('absoluta', 'c'),\n  ('etiska', 'c'),\n  ('reglar', 'i'),\n  ('om', 'c'),\n  ('vad', 'c'),\n  ('är', 'i'),\n  ('värdet', 'c'),\n  ('sina', 'i'),\n  ('familjer', 'c'),\n  ('eller', 'c'),\n  ('är', 'i'),\n  ('det', 'i'),\n  ('fel', 'c'),\n  ('eller', 'c'),\n  ('rätt', 'c'),\n  ('att', 'c'),\n  ('lämna', 'c'),\n  ('dem', 'c'),\n  ('eller', 'c'),\n  ('stanna', 'c'),\n  ('kvar', 'c'),\n  ('blir', 'i'),\n  ('frågan', 'c'),\n  ('om', 'c'),\n  ('etik', 'c'),\n  ('relativ', 'c'),\n  (',', 'i'),\n  ('och', 'i'),\n  ('frågan', 'c'),\n  ('om', 'i'),\n  ('varför', 'i'),\n  ('har', 'i'),\n  ('blivit', 'c'),\n  ('människorna', 'i'),\n  ('på', 'c'),\n  ('siståne', 'i'),\n  ('lämnar', 'i'),\n  ('sina', 'c'),\n  ('föräldrar', 'c'),\n  ('och', 'c'),\n  ('varför', 'c'),\n  ('har', 'i'),\n  ('vi', 'c'),\n  ('nu', 'c'),\n  ('många', 'c'),\n  ('bristande', 'c'),\n  ('familjen', 'i'),\n  ('?', 'c')],\n [('Jag', 'c'),\n  ('trivs', 'c'),\n  ('i', 'c'),\n  ('lägenheten', 'c'),\n  ('för', 'c'),\n  ('det', 'c'),\n  ('är', 'c'),\n  ('närma', 'i'),\n  ('till', 'c'),\n  ('många', 'c'),\n  ('affärer', 'c'),\n  (',', 'c'),\n  ('bus', 'i'),\n  ('och', 'c'),\n  ('buss', 'c'),\n  ('.', 'c')],\n [('Då', 'c'),\n  ('gick', 'c'),\n  ('jag', 'c'),\n  ('till', 'i'),\n  ('en', 'c'),\n  ('promenad', 'c'),\n  ('till', 'c'),\n  ('katolska', 'c'),\n  ('katedralen', 'c'),\n  ('i', 'c'),\n  ('närheten', 'c'),\n  ('.', 'c')],\n [('Att', 'c'),\n  ('betala', 'c'),\n  ('svart', 'c'),\n  ('är', 'c'),\n  ('en', 'c'),\n  ('av', 'c'),\n  ('de', 'c'),\n  ('viktigaste', 'c'),\n  ('former', 'i'),\n  ('av', 'c'),\n  ('korruption', 'c'),\n  ('och', 'c'),\n  ('det', 'c'),\n  ('är', 'c'),\n  ('inte', 'c'),\n  ('nödvändigtvis', 'c'),\n  ('att', 'i'),\n  ('betalning', 'i'),\n  ('vara', 'i'),\n  ('pengar', 'c'),\n  ('utan', 'c'),\n  ('också', 'i'),\n  ('att', 'i'),\n  ('vara', 'c'),\n  ('en', 'c'),\n  ('tjänst', 'c'),\n  (',', 'c'),\n  ('alltså', 'c'),\n  ('det', 'i'),\n  ('är', 'c'),\n  ('möjligt', 'c'),\n  ('att', 'c'),\n  ('tillhandhålla', 'c'),\n  ('en', 'c'),\n  ('tjänst', 'c'),\n  ('för', 'c'),\n  ('en', 'c'),\n  ('annan', 'c'),\n  ('tjänst', 'c'),\n  ('.', 'c')],\n [('Detta', 'c'),\n  ('ledde', 'c'),\n  ('till', 'c'),\n  ('att', 'c'),\n  ('han', 'c'),\n  ('hamnade', 'c'),\n  ('i', 'c'),\n  ('fel', 'c'),\n  ('umgänge', 'c'),\n  (',', 'c'),\n  ('begick', 'c'),\n  ('mord', 'c'),\n  ('och', 'c'),\n  ('att', 'c'),\n  ('relationen', 'c'),\n  ('mellan', 'c'),\n  ('de', 'i'),\n  ('försämrades', 'c'),\n  ('.', 'c')],\n [('Jag', 'c'),\n  ('heter', 'c'),\n  ('Anders', 'c'),\n  ('och', 'c'),\n  ('jag', 'c'),\n  ('anmälde', 'i'),\n  ('på', 'i'),\n  ('en', 'c'),\n  ('kurs', 'c'),\n  ('visserlingen', 'i'),\n  ('nu', 'c'),\n  ('jag', 'c'),\n  ('är', 'i'),\n  ('inte', 'c'),\n  ('intresserad', 'c'),\n  ('om', 'i'),\n  ('det', 'i'),\n  ('dessutom', 'i'),\n  ('att', 'i'),\n  ('kursen', 'c'),\n  ('passar', 'i'),\n  ('inte', 'c'),\n  ('bra', 'c'),\n  ('for', 'i'),\n  ('mig', 'c'),\n  ('.', 'c')],\n [('Jag', 'c'),\n  ('tror', 'i'),\n  ('det', 'c'),\n  ('är', 'c'),\n  ('viktig', 'i'),\n  ('att', 'c'),\n  ('bora', 'i'),\n  ('nära', 'c'),\n  ('tunnelbana', 'i'),\n  ('.', 'c')],\n [('När', 'c'),\n  ('jag', 'c'),\n  ('resa', 'i'),\n  ('till', 'c'),\n  ('Sverige', 'c'),\n  ('för', 'c'),\n  ('min', 'i'),\n  ('första', 'c'),\n  ('gång', 'i'),\n  ('.', 'i')],\n [('Så', 'c'),\n  ('är', 'c'),\n  ('det', 'c'),\n  ('för', 'c'),\n  ('minoritetsspråk', 'c'),\n  (',', 'c'),\n  ('det', 'c'),\n  ('enda', 'c'),\n  ('sätt', 'c'),\n  ('minoritetsspråk', 'c'),\n  ('kan', 'c'),\n  ('leva', 'c'),\n  ('kvar', 'c'),\n  ('i', 'c'),\n  ('samhällen', 'c'),\n  ('och', 'c'),\n  ('även', 'c'),\n  ('utveckla', 'i'),\n  ('är', 'c'),\n  ('genom', 'c'),\n  ('skolundervisning', 'c'),\n  ('och', 'i'),\n  ('även', 'c'),\n  ('introducera', 'i'),\n  ('de', 'i'),\n  ('till', 'c'),\n  ('handelsvärlden', 'c'),\n  ('som', 'c'),\n  ('ett', 'c'),\n  ('krav', 'c'),\n  ('för', 'i'),\n  ('vissa', 'c'),\n  ('område', 'i'),\n  ('.', 'c')],\n [('När', 'c'),\n  ('han', 'c'),\n  ('var', 'i'),\n  ('sex', 'c'),\n  ('år', 'c'),\n  ('tog', 'i'),\n  ('hennes', 'i'),\n  ('mamma', 'c'),\n  ('med', 'c'),\n  ('alla', 'c'),\n  ('barnen', 'c'),\n  ('till', 'c'),\n  ('annat', 'i'),\n  ('land', 'c'),\n  (',', 'c'),\n  ('utom', 'c'),\n  ('honom', 'c'),\n  ('.', 'c')],\n [('Sveriges', 'c'),\n  ('Radio', 'c'),\n  ('(', 'c'),\n  ('2012', 'c'),\n  (')', 'c'),\n  ('betonar', 'c'),\n  ('att', 'c'),\n  ('alla', 'c'),\n  ('har', 'c'),\n  ('rätt', 'c'),\n  ('till', 'c'),\n  ('att', 'c'),\n  ('välja', 'c'),\n  ('och', 'c'),\n  ('göra', 'c'),\n  ('som', 'c'),\n  ('de', 'c'),\n  ('vill', 'c'),\n  ('.', 'i')],\n [('För', 'i'),\n  ('att', 'i'),\n  ('man', 'c'),\n  ('inte', 'i'),\n  ('vill', 'i'),\n  ('behöva', 'i'),\n  ('ingen', 'c'),\n  ('bil', 'i'),\n  ('försäkring', 'i'),\n  ('eller', 'i'),\n  ('tanka', 'i'),\n  ('bilen', 'c'),\n  ('.', 'c')],\n [('På', 'c'),\n  ('så', 'c'),\n  ('sätt', 'c'),\n  ('kan', 'c'),\n  ('vi', 'c'),\n  ('få', 'c'),\n  ('se', 'c'),\n  ('varför', 'c'),\n  ('de', 'c'),\n  ('gjorde', 'c'),\n  ('vad', 'c'),\n  ('de', 'c'),\n  ('gjorde', 'c'),\n  ('.', 'c')],\n [('Jag', 'c'),\n  ('vet', 'c'),\n  ('inte', 'c'),\n  ('att', 'i'),\n  ('det', 'c'),\n  ('var', 'c'),\n  ('blyghet', 'c'),\n  ('eller', 'c'),\n  ('glädje', 'c'),\n  (',', 'c'),\n  ('men', 'c'),\n  ('jag', 'c'),\n  ('vet', 'c'),\n  ('att', 'c'),\n  ('det', 'c'),\n  ('var', 'c'),\n  ('skön', 'i'),\n  ('känsla', 'c'),\n  ('.', 'c')],\n [('Man', 'c'),\n  ('gör', 'c'),\n  ('saker', 'c'),\n  ('under', 'c'),\n  ('sitt', 'c'),\n  ('liv', 'c'),\n  ('även', 'i'),\n  ('om', 'i'),\n  ('det', 'i'),\n  ('är', 'i'),\n  ('rätt', 'c'),\n  ('eller', 'c'),\n  ('fel', 'c'),\n  ('men', 'c'),\n  ('man', 'c'),\n  ('gör', 'c'),\n  ('det', 'c'),\n  ('bara', 'c'),\n  ('på', 'c'),\n  ('grund', 'c'),\n  ('av', 'c'),\n  ('kärlek', 'c'),\n  ('.', 'c')],\n [('Jag', 'c'),\n  ('tänker', 'i'),\n  ('att', 'c'),\n  ('det', 'c'),\n  ('är', 'c'),\n  ('en', 'c'),\n  ('dålig', 'c'),\n  ('ide', 'i'),\n  ('.', 'c')],\n [('Men', 'c'),\n  ('vi', 'c'),\n  ('ska', 'c'),\n  ('inte', 'c'),\n  ('döma', 'c'),\n  ('människor', 'c'),\n  ('utifrån', 'c'),\n  ('deras', 'c'),\n  ('klädstil', 'c'),\n  ('.', 'c')],\n [('De', 'c'),\n  ('brott', 'c'),\n  ('som', 'c'),\n  ('finns', 'c'),\n  ('i', 'c'),\n  ('Sverige', 'c'),\n  ('finns', 'c'),\n  ('beskrivna', 'c'),\n  ('i', 'c'),\n  ('det', 'c'),\n  ('kapitel', 'c'),\n  ('av', 'c'),\n  ('lagboken', 'c'),\n  ('som', 'c'),\n  ('kallas', 'c'),\n  ('för', 'c'),\n  ('Brottsbalken', 'c'),\n  ('.', 'c')],\n [('Vad', 'c'),\n  ('har', 'i'),\n  ('man', 'c'),\n  ('för', 'c'),\n  ('kulturella', 'c'),\n  ('värderingar', 'c'),\n  ('spellar', 'i'),\n  ('en', 'c'),\n  ('stor', 'c'),\n  ('roll', 'c'),\n  ('.', 'c')],\n [('Men', 'c'),\n  ('det', 'c'),\n  ('känner', 'i'),\n  ('ändå', 'c'),\n  ('lite', 'c'),\n  ('konstigt', 'c'),\n  ('att', 'c'),\n  ('tänka', 'c'),\n  ('bara', 'i'),\n  ('om', 'i'),\n  ('pengarna', 'i'),\n  ('.', 'c')],\n [('Idag', 'c'),\n  ('finns', 'c'),\n  ('det', 'c'),\n  ('många', 'c'),\n  ('typ', 'i'),\n  ('av', 'c'),\n  ('relation', 'i'),\n  ('eller', 'c'),\n  ('förhållande', 'i'),\n  ('som', 'c'),\n  ('man', 'c'),\n  ('kan', 'c'),\n  ('vilja', 'i'),\n  ('bland', 'i'),\n  ('annat', 'c'),\n  ('är', 'i'),\n  ('sambo', 'i'),\n  ('som', 'c'),\n  ('det', 'i'),\n  ('betyder', 'c'),\n  ('att', 'c'),\n  ('man', 'c'),\n  ('ska', 'i'),\n  ('vara', 'i'),\n  ('med', 'c'),\n  ('sin', 'c'),\n  ('kärlek', 'c'),\n  ('under', 'i'),\n  ('ett', 'c'),\n  ('förhållande', 'c'),\n  ('utan', 'c'),\n  ('att', 'c'),\n  ('de', 'i'),\n  ('ska', 'i'),\n  ('gifta', 'c'),\n  ('sig', 'c'),\n  (',', 'c'),\n  ('och', 'c'),\n  ('särbo', 'i'),\n  ('som', 'c'),\n  ('betyder', 'c'),\n  ('att', 'c'),\n  ('man', 'c'),\n  ('ha', 'i'),\n  ('ett', 'c'),\n  ('förhållande', 'c'),\n  ('med', 'c'),\n  ('sin', 'c'),\n  ('kärlek', 'c'),\n  ('utan', 'c'),\n  ('att', 'c'),\n  ('bo', 'c'),\n  ('de', 'i'),\n  ('tillsammans', 'c'),\n  ('.', 'c')],\n [('En', 'c'), ('fattig', 'c'), ('arbetare', 'c'), ('.', 'c')],\n [('Just', 'c'),\n  ('därför', 'c'),\n  ('hävdar', 'c'),\n  ('många', 'c'),\n  ('att', 'c'),\n  ('vi', 'c'),\n  ('borde', 'c'),\n  ('tillåta', 'c'),\n  ('ungdomar', 'c'),\n  ('att', 'c'),\n  ('rösta', 'c'),\n  ('genom', 'c'),\n  ('att', 'c'),\n  ('sänka', 'c'),\n  ('åldersgränsen', 'c'),\n  ('.', 'c')],\n [('Grovt', 'c'), ('Jaktbrott', 'i')],\n [('Det', 'c'),\n  ('kommer', 'c'),\n  ('mycket', 'c'),\n  ('gaz', 'i'),\n  ('av', 'i'),\n  ('dem', 'c'),\n  ('sen', 'i'),\n  ('blir', 'c'),\n  ('dåligt', 'i'),\n  ('luft', 'i'),\n  ('och', 'c'),\n  ('inte', 'c'),\n  ('bra', 'c'),\n  ('för', 'c'),\n  ('andas', 'i'),\n  ('in', 'i'),\n  ('och', 'c'),\n  ('lungarna', 'i'),\n  ('.', 'c')],\n [('Vad', 'c'), ('tycker', 'c'), ('du', 'c'), ('?', 'c')],\n [('En', 'c'),\n  ('person', 'c'),\n  ('som', 'c'),\n  ('kan', 'c'),\n  ('flera', 'c'),\n  ('språk', 'c'),\n  ('är', 'c'),\n  ('som', 'c'),\n  ('en', 'i'),\n  ('multiverktyg', 'c'),\n  ('som', 'i'),\n  ('varje', 'c'),\n  ('del', 'c'),\n  ('har', 'c'),\n  ('sin', 'c'),\n  ('egen', 'c'),\n  ('funktion', 'c'),\n  ('i', 'i'),\n  ('sitt', 'c'),\n  ('eget', 'c'),\n  ('område', 'c'),\n  ('.', 'c')],\n [('Idag', 'c'),\n  (',', 'c'),\n  ('precis', 'c'),\n  ('som', 'c'),\n  ('förr', 'c'),\n  (',', 'c'),\n  ('låter', 'c'),\n  ('skönlitteraturen', 'c'),\n  ('oss', 'c'),\n  ('koppla', 'c'),\n  ('av', 'c'),\n  ('från', 'c'),\n  ('vår', 'c'),\n  ('vardag', 'c'),\n  ('och', 'c'),\n  ('kanske', 'c'),\n  ('fly', 'c'),\n  ('från', 'c'),\n  ('en', 'c'),\n  ('trist', 'c'),\n  ('verklighet', 'c'),\n  ('och', 'c'),\n  ('in', 'c'),\n  ('i', 'c'),\n  ('en', 'c'),\n  ('annan', 'c'),\n  (',', 'c'),\n  ('på', 'c'),\n  ('något', 'c'),\n  ('sätt', 'c'),\n  ('underhållande', 'c'),\n  (',', 'c'),\n  ('värld', 'c'),\n  ('.', 'c')],\n [('Temat', 'c'),\n  ('visas', 'c'),\n  ('inte', 'c'),\n  ('begriplig', 'i'),\n  ('i', 'c'),\n  ('vändpunkten', 'c'),\n  ('och', 'c'),\n  ('avtoning', 'i'),\n  ('.', 'c')],\n [('Vi', 'c'),\n  ('bör', 'c'),\n  ('satsa', 'c'),\n  ('pengar', 'c'),\n  ('på', 'c'),\n  ('att', 'c'),\n  ('rädda', 'c'),\n  ('miljön', 'c'),\n  (',', 'c'),\n  ('vi', 'c'),\n  ('bör', 'c'),\n  ('satsa', 'c'),\n  ('pengar', 'c'),\n  ('på', 'c'),\n  ('skolan', 'c'),\n  (',', 'c'),\n  ('vi', 'c'),\n  ('bör', 'c'),\n  ('satsa', 'c'),\n  ('pengar', 'c'),\n  ('på', 'c'),\n  ('stora', 'c'),\n  ('språk', 'c'),\n  ('som', 'c'),\n  ('engelskan', 'c'),\n  (',', 'c'),\n  ('vi', 'c'),\n  ('bör', 'c'),\n  ('satsa', 'c'),\n  ('pengar', 'c'),\n  ('på', 'c'),\n  ('människor', 'c'),\n  ('som', 'c'),\n  ('lever', 'c'),\n  ('i', 'c'),\n  ('kris', 'c'),\n  ('och', 'c'),\n  ('behöver', 'c'),\n  ('.', 'i')],\n [('Jag', 'c'),\n  ('är', 'c'),\n  ('trygg', 'c'),\n  ('att', 'i'),\n  ('sitta', 'c'),\n  ('på', 'c'),\n  ('bussen', 'c'),\n  ('för', 'c'),\n  ('jag', 'c'),\n  ('behöver', 'c'),\n  ('inte', 'c'),\n  ('att', 'i'),\n  ('köra', 'c'),\n  ('mig', 'i'),\n  ('själv', 'c'),\n  ('därför', 'c'),\n  ('att', 'c'),\n  ('jag', 'c'),\n  ('har', 'c'),\n  ('busschaufför', 'i'),\n  ('som', 'c'),\n  ('kör', 'c'),\n  ('buss', 'i'),\n  ('för', 'i'),\n  ('mig', 'c'),\n  ('och', 'i'),\n  ('min', 'i'),\n  ('bostadsområde', 'c'),\n  ('har', 'i'),\n  ('bussen', 'c'),\n  ('kommit', 'i'),\n  ('varje', 'i'),\n  ('15', 'i'),\n  ('minuter', 'i'),\n  ('.', 'c')],\n [('Det', 'i'),\n  ('först', 'i'),\n  ('mobile', 'i'),\n  ('kom', 'c'),\n  ('till', 'c'),\n  ('Sverige', 'c'),\n  ('var', 'i'),\n  ('i', 'i'),\n  ('1877', 'c'),\n  ('och', 'c'),\n  ('till', 'c'),\n  ('1901', 'c'),\n  ('de', 'c'),\n  ('hade', 'i'),\n  ('med', 'i'),\n  ('en', 'c'),\n  ('specialbyggd', 'c'),\n  ('promenadkäppar', 'i'),\n  ('.', 'c')],\n [('Temat', 'c'),\n  ('blir', 'c'),\n  ('tydligast', 'c'),\n  ('i', 'c'),\n  ('peripetin', 'c'),\n  ('när', 'c'),\n  ('Karl', 'c'),\n  ('som', 'i'),\n  ('alltid', 'c'),\n  ('har', 'c'),\n  ('varit', 'c'),\n  ('en', 'c'),\n  ('fegis', 'c'),\n  ('vågar', 'i'),\n  ('hoppa', 'c'),\n  ('med', 'c'),\n  ('sin', 'c'),\n  ('bror', 'c'),\n  ('i', 'c'),\n  ('hamnen', 'i'),\n  ('från', 'i'),\n  ('ett', 'i'),\n  ('berg', 'i'),\n  ('för', 'c'),\n  ('att', 'c'),\n  ('han', 'c'),\n  ('ska', 'c'),\n  ('få', 'c'),\n  ('tillbaka', 'c'),\n  ('sin', 'c'),\n  ('rörelseförmåga', 'c'),\n  ('.', 'c')],\n [('Men', 'c'),\n  ('på', 'c'),\n  ('ett', 'c'),\n  ('generallt', 'i'),\n  ('sätt', 'c'),\n  ('kan', 'c'),\n  ('man', 'c'),\n  ('beskriva', 'i'),\n  ('att', 'c'),\n  ('familjen', 'c'),\n  ('är', 'c'),\n  ('en', 'c'),\n  ('plats', 'c'),\n  ('där', 'c'),\n  ('människor', 'c'),\n  ('som', 'c'),\n  ('älskar', 'c'),\n  ('varandra', 'c'),\n  (',', 'c'),\n  ('tar', 'c'),\n  ('hand', 'c'),\n  ('om', 'c'),\n  ('varandra', 'c'),\n  ('och', 'c'),\n  ('i', 'c'),\n  ('svåra', 'c'),\n  ('tider', 'c'),\n  ('vara', 'i'),\n  ('med', 'c'),\n  ('varandra', 'c'),\n  ('bor', 'c'),\n  ('.', 'c')],\n [('Det', 'c'),\n  ('händer', 'c'),\n  ('ibland', 'c'),\n  ('att', 'c'),\n  ('ens', 'c'),\n  ('egna', 'c'),\n  ('åsikter', 'c'),\n  ('om', 'c'),\n  ('kläder', 'c'),\n  ('inte', 'c'),\n  ('stämmer', 'c'),\n  ('överens', 'c'),\n  ('med', 'c'),\n  ('omgivningens', 'c'),\n  ('.', 'c')],\n [('Varje', 'c'),\n  ('sommer', 'i'),\n  ('kommer', 'c'),\n  ('många', 'c'),\n  ('människor', 'c'),\n  ('från', 'c'),\n  ('flera', 'c'),\n  ('länder', 'c'),\n  ('där', 'i'),\n  ('.', 'c')],\n [('Då', 'c'),\n  ('blir', 'c'),\n  ('det', 'c'),\n  ('meningslöst', 'c'),\n  (',', 'c'),\n  ('tycker', 'c'),\n  ('de', 'c'),\n  ('.', 'c')],\n [('Hej', 'c'), ('Erik', 'c'), ('!', 'c')],\n [('Lövsta', 'i'), ('är', 'c'), ('mycket', 'c'), ('bra', 'c'), ('.', 'c')],\n [('Detta', 'c'),\n  ('kan', 'c'),\n  ('bero', 'c'),\n  ('på', 'c'),\n  ('jämställdhet', 'c'),\n  ('som', 'c'),\n  ('kommit', 'i'),\n  ('till', 'i'),\n  ('samhället', 'c'),\n  ('och', 'c'),\n  ('brutit', 'c'),\n  ('ner', 'c'),\n  ('alla', 'c'),\n  ('gränser', 'c'),\n  ('mellan', 'c'),\n  ('kön', 'i'),\n  ('.', 'i')],\n [('Det', 'c'),\n  ('är', 'c'),\n  ('mycket', 'c'),\n  ('viktigt', 'c'),\n  ('för', 'c'),\n  ('att', 'c'),\n  ('få', 'c'),\n  ('människor', 'c'),\n  ('engagerad', 'i'),\n  ('i', 'c'),\n  ('samhällsfrågor', 'c'),\n  ('.', 'c')],\n [('Vi', 'c'),\n  ('ser', 'c'),\n  ('alltså', 'c'),\n  ('att', 'c'),\n  ('temat', 'c'),\n  ('familjekärlek', 'c'),\n  ('kan', 'c'),\n  ('förekomma', 'c'),\n  ('på', 'c'),\n  ('olika', 'c'),\n  ('sätt', 'c'),\n  ('i', 'c'),\n  ('litterära', 'c'),\n  ('verk', 'c'),\n  ('.', 'c')],\n [('till', 'i'),\n  ('politikerna', 'c'),\n  ('i', 'c'),\n  ('Sund', 'i'),\n  ('kommun', 'c')],\n [('Tycker', 'i'),\n  ('om', 'c'),\n  ('min', 'i'),\n  ('plats', 'i'),\n  ('har', 'i'),\n  ('en', 'c'),\n  ('köpa', 'i'),\n  ('mat', 'i'),\n  ('ett', 'i'),\n  (',', 'i'),\n  ('litet', 'c'),\n  ('centrum', 'c'),\n  ('en', 'i'),\n  ('förskolan', 'i'),\n  ('en', 'i'),\n  ('vårdcentralen', 'i'),\n  ('.', 'c')],\n [('Jag', 'c'),\n  ('hoppas', 'c'),\n  ('att', 'i'),\n  ('kunna', 'c'),\n  ('lära', 'c'),\n  ('snabb', 'i'),\n  ('och', 'c'),\n  ('börja', 'c'),\n  ('söka', 'c'),\n  ('jobba', 'i'),\n  ('.', 'c')],\n [('Det', 'c'),\n  ('finns', 'c'),\n  ('stor', 'i'),\n  ('familj', 'i'),\n  ('och', 'c'),\n  ('liten', 'i'),\n  ('familj', 'i'),\n  ('.', 'c')],\n [('2011', 'c'),\n  ('många', 'i'),\n  ('som', 'c'),\n  ('invandrade', 'c'),\n  ('från', 'c'),\n  ('andra', 'c'),\n  ('länder', 'c'),\n  ('som', 'c'),\n  ('Syrien', 'c'),\n  ('som', 'c'),\n  ('har', 'c'),\n  ('krig', 'c'),\n  ('i', 'c'),\n  ('dag', 'c'),\n  ('och', 'c'),\n  ('det', 'c'),\n  ('kan', 'c'),\n  ('höja', 'i'),\n  ('procenten', 'i'),\n  ('för', 'i'),\n  ('de', 'i'),\n  ('fler', 'i'),\n  ('språkliga', 'i'),\n  ('.', 'c')],\n [('Det', 'c'),\n  ('beror', 'c'),\n  ('på', 'c'),\n  ('livet', 'i'),\n  ('behöreghet', 'i'),\n  ('också', 'i'),\n  (',', 'c'),\n  ('till', 'c'),\n  ('exempel', 'c'),\n  ('om', 'c'),\n  ('man', 'c'),\n  ('vill', 'c'),\n  ('flytta', 'c'),\n  ('till', 'c'),\n  ('annan', 'i'),\n  ('stad', 'c'),\n  ('för', 'c'),\n  ('att', 'c'),\n  ('studera', 'c'),\n  ('eller', 'c'),\n  ('jobba', 'c'),\n  ('där', 'c'),\n  (',', 'c'),\n  ('och', 'c'),\n  ('alla', 'c'),\n  ('familj', 'i'),\n  ('kan', 'c'),\n  ('inte', 'c'),\n  ('flytta', 'c'),\n  ('ditt', 'i'),\n  ('.', 'c')],\n [('Redan', 'c'),\n  ('i', 'c'),\n  ('verkets', 'c'),\n  ('anslag', 'c'),\n  ('såg', 'i'),\n  ('man', 'c'),\n  ('tydligt', 'c'),\n  ('att', 'c'),\n  ('författaren', 'c'),\n  ('vill', 'c'),\n  ('få', 'c'),\n  ('fram', 'c'),\n  ('temat', 'c'),\n  ('kärlek', 'c'),\n  ('då', 'c'),\n  ('den', 'c'),\n  ('äldrebrodern', 'i'),\n  ('tar', 'i'),\n  ('hand', 'c'),\n  ('om', 'c'),\n  ('sin', 'c'),\n  ('lillebror', 'c'),\n  ('som', 'c'),\n  ('är', 'c'),\n  ('döende', 'c'),\n  ('och', 'c'),\n  ('offrar', 'c'),\n  ('till', 'i'),\n  ('och', 'i'),\n  ('med', 'i'),\n  ('sitt', 'c'),\n  ('liv', 'c'),\n  ('för', 'c'),\n  ('att', 'c'),\n  ('rädda', 'c'),\n  ('sin', 'c'),\n  ('bror', 'c'),\n  ('.', 'c')],\n [('C66CT11', 'c')],\n [('När', 'i'),\n  ('mamman', 'c'),\n  ('förändrades', 'c'),\n  ('var', 'c'),\n  ('nånting', 'c'),\n  ('bra', 'c'),\n  ('för', 'i'),\n  ('att', 'c'),\n  ('förändra', 'i'),\n  ('mammas', 'i'),\n  ('personlighet', 'c'),\n  ('till', 'c'),\n  ('det', 'c'),\n  ('bästa', 'i'),\n  ('.', 'c')],\n [('Varje', 'c'),\n  ('dagar', 'i'),\n  ('jobbar', 'c'),\n  ('jag', 'c'),\n  ('som', 'c'),\n  ('läkare', 'c'),\n  ('och', 'c'),\n  ('går', 'i'),\n  ('där', 'i'),\n  ('bara', 'c'),\n  ('helgen', 'i'),\n  ('.', 'c')],\n [('•', 'c'),\n  ('Har', 'c'),\n  ('olika', 'c'),\n  ('kulturer', 'c'),\n  ('olika', 'c'),\n  ('syn', 'c'),\n  ('på', 'c'),\n  ('lycka', 'c'),\n  ('?', 'c')],\n [('Jag', 'c'),\n  ('är', 'i'),\n  ('mycket', 'c'),\n  ('glad', 'c'),\n  ('på', 'i'),\n  ('ditt', 'c'),\n  ('prevet', 'i'),\n  ('.', 'c')],\n [('Kanske', 'c'),\n  ('borde', 'c'),\n  ('man', 'c'),\n  ('hitta', 'c'),\n  ('en', 'c'),\n  ('balans', 'c'),\n  ('mellan', 'c'),\n  ('båda', 'i'),\n  ('.', 'c')],\n [('Låt', 'c'), ('barnen', 'c'), ('bli', 'i'), ('barn', 'c'), ('.', 'c')],\n [('På', 'c'),\n  ('grund', 'c'),\n  ('av', 'c'),\n  ('det', 'c'),\n  ('har', 'c'),\n  ('jag', 'c'),\n  ('ibland', 'c'),\n  ('inte', 'c'),\n  ('tid', 'c'),\n  ('att', 'c'),\n  ('dricka', 'c'),\n  ('kaffe', 'c'),\n  ('och', 'c'),\n  ('koppla', 'c'),\n  ('av', 'c'),\n  ('för', 'c'),\n  ('en', 'i'),\n  ('paus', 'c'),\n  ('.', 'c')],\n [('Dagligen', 'c'),\n  ('dör', 'c'),\n  ('hundratals', 'c'),\n  ('människor', 'c'),\n  ('i', 'c'),\n  ('världen', 'c'),\n  ('på', 'c'),\n  ('grund', 'c'),\n  ('av', 'c'),\n  ('att', 'c'),\n  ('de', 'c'),\n  ('har', 'c'),\n  ('inte', 'i'),\n  ('tillgång', 'c'),\n  ('till', 'c'),\n  ('mat', 'c'),\n  ('och', 'c'),\n  ('rent', 'c'),\n  ('vatten', 'c'),\n  ('.', 'c')],\n [('Hej', 'c'), ('Maria', 'c')],\n [('Både', 'i'),\n  ('för', 'i'),\n  ('miljön', 'i'),\n  ('och', 'c'),\n  ('människor', 'i'),\n  ('som', 'c'),\n  ('inte', 'c'),\n  ('har', 'c'),\n  ('råd', 'c'),\n  ('att', 'c'),\n  ('köpa', 'c'),\n  ('kläder', 'c'),\n  ('.', 'c')],\n [('Om', 'c'),\n  ('vi', 'c'),\n  ('tittar', 'c'),\n  ('på', 'c'),\n  ('’', 'i'),\n  ('Världens', 'c'),\n  ('lyckligaste', 'c'),\n  ('länder', 'c'),\n  ('’', 'c'),\n  ('är', 'c'),\n  ('Sverige', 'c'),\n  ('nummer', 'c'),\n  ('10', 'c'),\n  ('och', 'c'),\n  ('top', 'i'),\n  ('3', 'i'),\n  ('länder', 'i'),\n  ('hör', 'c'),\n  ('ju', 'c'),\n  ('till', 'c'),\n  ('Scandinavia', 'i'),\n  ('.', 'c')],\n [('Johan', 'c'),\n  ('som', 'i'),\n  ('utsattes', 'c'),\n  ('varje', 'c'),\n  ('dag', 'c'),\n  ('för', 'c'),\n  ('mobbning', 'c'),\n  ('av', 'c'),\n  ('sin', 'c'),\n  ('far', 'c'),\n  ('och', 'c'),\n  ('hamnade', 'c'),\n  ('i', 'c'),\n  ('farliga', 'c'),\n  ('situationer', 'c'),\n  ('på', 'c'),\n  ('grund', 'c'),\n  ('av', 'c'),\n  ('sin', 'c'),\n  ('blyghet', 'c'),\n  ('och', 'i'),\n  ('Astrid', 'c'),\n  ('som', 'i'),\n  ('växte', 'c'),\n  ('upp', 'c'),\n  ('i', 'c'),\n  ('en', 'c'),\n  ('kärleksfull', 'c'),\n  ('familj', 'c'),\n  ('.', 'c')],\n [('Nästan', 'c'),\n  ('alla', 'c'),\n  ('har', 'c'),\n  ('bostad', 'c'),\n  ('och', 'c'),\n  ('bilar', 'i'),\n  ('.', 'c')],\n [('Dessa', 'i'),\n  ('dagar', 'i'),\n  ('använder', 'c'),\n  ('nästan', 'c'),\n  ('alla', 'c'),\n  ('i', 'c'),\n  ('världen', 'c'),\n  ('sociala', 'c'),\n  ('medier', 'c'),\n  ('för', 'c'),\n  ('att', 'c'),\n  ('kunna', 'c'),\n  ('kommunicera', 'c'),\n  ('med', 'c'),\n  ('familj', 'c'),\n  ('och', 'c'),\n  ('vänner', 'c'),\n  ('eller', 'c'),\n  ('ha', 'c'),\n  ('koll', 'c'),\n  ('på', 'c'),\n  ('nyheterna', 'c'),\n  ('för', 'c'),\n  ('att', 'c'),\n  ('veta', 'c'),\n  ('vad', 'c'),\n  ('som', 'c'),\n  ('händer', 'c'),\n  ('i', 'c'),\n  ('landet', 'c'),\n  ('…', 'c'),\n  ('sociala', 'c'),\n  ('medier', 'c'),\n  ('hjälper', 'c'),\n  ('till', 'c'),\n  ('att', 'c'),\n  ('ge', 'i'),\n  ('et', 'i'),\n  ('stark', 'i'),\n  ('budskap', 'c'),\n  ('till', 'c'),\n  ('världen', 'c'),\n  ('om', 'c'),\n  ('vad', 'c'),\n  ('som', 'c'),\n  ('är', 'c'),\n  ('rätt', 'c'),\n  ('eller', 'c'),\n  ('fel', 'c'),\n  ('.', 'c')],\n [('Jag', 'c'),\n  ('tycker', 'c'),\n  ('att', 'c'),\n  ('kläder', 'c'),\n  ('är', 'c'),\n  ('viktiga', 'c'),\n  (',', 'c'),\n  ('men', 'c'),\n  ('man', 'c'),\n  ('får', 'c'),\n  ('ha', 'c'),\n  ('på', 'c'),\n  ('sig', 'c'),\n  ('vad', 'c'),\n  ('man', 'c'),\n  ('vill', 'c'),\n  ('så', 'c'),\n  ('länge', 'c'),\n  ('det', 'c'),\n  ('inte', 'c'),\n  ('sårar', 'c'),\n  ('andra', 'c'),\n  ('.', 'c')],\n [('Det', 'c'),\n  ('är', 'c'),\n  ('mitt', 'c'),\n  ('förslag', 'c'),\n  ('och', 'c'),\n  ('hoppas', 'i'),\n  ('att', 'c'),\n  ('vi', 'c'),\n  ('kan', 'c'),\n  ('komma', 'c'),\n  ('at', 'i'),\n  ('overens', 'i'),\n  ('på', 'i'),\n  ('någonting', 'c'),\n  ('så', 'c'),\n  ('fort', 'c'),\n  ('som', 'c'),\n  ('mojligt', 'i'),\n  ('.', 'c')],\n [('Men', 'c'),\n  ('på', 'c'),\n  ('så', 'c'),\n  ('sätt', 'c'),\n  ('skulle', 'c'),\n  ('vi', 'c'),\n  ('på', 'c'),\n  ('ett', 'c'),\n  ('indirekt', 'c'),\n  ('sätt', 'c'),\n  ('uppmuntra', 'c'),\n  ('människor', 'c'),\n  ('att', 'c'),\n  ('inte', 'c'),\n  ('lära', 'c'),\n  ('sig', 'c'),\n  ('svenska', 'c'),\n  ('.', 'c')],\n [('Jag', 'c'),\n  ('anser', 'c'),\n  ('att', 'c'),\n  ('samtliga', 'c'),\n  ('studet', 'i'),\n  ('och', 'c'),\n  ('personaler', 'i'),\n  ('vill', 'i'),\n  ('ha', 'c'),\n  ('ett', 'c'),\n  ('rigtigt', 'i'),\n  ('café', 'c'),\n  ('.', 'c')],\n [('Hällsinger', 'i'),\n  ('från', 'c'),\n  ('upprörde', 'i'),\n  ('människor', 'c'),\n  ('.', 'c')],\n [('Det', 'c'),\n  ('finns', 'c'),\n  ('många', 'c'),\n  ('stora', 'c'),\n  ('parken', 'i'),\n  ('i', 'c'),\n  ('Paris', 'i'),\n  ('.', 'c')],\n [('Skattefusket', 'i'),\n  ('är', 'c'),\n  ('brott', 'i'),\n  ('som', 'c'),\n  ('hålls', 'i'),\n  ('ansvarig', 'c'),\n  ('enligt', 'i'),\n  ('Sverige', 'i'),\n  ('Rikes', 'c'),\n  ('lag', 'i'),\n  ('och', 'c'),\n  ('vem', 'i'),\n  ('som', 'c'),\n  ('tillåter', 'c'),\n  ('sig', 'c'),\n  ('själv', 'c'),\n  ('att', 'c'),\n  ('begå', 'c'),\n  ('det', 'c'),\n  ('brottet', 'c'),\n  ('måste', 'c'),\n  ('ha', 'i'),\n  ('straff', 'i'),\n  ('enligt', 'c'),\n  ('lagen', 'c'),\n  ('.', 'c')],\n [('Historier', 'c'),\n  ('som', 'c'),\n  ('från', 'c'),\n  ('början', 'c'),\n  ('bara', 'c'),\n  ('var', 'c'),\n  ('muntligt', 'c'),\n  ('berättade', 'c'),\n  ('tar', 'c'),\n  ('idag', 'c'),\n  ('alla', 'c'),\n  ('tänkbara', 'c'),\n  ('former', 'c'),\n  ('och', 'c'),\n  ('förekommer', 'c'),\n  ('som', 'c'),\n  ('musik', 'c'),\n  (',', 'c'),\n  ('teater', 'c'),\n  (',', 'c'),\n  ('poesi', 'c'),\n  (',', 'c'),\n  ('romaner', 'c'),\n  (',', 'c'),\n  ('serier', 'c'),\n  (',', 'c'),\n  ('filmer', 'c'),\n  ('och', 'c'),\n  ('spel', 'c'),\n  ('.', 'c')],\n [('Och', 'c'),\n  ('man', 'c'),\n  ('kan', 'c'),\n  ('också', 'c'),\n  ('se', 'c'),\n  ('det', 'c'),\n  ('genom', 'c'),\n  ('alla', 'c'),\n  ('handlingar', 'c'),\n  ('som', 'c'),\n  ('de', 'c'),\n  ('gör', 'c'),\n  ('för', 'c'),\n  ('varandra', 'c'),\n  ('och', 'c'),\n  ('hur', 'c'),\n  ('mycket', 'c'),\n  ('de', 'c'),\n  ('tar', 'c'),\n  ('hand', 'c'),\n  ('om', 'c'),\n  ('varandra', 'c'),\n  ('.', 'c')],\n [('Om', 'c'),\n  ('man', 'c'),\n  ('tog', 'c'),\n  ('allt', 'c'),\n  ('ifrån', 'c'),\n  ('dig', 'c'),\n  (',', 'c'),\n  ('då', 'c'),\n  ('skulle', 'c'),\n  ('man', 'i'),\n  ('inte', 'c'),\n  ('känna', 'c'),\n  ('så', 'i'),\n  ('lycklig', 'c'),\n  ('längre', 'c'),\n  ('.', 'c')],\n [('Han', 'c'),\n  ('klarar', 'c'),\n  ('inte', 'c'),\n  ('trycket', 'c'),\n  ('från', 'c'),\n  ('sin', 'c'),\n  ('familj', 'c'),\n  ('och', 'c'),\n  ('går', 'c'),\n  ('med', 'c'),\n  ('på', 'c'),\n  ('giftermålet', 'c'),\n  ('till', 'c'),\n  ('slut', 'c'),\n  ('som', 'i'),\n  ('senare', 'i'),\n  ('ångrar', 'c'),\n  ('sig', 'i'),\n  ('.', 'c')],\n [('Deras', 'c'),\n  ('barn', 'c'),\n  ('flyttar', 'c'),\n  ('ut', 'c'),\n  ('eller', 'c'),\n  ('jobbar', 'c'),\n  ('i', 'c'),\n  ('andra', 'c'),\n  ('stan', 'i'),\n  ('.', 'c')],\n [('Min', 'c'),\n  ('åsikt', 'c'),\n  ('är', 'c'),\n  ('inför', 'i'),\n  ('gratis', 'c'),\n  ('körkortsutbildning', 'c'),\n  ('för', 'i'),\n  ('att', 'c'),\n  ('alla', 'c'),\n  ('människor', 'c'),\n  ('kan', 'c'),\n  ('lära', 'c'),\n  ('och', 'i'),\n  ('kör', 'i'),\n  ('bil', 'c'),\n  ('.', 'c')],\n [('Vi', 'c'), ('behöver', 'c'), ('biblioteket', 'c'), ('!', 'c')],\n [('Det', 'c'),\n  ('beror', 'c'),\n  ('på', 'c'),\n  ('landet', 'c'),\n  ('eller', 'c'),\n  ('samhället', 'c'),\n  ('som', 'i'),\n  ('man', 'c'),\n  ('bor', 'i'),\n  ('där', 'i'),\n  ('och', 'c'),\n  ('det', 'c'),\n  ('beror', 'c'),\n  ('på', 'c'),\n  ('att', 'i'),\n  ('vilka', 'c'),\n  ('tankar', 'c'),\n  ('och', 'c'),\n  ('ideer', 'i'),\n  ('man', 'c'),\n  ('har', 'c'),\n  ('.', 'c')],\n [('Om', 'c'),\n  ('man', 'c'),\n  ('har', 'c'),\n  ('bra', 'i'),\n  ('utbildning', 'c'),\n  (',', 'c'),\n  ('skolresultat', 'i'),\n  (',', 'i'),\n  ('bra', 'i'),\n  ('prestigefyllt', 'c'),\n  ('jobba', 'i'),\n  (',', 'c'),\n  ('dessa', 'c'),\n  ('saker', 'c'),\n  ('kan', 'c'),\n  ('heter', 'i'),\n  ('lycka', 'c'),\n  ('.', 'c')],\n [('4', 'c'), ('.', 'c')],\n [('Trots', 'c'),\n  ('att', 'c'),\n  ('pengar', 'c'),\n  ('är', 'c'),\n  ('bra', 'c'),\n  ('och', 'c'),\n  ('alla', 'c'),\n  ('behöver', 'c'),\n  ('penger', 'i'),\n  ('för', 'c'),\n  ('vad', 'c'),\n  ('som', 'c'),\n  ('helst', 'c'),\n  (',', 'c'),\n  ('men', 'c'),\n  ('jag', 'c'),\n  ('skulle', 'c'),\n  ('vilja', 'c'),\n  ('ge', 'c'),\n  ('bort', 'c'),\n  ('något', 'c'),\n  ('som', 'c'),\n  ('är', 'c'),\n  ('speciellt', 'c'),\n  ('med', 'i'),\n  ('mening', 'c'),\n  ('.', 'c')],\n [('Så', 'c'),\n  ('fungerar', 'c'),\n  ('det', 'c'),\n  ('inte', 'c'),\n  ('i', 'c'),\n  ('arbetslivet', 'c'),\n  ('.', 'i'),\n  ('”', 'c')],\n [('Jag', 'c'),\n  ('anser', 'c'),\n  ('att', 'c'),\n  ('apoteket', 'c'),\n  ('är', 'c'),\n  ('en', 'c'),\n  ('viktig', 'c'),\n  ('plats', 'c'),\n  ('för', 'c'),\n  ('mig', 'c'),\n  ('.', 'c')],\n [('Inte', 'c'),\n  ('alla', 'c'),\n  ('unga', 'c'),\n  (',', 'c'),\n  ('tonåringar', 'c'),\n  ('är', 'i'),\n  ('kompetenta', 'c'),\n  ('eller', 'c'),\n  ('tillräckligt', 'c'),\n  ('mogna', 'c'),\n  ('för', 'c'),\n  ('den', 'c'),\n  ('delen', 'c'),\n  ('att', 'i'),\n  ('kunna', 'c'),\n  ('delta', 'c'),\n  ('i', 'c'),\n  ('dagens', 'c'),\n  ('svåra', 'c'),\n  ('politiska', 'c'),\n  ('frågor', 'c'),\n  ('.', 'c')],\n [('Men', 'c'),\n  ('efter', 'c'),\n  ('gymnasiet', 'c'),\n  ('hade', 'i'),\n  ('jag', 'c'),\n  ('tappat', 'i'),\n  ('kontakten', 'c'),\n  ('därför', 'c'),\n  ('att', 'c'),\n  ('hon', 'c'),\n  ('gick', 'i'),\n  ('till', 'c'),\n  ('Sudan', 'i'),\n  ('.', 'c')],\n [('De', 'c'),\n  ('vågar', 'c'),\n  ('inte', 'c'),\n  ('heller', 'c'),\n  ('ta', 'c'),\n  ('ansvar', 'c'),\n  ('för', 'c'),\n  ('vad', 'c'),\n  ('de', 'c'),\n  ('gör', 'c'),\n  ('.', 'c')],\n [('Fler', 'c'),\n  ('faktorer', 'c'),\n  ('för', 'i'),\n  ('detta', 'c'),\n  ('finns', 'c'),\n  (',', 'c'),\n  ('exempelvis', 'c'),\n  ('mellan', 'i'),\n  ('1950', 'c'),\n  ('och', 'c'),\n  ('1980', 'c'),\n  ('skedde', 'c'),\n  ('en', 'c'),\n  ('inflyttning', 'c'),\n  ('då', 'c'),\n  ('många', 'c'),\n  ('svenskar', 'c'),\n  ('från', 'c'),\n  ('Finland', 'c'),\n  ('flyttade', 'c'),\n  ('tillbaka', 'c'),\n  ('till', 'c'),\n  ('Sverige', 'c'),\n  ('och', 'i'),\n  ('därför', 'c'),\n  ('minskade', 'c'),\n  ('antalet', 'c'),\n  ('svenskar', 'c'),\n  ('i', 'c'),\n  ('finska', 'c'),\n  ('samhället', 'c'),\n  ('och', 'i'),\n  ('även', 'c'),\n  ('att', 'c'),\n  ('fler', 'c'),\n  ('barn', 'c'),\n  ('med', 'c'),\n  ('tvåspråkiga', 'c'),\n  ('föräldrar', 'c'),\n  ('fick', 'c'),\n  ('bara', 'i'),\n  ('lära', 'c'),\n  ('sig', 'c'),\n  ('finska', 'c'),\n  ('.', 'c')],\n [('Det', 'c'),\n  ('är', 'c'),\n  ('inte', 'c'),\n  ('bara', 'c'),\n  ('bra', 'c'),\n  ('för', 'c'),\n  ('min', 'c'),\n  ('ekonomi', 'c'),\n  ('utan', 'c'),\n  ('också', 'c'),\n  ('bra', 'c'),\n  ('för', 'c'),\n  ('världen', 'c'),\n  ('eftersom', 'c'),\n  ('det', 'c'),\n  ('minskar', 'c'),\n  ('överkonsumption', 'i'),\n  ('och', 'c'),\n  ('växthuseffekten', 'c'),\n  ('.', 'c')],\n [('Många', 'c'),\n  ('kritiserar', 'c'),\n  ('detta', 'c'),\n  ('system', 'c'),\n  ('och', 'c'),\n  ('vill', 'c'),\n  ('avskaffa', 'c'),\n  ('\\\\\"', 'c'),\n  ('tvångssvenskan', 'c'),\n  ('\\\\\"', 'c'),\n  ('i', 'c'),\n  ('finska', 'c'),\n  ('skolor', 'c'),\n  ('.', 'c')],\n [('I', 'c'),\n  ('artikeln', 'c'),\n  (',', 'i'),\n  ('”', 'c'),\n  ('Företagarna', 'c'),\n  (':', 'c'),\n  ('Dålig', 'c'),\n  ('arbetsmoral', 'c'),\n  ('bland', 'c'),\n  ('unga', 'c'),\n  ('”', 'c'),\n  ('(', 'c'),\n  ('DN', 'c'),\n  (',', 'c'),\n  ('17', 'c'),\n  ('/', 'c'),\n  ('11', 'c'),\n  ('/', 'c'),\n  ('2017', 'c'),\n  (')', 'c'),\n  ('skrivit', 'i'),\n  ('av', 'c'),\n  ('Tove', 'c'),\n  ('Nandorf', 'c'),\n  ('pekar', 'i'),\n  ('författaren', 'c'),\n  ('på', 'c'),\n  ('en', 'c'),\n  ('rapport', 'c'),\n  ('som', 'c'),\n  ('visar', 'c'),\n  ('att', 'c'),\n  ('det', 'c'),\n  ('största', 'c'),\n  ('problem', 'i'),\n  ('bland', 'c'),\n  ('arbetssökande', 'c'),\n  ('är', 'c'),\n  ('”', 'c'),\n  ('brist', 'c'),\n  ('på', 'c'),\n  ('mognad', 'c'),\n  ('”', 'c'),\n  (',', 'c'),\n  ('alltså', 'c'),\n  ('sökandes', 'i'),\n  ('personliga', 'c'),\n  ('egenskaper', 'c'),\n  ('.', 'c')],\n [('De', 'c'),\n  ('sociala', 'c'),\n  ('medierna', 'c'),\n  ('ger', 'c'),\n  ('någon', 'i'),\n  ('olika', 'c'),\n  ('och', 'c'),\n  ('varierande', 'c'),\n  ('möjlighet', 'i'),\n  ('genom', 'i'),\n  ('olika', 'c'),\n  ('sätt', 'c'),\n  ('.', 'c')],\n [('När', 'c'),\n  ('läste', 'i'),\n  ('direkt', 'i'),\n  ('gick', 'i'),\n  ('han', 'c'),\n  ('och', 'c'),\n  ('har', 'i'),\n  ('tagit', 'i'),\n  ('tjej', 'i'),\n  ('polisen', 'c'),\n  ('till', 'c'),\n  ('fängelse', 'i'),\n  ('för', 'c'),\n  ('att', 'c'),\n  ('det', 'c'),\n  ('var', 'c'),\n  ('hon', 'c'),\n  ('som', 'c'),\n  ('hade', 'c'),\n  ('kontakt', 'i'),\n  ('med', 'c'),\n  ('honom', 'c'),\n  ('.', 'c')],\n [('Tack', 'c'), ('!', 'c')],\n [('Nuförtiden', 'c'),\n  ('händer', 'c'),\n  ('det', 'c'),\n  ('inte', 'c'),\n  ('ofta', 'c'),\n  ('att', 'c'),\n  ('jag', 'c'),\n  ('köper', 'c'),\n  ('kläder', 'c'),\n  (',', 'c'),\n  ('men', 'c'),\n  ('när', 'c'),\n  ('jag', 'c'),\n  ('gör', 'c'),\n  ('det', 'c'),\n  (',', 'c'),\n  ('tänker', 'c'),\n  ('jag', 'c'),\n  ('väldigt', 'c'),\n  ('mycket', 'c'),\n  ('på', 'c'),\n  ('vad', 'c'),\n  ('jag', 'c'),\n  ('ska', 'c'),\n  ('köpa', 'c'),\n  ('.', 'c')],\n [('Till', 'c'),\n  ('exempel', 'c'),\n  ('stöld', 'c'),\n  (',', 'c'),\n  ('misshandel', 'c'),\n  ('…', 'c')],\n [('Jag', 'c'),\n  ('har', 'c'),\n  ('valt', 'c'),\n  ('den', 'c'),\n  ('personen', 'i'),\n  ('eftersom', 'c'),\n  ('jag', 'c'),\n  ('kände', 'i'),\n  ('mig', 'i'),\n  ('intressera', 'i'),\n  ('mycket', 'i'),\n  ('.', 'c')],\n [('När', 'c'),\n  ('jag', 'c'),\n  ('fick', 'i'),\n  ('förstå', 'i'),\n  ('gång', 'i'),\n  ('i', 'c'),\n  ('Sudan', 'i'),\n  (',', 'c'),\n  ('känade', 'i'),\n  ('jag', 'c'),\n  ('så', 'i'),\n  ('ensam', 'c'),\n  ('.', 'c')],\n [('För', 'c'),\n  ('det', 'c'),\n  ('första', 'c'),\n  ('tycker', 'c'),\n  ('jag', 'c'),\n  ('att', 'c'),\n  ('det', 'c'),\n  ('är', 'c'),\n  ('religion', 'c'),\n  ('för', 'c'),\n  ('dom', 'c'),\n  ('att', 'c'),\n  ('klä', 'i'),\n  ('på', 'i'),\n  ('sig', 'i'),\n  ('slöjor', 'i'),\n  ('så', 'c'),\n  ('jag', 'c'),\n  ('anser', 'i'),\n  ('att', 'c'),\n  ('de', 'c'),\n  ('inte', 'i'),\n  ('är', 'c'),\n  ('nöjda', 'c'),\n  ('på', 'i'),\n  ('det', 'i'),\n  ('är', 'i'),\n  ('ärendet', 'i'),\n  ('så', 'i'),\n  ('det', 'c'),\n  ('inte', 'i'),\n  ('rätt', 'c'),\n  ('att', 'c'),\n  ('kränka', 'c'),\n  ('dom', 'i'),\n  ('deras', 'c'),\n  ('rättigheter', 'c'),\n  ('.', 'c')],\n [('Första', 'i'),\n  ('verket', 'c'),\n  ('är', 'c'),\n  ('en', 'c'),\n  ('film', 'c'),\n  ('som', 'c'),\n  ('heter', 'c'),\n  ('Frost', 'c'),\n  ('som', 'c'),\n  ('är', 'c'),\n  ('en', 'c'),\n  ('romantiskfilm', 'i'),\n  ('som', 'i'),\n  ('handlar', 'c'),\n  ('om', 'c'),\n  ('kärlek', 'c'),\n  ('mellan', 'c'),\n  ('två', 'c'),\n  ('systrar', 'c'),\n  ('de', 'i'),\n  ('kommer', 'c'),\n  ('i', 'i'),\n  ('från', 'i'),\n  ('varandra', 'c'),\n  ('på', 'c'),\n  ('grund', 'c'),\n  ('av', 'c'),\n  ('en', 'c'),\n  ('händelse', 'c'),\n  ('som', 'c'),\n  ('händer', 'i'),\n  ('när', 'c'),\n  ('de', 'c'),\n  ('leker', 'c'),\n  ('med', 'c'),\n  ('storasysters', 'c'),\n  ('is', 'i'),\n  ('magi', 'i'),\n  ('.', 'c')],\n [('Nu', 'c'),\n  ('tycker', 'c'),\n  ('jag', 'c'),\n  ('att', 'c'),\n  ('det', 'c'),\n  ('är', 'c'),\n  ('orättvis', 'i'),\n  ('att', 'c'),\n  ('tvinga', 'c'),\n  ('barn', 'c'),\n  ('som', 'i'),\n  ('tar', 'i'),\n  ('på', 'c'),\n  ('sig', 'c'),\n  ('slöjor', 'i'),\n  ('.', 'c')],\n [('Dessa', 'c'),\n  ('är', 'c'),\n  ('de', 'c'),\n  ('vanligaste', 'c'),\n  ('frågor', 'i'),\n  ('som', 'c'),\n  ('folket', 'i'),\n  ('funderar', 'c'),\n  ('alltid', 'i'),\n  ('på', 'c'),\n  ('.', 'c')],\n [('Att', 'i'),\n  ('chämpa', 'i'),\n  ('och', 'c'),\n  ('sluta', 'c'),\n  ('aldrig', 'i'),\n  ('.', 'c')],\n [('Men', 'c'),\n  ('han', 'c'),\n  ('är', 'c'),\n  ('smart', 'c'),\n  ('och', 'c'),\n  ('ducktig', 'i'),\n  ('på', 'c'),\n  ('korsord', 'c'),\n  ('.', 'c')],\n [('jag', 'i'),\n  ('tänker', 'c'),\n  ('alltid', 'c'),\n  ('på', 'c'),\n  ('Hur', 'i'),\n  ('musig', 'i'),\n  ('det', 'c'),\n  ('var', 'c'),\n  ('när', 'c'),\n  ('vi', 'c'),\n  ('träffats', 'i'),\n  ('.', 'c')],\n [('I', 'c'),\n  ('det', 'c'),\n  ('andra', 'c'),\n  ('litterära', 'c'),\n  ('så', 'c'),\n  ('kan', 'c'),\n  ('man', 'c'),\n  ('lära', 'c'),\n  ('sig', 'c'),\n  ('att', 'c'),\n  ('syskonkärlek', 'c'),\n  ('övervinner', 'c'),\n  ('allting', 'c'),\n  (',', 'c'),\n  ('och', 'c'),\n  ('det', 'c'),\n  ('ser', 'c'),\n  ('man', 'c'),\n  ('tydligt', 'c'),\n  ('genom', 'c'),\n  ('hur', 'c'),\n  ('mycket', 'c'),\n  ('den', 'c'),\n  ('äldre', 'c'),\n  ('brodern', 'c'),\n  ('tar', 'c'),\n  ('hand', 'c'),\n  ('om', 'c'),\n  ('sin', 'c'),\n  ('yngre', 'c'),\n  ('broder', 'c'),\n  ('trots', 'c'),\n  ('att', 'c'),\n  ('han', 'c'),\n  ('mår', 'c'),\n  ('dåligt', 'c'),\n  (',', 'c'),\n  ('och', 'c'),\n  ('tillslut', 'i'),\n  ('blir', 'i'),\n  ('allt', 'c'),\n  ('bra', 'c'),\n  ('.', 'c')],\n [('På', 'c'),\n  ('50-talet', 'c'),\n  ('ordnade', 'c'),\n  ('sig', 'i'),\n  ('arbetsklassen', 'i'),\n  ('sina', 'c'),\n  ('egna', 'c'),\n  ('telefoner', 'c'),\n  ('.', 'i')],\n [('RE', 'c'), ('NYA', 'i'), ('KURS', 'i'), ('!', 'c')],\n [('Hur', 'c'),\n  ('kan', 'c'),\n  ('dem', 'i'),\n  ('åka', 'c'),\n  ('skidor', 'c'),\n  ('eller', 'c'),\n  ('springa', 'c'),\n  ('efter', 'c'),\n  ('bollen', 'i'),\n  ('utan', 'c'),\n  ('att', 'c'),\n  ('känner', 'i'),\n  ('sig', 'c'),\n  ('konstigt', 'i'),\n  ('?', 'c')],\n [('Den', 'i'),\n  ('är', 'c'),\n  ('kanska', 'i'),\n  ('lugnt', 'i'),\n  ('och', 'c'),\n  ('fin', 'c'),\n  ('ort', 'c'),\n  ('och', 'c'),\n  ('den', 'c'),\n  ('ser', 'c'),\n  ('jätte', 'i'),\n  ('fint', 'i'),\n  ('i', 'i'),\n  ('vår', 'i'),\n  ('och', 'c'),\n  ('sommar', 'i'),\n  ('tiden', 'i'),\n  ('.', 'c')],\n [('Litteratur', 'c'),\n  ('är', 'c'),\n  ('dock', 'c'),\n  ('inte', 'c'),\n  ('bara', 'c'),\n  ('underhållning', 'c'),\n  ('.', 'c')],\n [('Sammanfattningsvis', 'c'),\n  ('skulle', 'i'),\n  ('man', 'c'),\n  ('tänka', 'c'),\n  ('på', 'c'),\n  ('att', 'c'),\n  ('vara', 'i'),\n  ('gott', 'i'),\n  ('föredomen', 'i'),\n  ('till', 'i'),\n  ('medborgare', 'i'),\n  ('beror', 'c'),\n  ('på', 'c'),\n  ('vad', 'c'),\n  ('man', 'c'),\n  ('räknar', 'c'),\n  ('som', 'c'),\n  ('”', 'c'),\n  ('gott', 'i'),\n  ('föredömen', 'i'),\n  ('”', 'c'),\n  ('och', 'c'),\n  ('vad', 'c'),\n  ('man', 'c'),\n  ('förväntar', 'c'),\n  ('av', 'i'),\n  ('politiker', 'c'),\n  ('.', 'c')],\n [('Först', 'c'),\n  ('landets', 'c'),\n  ('rigering', 'i'),\n  ('ville', 'i'),\n  ('inte', 'c'),\n  ('hjälpa', 'c'),\n  ('de', 'i'),\n  ('för', 'c'),\n  ('att', 'c'),\n  ('hämta', 'c'),\n  ('de', 'i'),\n  ('till', 'c'),\n  ('samhälle', 'i'),\n  ('.', 'c')],\n [('Det', 'c'),\n  ('finns', 'c'),\n  ('många', 'c'),\n  ('gamla', 'c'),\n  ('kyrkor', 'c'),\n  ('där', 'c'),\n  (',', 'c'),\n  ('och', 'c'),\n  ('alla', 'c'),\n  ('personer', 'i'),\n  ('får', 'c'),\n  ('gå', 'c'),\n  ('och', 'c'),\n  ('titta', 'c'),\n  ('på', 'c'),\n  ('den', 'i'),\n  ('har', 'i'),\n  ('kyrkor', 'i'),\n  ('.', 'c')],\n [('För', 'i'),\n  ('mig', 'i'),\n  ('något', 'i'),\n  ('som', 'c'),\n  ('jag', 'c'),\n  ('försöker', 'c'),\n  ('har', 'i'),\n  ('i', 'c'),\n  ('omtanke', 'i'),\n  ('när', 'c'),\n  ('jag', 'c'),\n  ('klär', 'c'),\n  ('mig', 'c'),\n  ('är', 'c'),\n  ('att', 'c'),\n  ('denna', 'i'),\n  ('kläder', 'i'),\n  ('måste', 'c'),\n  ('vara', 'c'),\n  ('anpassad', 'i'),\n  ('till', 'c'),\n  ('den', 'c'),\n  ('miljön', 'i'),\n  ('som', 'c'),\n  ('jag', 'c'),\n  ('befinner', 'c'),\n  ('mig', 'c'),\n  ('i', 'c'),\n  (',', 'i'),\n  ('exempelvis', 'i'),\n  ('om', 'c'),\n  ('jag', 'c'),\n  ('är', 'c'),\n  ('på', 'c'),\n  ('jobbet', 'c'),\n  ('det', 'i'),\n  ('klädelse', 'i'),\n  ('måste', 'i'),\n  ('vara', 'c'),\n  ('anpassad', 'c'),\n  ('till', 'c'),\n  ('arbetsmiljön', 'c'),\n  (',', 'c'),\n  ('i', 'i'),\n  ('en', 'c'),\n  ('fest', 'c'),\n  ('samma', 'c'),\n  ('sak', 'c'),\n  (',', 'i'),\n  ('därigenom', 'i'),\n  ('samma', 'i'),\n  ('gäller', 'i'),\n  ('till', 'i'),\n  ('frittid', 'i'),\n  ('.', 'c')],\n [('Och', 'c'),\n  ('Alla', 'i'),\n  ('måste', 'c'),\n  ('ha', 'c'),\n  ('möjlighet', 'c'),\n  ('att', 'c'),\n  ('välja', 'c'),\n  ('leva', 'i'),\n  ('som', 'c'),\n  ('de', 'c'),\n  ('vill', 'c'),\n  ('.', 'c')],\n [('Det', 'c'),\n  ('var', 'c'),\n  ('svårt', 'c'),\n  ('för', 'c'),\n  ('mig', 'c'),\n  ('att', 'i'),\n  ('först', 'c'),\n  ('eftersom', 'i'),\n  ('nya', 'i'),\n  ('kultur', 'i'),\n  ('och', 'c'),\n  ('språk', 'i'),\n  ('och', 'c'),\n  ('olika', 'c'),\n  ('folk', 'i'),\n  ('att', 'i'),\n  ('traffa', 'i'),\n  ('men', 'i'),\n  ('varje', 'c'),\n  ('dag', 'c'),\n  ('det', 'c'),\n  ('kommer', 'i'),\n  ('lättare', 'c'),\n  ('.', 'c')],\n [('Hon', 'c'),\n  ('var', 'c'),\n  ('vacker', 'c'),\n  (',', 'c'),\n  ('tyst', 'c'),\n  ('och', 'c'),\n  ('blygare', 'c'),\n  ('.', 'i')],\n [('Han', 'c'),\n  ('försattde', 'i'),\n  ('att', 'c'),\n  ('skriva', 'c'),\n  ('där', 'c'),\n  ('också', 'c'),\n  ('.', 'c')],\n [('Utbildning', 'c'), ('och', 'c'), ('skolresultat', 'c'), ('?', 'c')],\n [('Du', 'c'),\n  ('frågade', 'c'),\n  ('en', 'c'),\n  ('viktigt', 'i'),\n  ('fråga', 'c'),\n  ('.', 'c')],\n [('Hjärnan', 'c'),\n  ('är', 'c'),\n  ('väll', 'i'),\n  ('förberedd', 'c'),\n  ('och', 'c'),\n  ('försedd', 'c'),\n  ('med', 'c'),\n  ('nya', 'c'),\n  ('egenskaper', 'c'),\n  ('och', 'c'),\n  ('förmågor', 'c'),\n  ('och', 'c'),\n  ('då', 'c'),\n  ('är', 'c'),\n  ('man', 'c'),\n  ('alltid', 'c'),\n  ('ett', 'c'),\n  ('steg', 'c'),\n  ('förre', 'i'),\n  ('alla', 'c'),\n  ('andra', 'c'),\n  ('.', 'c')],\n [('Kanske', 'c'),\n  ('handlar', 'c'),\n  ('det', 'c'),\n  ('om', 'c'),\n  ('godhet', 'c'),\n  ('och', 'c'),\n  ('ondska', 'c'),\n  (',', 'c'),\n  ('kanske', 'c'),\n  ('om', 'c'),\n  ('svartsjuka', 'c'),\n  ('och', 'c'),\n  ('hämnd', 'c'),\n  ('eller', 'c'),\n  ('kanske', 'c'),\n  ('handlar', 'c'),\n  ('det', 'c'),\n  ('om', 'c'),\n  ('relationer', 'c'),\n  ('?', 'c')],\n [('Jag', 'c'),\n  ('ska', 'c'),\n  ('berätta', 'c'),\n  ('om', 'c'),\n  ('när', 'c'),\n  ('jag', 'c'),\n  ('flyttade', 'c'),\n  ('till', 'c'),\n  ('Lundby', 'i'),\n  ('för', 'c'),\n  ('att', 'c'),\n  ('bodde', 'i'),\n  ('med', 'c'),\n  ('min', 'c'),\n  ('sambo', 'c'),\n  ('.', 'c')],\n [('Detta', 'c'),\n  ('är', 'c'),\n  ('vad', 'c'),\n  ('som', 'c'),\n  ('gäller', 'c'),\n  ('för', 'c'),\n  ('min', 'c'),\n  ('del', 'c'),\n  ('.', 'c')],\n [('Genom', 'c'),\n  ('årtusendena', 'c'),\n  ('har', 'c'),\n  ('människor', 'c'),\n  ('i', 'c'),\n  ('alla', 'c'),\n  ('kulturer', 'c'),\n  ('tagit', 'c'),\n  ('del', 'c'),\n  ('av', 'c'),\n  ('skönlitteratur', 'c'),\n  ('av', 'c'),\n  ('olika', 'c'),\n  ('slag', 'c'),\n  ('.', 'c')],\n [('Man', 'c'),\n  ('kan', 'c'),\n  ('promonera', 'i'),\n  ('lång', 'i'),\n  ('tid', 'i'),\n  ('finns', 'i'),\n  ('det', 'i'),\n  ('blåser', 'c'),\n  ('.', 'c')],\n [('Varför', 'c'),\n  ('skulle', 'c'),\n  ('man', 'c'),\n  ('ha', 'c'),\n  ('pengar', 'c'),\n  ('om', 'c'),\n  ('man', 'c'),\n  ('kan', 'i'),\n  ('inte', 'c'),\n  ('spendera', 'c'),\n  ('pengarna', 'c'),\n  ('.', 'c')],\n [('Jag', 'c'),\n  ('har', 'c'),\n  ('en', 'c'),\n  ('son', 'c'),\n  ('som', 'c'),\n  ('är', 'i'),\n  ('med', 'i'),\n  ('funktionsnedsättning', 'i'),\n  ('.', 'c')],\n [('I', 'c'),\n  ('boken', 'c'),\n  ('finns', 'c'),\n  ('två', 'c'),\n  ('huvud', 'i'),\n  ('karaktärer', 'i'),\n  ('som', 'c'),\n  ('heter', 'c'),\n  ('Jonatan', 'c'),\n  ('och', 'c'),\n  ('Karl', 'c'),\n  ('.', 'c')],\n [('Därför', 'i'),\n  ('att', 'i'),\n  ('jag', 'i'),\n  ('är', 'i'),\n  ('sitta', 'i'),\n  ('i', 'i'),\n  ('hemma', 'i'),\n  ('1', 'c'),\n  ('år', 'c'),\n  ('blir', 'i'),\n  ('jobbit', 'i'),\n  ('med', 'c'),\n  ('sma', 'i'),\n  ('barn', 'c'),\n  ('.', 'c')],\n [('Väder', 'c'),\n  ('och', 'c'),\n  ('temperatur', 'c'),\n  ('är', 'c'),\n  ('de', 'c'),\n  ('största', 'i'),\n  ('faktorerna', 'c'),\n  ('när', 'c'),\n  ('man', 'c'),\n  ('väljer', 'c'),\n  ('kläder', 'c'),\n  ('.', 'c')],\n [('’', 'i')],\n [('Faktist', 'i'),\n  ('tycker', 'c'),\n  ('jag', 'c'),\n  ('inte', 'c'),\n  ('att', 'c'),\n  ('ditt', 'c'),\n  ('förslag', 'c'),\n  ('att', 'i'),\n  ('vi', 'c'),\n  ('ska', 'c'),\n  ('ge', 'c'),\n  ('mina', 'c'),\n  ('vänner', 'c'),\n  ('Karin', 'c'),\n  ('och', 'c'),\n  ('Erik', 'c'),\n  ('en', 'c'),\n  ('bröllopspresent', 'c'),\n  ('.', 'c')],\n [('Under', 'c'),\n  ('den', 'c'),\n  ('här', 'c'),\n  ('tiden', 'c'),\n  ('fanns', 'c'),\n  ('ca', 'c'),\n  ('20000', 'c'),\n  ('telefonapparater', 'c'),\n  ('i', 'c'),\n  ('landet', 'c'),\n  ('som', 'i'),\n  ('är', 'i'),\n  ('publicerad', 'i'),\n  ('den', 'c'),\n  ('första', 'c'),\n  ('katalogen', 'c'),\n  ('.', 'c')],\n [('Senare', 'c'),\n  ('flyttade', 'c'),\n  ('de', 'c'),\n  ('i', 'i'),\n  ('favelan', 'i'),\n  ('område', 'i'),\n  ('i', 'c'),\n  ('Sao', 'c'),\n  ('Paulo', 'c'),\n  ('och', 'c'),\n  ('började', 'c'),\n  ('tigga', 'c'),\n  ('om', 'i'),\n  ('mat', 'c'),\n  ('på', 'c'),\n  ('gatan', 'c'),\n  ('att', 'i'),\n  ('överleva', 'c'),\n  ('.', 'c')],\n [('Jag', 'c'),\n  ('har', 'c'),\n  ('läst', 'c'),\n  ('Alex', 'c'),\n  ('dogboy', 'c'),\n  (',', 'c'),\n  ('att', 'c'),\n  ('han', 'c'),\n  ('var', 'i'),\n  ('på', 'c'),\n  ('gatan', 'c'),\n  ('som', 'c'),\n  ('gatubarn', 'c'),\n  (',', 'c'),\n  ('hade', 'i'),\n  ('ingeting', 'i'),\n  ('och', 'c'),\n  ('han', 'i'),\n  ('hade', 'c'),\n  ('inte', 'i'),\n  ('mat', 'c'),\n  ('och', 'c'),\n  ('tiggade', 'i'),\n  ('pengar', 'c'),\n  ('för', 'c'),\n  ('att', 'c'),\n  ('skapa', 'i'),\n  ('mat', 'c'),\n  ('.', 'c')],\n [('Den', 'c'),\n  ('bästa', 'c'),\n  ('tiden', 'c'),\n  ('i', 'i'),\n  ('dagen', 'c'),\n  ('när', 'c'),\n  ('du', 'c'),\n  ('klädd', 'i'),\n  ('på', 'i'),\n  ('den', 'i'),\n  ('vita', 'c'),\n  ('simkläder', 'i'),\n  ('och', 'c'),\n  ('bjud', 'i'),\n  ('mig', 'c'),\n  ('för', 'i'),\n  ('att', 'c'),\n  ('dyka', 'c'),\n  ('tillsamman', 'i'),\n  ('lite', 'c'),\n  ('gran', 'i'),\n  ('men', 'i'),\n  ('du', 'c'),\n  ('vet', 'c'),\n  ('redan', 'c'),\n  ('mitt', 'c'),\n  ('svar', 'c'),\n  (',', 'c'),\n  ('jag', 'c'),\n  ('giller', 'i'),\n  ('inte', 'c'),\n  ('vatten', 'c'),\n  (',', 'c'),\n  ('inte', 'c'),\n  ('alls', 'c'),\n  (',', 'i'),\n  ('också', 'i'),\n  ('kan', 'i'),\n  ('inte', 'c'),\n  ('missa', 'i'),\n  ('att', 'i'),\n  ('stanna', 'c'),\n  ('här', 'c'),\n  ('och', 'c'),\n  ('titta', 'c'),\n  ('på', 'c'),\n  ('dig', 'c'),\n  ('när', 'c'),\n  ('du', 'c'),\n  ('glittrar', 'c'),\n  ('i', 'c'),\n  ('vattnet', 'c'),\n  ('.', 'c')],\n [('Dagens', 'c'),\n  ('unga', 'c'),\n  ('mognar', 'c'),\n  ('snabbare', 'c'),\n  ('än', 'c'),\n  ('tidigare', 'c'),\n  (',', 'c'),\n  ('så', 'c'),\n  ('mognad', 'c'),\n  ('som', 'c'),\n  ('argument', 'c'),\n  ('talar', 'c'),\n  ('för', 'c'),\n  ('en', 'c'),\n  ('sänkt', 'c'),\n  ('åldersgräns', 'c'),\n  ('.', 'c')],\n [('För', 'c'),\n  ('det', 'c'),\n  ('första', 'c'),\n  ('så', 'c'),\n  ('vill', 'c'),\n  ('jag', 'c'),\n  ('påpeka', 'c'),\n  ('en', 'c'),\n  ('sak', 'c'),\n  ('att', 'i'),\n  ('i', 'c'),\n  ('detta', 'c'),\n  ('sammanhang', 'c'),\n  ('så', 'c'),\n  ('håller', 'c'),\n  ('jag', 'c'),\n  ('inte', 'c'),\n  ('med', 'c'),\n  ('att', 'i'),\n  ('man', 'c'),\n  ('bör', 'c'),\n  ('rädda', 'c'),\n  ('språk', 'c'),\n  ('som', 'c'),\n  ('tynar', 'c'),\n  ('bort', 'c'),\n  ('.', 'c')],\n [('First', 'i'),\n  ('och', 'c'),\n  ('främst', 'c'),\n  ('vi', 'c'),\n  ('vet', 'i'),\n  ('alla', 'c'),\n  ('om', 'i'),\n  ('bilar', 'i'),\n  ('avgaser', 'i'),\n  ('och', 'c'),\n  ('hur', 'c'),\n  ('negativt', 'i'),\n  ('det', 'i'),\n  ('är', 'c'),\n  ('för', 'c'),\n  ('oss', 'c'),\n  ('och', 'c'),\n  ('vår', 'c'),\n  ('planet', 'c'),\n  ('.', 'c')],\n [('Du', 'c'),\n  ('skulle', 'c'),\n  ('kunna', 'c'),\n  ('beskriva', 'c'),\n  ('om', 'i'),\n  ('dina', 'c'),\n  ('svaga', 'c'),\n  ('sidor', 'c'),\n  ('också', 'c'),\n  ('men', 'i'),\n  ('inte', 'c'),\n  ('direkt', 'c'),\n  ('till', 'i'),\n  ('ex', 'i'),\n  (':', 'i'),\n  ('du', 'c'),\n  ('borde', 'c'),\n  ('inte', 'c'),\n  ('skriva', 'c'),\n  (';', 'i'),\n  ('jag', 'c'),\n  ('är', 'c'),\n  ('dålig', 'c'),\n  ('på', 'c'),\n  ('att', 'c'),\n  ('…', 'c'),\n  ('du', 'i'),\n  ('måste', 'c'),\n  ('faktiskt', 'c'),\n  ('beskriva', 'c'),\n  ('som', 'i'),\n  ('dem', 'c'),\n  ('tipsen', 'i'),\n  ('för', 'i'),\n  ('ex', 'i'),\n  (':', 'c'),\n  ('jag', 'c'),\n  ('kanske', 'c'),\n  ('inte', 'c'),\n  ('är', 'c'),\n  ('så', 'c'),\n  ('bra', 'c'),\n  ('på', 'c'),\n  ('att', 'c'),\n  ('simma', 'c'),\n  ('eller', 'c'),\n  ('…', 'c')],\n [('Jag', 'c'),\n  ('ska', 'c'),\n  ('berätta', 'c'),\n  ('om', 'c'),\n  ('min', 'c'),\n  ('gamla', 'c'),\n  ('stad', 'c'),\n  ('som', 'c'),\n  ('är', 'c'),\n  ('jätte', 'i'),\n  ('viktig', 'i'),\n  ('för', 'c'),\n  ('mig', 'c'),\n  ('och', 'i'),\n  ('den', 'i'),\n  ('är', 'c'),\n  ('Oslo', 'i'),\n  ('den', 'i'),\n  ('är', 'c'),\n  ('jätte', 'i'),\n  ('fin', 'i'),\n  ('stad', 'c'),\n  ('.', 'c')],\n [(',', 'c'), ('Hammar', 'c'), (',', 'c'), ('Henrik', 'c'), ('.', 'i')],\n [('Det', 'c'),\n  ('var', 'c'),\n  ('min', 'i'),\n  ('bra', 'i'),\n  ('idéa', 'i'),\n  ('att', 'i'),\n  ('traffade', 'i'),\n  ('människor', 'c'),\n  ('och', 'c'),\n  ('pratade', 'c'),\n  ('med', 'c'),\n  ('de', 'i'),\n  ('i', 'i'),\n  ('Tyska', 'i'),\n  ('.', 'c')],\n [('Jag', 'c'),\n  ('kunde', 'i'),\n  ('inte', 'c'),\n  ('se', 'i'),\n  ('honom', 'c'),\n  ('gråter', 'i'),\n  ('när', 'c'),\n  ('andra', 'c'),\n  ('barn', 'c'),\n  ('skratar', 'i'),\n  ('ur', 'i'),\n  ('honom', 'c'),\n  ('för', 'c'),\n  ('han', 'i'),\n  ('kunde', 'c'),\n  ('inte', 'i'),\n  ('leka', 'c'),\n  ('med', 'c'),\n  ('dem', 'c'),\n  ('.', 'c')],\n [('Even', 'i'),\n  ('om', 'c'),\n  ('jag', 'c'),\n  ('är', 'c'),\n  ('en', 'c'),\n  ('feminist', 'c'),\n  (',', 'c'),\n  ('tycker', 'c'),\n  ('jag', 'c'),\n  ('att', 'c'),\n  ('det', 'c'),\n  ('är', 'c'),\n  ('respektfult', 'c'),\n  ('att', 'c'),\n  ('följa', 'c'),\n  ('de', 'c'),\n  ('där', 'i'),\n  ('regler', 'i'),\n  ('.', 'c')],\n [('M.v.h', 'c')],\n [('När', 'c'),\n  ('jag', 'c'),\n  ('hade', 'i'),\n  ('ingen', 'i'),\n  ('uphålstillstånd', 'i'),\n  ('jag', 'c'),\n  ('gick', 'i'),\n  ('där', 'i'),\n  ('och', 'c'),\n  ('lärde', 'c'),\n  ('mig', 'c'),\n  ('svenska', 'c'),\n  ('och', 'i'),\n  ('under', 'i'),\n  ('6', 'c'),\n  ('månader', 'c'),\n  ('jag', 'c'),\n  ('ska', 'i'),\n  ('bli', 'i'),\n  ('klar', 'c'),\n  ('på', 'c'),\n  ('Sfi', 'c'),\n  ('.', 'c')],\n [('Även', 'c'),\n  ('om', 'c'),\n  ('det', 'c'),\n  ('inte', 'c'),\n  ('generellt', 'c'),\n  ('finns', 'c'),\n  ('något', 'c'),\n  ('som', 'c'),\n  ('kan', 'c'),\n  ('få', 'c'),\n  ('en', 'c'),\n  ('att', 'c'),\n  ('klä', 'c'),\n  ('på', 'c'),\n  ('sig', 'c'),\n  ('något', 'c'),\n  ('speciellt', 'c'),\n  ('är', 'c'),\n  ('det', 'c'),\n  ('bättre', 'c'),\n  ('att', 'c'),\n  ('ha', 'i'),\n  ('ett', 'c'),\n  ('lämpligt', 'c'),\n  ('val', 'c'),\n  ('på', 'i'),\n  ('en', 'i'),\n  ('spesifik', 'i'),\n  ('plats', 'i'),\n  ('.', 'c')],\n [('För', 'c'),\n  ('det', 'c'),\n  ('andra', 'c'),\n  ('menar', 'c'),\n  ('jag', 'c'),\n  ('att', 'c'),\n  ('vi', 'c'),\n  ('behöver', 'c'),\n  ('låna', 'c'),\n  ('böcker', 'c'),\n  (',', 'i'),\n  ('filmer', 'i'),\n  ('och', 'c'),\n  ('lära', 'c'),\n  ('barnen', 'c'),\n  ('att', 'c'),\n  ('läsa', 'c'),\n  ('och', 'c'),\n  ('studera', 'c'),\n  ('i', 'c'),\n  ('studierumen', 'i'),\n  ('.', 'c')],\n [('Till', 'c'),\n  ('exempel', 'c'),\n  ('när', 'c'),\n  ('arbetsgivare', 'c'),\n  ('inte', 'c'),\n  ('registrerar', 'c'),\n  ('sina', 'c'),\n  ('arbetstagare', 'c'),\n  ('med', 'i'),\n  ('skatteverket', 'i'),\n  ('för', 'c'),\n  ('att', 'c'),\n  ('slippa', 'c'),\n  ('betala', 'c'),\n  ('skatten', 'c'),\n  (',', 'c'),\n  ('det', 'i'),\n  ('så', 'c'),\n  ('kallade', 'i'),\n  ('svartarbete', 'c'),\n  (',', 'c'),\n  ('eller', 'c'),\n  ('om', 'c'),\n  ('en', 'c'),\n  ('företagshavare', 'i'),\n  ('bokför', 'c'),\n  ('inte', 'i'),\n  ('alla', 'c'),\n  ('sina', 'c'),\n  ('inkomster', 'c'),\n  ('för', 'c'),\n  ('att', 'c'),\n  ('blir', 'i'),\n  ('av', 'c'),\n  ('med', 'c'),\n  ('skatten', 'c'),\n  ('.', 'c')],\n [('För', 'c'),\n  ('det', 'c'),\n  ('andra', 'c'),\n  ('i', 'i'),\n  ('godisautomat', 'i'),\n  ('finns', 'c'),\n  ('det', 'c'),\n  ('inte', 'c'),\n  ('mycket', 'i'),\n  ('val', 'i'),\n  ('att', 'i'),\n  ('äta', 'i'),\n  ('och', 'c'),\n  ('blir', 'i'),\n  ('jag', 'c'),\n  ('ofta', 'c'),\n  ('hungrig', 'c'),\n  ('.', 'c')],\n [('Du', 'c'),\n  ('kunna', 'i'),\n  ('också', 'c'),\n  ('gå', 'c'),\n  ('för', 'i'),\n  ('samlingspunkt', 'i'),\n  ('eftersom', 'c'),\n  ('de', 'c'),\n  ('flesta', 'c'),\n  ('människor', 'c'),\n  ('när', 'i'),\n  ('de', 'i'),\n  ('flyttat', 'i'),\n  ('till', 'i'),\n  ('en', 'i'),\n  ('ny', 'i'),\n  ('stad', 'i'),\n  ('de', 'i'),\n  ('gå', 'i'),\n  ('där', 'i'),\n  ('för', 'c'),\n  ('träffa', 'i'),\n  ('nya', 'c'),\n  ('människor', 'c'),\n  ('.', 'c')],\n [('De', 'c'),\n  ('var', 'c'),\n  ('orolig', 'i'),\n  ('att', 'c'),\n  ('hela', 'c'),\n  ('samhället', 'c'),\n  ('ska', 'i'),\n  ('splittras', 'c'),\n  ('till', 'c'),\n  ('kaos', 'c'),\n  ('utan', 'c'),\n  ('ett', 'i'),\n  ('starkt', 'i'),\n  ('moral', 'i'),\n  ('kompass', 'i'),\n  ('.', 'c')],\n [('Jag', 'c'),\n  ('förhåller', 'c'),\n  ('mig', 'c'),\n  ('med', 'i'),\n  ('kläder', 'c'),\n  ('som', 'c'),\n  ('tillbehöret', 'i'),\n  ('till', 'c'),\n  ('mitt', 'c'),\n  ('liv', 'c'),\n  ('men', 'i'),\n  ('inte', 'i'),\n  ('som', 'c'),\n  ('behovet', 'i'),\n  ('.', 'c')],\n [('Jag', 'c'), ('har', 'c'), ('fyra', 'c'), ('barn', 'c'), ('.', 'c')],\n [('Det', 'c'),\n  ('fins', 'i'),\n  ('många', 'c'),\n  ('skäl', 'c'),\n  ('till', 'c'),\n  ('att', 'c'),\n  ('cykla', 'c'),\n  ('eller', 'c'),\n  ('promenera', 'c'),\n  ('i', 'c'),\n  ('Haga', 'i'),\n  ('.', 'c')],\n [('Så', 'c'),\n  ('jag', 'c'),\n  ('undrar', 'c'),\n  ('varför', 'c'),\n  ('kommounen', 'i'),\n  ('tänker', 'c'),\n  ('att', 'i'),\n  ('stänga', 'c'),\n  ('som', 'i'),\n  ('den', 'c'),\n  ('fin', 'i'),\n  ('plats', 'i'),\n  ('.', 'c')],\n [('Många', 'c'),\n  ('kriminalister', 'i'),\n  ('hade', 'i'),\n  ('problem', 'c'),\n  ('med', 'c'),\n  ('barndom', 'i'),\n  ('.', 'c')],\n [('Demokrati', 'c'),\n  ('gör', 'c'),\n  ('så', 'c'),\n  ('samhället', 'i'),\n  ('kan', 'c'),\n  ('nominera', 'c'),\n  ('det', 'c'),\n  ('partiet', 'i'),\n  ('de', 'c'),\n  ('anser', 'c'),\n  ('är', 'c'),\n  ('det', 'c'),\n  ('mest', 'c'),\n  ('passande', 'c'),\n  (',', 'c'),\n  ('istället', 'c'),\n  ('för', 'c'),\n  ('att', 'c'),\n  ('regeringen', 'c'),\n  ('ska', 'c'),\n  ('ha', 'c'),\n  ('all', 'c'),\n  ('makt', 'c'),\n  ('.', 'c')],\n [('Undersökningar', 'c'),\n  ('visar', 'c'),\n  ('att', 'c'),\n  ('unga', 'c'),\n  ('par', 'c'),\n  ('funderar', 'c'),\n  ('mycket', 'c'),\n  ('över', 'c'),\n  ('sin', 'c'),\n  ('långsiktiga', 'c'),\n  ('kärleksrelation', 'c'),\n  ('efter', 'c'),\n  ('giftermål', 'i'),\n  ('om', 'i'),\n  ('det', 'i'),\n  ('skulle', 'i'),\n  ('verkligen', 'i'),\n  ('hålla', 'c'),\n  ('eller', 'c'),\n  ('ej', 'c'),\n  ('samt', 'i'),\n  ('om', 'c'),\n  ('löftet', 'c'),\n  ('räcker', 'c'),\n  ('till', 'c'),\n  ('.', 'c')],\n [('Barn', 'c'),\n  ('behöver', 'c'),\n  ('kärlek', 'c'),\n  (',', 'c'),\n  ('trygghet', 'c'),\n  ('och', 'c'),\n  ('goda', 'c'),\n  ('förebilder', 'c'),\n  ('i', 'c'),\n  ('livet', 'c'),\n  ('.', 'c')],\n [('Jag', 'c'),\n  ('spekulera', 'i'),\n  ('om', 'c'),\n  ('dessa', 'c'),\n  ('shoppingvanor', 'c'),\n  ('kanske', 'c'),\n  ('kommer', 'c'),\n  ('från', 'c'),\n  ('vad', 'c'),\n  ('samhället', 'c'),\n  ('driver', 'c'),\n  ('oss', 'c'),\n  ('att', 'c'),\n  ('göra', 'c'),\n  (':', 'c'),\n  ('att', 'c'),\n  ('inte', 'c'),\n  ('vara', 'c'),\n  ('annorlunda', 'c'),\n  ('än', 'c'),\n  ('de', 'c'),\n  ('andra', 'c'),\n  ('.', 'c')],\n [('Avslutningsvis', 'c'),\n  (',', 'i'),\n  ('är', 'c'),\n  ('det', 'c'),\n  ('tydligt', 'c'),\n  ('att', 'c'),\n  ('många', 'c'),\n  ('butiker', 'c'),\n  ('lockar', 'c'),\n  ('oss', 'c'),\n  ('att', 'c'),\n  ('köpa', 'c'),\n  ('nya', 'c'),\n  ('kläder', 'c'),\n  ('varje', 'c'),\n  ('dag', 'c'),\n  ('.', 'c')],\n [('För', 'c'),\n  ('det', 'c'),\n  ('första', 'c'),\n  ('om', 'i'),\n  ('man', 'c'),\n  ('har', 'c'),\n  ('full', 'c'),\n  ('kunskap', 'c'),\n  ('av', 'i'),\n  ('språket', 'c'),\n  ('då', 'i'),\n  ('har', 'c'),\n  ('man', 'c'),\n  ('allt', 'c'),\n  ('för', 'c'),\n  ('livet', 'c'),\n  ('som', 'c'),\n  ('en', 'i'),\n  ('invandrare', 'c'),\n  ('.', 'c')],\n [('Han', 'c'),\n  ('var', 'c'),\n  ('lång', 'c'),\n  (',', 'c'),\n  ('ganska', 'c'),\n  ('snygg', 'c'),\n  ('med', 'i'),\n  ('mörkbrunt', 'c'),\n  ('hår', 'c'),\n  ('och', 'c'),\n  ('svarta', 'c'),\n  ('ögon', 'c'),\n  ('.', 'c')],\n [('1', 'c')],\n [('Du', 'c'), ('eller', 'c'), ('han', 'c'), ('?', 'c')],\n [('Jag', 'c'),\n  ('kan', 'c'),\n  ('inte', 'c'),\n  ('beskriva', 'c'),\n  ('mina', 'c'),\n  ('känslor', 'c'),\n  ('men', 'c'),\n  ('jag', 'c'),\n  ('älskade', 'c'),\n  ('mycket', 'i'),\n  ('honom', 'c'),\n  ('.', 'i')],\n [('Dagens', 'c'),\n  ('samhälle', 'c'),\n  ('har', 'c'),\n  ('blivit', 'c'),\n  ('allt', 'c'),\n  ('mer', 'c'),\n  ('mångkulturellt', 'c'),\n  ('.', 'c')],\n [('Men', 'c'),\n  ('så', 'c'),\n  ('är', 'c'),\n  ('det', 'c'),\n  ('inte', 'c'),\n  ('i', 'c'),\n  ('hela', 'c'),\n  ('landet', 'c'),\n  ('påstår', 'i'),\n  ('Torkel', 'c'),\n  ('Jansson', 'c'),\n  (',', 'c'),\n  ('proffesor', 'i'),\n  ('i', 'c'),\n  ('historia', 'c'),\n  ('vid', 'c'),\n  ('Uppsala', 'c'),\n  ('universitetet', 'i'),\n  (',', 'i'),\n  ('han', 'i'),\n  ('framhåller', 'c'),\n  ('Vasa', 'c'),\n  ('som', 'c'),\n  ('ett', 'c'),\n  ('gott', 'c'),\n  ('exempel', 'c'),\n  (',', 'c'),\n  ('den', 'c'),\n  ('enda', 'c'),\n  ('genuint', 'c'),\n  ('tvåspråkiga', 'c'),\n  ('storstaden', 'c'),\n  ('i', 'c'),\n  ('Finland', 'c'),\n  ('.', 'c')],\n [('Situationen', 'c'),\n  ('ser', 'c'),\n  ('annorlunda', 'c'),\n  ('ut', 'c'),\n  ('när', 'c'),\n  ('man', 'c'),\n  ('tittar', 'c'),\n  ('på', 'c'),\n  ('länder', 'c'),\n  ('i', 'c'),\n  ('västvärlden', 'c'),\n  ('och', 'c'),\n  ('jämföra', 'i'),\n  ('typer', 'c'),\n  ('av', 'c'),\n  ('familjen', 'i'),\n  ('dåtiden', 'i'),\n  ('och', 'i'),\n  ('nutiden', 'i'),\n  ('.', 'c')],\n [('1877', 'c'),\n  ('kom', 'c'),\n  ('i', 'i'),\n  ('Sverige', 'i'),\n  ('de', 'c'),\n  ('första', 'c'),\n  ('telefonlinjerna', 'c'),\n  ('och', 'c'),\n  ('ett', 'c'),\n  ('år', 'c'),\n  ('sen', 'i'),\n  ('Bell', 'c'),\n  ('upptäckte', 'i'),\n  ('ett', 'c'),\n  ('nytt', 'c'),\n  ('patent', 'c'),\n  ('genom', 'c'),\n  ('vilket', 'c'),\n  ('man', 'c'),\n  ('kunde', 'c'),\n  ('använda', 'c'),\n  ('mikrofon', 'c'),\n  ('och', 'c'),\n  ('hörtelefon', 'c'),\n  (',', 'c'),\n  ('anser', 'i'),\n  ('Björkqvist', 'c'),\n  ('.', 'c')],\n [('Jag', 'c'),\n  ('gillar', 'c'),\n  ('vår', 'c'),\n  ('sommarstuga', 'c'),\n  ('och', 'c'),\n  ('den', 'i'),\n  ('ställen', 'i'),\n  ('är', 'c'),\n  ('viktig', 'i'),\n  ('för', 'c'),\n  ('mig', 'c'),\n  ('i', 'c'),\n  ('mitt', 'c'),\n  ('liv', 'c'),\n  ('.', 'c')],\n [('Oslo', 'i'),\n  ('liger', 'i'),\n  ('i', 'i'),\n  ('många', 'c'),\n  ('fina', 'c'),\n  ('berg', 'c'),\n  ('.', 'c')],\n [('Om', 'c'),\n  ('situation', 'i'),\n  ('är', 'c'),\n  ('inte', 'i'),\n  ('bra', 'c'),\n  (',', 'i'),\n  ('ska', 'c'),\n  ('man', 'c'),\n  ('aldrig', 'c'),\n  ('ge', 'c'),\n  ('upp', 'c'),\n  ('.', 'c')],\n [('Det', 'c'),\n  ('bästa', 'c'),\n  ('ting', 'i'),\n  ('i', 'c'),\n  ('Sverige', 'c'),\n  ('är', 'c'),\n  ('natur', 'i'),\n  ('.', 'c')],\n [('Jag', 'c'),\n  ('går', 'c'),\n  ('till', 'c'),\n  ('skolan', 'c'),\n  ('3', 'c'),\n  ('dagar', 'c'),\n  ('i', 'c'),\n  ('vecka', 'i'),\n  ('och', 'c'),\n  ('studera', 'i'),\n  ('8', 'c'),\n  ('timmar', 'c'),\n  ('där', 'c'),\n  ('.', 'c')],\n [('När', 'c'),\n  ('det', 'c'),\n  ('gäller', 'c'),\n  ('mobiltelefoner', 'c'),\n  ('anger', 'c'),\n  ('Björkqvist', 'c'),\n  ('att', 'c'),\n  ('de', 'c'),\n  ('första', 'c'),\n  ('mobila', 'c'),\n  ('telefonerna', 'c'),\n  ('började', 'c'),\n  ('användas', 'c'),\n  ('på', 'c'),\n  ('50-talet', 'c'),\n  ('där', 'i'),\n  ('år', 'c'),\n  ('1957', 'c'),\n  ('var', 'c'),\n  ('antalet', 'c'),\n  ('mobiltelefoner', 'c'),\n  ('i', 'c'),\n  ('landet', 'c'),\n  ('26', 'c'),\n  ('stycken', 'c'),\n  (',', 'c'),\n  ('tillägger', 'c'),\n  ('Björkqvist', 'c'),\n  ('.', 'c')],\n [('Jag', 'c'),\n  ('tror', 'c'),\n  ('att', 'c'),\n  ('det', 'c'),\n  ('är', 'c'),\n  ('största', 'i'),\n  ('stad', 'i'),\n  ('här', 'c'),\n  ('i', 'c'),\n  ('Sverige', 'c'),\n  (',', 'c'),\n  ('och', 'c'),\n  ('det', 'c'),\n  ('finns', 'c'),\n  ('många', 'c'),\n  ('museum', 'c'),\n  ('som', 'c'),\n  ('jag', 'c'),\n  ('vill', 'c'),\n  ('gärna', 'i'),\n  ('besöka', 'c'),\n  ('i', 'c'),\n  ('framtiden', 'c'),\n  ('.', 'c')],\n [('För', 'c'),\n  ('mig', 'c'),\n  ('är', 'c'),\n  ('kläder', 'c'),\n  ('viktigt', 'c'),\n  ('men', 'c'),\n  ('inte', 'c'),\n  ('så', 'c'),\n  ('mycket', 'i'),\n  ('.', 'c')],\n [('Ja', 'c'),\n  ('visst', 'c'),\n  ('är', 'c'),\n  ('det', 'c'),\n  ('helt', 'c'),\n  ('klart', 'c'),\n  ('att', 'c'),\n  ('man', 'c'),\n  ('ska', 'i'),\n  ('ha', 'c'),\n  ('materiella', 'c'),\n  ('saker', 'c'),\n  ('att', 'i'),\n  ('vara', 'c'),\n  ('glad', 'c'),\n  ('och', 'c'),\n  ('att', 'i'),\n  ('ha', 'c'),\n  ('ett', 'c'),\n  ('bekvämt', 'c'),\n  ('liv', 'c'),\n  ('.', 'c')],\n [('•', 'c'),\n  ('Har', 'c'),\n  ('religionen', 'c'),\n  ('någon', 'c'),\n  ('betydelse', 'c'),\n  ('för', 'c'),\n  ('lyckan', 'c'),\n  ('?', 'c')],\n [('Så', 'c'), ('vilket', 'c'), ('är', 'c'), ('problemet', 'c'), ('?', 'c')],\n [('MM1', 'c'),\n  ('Jag', 'c'),\n  ('anser', 'c'),\n  ('att', 'c'),\n  ('det', 'c'),\n  ('är', 'c'),\n  ('barnens', 'c'),\n  ('ansvar', 'i'),\n  ('om', 'c'),\n  ('de', 'c'),\n  ('vill', 'c'),\n  ('följa', 'c'),\n  ('deras', 'i'),\n  ('föräldrar', 'i'),\n  ('religios', 'i'),\n  ('och', 'c'),\n  ('kultur', 'c'),\n  ('annas', 'i'),\n  ('man', 'c'),\n  ('för', 'i'),\n  ('inte', 'c'),\n  ('bestämma', 'c'),\n  ('över', 'c'),\n  ('barnen', 'c'),\n  ('och', 'c'),\n  ('tvunga', 'i'),\n  ('dem', 'c'),\n  ('för', 'i'),\n  ('att', 'c'),\n  ('klä', 'c'),\n  ('på', 'i'),\n  ('sig', 'c'),\n  ('.', 'i')],\n [('Aneta', 'i'),\n  ('sätt', 'c'),\n  ('ville', 'c'),\n  ('samhällen', 'i'),\n  ('inte', 'c'),\n  ('den', 'i'),\n  ('folkgrup', 'i'),\n  ('skulle', 'c'),\n  ('komma', 'c'),\n  ('till', 'c'),\n  ('dem', 'c'),\n  ('.', 'c')],\n [('Alex', 'c'),\n  ('hundar', 'c'),\n  ('heter', 'c'),\n  ('Canelo', 'c'),\n  ('och', 'c'),\n  ('Emmy', 'c'),\n  ('.', 'c')],\n [('Där', 'c'),\n  ('i', 'c'),\n  ('Mongoliet', 'i'),\n  ('vi', 'c'),\n  ('kan', 'i'),\n  ('inte', 'c'),\n  ('prata', 'c'),\n  ('med', 'c'),\n  ('tjejer', 'c'),\n  ('framför', 'c'),\n  ('alla', 'c'),\n  ('andra', 'c'),\n  ('Men', 'i'),\n  ('även', 'c'),\n  ('om', 'c'),\n  ('det', 'c'),\n  ('är', 'i'),\n  ('svårt', 'c'),\n  ('kunde', 'c'),\n  ('jag', 'c'),\n  ('prata', 'c'),\n  ('med', 'c'),\n  ('hene', 'i'),\n  ('.', 'c')],\n [('Alex', 'c'),\n  ('tar', 'i'),\n  ('henne', 'c'),\n  ('som', 'c'),\n  ('en', 'c'),\n  ('liten', 'c'),\n  ('mor', 'c'),\n  ('eftersom', 'c'),\n  ('hon', 'c'),\n  ('tar', 'c'),\n  ('så', 'c'),\n  ('bra', 'c'),\n  ('hand', 'c'),\n  ('honom', 'i'),\n  ('.', 'c')],\n [('Därför', 'c'),\n  ('är', 'c'),\n  ('kläder', 'c'),\n  ('en', 'c'),\n  ('viktig', 'c'),\n  ('del', 'c'),\n  ('av', 'c'),\n  ('livet', 'c'),\n  ('och', 'c'),\n  ('man', 'c'),\n  ('borde', 'c'),\n  ('klä', 'c'),\n  ('sig', 'c'),\n  ('hur', 'c'),\n  ('man', 'c'),\n  ('vill', 'c'),\n  (',', 'c'),\n  ('men', 'c'),\n  ('måste', 'i'),\n  ('man', 'c'),\n  ('tänka', 'c'),\n  ('först', 'i'),\n  ('på', 'c'),\n  ('miljön', 'c'),\n  ('.', 'c')],\n [('Jag', 'c'),\n  ('hjälper', 'c'),\n  ('eleverna', 'c'),\n  ('på', 'i'),\n  ('matte', 'c'),\n  ('eftersom', 'c'),\n  ('jag', 'c'),\n  ('tycker', 'c'),\n  ('om', 'c'),\n  ('att', 'c'),\n  ('jag', 'i'),\n  ('undervissing', 'i'),\n  ('barnen', 'c'),\n  ('.', 'c')],\n [('Min', 'c'),\n  ('skola', 'c'),\n  ('är', 'c'),\n  ('viktig', 'c'),\n  ('för', 'c'),\n  ('mig', 'c'),\n  ('varje', 'c'),\n  ('dag', 'c'),\n  ('i', 'c'),\n  ('mitt', 'c'),\n  ('liv', 'c'),\n  ('.', 'c')],\n [('Det', 'c'),\n  ('gör', 'c'),\n  ('mig', 'c'),\n  ('glad', 'c'),\n  ('när', 'c'),\n  ('jag', 'c'),\n  ('får', 'c'),\n  ('träffa', 'c'),\n  ('någon', 'c'),\n  ('och', 'c'),\n  ('vi', 'c'),\n  ('bli', 'i'),\n  ('stå', 'i'),\n  ('varandra', 'c'),\n  ('nära', 'c'),\n  ('.', 'c')],\n [('Samhället', 'c'),\n  ('idag', 'c'),\n  ('är', 'c'),\n  ('ett', 'c'),\n  ('stort', 'i'),\n  ('exempel', 'c'),\n  ('på', 'c'),\n  ('att', 'c'),\n  ('man', 'c'),\n  ('kan', 'c'),\n  ('vara', 'c'),\n  ('väluppfostrad', 'c'),\n  ('även', 'c'),\n  ('om', 'c'),\n  ('man', 'c'),\n  ('har', 'c'),\n  ('homosexuella', 'c'),\n  ('föräldrar', 'c'),\n  ('eller', 'c'),\n  ('bara', 'c'),\n  ('en', 'c'),\n  ('förälder', 'c'),\n  ('där', 'i'),\n  ('Sveriges', 'c'),\n  ('Radio', 'c'),\n  ('har', 'c'),\n  ('publicerat', 'c'),\n  ('”', 'i'),\n  ('måste', 'i'),\n  ('en', 'c'),\n  ('familj', 'c'),\n  ('ha', 'c'),\n  ('mamma', 'c'),\n  (',', 'c'),\n  ('pappa', 'c'),\n  ('och', 'c'),\n  ('barn', 'c'),\n  ('?', 'c')],\n [('Det', 'c'),\n  ('var', 'c'),\n  ('när', 'c'),\n  ('varje', 'i'),\n  ('dag', 'i'),\n  ('Allan', 'c'),\n  ('ågnade', 'i'),\n  ('och', 'c'),\n  ('frågar', 'i'),\n  ('han', 'i'),\n  ('sig', 'c'),\n  ('själv', 'c'),\n  ('varför', 'c'),\n  ('jag', 'i'),\n  ('lever', 'i'),\n  ('fortvarande', 'i'),\n  (',', 'c'),\n  ('eftersom', 'c'),\n  ('han', 'c'),\n  ('vill', 'i'),\n  ('att', 'i'),\n  ('dö', 'c'),\n  ('.', 'c')],\n [('Det', 'c'),\n  ('finns', 'c'),\n  ('några', 'c'),\n  ('kläder', 'c'),\n  ('som', 'c'),\n  ('är', 'c'),\n  ('mycket', 'c'),\n  ('karateristiska', 'c'),\n  ('för', 'c'),\n  ('länder', 'c'),\n  ('eller', 'c'),\n  ('religioner', 'c'),\n  ('.', 'c')],\n [('Det', 'c'),\n  ('funit', 'i'),\n  ('inte', 'c'),\n  ('så', 'c'),\n  ('många', 'c'),\n  ('affärer', 'c'),\n  ('i', 'c'),\n  ('omradet', 'i'),\n  ('och', 'c'),\n  ('umradet', 'i'),\n  ('var', 'c'),\n  ('en', 'i'),\n  ('lite', 'c'),\n  ('dåligt', 'c'),\n  ('.', 'c')],\n [('Monica', 'c'),\n  ('Zak', 'c'),\n  ('hade', 'i'),\n  ('skrivit', 'c'),\n  ('boken', 'c'),\n  ('Alex', 'c'),\n  ('–', 'i'),\n  ('dogboy', 'i'),\n  ('och', 'c'),\n  ('det', 'i'),\n  ('handlar', 'c'),\n  ('om', 'c'),\n  ('en', 'c'),\n  ('pöjke', 'i'),\n  ('frön', 'i'),\n  ('guatimala', 'i'),\n  ('och', 'i'),\n  ('i', 'i'),\n  ('boken', 'c'),\n  ('pratar', 'i'),\n  ('hon', 'c'),\n  ('om', 'c'),\n  ('pöjken', 'i'),\n  ('föddelse', 'i'),\n  ('med', 'c'),\n  ('håriga', 'c'),\n  ('och', 'c'),\n  ('spetsiga', 'c'),\n  ('öron', 'c'),\n  ('som', 'c'),\n  ('en', 'c'),\n  ('hund', 'c'),\n  ('.', 'c')],\n [('Utan', 'c'),\n  ('dom', 'c'),\n  ('hade', 'c'),\n  ('jag', 'c'),\n  ('inte', 'c'),\n  ('klarat', 'c'),\n  ('av', 'c'),\n  ('att', 'c'),\n  ('andas', 'c'),\n  (',', 'c'),\n  ('för', 'c'),\n  ('de', 'c'),\n  ('är', 'c'),\n  ('mina', 'c'),\n  ('\\\\\"', 'c'),\n  ('lungor', 'c'),\n  ('\\\\\"', 'c'),\n  ('och', 'c'),\n  ('mitt', 'c'),\n  ('\\\\\"', 'c'),\n  ('hjärta', 'c'),\n  ('\\\\\"', 'c'),\n  (',', 'c'),\n  ('utan', 'c'),\n  ('dom', 'c'),\n  ('kan', 'c'),\n  ('ingen', 'c'),\n  ('människa', 'c'),\n  ('överleva', 'c'),\n  ('och', 'c'),\n  ('samma', 'c'),\n  ('sak', 'c'),\n  ('med', 'c'),\n  ('syskonen', 'c'),\n  (',', 'c'),\n  ('utan', 'c'),\n  ('dom', 'c'),\n  ('klarar', 'c'),\n  ('jag', 'c'),\n  ('inte', 'i'),\n  ('mig', 'c'),\n  ('.', 'c')],\n [('Å', 'c'),\n  ('andra', 'c'),\n  ('sidan', 'c'),\n  ('är', 'c'),\n  ('man', 'c'),\n  ('nästan', 'c'),\n  ('aldrig', 'c'),\n  ('ensam', 'c'),\n  ('i', 'c'),\n  ('sin', 'c'),\n  ('omgivning', 'c'),\n  ('och', 'c'),\n  ('finns', 'i'),\n  ('det', 'c'),\n  ('oftast', 'c'),\n  ('normer', 'c'),\n  ('för', 'c'),\n  ('vad', 'c'),\n  ('som', 'c'),\n  ('är', 'c'),\n  ('accepterad', 'i'),\n  ('.', 'c')],\n [('Jag', 'c'),\n  ('kan', 'c'),\n  ('absolut', 'c'),\n  ('förstå', 'c'),\n  ('att', 'c'),\n  ('vi', 'c'),\n  ('kommer', 'c'),\n  ('ej', 'i'),\n  ('ha', 'c'),\n  ('många', 'c'),\n  ('funktionsdomäner', 'c'),\n  ('i', 'c'),\n  ('ekominska', 'i'),\n  ('och', 'c'),\n  ('tekniska', 'c'),\n  ('värld', 'i'),\n  ('men', 'c'),\n  ('som', 'i'),\n  ('sagt', 'c'),\n  ('så', 'i'),\n  ('kommer', 'c'),\n  ('vi', 'c'),\n  ('bevara', 'c'),\n  ('traditioner', 'c'),\n  (',', 'c'),\n  ('vilket', 'c'),\n  ('är', 'c'),\n  ('en', 'c'),\n  ('av', 'c'),\n  ('bästa', 'i'),\n  ('tjänst', 'i'),\n  ('för', 'c'),\n  ('de', 'i'),\n  ('.', 'i')],\n [('Då', 'c'),\n  ('tycker', 'c'),\n  ('jag', 'c'),\n  ('att', 'c'),\n  ('det', 'c'),\n  ('är', 'c'),\n  ('väldigt', 'i'),\n  ('bättre', 'c'),\n  ('att', 'c'),\n  ('vi', 'c'),\n  ('ska', 'i'),\n  ('köpa', 'i'),\n  ('en', 'c'),\n  ('fin', 'c'),\n  ('vas', 'c'),\n  ('för', 'i'),\n  ('henne', 'c'),\n  ('.', 'c')],\n [('Sänka', 'c'),\n  ('åldern', 'c'),\n  ('till', 'c'),\n  ('16', 'c'),\n  ('är', 'c'),\n  ('en', 'c'),\n  ('bra', 'c'),\n  ('idé', 'c'),\n  (',', 'c'),\n  ('fördelarna', 'c'),\n  ('är', 'c'),\n  ('stora', 'c'),\n  (':', 'c'),\n  ('mer', 'c'),\n  ('engagerade', 'c'),\n  ('ungdomar', 'c'),\n  ('och', 'c'),\n  ('viktiga', 'c'),\n  ('ungdomsfrågor', 'c'),\n  ('lyfts', 'c'),\n  ('på', 'c'),\n  ('den', 'c'),\n  ('politiska', 'c'),\n  ('kalendern', 'i'),\n  ('.', 'c')],\n [('Jag', 'c'),\n  ('brukar', 'c'),\n  ('gå', 'c'),\n  ('där', 'i'),\n  ('och', 'c'),\n  ('lära', 'c'),\n  ('mig', 'c'),\n  ('svenska', 'c'),\n  ('.', 'c')],\n [('Enligt', 'i'),\n  ('den', 'c'),\n  ('här', 'c'),\n  ('faktor', 'i'),\n  ('är', 'c'),\n  ('människor', 'c'),\n  ('som', 'c'),\n  ('växter', 'i'),\n  ('upp', 'c'),\n  ('i', 'c'),\n  ('fattigdom', 'c'),\n  ('eller', 'c'),\n  ('saknar', 'c'),\n  ('ekonomiska', 'c'),\n  ('förutsättningar', 'c'),\n  ('mer', 'c'),\n  ('benägna', 'c'),\n  ('en', 'i'),\n  ('andra', 'c'),\n  ('att', 'c'),\n  ('begå', 'c'),\n  ('brott', 'c'),\n  ('för', 'c'),\n  ('att', 'c'),\n  ('kunna', 'c'),\n  ('vill', 'i'),\n  ('leva', 'c'),\n  ('högre', 'i'),\n  ('kvalitet', 'c'),\n  ('.', 'c')],\n [('Det', 'c'),\n  ('kan', 'c'),\n  ('hända', 'c'),\n  ('att', 'c'),\n  ('man', 'c'),\n  ('lever', 'c'),\n  ('med', 'c'),\n  ('sin', 'c'),\n  ('biologiska', 'c'),\n  ('familj', 'c'),\n  ('utan', 'c'),\n  ('att', 'c'),\n  ('man', 'c'),\n  ('känna', 'i'),\n  ('någon', 'c'),\n  ('kärlek', 'c'),\n  ('eller', 'c'),\n  ('säkerhet', 'c'),\n  ('.', 'c')],\n [('Andreas', 'c'),\n  ('börjar', 'c'),\n  ('texten', 'c'),\n  ('med', 'c'),\n  ('att', 'c'),\n  ('redogöra', 'c'),\n  ('om', 'i'),\n  ('hatet', 'c'),\n  ('som', 'c'),\n  ('finns', 'c'),\n  ('inom', 'i'),\n  ('Norge', 'c'),\n  ('för', 'i'),\n  ('nynorska', 'c'),\n  ('och', 'c'),\n  ('hur', 'c'),\n  ('tusentals', 'c'),\n  ('olika', 'c'),\n  ('mänskor', 'c'),\n  ('på', 'c'),\n  ('Facebook', 'c'),\n  ('vill', 'c'),\n  ('helt', 'i'),\n  ('och', 'i'),\n  ('hållet', 'i'),\n  ('förbjuda', 'c'),\n  ('nynorska', 'c'),\n  ('inom', 'c'),\n  ('Norge', 'c'),\n  ('.', 'c')],\n [('Alla', 'c'),\n  ('tjejer', 'c'),\n  ('i', 'c'),\n  ('mitt', 'c'),\n  ('hemland', 'c'),\n  ('är', 'c'),\n  ('utsatta', 'c'),\n  ('på', 'c'),\n  ('olika', 'c'),\n  ('satt', 'i'),\n  ('.', 'c')],\n [('Det', 'c'),\n  ('gick', 'c'),\n  ('inte', 'c'),\n  ('att', 'c'),\n  ('använda', 'c'),\n  ('någonting', 'c'),\n  ('som', 'c'),\n  ('var', 'c'),\n  ('\\\\\"', 'c'),\n  ('ganska', 'c'),\n  ('bra', 'c'),\n  ('\\\\\"', 'c'),\n  (',', 'c'),\n  ('alla', 'c'),\n  ('kläderna', 'c'),\n  ('måste', 'c'),\n  ('vara', 'c'),\n  ('perfekt', 'i'),\n  ('och', 'c'),\n  ('precis', 'i'),\n  ('samma', 'c'),\n  ('stil', 'c'),\n  ('som', 'c'),\n  ('mina', 'c'),\n  ('vänner', 'c'),\n  ('hade', 'c'),\n  ('på', 'c'),\n  ('sig', 'c'),\n  ('.', 'c')],\n [('Och', 'c'),\n  ('där', 'i'),\n  ('efter', 'i'),\n  ('köpar', 'i'),\n  ('vi', 'c'),\n  ('nästan', 'c'),\n  ('allt', 'c'),\n  ('vi', 'c'),\n  ('behover', 'i'),\n  ('.', 'c')],\n [('Om', 'c'),\n  ('man', 'c'),\n  ('tänker', 'c'),\n  ('inkludera', 'i'),\n  ('underåriga', 'c'),\n  ('att', 'i'),\n  ('ha', 'c'),\n  ('rösträtt', 'c'),\n  ('i', 'c'),\n  ('framtiden', 'c'),\n  (',', 'c'),\n  ('alltså', 'c'),\n  ('sänka', 'c'),\n  ('gränsen', 'c'),\n  (',', 'c'),\n  ('så', 'c'),\n  ('borde', 'c'),\n  ('man', 'c'),\n  ('först', 'c'),\n  ('vara', 'c'),\n  ('informerad', 'c'),\n  ('om', 'c'),\n  ('vad', 'c'),\n  ('de', 'c'),\n  ('unga', 'c'),\n  ('är', 'c'),\n  ('medvetna', 'c'),\n  ('om', 'c'),\n  (',', 'c'),\n  ('vad', 'c'),\n  ('det', 'c'),\n  ('är', 'c'),\n  ('som', 'c'),\n  ('påverkar', 'c'),\n  ('de', 'i'),\n  ('och', 'c'),\n  ('vad', 'c'),\n  ('det', 'c'),\n  ('skulle', 'c'),\n  ('ha', 'c'),\n  ('för', 'c'),\n  ('konsekvenser', 'c'),\n  ('om', 'c'),\n  ('barn', 'c'),\n  ('blir', 'i'),\n  ('tillåtna', 'i'),\n  ('att', 'c'),\n  ('rösta', 'c'),\n  ('.', 'c')],\n [('Litteratur', 'i'),\n  ('böcker', 'c'),\n  ('har', 'c'),\n  ('fått', 'c'),\n  ('mig', 'c'),\n  ('att', 'c'),\n  ('tänka', 'c'),\n  ('om', 'i'),\n  ('innan', 'c'),\n  ('jag', 'c'),\n  ('gör', 'c'),\n  ('nånting', 'c'),\n  ('och', 'c'),\n  ('att', 'c'),\n  ('inte', 'c'),\n  ('ta', 'c'),\n  ('snabba', 'c'),\n  ('beslut', 'c'),\n  (',', 'c'),\n  ('för', 'c'),\n  ('det', 'c'),\n  ('kan', 'c'),\n  ('påverka', 'c'),\n  ('mig', 'c'),\n  ('på', 'c'),\n  ('ett', 'c'),\n  ('dåligt', 'c'),\n  ('sätt', 'c'),\n  ('.', 'c')],\n [('Det', 'c'),\n  ('fortsätter', 'c'),\n  ('med', 'c'),\n  ('att', 'c'),\n  ('han', 'c'),\n  ('gör', 'c'),\n  ('det', 'c'),\n  ('pappan', 'c'),\n  ('vill', 'c'),\n  ('men', 'c'),\n  ('senare', 'c'),\n  ('när', 'c'),\n  ('han', 'c'),\n  ('ska', 'c'),\n  ('hämta', 'c'),\n  ('tjejen', 'c'),\n  ('han', 'c'),\n  ('är', 'c'),\n  ('gift', 'c'),\n  ('med', 'c'),\n  ('till', 'c'),\n  ('Sverige', 'c'),\n  ('så', 'c'),\n  ('vägrar', 'c'),\n  ('han', 'c'),\n  ('göra', 'c'),\n  ('det', 'c'),\n  ('och', 'c'),\n  ('blir', 'c'),\n  ('tillsammans', 'c'),\n  ('med', 'c'),\n  ('en', 'c'),\n  ('annan', 'c'),\n  ('människa', 'c'),\n  ('.', 'c')],\n [('Alltså', 'c'),\n  ('man', 'i'),\n  ('kan', 'c'),\n  ('inte', 'c'),\n  ('bortse', 'c'),\n  ('kärleken', 'i'),\n  ('inom', 'c'),\n  ('familjen', 'c'),\n  ('därför', 'i'),\n  ('ska', 'c'),\n  ('familjen', 'c'),\n  ('vara', 'c'),\n  ('det', 'c'),\n  ('viktigast', 'i'),\n  ('av', 'c'),\n  ('allt', 'c'),\n  ('och', 'c'),\n  ('att', 'i'),\n  ('man', 'c'),\n  ('är', 'i'),\n  ('medveten', 'c'),\n  ('om', 'c'),\n  ('den', 'c'),\n  ('kärleken', 'i'),\n  ('som', 'c'),\n  ('existera', 'i'),\n  ('inom', 'c'),\n  ('familjen', 'c'),\n  ('.', 'c')],\n [('Ibland', 'c'),\n  ('äter', 'c'),\n  ('vi', 'c'),\n  ('på', 'c'),\n  ('lunchen', 'c'),\n  ('och', 'c'),\n  ('dricker', 'c'),\n  ('vi', 'i'),\n  ('kaffe', 'c'),\n  ('samtidigt', 'c'),\n  ('brukar', 'i'),\n  ('vi', 'i'),\n  ('studerar', 'c'),\n  ('där', 'c'),\n  ('.', 'c')],\n [('Hej', 'c'), ('!', 'c')],\n [('Om', 'c'),\n  ('blir', 'i'),\n  ('vi', 'c'),\n  ('trött', 'i'),\n  (',', 'c'),\n  ('vi', 'c'),\n  ('tar', 'i'),\n  ('rast', 'c'),\n  ('och', 'c'),\n  ('fikar', 'c'),\n  ('på', 'c'),\n  ('kafèt', 'i'),\n  ('sen', 'i'),\n  ('försattar', 'i'),\n  ('vi', 'c'),\n  ('studera', 'c'),\n  ('.', 'c')],\n [('När', 'c'),\n  ('det', 'c'),\n  ('gäller', 'c'),\n  ('språkundervisning', 'c'),\n  ('av', 'i'),\n  ('språket', 'i'),\n  ('i', 'c'),\n  ('Norge', 'c'),\n  (',', 'c'),\n  ('så', 'c'),\n  ('tvingas', 'c'),\n  ('alla', 'c'),\n  ('skolungdomar', 'c'),\n  ('i', 'c'),\n  ('landet', 'c'),\n  ('lära', 'c'),\n  ('sig', 'c'),\n  ('båda', 'c'),\n  ('språken', 'c'),\n  ('-', 'c'),\n  ('nynorskan', 'c'),\n  ('och', 'c'),\n  ('bokmålet', 'c'),\n  ('.', 'c')],\n [('Oftast', 'c'),\n  ('associerar', 'c'),\n  ('man', 'c'),\n  ('det', 'c'),\n  ('till', 'c'),\n  ('ett', 'c'),\n  ('sätt', 'c'),\n  ('att', 'c'),\n  ('styra', 'c'),\n  ('ett', 'c'),\n  ('land', 'c'),\n  ('.', 'c')],\n [('Ett', 'c'),\n  ('allmänmänskligt', 'c'),\n  ('tema', 'c'),\n  ('som', 'c'),\n  ('innehåller', 'c'),\n  ('livsläxor', 'c'),\n  ('för', 'c'),\n  ('oss', 'c'),\n  ('är', 'c'),\n  ('temat', 'c'),\n  ('familjekärlek', 'c'),\n  ('visar', 'i'),\n  ('jag', 'c'),\n  ('hur', 'c'),\n  ('2', 'c'),\n  ('olika', 'c'),\n  ('litterära', 'c'),\n  ('verk', 'c'),\n  ('skildrar', 'c'),\n  ('detta', 'c'),\n  ('tema', 'c'),\n  ('och', 'c'),\n  ('vad', 'c'),\n  ('vi', 'c'),\n  ('kan', 'c'),\n  ('lära', 'c'),\n  ('oss', 'c'),\n  ('av', 'c'),\n  ('dessa', 'c'),\n  ('skildringar', 'c'),\n  ('.', 'c')],\n [('Dessutom', 'c'),\n  ('har', 'c'),\n  ('de', 'c'),\n  ('hunnit', 'c'),\n  ('bli', 'c'),\n  ('klara', 'c'),\n  ('med', 'c'),\n  ('den', 'c'),\n  ('formella', 'c'),\n  ('utbildningen', 'c'),\n  ('och', 'c'),\n  ('har', 'c'),\n  ('därför', 'c'),\n  ('en', 'c'),\n  ('bra', 'c'),\n  ('bild', 'c'),\n  ('av', 'c'),\n  ('hur', 'c'),\n  ('statsskicket', 'c'),\n  ('fungerar', 'c'),\n  ('och', 'c'),\n  ('andra', 'c'),\n  ('politiska', 'c'),\n  ('kunskaper', 'c'),\n  ('.', 'c')],\n [('För', 'c'),\n  ('det', 'c'),\n  ('andra', 'c'),\n  ('tror', 'c'),\n  ('jag', 'c'),\n  ('att', 'c'),\n  ('det', 'c'),\n  ('blir', 'c'),\n  ('bra', 'c'),\n  ('för', 'c'),\n  ('sämhellet', 'i'),\n  (',', 'c'),\n  ('eftersom', 'c'),\n  ('alla', 'c'),\n  ('kommer', 'c'),\n  ('att', 'c'),\n  ('lära', 'c'),\n  ('sig', 'c'),\n  ('om', 'c'),\n  ('Sveriges', 'c'),\n  ('sämhelle', 'i'),\n  ('och', 'c'),\n  ('språket', 'c'),\n  ('.', 'c')],\n [('Vi', 'i'),\n  ('leker', 'c'),\n  ('med', 'c'),\n  ('min', 'c'),\n  ('dotter', 'c'),\n  ('och', 'c'),\n  ('jag', 'c'),\n  ('tvättade', 'i'),\n  ('kläder', 'c'),\n  ('.', 'c')],\n [('Det', 'c'),\n  ('var', 'c'),\n  ('jätte', 'i'),\n  ('konstig', 'i'),\n  ('för', 'c'),\n  ('mig', 'c'),\n  ('när', 'c'),\n  ('jag', 'c'),\n  ('hörde', 'c'),\n  ('svenska', 'c'),\n  ('språket', 'c'),\n  ('.', 'c')],\n [('Kan', 'c'),\n  ('jag', 'c'),\n  ('mejla', 'c'),\n  ('till', 'c'),\n  ('kursverksamheten', 'c'),\n  ('för', 'c'),\n  ('att', 'c'),\n  ('hitta', 'c'),\n  ('andra', 'i'),\n  ('plats', 'c'),\n  ('för', 'c'),\n  ('nästa', 'c'),\n  ('år', 'c'),\n  ('?', 'c')],\n [('efterditt', 'i'),\n  ('träffa', 'i'),\n  ('vänner', 'c'),\n  ('kommer', 'i'),\n  ('olika', 'i'),\n  ('landet', 'i'),\n  ('.', 'c')],\n [('vi', 'i'),\n  ('sola', 'i'),\n  ('och', 'c'),\n  ('dricker', 'i'),\n  ('öl', 'c'),\n  ('tills', 'i'),\n  ('natten', 'c'),\n  ('med', 'i'),\n  ('sjunger', 'i'),\n  ('och', 'c'),\n  ('vi', 'i'),\n  ('lekadevarandra', 'i'),\n  ('så', 'i'),\n  ('däför', 'i'),\n  ('tycker', 'i'),\n  ('jag', 'i'),\n  ('om', 'c'),\n  ('att', 'c'),\n  ('visa', 'c'),\n  ('Oslo', 'i'),\n  ('igen', 'c'),\n  ('.', 'c')],\n [('Jag', 'i'),\n  ('går', 'i'),\n  ('utt', 'i'),\n  ('och', 'c'),\n  ('promenerar', 'c'),\n  ('.', 'c')],\n [('Men', 'c'),\n  ('nu', 'c'),\n  ('efter', 'c'),\n  ('ett', 'c'),\n  ('tag', 'c'),\n  ('känner', 'c'),\n  ('mig', 'i'),\n  ('trygg', 'c'),\n  ('och', 'c'),\n  ('säker', 'c'),\n  ('här', 'c'),\n  ('.', 'c')],\n [('Enligt', 'c'),\n  ('min', 'c'),\n  ('uppfattning', 'c'),\n  ('enda', 'i'),\n  ('lösningen', 'c'),\n  ('är', 'i'),\n  ('att', 'c'),\n  ('öka', 'c'),\n  ('medvetenheten', 'c'),\n  ('i', 'c'),\n  ('samhället', 'c'),\n  ('och', 'i'),\n  ('utbilda', 'i'),\n  ('människor', 'c'),\n  ('och', 'c'),\n  ('förklara', 'c'),\n  ('risk', 'i'),\n  ('detta', 'i'),\n  ('fenomen', 'c'),\n  ('på', 'i'),\n  ('samhället', 'i'),\n  ('struktur', 'c'),\n  ('.', 'c')],\n [('Om', 'c'),\n  ('Karl', 'c'),\n  ('hade', 'c'),\n  ('inte', 'i'),\n  ('gått', 'c'),\n  ('i', 'c'),\n  ('väg', 'c'),\n  ('då', 'c'),\n  ('hade', 'c'),\n  ('han', 'c'),\n  ('inte', 'c'),\n  ('förstått', 'c'),\n  ('att', 'c'),\n  ('Hubert', 'c'),\n  ('inte', 'c'),\n  ('är', 'i'),\n  ('förrädare', 'c'),\n  ('då', 'i'),\n  ('kan', 'c'),\n  ('man', 'c'),\n  ('fatta', 'c'),\n  ('att', 'c'),\n  ('kärlek', 'c'),\n  ('kan', 'c'),\n  ('vara', 'c'),\n  ('bra', 'c'),\n  ('.', 'c')],\n [('Detta', 'c'),\n  ('betyder', 'c'),\n  ('att', 'c'),\n  ('för', 'c'),\n  ('att', 'c'),\n  ('fungera', 'c'),\n  ('så', 'c'),\n  ('fullstendignt', 'i'),\n  ('som', 'c'),\n  ('möjlignt', 'i'),\n  ('så', 'c'),\n  ('moste', 'i'),\n  ('några', 'c'),\n  ('krav', 'c'),\n  ('settas', 'i'),\n  ('på', 'c'),\n  ('dem', 'i'),\n  ('valdetagande', 'c'),\n  ('.', 'c')],\n [('Finns', 'c'),\n  ('det', 'c'),\n  ('verkligen', 'c'),\n  ('så', 'i'),\n  ('stort', 'i'),\n  ('hop', 'i'),\n  ('mellan', 'c'),\n  ('en', 'c'),\n  ('18', 'i'),\n  ('och', 'c'),\n  ('16', 'i'),\n  ('åring', 'i'),\n  ('?', 'c')],\n [('Sonen', 'c'),\n  ('pressas', 'c'),\n  ('av', 'c'),\n  ('hedersförtryck', 'c'),\n  ('från', 'c'),\n  ('släkten', 'c'),\n  ('och', 'c'),\n  ('hans', 'i'),\n  ('pappa', 'c'),\n  ('och', 'c'),\n  ('gifter', 'c'),\n  ('sig', 'c'),\n  ('sedan', 'c'),\n  ('med', 'c'),\n  ('kusinen', 'c'),\n  ('.', 'c')],\n [('I', 'c'),\n  ('ett', 'c'),\n  ('demokratiskt', 'c'),\n  ('land', 'c'),\n  ('är', 'c'),\n  ('det', 'c'),\n  ('folket', 'c'),\n  ('som', 'c'),\n  ('bestämmer', 'c'),\n  ('över', 'c'),\n  ('landets', 'c'),\n  ('styrelse', 'c'),\n  ('.', 'c')],\n [('Men', 'c'),\n  ('ibland', 'c'),\n  ('är', 'c'),\n  ('det', 'c'),\n  ('värt', 'c'),\n  ('att', 'c'),\n  ('lyssna', 'c'),\n  ('på', 'c'),\n  ('sina', 'c'),\n  ('nära', 'c'),\n  ('och', 'c'),\n  ('kära', 'c'),\n  ('om', 'c'),\n  ('de', 'c'),\n  ('tipsar', 'c'),\n  ('något', 'i'),\n  ('om', 'c'),\n  ('ens', 'c'),\n  ('klädstil', 'c'),\n  ('.', 'c')],\n [('Bra', 'i'),\n  ('ekonomiska', 'i'),\n  ('situation', 'c'),\n  ('hjälpa', 'i'),\n  ('människor', 'c'),\n  ('att', 'c'),\n  ('bli', 'c'),\n  ('lyckligare', 'c'),\n  ('.', 'c')],\n [('Att', 'c'),\n  ('betala', 'c'),\n  ('svart', 'c'),\n  ('för', 'c'),\n  ('en', 'c'),\n  ('tjänst', 'c')],\n [('I', 'c'),\n  ('artikeln', 'c'),\n  ('\\\\\"', 'c'),\n  ('Tre', 'c'),\n  ('rösten', 'i'),\n  ('om', 'c'),\n  ('svenskans', 'c'),\n  ('ställning', 'c'),\n  ('i', 'c'),\n  ('Finland', 'c'),\n  ('\\\\\"', 'c'),\n  ('(', 'c'),\n  ('Parnass', 'c'),\n  ('2013:3', 'c'),\n  (')', 'c'),\n  ('skriver', 'c'),\n  ('Catharina', 'c'),\n  ('Söderbergh', 'c'),\n  ('om', 'c'),\n  ('några', 'c'),\n  ('av', 'c'),\n  ('dagens', 'c'),\n  ('ikoner', 'c'),\n  ('som', 'c'),\n  ('har', 'c'),\n  ('åsikter', 'c'),\n  ('kring', 'c'),\n  ('svenskan', 'c'),\n  ('i', 'c'),\n  ('finska', 'i'),\n  ('samhället', 'c'),\n  (',', 'i'),\n  ('exempel', 'i'),\n  ('på', 'c'),\n  ('ikoner', 'i'),\n  ('är', 'c'),\n  ('Maria', 'c'),\n  ('Tolppanen', 'c'),\n  ('som', 'c'),\n  ('är', 'c'),\n  ('en', 'c'),\n  ('finsk', 'c'),\n  ('riksdagspolitiker', 'c'),\n  ('och', 'c'),\n  ('Sannfinländare', 'i'),\n  ('(', 'c'),\n  ('Sverigedemokrat', 'i'),\n  ('i', 'c'),\n  ('Sverige', 'c'),\n  (')', 'c'),\n  ('.', 'c')],\n [('Lillasyster', 'c'),\n  ('går', 'c'),\n  ('efter', 'c'),\n  ('sin', 'c'),\n  ('syster', 'c'),\n  ('för', 'c'),\n  ('att', 'c'),\n  ('hitta', 'c'),\n  ('henne', 'c'),\n  ('men', 'c'),\n  ('hon', 'c'),\n  ('skada', 'i'),\n  ('sig', 'c'),\n  ('på', 'c'),\n  ('vägen', 'c'),\n  ('och', 'c'),\n  ('friser', 'i'),\n  ('för', 'i'),\n  ('att', 'c'),\n  ('hon', 'c'),\n  ('ska', 'c'),\n  ('blir', 'i'),\n  ('frisk', 'c'),\n  ('igen', 'c'),\n  ('måste', 'c'),\n  ('någon', 'c'),\n  ('kyssa', 'c'),\n  ('henne', 'c'),\n  (',', 'c'),\n  ('någon', 'c'),\n  ('som', 'c'),\n  ('älskar', 'c'),\n  ('henne', 'c'),\n  ('.', 'c')],\n [('Vi', 'c'), ('ses', 'c'), ('!', 'c')],\n [('Sedan', 'c'),\n  ('beskriver', 'i'),\n  ('Catharina', 'c'),\n  ('Söderbergh', 'c'),\n  ('att', 'c'),\n  ('tidigare', 'c'),\n  ('presidenten', 'c'),\n  ('i', 'c'),\n  ('Finland', 'c'),\n  ('Martti', 'i'),\n  ('Ahtisaari', 'c'),\n  ('övertygad', 'i'),\n  ('om', 'c'),\n  ('betydelsen', 'c'),\n  ('av', 'c'),\n  ('att', 'c'),\n  ('värna', 'c'),\n  ('de', 'c'),\n  ('båda', 'c'),\n  ('officiella', 'c'),\n  ('språken', 'c'),\n  ('eftersom', 'i'),\n  ('det', 'c'),\n  ('håller', 'c'),\n  ('fast', 'i'),\n  ('det', 'c'),\n  ('nordiska', 'c'),\n  ('samarbetet', 'c'),\n  ('.', 'c')],\n [('I', 'c'),\n  ('vissa', 'c'),\n  ('situationer', 'c'),\n  ('kan', 'c'),\n  ('kläder', 'c'),\n  ('hjälpa', 'c'),\n  ('till', 'i'),\n  ('att', 'i'),\n  ('känna', 'c'),\n  ('sig', 'c'),\n  ('mer', 'c'),\n  ('självsäker', 'c'),\n  ('.', 'c')],\n [('Hans', 'c'),\n  ('hundar', 'c'),\n  ('är', 'c'),\n  ('också', 'c'),\n  ('viktiga', 'c'),\n  ('för', 'c'),\n  ('honom', 'c'),\n  ('.', 'c')],\n [('Vi', 'c'),\n  ('var', 'i'),\n  ('trivs', 'i'),\n  ('där', 'c'),\n  ('och', 'c'),\n  ('jag', 'c'),\n  ('tycker', 'c'),\n  ('om', 'i'),\n  ('mycket', 'c'),\n  ('Undered', 'i'),\n  ('för', 'c'),\n  ('att', 'c'),\n  ('jag', 'c'),\n  ('vexta', 'i'),\n  ('upp', 'c'),\n  ('där', 'c'),\n  (',', 'c'),\n  ('bode', 'i'),\n  ('jag', 'c'),\n  ('med', 'i'),\n  ('min', 'c'),\n  ('släkting', 'c'),\n  ('.', 'c')],\n [('Barnen', 'c'),\n  ('har', 'c'),\n  ('trygghet', 'c'),\n  ('och', 'c'),\n  ('frihet', 'c'),\n  ('i', 'c'),\n  ('sin', 'c'),\n  ('barndom', 'c'),\n  ('eftersom', 'c'),\n  ('de', 'c'),\n  ('hittar', 'c'),\n  ('sina', 'c'),\n  ('föräldrar', 'c'),\n  ('när', 'c'),\n  ('barn', 'i'),\n  ('behöver', 'c'),\n  ('dem', 'c'),\n  (',', 'c'),\n  ('trots', 'c'),\n  ('att', 'c'),\n  ('föräldrarna', 'c'),\n  ('lämnar', 'c'),\n  ('dem', 'c'),\n  ('fritt', 'i'),\n  ('och', 'i'),\n  ('lyckligt', 'i'),\n  ('springa', 'i'),\n  ('på', 'c'),\n  ('lekplats', 'i'),\n  ('.', 'c')],\n [('För', 'c'),\n  ('det', 'c'),\n  ('andra', 'c'),\n  ('är', 'c'),\n  ('det', 'c'),\n  ('prestig', 'i'),\n  ('att', 'c'),\n  ('egen', 'i'),\n  ('bil', 'c'),\n  ('för', 'c'),\n  ('att', 'c'),\n  ('man', 'c'),\n  ('jobbar', 'c'),\n  ('så', 'c'),\n  ('att', 'c'),\n  ('man', 'c'),\n  ('kunde', 'i'),\n  ('ha', 'c'),\n  ('ett', 'c'),\n  ('vakra', 'i'),\n  ('liv', 'c'),\n  ('och', 'c'),\n  ('bra', 'c'),\n  ('självesteem', 'i'),\n  ('.', 'c')],\n [('I', 'i'),\n  ('texten', 'c'),\n  ('\\\\\"', 'c'),\n  ('Svenskan', 'c'),\n  ('tynar', 'c'),\n  ('i', 'c'),\n  ('Finland', 'c'),\n  ('\\\\\"', 'c'),\n  ('(', 'c'),\n  ('forskning', 'i'),\n  ('&', 'c'),\n  ('framsteg', 'c'),\n  ('2009:2', 'c'),\n  (')', 'c'),\n  ('skriver', 'c'),\n  ('Cecilia', 'c'),\n  ('Christner', 'c'),\n  ('Riad', 'c'),\n  ('om', 'c'),\n  ('hur', 'c'),\n  ('under', 'i'),\n  ('600', 'i'),\n  ('år', 'i'),\n  ('Finland', 'c'),\n  ('var', 'c'),\n  ('en', 'c'),\n  ('del', 'c'),\n  ('av', 'c'),\n  ('Sverige', 'c'),\n  ('och', 'c'),\n  ('hur', 'i'),\n  ('dom', 'c'),\n  ('två', 'c'),\n  ('länder', 'i'),\n  ('har', 'c'),\n  ('gemensamt', 'i'),\n  ('historia', 'c'),\n  ('.', 'c')],\n [('Komvux', 'c'),\n  ('är', 'c'),\n  ('en', 'c'),\n  ('plats', 'c'),\n  ('som', 'c'),\n  ('man', 'c'),\n  ('brukar', 'c'),\n  ('gå', 'c'),\n  ('till', 'c'),\n  ('när', 'c'),\n  ('man', 'c'),\n  ('kommer', 'c'),\n  ('till', 'c'),\n  ('Sverige', 'c'),\n  ('och', 'c'),\n  ('vill', 'c'),\n  ('lära', 'c'),\n  ('sig', 'c'),\n  ('svenska', 'c'),\n  ('för', 'c'),\n  ('att', 'c'),\n  ('kunna', 'c'),\n  ('kominusira', 'i'),\n  ('med', 'c'),\n  ('folken', 'i'),\n  ('.', 'c')],\n [('Att', 'c'),\n  ('betala', 'c'),\n  ('svart', 'c'),\n  ('för', 'c'),\n  ('en', 'c'),\n  ('tjänst', 'c')],\n [('Jag', 'c'),\n  ('och', 'c'),\n  ('min', 'c'),\n  ('familj', 'c'),\n  ('had', 'i'),\n  ('bott', 'i'),\n  ('i', 'c'),\n  ('min', 'i'),\n  ('hemland', 'c'),\n  ('.', 'c')],\n [('De', 'c'),\n  ('behöver', 'c'),\n  ('lita', 'c'),\n  ('på', 'c'),\n  ('att', 'c'),\n  ('skolsystemet', 'c'),\n  (',', 'c'),\n  ('rättsväsendet', 'c'),\n  ('och', 'c'),\n  ('sjukvården', 'c'),\n  ('agerar', 'c'),\n  ('i', 'c'),\n  ('deras', 'c'),\n  ('intresse', 'c'),\n  ('när', 'c'),\n  ('de', 'c'),\n  ('har', 'c'),\n  ('behov', 'c'),\n  ('av', 'c'),\n  ('deras', 'c'),\n  ('tjänster', 'c'),\n  ('.', 'c')],\n [('Och', 'i'),\n  ('använder', 'c'),\n  ('sin', 'c'),\n  ('magiska', 'c'),\n  ('kraft', 'c'),\n  ('som', 'c'),\n  ('lätt', 'c'),\n  ('omvandlar', 'c'),\n  ('sommar', 'c'),\n  ('till', 'c'),\n  ('vinter', 'c'),\n  (',', 'i'),\n  ('över', 'i'),\n  ('allt', 'i'),\n  ('blir', 'c'),\n  ('täckt', 'c'),\n  ('av', 'c'),\n  ('is', 'c'),\n  ('och', 'c'),\n  ('snö', 'c'),\n  (',', 'c'),\n  ('sen', 'c'),\n  ('stiger', 'c'),\n  ('i', 'i'),\n  ('väg', 'c'),\n  ('på', 'c'),\n  ('ett', 'c'),\n  ('isberg', 'c'),\n  ('och', 'i'),\n  ('därefter', 'c'),\n  ('lillasyster', 'i'),\n  ('med', 'i'),\n  ('några', 'c'),\n  ('andra', 'c'),\n  ('letar', 'i'),\n  ('efter', 'c'),\n  ('henne', 'c'),\n  ('.', 'c')],\n [('Det', 'c'),\n  ('är', 'i'),\n  ('också', 'c'),\n  ('många', 'c'),\n  ('olika', 'c'),\n  ('typer', 'c'),\n  ('avfäl', 'i'),\n  ('när', 'c'),\n  ('gamla', 'c'),\n  ('bilarna', 'i'),\n  ('utiliseras', 'i'),\n  ('.', 'c')],\n [('Förr', 'c'),\n  ('i', 'c'),\n  ('tiden', 'c'),\n  ('kunde', 'c'),\n  ('vi', 'c'),\n  ('byta', 'c'),\n  ('en', 'c'),\n  ('sak', 'c'),\n  ('till', 'i'),\n  ('andra', 'i'),\n  ('.', 'c')],\n [('Företagen', 'c'),\n  ('kan', 'c'),\n  ('inte', 'c'),\n  ('växa', 'c'),\n  ('till', 'i'),\n  ('och', 'c'),\n  ('arbetssökanden', 'i'),\n  ('har', 'c'),\n  ('det', 'c'),\n  ('svårt', 'c'),\n  ('att', 'c'),\n  ('hitta', 'c'),\n  ('anställning', 'c'),\n  ('.', 'c')],\n [('När', 'c'),\n  ('en', 'c'),\n  ('person', 'c'),\n  ('flyttar', 'c'),\n  ('till', 'c'),\n  ('en', 'c'),\n  ('ny', 'c'),\n  ('plats', 'c'),\n  ('med', 'c'),\n  ('alla', 'c'),\n  ('intrycks', 'i'),\n  (',', 'c'),\n  ('sen', 'i'),\n  ('han', 'i'),\n  ('har', 'i'),\n  ('om', 'i'),\n  ('sett', 'i'),\n  ('land', 'i'),\n  ('och', 'c'),\n  ('föreställer', 'c'),\n  ('sig', 'c'),\n  ('Hella', 'i'),\n  ('landet', 'c'),\n  ('liknar', 'c'),\n  ('vissa', 'c'),\n  ('av', 'c'),\n  ('dem', 'c'),\n  ('.', 'c')],\n [('Och', 'c'),\n  ('i', 'c'),\n  ('sin', 'c'),\n  ('tur', 'c'),\n  ('inuti', 'i'),\n  ('varje', 'i'),\n  ('land', 'i'),\n  ('kan', 'c'),\n  ('man', 'c'),\n  ('hitta', 'c'),\n  ('olika', 'c'),\n  ('typer', 'c'),\n  ('av', 'c'),\n  ('miljöer', 'c'),\n  ('som', 'c'),\n  ('påverkar', 'c'),\n  ('dem', 'c'),\n  ('.', 'c')],\n [('Det', 'c'),\n  ('finns', 'c'),\n  ('människor', 'c'),\n  ('som', 'c'),\n  ('inte', 'c'),\n  ('har', 'c'),\n  ('föräldrar', 'c'),\n  ('som', 'c'),\n  ('ser', 'c'),\n  ('till', 'c'),\n  ('att', 'c'),\n  ('man', 'c'),\n  ('inte', 'c'),\n  ('hamnar', 'c'),\n  ('i', 'c'),\n  ('trubbel', 'c'),\n  ('eller', 'c'),\n  ('som', 'c'),\n  ('ser', 'c'),\n  ('till', 'c'),\n  ('att', 'c'),\n  ('man', 'c'),\n  ('mår', 'c'),\n  ('bra', 'c'),\n  ('.', 'c')],\n [('Givetvis', 'c'),\n  ('kan', 'c'),\n  ('man', 'c'),\n  ('inte', 'c'),\n  ('neka', 'i'),\n  ('att', 'c'),\n  ('det', 'c'),\n  ('oftast', 'c'),\n  ('är', 'c'),\n  ('de', 'c'),\n  ('större', 'c'),\n  ('språken', 'c'),\n  ('som', 'c'),\n  ('gynnas', 'c'),\n  ('i', 'c'),\n  ('yrkeslivet', 'c'),\n  ('.', 'c')],\n [('Östling', 'c'),\n  ('skriver', 'c'),\n  ('om', 'c'),\n  ('politiker', 'c'),\n  ('som', 'c'),\n  ('tycker', 'c'),\n  ('att', 'c'),\n  ('obligatorisk', 'c'),\n  ('språkundervisningen', 'i'),\n  ('och', 'c'),\n  ('prov', 'c'),\n  ('på', 'c'),\n  ('nynorska', 'c'),\n  ('krävs', 'c'),\n  ('för', 'c'),\n  ('att', 'c'),\n  ('försäkra', 'i'),\n  ('ett', 'c'),\n  ('minoritets', 'i'),\n  ('språk', 'i'),\n  ('som', 'c'),\n  ('har', 'c'),\n  ('ett', 'c'),\n  ('gamal', 'i'),\n  ('kulturarv', 'c'),\n  ('knutet', 'c'),\n  ('till', 'c'),\n  ('den', 'i'),\n  ('.', 'c')],\n [('Så', 'c'),\n  ('hoppas', 'i'),\n  ('att', 'c'),\n  ('du', 'c'),\n  ('håller', 'c'),\n  ('min', 'i'),\n  ('förslag', 'c'),\n  ('!', 'c')],\n [('En', 'c'),\n  ('Plats', 'i'),\n  ('som', 'c'),\n  ('Jag', 'i'),\n  ('ska', 'c'),\n  ('aldrig', 'i'),\n  ('glömma', 'c')],\n [('Nu', 'c'),\n  ('ska', 'c'),\n  ('jag', 'c'),\n  ('berätta', 'c'),\n  ('lite', 'c'),\n  ('om', 'c'),\n  ('den', 'c'),\n  ('platsen', 'c'),\n  ('.', 'c')],\n [('Till', 'c'),\n  ('skillnad', 'c'),\n  ('mot', 'c'),\n  ('Ur', 'i'),\n  (':', 'i'),\n  ('Samuel', 'c'),\n  ('August', 'c'),\n  ('från', 'c'),\n  ('Sevedstorp', 'c'),\n  ('och', 'c'),\n  ('Hanna', 'c'),\n  ('i', 'c'),\n  ('Hult', 'c'),\n  ('av', 'c'),\n  ('Astrid', 'c'),\n  ('Lindgren', 'c'),\n  ('handlar', 'i'),\n  ('den', 'i'),\n  ('om', 'c'),\n  ('en', 'c'),\n  ('kärleksfull', 'c'),\n  ('familj', 'c'),\n  ('som', 'c'),\n  ('består', 'c'),\n  ('av', 'c'),\n  ('fadern', 'c'),\n  (',', 'c'),\n  ('modern', 'c'),\n  ('och', 'c'),\n  ('fyra', 'c'),\n  ('barn', 'c'),\n  ('.', 'c')],\n [('Till', 'i'),\n  ('vissa', 'c'),\n  ('är', 'c'),\n  ('det', 'c'),\n  ('familje', 'i'),\n  (',', 'c'),\n  ('till', 'i'),\n  ('andra', 'c'),\n  ('en', 'i'),\n  ('armband', 'c'),\n  (',', 'c'),\n  ('och', 'c'),\n  ('till', 'i'),\n  ('morfar', 'c'),\n  ('ett', 'c'),\n  ('äppelträd', 'c'),\n  ('.', 'c')],\n [('Sedan', 'c'),\n  ('några', 'c'),\n  ('elev', 'i'),\n  ('på', 'c'),\n  ('min', 'c'),\n  ('skola', 'c'),\n  ('gjorde', 'i'),\n  ('sig', 'c'),\n  ('lustig', 'i'),\n  ('över', 'c'),\n  ('mig', 'c'),\n  ('och', 'c'),\n  ('mina', 'c'),\n  ('kläder', 'c'),\n  ('och', 'i'),\n  ('efter', 'c'),\n  ('det', 'c'),\n  ('började', 'c'),\n  ('jag', 'c'),\n  ('sätta', 'c'),\n  ('mer', 'c'),\n  ('värde', 'c'),\n  ('på', 'c'),\n  ('vilka', 'c'),\n  ('kläder', 'c'),\n  ('jag', 'c'),\n  ('köper', 'c'),\n  ('.', 'c')],\n [('Alla', 'c'),\n  ('dessa', 'c'),\n  ('straff', 'c'),\n  ('infördes', 'c'),\n  ('för', 'c'),\n  ('att', 'c'),\n  ('förhindra', 'c'),\n  ('att', 'c'),\n  ('människor', 'c'),\n  ('begår', 'c'),\n  ('brott', 'c'),\n  ('och', 'c'),\n  ('för', 'c'),\n  ('att', 'c'),\n  ('människor', 'c'),\n  ('lever', 'i'),\n  ('mer', 'c'),\n  ('fridfull', 'i'),\n  ('.', 'c')],\n [('Stannade', 'i'),\n  ('jag', 'i'),\n  ('bussen', 'i'),\n  ('och', 'c'),\n  ('det', 'c'),\n  ('var', 'c'),\n  ('minus', 'c'),\n  ('7', 'c'),\n  ('.', 'c')],\n [('På', 'c'),\n  ('så', 'c'),\n  ('sätt', 'c'),\n  ('kommer', 'c'),\n  ('deras', 'c'),\n  ('språk', 'c'),\n  ('att', 'c'),\n  ('utvecklas', 'c'),\n  (',', 'c'),\n  ('och', 'c'),\n  ('därmed', 'c'),\n  ('kan', 'c'),\n  ('de', 'c'),\n  ('lättare', 'c'),\n  ('integrera', 'c'),\n  ('sig', 'c'),\n  ('i', 'c'),\n  ('samhället', 'c'),\n  ('.', 'c')],\n [('Jag', 'c'), ('tror', 'c'), ('på', 'c'), ('dig', 'c'), ('.', 'c')],\n [('Från', 'i'),\n  ('utseendet', 'c'),\n  ('kan', 'c'),\n  ('vi', 'c'),\n  ('inte', 'c'),\n  ('förtså', 'i'),\n  ('även', 'i'),\n  ('att', 'i'),\n  ('man', 'c'),\n  ('är', 'c'),\n  ('professionel', 'i'),\n  ('eller', 'c'),\n  ('inte', 'c'),\n  ('eftersom', 'c'),\n  ('kanse', 'i'),\n  ('ser', 'c'),\n  ('man', 'i'),\n  ('seriös', 'c'),\n  ('ut', 'c'),\n  ('bara', 'c'),\n  ('för', 'c'),\n  ('arbetsplatsen', 'i'),\n  ('skull', 'c'),\n  ('.', 'c')],\n [('Litteratur', 'c'),\n  ('är', 'c'),\n  ('dock', 'c'),\n  ('inte', 'c'),\n  ('bara', 'c'),\n  ('underhållning', 'c'),\n  ('.', 'c')],\n [('Hon', 'c'),\n  ('förklarar', 'c'),\n  ('att', 'c'),\n  ('bland', 'c'),\n  ('de', 'c'),\n  ('svensktalande', 'c'),\n  ('är', 'c'),\n  ('väldigt', 'c'),\n  ('många', 'c'),\n  ('oroliga', 'c'),\n  ('för', 'c'),\n  ('svenskans', 'c'),\n  ('framtid', 'c'),\n  ('i', 'c'),\n  ('Finland', 'c'),\n  ('eftersom', 'c'),\n  ('sedan', 'c'),\n  ('fem', 'c'),\n  ('år', 'c'),\n  ('tillbaka', 'c'),\n  ('ansågs', 'i'),\n  ('den', 'i'),\n  ('inte', 'i'),\n  ('obligatorisk', 'c'),\n  ('i', 'c'),\n  ('studentexamen', 'c'),\n  ('.', 'c')],\n [('©', 'c'),\n  ('Catharina', 'c'),\n  ('Söderbergh', 'c'),\n  ('/', 'c'),\n  ('ALIS', 'c'),\n  ('.', 'c')],\n [('Lukten', 'c'),\n  ('var', 'c'),\n  ('så', 'c'),\n  ('stark', 'c'),\n  ('och', 'i'),\n  ('man', 'c'),\n  ('trodde', 'c'),\n  ('att', 'c'),\n  ('Selvi', 'c'),\n  ('kokkar', 'i'),\n  ('tio', 'c'),\n  ('kilo', 'c'),\n  ('kafe', 'i'),\n  ('tillsamman', 'i'),\n  ('.', 'c')],\n [('Språket', 'c'),\n  ('är', 'c'),\n  ('underbart', 'c'),\n  ('och', 'c'),\n  ('jag', 'c'),\n  ('lärde', 'c'),\n  ('mig', 'c'),\n  ('mycket', 'c'),\n  ('nya', 'c'),\n  ('ord', 'c'),\n  ('.', 'c')],\n [('Men', 'c'),\n  ('genom', 'c'),\n  ('historien', 'c'),\n  ('har', 'c'),\n  ('det', 'c'),\n  ('alltid', 'c'),\n  ('varit', 'i'),\n  ('personer', 'c'),\n  ('som', 'c'),\n  ('vågat', 'c'),\n  ('vara', 'c'),\n  ('heterogent', 'i'),\n  ('och', 'c'),\n  ('vågat', 'c'),\n  ('göra', 'c'),\n  ('det', 'c'),\n  ('som', 'c'),\n  ('ingen', 'c'),\n  ('annan', 'c'),\n  ('hade', 'i'),\n  ('gjort', 'c'),\n  ('.', 'c')],\n [('Hen', 'c'),\n  ('arresteras', 'c'),\n  ('och', 'c'),\n  ('förhörs', 'c'),\n  ('av', 'c'),\n  ('polisen', 'c'),\n  ('.', 'c')],\n [('Pengarna', 'i'),\n  ('betyder', 'c'),\n  ('mycket', 'c'),\n  ('men', 'c'),\n  ('inte', 'c'),\n  ('alls', 'i')],\n [('Efter', 'c'),\n  ('befrielsen', 'c'),\n  (',', 'c'),\n  ('den', 'i'),\n  ('äldre', 'c'),\n  ('brodern', 'c'),\n  ('som', 'i'),\n  ('har', 'c'),\n  ('blivit', 'c'),\n  ('förlamad', 'c'),\n  ('bestämmer', 'i'),\n  ('de', 'c'),\n  ('sig', 'c'),\n  ('för', 'c'),\n  ('att', 'c'),\n  ('dö', 'c'),\n  ('igen', 'c'),\n  ('för', 'c'),\n  ('att', 'c'),\n  ('komma', 'c'),\n  ('till', 'c'),\n  ('en', 'c'),\n  ('annan', 'c'),\n  ('plats', 'c'),\n  ('.', 'c')],\n [('Jag', 'c'),\n  ('tycker', 'c'),\n  ('inte', 'c'),\n  ('att', 'c'),\n  ('förslaget', 'c'),\n  ('är', 'c'),\n  ('bra', 'c'),\n  ('för', 'c'),\n  ('att', 'c'),\n  ('Peter', 'c'),\n  ('har', 'c'),\n  ('ett', 'c'),\n  ('arbete', 'c'),\n  ('och', 'c'),\n  ('han', 'c'),\n  ('behöver', 'c'),\n  ('inte', 'c'),\n  ('pengar', 'c'),\n  ('nu', 'c'),\n  ('.', 'c')],\n [('författaren', 'i'),\n  ('fortsätter', 'c'),\n  ('att', 'c'),\n  ('berätta', 'c'),\n  ('om', 'c'),\n  ('att', 'c'),\n  ('vissa', 'c'),\n  ('norrmän', 'c'),\n  ('som', 'c'),\n  ('inte', 'c'),\n  ('talar', 'c'),\n  ('nynorska', 'c'),\n  ('tycker', 'c'),\n  ('att', 'c'),\n  ('Norge', 'c'),\n  ('fokuserar', 'c'),\n  ('för', 'c'),\n  ('mycket', 'c'),\n  ('på', 'c'),\n  ('nynorska', 'c'),\n  ('och', 'c'),\n  ('tycker', 'c'),\n  ('att', 'c'),\n  ('dem', 'i'),\n  ('borde', 'c'),\n  ('fokusera', 'c'),\n  ('mera', 'c'),\n  ('på', 'c'),\n  ('norska', 'c'),\n  ('istället', 'c'),\n  ('.', 'c')],\n [('I', 'i'),\n  ('sommaren', 'c'),\n  ('brukar', 'c'),\n  ('går', 'i'),\n  ('till', 'c'),\n  ('parken', 'c'),\n  ('.', 'c')],\n [('Men', 'c'),\n  ('vi', 'c'),\n  ('vet', 'c'),\n  ('redan', 'c'),\n  ('att', 'c'),\n  ('även', 'c'),\n  ('de', 'c'),\n  ('mindre', 'c'),\n  ('välutvecklade', 'c'),\n  ('länder', 'c'),\n  (',', 'c'),\n  ('det', 'c'),\n  ('vill', 'c'),\n  ('säga', 'c'),\n  ('länder', 'c'),\n  ('som', 'c'),\n  ('försörjer', 'c'),\n  ('sig', 'c'),\n  ('själva', 'c'),\n  ('på', 'c'),\n  ('jordbruket', 'i'),\n  ('håller', 'i'),\n  ('på', 'c'),\n  ('att', 'c'),\n  ('ständigt', 'c'),\n  ('utvecklas', 'c'),\n  ('och', 'c'),\n  ('moderniseras', 'c'),\n  ('och', 'c'),\n  ('kommer', 'c'),\n  ('behöva', 'c'),\n  ('internationellt', 'c'),\n  ('samarbetning', 'i'),\n  (',', 'c'),\n  ('samordning', 'c'),\n  ('och', 'c'),\n  ('bidrag', 'c'),\n  ('.', 'c')],\n [('Är', 'c'),\n  ('det', 'c'),\n  ('bra', 'c'),\n  ('med', 'c'),\n  ('dig', 'c'),\n  ('?', 'c')],\n [('I', 'c'),\n  ('Lövsta', 'i'),\n  ('jobbar', 'c'),\n  ('jag', 'c'),\n  ('på', 'c'),\n  ('många', 'c'),\n  ('nettside', 'i'),\n  ('.', 'c')],\n [('Glöm', 'c'),\n  ('inte', 'c'),\n  ('att', 'i'),\n  ('delat', 'c'),\n  ('ansvar', 'c'),\n  ('hemma', 'c'),\n  ('för', 'i'),\n  ('det', 'c'),\n  ('är', 'c'),\n  ('viktigaste', 'i'),\n  ('att', 'c'),\n  ('visa', 'c'),\n  ('honom', 'c'),\n  ('att', 'c'),\n  ('du', 'c'),\n  ('är', 'c'),\n  ('en', 'c'),\n  ('kvinna', 'c'),\n  ('som', 'c'),\n  ('man', 'c'),\n  ('kan', 'c'),\n  ('vara', 'c'),\n  ('med', 'c'),\n  ('hela', 'c'),\n  ('livet', 'c'),\n  ('.', 'c')],\n [('Genom', 'c'),\n  ('hela', 'c'),\n  ('sin', 'c'),\n  ('uppväxt', 'c'),\n  ('så', 'c'),\n  ('har', 'c'),\n  ('Amar', 'c'),\n  ('fått', 'c'),\n  ('höra', 'c'),\n  ('att', 'c'),\n  ('det', 'c'),\n  ('är', 'c'),\n  ('han', 'c'),\n  ('som', 'c'),\n  ('får', 'c'),\n  ('bestämma', 'c'),\n  ('vad', 'c'),\n  ('han', 'c'),\n  ('vill', 'c'),\n  ('jobba', 'c'),\n  ('med', 'c'),\n  ('när', 'c'),\n  ('han', 'c'),\n  ('blir', 'c'),\n  ('stor', 'c'),\n  ('och', 'c'),\n  ('att', 'c'),\n  ('det', 'c'),\n  ('är', 'c'),\n  ('han', 'c'),\n  ('som', 'c'),\n  ('bestämmer', 'c'),\n  ('vad', 'c'),\n  ('han', 'c'),\n  ('ska', 'c'),\n  ('göra', 'c'),\n  ('med', 'c'),\n  ('sitt', 'c'),\n  ('liv', 'c'),\n  (',', 'c'),\n  ('men', 'c'),\n  ('i', 'c'),\n  ('Irak', 'c'),\n  ('så', 'c'),\n  ('är', 'c'),\n  ('det', 'c'),\n  ('familjen', 'c'),\n  ('som', 'c'),\n  ('bestämmer', 'c'),\n  ('allt', 'c'),\n  ('.', 'c')],\n [('Nu', 'c'),\n  ('är', 'c'),\n  ('jag', 'c'),\n  ('väldigt', 'c'),\n  ('glad', 'c'),\n  ('vi', 'i'),\n  ('är', 'i'),\n  ('tillsammans', 'c'),\n  ('i', 'c'),\n  ('fem', 'c'),\n  ('och', 'c'),\n  ('halv', 'i'),\n  ('år', 'c'),\n  ('.', 'c')],\n [('Till', 'c'),\n  ('sist', 'c'),\n  ('får', 'c'),\n  ('jag', 'c'),\n  ('att', 'i'),\n  ('dricka', 'c'),\n  ('alkohol', 'c'),\n  ('om', 'c'),\n  ('jag', 'c'),\n  ('inte', 'c'),\n  ('har', 'c'),\n  ('bilen', 'c'),\n  ('.', 'c')],\n [('Ekobrott', 'c'), ('.', 'c')],\n [('Genom', 'c'),\n  ('kläder', 'c'),\n  ('uttrycker', 'c'),\n  ('man', 'c'),\n  ('sig', 'c'),\n  (',', 'c'),\n  ('visar', 'c'),\n  ('sina', 'i'),\n  ('individualitet', 'c'),\n  ('och', 'c'),\n  ('personlighet', 'c'),\n  ('.', 'c')],\n [('Ett', 'c'),\n  ('försök', 'c'),\n  ('att', 'c'),\n  ('bibehålla', 'c'),\n  ('den', 'c'),\n  ('breda', 'c'),\n  ('variationen', 'c'),\n  ('på', 'i'),\n  ('språk', 'c'),\n  ('är', 'c'),\n  ('att', 'c'),\n  ('ha', 'c'),\n  ('modersmål', 'c'),\n  ('som', 'c'),\n  ('ett', 'c'),\n  ('ämne', 'c'),\n  ('.', 'c')],\n [('Intimitet', 'c'),\n  ('är', 'c'),\n  ('något', 'c'),\n  ('som', 'c'),\n  ('tar', 'c'),\n  ('tid', 'c'),\n  ('och', 'c'),\n  ('bygger', 'c'),\n  ('på', 'c'),\n  ('tillförlit', 'c'),\n  ('och', 'c'),\n  ('att', 'c'),\n  ('man', 'c'),\n  ('känner', 'c'),\n  ('sig', 'c'),\n  ('trygg', 'c'),\n  ('i', 'c'),\n  ('varandras', 'c'),\n  ('sällskap', 'c'),\n  (',', 'c'),\n  ('vilket', 'c'),\n  ('de', 'c'),\n  ('gjorde', 'c'),\n  ('genom', 'c'),\n  ('hela', 'c'),\n  ('boken', 'c'),\n  ('.', 'c')],\n [('Jag', 'c'),\n  ('tycker', 'c'),\n  ('inte', 'c'),\n  ('att', 'c'),\n  ('kommunen', 'c'),\n  ('ska', 'c'),\n  ('stanga', 'i'),\n  ('Forkecentralen', 'c'),\n  ('!', 'c')],\n [('Hon', 'c'),\n  ('tror', 'c'),\n  ('att', 'c'),\n  ('killen', 'c'),\n  ('från', 'c'),\n  ('ett', 'c'),\n  ('annat', 'c'),\n  ('land', 'c'),\n  ('är', 'c'),\n  ('hennes', 'c'),\n  ('äkta', 'c'),\n  ('kärlek', 'c'),\n  ('men', 'c'),\n  ('så', 'c'),\n  ('är', 'c'),\n  ('det', 'c'),\n  ('inte', 'c'),\n  ('och', 'i'),\n  ('tillslut', 'i'),\n  ('förstår', 'i'),\n  ('lillasyster', 'c'),\n  ('att', 'c'),\n  ('hennes', 'c'),\n  ('syster', 'c'),\n  ('är', 'c'),\n  ('hennes', 'c'),\n  ('äkta', 'c'),\n  ('kärlek', 'c'),\n  ('.', 'c')],\n [('Genom', 'c'),\n  ('att', 'c'),\n  ('handla', 'c'),\n  ('kläder', 'c'),\n  ('utifrån', 'c'),\n  ('säsongen', 'c'),\n  ('så', 'c'),\n  ('är', 'c'),\n  ('jag', 'c'),\n  ('ständigt', 'c'),\n  ('uppdaterad', 'c'),\n  ('och', 'c'),\n  ('därmed', 'c'),\n  ('kan', 'c'),\n  ('jag', 'c'),\n  ('känna', 'c'),\n  ('mig', 'c'),\n  ('trygg', 'c'),\n  ('i', 'c'),\n  ('vad', 'c'),\n  ('jag', 'c'),\n  ('har', 'c'),\n  ('på', 'c'),\n  ('mig', 'c'),\n  ('.', 'c')],\n [('Man', 'c'),\n  ('måste', 'c'),\n  ('vara', 'c'),\n  ('extra', 'c'),\n  ('noga', 'c'),\n  ('när', 'c'),\n  ('man', 'c'),\n  ('ska', 'c'),\n  ('välja', 'c'),\n  ('sin', 'c'),\n  ('väg', 'c'),\n  ('.', 'c')],\n [('Med', 'c'),\n  ('hjälp', 'c'),\n  ('av', 'c'),\n  ('dessa', 'c'),\n  ('litteräre', 'i'),\n  ('verk', 'c'),\n  ('så', 'c'),\n  ('kan', 'c'),\n  ('dra', 'i'),\n  ('slutsats', 'i'),\n  ('att', 'c'),\n  ('familjens', 'c'),\n  ('heder', 'c'),\n  ('är', 'c'),\n  ('oerhört', 'c'),\n  ('viktig', 'c'),\n  ('enligt', 'c'),\n  ('de', 'c'),\n  ('vuxna', 'c'),\n  ('och', 'i'),\n  ('detta', 'c'),\n  ('har', 'c'),\n  ('i', 'c'),\n  ('största', 'i'),\n  ('fall', 'c'),\n  ('en', 'c'),\n  ('negativ', 'c'),\n  ('effekt', 'c'),\n  ('på', 'c'),\n  ('barnens', 'c'),\n  ('liv', 'c'),\n  (',', 'c'),\n  ('alltså', 'c'),\n  ('de', 'c'),\n  ('blir', 'c'),\n  ('offrat', 'i'),\n  ('pga', 'c'),\n  ('det', 'c'),\n  ('.', 'c')],\n [('Killen', 'c'),\n  ('får', 'c'),\n  ('ett', 'c'),\n  ('tufft', 'c'),\n  ('och', 'c'),\n  ('svårt', 'c'),\n  ('liv', 'c'),\n  ('ett', 'c'),\n  ('tag', 'c'),\n  (',', 'c'),\n  ('han', 'c'),\n  ('kan', 'c'),\n  ('inte', 'c'),\n  ('hitta', 'c'),\n  ('någon', 'c'),\n  ('lösning', 'c'),\n  ('och', 'c'),\n  ('försöker', 'c'),\n  ('att', 'c'),\n  ('ta', 'c'),\n  ('sitt', 'c'),\n  ('liv', 'c'),\n  ('.', 'c')],\n [('Industriella', 'i'),\n  ('revolutionen', 'c'),\n  ('och', 'i'),\n  ('teknologiska', 'i'),\n  ('har', 'c'),\n  ('kommit', 'i'),\n  ('med', 'i'),\n  ('många', 'c'),\n  ('nackdelar', 'c'),\n  ('samma', 'i'),\n  ('som', 'i'),\n  ('fördelar', 'c'),\n  ('.', 'c')],\n [('I', 'c'),\n  ('artikel', 'i'),\n  ('\\\\\"', 'c'),\n  ('Svenskan', 'c'),\n  ('tynar', 'c'),\n  ('i', 'c'),\n  ('Finland', 'c'),\n  ('\\\\\"', 'c'),\n  ('(', 'c'),\n  ('Förskning', 'i'),\n  ('&', 'c'),\n  ('Framsteg', 'c'),\n  (',', 'i'),\n  ('2009:2', 'c'),\n  (')', 'c'),\n  ('skriver', 'c'),\n  ('Cecilia', 'c'),\n  ('Christner', 'c'),\n  ('Riad', 'c'),\n  ('att', 'c'),\n  ('kommunerna', 'c'),\n  ('i', 'c'),\n  ('Finland', 'c'),\n  ('är', 'c'),\n  ('i', 'i'),\n  ('dag', 'i'),\n  ('skyldiga', 'c'),\n  ('att', 'c'),\n  ('ge', 'c'),\n  ('service', 'c'),\n  ('på', 'c'),\n  ('båda', 'c'),\n  ('språken', 'c'),\n  ('-', 'c'),\n  ('finska', 'c'),\n  ('och', 'c'),\n  ('svenska', 'c'),\n  ('.', 'c')],\n [('En', 'c'),\n  ('kille', 'c'),\n  ('som', 'c'),\n  ('växer', 'c'),\n  ('upp', 'c'),\n  ('är', 'c'),\n  ('i', 'c'),\n  ('en', 'i'),\n  ('sekreterande', 'i'),\n  ('land', 'c'),\n  ('fast', 'c'),\n  ('pappas', 'i'),\n  ('uppväxt', 'c'),\n  ('är', 'i'),\n  ('i', 'c'),\n  ('en', 'i'),\n  ('traditionellt', 'c'),\n  ('land', 'c'),\n  ('som', 'i'),\n  ('leds', 'i'),\n  ('till', 'c'),\n  ('helt', 'c'),\n  ('olika', 'c'),\n  ('idéer', 'c'),\n  (',', 'c'),\n  ('perspektiv', 'c'),\n  (',', 'c'),\n  ('tankar', 'c'),\n  ('och', 'c'),\n  ('förväntningar', 'c'),\n  ('på', 'c'),\n  ('livet', 'c'),\n  ('.', 'c')],\n [('Jag', 'c'),\n  ('tycker', 'c'),\n  ('om', 'c'),\n  ('gå', 'i'),\n  ('till', 'c'),\n  ('bibleoteket', 'i'),\n  ('mycket', 'i'),\n  ('.', 'c')],\n [('Barnen', 'c'),\n  ('gjorde', 'c'),\n  ('saker', 'c'),\n  ('som', 'c'),\n  ('var', 'c'),\n  ('farliga', 'c'),\n  ('ibland', 'c'),\n  (',', 'c'),\n  ('men', 'c'),\n  ('hon', 'c'),\n  ('hade', 'c'),\n  ('aldrig', 'c'),\n  ('förebråelser', 'c'),\n  ('mot', 'c'),\n  ('dem', 'c'),\n  ('.', 'c')],\n [('Föräldrarna', 'c'),\n  ('kan', 'c'),\n  ('lära', 'c'),\n  ('sig', 'c'),\n  ('av', 'c'),\n  ('dem', 'i'),\n  ('litteraturer', 'i'),\n  ('att', 'c'),\n  ('de', 'c'),\n  ('inte', 'c'),\n  ('får', 'c'),\n  ('dominera', 'c'),\n  ('och', 'c'),\n  ('bestämma', 'c'),\n  ('över', 'c'),\n  ('sina', 'c'),\n  ('barns', 'c'),\n  ('liv', 'c'),\n  ('i', 'c'),\n  ('den', 'i'),\n  ('här', 'c'),\n  ('samhället', 'c'),\n  (',', 'i'),\n  ('dessutom', 'i'),\n  ('kan', 'c'),\n  ('de', 'c'),\n  ('lära', 'c'),\n  ('sig', 'c'),\n  ('av', 'c'),\n  ('dessa', 'i'),\n  ('varning', 'c'),\n  ('också', 'i'),\n  ('genom', 'i'),\n  ('att', 'c'),\n  ('respektera', 'c'),\n  ('sina', 'c'),\n  ('barnens', 'i'),\n  ('vilja', 'c'),\n  ('och', 'c'),\n  ('att', 'c'),\n  ('låta', 'c'),\n  ('att', 'i'),\n  ('barnen', 'c'),\n  ('ska', 'i'),\n  ('bestämma', 'c'),\n  ('själva', 'c'),\n  ('över', 'c'),\n  ('sitt', 'c'),\n  ('eget', 'c'),\n  ('liv', 'c'),\n  ('och', 'c'),\n  ('att', 'c'),\n  ('försöka', 'c'),\n  ('förändra', 'c'),\n  ('den', 'c'),\n  ('omoderna', 'c'),\n  ('giftermålstraditionen', 'c'),\n  ('.', 'c')],\n [('Och', 'c'),\n  ('just', 'c'),\n  ('nu', 'c'),\n  ('våras', 'i'),\n  ('liv', 'c'),\n  ('kännes', 'i'),\n  ('jette', 'i'),\n  ('bra', 'i'),\n  ('.', 'c')],\n [('Om', 'c'),\n  ('jag', 'c'),\n  ('ska', 'c'),\n  ('jämföra', 'c'),\n  ('Norge', 'c'),\n  ('som', 'c'),\n  ('ligger', 'c'),\n  ('på', 'c'),\n  ('första', 'c'),\n  ('plats', 'c'),\n  ('och', 'c'),\n  ('Sydkorea', 'c'),\n  ('som', 'c'),\n  ('står', 'i'),\n  ('på', 'c'),\n  ('55', 'i'),\n  ('plats', 'c'),\n  ('.', 'i')],\n [('En', 'i'),\n  ('negativ', 'c'),\n  ('konsekvens', 'c'),\n  ('med', 'c'),\n  ('att', 'c'),\n  ('inte', 'c'),\n  ('undervisa', 'c'),\n  ('svesnka', 'i'),\n  ('obligatorisk', 'i'),\n  ('är', 'c'),\n  ('att', 'c'),\n  ('i', 'i'),\n  ('längre', 'c'),\n  ('sikt', 'c'),\n  ('kommer', 'c'),\n  ('språket', 'c'),\n  ('förmodligen', 'c'),\n  ('talas', 'c'),\n  ('mindre', 'c'),\n  ('.', 'c')],\n [('Därför', 'c'),\n  ('är', 'c'),\n  ('det', 'c'),\n  ('jätteviktigt', 'c'),\n  ('att', 'c'),\n  ('skolan', 'c'),\n  ('ser', 'c'),\n  ('till', 'c'),\n  ('att', 'c'),\n  ('vi', 'c'),\n  ('lär', 'c'),\n  ('oss', 'c'),\n  ('mer', 'c'),\n  ('än', 'c'),\n  ('ett', 'c'),\n  ('språk', 'c'),\n  ('för', 'c'),\n  ('att', 'c'),\n  ('vi', 'c'),\n  ('ska', 'c'),\n  ('ha', 'c'),\n  ('en', 'c'),\n  ('nyckel', 'c'),\n  ('till', 'c'),\n  ('alla', 'c'),\n  ('stängda', 'c'),\n  ('dörrar', 'c'),\n  ('i', 'c'),\n  ('framtiden', 'c'),\n  ('.', 'c')],\n [('Bästa', 'c'), ('rektorn', 'c'), (',', 'c')],\n [('Det', 'c'),\n  ('finns', 'c'),\n  ('också', 'c'),\n  ('ett', 'c'),\n  ('litet', 'c'),\n  ('sovrum', 'c'),\n  ('för', 'c'),\n  ('våras', 'i'),\n  ('dotter', 'c'),\n  ('och', 'c'),\n  ('ett', 'c'),\n  ('badrum', 'c'),\n  ('.', 'c')],\n [('Så', 'c'),\n  ('jag', 'c'),\n  ('och', 'c'),\n  ('min', 'c'),\n  ('man', 'c'),\n  ('också', 'i'),\n  ('går', 'i'),\n  ('till', 'i'),\n  ('där', 'i'),\n  ('varje', 'c'),\n  ('helgen', 'i'),\n  ('med', 'c'),\n  ('min', 'c'),\n  ('dotter', 'c'),\n  ('.', 'c')],\n [('Jag', 'c'),\n  ('lånade', 'c'),\n  ('en', 'c'),\n  ('bok', 'c'),\n  ('som', 'c'),\n  ('bhandlar', 'i'),\n  ('om', 'i'),\n  ('(', 'i'),\n  ('Middag', 'c'),\n  ('för', 'c'),\n  ('två', 'c'),\n  (')', 'i'),\n  ('boken', 'i'),\n  ('är', 'c'),\n  ('svenska', 'i'),\n  ('och', 'c'),\n  ('handlar', 'c'),\n  ('om', 'c'),\n  ('Emma', 'c'),\n  ('bilr', 'i'),\n  ('orolig', 'c'),\n  ('när', 'c'),\n  ('Hannes', 'c'),\n  ('inte', 'c'),\n  ('har', 'c'),\n  ('tid', 'c'),\n  ('att', 'c'),\n  ('träffa', 'c'),\n  ('henne', 'c'),\n  ('.', 'c')],\n [('Jag', 'c'),\n  ('tyckte', 'c'),\n  ('att', 'c'),\n  ('det', 'c'),\n  ('skulle', 'c'),\n  ('vara', 'c'),\n  ('bra', 'c'),\n  ('för', 'c'),\n  ('mig', 'c'),\n  ('att', 'c'),\n  ('ta', 'c'),\n  ('kursen', 'c'),\n  ('eftersom', 'c'),\n  ('jag', 'c'),\n  ('hade', 'c'),\n  ('mycket', 'c'),\n  ('tid', 'c'),\n  ('.', 'c')],\n [('Det', 'c'),\n  ('kan', 'c'),\n  ('påverka', 'c'),\n  ('både', 'c'),\n  ('offret', 'c'),\n  ('andra', 'i'),\n  ('människor', 'c'),\n  ('och', 'c'),\n  ('samhället', 'c'),\n  ('.', 'c')],\n [('Men', 'c'),\n  ('jag', 'c'),\n  ('trivs', 'c'),\n  ('bättre', 'c'),\n  ('på', 'c'),\n  ('job', 'i'),\n  ('här', 'c'),\n  ('.', 'c')],\n [('Först', 'c'),\n  ('och', 'c'),\n  ('främst', 'c'),\n  ('finns', 'c'),\n  ('det', 'c'),\n  ('olika', 'c'),\n  ('saker', 'c'),\n  ('och', 'c'),\n  ('platser', 'c'),\n  ('för', 'c'),\n  ('barnen', 'c'),\n  ('att', 'i'),\n  ('de', 'c'),\n  ('kan', 'c'),\n  ('ömvand', 'i'),\n  ('av', 'i'),\n  ('dem', 'i'),\n  ('.', 'i')],\n [('Texten', 'i'),\n  ('\\\\\"', 'c'),\n  ('Svenskan', 'c'),\n  ('tynar', 'c'),\n  ('i', 'c'),\n  ('Finland', 'c'),\n  ('\\\\\"', 'c'),\n  ('Forskning', 'i'),\n  ('&', 'c'),\n  ('framsteg', 'c'),\n  ('2009:2', 'c'),\n  ('som', 'i'),\n  ('är', 'c'),\n  ('skriven', 'c'),\n  ('av', 'c'),\n  ('Cecilia', 'c'),\n  ('Christner', 'c'),\n  ('beskriver', 'i'),\n  ('Finlands', 'c'),\n  ('och', 'c'),\n  ('finländarnas', 'c'),\n  ('ställning', 'i'),\n  ('till', 'c'),\n  ('svenska', 'c'),\n  ('i', 'c'),\n  ('Finländska', 'i'),\n  ('skolor', 'c'),\n  ('.', 'c')],\n [('I', 'c'),\n  ('Peru', 'i'),\n  ('klär', 'c'),\n  ('sig', 'c'),\n  ('människor', 'c'),\n  ('mycket', 'c'),\n  ('lika', 'c'),\n  ('och', 'c'),\n  ('om', 'c'),\n  ('man', 'c'),\n  ('har', 'c'),\n  ('någonting', 'c'),\n  ('ovanligt', 'c'),\n  ('på', 'c'),\n  ('sig', 'c'),\n  ('då', 'i'),\n  ('fästar', 'i'),\n  ('det', 'c'),\n  ('mycket', 'c'),\n  ('uppmärksamhet', 'c'),\n  ('i', 'c'),\n  ('samhället', 'c'),\n  ('(', 'c'),\n  ('och', 'c'),\n  ('det', 'c'),\n  ('är', 'c'),\n  ('inte', 'c'),\n  ('en', 'c'),\n  ('bra', 'c'),\n  ('sak', 'c'),\n  (')', 'c'),\n  ('.', 'c')],\n [('Därför', 'c'),\n  ('har', 'c'),\n  ('ungdomarna', 'c'),\n  ('ingen', 'c'),\n  ('motivation', 'c'),\n  ('att', 'c'),\n  ('lära', 'c'),\n  ('sig', 'c'),\n  ('språken', 'c'),\n  ('och', 'c'),\n  ('vill', 'c'),\n  ('ta', 'c'),\n  ('bort', 'c'),\n  ('den', 'c'),\n  ('obligatoriska', 'c'),\n  ('examen', 'c'),\n  ('från', 'c'),\n  ('undervisningen', 'c'),\n  ('.', 'c')],\n [('Detta', 'c'),\n  ('leder', 'c'),\n  ('till', 'c'),\n  ('diskussionen', 'c'),\n  ('kring', 'c'),\n  ('åldersgränsen', 'c'),\n  ('för', 'c'),\n  ('rösträtten', 'c'),\n  ('.', 'c')],\n [('Inget', 'c'),\n  ('ont', 'c'),\n  ('om', 'c'),\n  ('programmet', 'c'),\n  ('alltså', 'c'),\n  ('.', 'c')],\n [('Den', 'c'),\n  ('här', 'c'),\n  ('synen', 'c'),\n  ('på', 'c'),\n  ('familjen', 'c'),\n  ('var', 'c'),\n  ('ganska', 'c'),\n  ('populärt', 'i'),\n  ('för', 'i'),\n  ('i', 'c'),\n  ('tiden', 'c'),\n  ('då', 'c'),\n  ('man', 'c'),\n  ('var', 'c'),\n  ('tvungen', 'c'),\n  ('att', 'c'),\n  ('acceptera', 'c'),\n  ('samhällets', 'c'),\n  ('traditionella', 'c'),\n  ('normer', 'c'),\n  ('.', 'c')],\n [(')', 'c')],\n [('Man', 'c'),\n  ('har', 'c'),\n  ('en', 'c'),\n  ('speciell', 'c'),\n  ('dresskod', 'i'),\n  ('på', 'c'),\n  ('jobbet', 'c'),\n  (',', 'c'),\n  ('anordnar', 'c'),\n  ('olika', 'c'),\n  ('tematiska', 'c'),\n  ('fester', 'c'),\n  ('eller', 'c'),\n  ('följer', 'c'),\n  ('sista', 'i'),\n  ('trender', 'i'),\n  ('på', 'c'),\n  ('nätet', 'c'),\n  ('.', 'c')],\n [('Sedan', 'c'),\n  (',', 'i'),\n  ('tycker', 'c'),\n  ('jag', 'c'),\n  ('att', 'c'),\n  ('man', 'c'),\n  ('ska', 'c'),\n  ('ampassa', 'i'),\n  ('kläderna', 'c'),\n  ('efter', 'c'),\n  ('vädret', 'c'),\n  ('eller', 'c'),\n  ('aktivitet', 'i'),\n  ('.', 'c')],\n [('Vi', 'c'),\n  ('hade', 'c'),\n  ('bra', 'i'),\n  ('bodde', 'i'),\n  ('där', 'c'),\n  ('.', 'c')],\n [('Jag', 'c'),\n  ('flyttade', 'c'),\n  ('till', 'c'),\n  ('Sund', 'i'),\n  ('den', 'c'),\n  ('6', 'i'),\n  ('.', 'i')],\n [('Jag', 'c'),\n  ('är', 'c'),\n  ('ledsen', 'c'),\n  ('att', 'c'),\n  ('jag', 'c'),\n  ('kan', 'c'),\n  ('inte', 'i'),\n  ('gå', 'c'),\n  ('på', 'c'),\n  ('kursen', 'c'),\n  ('och', 'c'),\n  ('jag', 'c'),\n  ('hoppas', 'c'),\n  ('att', 'c'),\n  ('jag', 'c'),\n  ('kan', 'c'),\n  ('gör', 'i'),\n  ('det', 'c'),\n  ('nästa', 'c'),\n  ('termin', 'c'),\n  ('.', 'c')],\n [('efter', 'i'),\n  ('några', 'c'),\n  ('dagar', 'c'),\n  ('av', 'c'),\n  ('orolighet', 'i'),\n  ('om', 'i'),\n  ('sina', 'c'),\n  ('barn', 'c'),\n  ('fåglen', 'i'),\n  ('var', 'i'),\n  ('redo', 'c'),\n  ('att', 'c'),\n  ('flyga', 'c'),\n  ('tillbacka', 'i'),\n  ('till', 'c'),\n  ('barnen', 'c'),\n  ('men', 'i'),\n  ('när', 'c'),\n  ('pöjken', 'i'),\n  ('såg', 'c'),\n  ('att', 'c'),\n  ('fåglen', 'i'),\n  ('började', 'c'),\n  ('kuna', 'i'),\n  ('röra', 'c'),\n  ('sin', 'c'),\n  ('vinge', 'c'),\n  ('satte', 'c'),\n  ('pöjken', 'i'),\n  ('honnom', 'i'),\n  ('på', 'i'),\n  ('en', 'c'),\n  ('bur', 'c'),\n  ('men', 'i'),\n  ('fåglen', 'i'),\n  ('ville', 'c'),\n  ('gå', 'i'),\n  ('tillbacka', 'i'),\n  ('.', 'c')],\n [('Jag', 'c'),\n  ('väljer', 'c'),\n  ('kläder', 'c'),\n  ('som', 'c'),\n  ('passar', 'c'),\n  ('min', 'c'),\n  ('ålder', 'c'),\n  (',', 'c'),\n  ('mitt', 'c'),\n  ('jobb', 'c'),\n  ('och', 'c'),\n  ('mina', 'c'),\n  ('varderingar', 'i'),\n  ('.', 'c')],\n [('Det', 'c'),\n  ('var', 'c'),\n  ('länge', 'c'),\n  ('sedan', 'c'),\n  ('vi', 'c'),\n  ('hördes', 'c'),\n  ('!', 'c')],\n [('Ibland', 'c'),\n  ('brukar', 'c'),\n  ('jag', 'c'),\n  ('också', 'c'),\n  ('vara', 'c'),\n  ('ledsen', 'c'),\n  ('.', 'c')],\n [('Jag', 'c'),\n  ('tror', 'c'),\n  ('att', 'c'),\n  ('de', 'i'),\n  ('är', 'c'),\n  ('jättviktiga', 'c'),\n  ('ord', 'c'),\n  ('för', 'c'),\n  ('livet', 'c'),\n  ('.', 'c')],\n [('I', 'c'),\n  ('andra', 'c'),\n  ('miljöer', 'c'),\n  ('eller', 'c'),\n  ('i', 'c'),\n  ('andra', 'c'),\n  ('grupper', 'c'),\n  ('man', 'c'),\n  ('tillhör', 'c'),\n  ('har', 'c'),\n  ('klärdelse', 'i'),\n  ('stora', 'i'),\n  ('betydelse', 'c'),\n  ('och', 'c'),\n  ('påverkar', 'c'),\n  ('hur', 'c'),\n  ('man', 'c'),\n  ('ser', 'c'),\n  ('på', 'c'),\n  ('sig', 'c'),\n  ('själv', 'c'),\n  ('och', 'c'),\n  ('på', 'c'),\n  ('andra', 'c'),\n  ('.', 'c')],\n [('Jag', 'c'), ('kommer', 'c'), ('från', 'c'), ('Kina', 'i'), ('.', 'c')],\n [('Jag', 'c'),\n  ('kommer', 'c'),\n  ('från', 'c'),\n  ('Mongoliet', 'i'),\n  ('och', 'c'),\n  ('jag', 'c'),\n  ('får', 'i'),\n  ('andra', 'c'),\n  ('intryck', 'c'),\n  (',', 'c'),\n  ('känslor', 'c'),\n  ('och', 'c'),\n  ('tanker', 'i'),\n  ('för', 'c'),\n  ('att', 'c'),\n  ('det', 'c'),\n  ('var', 'c'),\n  ('svårt', 'c'),\n  ('.', 'c')],\n [('Det', 'c'),\n  ('första', 'c'),\n  ('steget', 'c'),\n  ('är', 'c'),\n  ('16', 'c'),\n  ('år', 'c'),\n  (',', 'c'),\n  ('men', 'c'),\n  ('senare', 'c'),\n  ('kan', 'c'),\n  ('man', 'c'),\n  ('kanske', 'c'),\n  ('nå', 'c'),\n  ('14', 'c'),\n  ('-', 'i'),\n  ('år', 'c'),\n  ('.', 'c')],\n [('Jag', 'c'),\n  ('heter', 'c'),\n  ('Charlie', 'c'),\n  ('och', 'c'),\n  ('har', 'c'),\n  ('engleska', 'i'),\n  ('kurs', 'i'),\n  ('med', 'c'),\n  ('dig', 'c'),\n  ('.', 'c')],\n [('Då', 'c'),\n  ('blev', 'c'),\n  ('det', 'c'),\n  ('med', 'i'),\n  ('automatiska', 'i'),\n  ('telefoner', 'i'),\n  ('lättare', 'c'),\n  ('att', 'c'),\n  ('ringa', 'c'),\n  ('människor', 'c'),\n  ('och', 'i'),\n  ('privatare', 'i'),\n  ('också', 'i'),\n  (',', 'c'),\n  ('följaktligen', 'c'),\n  ('var', 'c'),\n  ('de', 'c'),\n  ('alltid', 'c'),\n  ('tillgängliga', 'c'),\n  ('.', 'c')],\n [('Alla', 'c'),\n  ('länder', 'c'),\n  ('och', 'c'),\n  ('stater', 'c'),\n  ('borde', 'c'),\n  ('sträva', 'c'),\n  ('efter', 'c'),\n  ('detta', 'c'),\n  ('och', 'c'),\n  ('se', 'c'),\n  ('det', 'c'),\n  ('som', 'c'),\n  ('sitt', 'c'),\n  ('mål', 'c'),\n  ('.', 'c')],\n [('Familjens', 'i'), ('form', 'i'), ('variation', 'i')],\n [('Det', 'c'),\n  ('börjar', 'c'),\n  ('med', 'c'),\n  ('hur', 'c'),\n  ('kan', 'i'),\n  ('man', 'c'),\n  ('läsa', 'i'),\n  ('och', 'c'),\n  ('skriva', 'i'),\n  ('men', 'c'),\n  ('man', 'c'),\n  ('kan', 'c'),\n  ('gå', 'c'),\n  ('vidare', 'c'),\n  ('och', 'c'),\n  ('få', 'c'),\n  ('mera', 'c'),\n  ('vetenskap', 'i'),\n  ('för', 'i'),\n  ('att', 'c'),\n  ('hitta', 'c'),\n  ('jobb', 'c'),\n  ('som', 'c'),\n  ('läkare', 'c'),\n  (',', 'c'),\n  ('ingenjör', 'c'),\n  ('och', 'c'),\n  ('andra', 'i'),\n  ('i', 'i'),\n  ('högskolan', 'i'),\n  ('.', 'c')],\n [('Min', 'c'),\n  ('religionen', 'i'),\n  ('är', 'c'),\n  ('ortodox', 'i'),\n  ('kristen', 'c'),\n  ('och', 'c'),\n  ('vet', 'i'),\n  ('jag', 'c'),\n  ('att', 'c'),\n  ('den', 'c'),\n  ('religionen', 'c'),\n  ('säger', 'c'),\n  ('att', 'c'),\n  ('man', 'c'),\n  ('kan', 'c'),\n  ('inte', 'c'),\n  ('vara', 'c'),\n  ('lycklig', 'c'),\n  ('på', 'i'),\n  ('den', 'c'),\n  ('världen', 'i'),\n  (',', 'c'),\n  ('och', 'i'),\n  ('bara', 'c'),\n  ('efter', 'c'),\n  ('döda', 'i'),\n  ('i', 'i'),\n  ('paradis', 'i'),\n  ('kan', 'i'),\n  ('man', 'c'),\n  ('vara', 'c'),\n  ('lycklig', 'c'),\n  ('.', 'c')],\n [('Jag', 'c'),\n  ('tycker', 'c'),\n  ('om', 'c'),\n  ('att', 'c'),\n  ('träna', 'c'),\n  ('svenska', 'c'),\n  ('.', 'c')],\n [('Det', 'c'),\n  ('innebär', 'c'),\n  ('att', 'c'),\n  ('det', 'c'),\n  ('förväntas', 'c'),\n  ('att', 'c'),\n  ('de', 'c'),\n  ('följer', 'c'),\n  ('alla', 'c'),\n  ('skrivna', 'c'),\n  ('och', 'c'),\n  ('oskrivna', 'c'),\n  ('lagar', 'c'),\n  ('likadant', 'i'),\n  ('som', 'c'),\n  ('alla', 'c'),\n  ('medborgare', 'c'),\n  ('.', 'c')],\n [('Vad', 'c'), ('kan', 'c'), ('göras', 'c'), ('?', 'c')],\n [('därför', 'c'),\n  ('att', 'c'),\n  ('en', 'c'),\n  ('stor', 'c'),\n  ('del', 'c'),\n  ('av', 'c'),\n  ('samhället', 'c'),\n  ('ser', 'i'),\n  ('att', 'c'),\n  ('det', 'c'),\n  ('är', 'c'),\n  ('viktig', 'i'),\n  ('att', 'c'),\n  ('man', 'c'),\n  ('bevara', 'i'),\n  ('och', 'c'),\n  ('skydda', 'i'),\n  ('sin', 'c'),\n  ('familj', 'c'),\n  ('.', 'c')],\n [('Åström', 'c'),\n  ('säger', 'c'),\n  ('att', 'c'),\n  ('språkbad', 'c'),\n  ('(', 'c'),\n  ('där', 'c'),\n  ('ungdomar', 'c'),\n  ('umgås', 'c'),\n  ('med', 'c'),\n  ('äldre', 'c'),\n  ('i', 'i'),\n  ('en', 'i'),\n  ('läger', 'c'),\n  (')', 'c'),\n  ('är', 'c'),\n  ('ett', 'c'),\n  ('bra', 'c'),\n  ('tips', 'c'),\n  ('på', 'i'),\n  ('rädda', 'i'),\n  ('språket', 'i'),\n  ('från', 'c'),\n  ('att', 'c'),\n  ('tystna', 'c'),\n  ('och', 'i'),\n  ('att', 'c'),\n  ('vissa', 'c'),\n  ('upplever', 'c'),\n  ('sitt', 'c'),\n  ('modersmål', 'c'),\n  ('mindre', 'i'),\n  ('värd', 'i'),\n  ('inom', 'i'),\n  ('det', 'i'),\n  ('moderna', 'c'),\n  ('värld', 'i'),\n  (',', 'i'),\n  ('förutom', 'i'),\n  ('det', 'c'),\n  ('så', 'c'),\n  ('ger', 'c'),\n  ('hon', 'c'),\n  ('en', 'c'),\n  ('översiktlig', 'c'),\n  ('information', 'c'),\n  ('om', 'c'),\n  ('svenska', 'c'),\n  ('språket', 'c'),\n  ('.', 'c')],\n [('David', 'c')],\n [('Men', 'c'),\n  ('det', 'c'),\n  ('viktigaste', 'c'),\n  ('är', 'c'),\n  ('att', 'c'),\n  ('vara', 'c'),\n  ('vänlig', 'c'),\n  ('och', 'c'),\n  ('omtänksam', 'c'),\n  ('mot', 'c'),\n  ('varandra', 'c'),\n  ('.', 'c')],\n [('Sammfattningsvis', 'i'),\n  ('finns', 'c'),\n  ('det', 'c'),\n  ('många', 'c'),\n  ('socialt', 'c'),\n  ('konstruerade', 'c'),\n  ('regler', 'c'),\n  ('om', 'c'),\n  ('kläder', 'c'),\n  ('.', 'c')],\n [('När', 'c'),\n  ('jag', 'c'),\n  ('bodde', 'c'),\n  ('i', 'c'),\n  ('mitt', 'c'),\n  ('hemland', 'c'),\n  ('hade', 'c'),\n  ('vi', 'c'),\n  ('många', 'c'),\n  ('utsatta', 'c'),\n  ('grupper', 'c'),\n  ('men', 'c'),\n  ('jag', 'c'),\n  ('vill', 'c'),\n  ('berätt', 'i'),\n  ('om', 'c'),\n  ('kurdiska', 'i'),\n  ('människor', 'c'),\n  ('som', 'c'),\n  ('jag', 'c'),\n  ('är', 'i'),\n  ('en', 'i'),\n  ('av', 'i'),\n  ('dem', 'i'),\n  ('.', 'c')],\n [('Tyvärr', 'c'),\n  ('hur', 'c'),\n  ('man', 'c'),\n  ('kläder', 'i'),\n  ('sig', 'c'),\n  ('kan', 'i'),\n  ('vara', 'c'),\n  ('anledning', 'i'),\n  ('till', 'c'),\n  ('diskriminering', 'c'),\n  ('.', 'c')],\n [('Bengt', 'c'),\n  ('Östling', 'c'),\n  ('skriver', 'c'),\n  ('att', 'c'),\n  ('de', 'c'),\n  ('borgerliga', 'c'),\n  ('partierna', 'c'),\n  ('talar', 'c'),\n  ('am', 'i'),\n  ('att', 'c'),\n  ('avstå', 'c'),\n  ('från', 'c'),\n  ('dagens', 'c'),\n  ('system', 'c'),\n  ('som', 'c'),\n  ('ger', 'c'),\n  ('medborgaren', 'c'),\n  ('rätt', 'c'),\n  ('att', 'c'),\n  ('bli', 'c'),\n  ('skriftligt', 'c'),\n  ('bemött', 'c'),\n  ('på', 'c'),\n  ('sitt', 'c'),\n  ('eget', 'c'),\n  ('språk', 'c'),\n  (',', 'c'),\n  ('nynorskan', 'i'),\n  ('eller', 'c'),\n  ('bokmål', 'c'),\n  ('.', 'c')],\n [('Du', 'c'),\n  ('kan', 'c'),\n  ('vara', 'c'),\n  ('romantiker', 'c'),\n  ('och', 'c'),\n  ('köpa', 'c'),\n  ('blumor', 'i'),\n  ('en', 'c'),\n  ('gång', 'c'),\n  ('i', 'c'),\n  ('måndgen', 'i'),\n  ('–', 'i'),\n  ('När', 'c'),\n  ('man', 'c'),\n  ('ger', 'c'),\n  ('blommor', 'c'),\n  ('till', 'c'),\n  ('fru', 'i'),\n  ('hon', 'c'),\n  ('känner', 'i'),\n  ('sig', 'c'),\n  ('glad', 'c'),\n  ('.', 'c')],\n [('Man', 'c'),\n  ('kan', 'c'),\n  ('bada', 'c'),\n  ('i', 'c'),\n  ('Undberget', 'i'),\n  ('om', 'c'),\n  ('man', 'c'),\n  ('är', 'c'),\n  ('modig', 'c'),\n  (',', 'c'),\n  ('men', 'c'),\n  ('i', 'c'),\n  ('Bungavård', 'c'),\n  ('kan', 'c'),\n  ('alla', 'c'),\n  ('leka', 'c'),\n  ('och', 'c'),\n  ('njuta', 'c'),\n  ('av', 'c'),\n  ('vara', 'c'),\n  ('i', 'c'),\n  ('vattnet', 'c'),\n  ('.', 'c')],\n [('jag', 'i'),\n  ('bodde', 'c'),\n  ('i', 'c'),\n  ('Peru', 'i'),\n  ('innan', 'c'),\n  ('at', 'i'),\n  ('komer', 'i'),\n  ('till', 'c'),\n  ('Sverige', 'c'),\n  ('med', 'c'),\n  ('mina', 'c'),\n  ('föraldrar', 'i'),\n  (',', 'i'),\n  ('jag', 'i'),\n  ('tycker', 'c'),\n  ('om', 'i'),\n  ('mycket', 'c'),\n  ('mitt', 'c'),\n  ('land', 'c'),\n  ('och', 'c'),\n  ('saknar', 'c'),\n  ('mina', 'c'),\n  ('föraldrar', 'i'),\n  ('men', 'i'),\n  ('jag', 'c'),\n  ('känt', 'i'),\n  ('min', 'c'),\n  ('flickvän', 'c'),\n  ('och', 'c'),\n  ('jag', 'i'),\n  ('flytade', 'i'),\n  ('till', 'c'),\n  ('Västanå', 'i'),\n  ('.', 'c')],\n [('Jag', 'c'),\n  ('läste', 'c'),\n  ('den', 'c'),\n  ('här', 'c'),\n  ('romanen', 'c'),\n  (',', 'c'),\n  ('eftersom', 'c'),\n  ('det', 'c'),\n  ('var', 'c'),\n  ('en', 'c'),\n  ('spannade', 'i'),\n  ('rubrik', 'c'),\n  ('och', 'c'),\n  ('titel', 'c'),\n  ('.', 'c')],\n [('Jag', 'c'), ('är', 'c'), ('gift', 'c'), ('.', 'c')],\n [('Så', 'c'),\n  ('problemet', 'c'),\n  ('är', 'c'),\n  ('inte', 'c'),\n  ('att', 'c'),\n  ('unga', 'c'),\n  ('är', 'c'),\n  ('inte', 'i'),\n  ('tillräckligt', 'c'),\n  ('förberedda', 'c'),\n  ('utan', 'i'),\n  ('synen', 'c'),\n  ('på', 'c'),\n  ('arbetet', 'c'),\n  ('.', 'c')],\n [('Vissa', 'c'),\n  ('samhällen', 'c'),\n  ('styrs', 'c'),\n  ('av', 'c'),\n  ('många', 'c'),\n  ('traditioner', 'c'),\n  ('och', 'c'),\n  ('religiösa', 'c'),\n  ('normer', 'c'),\n  ('.', 'c')],\n [('Jag', 'c'),\n  ('tycker', 'c'),\n  ('att', 'c'),\n  ('det', 'c'),\n  ('är', 'c'),\n  ('bästa', 'i'),\n  ('mat', 'i'),\n  ('.', 'c')],\n [('Brottet', 'i'),\n  ('har', 'c'),\n  ('två', 'c'),\n  ('sidor', 'c'),\n  (',', 'c'),\n  ('ena', 'i'),\n  ('sidan', 'c'),\n  ('är', 'c'),\n  ('alltid', 'c'),\n  ('som', 'i'),\n  ('ansvarig', 'c'),\n  ('för', 'c'),\n  ('brottet', 'c'),\n  ('och', 'c'),\n  ('det', 'i'),\n  ('andra', 'c'),\n  ('sidan', 'c'),\n  ('är', 'c'),\n  ('alltid', 'c'),\n  ('offer', 'c'),\n  ('.', 'c')],\n [('Boken', 'c'),\n  ('beskriver', 'c'),\n  ('om', 'i'),\n  ('en', 'c'),\n  ('riktigt', 'i'),\n  ('historia', 'c'),\n  ('.', 'c')],\n [('Minoritetsspråken', 'c'),\n  ('omfattar', 'c'),\n  ('då', 'c'),\n  ('både', 'c'),\n  ('teckenspråk', 'c'),\n  ('och', 'c'),\n  ('alla', 'c'),\n  ('svenska', 'c'),\n  ('invandrarspråk', 'c'),\n  ('.', 'c')],\n [('Hej', 'c'), ('!', 'c')],\n [('Hon', 'c'),\n  ('blev', 'i'),\n  ('mycket', 'c'),\n  ('glad', 'c'),\n  ('med', 'c'),\n  ('mig', 'c'),\n  ('.', 'c')],\n [('Eftersom', 'c'),\n  ('jag', 'c'),\n  ('kan', 'c'),\n  ('inte', 'c'),\n  ('gå', 'c'),\n  ('kursen', 'c'),\n  ('hoppas', 'c'),\n  ('jag', 'c'),\n  ('att', 'c'),\n  ('du', 'i'),\n  ('kan', 'c'),\n  ('få', 'c'),\n  ('kursavgiften', 'c'),\n  ('tillbaka', 'c'),\n  ('.', 'c')],\n [('Åström', 'c'),\n  ('berättar', 'c'),\n  ('även', 'c'),\n  ('om', 'c'),\n  ('att', 'c'),\n  ('det', 'c'),\n  ('är', 'c'),\n  ('vanligare', 'c'),\n  ('att', 'c'),\n  ('man', 'c'),\n  ('skaffar', 'c'),\n  ('barn', 'c'),\n  ('utanför', 'c'),\n  ('äktenskapet', 'c'),\n  ('eftersom', 'i'),\n  ('beslutet', 'c'),\n  ('att', 'c'),\n  ('skaffa', 'c'),\n  ('barn', 'c'),\n  ('sker', 'c'),\n  ('mer', 'c'),\n  ('slumpartat', 'c'),\n  ('och', 'c'),\n  ('att', 'i'),\n  ('det', 'c'),\n  ('finns', 'c'),\n  ('ett', 'i'),\n  ('större', 'c'),\n  ('tilltro', 'c'),\n  ('till', 'c'),\n  ('det', 'c'),\n  ('gemensamma', 'c'),\n  ('föräldraskapet', 'c'),\n  ('än', 'c'),\n  ('parrelationen', 'i'),\n  ('.', 'c')],\n [('Valpen', 'c'),\n  ('är', 'c'),\n  ('sårad', 'c'),\n  ('i', 'c'),\n  ('sin', 'i'),\n  ('ben', 'c'),\n  (',', 'c'),\n  ('hunden', 'i'),\n  ('kan', 'c'),\n  ('inte', 'i'),\n  ('går', 'i'),\n  ('eller', 'c'),\n  ('står', 'i'),\n  ('.', 'c')],\n [('Avslutning', 'c'),\n  (':', 'c'),\n  ('Avslutningsvis', 'c'),\n  ('att', 'i'),\n  ('det', 'c'),\n  ('är', 'i'),\n  ('bra', 'c'),\n  ('att', 'c'),\n  ('kunna', 'c'),\n  ('fler', 'i'),\n  ('språk', 'c'),\n  ('för', 'c'),\n  ('att', 'c'),\n  ('det', 'c'),\n  ('kan', 'c'),\n  ('hjälpa', 'c'),\n  ('dig', 'c'),\n  ('själv', 'c'),\n  ('eller', 'c'),\n  ('man', 'i'),\n  ('kan', 'c'),\n  ('hjälpa', 'c'),\n  ('de', 'i'),\n  ('andra', 'c'),\n  ('med', 'i'),\n  ('språken', 'i'),\n  ('som', 'i'),\n  ('inte', 'i'),\n  ('kan', 'i'),\n  ('och', 'i'),\n  ('det', 'i'),\n  ('finns', 'c'),\n  ('alltid', 'c'),\n  ('nackdelar', 'i'),\n  ('och', 'i'),\n  ('fördelar', 'i'),\n  ('för', 'i'),\n  ('det', 'c'),\n  ('.', 'c')],\n [('Kärlek', 'c'),\n  ('kan', 'c'),\n  ('vara', 'i'),\n  ('mellan', 'c'),\n  ('personer', 'c'),\n  ('i', 'c'),\n  ('en', 'c'),\n  ('familj', 'c'),\n  (',', 'c'),\n  ('mellan', 'c'),\n  ('två', 'c'),\n  ('vänner', 'c'),\n  ('eller', 'c'),\n  ('en', 'c'),\n  ('människa', 'c'),\n  ('och', 'c'),\n  ('ett', 'c'),\n  ('djur', 'c'),\n  ('.', 'c')],\n [('Mitt', 'c'),\n  ('första', 'c'),\n  ('tips', 'c'),\n  ('är', 'c'),\n  ('att', 'c'),\n  ('vara', 'c'),\n  ('romantik', 'i'),\n  ('med', 'c'),\n  ('din', 'c'),\n  ('pojkvän', 'c'),\n  ('.', 'c')],\n [('Storasyster', 'c'),\n  ('kommer', 'c'),\n  ('ut', 'c'),\n  ('från', 'c'),\n  ('sitt', 'c'),\n  ('rum', 'c'),\n  ('för', 'c'),\n  ('att', 'c'),\n  ('vara', 'c'),\n  ('med', 'c'),\n  ('på', 'c'),\n  ('festen', 'c'),\n  ('som', 'c'),\n  ('hålls', 'c'),\n  ('när', 'c'),\n  ('hennes', 'c'),\n  ('föräldrar', 'c'),\n  ('dör', 'c'),\n  (',', 'c'),\n  ('för', 'c'),\n  ('att', 'c'),\n  ('ta', 'c'),\n  ('över', 'c'),\n  ('maken', 'i'),\n  ('men', 'i'),\n  ('hon', 'c'),\n  ('kan', 'c'),\n  ('inte', 'c'),\n  ('kontrollera', 'c'),\n  ('sin', 'c'),\n  ('kraft', 'c'),\n  ('och', 'c'),\n  ('det', 'c'),\n  ('blir', 'c'),\n  ('kaos', 'c'),\n  ('på', 'c'),\n  ('festen', 'c'),\n  ('då', 'i'),\n  ('lämnar', 'c'),\n  ('hon', 'c'),\n  ('slottet', 'c'),\n  ('och', 'c'),\n  ('går', 'c'),\n  ('till', 'c'),\n  ('ett', 'c'),\n  ('berg', 'c'),\n  ('.', 'c')],\n [('Detta', 'c'),\n  ('är', 'c'),\n  ('väldigt', 'c'),\n  ('viktigt', 'c'),\n  ('för', 'c'),\n  ('samhället', 'c'),\n  ('eftersom', 'c'),\n  ('det', 'c'),\n  ('behövs', 'c'),\n  ('åsikter', 'c'),\n  ('från', 'c'),\n  ('alla', 'c'),\n  ('olika', 'c'),\n  ('grupper', 'c'),\n  ('för', 'c'),\n  ('att', 'c'),\n  ('få', 'c'),\n  ('en', 'c'),\n  ('så', 'c'),\n  ('rättvis', 'c'),\n  ('regering', 'c'),\n  ('som', 'c'),\n  ('möjligt', 'c'),\n  ('.', 'c')],\n [('Det', 'c'),\n  ('är', 'c'),\n  ('våra', 'c'),\n  ('myckit', 'i'),\n  ('nära', 'c'),\n  ('kompisar', 'c'),\n  ('.', 'c')],\n [('Det', 'c'),\n  ('skapas', 'c'),\n  ('en', 'c'),\n  ('\\\\\"', 'c'),\n  ('vi', 'i'),\n  ('och', 'i'),\n  ('dom', 'i'),\n  ('\\\\\"', 'i'),\n  ('känsla', 'i'),\n  ('eftersom', 'i'),\n  ('vissa', 'c'),\n  ('inte', 'c'),\n  ('talar', 'c'),\n  ('majoritetsspråket', 'c'),\n  ('i', 'c'),\n  ('landet', 'c'),\n  ('.', 'c')],\n [('Genom', 'c'),\n  ('årtusendena', 'c'),\n  ('har', 'c'),\n  ('människor', 'c'),\n  ('i', 'c'),\n  ('alla', 'c'),\n  ('kulturer', 'c'),\n  ('tagit', 'c'),\n  ('del', 'c'),\n  ('av', 'c'),\n  ('skönlitteratur', 'c'),\n  ('av', 'c'),\n  ('olika', 'c'),\n  ('slag', 'c'),\n  ('.', 'c')],\n [('Han', 'c'),\n  ('forstätter', 'c'),\n  ('och', 'c'),\n  ('säger', 'c'),\n  ('att', 'c'),\n  ('det', 'c'),\n  ('initiativet', 'i'),\n  ('som', 'c'),\n  ('medborgarna', 'c'),\n  ('har', 'c'),\n  ('mot', 'i'),\n  ('svenska', 'c'),\n  ('språket', 'c'),\n  ('har', 'c'),\n  ('fått', 'c'),\n  ('över', 'c'),\n  ('50', 'c'),\n  ('000', 'c'),\n  ('namnunderskrifter', 'c'),\n  ('och', 'c'),\n  ('det', 'c'),\n  ('innebär', 'c'),\n  ('att', 'c'),\n  ('riksdagen', 'c'),\n  ('måste', 'c'),\n  ('behandla', 'c'),\n  ('ärendet', 'c'),\n  ('.', 'c')],\n [('Tack', 'c'),\n  ('för', 'c'),\n  ('din', 'c'),\n  ('hjälp', 'c'),\n  ('i', 'c'),\n  ('framtiden', 'c'),\n  ('.', 'c')],\n [('Alla', 'c'),\n  ('pengar', 'c'),\n  ('var', 'c'),\n  ('mannens', 'c'),\n  ('eller', 'c'),\n  ('hennes', 'c'),\n  ('familjs', 'c'),\n  (',', 'c'),\n  ('så', 'c'),\n  ('om', 'c'),\n  ('en', 'c'),\n  ('kvinna', 'c'),\n  ('till', 'c'),\n  ('exempel', 'c'),\n  ('hade', 'i'),\n  ('en', 'c'),\n  ('skilsmässa', 'c'),\n  ('eller', 'c'),\n  ('ett', 'i'),\n  ('barn', 'c'),\n  ('utanför', 'c'),\n  ('äktenskapet', 'c'),\n  (',', 'c'),\n  ('hade', 'c'),\n  ('hon', 'c'),\n  ('igenting', 'i'),\n  ('ekonomiskt', 'c'),\n  ('.', 'c')],\n [('Dessutom', 'c'),\n  (',', 'i'),\n  ('kräver', 'c'),\n  ('samhället', 'c'),\n  ('att', 'c'),\n  ('man', 'c'),\n  ('klä', 'i'),\n  ('på', 'c'),\n  ('sig', 'c'),\n  ('olika', 'c'),\n  ('kläder', 'c'),\n  ('i', 'c'),\n  ('specifika', 'c'),\n  ('situationer', 'c'),\n  ('.', 'c')],\n [('Lycka', 'c'),\n  ('betyder', 'c'),\n  ('en', 'c'),\n  ('mycket', 'c'),\n  ('stark', 'c'),\n  ('glädje', 'c'),\n  (',', 'c'),\n  ('men', 'c'),\n  ('beror', 'c'),\n  ('på', 'c'),\n  ('vad', 'c'),\n  ('man', 'c'),\n  ('tänker', 'c'),\n  ('och', 'c'),\n  ('hur', 'c'),\n  ('man', 'c'),\n  ('tolkar', 'c'),\n  ('det', 'c'),\n  ('.', 'i')],\n [('Hon', 'c'),\n  ('säger', 'c'),\n  ('även', 'c'),\n  ('att', 'c'),\n  ('ungdomar', 'c'),\n  ('i', 'c'),\n  ('tonåren', 'c'),\n  ('blir', 'c'),\n  ('fientlig', 'i'),\n  ('inställda', 'c'),\n  ('eftersom', 'c'),\n  ('svenskan', 'c'),\n  ('känns', 'c'),\n  ('väldigt', 'c'),\n  ('onödig', 'c'),\n  ('för', 'c'),\n  ('dem', 'c'),\n  ('och', 'i'),\n  ('det', 'c'),\n  ('kan', 'c'),\n  ('leda', 'c'),\n  ('till', 'c'),\n  ('att', 'c'),\n  ('om', 'c'),\n  ('svenska', 'i'),\n  ('blir', 'c'),\n  ('frivillig', 'c'),\n  ('i', 'c'),\n  ('skolsystemet', 'c'),\n  ('skulle', 'c'),\n  ('många', 'c'),\n  ('unga', 'c'),\n  ('välja', 'c'),\n  ('bort', 'c'),\n  ('det', 'c'),\n  ('.', 'c')],\n [('Historier', 'c'),\n  ('som', 'c'),\n  ('från', 'c'),\n  ('början', 'c'),\n  ('bara', 'c'),\n  ('var', 'c'),\n  ('muntligt', 'c'),\n  ('berättade', 'c'),\n  ('tar', 'c'),\n  ('idag', 'c'),\n  ('alla', 'c'),\n  ('tänkbara', 'c'),\n  ('former', 'c'),\n  ('och', 'c'),\n  ('förekommer', 'c'),\n  ('som', 'c'),\n  ('musik', 'c'),\n  (',', 'c'),\n  ('teater', 'c'),\n  (',', 'c'),\n  ('poesi', 'c'),\n  (',', 'c'),\n  ('romaner', 'c'),\n  (',', 'c'),\n  ('serier', 'c'),\n  (',', 'c'),\n  ('filmer', 'c'),\n  ('och', 'c'),\n  ('spel', 'c'),\n  ('.', 'c')],\n [('Jag', 'c'),\n  ('hade', 'c'),\n  ('svårt', 'c'),\n  ('att', 'c'),\n  ('äta', 'c'),\n  ('så', 'c'),\n  ('mycket', 'c'),\n  ('ost', 'c'),\n  (',', 'c'),\n  ('smör', 'c'),\n  ('och', 'c'),\n  ('köttbullar', 'c'),\n  ('.', 'c')],\n [('Åh', 'c'),\n  ('vad', 'c'),\n  ('jag', 'c'),\n  ('blev', 'c'),\n  ('glad', 'c'),\n  ('när', 'c'),\n  ('jag', 'c'),\n  ('visste', 'i'),\n  ('att', 'i'),\n  ('du', 'c'),\n  ('kommer', 'i'),\n  ('att', 'i'),\n  ('gift', 'i'),\n  ('dig', 'c'),\n  ('.', 'c')],\n [('Efter', 'c'),\n  ('några', 'c'),\n  ('minuter', 'c'),\n  ('såg', 'c'),\n  ('jag', 'c'),\n  ('en', 'c'),\n  ('person', 'c'),\n  ('som', 'c'),\n  ('promenade', 'i'),\n  ('i', 'c'),\n  ('skuken', 'i'),\n  ('på', 'c'),\n  ('andra', 'c'),\n  ('sida', 'i'),\n  ('och', 'c'),\n  ('jag', 'c'),\n  ('callade', 'i'),\n  ('honom', 'i'),\n  ('för', 'i'),\n  ('att', 'c'),\n  ('komma', 'c'),\n  ('.', 'c')],\n [('Familjen', 'c'), ('av', 'c'), ('idag', 'c')],\n [('Jag', 'c'),\n  ('tror', 'c'),\n  ('att', 'c'),\n  ('det', 'c'),\n  ('är', 'c'),\n  ('väldigt', 'c'),\n  ('dåligt', 'c'),\n  ('för', 'c'),\n  ('kvinnor', 'c'),\n  ('psykiskt', 'i'),\n  ('i', 'c'),\n  ('detta', 'c'),\n  ('fall', 'c'),\n  ('men', 'c'),\n  ('för', 'c'),\n  ('unga', 'c'),\n  ('flickor', 'c'),\n  ('är', 'c'),\n  ('det', 'c'),\n  ('värre', 'c'),\n  ('.', 'c')],\n [('B15BT2', 'c')],\n [('Nuförtiden', 'c'),\n  ('avvaktar', 'i'),\n  ('anknytningen', 'c'),\n  ('mellan', 'c'),\n  ('skolor', 'c'),\n  ('och', 'c'),\n  ('jobb', 'c'),\n  ('och', 'c'),\n  ('därför', 'c'),\n  ('måste', 'c'),\n  ('den', 'c'),\n  ('förstärkas', 'c'),\n  ('.', 'c')],\n [('•', 'c'),\n  ('Kan', 'c'),\n  ('lycka', 'c'),\n  ('mätas', 'c'),\n  ('i', 'c'),\n  ('förhållande', 'c'),\n  ('till', 'c'),\n  ('landets', 'c'),\n  ('ekonomiska', 'c'),\n  ('/', 'c'),\n  ('ens', 'c'),\n  ('egen', 'c'),\n  ('framgång', 'c'),\n  ('?', 'c')],\n [('På', 'c'),\n  ('så', 'c'),\n  ('sätt', 'c'),\n  ('kan', 'c'),\n  ('missbruk', 'c'),\n  ('av', 'c'),\n  ('sociala', 'c'),\n  ('media', 'c'),\n  ('förebyggas', 'c'),\n  ('.', 'c')],\n [('Jag', 'c'),\n  ('också', 'i'),\n  ('snaka', 'i'),\n  ('dig', 'c'),\n  ('men', 'c'),\n  ('jag', 'c'),\n  ('är', 'c'),\n  ('sakert', 'i'),\n  ('att', 'i'),\n  ('ditt', 'c'),\n  ('liv', 'c'),\n  ('kommer', 'c'),\n  ('att', 'c'),\n  ('bli', 'c'),\n  ('bättre', 'c'),\n  ('med', 'c'),\n  ('ditt', 'c'),\n  ('nyt', 'i'),\n  ('job', 'i'),\n  ('.', 'c')],\n [('Efter', 'c'),\n  ('några', 'c'),\n  ('månader', 'c'),\n  ('bestämde', 'c'),\n  ('vi', 'c'),\n  ('som', 'i'),\n  ('skulle', 'i'),\n  ('hålla', 'c'),\n  ('kontakten', 'c'),\n  ('med', 'c'),\n  ('varandra', 'c'),\n  ('.', 'c')],\n [('Detta', 'i'),\n  ('litteraturer', 'i'),\n  ('kan', 'c'),\n  ('vara', 'c'),\n  ('båda', 'i'),\n  ('en', 'c'),\n  ('varning', 'c'),\n  ('och', 'c'),\n  ('en', 'c'),\n  ('lärdom', 'c'),\n  ('för', 'c'),\n  ('dagens', 'c'),\n  ('samhälle', 'c'),\n  ('och', 'c'),\n  ('föräldrarna', 'i'),\n  ('.', 'c')],\n [('Några', 'c'),\n  ('ganger', 'i'),\n  ('kan', 'c'),\n  ('man', 'c'),\n  ('köpa', 'i'),\n  ('för', 'c'),\n  ('eget', 'c'),\n  ('nöje', 'c'),\n  ('eller', 'c'),\n  ('för', 'c'),\n  ('att', 'c'),\n  ('följa', 'c'),\n  ('modet', 'c'),\n  ('eller', 'c'),\n  ('för', 'c'),\n  ('att', 'c'),\n  ('anpassa', 'c'),\n  ('sig', 'c'),\n  ('till', 'c'),\n  ('miljön', 'c'),\n  ('.', 'c')],\n [('Jocke', 'c'),\n  ('accepterar', 'c'),\n  ('att', 'c'),\n  ('gifta', 'c'),\n  ('sig', 'c'),\n  ('med', 'c'),\n  ('Nadja', 'c'),\n  ('och', 'c'),\n  ('de', 'c'),\n  ('ska', 'c'),\n  ('bo', 'c'),\n  ('uppe', 'c'),\n  ('i', 'c'),\n  ('Norrland', 'c'),\n  ('.', 'c')],\n [('Kram', 'c')],\n [('Vi', 'c'),\n  ('som', 'c'),\n  ('bor', 'c'),\n  ('i', 'c'),\n  ('den', 'i'),\n  ('västra', 'i'),\n  ('världen', 'i'),\n  ('har', 'c'),\n  ('en', 'c'),\n  ('liknade', 'c'),\n  ('stil', 'c'),\n  ('på', 'c'),\n  ('grund', 'c'),\n  ('av', 'c'),\n  ('globalisering', 'c'),\n  ('och', 'c'),\n  ('trender', 'c'),\n  ('.', 'c')],\n [('Jag', 'c'),\n  ('komma', 'i'),\n  ('ihåg', 'c'),\n  ('när', 'c'),\n  ('jag', 'c'),\n  ('flyttade', 'c'),\n  ('till', 'c'),\n  ('Sverige', 'c'),\n  ('.', 'c')],\n [('Alltid', 'i'),\n  ('arg', 'c'),\n  ('och', 'c'),\n  ('muttrar', 'c'),\n  ('mycket', 'c'),\n  ('.', 'c')],\n [('Den', 'c'),\n  ('sista', 'c'),\n  ('rösten', 'c'),\n  ('som', 'c'),\n  ('Catharina', 'c'),\n  ('skriver', 'c'),\n  ('om', 'c'),\n  ('är', 'c'),\n  ('Tuija', 'c'),\n  ('Nikkor', 'c'),\n  ('(', 'c'),\n  ('Forskare', 'i'),\n  ('I', 'i'),\n  ('Helsingfors', 'c'),\n  (')', 'c'),\n  (',', 'i'),\n  ('Tuija', 'c'),\n  ('Nikkor', 'c'),\n  ('tycker', 'c'),\n  ('att', 'c'),\n  ('svenska', 'c'),\n  ('borde', 'c'),\n  ('inte', 'i'),\n  ('vara', 'c'),\n  ('obligatoriskt', 'c'),\n  ('i', 'c'),\n  ('finska', 'i'),\n  ('samhälle', 'i'),\n  ('eftersom', 'c'),\n  ('många', 'c'),\n  ('finländare', 'c'),\n  ('kommer', 'c'),\n  ('inte', 'i'),\n  ('att', 'c'),\n  ('använda', 'c'),\n  ('svenskan', 'c'),\n  ('utanför', 'c'),\n  ('skolan', 'c'),\n  ('och', 'i'),\n  ('tycker', 'i'),\n  ('istället', 'c'),\n  ('att', 'c'),\n  ('svenska', 'c'),\n  ('ska', 'c'),\n  ('vara', 'c'),\n  ('frivilligt', 'c'),\n  ('i', 'c'),\n  ('finska', 'c'),\n  ('skolor', 'c'),\n  ('.', 'c')],\n [('Bokens', 'c'),\n  ('titel', 'c'),\n  ('är', 'c'),\n  ('Sluta', 'c'),\n  ('aldrig', 'c'),\n  ('gå', 'c'),\n  ('.', 'c')],\n [('Jag', 'c'),\n  ('kan', 'c'),\n  ('skicka', 'c'),\n  ('dig', 'c'),\n  ('alla', 'i'),\n  ('information', 'c'),\n  ('om', 'c'),\n  ('mitt', 'c'),\n  ('konto', 'c'),\n  ('om', 'c'),\n  ('det', 'c'),\n  ('behövs', 'c'),\n  ('.', 'c')],\n [('Dels', 'c'),\n  ('att', 'i'),\n  ('betala', 'i'),\n  ('svart', 'i'),\n  ('för', 'i'),\n  ('en', 'i'),\n  ('tjänst', 'i'),\n  ('är', 'i'),\n  ('orättvis', 'i'),\n  ('eftersom', 'c'),\n  ('alla', 'c'),\n  ('de', 'i'),\n  ('rika', 'c'),\n  ('människorna', 'i'),\n  ('kan', 'i'),\n  ('betala', 'c'),\n  ('för', 'c'),\n  ('att', 'c'),\n  ('klara', 'c'),\n  ('sig', 'c'),\n  ('behövs', 'c'),\n  ('och', 'c'),\n  ('dels', 'i'),\n  ('förlorar', 'c'),\n  ('sina', 'i'),\n  ('platser', 'i'),\n  ('på', 'c'),\n  ('grund', 'c'),\n  ('av', 'c'),\n  ('de', 'c'),\n  ('som', 'c'),\n  ('betalar', 'c'),\n  ('svart', 'c'),\n  ('.', 'c')],\n [('Lindqvist', 'c'),\n  (',', 'c'),\n  ('Matts', 'c'),\n  (',', 'c'),\n  ('2013', 'c'),\n  (':', 'c'),\n  ('Svenskan', 'c'),\n  ('rött', 'c'),\n  ('skynke', 'c'),\n  ('i', 'c'),\n  ('Finland', 'c'),\n  ('.', 'c')],\n [('Satsa', 'c'),\n  ('mer', 'c'),\n  ('på', 'c'),\n  ('att', 'c'),\n  ('utveckla', 'c'),\n  ('bra', 'c'),\n  ('arbetsmoral', 'c'),\n  ('bland', 'c'),\n  ('unga', 'c')],\n [('efter', 'i'),\n  ('det', 'c'),\n  ('jag', 'c'),\n  ('skrev', 'i'),\n  ('till', 'c'),\n  ('gym', 'i'),\n  ('adminstration', 'i'),\n  ('seden', 'i'),\n  ('har', 'c'),\n  ('jag', 'c'),\n  ('fått', 'c'),\n  ('att', 'i'),\n  ('anmla', 'i'),\n  ('till', 'i'),\n  ('andra', 'i'),\n  ('kurs', 'c'),\n  ('utan', 'c'),\n  ('betala', 'i'),\n  ('ingeting', 'i'),\n  ('.', 'c')],\n [('där', 'i'),\n  ('finns', 'c'),\n  ('en', 'c'),\n  ('vårdcentralen', 'i'),\n  ('och', 'c'),\n  ('förskulan', 'i'),\n  ('.', 'c')],\n [('Det', 'c'),\n  ('finnes', 'i'),\n  ('stor', 'c'),\n  ('skilnad', 'i'),\n  ('på', 'i'),\n  ('betydelse', 'i'),\n  ('till', 'i'),\n  ('familjen', 'c'),\n  ('för', 'i'),\n  ('då', 'c'),\n  ('och', 'c'),\n  ('nu', 'c'),\n  ('för', 'c'),\n  ('tiden', 'c'),\n  ('.', 'c')],\n ...]"
     },
     "execution_count": 61,
     "metadata": {},
     "output_type": "execute_result"
    }
   ]
  },
  {
   "cell_type": "markdown",
   "source": [
    "For a multilingual experiment, we are going to combine all the languages together. I'm not actually using this function for this implementation (I just tested on Italian)"
   ],
   "metadata": {
    "id": "e7TISyi6-q9Z",
    "pycharm": {
     "name": "#%% md\n"
    }
   }
  },
  {
   "cell_type": "code",
   "source": [
    "def combine_all_sentences(train_list, test_list):\n",
    "  \"\"\"\n",
    "  reads in all the files and combines them into giant lists of sents\n",
    "  For monolingual setting we will need to do some extra work here to keep track of languages\n",
    "  \"\"\"\n",
    "  train_sents = []\n",
    "  for fin in train_list:\n",
    "    # lang = fin.split(\"_\")[0]\n",
    "    sents = get_sentences(fin)\n",
    "    train_sents += sents\n",
    "  \n",
    "  test_sents = []\n",
    "  for fin in test_list:\n",
    "    # lang = fin.split(\"_\")[0]\n",
    "    sents = get_sentences(fin)\n",
    "    test_sents += sents\n",
    "\n",
    "  return train_sents, test_sents"
   ],
   "metadata": {
    "id": "Bv41BnM0-v2i",
    "pycharm": {
     "name": "#%%\n"
    }
   },
   "execution_count": 4,
   "outputs": []
  },
  {
   "cell_type": "code",
   "source": [
    "def list_to_dataset(sent_list):\n",
    "  \"\"\"This function takes a list of lines with each token paired with its label in a tuple\n",
    "  It returns a transformers dataset\n",
    "  \"\"\"\n",
    "  data_dicts = []\n",
    "  #we need an id value for a huggingface dataset\n",
    "  id = 0\n",
    "  for sent in sent_list:\n",
    "    sent_dict = {}\n",
    "    sent_dict['id'] = id\n",
    "    id += 1\n",
    "\n",
    "    tokens = [s[0] for s in sent]\n",
    "    labels = [s[1] for s in sent]\n",
    "\n",
    "    #convert \"c\" and \"i\" labels to numerical ones\n",
    "    nums = [label2id[t] for t in labels]\n",
    "    sent_dict[\"tokens\"] = tokens\n",
    "    sent_dict[\"labels\"] = nums\n",
    "    #append sentence dict to list\n",
    "    data_dicts.append(sent_dict)\n",
    "\n",
    "  #convert list of dictionaries into Dataset\n",
    "  combined_dataset = Dataset.from_list(data_dicts)\n",
    "\n",
    "  dataset = combined_dataset.train_test_split(test_size=0.2, shuffle=True, seed=34)\n",
    "\n",
    "  dataset[\"dev\"] = dataset[\"test\"]\n",
    "\n",
    "  del dataset[\"test\"]\n",
    "\n",
    "  return dataset"
   ],
   "metadata": {
    "id": "FiGAf63D5vt5",
    "pycharm": {
     "name": "#%%\n"
    }
   },
   "execution_count": 5,
   "outputs": []
  },
  {
   "cell_type": "code",
   "source": [
    "def tokenize_and_align_labels(examples):\n",
    "    tokenized_inputs = tokenizer(examples[\"tokens\"], truncation=True, is_split_into_words=True)\n",
    "\n",
    "    labels = []\n",
    "    for i, label in enumerate(examples[f\"labels\"]):\n",
    "        word_ids = tokenized_inputs.word_ids(batch_index=i)  # Map tokens to their respective word.\n",
    "        previous_word_idx = None\n",
    "        label_ids = []\n",
    "        for word_idx in word_ids:  # Set the special tokens to -100.\n",
    "            if word_idx is None:\n",
    "                label_ids.append(-100)\n",
    "            elif word_idx != previous_word_idx:  # Only label the first token of a given word.\n",
    "                label_ids.append(label[word_idx])\n",
    "            else:\n",
    "                label_ids.append(-100)\n",
    "            previous_word_idx = word_idx\n",
    "        labels.append(label_ids)\n",
    "\n",
    "    tokenized_inputs[\"labels\"] = labels\n",
    "    return tokenized_inputs"
   ],
   "metadata": {
    "id": "B989k8MRCkep",
    "pycharm": {
     "name": "#%%\n"
    }
   },
   "execution_count": 6,
   "outputs": []
  },
  {
   "cell_type": "markdown",
   "source": [
    "CHANGE HERE!!!!!!!!!!!!!!!!!!!!!!!"
   ],
   "metadata": {
    "collapsed": false,
    "pycharm": {
     "name": "#%% md\n"
    }
   }
  },
  {
   "cell_type": "code",
   "source": [
    "def create_files_from_dataset(dev_set):\n",
    "  \"\"\"\n",
    "  create ref and hyp files for eval script\n",
    "  this will write files to the colab directory, you can download them and then run eval.py\n",
    "  \"\"\"\n",
    "  predictions = trainer.predict(dev_set)\n",
    "  true_predictions, true_labels = return_predictions(predictions)\n",
    "  with open(\"output/czech/output_maj.tsv\", \"x\", encoding='utf-8') as maj_out:\n",
    "    with open(\"output/czech/output_ref.tsv\", \"x\", encoding='utf-8') as ref_out:\n",
    "      with open(\"output/czech/output_hyp.tsv\", \"x\", encoding='utf-8') as hyp_out:\n",
    "        for i in range(len(dev_set)):\n",
    "          tokens = dev_set[i][\"tokens\"]\n",
    "          labs = true_labels[i]\n",
    "          preds = true_predictions[i]\n",
    "          for j in range(len(tokens)):\n",
    "            tok = tokens[j]\n",
    "            p = preds[j]\n",
    "            l = labs[j]\n",
    "            ref_out.write(tok + \"\\t\" + l + \"\\n\")\n",
    "            hyp_out.write(tok + \"\\t\" + p + \"\\n\")\n",
    "            maj_out.write(tok + \"\\t\" + \"c\" + \"\\n\")\n",
    "          ref_out.write(\"\\n\")\n",
    "          hyp_out.write(\"\\n\")\n",
    "          maj_out.write(\"\\n\")\n",
    "\n",
    "  return\n"
   ],
   "metadata": {
    "id": "msaCu2ZN5gSN",
    "pycharm": {
     "name": "#%%\n"
    }
   },
   "execution_count": 44,
   "outputs": []
  },
  {
   "cell_type": "code",
   "source": [
    "def compute_metrics(p):\n",
    "    predictions, labels = p\n",
    "    predictions = np.argmax(predictions, axis=2)\n",
    "    true_predictions = [\n",
    "        [label_list[p] for (p, l) in zip(prediction, label) if l != -100]\n",
    "        for prediction, label in zip(predictions, labels)\n",
    "    ]\n",
    "    true_labels = [\n",
    "        [label_list[l] for (p, l) in zip(prediction, label) if l != -100]\n",
    "        for prediction, label in zip(predictions, labels)\n",
    "    ]\n",
    "    results = seqeval.compute(predictions=true_predictions, references=true_labels)\n",
    "    return {\n",
    "        \"precision\": results[\"overall_precision\"],\n",
    "        \"recall\": results[\"overall_recall\"],\n",
    "        \"f1\": results[\"overall_f1\"],\n",
    "        \"accuracy\": results[\"overall_accuracy\"],\n",
    "    }"
   ],
   "metadata": {
    "id": "pn-pA3pZGJzc",
    "pycharm": {
     "name": "#%%\n"
    }
   },
   "execution_count": 8,
   "outputs": []
  },
  {
   "cell_type": "code",
   "source": [
    "def return_predictions(p):\n",
    "    predictions, labels, metrics = p\n",
    "    predictions = np.argmax(predictions, axis=2)\n",
    "    true_predictions = [\n",
    "        [label_list[p] for (p, l) in zip(prediction, label) if l != -100]\n",
    "        for prediction, label in zip(predictions, labels)\n",
    "    ]\n",
    "    true_labels = [\n",
    "        [label_list[l] for (p, l) in zip(prediction, label) if l != -100]\n",
    "        for prediction, label in zip(predictions, labels)\n",
    "    ]\n",
    "    \n",
    "    return true_predictions, true_labels"
   ],
   "metadata": {
    "id": "IEBoe36LvSy6",
    "pycharm": {
     "name": "#%%\n"
    }
   },
   "execution_count": 9,
   "outputs": []
  },
  {
   "cell_type": "markdown",
   "source": [
    "Now that the functions are done, here is the actual experiment"
   ],
   "metadata": {
    "id": "xFVUhg_R5ix9",
    "pycharm": {
     "name": "#%% md\n"
    }
   }
  },
  {
   "cell_type": "code",
   "source": [
    "label_list = [\"i\",\"c\"]"
   ],
   "metadata": {
    "id": "pT9TE75vF4_T",
    "pycharm": {
     "name": "#%%\n"
    }
   },
   "execution_count": 10,
   "outputs": []
  },
  {
   "cell_type": "markdown",
   "source": [
    "CHANGE HERE!!!!!!!!!!!!!!!!!!!!!!!"
   ],
   "metadata": {
    "collapsed": false,
    "pycharm": {
     "name": "#%% md\n"
    }
   }
  },
  {
   "cell_type": "code",
   "source": [
    "tokenizer = AutoTokenizer.from_pretrained(\"UWB-AIR/Czert-B-base-cased\") #replace with mono"
   ],
   "metadata": {
    "id": "fSw2wuI4LdMr",
    "colab": {
     "base_uri": "https://localhost:8080/",
     "height": 145,
     "referenced_widgets": [
      "4158b19aed934c3ba36ea8584b17786c",
      "b97cb950697e49a0a8a991a3fe68e2ae",
      "9ec700797bbf42d995f4c451226e2c1e",
      "6bc74e25852c43c297d7cd5b7456e30f",
      "15ead0de26ba4504a471793ab973d742",
      "5c020ef2ee60415196d563cc4081f580",
      "35f7fca6f8d24508b6b3cf2a33d672f9",
      "88a25d651ea6491992eeaa3dc69c3d4b",
      "b743e06807d14d9b8aca219854a446e4",
      "06e2a3cbaf974c6084b940eaacf2a371",
      "6f205e50357f4e6b9ec0e96640308adb",
      "0e077260bdd240fd99aa0a2664ce318e",
      "3d1d267eb5fe4778874694cf7c72ac33",
      "aa955719eca34237892270f68ce3d42e",
      "038af479eac54f4ca18d0261bb2df93c",
      "114e56a612564bb8aae0b6811255a074",
      "93e44e53dec845b09ab476dbcff1b976",
      "44a2964ee206411c853e6005cf01bba5",
      "03996c88c2614022aea730d9715a1a1d",
      "2ace4c3f045246758212519cc8614421",
      "503e40f3d10b4f6ead0589bd1ca1a8e1",
      "e88c960081b64ab8bad1097bf9b15610",
      "8d814e3c7180475da41a0809040feacb",
      "a8afbbd80a0d4f66871430a0f2cffebe",
      "d92d32b76d844c22a93a5004a0311778",
      "08b26abd33924d6ba1573a028c13ff81",
      "5169cb5c8abd47e79baf11de9a859bef",
      "3b97ac0633b1469d83933c3985a07604",
      "982b4685a34d4c75acf205b129d7454a",
      "cb3fd701e52c4d6b96b021500eee04af",
      "835af136f13a4596b866e55605012680",
      "3a98020c62ce42c8b90f91f559400ab6",
      "05b1e70e887442718526ba24e197548f",
      "b774ec39394641f893d33ab90fcdf186",
      "4723319d4b644f92aa554c9e937e4b0d",
      "132a724606414cdcb61e6fad2c0cf230",
      "4ea849e90c79432ca61df8a44c2fc240",
      "d7d77e9c8acd45ec91a9cd764647b21d",
      "95aff9c786934bbeb70732c5a3e24f08",
      "6edc591de66c4dc1b20d49a3bf61d74c",
      "2b483e671b2d4f08b9c39da08ad4764c",
      "d06a319958084726882738b92190bf9d",
      "d17380dd195448528faaea0455ea29b6",
      "70cc268d95864d0298f9564130f1522b"
     ]
    },
    "outputId": "458d8210-2969-4b05-8ea8-95f21dce3c51",
    "pycharm": {
     "name": "#%%\n"
    }
   },
   "execution_count": 45,
   "outputs": []
  },
  {
   "cell_type": "code",
   "source": [
    "data_collator = DataCollatorForTokenClassification(tokenizer=tokenizer)"
   ],
   "metadata": {
    "id": "X9OuJ1dkVds8",
    "pycharm": {
     "name": "#%%\n"
    }
   },
   "execution_count": 13,
   "outputs": []
  },
  {
   "cell_type": "code",
   "source": [
    "seqeval = evaluate.load(\"seqeval\")"
   ],
   "metadata": {
    "id": "XWWukqSACSCx",
    "colab": {
     "base_uri": "https://localhost:8080/",
     "height": 49,
     "referenced_widgets": [
      "bcf24b13a06643ce9e121d8e264e6580",
      "79b526e12391479bbd71f5aa5586a991",
      "99444e4a05584ae0b51d038a97417a30",
      "71c4cc0c0af54521a9a8fe443ea5d063",
      "e80eeb28004541278b85ee88147731c6",
      "724f9331562c49cea3acc22303ebe05f",
      "cbc8b617311e4dc0a2b6c511b88879dc",
      "be00f7d313c146f9a97f63863421bc84",
      "3ce841861b26492cb2f32bff51667d1f",
      "72e6bf9a39174a48aa0b15befe2e7080",
      "3ffa2c02d43c4bc0bc2da0a46d9b65bb"
     ]
    },
    "outputId": "173a9f8a-6686-4f6d-ecc4-baf93cf3f8db",
    "pycharm": {
     "name": "#%%\n"
    }
   },
   "execution_count": 14,
   "outputs": []
  },
  {
   "cell_type": "markdown",
   "source": [
    "CHANGE HERE!!!!!!!!!!!!!!!!!!!!!!!"
   ],
   "metadata": {
    "collapsed": false,
    "pycharm": {
     "name": "#%% md\n"
    }
   }
  },
  {
   "cell_type": "code",
   "source": [
    "#replace with data\n",
    "sents = get_sentences(\"czech/cs_geccc_train.tsv\")\n",
    "dataset = list_to_dataset(sents)\n",
    "tokenized_dataset = dataset.map(tokenize_and_align_labels, batched=True)"
   ],
   "metadata": {
    "colab": {
     "base_uri": "https://localhost:8080/",
     "height": 17,
     "referenced_widgets": [
      "35c820c7d0b94f8497683aeefe172877",
      "0eabdff157d446f8b89ce055b42c31c7",
      "74798d09ced24aaca610f3fd6cc4ecbf",
      "012f72edf39c4574b161cb54192b6f76",
      "32ded4ffe9ca444db387e4063f0b8178",
      "11f16c77d83b431da87639974319a805",
      "e3702aa6a75b4681b6937d1ffa0233b9",
      "b87fe7c7526c432e94e777a57c23c26a",
      "6793ff0f940542019e293695ada7989a",
      "f195e5454190462cb7716fd74376998f",
      "e5076fdf46104aefba4a81121180b891",
      "d803ba65612544b48636a7f2bb92c610",
      "0f0632ecffa842b19ccf7665eb530fc8",
      "d417451cb8e84a3c8c38c441b5576c65",
      "6ab4ed3daa7243ebadfb838947128d22",
      "6fa039c5874c47d8a705a09c027b1ebf",
      "7a52d9409c594048be94005eb89efc5c",
      "28abba90e11d43bb9493484940ea70f4",
      "7ff8d74404c345698ce58322e89c92a6",
      "43e8024b8d5a48e08a4e108389edafd5",
      "2b56571f1e3e4008814eb0cfee326973",
      "d92e98bd42534e78892404d6ca373382"
     ]
    },
    "id": "8sEuRQRaCvNi",
    "outputId": "35ac378f-0f6c-4eb6-a227-07fc03a0eaf9",
    "pycharm": {
     "name": "#%%\n"
    }
   },
   "execution_count": 48,
   "outputs": [
    {
     "data": {
      "text/plain": "Map:   0%|          | 0/23836 [00:00<?, ? examples/s]",
      "application/vnd.jupyter.widget-view+json": {
       "version_major": 2,
       "version_minor": 0,
       "model_id": "ea8e41b568834d8da8c33751880cc08d"
      }
     },
     "metadata": {},
     "output_type": "display_data"
    },
    {
     "data": {
      "text/plain": "Map:   0%|          | 0/5959 [00:00<?, ? examples/s]",
      "application/vnd.jupyter.widget-view+json": {
       "version_major": 2,
       "version_minor": 0,
       "model_id": "24134bf6ec2c45b0b3dc45ebf7fdf102"
      }
     },
     "metadata": {},
     "output_type": "display_data"
    }
   ]
  },
  {
   "cell_type": "markdown",
   "source": [
    "CHANGE HERE!!!!!!!!!!!!!!!!!!!!!!!"
   ],
   "metadata": {
    "collapsed": false,
    "pycharm": {
     "name": "#%% md\n"
    }
   }
  },
  {
   "cell_type": "code",
   "source": [
    "model = AutoModelForTokenClassification.from_pretrained(\n",
    "    \"UWB-AIR/Czert-B-base-cased\", num_labels=2, id2label=id2label, label2id=label2id\n",
    ")"
   ],
   "metadata": {
    "id": "NsNrXG6YDHlh",
    "pycharm": {
     "name": "#%%\n"
    }
   },
   "execution_count": 49,
   "outputs": [
    {
     "name": "stderr",
     "output_type": "stream",
     "text": [
      "Some weights of the model checkpoint at UWB-AIR/Czert-B-base-cased were not used when initializing BertForTokenClassification: ['cls.predictions.transform.LayerNorm.weight', 'cls.predictions.transform.dense.weight', 'cls.predictions.transform.dense.bias', 'cls.seq_relationship.weight', 'cls.predictions.transform.LayerNorm.bias', 'cls.predictions.bias', 'cls.predictions.decoder.bias', 'cls.predictions.decoder.weight', 'cls.seq_relationship.bias']\n",
      "- This IS expected if you are initializing BertForTokenClassification from the checkpoint of a model trained on another task or with another architecture (e.g. initializing a BertForSequenceClassification model from a BertForPreTraining model).\n",
      "- This IS NOT expected if you are initializing BertForTokenClassification from the checkpoint of a model that you expect to be exactly identical (initializing a BertForSequenceClassification model from a BertForSequenceClassification model).\n",
      "Some weights of BertForTokenClassification were not initialized from the model checkpoint at UWB-AIR/Czert-B-base-cased and are newly initialized: ['classifier.weight', 'classifier.bias']\n",
      "You should probably TRAIN this model on a down-stream task to be able to use it for predictions and inference.\n"
     ]
    }
   ]
  },
  {
   "cell_type": "markdown",
   "source": [
    "CHANGE HERE!!!!!!!!!!!!!!!!!!!!!!!"
   ],
   "metadata": {
    "collapsed": false,
    "pycharm": {
     "name": "#%% md\n"
    }
   }
  },
  {
   "cell_type": "code",
   "source": [
    "training_args = TrainingArguments(\n",
    "    output_dir=\"czech_model\",\n",
    "    learning_rate=1e-6,\n",
    "    per_device_train_batch_size=8,\n",
    "    per_device_eval_batch_size=8,\n",
    "    num_train_epochs=6,\n",
    "    weight_decay=0.02,\n",
    "    evaluation_strategy=\"epoch\",\n",
    "    save_strategy=\"epoch\",\n",
    "    load_best_model_at_end=True,\n",
    "    push_to_hub=False\n",
    ")"
   ],
   "metadata": {
    "id": "Xo3fKnsFDMBa",
    "pycharm": {
     "name": "#%%\n"
    }
   },
   "execution_count": 50,
   "outputs": []
  },
  {
   "cell_type": "code",
   "source": [
    "trainer = Trainer(\n",
    "    model=model,\n",
    "    args=training_args,\n",
    "    train_dataset=tokenized_dataset[\"train\"],\n",
    "    eval_dataset=tokenized_dataset[\"dev\"],\n",
    "    tokenizer=tokenizer,\n",
    "    data_collator=data_collator,\n",
    "    compute_metrics=compute_metrics\n",
    ")"
   ],
   "metadata": {
    "id": "oXKQX2ItDTJp",
    "pycharm": {
     "name": "#%%\n"
    }
   },
   "execution_count": 51,
   "outputs": []
  },
  {
   "cell_type": "code",
   "source": [
    "trainer.train()"
   ],
   "metadata": {
    "id": "1wfHTC-1DaVi",
    "pycharm": {
     "name": "#%%\n"
    }
   },
   "execution_count": 52,
   "outputs": [
    {
     "name": "stderr",
     "output_type": "stream",
     "text": [
      "C:\\Users\\neuma\\AppData\\Local\\Programs\\Python\\Python310\\lib\\site-packages\\transformers\\optimization.py:391: FutureWarning: This implementation of AdamW is deprecated and will be removed in a future version. Use the PyTorch implementation torch.optim.AdamW instead, or set `no_deprecation_warning=True` to disable this warning\n",
      "  warnings.warn(\n"
     ]
    },
    {
     "data": {
      "text/plain": "<IPython.core.display.HTML object>",
      "text/html": "\n    <div>\n      \n      <progress value='2' max='17880' style='width:300px; height:20px; vertical-align: middle;'></progress>\n      [    2/17880 : < :, Epoch 0.00/6]\n    </div>\n    <table border=\"1\" class=\"dataframe\">\n  <thead>\n <tr style=\"text-align: left;\">\n      <th>Epoch</th>\n      <th>Training Loss</th>\n      <th>Validation Loss</th>\n    </tr>\n  </thead>\n  <tbody>\n  </tbody>\n</table><p>"
     },
     "metadata": {},
     "output_type": "display_data"
    },
    {
     "name": "stderr",
     "output_type": "stream",
     "text": [
      "C:\\Users\\neuma\\AppData\\Local\\Programs\\Python\\Python310\\lib\\site-packages\\seqeval\\metrics\\sequence_labeling.py:171: UserWarning: c seems not to be NE tag.\n",
      "  warnings.warn('{} seems not to be NE tag.'.format(chunk))\n",
      "C:\\Users\\neuma\\AppData\\Local\\Programs\\Python\\Python310\\lib\\site-packages\\seqeval\\metrics\\sequence_labeling.py:171: UserWarning: i seems not to be NE tag.\n",
      "  warnings.warn('{} seems not to be NE tag.'.format(chunk))\n",
      "C:\\Users\\neuma\\AppData\\Local\\Programs\\Python\\Python310\\lib\\site-packages\\seqeval\\metrics\\v1.py:57: UndefinedMetricWarning: Precision and F-score are ill-defined and being set to 0.0 due to no predicted samples. Use `zero_division` parameter to control this behavior.\n",
      "  _warn_prf(average, modifier, msg_start, len(result))\n",
      "C:\\Users\\neuma\\AppData\\Local\\Programs\\Python\\Python310\\lib\\site-packages\\seqeval\\metrics\\v1.py:57: UndefinedMetricWarning: Recall and F-score are ill-defined and being set to 0.0 due to no true samples. Use `zero_division` parameter to control this behavior.\n",
      "  _warn_prf(average, modifier, msg_start, len(result))\n",
      "C:\\Users\\neuma\\AppData\\Local\\Programs\\Python\\Python310\\lib\\site-packages\\numpy\\lib\\function_base.py:518: RuntimeWarning: Mean of empty slice.\n",
      "  avg = a.mean(axis, **keepdims_kw)\n",
      "C:\\Users\\neuma\\AppData\\Local\\Programs\\Python\\Python310\\lib\\site-packages\\numpy\\core\\_methods.py:190: RuntimeWarning: invalid value encountered in double_scalars\n",
      "  ret = ret.dtype.type(ret / rcount)\n",
      "C:\\Users\\neuma\\AppData\\Local\\Programs\\Python\\Python310\\lib\\site-packages\\seqeval\\metrics\\sequence_labeling.py:171: UserWarning: c seems not to be NE tag.\n",
      "  warnings.warn('{} seems not to be NE tag.'.format(chunk))\n",
      "C:\\Users\\neuma\\AppData\\Local\\Programs\\Python\\Python310\\lib\\site-packages\\seqeval\\metrics\\sequence_labeling.py:171: UserWarning: i seems not to be NE tag.\n",
      "  warnings.warn('{} seems not to be NE tag.'.format(chunk))\n",
      "C:\\Users\\neuma\\AppData\\Local\\Programs\\Python\\Python310\\lib\\site-packages\\seqeval\\metrics\\v1.py:57: UndefinedMetricWarning: Precision and F-score are ill-defined and being set to 0.0 due to no predicted samples. Use `zero_division` parameter to control this behavior.\n",
      "  _warn_prf(average, modifier, msg_start, len(result))\n",
      "C:\\Users\\neuma\\AppData\\Local\\Programs\\Python\\Python310\\lib\\site-packages\\seqeval\\metrics\\v1.py:57: UndefinedMetricWarning: Recall and F-score are ill-defined and being set to 0.0 due to no true samples. Use `zero_division` parameter to control this behavior.\n",
      "  _warn_prf(average, modifier, msg_start, len(result))\n",
      "C:\\Users\\neuma\\AppData\\Local\\Programs\\Python\\Python310\\lib\\site-packages\\numpy\\lib\\function_base.py:518: RuntimeWarning: Mean of empty slice.\n",
      "  avg = a.mean(axis, **keepdims_kw)\n",
      "C:\\Users\\neuma\\AppData\\Local\\Programs\\Python\\Python310\\lib\\site-packages\\numpy\\core\\_methods.py:190: RuntimeWarning: invalid value encountered in double_scalars\n",
      "  ret = ret.dtype.type(ret / rcount)\n",
      "C:\\Users\\neuma\\AppData\\Local\\Programs\\Python\\Python310\\lib\\site-packages\\seqeval\\metrics\\sequence_labeling.py:171: UserWarning: c seems not to be NE tag.\n",
      "  warnings.warn('{} seems not to be NE tag.'.format(chunk))\n",
      "C:\\Users\\neuma\\AppData\\Local\\Programs\\Python\\Python310\\lib\\site-packages\\seqeval\\metrics\\sequence_labeling.py:171: UserWarning: i seems not to be NE tag.\n",
      "  warnings.warn('{} seems not to be NE tag.'.format(chunk))\n",
      "C:\\Users\\neuma\\AppData\\Local\\Programs\\Python\\Python310\\lib\\site-packages\\seqeval\\metrics\\v1.py:57: UndefinedMetricWarning: Precision and F-score are ill-defined and being set to 0.0 due to no predicted samples. Use `zero_division` parameter to control this behavior.\n",
      "  _warn_prf(average, modifier, msg_start, len(result))\n",
      "C:\\Users\\neuma\\AppData\\Local\\Programs\\Python\\Python310\\lib\\site-packages\\seqeval\\metrics\\v1.py:57: UndefinedMetricWarning: Recall and F-score are ill-defined and being set to 0.0 due to no true samples. Use `zero_division` parameter to control this behavior.\n",
      "  _warn_prf(average, modifier, msg_start, len(result))\n",
      "C:\\Users\\neuma\\AppData\\Local\\Programs\\Python\\Python310\\lib\\site-packages\\numpy\\lib\\function_base.py:518: RuntimeWarning: Mean of empty slice.\n",
      "  avg = a.mean(axis, **keepdims_kw)\n",
      "C:\\Users\\neuma\\AppData\\Local\\Programs\\Python\\Python310\\lib\\site-packages\\numpy\\core\\_methods.py:190: RuntimeWarning: invalid value encountered in double_scalars\n",
      "  ret = ret.dtype.type(ret / rcount)\n",
      "C:\\Users\\neuma\\AppData\\Local\\Programs\\Python\\Python310\\lib\\site-packages\\seqeval\\metrics\\sequence_labeling.py:171: UserWarning: c seems not to be NE tag.\n",
      "  warnings.warn('{} seems not to be NE tag.'.format(chunk))\n",
      "C:\\Users\\neuma\\AppData\\Local\\Programs\\Python\\Python310\\lib\\site-packages\\seqeval\\metrics\\sequence_labeling.py:171: UserWarning: i seems not to be NE tag.\n",
      "  warnings.warn('{} seems not to be NE tag.'.format(chunk))\n",
      "C:\\Users\\neuma\\AppData\\Local\\Programs\\Python\\Python310\\lib\\site-packages\\seqeval\\metrics\\v1.py:57: UndefinedMetricWarning: Precision and F-score are ill-defined and being set to 0.0 due to no predicted samples. Use `zero_division` parameter to control this behavior.\n",
      "  _warn_prf(average, modifier, msg_start, len(result))\n",
      "C:\\Users\\neuma\\AppData\\Local\\Programs\\Python\\Python310\\lib\\site-packages\\seqeval\\metrics\\v1.py:57: UndefinedMetricWarning: Recall and F-score are ill-defined and being set to 0.0 due to no true samples. Use `zero_division` parameter to control this behavior.\n",
      "  _warn_prf(average, modifier, msg_start, len(result))\n",
      "C:\\Users\\neuma\\AppData\\Local\\Programs\\Python\\Python310\\lib\\site-packages\\numpy\\lib\\function_base.py:518: RuntimeWarning: Mean of empty slice.\n",
      "  avg = a.mean(axis, **keepdims_kw)\n",
      "C:\\Users\\neuma\\AppData\\Local\\Programs\\Python\\Python310\\lib\\site-packages\\numpy\\core\\_methods.py:190: RuntimeWarning: invalid value encountered in double_scalars\n",
      "  ret = ret.dtype.type(ret / rcount)\n",
      "C:\\Users\\neuma\\AppData\\Local\\Programs\\Python\\Python310\\lib\\site-packages\\seqeval\\metrics\\sequence_labeling.py:171: UserWarning: c seems not to be NE tag.\n",
      "  warnings.warn('{} seems not to be NE tag.'.format(chunk))\n",
      "C:\\Users\\neuma\\AppData\\Local\\Programs\\Python\\Python310\\lib\\site-packages\\seqeval\\metrics\\sequence_labeling.py:171: UserWarning: i seems not to be NE tag.\n",
      "  warnings.warn('{} seems not to be NE tag.'.format(chunk))\n",
      "C:\\Users\\neuma\\AppData\\Local\\Programs\\Python\\Python310\\lib\\site-packages\\seqeval\\metrics\\v1.py:57: UndefinedMetricWarning: Precision and F-score are ill-defined and being set to 0.0 due to no predicted samples. Use `zero_division` parameter to control this behavior.\n",
      "  _warn_prf(average, modifier, msg_start, len(result))\n",
      "C:\\Users\\neuma\\AppData\\Local\\Programs\\Python\\Python310\\lib\\site-packages\\seqeval\\metrics\\v1.py:57: UndefinedMetricWarning: Recall and F-score are ill-defined and being set to 0.0 due to no true samples. Use `zero_division` parameter to control this behavior.\n",
      "  _warn_prf(average, modifier, msg_start, len(result))\n",
      "C:\\Users\\neuma\\AppData\\Local\\Programs\\Python\\Python310\\lib\\site-packages\\numpy\\lib\\function_base.py:518: RuntimeWarning: Mean of empty slice.\n",
      "  avg = a.mean(axis, **keepdims_kw)\n",
      "C:\\Users\\neuma\\AppData\\Local\\Programs\\Python\\Python310\\lib\\site-packages\\numpy\\core\\_methods.py:190: RuntimeWarning: invalid value encountered in double_scalars\n",
      "  ret = ret.dtype.type(ret / rcount)\n",
      "C:\\Users\\neuma\\AppData\\Local\\Programs\\Python\\Python310\\lib\\site-packages\\seqeval\\metrics\\sequence_labeling.py:171: UserWarning: c seems not to be NE tag.\n",
      "  warnings.warn('{} seems not to be NE tag.'.format(chunk))\n",
      "C:\\Users\\neuma\\AppData\\Local\\Programs\\Python\\Python310\\lib\\site-packages\\seqeval\\metrics\\sequence_labeling.py:171: UserWarning: i seems not to be NE tag.\n",
      "  warnings.warn('{} seems not to be NE tag.'.format(chunk))\n",
      "C:\\Users\\neuma\\AppData\\Local\\Programs\\Python\\Python310\\lib\\site-packages\\seqeval\\metrics\\v1.py:57: UndefinedMetricWarning: Precision and F-score are ill-defined and being set to 0.0 due to no predicted samples. Use `zero_division` parameter to control this behavior.\n",
      "  _warn_prf(average, modifier, msg_start, len(result))\n",
      "C:\\Users\\neuma\\AppData\\Local\\Programs\\Python\\Python310\\lib\\site-packages\\seqeval\\metrics\\v1.py:57: UndefinedMetricWarning: Recall and F-score are ill-defined and being set to 0.0 due to no true samples. Use `zero_division` parameter to control this behavior.\n",
      "  _warn_prf(average, modifier, msg_start, len(result))\n",
      "C:\\Users\\neuma\\AppData\\Local\\Programs\\Python\\Python310\\lib\\site-packages\\numpy\\lib\\function_base.py:518: RuntimeWarning: Mean of empty slice.\n",
      "  avg = a.mean(axis, **keepdims_kw)\n",
      "C:\\Users\\neuma\\AppData\\Local\\Programs\\Python\\Python310\\lib\\site-packages\\numpy\\core\\_methods.py:190: RuntimeWarning: invalid value encountered in double_scalars\n",
      "  ret = ret.dtype.type(ret / rcount)\n"
     ]
    },
    {
     "data": {
      "text/plain": "TrainOutput(global_step=17880, training_loss=0.26480077107747396, metrics={'train_runtime': 4423.6801, 'train_samples_per_second': 32.33, 'train_steps_per_second': 4.042, 'total_flos': 2355910758778224.0, 'train_loss': 0.26480077107747396, 'epoch': 6.0})"
     },
     "execution_count": 52,
     "metadata": {},
     "output_type": "execute_result"
    }
   ]
  },
  {
   "cell_type": "code",
   "source": [
    "# predictions = trainer.predict(tokenized_dataset[\"dev\"])"
   ],
   "metadata": {
    "id": "IiYPFfvRDePy",
    "pycharm": {
     "name": "#%%\n"
    }
   },
   "execution_count": null,
   "outputs": []
  },
  {
   "cell_type": "code",
   "source": [
    "# true_predictions, true_labels = return_predictions(predictions)\n"
   ],
   "metadata": {
    "id": "qWLSNoF3tzzg",
    "pycharm": {
     "name": "#%%\n"
    }
   },
   "execution_count": null,
   "outputs": []
  },
  {
   "cell_type": "code",
   "source": [
    "# tokenized_dataset[\"dev\"][0]"
   ],
   "metadata": {
    "colab": {
     "base_uri": "https://localhost:8080/"
    },
    "id": "8qxzb3AU1d66",
    "outputId": "f2e58450-bb26-45b1-cbe0-49cf26b3ebb8",
    "pycharm": {
     "name": "#%%\n"
    }
   },
   "execution_count": null,
   "outputs": [
    {
     "output_type": "execute_result",
     "data": {
      "text/plain": [
       "{'id': 3419,\n",
       " 'tokens': ['So', 'non', 'posso', '.'],\n",
       " 'labels': [-100, 0, 0, 1, -100, 1, -100],\n",
       " 'input_ids': [101, 12882, 10446, 39327, 11669, 119, 102],\n",
       " 'token_type_ids': [0, 0, 0, 0, 0, 0, 0],\n",
       " 'attention_mask': [1, 1, 1, 1, 1, 1, 1]}"
      ]
     },
     "metadata": {},
     "execution_count": 69
    }
   ]
  },
  {
   "cell_type": "code",
   "source": [
    "# count = 0\n",
    "# for i in true_predictions:\n",
    "#   for x in i:\n",
    "#     if x == \"i\":\n",
    "#       count += 1\n",
    "\n",
    "# true_count = 0\n",
    "# for j in true_labels:\n",
    "#   for y in j:\n",
    "#     if y == \"i\":\n",
    "#       true_count += 1"
   ],
   "metadata": {
    "id": "b6mm1ViIt6ac",
    "pycharm": {
     "name": "#%%\n"
    }
   },
   "execution_count": null,
   "outputs": []
  },
  {
   "cell_type": "markdown",
   "source": [
    "CHANGE HERE!!!!!!!!!!!!!!!!!!!!!!!"
   ],
   "metadata": {
    "collapsed": false,
    "pycharm": {
     "name": "#%% md\n"
    }
   }
  },
  {
   "cell_type": "code",
   "source": [
    "def create_files_from_dataset(dev_set):\n",
    "  \"\"\"\n",
    "  create ref and hyp files for eval script\n",
    "  this will write files to the colab directory, you can download them and then run eval.py\n",
    "  \"\"\"\n",
    "  predictions = trainer.predict(dev_set)\n",
    "  true_predictions, true_labels = return_predictions(predictions)\n",
    "  with open(\"output/czech/output_maj.tsv\", \"x\", encoding='utf-8') as maj_out:\n",
    "    with open(\"output/czech/output_ref.tsv\", \"x\", encoding='utf-8') as ref_out:\n",
    "      with open(\"output/czech/output_hyp.tsv\", \"x\", encoding='utf-8') as hyp_out:\n",
    "        for i in range(len(dev_set)):\n",
    "          tokens = dev_set[i][\"tokens\"]\n",
    "          labs = true_labels[i]\n",
    "          preds = true_predictions[i]\n",
    "          for j in range(len(tokens)):\n",
    "            tok = tokens[j]\n",
    "            p = preds[j]\n",
    "            l = labs[j]\n",
    "            ref_out.write(tok + \"\\t\" + l + \"\\n\")\n",
    "            hyp_out.write(tok + \"\\t\" + p + \"\\n\")\n",
    "            maj_out.write(tok + \"\\t\" + \"c\" + \"\\n\")\n",
    "          ref_out.write(\"\\n\")\n",
    "          hyp_out.write(\"\\n\")\n",
    "          maj_out.write(\"\\n\")\n",
    "\n",
    "  return\n"
   ],
   "metadata": {
    "id": "aXg0jW3X1LSl",
    "pycharm": {
     "name": "#%%\n"
    }
   },
   "execution_count": 53,
   "outputs": []
  },
  {
   "cell_type": "code",
   "source": [
    "create_files_from_dataset(tokenized_dataset[\"dev\"])"
   ],
   "metadata": {
    "id": "i7GAztgZ1vas",
    "pycharm": {
     "name": "#%%\n"
    }
   },
   "execution_count": 54,
   "outputs": [
    {
     "data": {
      "text/plain": "<IPython.core.display.HTML object>",
      "text/html": "\n    <div>\n      \n      <progress value='1' max='745' style='width:300px; height:20px; vertical-align: middle;'></progress>\n      [  1/745 : < :]\n    </div>\n    "
     },
     "metadata": {},
     "output_type": "display_data"
    },
    {
     "name": "stderr",
     "output_type": "stream",
     "text": [
      "C:\\Users\\neuma\\AppData\\Local\\Programs\\Python\\Python310\\lib\\site-packages\\seqeval\\metrics\\sequence_labeling.py:171: UserWarning: c seems not to be NE tag.\n",
      "  warnings.warn('{} seems not to be NE tag.'.format(chunk))\n",
      "C:\\Users\\neuma\\AppData\\Local\\Programs\\Python\\Python310\\lib\\site-packages\\seqeval\\metrics\\sequence_labeling.py:171: UserWarning: i seems not to be NE tag.\n",
      "  warnings.warn('{} seems not to be NE tag.'.format(chunk))\n",
      "C:\\Users\\neuma\\AppData\\Local\\Programs\\Python\\Python310\\lib\\site-packages\\seqeval\\metrics\\v1.py:57: UndefinedMetricWarning: Precision and F-score are ill-defined and being set to 0.0 due to no predicted samples. Use `zero_division` parameter to control this behavior.\n",
      "  _warn_prf(average, modifier, msg_start, len(result))\n",
      "C:\\Users\\neuma\\AppData\\Local\\Programs\\Python\\Python310\\lib\\site-packages\\seqeval\\metrics\\v1.py:57: UndefinedMetricWarning: Recall and F-score are ill-defined and being set to 0.0 due to no true samples. Use `zero_division` parameter to control this behavior.\n",
      "  _warn_prf(average, modifier, msg_start, len(result))\n",
      "C:\\Users\\neuma\\AppData\\Local\\Programs\\Python\\Python310\\lib\\site-packages\\numpy\\lib\\function_base.py:518: RuntimeWarning: Mean of empty slice.\n",
      "  avg = a.mean(axis, **keepdims_kw)\n",
      "C:\\Users\\neuma\\AppData\\Local\\Programs\\Python\\Python310\\lib\\site-packages\\numpy\\core\\_methods.py:190: RuntimeWarning: invalid value encountered in double_scalars\n",
      "  ret = ret.dtype.type(ret / rcount)\n"
     ]
    }
   ]
  },
  {
   "cell_type": "markdown",
   "source": [
    "So I just tested the results on italian so far, but the architecture would remain the same for the multilingual setting just with different models."
   ],
   "metadata": {
    "id": "uDGk47SK5BAQ",
    "pycharm": {
     "name": "#%% md\n"
    }
   }
  },
  {
   "cell_type": "markdown",
   "source": [
    "![italian_results.jpg](data:image/jpeg;base64,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)"
   ],
   "metadata": {
    "id": "wURC5BtC5W8v",
    "pycharm": {
     "name": "#%% md\n"
    }
   }
  }
 ]
}